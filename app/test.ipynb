{
 "cells": [
  {
   "cell_type": "code",
   "execution_count": 27,
   "metadata": {
    "ExecuteTime": {
     "end_time": "2023-05-26T21:00:00.144067Z",
     "start_time": "2023-05-26T21:00:00.034932Z"
    }
   },
   "outputs": [],
   "source": [
    "# Libraries\n",
    "import os, sys\n",
    "\n",
    "%reload_ext autoreload\n",
    "%autoreload 2\n",
    "module_path = os.path.abspath(os.path.join('.'))\n",
    "if module_path not in sys.path:\n",
    "    sys.path.append(module_path)"
   ]
  },
  {
   "cell_type": "code",
   "execution_count": 28,
   "metadata": {
    "ExecuteTime": {
     "end_time": "2023-05-26T21:00:00.795116Z",
     "start_time": "2023-05-26T21:00:00.431272Z"
    }
   },
   "outputs": [
    {
     "data": {
      "text/plain": "{'generations': 500,\n 'duration': '0:00:00.258086',\n 'best_fitness': 28,\n 'best_fitness_percentage': 100.0,\n 'best_representation': [5, 3, 0, 4, 7, 1, 6, 2],\n 'worst_fitness': 28,\n 'worst_representation': [5, 3, 0, 4, 7, 1, 6, 2],\n 'mean_fitness': 28.0,\n 'selection_operator': 'tournament_selection',\n 'mutate_operator': 'inversion_mutation',\n 'crossover_operator': 'single_point_co'}"
     },
     "execution_count": 28,
     "metadata": {},
     "output_type": "execute_result"
    }
   ],
   "source": [
    "from app.nqueens import NQueensGeneticAlgorithm\n",
    "\n",
    "nQueensGA = NQueensGeneticAlgorithm(population_size=100, dimension=8)\n",
    "\n",
    "nQueensGA.run(\n",
    "    generations=500,\n",
    "    mutation_probability=0.02,\n",
    "    crossover_probability=0.8,\n",
    "    mutation_operator=\"inversion_mutation\",\n",
    "    crossover_operator=\"single_cross\",\n",
    "    selection_operator=\"tournament_selection\"\n",
    ")\n",
    "\n",
    "nQueensGA.report()"
   ]
  },
  {
   "cell_type": "code",
   "execution_count": null,
   "outputs": [],
   "source": [],
   "metadata": {
    "collapsed": false
   }
  }
 ],
 "metadata": {
  "kernelspec": {
   "display_name": "CIFO",
   "language": "python",
   "name": "python3"
  },
  "language_info": {
   "codemirror_mode": {
    "name": "ipython",
    "version": 3
   },
   "file_extension": ".py",
   "mimetype": "text/x-python",
   "name": "python",
   "nbconvert_exporter": "python",
   "pygments_lexer": "ipython3",
   "version": "3.11.3"
  },
  "orig_nbformat": 4
 },
 "nbformat": 4,
 "nbformat_minor": 2
}
