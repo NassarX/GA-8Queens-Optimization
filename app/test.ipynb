{
 "cells": [
  {
   "cell_type": "code",
   "execution_count": 1,
   "metadata": {
    "ExecuteTime": {
     "end_time": "2023-05-26T21:00:00.144067Z",
     "start_time": "2023-05-26T21:00:00.034932Z"
    }
   },
   "outputs": [],
   "source": [
    "# Magic comands\n",
    "%reload_ext autoreload\n",
    "%autoreload 2\n",
    "\n",
    "# Libraries\n",
    "import re\n",
    "import numpy as np\n",
    "import pandas as pd\n",
    "import os, sys, webcolors\n",
    "import plotly.express as px\n",
    "from datetime import datetime\n",
    "import plotly.graph_objects as go\n",
    "\n",
    "module_path = os.path.abspath(os.path.join('.'))\n",
    "if module_path not in sys.path:\n",
    "    sys.path.append(module_path)\n",
    "\n",
    "origin_path = os.getcwd()\n",
    "parent_dir = os.path.abspath(os.path.join(origin_path, os.pardir))\n",
    "os.chdir(parent_dir)\n",
    "\n",
    "from app.nqueens import NQueensGeneticAlgorithm, NQueensBacktracking, NQueensHillClimbing, NQueensSimulatedAnnealing"
   ]
  },
  {
   "attachments": {},
   "cell_type": "markdown",
   "metadata": {},
   "source": [
    "## __1. Algorithm Functions__"
   ]
  },
  {
   "attachments": {},
   "cell_type": "markdown",
   "metadata": {},
   "source": [
    "### __1.1 Backtracking__"
   ]
  },
  {
   "cell_type": "code",
   "execution_count": 2,
   "metadata": {},
   "outputs": [],
   "source": [
    "def backtracking_algorithm(n= 8):\n",
    "    start_time = datetime.now()\n",
    "    backtracking = NQueensBacktracking()\n",
    "    results = backtracking.solveNQueens(n)\n",
    "    end_time = datetime.now()\n",
    "    execution_time = int((end_time - start_time).total_seconds() * 1000)\n",
    "\n",
    "    return {'dimensions': n, 'duration': execution_time}"
   ]
  },
  {
   "cell_type": "code",
   "execution_count": 3,
   "metadata": {},
   "outputs": [
    {
     "data": {
      "text/plain": [
       "{'dimensions': 12, 'duration': 1003}"
      ]
     },
     "execution_count": 3,
     "metadata": {},
     "output_type": "execute_result"
    }
   ],
   "source": [
    "# testing\n",
    "ba = backtracking_algorithm(n = 12)\n",
    "\n",
    "ba"
   ]
  },
  {
   "attachments": {},
   "cell_type": "markdown",
   "metadata": {},
   "source": [
    "### __1.2 Hill Climbing__"
   ]
  },
  {
   "cell_type": "code",
   "execution_count": 4,
   "metadata": {},
   "outputs": [],
   "source": [
    "def hill_climbing(n=8):\n",
    "    nQueensHC = NQueensHillClimbing(dimension=n)\n",
    "    nQueensHC.run()\n",
    "    return nQueensHC.report()\n"
   ]
  },
  {
   "cell_type": "code",
   "execution_count": 5,
   "metadata": {},
   "outputs": [
    {
     "data": {
      "text/plain": [
       "{'duration': 78,\n",
       " 'best_fitness': 64,\n",
       " 'best_fitness_percentage': 96.96969696969697,\n",
       " 'best_representation': [4, 0, 7, 5, 1, 11, 9, 8, 2, 2, 10, 6]}"
      ]
     },
     "execution_count": 5,
     "metadata": {},
     "output_type": "execute_result"
    }
   ],
   "source": [
    "# testing\n",
    "hc = hill_climbing(n = 12)\n",
    "\n",
    "hc"
   ]
  },
  {
   "attachments": {},
   "cell_type": "markdown",
   "metadata": {},
   "source": [
    "### __1.3 Simulated Annealing__"
   ]
  },
  {
   "cell_type": "code",
   "execution_count": 6,
   "metadata": {},
   "outputs": [],
   "source": [
    "def sim_annealing(n=8):\n",
    "    nQueensSA = NQueensSimulatedAnnealing(dimension=n)\n",
    "    nQueensSA.run()\n",
    "    return nQueensSA.report()\n"
   ]
  },
  {
   "cell_type": "code",
   "execution_count": 7,
   "metadata": {},
   "outputs": [
    {
     "data": {
      "text/plain": [
       "{'duration': 1529,\n",
       " 'best_fitness': 65,\n",
       " 'best_fitness_percentage': 98.48484848484848,\n",
       " 'best_representation': [3, 5, 8, 2, 4, 10, 1, 7, 9, 11, 6, 0]}"
      ]
     },
     "execution_count": 7,
     "metadata": {},
     "output_type": "execute_result"
    }
   ],
   "source": [
    "# testing\n",
    "sa = sim_annealing(n = 12)\n",
    "\n",
    "sa"
   ]
  },
  {
   "attachments": {},
   "cell_type": "markdown",
   "metadata": {},
   "source": [
    "### __1.4 Genetic Algorithm__"
   ]
  },
  {
   "cell_type": "code",
   "execution_count": 8,
   "metadata": {
    "ExecuteTime": {
     "end_time": "2023-05-26T21:07:48.633803Z",
     "start_time": "2023-05-26T21:07:48.277270Z"
    }
   },
   "outputs": [],
   "source": [
    "def genetic_algorithm(\n",
    "                    n = 12,\n",
    "                    pop = 100,\n",
    "                    gen = 50,\n",
    "                    mut_perc = .05, # .01 .1\n",
    "                    cross_perc = .75, # .6 to .9\n",
    "                    mut='random_mutation',\n",
    "                    cross='single_cross',\n",
    "                    select='tournament_selection',\n",
    "                    ):\n",
    "    \n",
    "    nQueensGA = NQueensGeneticAlgorithm(population_size=pop, dimension=n)\n",
    "\n",
    "    nQueensGA.run(\n",
    "        generations=gen,\n",
    "        mutation_probability=mut_perc,\n",
    "        crossover_probability=cross_perc,\n",
    "        mutation_operator=mut,\n",
    "        crossover_operator=cross,\n",
    "        selection_operator=select\n",
    "    )\n",
    "\n",
    "    return nQueensGA.report()"
   ]
  },
  {
   "cell_type": "code",
   "execution_count": 9,
   "metadata": {
    "collapsed": false
   },
   "outputs": [
    {
     "data": {
      "text/plain": [
       "{'generations': 100,\n",
       " 'duration': 408,\n",
       " 'best_fitness': 28,\n",
       " 'best_fitness_percentage': 100.0,\n",
       " 'best_representation': [1, 4, 0, 6, 5, 2, 7, 3],\n",
       " 'worst_fitness': 28,\n",
       " 'worst_representation': [1, 4, 0, 6, 5, 2, 7, 3],\n",
       " 'mean_fitness': 28.0,\n",
       " 'selection_operator': 'fps',\n",
       " 'mutate_operator': 'swap_mutation',\n",
       " 'crossover_operator': 'pmx'}"
      ]
     },
     "execution_count": 9,
     "metadata": {},
     "output_type": "execute_result"
    }
   ],
   "source": [
    "# testing function\n",
    "ga = genetic_algorithm(\n",
    "                                            n = 8,\n",
    "                                            pop = 200,\n",
    "                                            gen = 100,\n",
    "                                            mut_perc = .05,\n",
    "                                            cross_perc = .75,\n",
    "                                            mut = \"swap_mutation\",\n",
    "                                            cross = \"pmx\",\n",
    "                                            select = \"fps\"\n",
    "                                            )\n",
    "ga"
   ]
  },
  {
   "attachments": {},
   "cell_type": "markdown",
   "metadata": {},
   "source": [
    "## __1. Operators & Paramaters Optimization__"
   ]
  },
  {
   "cell_type": "code",
   "execution_count": 10,
   "metadata": {},
   "outputs": [],
   "source": [
    "# dictionary with parameter names and default values \n",
    "defaults = genetic_algorithm.__defaults__\n",
    "parameters = genetic_algorithm.__code__.co_varnames\n",
    "params = {param: val for param, val in zip(parameters, defaults)}\n",
    "\n",
    "# color list for plots\n",
    "color_palette = ['gray', 'steelblue', 'purple', 'darkgray', 'lightgray', 'slategray', 'cornflowerblue', 'lavender', 'powderblue']"
   ]
  },
  {
   "cell_type": "code",
   "execution_count": 11,
   "metadata": {},
   "outputs": [],
   "source": [
    "def best_operators_search(parameter: str, values: list, previous_best_params: list = None):\n",
    "    \n",
    "    if previous_best_params:\n",
    "        params = previous_best_params\n",
    "    else:\n",
    "        # dictionary with parameter names and default values \n",
    "        defaults = genetic_algorithm.__defaults__\n",
    "        parameters = genetic_algorithm.__code__.co_varnames\n",
    "        params = {param: val for param, val in zip(parameters, defaults)}\n",
    "    \n",
    "    # initializing variables\n",
    "    best_fit = 0.0\n",
    "    time_fit = 9e99\n",
    "    fit_dict = {}\n",
    "    time_dict = {}\n",
    "    param_list = []\n",
    "\n",
    "    # Perform grid search\n",
    "    for i in values:\n",
    "        # 100 iterations to generate statistically relevant results\n",
    "        fit_list = []\n",
    "        time_list = []\n",
    "        for _ in range(100):\n",
    "            # changing parameter according to input\n",
    "            params[parameter] = i\n",
    "            # Define the model with current hyperparameters\n",
    "            ga = genetic_algorithm(**params)\n",
    "            # gets restults\n",
    "            fit = ga['best_fitness_percentage']\n",
    "            time_it = ga['duration']\n",
    "            # Check if current solution has better fitness than previous best \n",
    "            if fit > best_fit:\n",
    "                best_fit = fit\n",
    "                time_fit = time_it\n",
    "                best_param = {parameter: i}\n",
    "            # Check if the solution with fitness as good is faster than previous best\n",
    "            if fit == best_fit and time_it < time_fit:\n",
    "                time_fit = time_it\n",
    "                best_param = {parameter: i}\n",
    "            # Append results to get 100 iterations values\n",
    "            fit_list.append(fit)\n",
    "            time_list.append(time_it)\n",
    "        # saving results per parameter\n",
    "        param_list.append(best_param)\n",
    "        fit_dict['Fit_' + str(i)] = fit_list\n",
    "        time_dict['Time_' + str(i)] = time_list\n",
    "\n",
    "    unique_best_params =list({tuple(d.items()): d for d in param_list}.values())\n",
    "\n",
    "    # dataframe with results\n",
    "    fit_dict.update(time_dict)\n",
    "    df = pd.DataFrame(fit_dict)\n",
    "        \n",
    "    return unique_best_params, df"
   ]
  },
  {
   "cell_type": "code",
   "execution_count": 12,
   "metadata": {},
   "outputs": [],
   "source": [
    "def plot_values(data: pd.DataFrame, colors: list, layout: int, template:str, grid:  bool):\n",
    "    # Filter columns starting with \"Fit_\"\n",
    "    fit_columns = [col for col in data.columns if col.startswith('Fit_')]\n",
    "\n",
    "    # Filter columns starting with \"Time_\"\n",
    "    time_columns = [col for col in data.columns if col.startswith('Time_')]\n",
    "\n",
    "    template_map = {'white':'plotly_white', 'dark': 'plotly_dark'}\n",
    "\n",
    "    tick_font_map = {'white': webcolors.rgb_to_hex(webcolors.name_to_rgb('black')), 'dark': webcolors.rgb_to_hex(webcolors.name_to_rgb('white'))}\n",
    "\n",
    "    # Layout styles\n",
    "    layout_1 = {\n",
    "        'xaxis_title': 'Iterations',\n",
    "        'yaxis_title': 'Time (ms)',\n",
    "        'template': template_map[template],\n",
    "        'font': {'size': 14, 'family': 'Verdana'},\n",
    "        'title': {'text': 'Time Comparison', 'font': {'size': 19, 'family': 'Verdana'}},\n",
    "        'xaxis': {'showgrid': grid, 'ticks': 'outside', 'tickfont': {'color': tick_font_map[template]}},\n",
    "        'yaxis': {'showgrid': grid, 'tickfont': {'color': tick_font_map[template]}}\n",
    "        }\n",
    "    \n",
    "    layout_2 = {\n",
    "        'template': template_map[template],\n",
    "        'font': {'size': 14, 'family': 'Verdana'},\n",
    "        'xaxis': {\n",
    "            'showline': True,\n",
    "            'showgrid': grid,\n",
    "            'showticklabels': True,\n",
    "            'linewidth': 1.5,\n",
    "            'ticks': 'outside',\n",
    "            'tickfont': {\n",
    "                'family': 'Verdana',\n",
    "                'size': 11,\n",
    "                'color': tick_font_map[template]}},\n",
    "        'yaxis': {\n",
    "            'showgrid': grid,\n",
    "            'zeroline': False,\n",
    "            'showline': False,\n",
    "            'showticklabels': True,\n",
    "            'ticks': 'outside',\n",
    "            'tickfont': {\n",
    "                'family': 'Verdana',\n",
    "                'size': 11,\n",
    "                'color': tick_font_map[template]}}}\n",
    "    \n",
    "    layout_map = {1:layout_1, 2:layout_2}\n",
    "\n",
    "    # Convert color names to RGB values\n",
    "    rgb_colors = [webcolors.name_to_rgb(color) for color in colors]\n",
    "\n",
    "    mode_size = 8\n",
    "    line_size = 2\n",
    "\n",
    "    # Create a subplot with two line plots\n",
    "    fig = go.Figure()\n",
    "\n",
    "    # Add line plots for \"Fit_\" columns\n",
    "    i = 0\n",
    "    for col in fit_columns:\n",
    "        fig.add_trace(go.Scatter(x=data.index, y=data[col], name=col.replace('Fit_', ''),\n",
    "                                line=dict(color=colors[i], width=line_size),\n",
    "                                ))\n",
    "\n",
    "        fig.add_trace(go.Scatter(\n",
    "            x=[data.index[0], data.index[-1]],\n",
    "            y=[data[col][0], data[col].iloc[-1]],\n",
    "            mode='markers',\n",
    "            marker=dict(color=colors[i], size=mode_size),\n",
    "            name=''\n",
    "        ))\n",
    "        i += 1\n",
    "\n",
    "    layout_map[layout].update({\n",
    "                            'title': 'Fitness Comparison',\n",
    "                            'xaxis_title': 'Iterations',\n",
    "                            'yaxis_title': 'Fitness'})\n",
    "\n",
    "    fig.update_layout(layout_map[layout])\n",
    "\n",
    "    fig2 = go.Figure()\n",
    "\n",
    "    # Add line plots for \"Time_\" columns\n",
    "    i = 0\n",
    "    for col in time_columns:\n",
    "        fig2.add_trace(go.Scatter(x=data.index, y=data[col], name=col.replace('Time_', ''),\n",
    "                                line=dict(color=colors[i], width=line_size),\n",
    "                                ))\n",
    "\n",
    "        fig2.add_trace(go.Scatter(\n",
    "            x=[data.index[0], data.index[-1]],\n",
    "            y=[data[col][0], data[col].iloc[-1]],\n",
    "            mode='markers',\n",
    "            marker=dict(color=colors[i], size=mode_size),\n",
    "            name=''\n",
    "        ))\n",
    "        i += 1\n",
    "\n",
    "    layout_map[layout].update({\n",
    "                            'title': 'Time Comparison',\n",
    "                            'xaxis_title': 'Iterations',\n",
    "                            'yaxis_title': 'Time (ms)'})\n",
    "\n",
    "    fig2.update_layout(layout_map[layout])\n",
    "\n",
    "    # Show the plots\n",
    "    fig.show()\n",
    "    fig2.show()"
   ]
  },
  {
   "attachments": {},
   "cell_type": "markdown",
   "metadata": {},
   "source": [
    "### __2.1 Mutation Operator__"
   ]
  },
  {
   "cell_type": "code",
   "execution_count": 13,
   "metadata": {},
   "outputs": [
    {
     "name": "stdout",
     "output_type": "stream",
     "text": [
      "\u001b[1mParameters for GA:\u001b[0m\n",
      "\n",
      "{'n': 12, 'pop': 100, 'gen': 50, 'mut_perc': 0.05, 'cross_perc': 0.75, 'mut': 'random_mutation', 'cross': 'single_cross', 'select': 'tournament_selection'}\n",
      "\n",
      "\u001b[1mAverage results:\n"
     ]
    },
    {
     "data": {
      "text/html": [
       "<div>\n",
       "<style scoped>\n",
       "    .dataframe tbody tr th:only-of-type {\n",
       "        vertical-align: middle;\n",
       "    }\n",
       "\n",
       "    .dataframe tbody tr th {\n",
       "        vertical-align: top;\n",
       "    }\n",
       "\n",
       "    .dataframe thead th {\n",
       "        text-align: right;\n",
       "    }\n",
       "</style>\n",
       "<table border=\"1\" class=\"dataframe\">\n",
       "  <thead>\n",
       "    <tr style=\"text-align: right;\">\n",
       "      <th></th>\n",
       "      <th>Fit_swap_mutation</th>\n",
       "      <th>Fit_random_mutation</th>\n",
       "      <th>Fit_inversion_mutation</th>\n",
       "      <th>Time_swap_mutation</th>\n",
       "      <th>Time_random_mutation</th>\n",
       "      <th>Time_inversion_mutation</th>\n",
       "    </tr>\n",
       "  </thead>\n",
       "  <tbody>\n",
       "    <tr>\n",
       "      <th>0</th>\n",
       "      <td>96.227</td>\n",
       "      <td>96.364</td>\n",
       "      <td>96.348</td>\n",
       "      <td>9.37</td>\n",
       "      <td>10.05</td>\n",
       "      <td>9.41</td>\n",
       "    </tr>\n",
       "  </tbody>\n",
       "</table>\n",
       "</div>"
      ],
      "text/plain": [
       "   Fit_swap_mutation  Fit_random_mutation  Fit_inversion_mutation   \n",
       "0             96.227               96.364                  96.348  \\\n",
       "\n",
       "   Time_swap_mutation  Time_random_mutation  Time_inversion_mutation  \n",
       "0                9.37                 10.05                     9.41  "
      ]
     },
     "metadata": {},
     "output_type": "display_data"
    },
    {
     "name": "stdout",
     "output_type": "stream",
     "text": [
      "\n",
      "Best Fitness: \u001b[1mrandom_mutation\u001b[0m\n",
      "\n",
      "Best Time: \u001b[1mswap_mutation\u001b[0m\n",
      "\n"
     ]
    },
    {
     "data": {
      "application/vnd.plotly.v1+json": {
       "config": {
        "plotlyServerURL": "https://plot.ly"
       },
       "data": [
        {
         "line": {
          "color": "gray",
          "width": 2
         },
         "name": "swap_mutation",
         "type": "scatter",
         "x": [
          0,
          1,
          2,
          3,
          4,
          5,
          6,
          7,
          8,
          9,
          10,
          11,
          12,
          13,
          14,
          15,
          16,
          17,
          18,
          19,
          20,
          21,
          22,
          23,
          24,
          25,
          26,
          27,
          28,
          29,
          30,
          31,
          32,
          33,
          34,
          35,
          36,
          37,
          38,
          39,
          40,
          41,
          42,
          43,
          44,
          45,
          46,
          47,
          48,
          49,
          50,
          51,
          52,
          53,
          54,
          55,
          56,
          57,
          58,
          59,
          60,
          61,
          62,
          63,
          64,
          65,
          66,
          67,
          68,
          69,
          70,
          71,
          72,
          73,
          74,
          75,
          76,
          77,
          78,
          79,
          80,
          81,
          82,
          83,
          84,
          85,
          86,
          87,
          88,
          89,
          90,
          91,
          92,
          93,
          94,
          95,
          96,
          97,
          98,
          99
         ],
         "y": [
          95.45454545454545,
          95.45454545454545,
          96.96969696969697,
          96.96969696969697,
          95.45454545454545,
          95.45454545454545,
          95.45454545454545,
          96.96969696969697,
          95.45454545454545,
          96.96969696969697,
          95.45454545454545,
          96.96969696969697,
          96.96969696969697,
          95.45454545454545,
          95.45454545454545,
          95.45454545454545,
          95.45454545454545,
          96.96969696969697,
          95.45454545454545,
          96.96969696969697,
          95.45454545454545,
          96.96969696969697,
          96.96969696969697,
          98.48484848484848,
          95.45454545454545,
          95.45454545454545,
          96.96969696969697,
          96.96969696969697,
          95.45454545454545,
          95.45454545454545,
          96.96969696969697,
          95.45454545454545,
          95.45454545454545,
          95.45454545454545,
          96.96969696969697,
          95.45454545454545,
          95.45454545454545,
          96.96969696969697,
          96.96969696969697,
          95.45454545454545,
          96.96969696969697,
          95.45454545454545,
          95.45454545454545,
          95.45454545454545,
          96.96969696969697,
          100,
          95.45454545454545,
          95.45454545454545,
          96.96969696969697,
          95.45454545454545,
          96.96969696969697,
          95.45454545454545,
          96.96969696969697,
          95.45454545454545,
          95.45454545454545,
          95.45454545454545,
          95.45454545454545,
          95.45454545454545,
          98.48484848484848,
          95.45454545454545,
          96.96969696969697,
          95.45454545454545,
          95.45454545454545,
          96.96969696969697,
          96.96969696969697,
          95.45454545454545,
          93.93939393939394,
          96.96969696969697,
          95.45454545454545,
          96.96969696969697,
          95.45454545454545,
          96.96969696969697,
          95.45454545454545,
          96.96969696969697,
          96.96969696969697,
          95.45454545454545,
          95.45454545454545,
          95.45454545454545,
          95.45454545454545,
          95.45454545454545,
          98.48484848484848,
          96.96969696969697,
          98.48484848484848,
          96.96969696969697,
          95.45454545454545,
          98.48484848484848,
          95.45454545454545,
          96.96969696969697,
          96.96969696969697,
          96.96969696969697,
          95.45454545454545,
          96.96969696969697,
          96.96969696969697,
          95.45454545454545,
          95.45454545454545,
          95.45454545454545,
          95.45454545454545,
          98.48484848484848,
          95.45454545454545,
          96.96969696969697
         ]
        },
        {
         "marker": {
          "color": "gray",
          "size": 8
         },
         "mode": "markers",
         "name": "",
         "type": "scatter",
         "x": [
          0,
          99
         ],
         "y": [
          95.45454545454545,
          96.96969696969697
         ]
        },
        {
         "line": {
          "color": "steelblue",
          "width": 2
         },
         "name": "random_mutation",
         "type": "scatter",
         "x": [
          0,
          1,
          2,
          3,
          4,
          5,
          6,
          7,
          8,
          9,
          10,
          11,
          12,
          13,
          14,
          15,
          16,
          17,
          18,
          19,
          20,
          21,
          22,
          23,
          24,
          25,
          26,
          27,
          28,
          29,
          30,
          31,
          32,
          33,
          34,
          35,
          36,
          37,
          38,
          39,
          40,
          41,
          42,
          43,
          44,
          45,
          46,
          47,
          48,
          49,
          50,
          51,
          52,
          53,
          54,
          55,
          56,
          57,
          58,
          59,
          60,
          61,
          62,
          63,
          64,
          65,
          66,
          67,
          68,
          69,
          70,
          71,
          72,
          73,
          74,
          75,
          76,
          77,
          78,
          79,
          80,
          81,
          82,
          83,
          84,
          85,
          86,
          87,
          88,
          89,
          90,
          91,
          92,
          93,
          94,
          95,
          96,
          97,
          98,
          99
         ],
         "y": [
          95.45454545454545,
          96.96969696969697,
          95.45454545454545,
          95.45454545454545,
          95.45454545454545,
          96.96969696969697,
          96.96969696969697,
          95.45454545454545,
          95.45454545454545,
          96.96969696969697,
          96.96969696969697,
          95.45454545454545,
          96.96969696969697,
          95.45454545454545,
          95.45454545454545,
          96.96969696969697,
          93.93939393939394,
          96.96969696969697,
          95.45454545454545,
          98.48484848484848,
          96.96969696969697,
          95.45454545454545,
          96.96969696969697,
          96.96969696969697,
          96.96969696969697,
          95.45454545454545,
          93.93939393939394,
          95.45454545454545,
          96.96969696969697,
          96.96969696969697,
          96.96969696969697,
          95.45454545454545,
          98.48484848484848,
          95.45454545454545,
          93.93939393939394,
          95.45454545454545,
          96.96969696969697,
          96.96969696969697,
          96.96969696969697,
          98.48484848484848,
          96.96969696969697,
          96.96969696969697,
          95.45454545454545,
          96.96969696969697,
          95.45454545454545,
          95.45454545454545,
          95.45454545454545,
          95.45454545454545,
          98.48484848484848,
          95.45454545454545,
          95.45454545454545,
          96.96969696969697,
          96.96969696969697,
          93.93939393939394,
          95.45454545454545,
          95.45454545454545,
          95.45454545454545,
          95.45454545454545,
          95.45454545454545,
          96.96969696969697,
          96.96969696969697,
          96.96969696969697,
          96.96969696969697,
          96.96969696969697,
          96.96969696969697,
          96.96969696969697,
          95.45454545454545,
          96.96969696969697,
          98.48484848484848,
          95.45454545454545,
          96.96969696969697,
          96.96969696969697,
          100,
          95.45454545454545,
          95.45454545454545,
          96.96969696969697,
          95.45454545454545,
          95.45454545454545,
          96.96969696969697,
          95.45454545454545,
          98.48484848484848,
          96.96969696969697,
          96.96969696969697,
          95.45454545454545,
          96.96969696969697,
          95.45454545454545,
          95.45454545454545,
          96.96969696969697,
          96.96969696969697,
          95.45454545454545,
          98.48484848484848,
          96.96969696969697,
          95.45454545454545,
          96.96969696969697,
          96.96969696969697,
          96.96969696969697,
          96.96969696969697,
          95.45454545454545,
          98.48484848484848,
          95.45454545454545
         ]
        },
        {
         "marker": {
          "color": "steelblue",
          "size": 8
         },
         "mode": "markers",
         "name": "",
         "type": "scatter",
         "x": [
          0,
          99
         ],
         "y": [
          95.45454545454545,
          95.45454545454545
         ]
        },
        {
         "line": {
          "color": "purple",
          "width": 2
         },
         "name": "inversion_mutation",
         "type": "scatter",
         "x": [
          0,
          1,
          2,
          3,
          4,
          5,
          6,
          7,
          8,
          9,
          10,
          11,
          12,
          13,
          14,
          15,
          16,
          17,
          18,
          19,
          20,
          21,
          22,
          23,
          24,
          25,
          26,
          27,
          28,
          29,
          30,
          31,
          32,
          33,
          34,
          35,
          36,
          37,
          38,
          39,
          40,
          41,
          42,
          43,
          44,
          45,
          46,
          47,
          48,
          49,
          50,
          51,
          52,
          53,
          54,
          55,
          56,
          57,
          58,
          59,
          60,
          61,
          62,
          63,
          64,
          65,
          66,
          67,
          68,
          69,
          70,
          71,
          72,
          73,
          74,
          75,
          76,
          77,
          78,
          79,
          80,
          81,
          82,
          83,
          84,
          85,
          86,
          87,
          88,
          89,
          90,
          91,
          92,
          93,
          94,
          95,
          96,
          97,
          98,
          99
         ],
         "y": [
          95.45454545454545,
          96.96969696969697,
          96.96969696969697,
          96.96969696969697,
          96.96969696969697,
          95.45454545454545,
          95.45454545454545,
          96.96969696969697,
          96.96969696969697,
          98.48484848484848,
          95.45454545454545,
          96.96969696969697,
          96.96969696969697,
          96.96969696969697,
          95.45454545454545,
          95.45454545454545,
          95.45454545454545,
          95.45454545454545,
          95.45454545454545,
          93.93939393939394,
          95.45454545454545,
          95.45454545454545,
          96.96969696969697,
          98.48484848484848,
          95.45454545454545,
          98.48484848484848,
          96.96969696969697,
          95.45454545454545,
          95.45454545454545,
          95.45454545454545,
          96.96969696969697,
          96.96969696969697,
          96.96969696969697,
          96.96969696969697,
          95.45454545454545,
          95.45454545454545,
          96.96969696969697,
          96.96969696969697,
          95.45454545454545,
          95.45454545454545,
          96.96969696969697,
          96.96969696969697,
          96.96969696969697,
          95.45454545454545,
          95.45454545454545,
          98.48484848484848,
          96.96969696969697,
          96.96969696969697,
          95.45454545454545,
          96.96969696969697,
          96.96969696969697,
          96.96969696969697,
          95.45454545454545,
          95.45454545454545,
          96.96969696969697,
          95.45454545454545,
          95.45454545454545,
          98.48484848484848,
          96.96969696969697,
          95.45454545454545,
          96.96969696969697,
          95.45454545454545,
          95.45454545454545,
          96.96969696969697,
          96.96969696969697,
          95.45454545454545,
          95.45454545454545,
          96.96969696969697,
          96.96969696969697,
          95.45454545454545,
          95.45454545454545,
          96.96969696969697,
          95.45454545454545,
          95.45454545454545,
          98.48484848484848,
          95.45454545454545,
          98.48484848484848,
          96.96969696969697,
          96.96969696969697,
          98.48484848484848,
          96.96969696969697,
          96.96969696969697,
          95.45454545454545,
          95.45454545454545,
          96.96969696969697,
          95.45454545454545,
          93.93939393939394,
          96.96969696969697,
          98.48484848484848,
          96.96969696969697,
          95.45454545454545,
          95.45454545454545,
          95.45454545454545,
          95.45454545454545,
          95.45454545454545,
          96.96969696969697,
          95.45454545454545,
          96.96969696969697,
          95.45454545454545,
          96.96969696969697
         ]
        },
        {
         "marker": {
          "color": "purple",
          "size": 8
         },
         "mode": "markers",
         "name": "",
         "type": "scatter",
         "x": [
          0,
          99
         ],
         "y": [
          95.45454545454545,
          96.96969696969697
         ]
        }
       ],
       "layout": {
        "font": {
         "family": "Verdana",
         "size": 14
        },
        "template": {
         "data": {
          "bar": [
           {
            "error_x": {
             "color": "#2a3f5f"
            },
            "error_y": {
             "color": "#2a3f5f"
            },
            "marker": {
             "line": {
              "color": "white",
              "width": 0.5
             },
             "pattern": {
              "fillmode": "overlay",
              "size": 10,
              "solidity": 0.2
             }
            },
            "type": "bar"
           }
          ],
          "barpolar": [
           {
            "marker": {
             "line": {
              "color": "white",
              "width": 0.5
             },
             "pattern": {
              "fillmode": "overlay",
              "size": 10,
              "solidity": 0.2
             }
            },
            "type": "barpolar"
           }
          ],
          "carpet": [
           {
            "aaxis": {
             "endlinecolor": "#2a3f5f",
             "gridcolor": "#C8D4E3",
             "linecolor": "#C8D4E3",
             "minorgridcolor": "#C8D4E3",
             "startlinecolor": "#2a3f5f"
            },
            "baxis": {
             "endlinecolor": "#2a3f5f",
             "gridcolor": "#C8D4E3",
             "linecolor": "#C8D4E3",
             "minorgridcolor": "#C8D4E3",
             "startlinecolor": "#2a3f5f"
            },
            "type": "carpet"
           }
          ],
          "choropleth": [
           {
            "colorbar": {
             "outlinewidth": 0,
             "ticks": ""
            },
            "type": "choropleth"
           }
          ],
          "contour": [
           {
            "colorbar": {
             "outlinewidth": 0,
             "ticks": ""
            },
            "colorscale": [
             [
              0,
              "#0d0887"
             ],
             [
              0.1111111111111111,
              "#46039f"
             ],
             [
              0.2222222222222222,
              "#7201a8"
             ],
             [
              0.3333333333333333,
              "#9c179e"
             ],
             [
              0.4444444444444444,
              "#bd3786"
             ],
             [
              0.5555555555555556,
              "#d8576b"
             ],
             [
              0.6666666666666666,
              "#ed7953"
             ],
             [
              0.7777777777777778,
              "#fb9f3a"
             ],
             [
              0.8888888888888888,
              "#fdca26"
             ],
             [
              1,
              "#f0f921"
             ]
            ],
            "type": "contour"
           }
          ],
          "contourcarpet": [
           {
            "colorbar": {
             "outlinewidth": 0,
             "ticks": ""
            },
            "type": "contourcarpet"
           }
          ],
          "heatmap": [
           {
            "colorbar": {
             "outlinewidth": 0,
             "ticks": ""
            },
            "colorscale": [
             [
              0,
              "#0d0887"
             ],
             [
              0.1111111111111111,
              "#46039f"
             ],
             [
              0.2222222222222222,
              "#7201a8"
             ],
             [
              0.3333333333333333,
              "#9c179e"
             ],
             [
              0.4444444444444444,
              "#bd3786"
             ],
             [
              0.5555555555555556,
              "#d8576b"
             ],
             [
              0.6666666666666666,
              "#ed7953"
             ],
             [
              0.7777777777777778,
              "#fb9f3a"
             ],
             [
              0.8888888888888888,
              "#fdca26"
             ],
             [
              1,
              "#f0f921"
             ]
            ],
            "type": "heatmap"
           }
          ],
          "heatmapgl": [
           {
            "colorbar": {
             "outlinewidth": 0,
             "ticks": ""
            },
            "colorscale": [
             [
              0,
              "#0d0887"
             ],
             [
              0.1111111111111111,
              "#46039f"
             ],
             [
              0.2222222222222222,
              "#7201a8"
             ],
             [
              0.3333333333333333,
              "#9c179e"
             ],
             [
              0.4444444444444444,
              "#bd3786"
             ],
             [
              0.5555555555555556,
              "#d8576b"
             ],
             [
              0.6666666666666666,
              "#ed7953"
             ],
             [
              0.7777777777777778,
              "#fb9f3a"
             ],
             [
              0.8888888888888888,
              "#fdca26"
             ],
             [
              1,
              "#f0f921"
             ]
            ],
            "type": "heatmapgl"
           }
          ],
          "histogram": [
           {
            "marker": {
             "pattern": {
              "fillmode": "overlay",
              "size": 10,
              "solidity": 0.2
             }
            },
            "type": "histogram"
           }
          ],
          "histogram2d": [
           {
            "colorbar": {
             "outlinewidth": 0,
             "ticks": ""
            },
            "colorscale": [
             [
              0,
              "#0d0887"
             ],
             [
              0.1111111111111111,
              "#46039f"
             ],
             [
              0.2222222222222222,
              "#7201a8"
             ],
             [
              0.3333333333333333,
              "#9c179e"
             ],
             [
              0.4444444444444444,
              "#bd3786"
             ],
             [
              0.5555555555555556,
              "#d8576b"
             ],
             [
              0.6666666666666666,
              "#ed7953"
             ],
             [
              0.7777777777777778,
              "#fb9f3a"
             ],
             [
              0.8888888888888888,
              "#fdca26"
             ],
             [
              1,
              "#f0f921"
             ]
            ],
            "type": "histogram2d"
           }
          ],
          "histogram2dcontour": [
           {
            "colorbar": {
             "outlinewidth": 0,
             "ticks": ""
            },
            "colorscale": [
             [
              0,
              "#0d0887"
             ],
             [
              0.1111111111111111,
              "#46039f"
             ],
             [
              0.2222222222222222,
              "#7201a8"
             ],
             [
              0.3333333333333333,
              "#9c179e"
             ],
             [
              0.4444444444444444,
              "#bd3786"
             ],
             [
              0.5555555555555556,
              "#d8576b"
             ],
             [
              0.6666666666666666,
              "#ed7953"
             ],
             [
              0.7777777777777778,
              "#fb9f3a"
             ],
             [
              0.8888888888888888,
              "#fdca26"
             ],
             [
              1,
              "#f0f921"
             ]
            ],
            "type": "histogram2dcontour"
           }
          ],
          "mesh3d": [
           {
            "colorbar": {
             "outlinewidth": 0,
             "ticks": ""
            },
            "type": "mesh3d"
           }
          ],
          "parcoords": [
           {
            "line": {
             "colorbar": {
              "outlinewidth": 0,
              "ticks": ""
             }
            },
            "type": "parcoords"
           }
          ],
          "pie": [
           {
            "automargin": true,
            "type": "pie"
           }
          ],
          "scatter": [
           {
            "fillpattern": {
             "fillmode": "overlay",
             "size": 10,
             "solidity": 0.2
            },
            "type": "scatter"
           }
          ],
          "scatter3d": [
           {
            "line": {
             "colorbar": {
              "outlinewidth": 0,
              "ticks": ""
             }
            },
            "marker": {
             "colorbar": {
              "outlinewidth": 0,
              "ticks": ""
             }
            },
            "type": "scatter3d"
           }
          ],
          "scattercarpet": [
           {
            "marker": {
             "colorbar": {
              "outlinewidth": 0,
              "ticks": ""
             }
            },
            "type": "scattercarpet"
           }
          ],
          "scattergeo": [
           {
            "marker": {
             "colorbar": {
              "outlinewidth": 0,
              "ticks": ""
             }
            },
            "type": "scattergeo"
           }
          ],
          "scattergl": [
           {
            "marker": {
             "colorbar": {
              "outlinewidth": 0,
              "ticks": ""
             }
            },
            "type": "scattergl"
           }
          ],
          "scattermapbox": [
           {
            "marker": {
             "colorbar": {
              "outlinewidth": 0,
              "ticks": ""
             }
            },
            "type": "scattermapbox"
           }
          ],
          "scatterpolar": [
           {
            "marker": {
             "colorbar": {
              "outlinewidth": 0,
              "ticks": ""
             }
            },
            "type": "scatterpolar"
           }
          ],
          "scatterpolargl": [
           {
            "marker": {
             "colorbar": {
              "outlinewidth": 0,
              "ticks": ""
             }
            },
            "type": "scatterpolargl"
           }
          ],
          "scatterternary": [
           {
            "marker": {
             "colorbar": {
              "outlinewidth": 0,
              "ticks": ""
             }
            },
            "type": "scatterternary"
           }
          ],
          "surface": [
           {
            "colorbar": {
             "outlinewidth": 0,
             "ticks": ""
            },
            "colorscale": [
             [
              0,
              "#0d0887"
             ],
             [
              0.1111111111111111,
              "#46039f"
             ],
             [
              0.2222222222222222,
              "#7201a8"
             ],
             [
              0.3333333333333333,
              "#9c179e"
             ],
             [
              0.4444444444444444,
              "#bd3786"
             ],
             [
              0.5555555555555556,
              "#d8576b"
             ],
             [
              0.6666666666666666,
              "#ed7953"
             ],
             [
              0.7777777777777778,
              "#fb9f3a"
             ],
             [
              0.8888888888888888,
              "#fdca26"
             ],
             [
              1,
              "#f0f921"
             ]
            ],
            "type": "surface"
           }
          ],
          "table": [
           {
            "cells": {
             "fill": {
              "color": "#EBF0F8"
             },
             "line": {
              "color": "white"
             }
            },
            "header": {
             "fill": {
              "color": "#C8D4E3"
             },
             "line": {
              "color": "white"
             }
            },
            "type": "table"
           }
          ]
         },
         "layout": {
          "annotationdefaults": {
           "arrowcolor": "#2a3f5f",
           "arrowhead": 0,
           "arrowwidth": 1
          },
          "autotypenumbers": "strict",
          "coloraxis": {
           "colorbar": {
            "outlinewidth": 0,
            "ticks": ""
           }
          },
          "colorscale": {
           "diverging": [
            [
             0,
             "#8e0152"
            ],
            [
             0.1,
             "#c51b7d"
            ],
            [
             0.2,
             "#de77ae"
            ],
            [
             0.3,
             "#f1b6da"
            ],
            [
             0.4,
             "#fde0ef"
            ],
            [
             0.5,
             "#f7f7f7"
            ],
            [
             0.6,
             "#e6f5d0"
            ],
            [
             0.7,
             "#b8e186"
            ],
            [
             0.8,
             "#7fbc41"
            ],
            [
             0.9,
             "#4d9221"
            ],
            [
             1,
             "#276419"
            ]
           ],
           "sequential": [
            [
             0,
             "#0d0887"
            ],
            [
             0.1111111111111111,
             "#46039f"
            ],
            [
             0.2222222222222222,
             "#7201a8"
            ],
            [
             0.3333333333333333,
             "#9c179e"
            ],
            [
             0.4444444444444444,
             "#bd3786"
            ],
            [
             0.5555555555555556,
             "#d8576b"
            ],
            [
             0.6666666666666666,
             "#ed7953"
            ],
            [
             0.7777777777777778,
             "#fb9f3a"
            ],
            [
             0.8888888888888888,
             "#fdca26"
            ],
            [
             1,
             "#f0f921"
            ]
           ],
           "sequentialminus": [
            [
             0,
             "#0d0887"
            ],
            [
             0.1111111111111111,
             "#46039f"
            ],
            [
             0.2222222222222222,
             "#7201a8"
            ],
            [
             0.3333333333333333,
             "#9c179e"
            ],
            [
             0.4444444444444444,
             "#bd3786"
            ],
            [
             0.5555555555555556,
             "#d8576b"
            ],
            [
             0.6666666666666666,
             "#ed7953"
            ],
            [
             0.7777777777777778,
             "#fb9f3a"
            ],
            [
             0.8888888888888888,
             "#fdca26"
            ],
            [
             1,
             "#f0f921"
            ]
           ]
          },
          "colorway": [
           "#636efa",
           "#EF553B",
           "#00cc96",
           "#ab63fa",
           "#FFA15A",
           "#19d3f3",
           "#FF6692",
           "#B6E880",
           "#FF97FF",
           "#FECB52"
          ],
          "font": {
           "color": "#2a3f5f"
          },
          "geo": {
           "bgcolor": "white",
           "lakecolor": "white",
           "landcolor": "white",
           "showlakes": true,
           "showland": true,
           "subunitcolor": "#C8D4E3"
          },
          "hoverlabel": {
           "align": "left"
          },
          "hovermode": "closest",
          "mapbox": {
           "style": "light"
          },
          "paper_bgcolor": "white",
          "plot_bgcolor": "white",
          "polar": {
           "angularaxis": {
            "gridcolor": "#EBF0F8",
            "linecolor": "#EBF0F8",
            "ticks": ""
           },
           "bgcolor": "white",
           "radialaxis": {
            "gridcolor": "#EBF0F8",
            "linecolor": "#EBF0F8",
            "ticks": ""
           }
          },
          "scene": {
           "xaxis": {
            "backgroundcolor": "white",
            "gridcolor": "#DFE8F3",
            "gridwidth": 2,
            "linecolor": "#EBF0F8",
            "showbackground": true,
            "ticks": "",
            "zerolinecolor": "#EBF0F8"
           },
           "yaxis": {
            "backgroundcolor": "white",
            "gridcolor": "#DFE8F3",
            "gridwidth": 2,
            "linecolor": "#EBF0F8",
            "showbackground": true,
            "ticks": "",
            "zerolinecolor": "#EBF0F8"
           },
           "zaxis": {
            "backgroundcolor": "white",
            "gridcolor": "#DFE8F3",
            "gridwidth": 2,
            "linecolor": "#EBF0F8",
            "showbackground": true,
            "ticks": "",
            "zerolinecolor": "#EBF0F8"
           }
          },
          "shapedefaults": {
           "line": {
            "color": "#2a3f5f"
           }
          },
          "ternary": {
           "aaxis": {
            "gridcolor": "#DFE8F3",
            "linecolor": "#A2B1C6",
            "ticks": ""
           },
           "baxis": {
            "gridcolor": "#DFE8F3",
            "linecolor": "#A2B1C6",
            "ticks": ""
           },
           "bgcolor": "white",
           "caxis": {
            "gridcolor": "#DFE8F3",
            "linecolor": "#A2B1C6",
            "ticks": ""
           }
          },
          "title": {
           "x": 0.05
          },
          "xaxis": {
           "automargin": true,
           "gridcolor": "#EBF0F8",
           "linecolor": "#EBF0F8",
           "ticks": "",
           "title": {
            "standoff": 15
           },
           "zerolinecolor": "#EBF0F8",
           "zerolinewidth": 2
          },
          "yaxis": {
           "automargin": true,
           "gridcolor": "#EBF0F8",
           "linecolor": "#EBF0F8",
           "ticks": "",
           "title": {
            "standoff": 15
           },
           "zerolinecolor": "#EBF0F8",
           "zerolinewidth": 2
          }
         }
        },
        "title": {
         "text": "Fitness Comparison"
        },
        "xaxis": {
         "linewidth": 1.5,
         "showgrid": true,
         "showline": true,
         "showticklabels": true,
         "tickfont": {
          "color": "#000000",
          "family": "Verdana",
          "size": 11
         },
         "ticks": "outside",
         "title": {
          "text": "Iterations"
         }
        },
        "yaxis": {
         "showgrid": true,
         "showline": false,
         "showticklabels": true,
         "tickfont": {
          "color": "#000000",
          "family": "Verdana",
          "size": 11
         },
         "ticks": "outside",
         "title": {
          "text": "Fitness"
         },
         "zeroline": false
        }
       }
      }
     },
     "metadata": {},
     "output_type": "display_data"
    },
    {
     "data": {
      "application/vnd.plotly.v1+json": {
       "config": {
        "plotlyServerURL": "https://plot.ly"
       },
       "data": [
        {
         "line": {
          "color": "gray",
          "width": 2
         },
         "name": "swap_mutation",
         "type": "scatter",
         "x": [
          0,
          1,
          2,
          3,
          4,
          5,
          6,
          7,
          8,
          9,
          10,
          11,
          12,
          13,
          14,
          15,
          16,
          17,
          18,
          19,
          20,
          21,
          22,
          23,
          24,
          25,
          26,
          27,
          28,
          29,
          30,
          31,
          32,
          33,
          34,
          35,
          36,
          37,
          38,
          39,
          40,
          41,
          42,
          43,
          44,
          45,
          46,
          47,
          48,
          49,
          50,
          51,
          52,
          53,
          54,
          55,
          56,
          57,
          58,
          59,
          60,
          61,
          62,
          63,
          64,
          65,
          66,
          67,
          68,
          69,
          70,
          71,
          72,
          73,
          74,
          75,
          76,
          77,
          78,
          79,
          80,
          81,
          82,
          83,
          84,
          85,
          86,
          87,
          88,
          89,
          90,
          91,
          92,
          93,
          94,
          95,
          96,
          97,
          98,
          99
         ],
         "y": [
          10,
          9,
          9,
          10,
          9,
          9,
          9,
          9,
          9,
          10,
          9,
          10,
          9,
          9,
          9,
          9,
          9,
          10,
          9,
          9,
          10,
          10,
          9,
          9,
          9,
          9,
          10,
          9,
          9,
          9,
          10,
          9,
          10,
          9,
          9,
          9,
          9,
          10,
          9,
          10,
          9,
          9,
          9,
          10,
          9,
          9,
          9,
          9,
          10,
          10,
          9,
          9,
          9,
          9,
          9,
          9,
          9,
          9,
          10,
          9,
          9,
          10,
          9,
          9,
          10,
          10,
          9,
          10,
          10,
          10,
          9,
          10,
          10,
          10,
          9,
          9,
          10,
          9,
          9,
          9,
          9,
          9,
          9,
          10,
          9,
          10,
          9,
          10,
          10,
          9,
          10,
          10,
          10,
          10,
          9,
          9,
          10,
          10,
          9,
          10
         ]
        },
        {
         "marker": {
          "color": "gray",
          "size": 8
         },
         "mode": "markers",
         "name": "",
         "type": "scatter",
         "x": [
          0,
          99
         ],
         "y": [
          10,
          10
         ]
        },
        {
         "line": {
          "color": "steelblue",
          "width": 2
         },
         "name": "random_mutation",
         "type": "scatter",
         "x": [
          0,
          1,
          2,
          3,
          4,
          5,
          6,
          7,
          8,
          9,
          10,
          11,
          12,
          13,
          14,
          15,
          16,
          17,
          18,
          19,
          20,
          21,
          22,
          23,
          24,
          25,
          26,
          27,
          28,
          29,
          30,
          31,
          32,
          33,
          34,
          35,
          36,
          37,
          38,
          39,
          40,
          41,
          42,
          43,
          44,
          45,
          46,
          47,
          48,
          49,
          50,
          51,
          52,
          53,
          54,
          55,
          56,
          57,
          58,
          59,
          60,
          61,
          62,
          63,
          64,
          65,
          66,
          67,
          68,
          69,
          70,
          71,
          72,
          73,
          74,
          75,
          76,
          77,
          78,
          79,
          80,
          81,
          82,
          83,
          84,
          85,
          86,
          87,
          88,
          89,
          90,
          91,
          92,
          93,
          94,
          95,
          96,
          97,
          98,
          99
         ],
         "y": [
          10,
          9,
          10,
          10,
          10,
          10,
          10,
          10,
          10,
          11,
          10,
          10,
          10,
          10,
          10,
          10,
          10,
          10,
          10,
          12,
          10,
          10,
          10,
          10,
          10,
          10,
          10,
          10,
          10,
          10,
          10,
          10,
          10,
          10,
          10,
          10,
          10,
          10,
          10,
          10,
          10,
          10,
          9,
          10,
          10,
          10,
          10,
          10,
          10,
          10,
          10,
          10,
          10,
          10,
          10,
          10,
          10,
          10,
          10,
          10,
          10,
          10,
          10,
          10,
          10,
          11,
          10,
          10,
          11,
          10,
          10,
          10,
          10,
          10,
          10,
          11,
          10,
          10,
          11,
          10,
          10,
          10,
          10,
          10,
          10,
          10,
          9,
          10,
          10,
          10,
          10,
          10,
          10,
          10,
          10,
          10,
          10,
          10,
          11,
          10
         ]
        },
        {
         "marker": {
          "color": "steelblue",
          "size": 8
         },
         "mode": "markers",
         "name": "",
         "type": "scatter",
         "x": [
          0,
          99
         ],
         "y": [
          10,
          10
         ]
        },
        {
         "line": {
          "color": "purple",
          "width": 2
         },
         "name": "inversion_mutation",
         "type": "scatter",
         "x": [
          0,
          1,
          2,
          3,
          4,
          5,
          6,
          7,
          8,
          9,
          10,
          11,
          12,
          13,
          14,
          15,
          16,
          17,
          18,
          19,
          20,
          21,
          22,
          23,
          24,
          25,
          26,
          27,
          28,
          29,
          30,
          31,
          32,
          33,
          34,
          35,
          36,
          37,
          38,
          39,
          40,
          41,
          42,
          43,
          44,
          45,
          46,
          47,
          48,
          49,
          50,
          51,
          52,
          53,
          54,
          55,
          56,
          57,
          58,
          59,
          60,
          61,
          62,
          63,
          64,
          65,
          66,
          67,
          68,
          69,
          70,
          71,
          72,
          73,
          74,
          75,
          76,
          77,
          78,
          79,
          80,
          81,
          82,
          83,
          84,
          85,
          86,
          87,
          88,
          89,
          90,
          91,
          92,
          93,
          94,
          95,
          96,
          97,
          98,
          99
         ],
         "y": [
          10,
          9,
          10,
          10,
          9,
          9,
          9,
          9,
          10,
          10,
          10,
          10,
          9,
          10,
          9,
          9,
          9,
          9,
          9,
          9,
          9,
          9,
          9,
          9,
          10,
          9,
          10,
          9,
          10,
          10,
          9,
          10,
          10,
          10,
          9,
          9,
          9,
          9,
          9,
          9,
          9,
          10,
          9,
          9,
          9,
          10,
          10,
          10,
          9,
          10,
          9,
          10,
          9,
          9,
          9,
          10,
          9,
          10,
          9,
          10,
          9,
          10,
          10,
          9,
          9,
          9,
          10,
          9,
          9,
          9,
          10,
          10,
          9,
          9,
          10,
          9,
          10,
          10,
          9,
          9,
          10,
          9,
          10,
          10,
          10,
          9,
          9,
          10,
          9,
          9,
          9,
          9,
          10,
          10,
          10,
          9,
          9,
          10,
          9,
          9
         ]
        },
        {
         "marker": {
          "color": "purple",
          "size": 8
         },
         "mode": "markers",
         "name": "",
         "type": "scatter",
         "x": [
          0,
          99
         ],
         "y": [
          10,
          9
         ]
        }
       ],
       "layout": {
        "font": {
         "family": "Verdana",
         "size": 14
        },
        "template": {
         "data": {
          "bar": [
           {
            "error_x": {
             "color": "#2a3f5f"
            },
            "error_y": {
             "color": "#2a3f5f"
            },
            "marker": {
             "line": {
              "color": "white",
              "width": 0.5
             },
             "pattern": {
              "fillmode": "overlay",
              "size": 10,
              "solidity": 0.2
             }
            },
            "type": "bar"
           }
          ],
          "barpolar": [
           {
            "marker": {
             "line": {
              "color": "white",
              "width": 0.5
             },
             "pattern": {
              "fillmode": "overlay",
              "size": 10,
              "solidity": 0.2
             }
            },
            "type": "barpolar"
           }
          ],
          "carpet": [
           {
            "aaxis": {
             "endlinecolor": "#2a3f5f",
             "gridcolor": "#C8D4E3",
             "linecolor": "#C8D4E3",
             "minorgridcolor": "#C8D4E3",
             "startlinecolor": "#2a3f5f"
            },
            "baxis": {
             "endlinecolor": "#2a3f5f",
             "gridcolor": "#C8D4E3",
             "linecolor": "#C8D4E3",
             "minorgridcolor": "#C8D4E3",
             "startlinecolor": "#2a3f5f"
            },
            "type": "carpet"
           }
          ],
          "choropleth": [
           {
            "colorbar": {
             "outlinewidth": 0,
             "ticks": ""
            },
            "type": "choropleth"
           }
          ],
          "contour": [
           {
            "colorbar": {
             "outlinewidth": 0,
             "ticks": ""
            },
            "colorscale": [
             [
              0,
              "#0d0887"
             ],
             [
              0.1111111111111111,
              "#46039f"
             ],
             [
              0.2222222222222222,
              "#7201a8"
             ],
             [
              0.3333333333333333,
              "#9c179e"
             ],
             [
              0.4444444444444444,
              "#bd3786"
             ],
             [
              0.5555555555555556,
              "#d8576b"
             ],
             [
              0.6666666666666666,
              "#ed7953"
             ],
             [
              0.7777777777777778,
              "#fb9f3a"
             ],
             [
              0.8888888888888888,
              "#fdca26"
             ],
             [
              1,
              "#f0f921"
             ]
            ],
            "type": "contour"
           }
          ],
          "contourcarpet": [
           {
            "colorbar": {
             "outlinewidth": 0,
             "ticks": ""
            },
            "type": "contourcarpet"
           }
          ],
          "heatmap": [
           {
            "colorbar": {
             "outlinewidth": 0,
             "ticks": ""
            },
            "colorscale": [
             [
              0,
              "#0d0887"
             ],
             [
              0.1111111111111111,
              "#46039f"
             ],
             [
              0.2222222222222222,
              "#7201a8"
             ],
             [
              0.3333333333333333,
              "#9c179e"
             ],
             [
              0.4444444444444444,
              "#bd3786"
             ],
             [
              0.5555555555555556,
              "#d8576b"
             ],
             [
              0.6666666666666666,
              "#ed7953"
             ],
             [
              0.7777777777777778,
              "#fb9f3a"
             ],
             [
              0.8888888888888888,
              "#fdca26"
             ],
             [
              1,
              "#f0f921"
             ]
            ],
            "type": "heatmap"
           }
          ],
          "heatmapgl": [
           {
            "colorbar": {
             "outlinewidth": 0,
             "ticks": ""
            },
            "colorscale": [
             [
              0,
              "#0d0887"
             ],
             [
              0.1111111111111111,
              "#46039f"
             ],
             [
              0.2222222222222222,
              "#7201a8"
             ],
             [
              0.3333333333333333,
              "#9c179e"
             ],
             [
              0.4444444444444444,
              "#bd3786"
             ],
             [
              0.5555555555555556,
              "#d8576b"
             ],
             [
              0.6666666666666666,
              "#ed7953"
             ],
             [
              0.7777777777777778,
              "#fb9f3a"
             ],
             [
              0.8888888888888888,
              "#fdca26"
             ],
             [
              1,
              "#f0f921"
             ]
            ],
            "type": "heatmapgl"
           }
          ],
          "histogram": [
           {
            "marker": {
             "pattern": {
              "fillmode": "overlay",
              "size": 10,
              "solidity": 0.2
             }
            },
            "type": "histogram"
           }
          ],
          "histogram2d": [
           {
            "colorbar": {
             "outlinewidth": 0,
             "ticks": ""
            },
            "colorscale": [
             [
              0,
              "#0d0887"
             ],
             [
              0.1111111111111111,
              "#46039f"
             ],
             [
              0.2222222222222222,
              "#7201a8"
             ],
             [
              0.3333333333333333,
              "#9c179e"
             ],
             [
              0.4444444444444444,
              "#bd3786"
             ],
             [
              0.5555555555555556,
              "#d8576b"
             ],
             [
              0.6666666666666666,
              "#ed7953"
             ],
             [
              0.7777777777777778,
              "#fb9f3a"
             ],
             [
              0.8888888888888888,
              "#fdca26"
             ],
             [
              1,
              "#f0f921"
             ]
            ],
            "type": "histogram2d"
           }
          ],
          "histogram2dcontour": [
           {
            "colorbar": {
             "outlinewidth": 0,
             "ticks": ""
            },
            "colorscale": [
             [
              0,
              "#0d0887"
             ],
             [
              0.1111111111111111,
              "#46039f"
             ],
             [
              0.2222222222222222,
              "#7201a8"
             ],
             [
              0.3333333333333333,
              "#9c179e"
             ],
             [
              0.4444444444444444,
              "#bd3786"
             ],
             [
              0.5555555555555556,
              "#d8576b"
             ],
             [
              0.6666666666666666,
              "#ed7953"
             ],
             [
              0.7777777777777778,
              "#fb9f3a"
             ],
             [
              0.8888888888888888,
              "#fdca26"
             ],
             [
              1,
              "#f0f921"
             ]
            ],
            "type": "histogram2dcontour"
           }
          ],
          "mesh3d": [
           {
            "colorbar": {
             "outlinewidth": 0,
             "ticks": ""
            },
            "type": "mesh3d"
           }
          ],
          "parcoords": [
           {
            "line": {
             "colorbar": {
              "outlinewidth": 0,
              "ticks": ""
             }
            },
            "type": "parcoords"
           }
          ],
          "pie": [
           {
            "automargin": true,
            "type": "pie"
           }
          ],
          "scatter": [
           {
            "fillpattern": {
             "fillmode": "overlay",
             "size": 10,
             "solidity": 0.2
            },
            "type": "scatter"
           }
          ],
          "scatter3d": [
           {
            "line": {
             "colorbar": {
              "outlinewidth": 0,
              "ticks": ""
             }
            },
            "marker": {
             "colorbar": {
              "outlinewidth": 0,
              "ticks": ""
             }
            },
            "type": "scatter3d"
           }
          ],
          "scattercarpet": [
           {
            "marker": {
             "colorbar": {
              "outlinewidth": 0,
              "ticks": ""
             }
            },
            "type": "scattercarpet"
           }
          ],
          "scattergeo": [
           {
            "marker": {
             "colorbar": {
              "outlinewidth": 0,
              "ticks": ""
             }
            },
            "type": "scattergeo"
           }
          ],
          "scattergl": [
           {
            "marker": {
             "colorbar": {
              "outlinewidth": 0,
              "ticks": ""
             }
            },
            "type": "scattergl"
           }
          ],
          "scattermapbox": [
           {
            "marker": {
             "colorbar": {
              "outlinewidth": 0,
              "ticks": ""
             }
            },
            "type": "scattermapbox"
           }
          ],
          "scatterpolar": [
           {
            "marker": {
             "colorbar": {
              "outlinewidth": 0,
              "ticks": ""
             }
            },
            "type": "scatterpolar"
           }
          ],
          "scatterpolargl": [
           {
            "marker": {
             "colorbar": {
              "outlinewidth": 0,
              "ticks": ""
             }
            },
            "type": "scatterpolargl"
           }
          ],
          "scatterternary": [
           {
            "marker": {
             "colorbar": {
              "outlinewidth": 0,
              "ticks": ""
             }
            },
            "type": "scatterternary"
           }
          ],
          "surface": [
           {
            "colorbar": {
             "outlinewidth": 0,
             "ticks": ""
            },
            "colorscale": [
             [
              0,
              "#0d0887"
             ],
             [
              0.1111111111111111,
              "#46039f"
             ],
             [
              0.2222222222222222,
              "#7201a8"
             ],
             [
              0.3333333333333333,
              "#9c179e"
             ],
             [
              0.4444444444444444,
              "#bd3786"
             ],
             [
              0.5555555555555556,
              "#d8576b"
             ],
             [
              0.6666666666666666,
              "#ed7953"
             ],
             [
              0.7777777777777778,
              "#fb9f3a"
             ],
             [
              0.8888888888888888,
              "#fdca26"
             ],
             [
              1,
              "#f0f921"
             ]
            ],
            "type": "surface"
           }
          ],
          "table": [
           {
            "cells": {
             "fill": {
              "color": "#EBF0F8"
             },
             "line": {
              "color": "white"
             }
            },
            "header": {
             "fill": {
              "color": "#C8D4E3"
             },
             "line": {
              "color": "white"
             }
            },
            "type": "table"
           }
          ]
         },
         "layout": {
          "annotationdefaults": {
           "arrowcolor": "#2a3f5f",
           "arrowhead": 0,
           "arrowwidth": 1
          },
          "autotypenumbers": "strict",
          "coloraxis": {
           "colorbar": {
            "outlinewidth": 0,
            "ticks": ""
           }
          },
          "colorscale": {
           "diverging": [
            [
             0,
             "#8e0152"
            ],
            [
             0.1,
             "#c51b7d"
            ],
            [
             0.2,
             "#de77ae"
            ],
            [
             0.3,
             "#f1b6da"
            ],
            [
             0.4,
             "#fde0ef"
            ],
            [
             0.5,
             "#f7f7f7"
            ],
            [
             0.6,
             "#e6f5d0"
            ],
            [
             0.7,
             "#b8e186"
            ],
            [
             0.8,
             "#7fbc41"
            ],
            [
             0.9,
             "#4d9221"
            ],
            [
             1,
             "#276419"
            ]
           ],
           "sequential": [
            [
             0,
             "#0d0887"
            ],
            [
             0.1111111111111111,
             "#46039f"
            ],
            [
             0.2222222222222222,
             "#7201a8"
            ],
            [
             0.3333333333333333,
             "#9c179e"
            ],
            [
             0.4444444444444444,
             "#bd3786"
            ],
            [
             0.5555555555555556,
             "#d8576b"
            ],
            [
             0.6666666666666666,
             "#ed7953"
            ],
            [
             0.7777777777777778,
             "#fb9f3a"
            ],
            [
             0.8888888888888888,
             "#fdca26"
            ],
            [
             1,
             "#f0f921"
            ]
           ],
           "sequentialminus": [
            [
             0,
             "#0d0887"
            ],
            [
             0.1111111111111111,
             "#46039f"
            ],
            [
             0.2222222222222222,
             "#7201a8"
            ],
            [
             0.3333333333333333,
             "#9c179e"
            ],
            [
             0.4444444444444444,
             "#bd3786"
            ],
            [
             0.5555555555555556,
             "#d8576b"
            ],
            [
             0.6666666666666666,
             "#ed7953"
            ],
            [
             0.7777777777777778,
             "#fb9f3a"
            ],
            [
             0.8888888888888888,
             "#fdca26"
            ],
            [
             1,
             "#f0f921"
            ]
           ]
          },
          "colorway": [
           "#636efa",
           "#EF553B",
           "#00cc96",
           "#ab63fa",
           "#FFA15A",
           "#19d3f3",
           "#FF6692",
           "#B6E880",
           "#FF97FF",
           "#FECB52"
          ],
          "font": {
           "color": "#2a3f5f"
          },
          "geo": {
           "bgcolor": "white",
           "lakecolor": "white",
           "landcolor": "white",
           "showlakes": true,
           "showland": true,
           "subunitcolor": "#C8D4E3"
          },
          "hoverlabel": {
           "align": "left"
          },
          "hovermode": "closest",
          "mapbox": {
           "style": "light"
          },
          "paper_bgcolor": "white",
          "plot_bgcolor": "white",
          "polar": {
           "angularaxis": {
            "gridcolor": "#EBF0F8",
            "linecolor": "#EBF0F8",
            "ticks": ""
           },
           "bgcolor": "white",
           "radialaxis": {
            "gridcolor": "#EBF0F8",
            "linecolor": "#EBF0F8",
            "ticks": ""
           }
          },
          "scene": {
           "xaxis": {
            "backgroundcolor": "white",
            "gridcolor": "#DFE8F3",
            "gridwidth": 2,
            "linecolor": "#EBF0F8",
            "showbackground": true,
            "ticks": "",
            "zerolinecolor": "#EBF0F8"
           },
           "yaxis": {
            "backgroundcolor": "white",
            "gridcolor": "#DFE8F3",
            "gridwidth": 2,
            "linecolor": "#EBF0F8",
            "showbackground": true,
            "ticks": "",
            "zerolinecolor": "#EBF0F8"
           },
           "zaxis": {
            "backgroundcolor": "white",
            "gridcolor": "#DFE8F3",
            "gridwidth": 2,
            "linecolor": "#EBF0F8",
            "showbackground": true,
            "ticks": "",
            "zerolinecolor": "#EBF0F8"
           }
          },
          "shapedefaults": {
           "line": {
            "color": "#2a3f5f"
           }
          },
          "ternary": {
           "aaxis": {
            "gridcolor": "#DFE8F3",
            "linecolor": "#A2B1C6",
            "ticks": ""
           },
           "baxis": {
            "gridcolor": "#DFE8F3",
            "linecolor": "#A2B1C6",
            "ticks": ""
           },
           "bgcolor": "white",
           "caxis": {
            "gridcolor": "#DFE8F3",
            "linecolor": "#A2B1C6",
            "ticks": ""
           }
          },
          "title": {
           "x": 0.05
          },
          "xaxis": {
           "automargin": true,
           "gridcolor": "#EBF0F8",
           "linecolor": "#EBF0F8",
           "ticks": "",
           "title": {
            "standoff": 15
           },
           "zerolinecolor": "#EBF0F8",
           "zerolinewidth": 2
          },
          "yaxis": {
           "automargin": true,
           "gridcolor": "#EBF0F8",
           "linecolor": "#EBF0F8",
           "ticks": "",
           "title": {
            "standoff": 15
           },
           "zerolinecolor": "#EBF0F8",
           "zerolinewidth": 2
          }
         }
        },
        "title": {
         "text": "Time Comparison"
        },
        "xaxis": {
         "linewidth": 1.5,
         "showgrid": true,
         "showline": true,
         "showticklabels": true,
         "tickfont": {
          "color": "#000000",
          "family": "Verdana",
          "size": 11
         },
         "ticks": "outside",
         "title": {
          "text": "Iterations"
         }
        },
        "yaxis": {
         "showgrid": true,
         "showline": false,
         "showticklabels": true,
         "tickfont": {
          "color": "#000000",
          "family": "Verdana",
          "size": 11
         },
         "ticks": "outside",
         "title": {
          "text": "Time (ms)"
         },
         "zeroline": false
        }
       }
      }
     },
     "metadata": {},
     "output_type": "display_data"
    }
   ],
   "source": [
    "# seed for reproducibility\n",
    "np.random.seed(0)\n",
    "\n",
    "# Define the range of values\n",
    "mutation = ['swap_mutation', 'random_mutation', 'inversion_mutation']\n",
    "\n",
    "# Print current parameters to use in best_operators_search\n",
    "print('\\033[1mParameters for GA:\\033[0m', end='\\n\\n')\n",
    "print(params, end='\\n\\n')\n",
    "\n",
    "param_list, df = best_operators_search('mut', mutation, params)\n",
    "\n",
    "# Displaying average results of the 100 iterations\n",
    "print('\\033[1mAverage results:', end='\\n')\n",
    "df['const'] = 'const'\n",
    "df_avg = df.groupby('const').mean().reset_index(drop=True).round(3)\n",
    "display(df_avg)\n",
    "\n",
    "# Getting best parameter by fitness & time\n",
    "best_param_fit = df_avg[[col for col in df_avg.columns if col.startswith('Fit_')]].idxmax(axis=1)[0].replace('Fit_', '')\n",
    "best_param_time = df_avg[[col for col in df_avg.columns if col.startswith('Time_')]].idxmin(axis=1)[0].replace('Time_', '')\n",
    "print(f'\\nBest Fitness: \\033[1m{best_param_fit}\\033[0m\\n\\nBest Time: \\033[1m{best_param_time}\\033[0m', end='\\n\\n')\n",
    "\n",
    "# Setting the best parameter as new default value\n",
    "replace_param = {'mut': best_param_time}\n",
    "\n",
    "# Plotting results\n",
    "plot_values(data = df, colors = color_palette[:len(mutation)], layout=2, template='white', grid=True)"
   ]
  },
  {
   "attachments": {},
   "cell_type": "markdown",
   "metadata": {},
   "source": [
    "### __2.2 Crossover Operator__"
   ]
  },
  {
   "cell_type": "code",
   "execution_count": 14,
   "metadata": {},
   "outputs": [
    {
     "name": "stdout",
     "output_type": "stream",
     "text": [
      "\u001b[1mParameters for GA:\u001b[0m\n",
      "\n",
      "{'n': 12, 'pop': 100, 'gen': 50, 'mut_perc': 0.05, 'cross_perc': 0.75, 'mut': 'swap_mutation', 'cross': 'single_cross', 'select': 'tournament_selection'}\n",
      "\n",
      "\u001b[1mAverage results:\n"
     ]
    },
    {
     "data": {
      "text/html": [
       "<div>\n",
       "<style scoped>\n",
       "    .dataframe tbody tr th:only-of-type {\n",
       "        vertical-align: middle;\n",
       "    }\n",
       "\n",
       "    .dataframe tbody tr th {\n",
       "        vertical-align: top;\n",
       "    }\n",
       "\n",
       "    .dataframe thead th {\n",
       "        text-align: right;\n",
       "    }\n",
       "</style>\n",
       "<table border=\"1\" class=\"dataframe\">\n",
       "  <thead>\n",
       "    <tr style=\"text-align: right;\">\n",
       "      <th></th>\n",
       "      <th>Fit_single_cross</th>\n",
       "      <th>Fit_cycle_cross</th>\n",
       "      <th>Fit_pmx</th>\n",
       "      <th>Fit_arithmetic_cross</th>\n",
       "      <th>Time_single_cross</th>\n",
       "      <th>Time_cycle_cross</th>\n",
       "      <th>Time_pmx</th>\n",
       "      <th>Time_arithmetic_cross</th>\n",
       "    </tr>\n",
       "  </thead>\n",
       "  <tbody>\n",
       "    <tr>\n",
       "      <th>0</th>\n",
       "      <td>96.242</td>\n",
       "      <td>96.424</td>\n",
       "      <td>96.121</td>\n",
       "      <td>96.288</td>\n",
       "      <td>9.38</td>\n",
       "      <td>11.37</td>\n",
       "      <td>11.89</td>\n",
       "      <td>14.18</td>\n",
       "    </tr>\n",
       "  </tbody>\n",
       "</table>\n",
       "</div>"
      ],
      "text/plain": [
       "   Fit_single_cross  Fit_cycle_cross  Fit_pmx  Fit_arithmetic_cross   \n",
       "0            96.242           96.424   96.121                96.288  \\\n",
       "\n",
       "   Time_single_cross  Time_cycle_cross  Time_pmx  Time_arithmetic_cross  \n",
       "0               9.38             11.37     11.89                  14.18  "
      ]
     },
     "metadata": {},
     "output_type": "display_data"
    },
    {
     "name": "stdout",
     "output_type": "stream",
     "text": [
      "\n",
      "Best Fitness: \u001b[1mcycle_cross\u001b[0m\n",
      "\n",
      "Best Time: \u001b[1msingle_cross\u001b[0m\n",
      "\n"
     ]
    },
    {
     "data": {
      "application/vnd.plotly.v1+json": {
       "config": {
        "plotlyServerURL": "https://plot.ly"
       },
       "data": [
        {
         "line": {
          "color": "gray",
          "width": 2
         },
         "name": "single_cross",
         "type": "scatter",
         "x": [
          0,
          1,
          2,
          3,
          4,
          5,
          6,
          7,
          8,
          9,
          10,
          11,
          12,
          13,
          14,
          15,
          16,
          17,
          18,
          19,
          20,
          21,
          22,
          23,
          24,
          25,
          26,
          27,
          28,
          29,
          30,
          31,
          32,
          33,
          34,
          35,
          36,
          37,
          38,
          39,
          40,
          41,
          42,
          43,
          44,
          45,
          46,
          47,
          48,
          49,
          50,
          51,
          52,
          53,
          54,
          55,
          56,
          57,
          58,
          59,
          60,
          61,
          62,
          63,
          64,
          65,
          66,
          67,
          68,
          69,
          70,
          71,
          72,
          73,
          74,
          75,
          76,
          77,
          78,
          79,
          80,
          81,
          82,
          83,
          84,
          85,
          86,
          87,
          88,
          89,
          90,
          91,
          92,
          93,
          94,
          95,
          96,
          97,
          98,
          99
         ],
         "y": [
          95.45454545454545,
          95.45454545454545,
          95.45454545454545,
          95.45454545454545,
          96.96969696969697,
          95.45454545454545,
          95.45454545454545,
          96.96969696969697,
          98.48484848484848,
          96.96969696969697,
          95.45454545454545,
          95.45454545454545,
          95.45454545454545,
          96.96969696969697,
          95.45454545454545,
          96.96969696969697,
          95.45454545454545,
          96.96969696969697,
          96.96969696969697,
          96.96969696969697,
          96.96969696969697,
          96.96969696969697,
          96.96969696969697,
          96.96969696969697,
          95.45454545454545,
          95.45454545454545,
          96.96969696969697,
          96.96969696969697,
          95.45454545454545,
          96.96969696969697,
          96.96969696969697,
          95.45454545454545,
          96.96969696969697,
          96.96969696969697,
          96.96969696969697,
          96.96969696969697,
          95.45454545454545,
          96.96969696969697,
          95.45454545454545,
          95.45454545454545,
          96.96969696969697,
          96.96969696969697,
          95.45454545454545,
          95.45454545454545,
          95.45454545454545,
          96.96969696969697,
          96.96969696969697,
          96.96969696969697,
          95.45454545454545,
          95.45454545454545,
          95.45454545454545,
          95.45454545454545,
          96.96969696969697,
          95.45454545454545,
          95.45454545454545,
          95.45454545454545,
          96.96969696969697,
          93.93939393939394,
          96.96969696969697,
          96.96969696969697,
          96.96969696969697,
          96.96969696969697,
          98.48484848484848,
          93.93939393939394,
          95.45454545454545,
          96.96969696969697,
          95.45454545454545,
          96.96969696969697,
          96.96969696969697,
          95.45454545454545,
          95.45454545454545,
          96.96969696969697,
          96.96969696969697,
          95.45454545454545,
          95.45454545454545,
          95.45454545454545,
          95.45454545454545,
          96.96969696969697,
          96.96969696969697,
          95.45454545454545,
          96.96969696969697,
          95.45454545454545,
          95.45454545454545,
          96.96969696969697,
          96.96969696969697,
          93.93939393939394,
          96.96969696969697,
          95.45454545454545,
          95.45454545454545,
          96.96969696969697,
          98.48484848484848,
          95.45454545454545,
          96.96969696969697,
          96.96969696969697,
          96.96969696969697,
          95.45454545454545,
          95.45454545454545,
          96.96969696969697,
          95.45454545454545,
          96.96969696969697
         ]
        },
        {
         "marker": {
          "color": "gray",
          "size": 8
         },
         "mode": "markers",
         "name": "",
         "type": "scatter",
         "x": [
          0,
          99
         ],
         "y": [
          95.45454545454545,
          96.96969696969697
         ]
        },
        {
         "line": {
          "color": "steelblue",
          "width": 2
         },
         "name": "cycle_cross",
         "type": "scatter",
         "x": [
          0,
          1,
          2,
          3,
          4,
          5,
          6,
          7,
          8,
          9,
          10,
          11,
          12,
          13,
          14,
          15,
          16,
          17,
          18,
          19,
          20,
          21,
          22,
          23,
          24,
          25,
          26,
          27,
          28,
          29,
          30,
          31,
          32,
          33,
          34,
          35,
          36,
          37,
          38,
          39,
          40,
          41,
          42,
          43,
          44,
          45,
          46,
          47,
          48,
          49,
          50,
          51,
          52,
          53,
          54,
          55,
          56,
          57,
          58,
          59,
          60,
          61,
          62,
          63,
          64,
          65,
          66,
          67,
          68,
          69,
          70,
          71,
          72,
          73,
          74,
          75,
          76,
          77,
          78,
          79,
          80,
          81,
          82,
          83,
          84,
          85,
          86,
          87,
          88,
          89,
          90,
          91,
          92,
          93,
          94,
          95,
          96,
          97,
          98,
          99
         ],
         "y": [
          96.96969696969697,
          95.45454545454545,
          95.45454545454545,
          95.45454545454545,
          96.96969696969697,
          95.45454545454545,
          96.96969696969697,
          95.45454545454545,
          96.96969696969697,
          95.45454545454545,
          95.45454545454545,
          96.96969696969697,
          96.96969696969697,
          95.45454545454545,
          96.96969696969697,
          96.96969696969697,
          96.96969696969697,
          95.45454545454545,
          95.45454545454545,
          96.96969696969697,
          95.45454545454545,
          96.96969696969697,
          96.96969696969697,
          95.45454545454545,
          96.96969696969697,
          95.45454545454545,
          95.45454545454545,
          96.96969696969697,
          95.45454545454545,
          96.96969696969697,
          96.96969696969697,
          96.96969696969697,
          96.96969696969697,
          95.45454545454545,
          96.96969696969697,
          98.48484848484848,
          96.96969696969697,
          98.48484848484848,
          96.96969696969697,
          95.45454545454545,
          96.96969696969697,
          95.45454545454545,
          96.96969696969697,
          95.45454545454545,
          96.96969696969697,
          95.45454545454545,
          96.96969696969697,
          96.96969696969697,
          96.96969696969697,
          95.45454545454545,
          96.96969696969697,
          96.96969696969697,
          95.45454545454545,
          95.45454545454545,
          95.45454545454545,
          96.96969696969697,
          96.96969696969697,
          96.96969696969697,
          95.45454545454545,
          98.48484848484848,
          95.45454545454545,
          95.45454545454545,
          95.45454545454545,
          95.45454545454545,
          95.45454545454545,
          98.48484848484848,
          96.96969696969697,
          95.45454545454545,
          96.96969696969697,
          96.96969696969697,
          96.96969696969697,
          95.45454545454545,
          98.48484848484848,
          96.96969696969697,
          98.48484848484848,
          95.45454545454545,
          95.45454545454545,
          96.96969696969697,
          95.45454545454545,
          96.96969696969697,
          95.45454545454545,
          96.96969696969697,
          95.45454545454545,
          96.96969696969697,
          95.45454545454545,
          95.45454545454545,
          98.48484848484848,
          96.96969696969697,
          98.48484848484848,
          95.45454545454545,
          96.96969696969697,
          95.45454545454545,
          95.45454545454545,
          96.96969696969697,
          95.45454545454545,
          96.96969696969697,
          95.45454545454545,
          96.96969696969697,
          98.48484848484848,
          95.45454545454545
         ]
        },
        {
         "marker": {
          "color": "steelblue",
          "size": 8
         },
         "mode": "markers",
         "name": "",
         "type": "scatter",
         "x": [
          0,
          99
         ],
         "y": [
          96.96969696969697,
          95.45454545454545
         ]
        },
        {
         "line": {
          "color": "purple",
          "width": 2
         },
         "name": "pmx",
         "type": "scatter",
         "x": [
          0,
          1,
          2,
          3,
          4,
          5,
          6,
          7,
          8,
          9,
          10,
          11,
          12,
          13,
          14,
          15,
          16,
          17,
          18,
          19,
          20,
          21,
          22,
          23,
          24,
          25,
          26,
          27,
          28,
          29,
          30,
          31,
          32,
          33,
          34,
          35,
          36,
          37,
          38,
          39,
          40,
          41,
          42,
          43,
          44,
          45,
          46,
          47,
          48,
          49,
          50,
          51,
          52,
          53,
          54,
          55,
          56,
          57,
          58,
          59,
          60,
          61,
          62,
          63,
          64,
          65,
          66,
          67,
          68,
          69,
          70,
          71,
          72,
          73,
          74,
          75,
          76,
          77,
          78,
          79,
          80,
          81,
          82,
          83,
          84,
          85,
          86,
          87,
          88,
          89,
          90,
          91,
          92,
          93,
          94,
          95,
          96,
          97,
          98,
          99
         ],
         "y": [
          95.45454545454545,
          95.45454545454545,
          95.45454545454545,
          93.93939393939394,
          95.45454545454545,
          95.45454545454545,
          96.96969696969697,
          95.45454545454545,
          95.45454545454545,
          95.45454545454545,
          95.45454545454545,
          95.45454545454545,
          95.45454545454545,
          96.96969696969697,
          95.45454545454545,
          95.45454545454545,
          96.96969696969697,
          96.96969696969697,
          95.45454545454545,
          95.45454545454545,
          96.96969696969697,
          95.45454545454545,
          95.45454545454545,
          95.45454545454545,
          95.45454545454545,
          96.96969696969697,
          93.93939393939394,
          96.96969696969697,
          95.45454545454545,
          95.45454545454545,
          95.45454545454545,
          95.45454545454545,
          96.96969696969697,
          96.96969696969697,
          95.45454545454545,
          95.45454545454545,
          95.45454545454545,
          95.45454545454545,
          95.45454545454545,
          96.96969696969697,
          96.96969696969697,
          95.45454545454545,
          96.96969696969697,
          96.96969696969697,
          95.45454545454545,
          95.45454545454545,
          95.45454545454545,
          96.96969696969697,
          95.45454545454545,
          95.45454545454545,
          96.96969696969697,
          96.96969696969697,
          95.45454545454545,
          96.96969696969697,
          96.96969696969697,
          96.96969696969697,
          98.48484848484848,
          96.96969696969697,
          95.45454545454545,
          95.45454545454545,
          95.45454545454545,
          95.45454545454545,
          96.96969696969697,
          96.96969696969697,
          96.96969696969697,
          95.45454545454545,
          96.96969696969697,
          95.45454545454545,
          98.48484848484848,
          95.45454545454545,
          96.96969696969697,
          96.96969696969697,
          100,
          96.96969696969697,
          95.45454545454545,
          95.45454545454545,
          95.45454545454545,
          95.45454545454545,
          95.45454545454545,
          95.45454545454545,
          95.45454545454545,
          95.45454545454545,
          96.96969696969697,
          95.45454545454545,
          96.96969696969697,
          96.96969696969697,
          96.96969696969697,
          96.96969696969697,
          96.96969696969697,
          95.45454545454545,
          95.45454545454545,
          95.45454545454545,
          98.48484848484848,
          95.45454545454545,
          96.96969696969697,
          96.96969696969697,
          95.45454545454545,
          96.96969696969697,
          95.45454545454545,
          96.96969696969697
         ]
        },
        {
         "marker": {
          "color": "purple",
          "size": 8
         },
         "mode": "markers",
         "name": "",
         "type": "scatter",
         "x": [
          0,
          99
         ],
         "y": [
          95.45454545454545,
          96.96969696969697
         ]
        },
        {
         "line": {
          "color": "darkgray",
          "width": 2
         },
         "name": "arithmetic_cross",
         "type": "scatter",
         "x": [
          0,
          1,
          2,
          3,
          4,
          5,
          6,
          7,
          8,
          9,
          10,
          11,
          12,
          13,
          14,
          15,
          16,
          17,
          18,
          19,
          20,
          21,
          22,
          23,
          24,
          25,
          26,
          27,
          28,
          29,
          30,
          31,
          32,
          33,
          34,
          35,
          36,
          37,
          38,
          39,
          40,
          41,
          42,
          43,
          44,
          45,
          46,
          47,
          48,
          49,
          50,
          51,
          52,
          53,
          54,
          55,
          56,
          57,
          58,
          59,
          60,
          61,
          62,
          63,
          64,
          65,
          66,
          67,
          68,
          69,
          70,
          71,
          72,
          73,
          74,
          75,
          76,
          77,
          78,
          79,
          80,
          81,
          82,
          83,
          84,
          85,
          86,
          87,
          88,
          89,
          90,
          91,
          92,
          93,
          94,
          95,
          96,
          97,
          98,
          99
         ],
         "y": [
          96.96969696969697,
          95.45454545454545,
          96.96969696969697,
          98.48484848484848,
          95.45454545454545,
          95.45454545454545,
          95.45454545454545,
          96.96969696969697,
          95.45454545454545,
          96.96969696969697,
          95.45454545454545,
          95.45454545454545,
          96.96969696969697,
          96.96969696969697,
          95.45454545454545,
          95.45454545454545,
          95.45454545454545,
          95.45454545454545,
          95.45454545454545,
          95.45454545454545,
          96.96969696969697,
          96.96969696969697,
          95.45454545454545,
          95.45454545454545,
          95.45454545454545,
          96.96969696969697,
          98.48484848484848,
          95.45454545454545,
          96.96969696969697,
          95.45454545454545,
          95.45454545454545,
          96.96969696969697,
          96.96969696969697,
          95.45454545454545,
          96.96969696969697,
          96.96969696969697,
          96.96969696969697,
          96.96969696969697,
          95.45454545454545,
          95.45454545454545,
          95.45454545454545,
          96.96969696969697,
          95.45454545454545,
          96.96969696969697,
          95.45454545454545,
          96.96969696969697,
          96.96969696969697,
          96.96969696969697,
          95.45454545454545,
          96.96969696969697,
          98.48484848484848,
          96.96969696969697,
          98.48484848484848,
          93.93939393939394,
          96.96969696969697,
          95.45454545454545,
          96.96969696969697,
          95.45454545454545,
          95.45454545454545,
          95.45454545454545,
          96.96969696969697,
          96.96969696969697,
          96.96969696969697,
          95.45454545454545,
          96.96969696969697,
          95.45454545454545,
          96.96969696969697,
          96.96969696969697,
          98.48484848484848,
          96.96969696969697,
          95.45454545454545,
          95.45454545454545,
          96.96969696969697,
          96.96969696969697,
          95.45454545454545,
          96.96969696969697,
          95.45454545454545,
          96.96969696969697,
          95.45454545454545,
          96.96969696969697,
          95.45454545454545,
          95.45454545454545,
          96.96969696969697,
          96.96969696969697,
          96.96969696969697,
          95.45454545454545,
          96.96969696969697,
          95.45454545454545,
          96.96969696969697,
          95.45454545454545,
          95.45454545454545,
          95.45454545454545,
          95.45454545454545,
          95.45454545454545,
          95.45454545454545,
          96.96969696969697,
          96.96969696969697,
          95.45454545454545,
          96.96969696969697,
          96.96969696969697
         ]
        },
        {
         "marker": {
          "color": "darkgray",
          "size": 8
         },
         "mode": "markers",
         "name": "",
         "type": "scatter",
         "x": [
          0,
          99
         ],
         "y": [
          96.96969696969697,
          96.96969696969697
         ]
        }
       ],
       "layout": {
        "font": {
         "family": "Verdana",
         "size": 14
        },
        "template": {
         "data": {
          "bar": [
           {
            "error_x": {
             "color": "#2a3f5f"
            },
            "error_y": {
             "color": "#2a3f5f"
            },
            "marker": {
             "line": {
              "color": "white",
              "width": 0.5
             },
             "pattern": {
              "fillmode": "overlay",
              "size": 10,
              "solidity": 0.2
             }
            },
            "type": "bar"
           }
          ],
          "barpolar": [
           {
            "marker": {
             "line": {
              "color": "white",
              "width": 0.5
             },
             "pattern": {
              "fillmode": "overlay",
              "size": 10,
              "solidity": 0.2
             }
            },
            "type": "barpolar"
           }
          ],
          "carpet": [
           {
            "aaxis": {
             "endlinecolor": "#2a3f5f",
             "gridcolor": "#C8D4E3",
             "linecolor": "#C8D4E3",
             "minorgridcolor": "#C8D4E3",
             "startlinecolor": "#2a3f5f"
            },
            "baxis": {
             "endlinecolor": "#2a3f5f",
             "gridcolor": "#C8D4E3",
             "linecolor": "#C8D4E3",
             "minorgridcolor": "#C8D4E3",
             "startlinecolor": "#2a3f5f"
            },
            "type": "carpet"
           }
          ],
          "choropleth": [
           {
            "colorbar": {
             "outlinewidth": 0,
             "ticks": ""
            },
            "type": "choropleth"
           }
          ],
          "contour": [
           {
            "colorbar": {
             "outlinewidth": 0,
             "ticks": ""
            },
            "colorscale": [
             [
              0,
              "#0d0887"
             ],
             [
              0.1111111111111111,
              "#46039f"
             ],
             [
              0.2222222222222222,
              "#7201a8"
             ],
             [
              0.3333333333333333,
              "#9c179e"
             ],
             [
              0.4444444444444444,
              "#bd3786"
             ],
             [
              0.5555555555555556,
              "#d8576b"
             ],
             [
              0.6666666666666666,
              "#ed7953"
             ],
             [
              0.7777777777777778,
              "#fb9f3a"
             ],
             [
              0.8888888888888888,
              "#fdca26"
             ],
             [
              1,
              "#f0f921"
             ]
            ],
            "type": "contour"
           }
          ],
          "contourcarpet": [
           {
            "colorbar": {
             "outlinewidth": 0,
             "ticks": ""
            },
            "type": "contourcarpet"
           }
          ],
          "heatmap": [
           {
            "colorbar": {
             "outlinewidth": 0,
             "ticks": ""
            },
            "colorscale": [
             [
              0,
              "#0d0887"
             ],
             [
              0.1111111111111111,
              "#46039f"
             ],
             [
              0.2222222222222222,
              "#7201a8"
             ],
             [
              0.3333333333333333,
              "#9c179e"
             ],
             [
              0.4444444444444444,
              "#bd3786"
             ],
             [
              0.5555555555555556,
              "#d8576b"
             ],
             [
              0.6666666666666666,
              "#ed7953"
             ],
             [
              0.7777777777777778,
              "#fb9f3a"
             ],
             [
              0.8888888888888888,
              "#fdca26"
             ],
             [
              1,
              "#f0f921"
             ]
            ],
            "type": "heatmap"
           }
          ],
          "heatmapgl": [
           {
            "colorbar": {
             "outlinewidth": 0,
             "ticks": ""
            },
            "colorscale": [
             [
              0,
              "#0d0887"
             ],
             [
              0.1111111111111111,
              "#46039f"
             ],
             [
              0.2222222222222222,
              "#7201a8"
             ],
             [
              0.3333333333333333,
              "#9c179e"
             ],
             [
              0.4444444444444444,
              "#bd3786"
             ],
             [
              0.5555555555555556,
              "#d8576b"
             ],
             [
              0.6666666666666666,
              "#ed7953"
             ],
             [
              0.7777777777777778,
              "#fb9f3a"
             ],
             [
              0.8888888888888888,
              "#fdca26"
             ],
             [
              1,
              "#f0f921"
             ]
            ],
            "type": "heatmapgl"
           }
          ],
          "histogram": [
           {
            "marker": {
             "pattern": {
              "fillmode": "overlay",
              "size": 10,
              "solidity": 0.2
             }
            },
            "type": "histogram"
           }
          ],
          "histogram2d": [
           {
            "colorbar": {
             "outlinewidth": 0,
             "ticks": ""
            },
            "colorscale": [
             [
              0,
              "#0d0887"
             ],
             [
              0.1111111111111111,
              "#46039f"
             ],
             [
              0.2222222222222222,
              "#7201a8"
             ],
             [
              0.3333333333333333,
              "#9c179e"
             ],
             [
              0.4444444444444444,
              "#bd3786"
             ],
             [
              0.5555555555555556,
              "#d8576b"
             ],
             [
              0.6666666666666666,
              "#ed7953"
             ],
             [
              0.7777777777777778,
              "#fb9f3a"
             ],
             [
              0.8888888888888888,
              "#fdca26"
             ],
             [
              1,
              "#f0f921"
             ]
            ],
            "type": "histogram2d"
           }
          ],
          "histogram2dcontour": [
           {
            "colorbar": {
             "outlinewidth": 0,
             "ticks": ""
            },
            "colorscale": [
             [
              0,
              "#0d0887"
             ],
             [
              0.1111111111111111,
              "#46039f"
             ],
             [
              0.2222222222222222,
              "#7201a8"
             ],
             [
              0.3333333333333333,
              "#9c179e"
             ],
             [
              0.4444444444444444,
              "#bd3786"
             ],
             [
              0.5555555555555556,
              "#d8576b"
             ],
             [
              0.6666666666666666,
              "#ed7953"
             ],
             [
              0.7777777777777778,
              "#fb9f3a"
             ],
             [
              0.8888888888888888,
              "#fdca26"
             ],
             [
              1,
              "#f0f921"
             ]
            ],
            "type": "histogram2dcontour"
           }
          ],
          "mesh3d": [
           {
            "colorbar": {
             "outlinewidth": 0,
             "ticks": ""
            },
            "type": "mesh3d"
           }
          ],
          "parcoords": [
           {
            "line": {
             "colorbar": {
              "outlinewidth": 0,
              "ticks": ""
             }
            },
            "type": "parcoords"
           }
          ],
          "pie": [
           {
            "automargin": true,
            "type": "pie"
           }
          ],
          "scatter": [
           {
            "fillpattern": {
             "fillmode": "overlay",
             "size": 10,
             "solidity": 0.2
            },
            "type": "scatter"
           }
          ],
          "scatter3d": [
           {
            "line": {
             "colorbar": {
              "outlinewidth": 0,
              "ticks": ""
             }
            },
            "marker": {
             "colorbar": {
              "outlinewidth": 0,
              "ticks": ""
             }
            },
            "type": "scatter3d"
           }
          ],
          "scattercarpet": [
           {
            "marker": {
             "colorbar": {
              "outlinewidth": 0,
              "ticks": ""
             }
            },
            "type": "scattercarpet"
           }
          ],
          "scattergeo": [
           {
            "marker": {
             "colorbar": {
              "outlinewidth": 0,
              "ticks": ""
             }
            },
            "type": "scattergeo"
           }
          ],
          "scattergl": [
           {
            "marker": {
             "colorbar": {
              "outlinewidth": 0,
              "ticks": ""
             }
            },
            "type": "scattergl"
           }
          ],
          "scattermapbox": [
           {
            "marker": {
             "colorbar": {
              "outlinewidth": 0,
              "ticks": ""
             }
            },
            "type": "scattermapbox"
           }
          ],
          "scatterpolar": [
           {
            "marker": {
             "colorbar": {
              "outlinewidth": 0,
              "ticks": ""
             }
            },
            "type": "scatterpolar"
           }
          ],
          "scatterpolargl": [
           {
            "marker": {
             "colorbar": {
              "outlinewidth": 0,
              "ticks": ""
             }
            },
            "type": "scatterpolargl"
           }
          ],
          "scatterternary": [
           {
            "marker": {
             "colorbar": {
              "outlinewidth": 0,
              "ticks": ""
             }
            },
            "type": "scatterternary"
           }
          ],
          "surface": [
           {
            "colorbar": {
             "outlinewidth": 0,
             "ticks": ""
            },
            "colorscale": [
             [
              0,
              "#0d0887"
             ],
             [
              0.1111111111111111,
              "#46039f"
             ],
             [
              0.2222222222222222,
              "#7201a8"
             ],
             [
              0.3333333333333333,
              "#9c179e"
             ],
             [
              0.4444444444444444,
              "#bd3786"
             ],
             [
              0.5555555555555556,
              "#d8576b"
             ],
             [
              0.6666666666666666,
              "#ed7953"
             ],
             [
              0.7777777777777778,
              "#fb9f3a"
             ],
             [
              0.8888888888888888,
              "#fdca26"
             ],
             [
              1,
              "#f0f921"
             ]
            ],
            "type": "surface"
           }
          ],
          "table": [
           {
            "cells": {
             "fill": {
              "color": "#EBF0F8"
             },
             "line": {
              "color": "white"
             }
            },
            "header": {
             "fill": {
              "color": "#C8D4E3"
             },
             "line": {
              "color": "white"
             }
            },
            "type": "table"
           }
          ]
         },
         "layout": {
          "annotationdefaults": {
           "arrowcolor": "#2a3f5f",
           "arrowhead": 0,
           "arrowwidth": 1
          },
          "autotypenumbers": "strict",
          "coloraxis": {
           "colorbar": {
            "outlinewidth": 0,
            "ticks": ""
           }
          },
          "colorscale": {
           "diverging": [
            [
             0,
             "#8e0152"
            ],
            [
             0.1,
             "#c51b7d"
            ],
            [
             0.2,
             "#de77ae"
            ],
            [
             0.3,
             "#f1b6da"
            ],
            [
             0.4,
             "#fde0ef"
            ],
            [
             0.5,
             "#f7f7f7"
            ],
            [
             0.6,
             "#e6f5d0"
            ],
            [
             0.7,
             "#b8e186"
            ],
            [
             0.8,
             "#7fbc41"
            ],
            [
             0.9,
             "#4d9221"
            ],
            [
             1,
             "#276419"
            ]
           ],
           "sequential": [
            [
             0,
             "#0d0887"
            ],
            [
             0.1111111111111111,
             "#46039f"
            ],
            [
             0.2222222222222222,
             "#7201a8"
            ],
            [
             0.3333333333333333,
             "#9c179e"
            ],
            [
             0.4444444444444444,
             "#bd3786"
            ],
            [
             0.5555555555555556,
             "#d8576b"
            ],
            [
             0.6666666666666666,
             "#ed7953"
            ],
            [
             0.7777777777777778,
             "#fb9f3a"
            ],
            [
             0.8888888888888888,
             "#fdca26"
            ],
            [
             1,
             "#f0f921"
            ]
           ],
           "sequentialminus": [
            [
             0,
             "#0d0887"
            ],
            [
             0.1111111111111111,
             "#46039f"
            ],
            [
             0.2222222222222222,
             "#7201a8"
            ],
            [
             0.3333333333333333,
             "#9c179e"
            ],
            [
             0.4444444444444444,
             "#bd3786"
            ],
            [
             0.5555555555555556,
             "#d8576b"
            ],
            [
             0.6666666666666666,
             "#ed7953"
            ],
            [
             0.7777777777777778,
             "#fb9f3a"
            ],
            [
             0.8888888888888888,
             "#fdca26"
            ],
            [
             1,
             "#f0f921"
            ]
           ]
          },
          "colorway": [
           "#636efa",
           "#EF553B",
           "#00cc96",
           "#ab63fa",
           "#FFA15A",
           "#19d3f3",
           "#FF6692",
           "#B6E880",
           "#FF97FF",
           "#FECB52"
          ],
          "font": {
           "color": "#2a3f5f"
          },
          "geo": {
           "bgcolor": "white",
           "lakecolor": "white",
           "landcolor": "white",
           "showlakes": true,
           "showland": true,
           "subunitcolor": "#C8D4E3"
          },
          "hoverlabel": {
           "align": "left"
          },
          "hovermode": "closest",
          "mapbox": {
           "style": "light"
          },
          "paper_bgcolor": "white",
          "plot_bgcolor": "white",
          "polar": {
           "angularaxis": {
            "gridcolor": "#EBF0F8",
            "linecolor": "#EBF0F8",
            "ticks": ""
           },
           "bgcolor": "white",
           "radialaxis": {
            "gridcolor": "#EBF0F8",
            "linecolor": "#EBF0F8",
            "ticks": ""
           }
          },
          "scene": {
           "xaxis": {
            "backgroundcolor": "white",
            "gridcolor": "#DFE8F3",
            "gridwidth": 2,
            "linecolor": "#EBF0F8",
            "showbackground": true,
            "ticks": "",
            "zerolinecolor": "#EBF0F8"
           },
           "yaxis": {
            "backgroundcolor": "white",
            "gridcolor": "#DFE8F3",
            "gridwidth": 2,
            "linecolor": "#EBF0F8",
            "showbackground": true,
            "ticks": "",
            "zerolinecolor": "#EBF0F8"
           },
           "zaxis": {
            "backgroundcolor": "white",
            "gridcolor": "#DFE8F3",
            "gridwidth": 2,
            "linecolor": "#EBF0F8",
            "showbackground": true,
            "ticks": "",
            "zerolinecolor": "#EBF0F8"
           }
          },
          "shapedefaults": {
           "line": {
            "color": "#2a3f5f"
           }
          },
          "ternary": {
           "aaxis": {
            "gridcolor": "#DFE8F3",
            "linecolor": "#A2B1C6",
            "ticks": ""
           },
           "baxis": {
            "gridcolor": "#DFE8F3",
            "linecolor": "#A2B1C6",
            "ticks": ""
           },
           "bgcolor": "white",
           "caxis": {
            "gridcolor": "#DFE8F3",
            "linecolor": "#A2B1C6",
            "ticks": ""
           }
          },
          "title": {
           "x": 0.05
          },
          "xaxis": {
           "automargin": true,
           "gridcolor": "#EBF0F8",
           "linecolor": "#EBF0F8",
           "ticks": "",
           "title": {
            "standoff": 15
           },
           "zerolinecolor": "#EBF0F8",
           "zerolinewidth": 2
          },
          "yaxis": {
           "automargin": true,
           "gridcolor": "#EBF0F8",
           "linecolor": "#EBF0F8",
           "ticks": "",
           "title": {
            "standoff": 15
           },
           "zerolinecolor": "#EBF0F8",
           "zerolinewidth": 2
          }
         }
        },
        "title": {
         "text": "Fitness Comparison"
        },
        "xaxis": {
         "linewidth": 1.5,
         "showgrid": true,
         "showline": true,
         "showticklabels": true,
         "tickfont": {
          "color": "#000000",
          "family": "Verdana",
          "size": 11
         },
         "ticks": "outside",
         "title": {
          "text": "Iterations"
         }
        },
        "yaxis": {
         "showgrid": true,
         "showline": false,
         "showticklabels": true,
         "tickfont": {
          "color": "#000000",
          "family": "Verdana",
          "size": 11
         },
         "ticks": "outside",
         "title": {
          "text": "Fitness"
         },
         "zeroline": false
        }
       }
      }
     },
     "metadata": {},
     "output_type": "display_data"
    },
    {
     "data": {
      "application/vnd.plotly.v1+json": {
       "config": {
        "plotlyServerURL": "https://plot.ly"
       },
       "data": [
        {
         "line": {
          "color": "gray",
          "width": 2
         },
         "name": "single_cross",
         "type": "scatter",
         "x": [
          0,
          1,
          2,
          3,
          4,
          5,
          6,
          7,
          8,
          9,
          10,
          11,
          12,
          13,
          14,
          15,
          16,
          17,
          18,
          19,
          20,
          21,
          22,
          23,
          24,
          25,
          26,
          27,
          28,
          29,
          30,
          31,
          32,
          33,
          34,
          35,
          36,
          37,
          38,
          39,
          40,
          41,
          42,
          43,
          44,
          45,
          46,
          47,
          48,
          49,
          50,
          51,
          52,
          53,
          54,
          55,
          56,
          57,
          58,
          59,
          60,
          61,
          62,
          63,
          64,
          65,
          66,
          67,
          68,
          69,
          70,
          71,
          72,
          73,
          74,
          75,
          76,
          77,
          78,
          79,
          80,
          81,
          82,
          83,
          84,
          85,
          86,
          87,
          88,
          89,
          90,
          91,
          92,
          93,
          94,
          95,
          96,
          97,
          98,
          99
         ],
         "y": [
          10,
          9,
          9,
          10,
          10,
          9,
          9,
          10,
          10,
          9,
          10,
          9,
          10,
          9,
          10,
          10,
          9,
          9,
          10,
          9,
          10,
          10,
          10,
          9,
          10,
          9,
          9,
          10,
          10,
          10,
          9,
          9,
          10,
          10,
          10,
          9,
          9,
          9,
          10,
          9,
          9,
          9,
          9,
          9,
          9,
          10,
          10,
          10,
          9,
          9,
          9,
          9,
          10,
          9,
          10,
          9,
          9,
          9,
          10,
          9,
          9,
          9,
          9,
          9,
          9,
          10,
          9,
          9,
          10,
          10,
          9,
          9,
          10,
          9,
          10,
          9,
          9,
          9,
          9,
          9,
          9,
          9,
          9,
          10,
          9,
          10,
          9,
          9,
          9,
          9,
          10,
          9,
          9,
          9,
          10,
          9,
          9,
          10,
          9,
          10
         ]
        },
        {
         "marker": {
          "color": "gray",
          "size": 8
         },
         "mode": "markers",
         "name": "",
         "type": "scatter",
         "x": [
          0,
          99
         ],
         "y": [
          10,
          10
         ]
        },
        {
         "line": {
          "color": "steelblue",
          "width": 2
         },
         "name": "cycle_cross",
         "type": "scatter",
         "x": [
          0,
          1,
          2,
          3,
          4,
          5,
          6,
          7,
          8,
          9,
          10,
          11,
          12,
          13,
          14,
          15,
          16,
          17,
          18,
          19,
          20,
          21,
          22,
          23,
          24,
          25,
          26,
          27,
          28,
          29,
          30,
          31,
          32,
          33,
          34,
          35,
          36,
          37,
          38,
          39,
          40,
          41,
          42,
          43,
          44,
          45,
          46,
          47,
          48,
          49,
          50,
          51,
          52,
          53,
          54,
          55,
          56,
          57,
          58,
          59,
          60,
          61,
          62,
          63,
          64,
          65,
          66,
          67,
          68,
          69,
          70,
          71,
          72,
          73,
          74,
          75,
          76,
          77,
          78,
          79,
          80,
          81,
          82,
          83,
          84,
          85,
          86,
          87,
          88,
          89,
          90,
          91,
          92,
          93,
          94,
          95,
          96,
          97,
          98,
          99
         ],
         "y": [
          11,
          12,
          11,
          11,
          12,
          11,
          11,
          11,
          11,
          11,
          11,
          11,
          11,
          11,
          12,
          11,
          11,
          11,
          11,
          11,
          11,
          12,
          11,
          11,
          12,
          11,
          11,
          12,
          12,
          11,
          11,
          12,
          11,
          11,
          11,
          11,
          12,
          11,
          11,
          12,
          11,
          12,
          11,
          11,
          11,
          11,
          11,
          11,
          12,
          11,
          12,
          11,
          11,
          11,
          11,
          11,
          12,
          12,
          12,
          12,
          11,
          12,
          11,
          12,
          11,
          12,
          11,
          12,
          11,
          11,
          12,
          11,
          11,
          12,
          12,
          11,
          11,
          11,
          11,
          12,
          11,
          11,
          12,
          12,
          12,
          11,
          11,
          11,
          12,
          11,
          12,
          12,
          11,
          12,
          12,
          12,
          12,
          12,
          12,
          11
         ]
        },
        {
         "marker": {
          "color": "steelblue",
          "size": 8
         },
         "mode": "markers",
         "name": "",
         "type": "scatter",
         "x": [
          0,
          99
         ],
         "y": [
          11,
          11
         ]
        },
        {
         "line": {
          "color": "purple",
          "width": 2
         },
         "name": "pmx",
         "type": "scatter",
         "x": [
          0,
          1,
          2,
          3,
          4,
          5,
          6,
          7,
          8,
          9,
          10,
          11,
          12,
          13,
          14,
          15,
          16,
          17,
          18,
          19,
          20,
          21,
          22,
          23,
          24,
          25,
          26,
          27,
          28,
          29,
          30,
          31,
          32,
          33,
          34,
          35,
          36,
          37,
          38,
          39,
          40,
          41,
          42,
          43,
          44,
          45,
          46,
          47,
          48,
          49,
          50,
          51,
          52,
          53,
          54,
          55,
          56,
          57,
          58,
          59,
          60,
          61,
          62,
          63,
          64,
          65,
          66,
          67,
          68,
          69,
          70,
          71,
          72,
          73,
          74,
          75,
          76,
          77,
          78,
          79,
          80,
          81,
          82,
          83,
          84,
          85,
          86,
          87,
          88,
          89,
          90,
          91,
          92,
          93,
          94,
          95,
          96,
          97,
          98,
          99
         ],
         "y": [
          12,
          12,
          12,
          11,
          12,
          12,
          12,
          12,
          12,
          12,
          11,
          12,
          11,
          12,
          12,
          11,
          12,
          12,
          12,
          12,
          12,
          12,
          12,
          12,
          12,
          12,
          12,
          12,
          12,
          11,
          12,
          12,
          12,
          12,
          12,
          12,
          12,
          12,
          12,
          12,
          12,
          11,
          12,
          12,
          12,
          12,
          12,
          12,
          11,
          12,
          12,
          12,
          12,
          12,
          12,
          12,
          12,
          12,
          12,
          12,
          11,
          12,
          12,
          12,
          12,
          12,
          12,
          12,
          12,
          12,
          12,
          12,
          12,
          12,
          12,
          12,
          12,
          12,
          12,
          12,
          12,
          12,
          12,
          12,
          12,
          12,
          12,
          12,
          12,
          12,
          11,
          12,
          12,
          11,
          12,
          12,
          11,
          12,
          12,
          12
         ]
        },
        {
         "marker": {
          "color": "purple",
          "size": 8
         },
         "mode": "markers",
         "name": "",
         "type": "scatter",
         "x": [
          0,
          99
         ],
         "y": [
          12,
          12
         ]
        },
        {
         "line": {
          "color": "darkgray",
          "width": 2
         },
         "name": "arithmetic_cross",
         "type": "scatter",
         "x": [
          0,
          1,
          2,
          3,
          4,
          5,
          6,
          7,
          8,
          9,
          10,
          11,
          12,
          13,
          14,
          15,
          16,
          17,
          18,
          19,
          20,
          21,
          22,
          23,
          24,
          25,
          26,
          27,
          28,
          29,
          30,
          31,
          32,
          33,
          34,
          35,
          36,
          37,
          38,
          39,
          40,
          41,
          42,
          43,
          44,
          45,
          46,
          47,
          48,
          49,
          50,
          51,
          52,
          53,
          54,
          55,
          56,
          57,
          58,
          59,
          60,
          61,
          62,
          63,
          64,
          65,
          66,
          67,
          68,
          69,
          70,
          71,
          72,
          73,
          74,
          75,
          76,
          77,
          78,
          79,
          80,
          81,
          82,
          83,
          84,
          85,
          86,
          87,
          88,
          89,
          90,
          91,
          92,
          93,
          94,
          95,
          96,
          97,
          98,
          99
         ],
         "y": [
          14,
          14,
          14,
          15,
          14,
          14,
          14,
          15,
          14,
          14,
          14,
          14,
          14,
          14,
          14,
          14,
          14,
          14,
          14,
          14,
          14,
          14,
          14,
          14,
          14,
          14,
          14,
          14,
          14,
          14,
          14,
          14,
          14,
          14,
          14,
          14,
          14,
          14,
          14,
          14,
          14,
          14,
          14,
          15,
          14,
          15,
          16,
          15,
          14,
          14,
          14,
          15,
          14,
          14,
          15,
          14,
          15,
          14,
          15,
          14,
          15,
          15,
          14,
          14,
          14,
          14,
          14,
          14,
          14,
          15,
          14,
          14,
          14,
          14,
          14,
          14,
          14,
          15,
          14,
          14,
          14,
          14,
          14,
          15,
          14,
          14,
          14,
          14,
          14,
          14,
          14,
          14,
          14,
          14,
          14,
          14,
          14,
          14,
          16,
          14
         ]
        },
        {
         "marker": {
          "color": "darkgray",
          "size": 8
         },
         "mode": "markers",
         "name": "",
         "type": "scatter",
         "x": [
          0,
          99
         ],
         "y": [
          14,
          14
         ]
        }
       ],
       "layout": {
        "font": {
         "family": "Verdana",
         "size": 14
        },
        "template": {
         "data": {
          "bar": [
           {
            "error_x": {
             "color": "#2a3f5f"
            },
            "error_y": {
             "color": "#2a3f5f"
            },
            "marker": {
             "line": {
              "color": "white",
              "width": 0.5
             },
             "pattern": {
              "fillmode": "overlay",
              "size": 10,
              "solidity": 0.2
             }
            },
            "type": "bar"
           }
          ],
          "barpolar": [
           {
            "marker": {
             "line": {
              "color": "white",
              "width": 0.5
             },
             "pattern": {
              "fillmode": "overlay",
              "size": 10,
              "solidity": 0.2
             }
            },
            "type": "barpolar"
           }
          ],
          "carpet": [
           {
            "aaxis": {
             "endlinecolor": "#2a3f5f",
             "gridcolor": "#C8D4E3",
             "linecolor": "#C8D4E3",
             "minorgridcolor": "#C8D4E3",
             "startlinecolor": "#2a3f5f"
            },
            "baxis": {
             "endlinecolor": "#2a3f5f",
             "gridcolor": "#C8D4E3",
             "linecolor": "#C8D4E3",
             "minorgridcolor": "#C8D4E3",
             "startlinecolor": "#2a3f5f"
            },
            "type": "carpet"
           }
          ],
          "choropleth": [
           {
            "colorbar": {
             "outlinewidth": 0,
             "ticks": ""
            },
            "type": "choropleth"
           }
          ],
          "contour": [
           {
            "colorbar": {
             "outlinewidth": 0,
             "ticks": ""
            },
            "colorscale": [
             [
              0,
              "#0d0887"
             ],
             [
              0.1111111111111111,
              "#46039f"
             ],
             [
              0.2222222222222222,
              "#7201a8"
             ],
             [
              0.3333333333333333,
              "#9c179e"
             ],
             [
              0.4444444444444444,
              "#bd3786"
             ],
             [
              0.5555555555555556,
              "#d8576b"
             ],
             [
              0.6666666666666666,
              "#ed7953"
             ],
             [
              0.7777777777777778,
              "#fb9f3a"
             ],
             [
              0.8888888888888888,
              "#fdca26"
             ],
             [
              1,
              "#f0f921"
             ]
            ],
            "type": "contour"
           }
          ],
          "contourcarpet": [
           {
            "colorbar": {
             "outlinewidth": 0,
             "ticks": ""
            },
            "type": "contourcarpet"
           }
          ],
          "heatmap": [
           {
            "colorbar": {
             "outlinewidth": 0,
             "ticks": ""
            },
            "colorscale": [
             [
              0,
              "#0d0887"
             ],
             [
              0.1111111111111111,
              "#46039f"
             ],
             [
              0.2222222222222222,
              "#7201a8"
             ],
             [
              0.3333333333333333,
              "#9c179e"
             ],
             [
              0.4444444444444444,
              "#bd3786"
             ],
             [
              0.5555555555555556,
              "#d8576b"
             ],
             [
              0.6666666666666666,
              "#ed7953"
             ],
             [
              0.7777777777777778,
              "#fb9f3a"
             ],
             [
              0.8888888888888888,
              "#fdca26"
             ],
             [
              1,
              "#f0f921"
             ]
            ],
            "type": "heatmap"
           }
          ],
          "heatmapgl": [
           {
            "colorbar": {
             "outlinewidth": 0,
             "ticks": ""
            },
            "colorscale": [
             [
              0,
              "#0d0887"
             ],
             [
              0.1111111111111111,
              "#46039f"
             ],
             [
              0.2222222222222222,
              "#7201a8"
             ],
             [
              0.3333333333333333,
              "#9c179e"
             ],
             [
              0.4444444444444444,
              "#bd3786"
             ],
             [
              0.5555555555555556,
              "#d8576b"
             ],
             [
              0.6666666666666666,
              "#ed7953"
             ],
             [
              0.7777777777777778,
              "#fb9f3a"
             ],
             [
              0.8888888888888888,
              "#fdca26"
             ],
             [
              1,
              "#f0f921"
             ]
            ],
            "type": "heatmapgl"
           }
          ],
          "histogram": [
           {
            "marker": {
             "pattern": {
              "fillmode": "overlay",
              "size": 10,
              "solidity": 0.2
             }
            },
            "type": "histogram"
           }
          ],
          "histogram2d": [
           {
            "colorbar": {
             "outlinewidth": 0,
             "ticks": ""
            },
            "colorscale": [
             [
              0,
              "#0d0887"
             ],
             [
              0.1111111111111111,
              "#46039f"
             ],
             [
              0.2222222222222222,
              "#7201a8"
             ],
             [
              0.3333333333333333,
              "#9c179e"
             ],
             [
              0.4444444444444444,
              "#bd3786"
             ],
             [
              0.5555555555555556,
              "#d8576b"
             ],
             [
              0.6666666666666666,
              "#ed7953"
             ],
             [
              0.7777777777777778,
              "#fb9f3a"
             ],
             [
              0.8888888888888888,
              "#fdca26"
             ],
             [
              1,
              "#f0f921"
             ]
            ],
            "type": "histogram2d"
           }
          ],
          "histogram2dcontour": [
           {
            "colorbar": {
             "outlinewidth": 0,
             "ticks": ""
            },
            "colorscale": [
             [
              0,
              "#0d0887"
             ],
             [
              0.1111111111111111,
              "#46039f"
             ],
             [
              0.2222222222222222,
              "#7201a8"
             ],
             [
              0.3333333333333333,
              "#9c179e"
             ],
             [
              0.4444444444444444,
              "#bd3786"
             ],
             [
              0.5555555555555556,
              "#d8576b"
             ],
             [
              0.6666666666666666,
              "#ed7953"
             ],
             [
              0.7777777777777778,
              "#fb9f3a"
             ],
             [
              0.8888888888888888,
              "#fdca26"
             ],
             [
              1,
              "#f0f921"
             ]
            ],
            "type": "histogram2dcontour"
           }
          ],
          "mesh3d": [
           {
            "colorbar": {
             "outlinewidth": 0,
             "ticks": ""
            },
            "type": "mesh3d"
           }
          ],
          "parcoords": [
           {
            "line": {
             "colorbar": {
              "outlinewidth": 0,
              "ticks": ""
             }
            },
            "type": "parcoords"
           }
          ],
          "pie": [
           {
            "automargin": true,
            "type": "pie"
           }
          ],
          "scatter": [
           {
            "fillpattern": {
             "fillmode": "overlay",
             "size": 10,
             "solidity": 0.2
            },
            "type": "scatter"
           }
          ],
          "scatter3d": [
           {
            "line": {
             "colorbar": {
              "outlinewidth": 0,
              "ticks": ""
             }
            },
            "marker": {
             "colorbar": {
              "outlinewidth": 0,
              "ticks": ""
             }
            },
            "type": "scatter3d"
           }
          ],
          "scattercarpet": [
           {
            "marker": {
             "colorbar": {
              "outlinewidth": 0,
              "ticks": ""
             }
            },
            "type": "scattercarpet"
           }
          ],
          "scattergeo": [
           {
            "marker": {
             "colorbar": {
              "outlinewidth": 0,
              "ticks": ""
             }
            },
            "type": "scattergeo"
           }
          ],
          "scattergl": [
           {
            "marker": {
             "colorbar": {
              "outlinewidth": 0,
              "ticks": ""
             }
            },
            "type": "scattergl"
           }
          ],
          "scattermapbox": [
           {
            "marker": {
             "colorbar": {
              "outlinewidth": 0,
              "ticks": ""
             }
            },
            "type": "scattermapbox"
           }
          ],
          "scatterpolar": [
           {
            "marker": {
             "colorbar": {
              "outlinewidth": 0,
              "ticks": ""
             }
            },
            "type": "scatterpolar"
           }
          ],
          "scatterpolargl": [
           {
            "marker": {
             "colorbar": {
              "outlinewidth": 0,
              "ticks": ""
             }
            },
            "type": "scatterpolargl"
           }
          ],
          "scatterternary": [
           {
            "marker": {
             "colorbar": {
              "outlinewidth": 0,
              "ticks": ""
             }
            },
            "type": "scatterternary"
           }
          ],
          "surface": [
           {
            "colorbar": {
             "outlinewidth": 0,
             "ticks": ""
            },
            "colorscale": [
             [
              0,
              "#0d0887"
             ],
             [
              0.1111111111111111,
              "#46039f"
             ],
             [
              0.2222222222222222,
              "#7201a8"
             ],
             [
              0.3333333333333333,
              "#9c179e"
             ],
             [
              0.4444444444444444,
              "#bd3786"
             ],
             [
              0.5555555555555556,
              "#d8576b"
             ],
             [
              0.6666666666666666,
              "#ed7953"
             ],
             [
              0.7777777777777778,
              "#fb9f3a"
             ],
             [
              0.8888888888888888,
              "#fdca26"
             ],
             [
              1,
              "#f0f921"
             ]
            ],
            "type": "surface"
           }
          ],
          "table": [
           {
            "cells": {
             "fill": {
              "color": "#EBF0F8"
             },
             "line": {
              "color": "white"
             }
            },
            "header": {
             "fill": {
              "color": "#C8D4E3"
             },
             "line": {
              "color": "white"
             }
            },
            "type": "table"
           }
          ]
         },
         "layout": {
          "annotationdefaults": {
           "arrowcolor": "#2a3f5f",
           "arrowhead": 0,
           "arrowwidth": 1
          },
          "autotypenumbers": "strict",
          "coloraxis": {
           "colorbar": {
            "outlinewidth": 0,
            "ticks": ""
           }
          },
          "colorscale": {
           "diverging": [
            [
             0,
             "#8e0152"
            ],
            [
             0.1,
             "#c51b7d"
            ],
            [
             0.2,
             "#de77ae"
            ],
            [
             0.3,
             "#f1b6da"
            ],
            [
             0.4,
             "#fde0ef"
            ],
            [
             0.5,
             "#f7f7f7"
            ],
            [
             0.6,
             "#e6f5d0"
            ],
            [
             0.7,
             "#b8e186"
            ],
            [
             0.8,
             "#7fbc41"
            ],
            [
             0.9,
             "#4d9221"
            ],
            [
             1,
             "#276419"
            ]
           ],
           "sequential": [
            [
             0,
             "#0d0887"
            ],
            [
             0.1111111111111111,
             "#46039f"
            ],
            [
             0.2222222222222222,
             "#7201a8"
            ],
            [
             0.3333333333333333,
             "#9c179e"
            ],
            [
             0.4444444444444444,
             "#bd3786"
            ],
            [
             0.5555555555555556,
             "#d8576b"
            ],
            [
             0.6666666666666666,
             "#ed7953"
            ],
            [
             0.7777777777777778,
             "#fb9f3a"
            ],
            [
             0.8888888888888888,
             "#fdca26"
            ],
            [
             1,
             "#f0f921"
            ]
           ],
           "sequentialminus": [
            [
             0,
             "#0d0887"
            ],
            [
             0.1111111111111111,
             "#46039f"
            ],
            [
             0.2222222222222222,
             "#7201a8"
            ],
            [
             0.3333333333333333,
             "#9c179e"
            ],
            [
             0.4444444444444444,
             "#bd3786"
            ],
            [
             0.5555555555555556,
             "#d8576b"
            ],
            [
             0.6666666666666666,
             "#ed7953"
            ],
            [
             0.7777777777777778,
             "#fb9f3a"
            ],
            [
             0.8888888888888888,
             "#fdca26"
            ],
            [
             1,
             "#f0f921"
            ]
           ]
          },
          "colorway": [
           "#636efa",
           "#EF553B",
           "#00cc96",
           "#ab63fa",
           "#FFA15A",
           "#19d3f3",
           "#FF6692",
           "#B6E880",
           "#FF97FF",
           "#FECB52"
          ],
          "font": {
           "color": "#2a3f5f"
          },
          "geo": {
           "bgcolor": "white",
           "lakecolor": "white",
           "landcolor": "white",
           "showlakes": true,
           "showland": true,
           "subunitcolor": "#C8D4E3"
          },
          "hoverlabel": {
           "align": "left"
          },
          "hovermode": "closest",
          "mapbox": {
           "style": "light"
          },
          "paper_bgcolor": "white",
          "plot_bgcolor": "white",
          "polar": {
           "angularaxis": {
            "gridcolor": "#EBF0F8",
            "linecolor": "#EBF0F8",
            "ticks": ""
           },
           "bgcolor": "white",
           "radialaxis": {
            "gridcolor": "#EBF0F8",
            "linecolor": "#EBF0F8",
            "ticks": ""
           }
          },
          "scene": {
           "xaxis": {
            "backgroundcolor": "white",
            "gridcolor": "#DFE8F3",
            "gridwidth": 2,
            "linecolor": "#EBF0F8",
            "showbackground": true,
            "ticks": "",
            "zerolinecolor": "#EBF0F8"
           },
           "yaxis": {
            "backgroundcolor": "white",
            "gridcolor": "#DFE8F3",
            "gridwidth": 2,
            "linecolor": "#EBF0F8",
            "showbackground": true,
            "ticks": "",
            "zerolinecolor": "#EBF0F8"
           },
           "zaxis": {
            "backgroundcolor": "white",
            "gridcolor": "#DFE8F3",
            "gridwidth": 2,
            "linecolor": "#EBF0F8",
            "showbackground": true,
            "ticks": "",
            "zerolinecolor": "#EBF0F8"
           }
          },
          "shapedefaults": {
           "line": {
            "color": "#2a3f5f"
           }
          },
          "ternary": {
           "aaxis": {
            "gridcolor": "#DFE8F3",
            "linecolor": "#A2B1C6",
            "ticks": ""
           },
           "baxis": {
            "gridcolor": "#DFE8F3",
            "linecolor": "#A2B1C6",
            "ticks": ""
           },
           "bgcolor": "white",
           "caxis": {
            "gridcolor": "#DFE8F3",
            "linecolor": "#A2B1C6",
            "ticks": ""
           }
          },
          "title": {
           "x": 0.05
          },
          "xaxis": {
           "automargin": true,
           "gridcolor": "#EBF0F8",
           "linecolor": "#EBF0F8",
           "ticks": "",
           "title": {
            "standoff": 15
           },
           "zerolinecolor": "#EBF0F8",
           "zerolinewidth": 2
          },
          "yaxis": {
           "automargin": true,
           "gridcolor": "#EBF0F8",
           "linecolor": "#EBF0F8",
           "ticks": "",
           "title": {
            "standoff": 15
           },
           "zerolinecolor": "#EBF0F8",
           "zerolinewidth": 2
          }
         }
        },
        "title": {
         "text": "Time Comparison"
        },
        "xaxis": {
         "linewidth": 1.5,
         "showgrid": true,
         "showline": true,
         "showticklabels": true,
         "tickfont": {
          "color": "#000000",
          "family": "Verdana",
          "size": 11
         },
         "ticks": "outside",
         "title": {
          "text": "Iterations"
         }
        },
        "yaxis": {
         "showgrid": true,
         "showline": false,
         "showticklabels": true,
         "tickfont": {
          "color": "#000000",
          "family": "Verdana",
          "size": 11
         },
         "ticks": "outside",
         "title": {
          "text": "Time (ms)"
         },
         "zeroline": false
        }
       }
      }
     },
     "metadata": {},
     "output_type": "display_data"
    }
   ],
   "source": [
    "# seed for reproducibility\n",
    "np.random.seed(0)\n",
    "\n",
    "# Define the range of values\n",
    "xo = ['single_cross', 'cycle_cross', 'pmx', 'arithmetic_cross']\n",
    "\n",
    "# Setting previous best parameter as new default value\n",
    "params.update(replace_param)\n",
    "\n",
    "# Print current parameters to use in best_operators_search\n",
    "print('\\033[1mParameters for GA:\\033[0m', end='\\n\\n')\n",
    "print(params, end='\\n\\n')\n",
    "\n",
    "param_list, df = best_operators_search('cross', xo, params)\n",
    "\n",
    "# Displaying average results of the 100 iterations\n",
    "print('\\033[1mAverage results:', end='\\n')\n",
    "df['const'] = 'const'\n",
    "df_avg = df.groupby('const').mean().reset_index(drop=True).round(3)\n",
    "display(df_avg)\n",
    "\n",
    "# Getting best parameter by fitness & time\n",
    "best_param_fit = df_avg[[col for col in df_avg.columns if col.startswith('Fit_')]].idxmax(axis=1)[0].replace('Fit_', '')\n",
    "best_param_time = df_avg[[col for col in df_avg.columns if col.startswith('Time_')]].idxmin(axis=1)[0].replace('Time_', '')\n",
    "replace_param = {'cross': best_param_fit}\n",
    "print(f'\\nBest Fitness: \\033[1m{best_param_fit}\\033[0m\\n\\nBest Time: \\033[1m{best_param_time}\\033[0m', end='\\n\\n')\n",
    "\n",
    "# Plotting results\n",
    "plot_values(data = df, colors = color_palette[:len(xo)], layout=2, template='white', grid=True)"
   ]
  },
  {
   "attachments": {},
   "cell_type": "markdown",
   "metadata": {},
   "source": [
    "### __2.3 Selection Operator__"
   ]
  },
  {
   "cell_type": "code",
   "execution_count": 15,
   "metadata": {},
   "outputs": [
    {
     "name": "stdout",
     "output_type": "stream",
     "text": [
      "\u001b[1mParameters for GA:\u001b[0m\n",
      "\n",
      "{'n': 12, 'pop': 100, 'gen': 50, 'mut_perc': 0.05, 'cross_perc': 0.75, 'mut': 'swap_mutation', 'cross': 'cycle_cross', 'select': 'tournament_selection'}\n",
      "\n",
      "\u001b[1mAverage results:\n"
     ]
    },
    {
     "data": {
      "text/html": [
       "<div>\n",
       "<style scoped>\n",
       "    .dataframe tbody tr th:only-of-type {\n",
       "        vertical-align: middle;\n",
       "    }\n",
       "\n",
       "    .dataframe tbody tr th {\n",
       "        vertical-align: top;\n",
       "    }\n",
       "\n",
       "    .dataframe thead th {\n",
       "        text-align: right;\n",
       "    }\n",
       "</style>\n",
       "<table border=\"1\" class=\"dataframe\">\n",
       "  <thead>\n",
       "    <tr style=\"text-align: right;\">\n",
       "      <th></th>\n",
       "      <th>Fit_tournament_selection</th>\n",
       "      <th>Fit_fps</th>\n",
       "      <th>Fit_rank</th>\n",
       "      <th>Time_tournament_selection</th>\n",
       "      <th>Time_fps</th>\n",
       "      <th>Time_rank</th>\n",
       "    </tr>\n",
       "  </thead>\n",
       "  <tbody>\n",
       "    <tr>\n",
       "      <th>0</th>\n",
       "      <td>96.288</td>\n",
       "      <td>96.409</td>\n",
       "      <td>96.409</td>\n",
       "      <td>11.43</td>\n",
       "      <td>56.17</td>\n",
       "      <td>65.23</td>\n",
       "    </tr>\n",
       "  </tbody>\n",
       "</table>\n",
       "</div>"
      ],
      "text/plain": [
       "   Fit_tournament_selection  Fit_fps  Fit_rank  Time_tournament_selection   \n",
       "0                    96.288   96.409    96.409                      11.43  \\\n",
       "\n",
       "   Time_fps  Time_rank  \n",
       "0     56.17      65.23  "
      ]
     },
     "metadata": {},
     "output_type": "display_data"
    },
    {
     "name": "stdout",
     "output_type": "stream",
     "text": [
      "\n",
      "Best Fitness: \u001b[1mfps\u001b[0m\n",
      "\n",
      "Best Time: \u001b[1mtournament_selection\u001b[0m\n",
      "\n"
     ]
    },
    {
     "data": {
      "application/vnd.plotly.v1+json": {
       "config": {
        "plotlyServerURL": "https://plot.ly"
       },
       "data": [
        {
         "line": {
          "color": "gray",
          "width": 2
         },
         "name": "tournament_selection",
         "type": "scatter",
         "x": [
          0,
          1,
          2,
          3,
          4,
          5,
          6,
          7,
          8,
          9,
          10,
          11,
          12,
          13,
          14,
          15,
          16,
          17,
          18,
          19,
          20,
          21,
          22,
          23,
          24,
          25,
          26,
          27,
          28,
          29,
          30,
          31,
          32,
          33,
          34,
          35,
          36,
          37,
          38,
          39,
          40,
          41,
          42,
          43,
          44,
          45,
          46,
          47,
          48,
          49,
          50,
          51,
          52,
          53,
          54,
          55,
          56,
          57,
          58,
          59,
          60,
          61,
          62,
          63,
          64,
          65,
          66,
          67,
          68,
          69,
          70,
          71,
          72,
          73,
          74,
          75,
          76,
          77,
          78,
          79,
          80,
          81,
          82,
          83,
          84,
          85,
          86,
          87,
          88,
          89,
          90,
          91,
          92,
          93,
          94,
          95,
          96,
          97,
          98,
          99
         ],
         "y": [
          95.45454545454545,
          96.96969696969697,
          96.96969696969697,
          96.96969696969697,
          95.45454545454545,
          95.45454545454545,
          95.45454545454545,
          95.45454545454545,
          95.45454545454545,
          95.45454545454545,
          95.45454545454545,
          95.45454545454545,
          95.45454545454545,
          96.96969696969697,
          95.45454545454545,
          95.45454545454545,
          96.96969696969697,
          95.45454545454545,
          95.45454545454545,
          96.96969696969697,
          95.45454545454545,
          96.96969696969697,
          98.48484848484848,
          95.45454545454545,
          98.48484848484848,
          96.96969696969697,
          95.45454545454545,
          96.96969696969697,
          96.96969696969697,
          95.45454545454545,
          95.45454545454545,
          95.45454545454545,
          96.96969696969697,
          95.45454545454545,
          96.96969696969697,
          95.45454545454545,
          95.45454545454545,
          95.45454545454545,
          95.45454545454545,
          95.45454545454545,
          96.96969696969697,
          93.93939393939394,
          96.96969696969697,
          96.96969696969697,
          93.93939393939394,
          95.45454545454545,
          98.48484848484848,
          95.45454545454545,
          95.45454545454545,
          95.45454545454545,
          98.48484848484848,
          96.96969696969697,
          96.96969696969697,
          95.45454545454545,
          96.96969696969697,
          96.96969696969697,
          95.45454545454545,
          96.96969696969697,
          95.45454545454545,
          95.45454545454545,
          96.96969696969697,
          96.96969696969697,
          95.45454545454545,
          98.48484848484848,
          96.96969696969697,
          95.45454545454545,
          95.45454545454545,
          95.45454545454545,
          95.45454545454545,
          98.48484848484848,
          98.48484848484848,
          95.45454545454545,
          96.96969696969697,
          98.48484848484848,
          95.45454545454545,
          96.96969696969697,
          95.45454545454545,
          95.45454545454545,
          96.96969696969697,
          96.96969696969697,
          98.48484848484848,
          96.96969696969697,
          95.45454545454545,
          96.96969696969697,
          96.96969696969697,
          95.45454545454545,
          96.96969696969697,
          98.48484848484848,
          95.45454545454545,
          95.45454545454545,
          98.48484848484848,
          96.96969696969697,
          96.96969696969697,
          95.45454545454545,
          95.45454545454545,
          96.96969696969697,
          95.45454545454545,
          96.96969696969697,
          95.45454545454545,
          95.45454545454545
         ]
        },
        {
         "marker": {
          "color": "gray",
          "size": 8
         },
         "mode": "markers",
         "name": "",
         "type": "scatter",
         "x": [
          0,
          99
         ],
         "y": [
          95.45454545454545,
          95.45454545454545
         ]
        },
        {
         "line": {
          "color": "steelblue",
          "width": 2
         },
         "name": "fps",
         "type": "scatter",
         "x": [
          0,
          1,
          2,
          3,
          4,
          5,
          6,
          7,
          8,
          9,
          10,
          11,
          12,
          13,
          14,
          15,
          16,
          17,
          18,
          19,
          20,
          21,
          22,
          23,
          24,
          25,
          26,
          27,
          28,
          29,
          30,
          31,
          32,
          33,
          34,
          35,
          36,
          37,
          38,
          39,
          40,
          41,
          42,
          43,
          44,
          45,
          46,
          47,
          48,
          49,
          50,
          51,
          52,
          53,
          54,
          55,
          56,
          57,
          58,
          59,
          60,
          61,
          62,
          63,
          64,
          65,
          66,
          67,
          68,
          69,
          70,
          71,
          72,
          73,
          74,
          75,
          76,
          77,
          78,
          79,
          80,
          81,
          82,
          83,
          84,
          85,
          86,
          87,
          88,
          89,
          90,
          91,
          92,
          93,
          94,
          95,
          96,
          97,
          98,
          99
         ],
         "y": [
          98.48484848484848,
          95.45454545454545,
          96.96969696969697,
          95.45454545454545,
          98.48484848484848,
          95.45454545454545,
          95.45454545454545,
          95.45454545454545,
          96.96969696969697,
          98.48484848484848,
          95.45454545454545,
          96.96969696969697,
          96.96969696969697,
          95.45454545454545,
          96.96969696969697,
          95.45454545454545,
          96.96969696969697,
          95.45454545454545,
          95.45454545454545,
          96.96969696969697,
          95.45454545454545,
          95.45454545454545,
          96.96969696969697,
          96.96969696969697,
          95.45454545454545,
          95.45454545454545,
          98.48484848484848,
          95.45454545454545,
          95.45454545454545,
          96.96969696969697,
          98.48484848484848,
          95.45454545454545,
          95.45454545454545,
          95.45454545454545,
          95.45454545454545,
          96.96969696969697,
          98.48484848484848,
          96.96969696969697,
          95.45454545454545,
          95.45454545454545,
          95.45454545454545,
          96.96969696969697,
          96.96969696969697,
          96.96969696969697,
          96.96969696969697,
          93.93939393939394,
          96.96969696969697,
          96.96969696969697,
          96.96969696969697,
          96.96969696969697,
          96.96969696969697,
          95.45454545454545,
          95.45454545454545,
          96.96969696969697,
          95.45454545454545,
          98.48484848484848,
          95.45454545454545,
          95.45454545454545,
          95.45454545454545,
          98.48484848484848,
          96.96969696969697,
          96.96969696969697,
          95.45454545454545,
          98.48484848484848,
          95.45454545454545,
          96.96969696969697,
          95.45454545454545,
          98.48484848484848,
          96.96969696969697,
          95.45454545454545,
          95.45454545454545,
          95.45454545454545,
          96.96969696969697,
          96.96969696969697,
          95.45454545454545,
          96.96969696969697,
          96.96969696969697,
          98.48484848484848,
          95.45454545454545,
          96.96969696969697,
          98.48484848484848,
          95.45454545454545,
          95.45454545454545,
          96.96969696969697,
          96.96969696969697,
          93.93939393939394,
          95.45454545454545,
          98.48484848484848,
          96.96969696969697,
          95.45454545454545,
          96.96969696969697,
          95.45454545454545,
          96.96969696969697,
          93.93939393939394,
          96.96969696969697,
          95.45454545454545,
          96.96969696969697,
          96.96969696969697,
          96.96969696969697,
          95.45454545454545
         ]
        },
        {
         "marker": {
          "color": "steelblue",
          "size": 8
         },
         "mode": "markers",
         "name": "",
         "type": "scatter",
         "x": [
          0,
          99
         ],
         "y": [
          98.48484848484848,
          95.45454545454545
         ]
        },
        {
         "line": {
          "color": "purple",
          "width": 2
         },
         "name": "rank",
         "type": "scatter",
         "x": [
          0,
          1,
          2,
          3,
          4,
          5,
          6,
          7,
          8,
          9,
          10,
          11,
          12,
          13,
          14,
          15,
          16,
          17,
          18,
          19,
          20,
          21,
          22,
          23,
          24,
          25,
          26,
          27,
          28,
          29,
          30,
          31,
          32,
          33,
          34,
          35,
          36,
          37,
          38,
          39,
          40,
          41,
          42,
          43,
          44,
          45,
          46,
          47,
          48,
          49,
          50,
          51,
          52,
          53,
          54,
          55,
          56,
          57,
          58,
          59,
          60,
          61,
          62,
          63,
          64,
          65,
          66,
          67,
          68,
          69,
          70,
          71,
          72,
          73,
          74,
          75,
          76,
          77,
          78,
          79,
          80,
          81,
          82,
          83,
          84,
          85,
          86,
          87,
          88,
          89,
          90,
          91,
          92,
          93,
          94,
          95,
          96,
          97,
          98,
          99
         ],
         "y": [
          95.45454545454545,
          95.45454545454545,
          96.96969696969697,
          95.45454545454545,
          95.45454545454545,
          95.45454545454545,
          96.96969696969697,
          95.45454545454545,
          95.45454545454545,
          100,
          96.96969696969697,
          95.45454545454545,
          95.45454545454545,
          95.45454545454545,
          96.96969696969697,
          95.45454545454545,
          96.96969696969697,
          95.45454545454545,
          93.93939393939394,
          96.96969696969697,
          95.45454545454545,
          96.96969696969697,
          98.48484848484848,
          96.96969696969697,
          98.48484848484848,
          96.96969696969697,
          96.96969696969697,
          95.45454545454545,
          98.48484848484848,
          95.45454545454545,
          96.96969696969697,
          93.93939393939394,
          95.45454545454545,
          96.96969696969697,
          96.96969696969697,
          96.96969696969697,
          96.96969696969697,
          96.96969696969697,
          96.96969696969697,
          95.45454545454545,
          96.96969696969697,
          96.96969696969697,
          93.93939393939394,
          95.45454545454545,
          95.45454545454545,
          93.93939393939394,
          96.96969696969697,
          96.96969696969697,
          96.96969696969697,
          95.45454545454545,
          96.96969696969697,
          96.96969696969697,
          96.96969696969697,
          95.45454545454545,
          95.45454545454545,
          95.45454545454545,
          95.45454545454545,
          96.96969696969697,
          96.96969696969697,
          96.96969696969697,
          96.96969696969697,
          96.96969696969697,
          96.96969696969697,
          95.45454545454545,
          98.48484848484848,
          95.45454545454545,
          96.96969696969697,
          95.45454545454545,
          96.96969696969697,
          95.45454545454545,
          96.96969696969697,
          98.48484848484848,
          95.45454545454545,
          95.45454545454545,
          95.45454545454545,
          98.48484848484848,
          95.45454545454545,
          95.45454545454545,
          96.96969696969697,
          96.96969696969697,
          96.96969696969697,
          96.96969696969697,
          96.96969696969697,
          96.96969696969697,
          95.45454545454545,
          95.45454545454545,
          95.45454545454545,
          96.96969696969697,
          96.96969696969697,
          98.48484848484848,
          96.96969696969697,
          95.45454545454545,
          96.96969696969697,
          96.96969696969697,
          96.96969696969697,
          98.48484848484848,
          95.45454545454545,
          95.45454545454545,
          96.96969696969697,
          96.96969696969697
         ]
        },
        {
         "marker": {
          "color": "purple",
          "size": 8
         },
         "mode": "markers",
         "name": "",
         "type": "scatter",
         "x": [
          0,
          99
         ],
         "y": [
          95.45454545454545,
          96.96969696969697
         ]
        }
       ],
       "layout": {
        "font": {
         "family": "Verdana",
         "size": 14
        },
        "template": {
         "data": {
          "bar": [
           {
            "error_x": {
             "color": "#2a3f5f"
            },
            "error_y": {
             "color": "#2a3f5f"
            },
            "marker": {
             "line": {
              "color": "white",
              "width": 0.5
             },
             "pattern": {
              "fillmode": "overlay",
              "size": 10,
              "solidity": 0.2
             }
            },
            "type": "bar"
           }
          ],
          "barpolar": [
           {
            "marker": {
             "line": {
              "color": "white",
              "width": 0.5
             },
             "pattern": {
              "fillmode": "overlay",
              "size": 10,
              "solidity": 0.2
             }
            },
            "type": "barpolar"
           }
          ],
          "carpet": [
           {
            "aaxis": {
             "endlinecolor": "#2a3f5f",
             "gridcolor": "#C8D4E3",
             "linecolor": "#C8D4E3",
             "minorgridcolor": "#C8D4E3",
             "startlinecolor": "#2a3f5f"
            },
            "baxis": {
             "endlinecolor": "#2a3f5f",
             "gridcolor": "#C8D4E3",
             "linecolor": "#C8D4E3",
             "minorgridcolor": "#C8D4E3",
             "startlinecolor": "#2a3f5f"
            },
            "type": "carpet"
           }
          ],
          "choropleth": [
           {
            "colorbar": {
             "outlinewidth": 0,
             "ticks": ""
            },
            "type": "choropleth"
           }
          ],
          "contour": [
           {
            "colorbar": {
             "outlinewidth": 0,
             "ticks": ""
            },
            "colorscale": [
             [
              0,
              "#0d0887"
             ],
             [
              0.1111111111111111,
              "#46039f"
             ],
             [
              0.2222222222222222,
              "#7201a8"
             ],
             [
              0.3333333333333333,
              "#9c179e"
             ],
             [
              0.4444444444444444,
              "#bd3786"
             ],
             [
              0.5555555555555556,
              "#d8576b"
             ],
             [
              0.6666666666666666,
              "#ed7953"
             ],
             [
              0.7777777777777778,
              "#fb9f3a"
             ],
             [
              0.8888888888888888,
              "#fdca26"
             ],
             [
              1,
              "#f0f921"
             ]
            ],
            "type": "contour"
           }
          ],
          "contourcarpet": [
           {
            "colorbar": {
             "outlinewidth": 0,
             "ticks": ""
            },
            "type": "contourcarpet"
           }
          ],
          "heatmap": [
           {
            "colorbar": {
             "outlinewidth": 0,
             "ticks": ""
            },
            "colorscale": [
             [
              0,
              "#0d0887"
             ],
             [
              0.1111111111111111,
              "#46039f"
             ],
             [
              0.2222222222222222,
              "#7201a8"
             ],
             [
              0.3333333333333333,
              "#9c179e"
             ],
             [
              0.4444444444444444,
              "#bd3786"
             ],
             [
              0.5555555555555556,
              "#d8576b"
             ],
             [
              0.6666666666666666,
              "#ed7953"
             ],
             [
              0.7777777777777778,
              "#fb9f3a"
             ],
             [
              0.8888888888888888,
              "#fdca26"
             ],
             [
              1,
              "#f0f921"
             ]
            ],
            "type": "heatmap"
           }
          ],
          "heatmapgl": [
           {
            "colorbar": {
             "outlinewidth": 0,
             "ticks": ""
            },
            "colorscale": [
             [
              0,
              "#0d0887"
             ],
             [
              0.1111111111111111,
              "#46039f"
             ],
             [
              0.2222222222222222,
              "#7201a8"
             ],
             [
              0.3333333333333333,
              "#9c179e"
             ],
             [
              0.4444444444444444,
              "#bd3786"
             ],
             [
              0.5555555555555556,
              "#d8576b"
             ],
             [
              0.6666666666666666,
              "#ed7953"
             ],
             [
              0.7777777777777778,
              "#fb9f3a"
             ],
             [
              0.8888888888888888,
              "#fdca26"
             ],
             [
              1,
              "#f0f921"
             ]
            ],
            "type": "heatmapgl"
           }
          ],
          "histogram": [
           {
            "marker": {
             "pattern": {
              "fillmode": "overlay",
              "size": 10,
              "solidity": 0.2
             }
            },
            "type": "histogram"
           }
          ],
          "histogram2d": [
           {
            "colorbar": {
             "outlinewidth": 0,
             "ticks": ""
            },
            "colorscale": [
             [
              0,
              "#0d0887"
             ],
             [
              0.1111111111111111,
              "#46039f"
             ],
             [
              0.2222222222222222,
              "#7201a8"
             ],
             [
              0.3333333333333333,
              "#9c179e"
             ],
             [
              0.4444444444444444,
              "#bd3786"
             ],
             [
              0.5555555555555556,
              "#d8576b"
             ],
             [
              0.6666666666666666,
              "#ed7953"
             ],
             [
              0.7777777777777778,
              "#fb9f3a"
             ],
             [
              0.8888888888888888,
              "#fdca26"
             ],
             [
              1,
              "#f0f921"
             ]
            ],
            "type": "histogram2d"
           }
          ],
          "histogram2dcontour": [
           {
            "colorbar": {
             "outlinewidth": 0,
             "ticks": ""
            },
            "colorscale": [
             [
              0,
              "#0d0887"
             ],
             [
              0.1111111111111111,
              "#46039f"
             ],
             [
              0.2222222222222222,
              "#7201a8"
             ],
             [
              0.3333333333333333,
              "#9c179e"
             ],
             [
              0.4444444444444444,
              "#bd3786"
             ],
             [
              0.5555555555555556,
              "#d8576b"
             ],
             [
              0.6666666666666666,
              "#ed7953"
             ],
             [
              0.7777777777777778,
              "#fb9f3a"
             ],
             [
              0.8888888888888888,
              "#fdca26"
             ],
             [
              1,
              "#f0f921"
             ]
            ],
            "type": "histogram2dcontour"
           }
          ],
          "mesh3d": [
           {
            "colorbar": {
             "outlinewidth": 0,
             "ticks": ""
            },
            "type": "mesh3d"
           }
          ],
          "parcoords": [
           {
            "line": {
             "colorbar": {
              "outlinewidth": 0,
              "ticks": ""
             }
            },
            "type": "parcoords"
           }
          ],
          "pie": [
           {
            "automargin": true,
            "type": "pie"
           }
          ],
          "scatter": [
           {
            "fillpattern": {
             "fillmode": "overlay",
             "size": 10,
             "solidity": 0.2
            },
            "type": "scatter"
           }
          ],
          "scatter3d": [
           {
            "line": {
             "colorbar": {
              "outlinewidth": 0,
              "ticks": ""
             }
            },
            "marker": {
             "colorbar": {
              "outlinewidth": 0,
              "ticks": ""
             }
            },
            "type": "scatter3d"
           }
          ],
          "scattercarpet": [
           {
            "marker": {
             "colorbar": {
              "outlinewidth": 0,
              "ticks": ""
             }
            },
            "type": "scattercarpet"
           }
          ],
          "scattergeo": [
           {
            "marker": {
             "colorbar": {
              "outlinewidth": 0,
              "ticks": ""
             }
            },
            "type": "scattergeo"
           }
          ],
          "scattergl": [
           {
            "marker": {
             "colorbar": {
              "outlinewidth": 0,
              "ticks": ""
             }
            },
            "type": "scattergl"
           }
          ],
          "scattermapbox": [
           {
            "marker": {
             "colorbar": {
              "outlinewidth": 0,
              "ticks": ""
             }
            },
            "type": "scattermapbox"
           }
          ],
          "scatterpolar": [
           {
            "marker": {
             "colorbar": {
              "outlinewidth": 0,
              "ticks": ""
             }
            },
            "type": "scatterpolar"
           }
          ],
          "scatterpolargl": [
           {
            "marker": {
             "colorbar": {
              "outlinewidth": 0,
              "ticks": ""
             }
            },
            "type": "scatterpolargl"
           }
          ],
          "scatterternary": [
           {
            "marker": {
             "colorbar": {
              "outlinewidth": 0,
              "ticks": ""
             }
            },
            "type": "scatterternary"
           }
          ],
          "surface": [
           {
            "colorbar": {
             "outlinewidth": 0,
             "ticks": ""
            },
            "colorscale": [
             [
              0,
              "#0d0887"
             ],
             [
              0.1111111111111111,
              "#46039f"
             ],
             [
              0.2222222222222222,
              "#7201a8"
             ],
             [
              0.3333333333333333,
              "#9c179e"
             ],
             [
              0.4444444444444444,
              "#bd3786"
             ],
             [
              0.5555555555555556,
              "#d8576b"
             ],
             [
              0.6666666666666666,
              "#ed7953"
             ],
             [
              0.7777777777777778,
              "#fb9f3a"
             ],
             [
              0.8888888888888888,
              "#fdca26"
             ],
             [
              1,
              "#f0f921"
             ]
            ],
            "type": "surface"
           }
          ],
          "table": [
           {
            "cells": {
             "fill": {
              "color": "#EBF0F8"
             },
             "line": {
              "color": "white"
             }
            },
            "header": {
             "fill": {
              "color": "#C8D4E3"
             },
             "line": {
              "color": "white"
             }
            },
            "type": "table"
           }
          ]
         },
         "layout": {
          "annotationdefaults": {
           "arrowcolor": "#2a3f5f",
           "arrowhead": 0,
           "arrowwidth": 1
          },
          "autotypenumbers": "strict",
          "coloraxis": {
           "colorbar": {
            "outlinewidth": 0,
            "ticks": ""
           }
          },
          "colorscale": {
           "diverging": [
            [
             0,
             "#8e0152"
            ],
            [
             0.1,
             "#c51b7d"
            ],
            [
             0.2,
             "#de77ae"
            ],
            [
             0.3,
             "#f1b6da"
            ],
            [
             0.4,
             "#fde0ef"
            ],
            [
             0.5,
             "#f7f7f7"
            ],
            [
             0.6,
             "#e6f5d0"
            ],
            [
             0.7,
             "#b8e186"
            ],
            [
             0.8,
             "#7fbc41"
            ],
            [
             0.9,
             "#4d9221"
            ],
            [
             1,
             "#276419"
            ]
           ],
           "sequential": [
            [
             0,
             "#0d0887"
            ],
            [
             0.1111111111111111,
             "#46039f"
            ],
            [
             0.2222222222222222,
             "#7201a8"
            ],
            [
             0.3333333333333333,
             "#9c179e"
            ],
            [
             0.4444444444444444,
             "#bd3786"
            ],
            [
             0.5555555555555556,
             "#d8576b"
            ],
            [
             0.6666666666666666,
             "#ed7953"
            ],
            [
             0.7777777777777778,
             "#fb9f3a"
            ],
            [
             0.8888888888888888,
             "#fdca26"
            ],
            [
             1,
             "#f0f921"
            ]
           ],
           "sequentialminus": [
            [
             0,
             "#0d0887"
            ],
            [
             0.1111111111111111,
             "#46039f"
            ],
            [
             0.2222222222222222,
             "#7201a8"
            ],
            [
             0.3333333333333333,
             "#9c179e"
            ],
            [
             0.4444444444444444,
             "#bd3786"
            ],
            [
             0.5555555555555556,
             "#d8576b"
            ],
            [
             0.6666666666666666,
             "#ed7953"
            ],
            [
             0.7777777777777778,
             "#fb9f3a"
            ],
            [
             0.8888888888888888,
             "#fdca26"
            ],
            [
             1,
             "#f0f921"
            ]
           ]
          },
          "colorway": [
           "#636efa",
           "#EF553B",
           "#00cc96",
           "#ab63fa",
           "#FFA15A",
           "#19d3f3",
           "#FF6692",
           "#B6E880",
           "#FF97FF",
           "#FECB52"
          ],
          "font": {
           "color": "#2a3f5f"
          },
          "geo": {
           "bgcolor": "white",
           "lakecolor": "white",
           "landcolor": "white",
           "showlakes": true,
           "showland": true,
           "subunitcolor": "#C8D4E3"
          },
          "hoverlabel": {
           "align": "left"
          },
          "hovermode": "closest",
          "mapbox": {
           "style": "light"
          },
          "paper_bgcolor": "white",
          "plot_bgcolor": "white",
          "polar": {
           "angularaxis": {
            "gridcolor": "#EBF0F8",
            "linecolor": "#EBF0F8",
            "ticks": ""
           },
           "bgcolor": "white",
           "radialaxis": {
            "gridcolor": "#EBF0F8",
            "linecolor": "#EBF0F8",
            "ticks": ""
           }
          },
          "scene": {
           "xaxis": {
            "backgroundcolor": "white",
            "gridcolor": "#DFE8F3",
            "gridwidth": 2,
            "linecolor": "#EBF0F8",
            "showbackground": true,
            "ticks": "",
            "zerolinecolor": "#EBF0F8"
           },
           "yaxis": {
            "backgroundcolor": "white",
            "gridcolor": "#DFE8F3",
            "gridwidth": 2,
            "linecolor": "#EBF0F8",
            "showbackground": true,
            "ticks": "",
            "zerolinecolor": "#EBF0F8"
           },
           "zaxis": {
            "backgroundcolor": "white",
            "gridcolor": "#DFE8F3",
            "gridwidth": 2,
            "linecolor": "#EBF0F8",
            "showbackground": true,
            "ticks": "",
            "zerolinecolor": "#EBF0F8"
           }
          },
          "shapedefaults": {
           "line": {
            "color": "#2a3f5f"
           }
          },
          "ternary": {
           "aaxis": {
            "gridcolor": "#DFE8F3",
            "linecolor": "#A2B1C6",
            "ticks": ""
           },
           "baxis": {
            "gridcolor": "#DFE8F3",
            "linecolor": "#A2B1C6",
            "ticks": ""
           },
           "bgcolor": "white",
           "caxis": {
            "gridcolor": "#DFE8F3",
            "linecolor": "#A2B1C6",
            "ticks": ""
           }
          },
          "title": {
           "x": 0.05
          },
          "xaxis": {
           "automargin": true,
           "gridcolor": "#EBF0F8",
           "linecolor": "#EBF0F8",
           "ticks": "",
           "title": {
            "standoff": 15
           },
           "zerolinecolor": "#EBF0F8",
           "zerolinewidth": 2
          },
          "yaxis": {
           "automargin": true,
           "gridcolor": "#EBF0F8",
           "linecolor": "#EBF0F8",
           "ticks": "",
           "title": {
            "standoff": 15
           },
           "zerolinecolor": "#EBF0F8",
           "zerolinewidth": 2
          }
         }
        },
        "title": {
         "text": "Fitness Comparison"
        },
        "xaxis": {
         "linewidth": 1.5,
         "showgrid": true,
         "showline": true,
         "showticklabels": true,
         "tickfont": {
          "color": "#000000",
          "family": "Verdana",
          "size": 11
         },
         "ticks": "outside",
         "title": {
          "text": "Iterations"
         }
        },
        "yaxis": {
         "showgrid": true,
         "showline": false,
         "showticklabels": true,
         "tickfont": {
          "color": "#000000",
          "family": "Verdana",
          "size": 11
         },
         "ticks": "outside",
         "title": {
          "text": "Fitness"
         },
         "zeroline": false
        }
       }
      }
     },
     "metadata": {},
     "output_type": "display_data"
    },
    {
     "data": {
      "application/vnd.plotly.v1+json": {
       "config": {
        "plotlyServerURL": "https://plot.ly"
       },
       "data": [
        {
         "line": {
          "color": "gray",
          "width": 2
         },
         "name": "tournament_selection",
         "type": "scatter",
         "x": [
          0,
          1,
          2,
          3,
          4,
          5,
          6,
          7,
          8,
          9,
          10,
          11,
          12,
          13,
          14,
          15,
          16,
          17,
          18,
          19,
          20,
          21,
          22,
          23,
          24,
          25,
          26,
          27,
          28,
          29,
          30,
          31,
          32,
          33,
          34,
          35,
          36,
          37,
          38,
          39,
          40,
          41,
          42,
          43,
          44,
          45,
          46,
          47,
          48,
          49,
          50,
          51,
          52,
          53,
          54,
          55,
          56,
          57,
          58,
          59,
          60,
          61,
          62,
          63,
          64,
          65,
          66,
          67,
          68,
          69,
          70,
          71,
          72,
          73,
          74,
          75,
          76,
          77,
          78,
          79,
          80,
          81,
          82,
          83,
          84,
          85,
          86,
          87,
          88,
          89,
          90,
          91,
          92,
          93,
          94,
          95,
          96,
          97,
          98,
          99
         ],
         "y": [
          11,
          11,
          11,
          12,
          11,
          11,
          11,
          11,
          12,
          11,
          11,
          11,
          12,
          11,
          11,
          12,
          11,
          11,
          12,
          11,
          11,
          12,
          12,
          12,
          11,
          11,
          11,
          11,
          12,
          11,
          11,
          11,
          12,
          11,
          11,
          11,
          11,
          11,
          11,
          12,
          12,
          12,
          12,
          12,
          11,
          11,
          12,
          12,
          11,
          11,
          11,
          11,
          12,
          11,
          12,
          12,
          12,
          12,
          11,
          12,
          12,
          12,
          12,
          11,
          12,
          12,
          12,
          12,
          11,
          11,
          12,
          12,
          11,
          12,
          11,
          12,
          11,
          11,
          12,
          12,
          11,
          12,
          11,
          12,
          12,
          11,
          11,
          11,
          12,
          11,
          12,
          11,
          11,
          11,
          12,
          12,
          11,
          11,
          11,
          11
         ]
        },
        {
         "marker": {
          "color": "gray",
          "size": 8
         },
         "mode": "markers",
         "name": "",
         "type": "scatter",
         "x": [
          0,
          99
         ],
         "y": [
          11,
          11
         ]
        },
        {
         "line": {
          "color": "steelblue",
          "width": 2
         },
         "name": "fps",
         "type": "scatter",
         "x": [
          0,
          1,
          2,
          3,
          4,
          5,
          6,
          7,
          8,
          9,
          10,
          11,
          12,
          13,
          14,
          15,
          16,
          17,
          18,
          19,
          20,
          21,
          22,
          23,
          24,
          25,
          26,
          27,
          28,
          29,
          30,
          31,
          32,
          33,
          34,
          35,
          36,
          37,
          38,
          39,
          40,
          41,
          42,
          43,
          44,
          45,
          46,
          47,
          48,
          49,
          50,
          51,
          52,
          53,
          54,
          55,
          56,
          57,
          58,
          59,
          60,
          61,
          62,
          63,
          64,
          65,
          66,
          67,
          68,
          69,
          70,
          71,
          72,
          73,
          74,
          75,
          76,
          77,
          78,
          79,
          80,
          81,
          82,
          83,
          84,
          85,
          86,
          87,
          88,
          89,
          90,
          91,
          92,
          93,
          94,
          95,
          96,
          97,
          98,
          99
         ],
         "y": [
          56,
          58,
          56,
          57,
          55,
          56,
          60,
          55,
          57,
          54,
          56,
          57,
          55,
          55,
          55,
          56,
          56,
          55,
          56,
          56,
          56,
          57,
          56,
          55,
          56,
          58,
          55,
          56,
          55,
          55,
          56,
          55,
          55,
          57,
          56,
          55,
          57,
          55,
          59,
          58,
          57,
          57,
          55,
          56,
          56,
          55,
          55,
          55,
          56,
          56,
          57,
          55,
          57,
          55,
          55,
          55,
          58,
          58,
          56,
          55,
          57,
          56,
          56,
          55,
          58,
          55,
          58,
          57,
          56,
          57,
          56,
          58,
          56,
          56,
          56,
          55,
          57,
          55,
          57,
          54,
          55,
          56,
          56,
          55,
          59,
          56,
          56,
          56,
          55,
          56,
          59,
          57,
          57,
          55,
          58,
          56,
          56,
          55,
          56,
          61
         ]
        },
        {
         "marker": {
          "color": "steelblue",
          "size": 8
         },
         "mode": "markers",
         "name": "",
         "type": "scatter",
         "x": [
          0,
          99
         ],
         "y": [
          56,
          61
         ]
        },
        {
         "line": {
          "color": "purple",
          "width": 2
         },
         "name": "rank",
         "type": "scatter",
         "x": [
          0,
          1,
          2,
          3,
          4,
          5,
          6,
          7,
          8,
          9,
          10,
          11,
          12,
          13,
          14,
          15,
          16,
          17,
          18,
          19,
          20,
          21,
          22,
          23,
          24,
          25,
          26,
          27,
          28,
          29,
          30,
          31,
          32,
          33,
          34,
          35,
          36,
          37,
          38,
          39,
          40,
          41,
          42,
          43,
          44,
          45,
          46,
          47,
          48,
          49,
          50,
          51,
          52,
          53,
          54,
          55,
          56,
          57,
          58,
          59,
          60,
          61,
          62,
          63,
          64,
          65,
          66,
          67,
          68,
          69,
          70,
          71,
          72,
          73,
          74,
          75,
          76,
          77,
          78,
          79,
          80,
          81,
          82,
          83,
          84,
          85,
          86,
          87,
          88,
          89,
          90,
          91,
          92,
          93,
          94,
          95,
          96,
          97,
          98,
          99
         ],
         "y": [
          69,
          70,
          43,
          71,
          69,
          50,
          70,
          70,
          73,
          72,
          72,
          71,
          50,
          73,
          73,
          71,
          70,
          43,
          73,
          50,
          66,
          67,
          75,
          50,
          50,
          74,
          50,
          73,
          68,
          49,
          68,
          73,
          67,
          51,
          66,
          75,
          44,
          74,
          69,
          75,
          68,
          71,
          68,
          51,
          51,
          50,
          74,
          50,
          75,
          71,
          66,
          43,
          72,
          70,
          41,
          45,
          46,
          53,
          79,
          83,
          53,
          71,
          78,
          82,
          45,
          69,
          72,
          71,
          78,
          70,
          79,
          73,
          73,
          77,
          77,
          73,
          74,
          69,
          77,
          76,
          52,
          74,
          53,
          77,
          72,
          44,
          76,
          46,
          42,
          44,
          74,
          69,
          68,
          73,
          75,
          44,
          74,
          76,
          71,
          68
         ]
        },
        {
         "marker": {
          "color": "purple",
          "size": 8
         },
         "mode": "markers",
         "name": "",
         "type": "scatter",
         "x": [
          0,
          99
         ],
         "y": [
          69,
          68
         ]
        }
       ],
       "layout": {
        "font": {
         "family": "Verdana",
         "size": 14
        },
        "template": {
         "data": {
          "bar": [
           {
            "error_x": {
             "color": "#2a3f5f"
            },
            "error_y": {
             "color": "#2a3f5f"
            },
            "marker": {
             "line": {
              "color": "white",
              "width": 0.5
             },
             "pattern": {
              "fillmode": "overlay",
              "size": 10,
              "solidity": 0.2
             }
            },
            "type": "bar"
           }
          ],
          "barpolar": [
           {
            "marker": {
             "line": {
              "color": "white",
              "width": 0.5
             },
             "pattern": {
              "fillmode": "overlay",
              "size": 10,
              "solidity": 0.2
             }
            },
            "type": "barpolar"
           }
          ],
          "carpet": [
           {
            "aaxis": {
             "endlinecolor": "#2a3f5f",
             "gridcolor": "#C8D4E3",
             "linecolor": "#C8D4E3",
             "minorgridcolor": "#C8D4E3",
             "startlinecolor": "#2a3f5f"
            },
            "baxis": {
             "endlinecolor": "#2a3f5f",
             "gridcolor": "#C8D4E3",
             "linecolor": "#C8D4E3",
             "minorgridcolor": "#C8D4E3",
             "startlinecolor": "#2a3f5f"
            },
            "type": "carpet"
           }
          ],
          "choropleth": [
           {
            "colorbar": {
             "outlinewidth": 0,
             "ticks": ""
            },
            "type": "choropleth"
           }
          ],
          "contour": [
           {
            "colorbar": {
             "outlinewidth": 0,
             "ticks": ""
            },
            "colorscale": [
             [
              0,
              "#0d0887"
             ],
             [
              0.1111111111111111,
              "#46039f"
             ],
             [
              0.2222222222222222,
              "#7201a8"
             ],
             [
              0.3333333333333333,
              "#9c179e"
             ],
             [
              0.4444444444444444,
              "#bd3786"
             ],
             [
              0.5555555555555556,
              "#d8576b"
             ],
             [
              0.6666666666666666,
              "#ed7953"
             ],
             [
              0.7777777777777778,
              "#fb9f3a"
             ],
             [
              0.8888888888888888,
              "#fdca26"
             ],
             [
              1,
              "#f0f921"
             ]
            ],
            "type": "contour"
           }
          ],
          "contourcarpet": [
           {
            "colorbar": {
             "outlinewidth": 0,
             "ticks": ""
            },
            "type": "contourcarpet"
           }
          ],
          "heatmap": [
           {
            "colorbar": {
             "outlinewidth": 0,
             "ticks": ""
            },
            "colorscale": [
             [
              0,
              "#0d0887"
             ],
             [
              0.1111111111111111,
              "#46039f"
             ],
             [
              0.2222222222222222,
              "#7201a8"
             ],
             [
              0.3333333333333333,
              "#9c179e"
             ],
             [
              0.4444444444444444,
              "#bd3786"
             ],
             [
              0.5555555555555556,
              "#d8576b"
             ],
             [
              0.6666666666666666,
              "#ed7953"
             ],
             [
              0.7777777777777778,
              "#fb9f3a"
             ],
             [
              0.8888888888888888,
              "#fdca26"
             ],
             [
              1,
              "#f0f921"
             ]
            ],
            "type": "heatmap"
           }
          ],
          "heatmapgl": [
           {
            "colorbar": {
             "outlinewidth": 0,
             "ticks": ""
            },
            "colorscale": [
             [
              0,
              "#0d0887"
             ],
             [
              0.1111111111111111,
              "#46039f"
             ],
             [
              0.2222222222222222,
              "#7201a8"
             ],
             [
              0.3333333333333333,
              "#9c179e"
             ],
             [
              0.4444444444444444,
              "#bd3786"
             ],
             [
              0.5555555555555556,
              "#d8576b"
             ],
             [
              0.6666666666666666,
              "#ed7953"
             ],
             [
              0.7777777777777778,
              "#fb9f3a"
             ],
             [
              0.8888888888888888,
              "#fdca26"
             ],
             [
              1,
              "#f0f921"
             ]
            ],
            "type": "heatmapgl"
           }
          ],
          "histogram": [
           {
            "marker": {
             "pattern": {
              "fillmode": "overlay",
              "size": 10,
              "solidity": 0.2
             }
            },
            "type": "histogram"
           }
          ],
          "histogram2d": [
           {
            "colorbar": {
             "outlinewidth": 0,
             "ticks": ""
            },
            "colorscale": [
             [
              0,
              "#0d0887"
             ],
             [
              0.1111111111111111,
              "#46039f"
             ],
             [
              0.2222222222222222,
              "#7201a8"
             ],
             [
              0.3333333333333333,
              "#9c179e"
             ],
             [
              0.4444444444444444,
              "#bd3786"
             ],
             [
              0.5555555555555556,
              "#d8576b"
             ],
             [
              0.6666666666666666,
              "#ed7953"
             ],
             [
              0.7777777777777778,
              "#fb9f3a"
             ],
             [
              0.8888888888888888,
              "#fdca26"
             ],
             [
              1,
              "#f0f921"
             ]
            ],
            "type": "histogram2d"
           }
          ],
          "histogram2dcontour": [
           {
            "colorbar": {
             "outlinewidth": 0,
             "ticks": ""
            },
            "colorscale": [
             [
              0,
              "#0d0887"
             ],
             [
              0.1111111111111111,
              "#46039f"
             ],
             [
              0.2222222222222222,
              "#7201a8"
             ],
             [
              0.3333333333333333,
              "#9c179e"
             ],
             [
              0.4444444444444444,
              "#bd3786"
             ],
             [
              0.5555555555555556,
              "#d8576b"
             ],
             [
              0.6666666666666666,
              "#ed7953"
             ],
             [
              0.7777777777777778,
              "#fb9f3a"
             ],
             [
              0.8888888888888888,
              "#fdca26"
             ],
             [
              1,
              "#f0f921"
             ]
            ],
            "type": "histogram2dcontour"
           }
          ],
          "mesh3d": [
           {
            "colorbar": {
             "outlinewidth": 0,
             "ticks": ""
            },
            "type": "mesh3d"
           }
          ],
          "parcoords": [
           {
            "line": {
             "colorbar": {
              "outlinewidth": 0,
              "ticks": ""
             }
            },
            "type": "parcoords"
           }
          ],
          "pie": [
           {
            "automargin": true,
            "type": "pie"
           }
          ],
          "scatter": [
           {
            "fillpattern": {
             "fillmode": "overlay",
             "size": 10,
             "solidity": 0.2
            },
            "type": "scatter"
           }
          ],
          "scatter3d": [
           {
            "line": {
             "colorbar": {
              "outlinewidth": 0,
              "ticks": ""
             }
            },
            "marker": {
             "colorbar": {
              "outlinewidth": 0,
              "ticks": ""
             }
            },
            "type": "scatter3d"
           }
          ],
          "scattercarpet": [
           {
            "marker": {
             "colorbar": {
              "outlinewidth": 0,
              "ticks": ""
             }
            },
            "type": "scattercarpet"
           }
          ],
          "scattergeo": [
           {
            "marker": {
             "colorbar": {
              "outlinewidth": 0,
              "ticks": ""
             }
            },
            "type": "scattergeo"
           }
          ],
          "scattergl": [
           {
            "marker": {
             "colorbar": {
              "outlinewidth": 0,
              "ticks": ""
             }
            },
            "type": "scattergl"
           }
          ],
          "scattermapbox": [
           {
            "marker": {
             "colorbar": {
              "outlinewidth": 0,
              "ticks": ""
             }
            },
            "type": "scattermapbox"
           }
          ],
          "scatterpolar": [
           {
            "marker": {
             "colorbar": {
              "outlinewidth": 0,
              "ticks": ""
             }
            },
            "type": "scatterpolar"
           }
          ],
          "scatterpolargl": [
           {
            "marker": {
             "colorbar": {
              "outlinewidth": 0,
              "ticks": ""
             }
            },
            "type": "scatterpolargl"
           }
          ],
          "scatterternary": [
           {
            "marker": {
             "colorbar": {
              "outlinewidth": 0,
              "ticks": ""
             }
            },
            "type": "scatterternary"
           }
          ],
          "surface": [
           {
            "colorbar": {
             "outlinewidth": 0,
             "ticks": ""
            },
            "colorscale": [
             [
              0,
              "#0d0887"
             ],
             [
              0.1111111111111111,
              "#46039f"
             ],
             [
              0.2222222222222222,
              "#7201a8"
             ],
             [
              0.3333333333333333,
              "#9c179e"
             ],
             [
              0.4444444444444444,
              "#bd3786"
             ],
             [
              0.5555555555555556,
              "#d8576b"
             ],
             [
              0.6666666666666666,
              "#ed7953"
             ],
             [
              0.7777777777777778,
              "#fb9f3a"
             ],
             [
              0.8888888888888888,
              "#fdca26"
             ],
             [
              1,
              "#f0f921"
             ]
            ],
            "type": "surface"
           }
          ],
          "table": [
           {
            "cells": {
             "fill": {
              "color": "#EBF0F8"
             },
             "line": {
              "color": "white"
             }
            },
            "header": {
             "fill": {
              "color": "#C8D4E3"
             },
             "line": {
              "color": "white"
             }
            },
            "type": "table"
           }
          ]
         },
         "layout": {
          "annotationdefaults": {
           "arrowcolor": "#2a3f5f",
           "arrowhead": 0,
           "arrowwidth": 1
          },
          "autotypenumbers": "strict",
          "coloraxis": {
           "colorbar": {
            "outlinewidth": 0,
            "ticks": ""
           }
          },
          "colorscale": {
           "diverging": [
            [
             0,
             "#8e0152"
            ],
            [
             0.1,
             "#c51b7d"
            ],
            [
             0.2,
             "#de77ae"
            ],
            [
             0.3,
             "#f1b6da"
            ],
            [
             0.4,
             "#fde0ef"
            ],
            [
             0.5,
             "#f7f7f7"
            ],
            [
             0.6,
             "#e6f5d0"
            ],
            [
             0.7,
             "#b8e186"
            ],
            [
             0.8,
             "#7fbc41"
            ],
            [
             0.9,
             "#4d9221"
            ],
            [
             1,
             "#276419"
            ]
           ],
           "sequential": [
            [
             0,
             "#0d0887"
            ],
            [
             0.1111111111111111,
             "#46039f"
            ],
            [
             0.2222222222222222,
             "#7201a8"
            ],
            [
             0.3333333333333333,
             "#9c179e"
            ],
            [
             0.4444444444444444,
             "#bd3786"
            ],
            [
             0.5555555555555556,
             "#d8576b"
            ],
            [
             0.6666666666666666,
             "#ed7953"
            ],
            [
             0.7777777777777778,
             "#fb9f3a"
            ],
            [
             0.8888888888888888,
             "#fdca26"
            ],
            [
             1,
             "#f0f921"
            ]
           ],
           "sequentialminus": [
            [
             0,
             "#0d0887"
            ],
            [
             0.1111111111111111,
             "#46039f"
            ],
            [
             0.2222222222222222,
             "#7201a8"
            ],
            [
             0.3333333333333333,
             "#9c179e"
            ],
            [
             0.4444444444444444,
             "#bd3786"
            ],
            [
             0.5555555555555556,
             "#d8576b"
            ],
            [
             0.6666666666666666,
             "#ed7953"
            ],
            [
             0.7777777777777778,
             "#fb9f3a"
            ],
            [
             0.8888888888888888,
             "#fdca26"
            ],
            [
             1,
             "#f0f921"
            ]
           ]
          },
          "colorway": [
           "#636efa",
           "#EF553B",
           "#00cc96",
           "#ab63fa",
           "#FFA15A",
           "#19d3f3",
           "#FF6692",
           "#B6E880",
           "#FF97FF",
           "#FECB52"
          ],
          "font": {
           "color": "#2a3f5f"
          },
          "geo": {
           "bgcolor": "white",
           "lakecolor": "white",
           "landcolor": "white",
           "showlakes": true,
           "showland": true,
           "subunitcolor": "#C8D4E3"
          },
          "hoverlabel": {
           "align": "left"
          },
          "hovermode": "closest",
          "mapbox": {
           "style": "light"
          },
          "paper_bgcolor": "white",
          "plot_bgcolor": "white",
          "polar": {
           "angularaxis": {
            "gridcolor": "#EBF0F8",
            "linecolor": "#EBF0F8",
            "ticks": ""
           },
           "bgcolor": "white",
           "radialaxis": {
            "gridcolor": "#EBF0F8",
            "linecolor": "#EBF0F8",
            "ticks": ""
           }
          },
          "scene": {
           "xaxis": {
            "backgroundcolor": "white",
            "gridcolor": "#DFE8F3",
            "gridwidth": 2,
            "linecolor": "#EBF0F8",
            "showbackground": true,
            "ticks": "",
            "zerolinecolor": "#EBF0F8"
           },
           "yaxis": {
            "backgroundcolor": "white",
            "gridcolor": "#DFE8F3",
            "gridwidth": 2,
            "linecolor": "#EBF0F8",
            "showbackground": true,
            "ticks": "",
            "zerolinecolor": "#EBF0F8"
           },
           "zaxis": {
            "backgroundcolor": "white",
            "gridcolor": "#DFE8F3",
            "gridwidth": 2,
            "linecolor": "#EBF0F8",
            "showbackground": true,
            "ticks": "",
            "zerolinecolor": "#EBF0F8"
           }
          },
          "shapedefaults": {
           "line": {
            "color": "#2a3f5f"
           }
          },
          "ternary": {
           "aaxis": {
            "gridcolor": "#DFE8F3",
            "linecolor": "#A2B1C6",
            "ticks": ""
           },
           "baxis": {
            "gridcolor": "#DFE8F3",
            "linecolor": "#A2B1C6",
            "ticks": ""
           },
           "bgcolor": "white",
           "caxis": {
            "gridcolor": "#DFE8F3",
            "linecolor": "#A2B1C6",
            "ticks": ""
           }
          },
          "title": {
           "x": 0.05
          },
          "xaxis": {
           "automargin": true,
           "gridcolor": "#EBF0F8",
           "linecolor": "#EBF0F8",
           "ticks": "",
           "title": {
            "standoff": 15
           },
           "zerolinecolor": "#EBF0F8",
           "zerolinewidth": 2
          },
          "yaxis": {
           "automargin": true,
           "gridcolor": "#EBF0F8",
           "linecolor": "#EBF0F8",
           "ticks": "",
           "title": {
            "standoff": 15
           },
           "zerolinecolor": "#EBF0F8",
           "zerolinewidth": 2
          }
         }
        },
        "title": {
         "text": "Time Comparison"
        },
        "xaxis": {
         "linewidth": 1.5,
         "showgrid": true,
         "showline": true,
         "showticklabels": true,
         "tickfont": {
          "color": "#000000",
          "family": "Verdana",
          "size": 11
         },
         "ticks": "outside",
         "title": {
          "text": "Iterations"
         }
        },
        "yaxis": {
         "showgrid": true,
         "showline": false,
         "showticklabels": true,
         "tickfont": {
          "color": "#000000",
          "family": "Verdana",
          "size": 11
         },
         "ticks": "outside",
         "title": {
          "text": "Time (ms)"
         },
         "zeroline": false
        }
       }
      }
     },
     "metadata": {},
     "output_type": "display_data"
    }
   ],
   "source": [
    "# seed for reproducibility\n",
    "np.random.seed(0)\n",
    "\n",
    "# Define the range of values\n",
    "select = ['tournament_selection', 'fps', 'rank']\n",
    "\n",
    "# Setting previous best parameter as new default value\n",
    "params.update(replace_param)\n",
    "\n",
    "# Print current parameters to use in best_operators_search\n",
    "print('\\033[1mParameters for GA:\\033[0m', end='\\n\\n')\n",
    "print(params, end='\\n\\n')\n",
    "\n",
    "param_list, df = best_operators_search('select', select, params)\n",
    "\n",
    "# Displaying average results of the 100 iterations\n",
    "print('\\033[1mAverage results:', end='\\n')\n",
    "df['const'] = 'const'\n",
    "df_avg = df.groupby('const').mean().reset_index(drop=True).round(3)\n",
    "display(df_avg)\n",
    "\n",
    "# Getting best parameter by fitness & time\n",
    "best_param_fit = df_avg[[col for col in df_avg.columns if col.startswith('Fit_')]].idxmax(axis=1)[0].replace('Fit_', '')\n",
    "best_param_time = df_avg[[col for col in df_avg.columns if col.startswith('Time_')]].idxmin(axis=1)[0].replace('Time_', '')\n",
    "replace_param = {'select': best_param_fit}\n",
    "print(f'\\nBest Fitness: \\033[1m{best_param_fit}\\033[0m\\n\\nBest Time: \\033[1m{best_param_time}\\033[0m', end='\\n\\n')\n",
    "\n",
    "# Plotting results\n",
    "plot_values(data = df, colors = color_palette[:len(select)], layout=2, template='white', grid=True)"
   ]
  },
  {
   "attachments": {},
   "cell_type": "markdown",
   "metadata": {},
   "source": [
    "### __2.4 Population__"
   ]
  },
  {
   "cell_type": "code",
   "execution_count": 16,
   "metadata": {},
   "outputs": [
    {
     "name": "stdout",
     "output_type": "stream",
     "text": [
      "\u001b[1mParameters for GA:\u001b[0m\n",
      "\n",
      "{'n': 12, 'pop': 100, 'gen': 50, 'mut_perc': 0.05, 'cross_perc': 0.75, 'mut': 'swap_mutation', 'cross': 'cycle_cross', 'select': 'fps'}\n",
      "\n",
      "\u001b[1mAverage results:\n"
     ]
    },
    {
     "data": {
      "text/html": [
       "<div>\n",
       "<style scoped>\n",
       "    .dataframe tbody tr th:only-of-type {\n",
       "        vertical-align: middle;\n",
       "    }\n",
       "\n",
       "    .dataframe tbody tr th {\n",
       "        vertical-align: top;\n",
       "    }\n",
       "\n",
       "    .dataframe thead th {\n",
       "        text-align: right;\n",
       "    }\n",
       "</style>\n",
       "<table border=\"1\" class=\"dataframe\">\n",
       "  <thead>\n",
       "    <tr style=\"text-align: right;\">\n",
       "      <th></th>\n",
       "      <th>Fit_100</th>\n",
       "      <th>Fit_150</th>\n",
       "      <th>Fit_200</th>\n",
       "      <th>Time_100</th>\n",
       "      <th>Time_150</th>\n",
       "      <th>Time_200</th>\n",
       "    </tr>\n",
       "  </thead>\n",
       "  <tbody>\n",
       "    <tr>\n",
       "      <th>0</th>\n",
       "      <td>95.955</td>\n",
       "      <td>96.333</td>\n",
       "      <td>96.879</td>\n",
       "      <td>57.45</td>\n",
       "      <td>121.97</td>\n",
       "      <td>202.88</td>\n",
       "    </tr>\n",
       "  </tbody>\n",
       "</table>\n",
       "</div>"
      ],
      "text/plain": [
       "   Fit_100  Fit_150  Fit_200  Time_100  Time_150  Time_200\n",
       "0   95.955   96.333   96.879     57.45    121.97    202.88"
      ]
     },
     "metadata": {},
     "output_type": "display_data"
    },
    {
     "name": "stdout",
     "output_type": "stream",
     "text": [
      "\n",
      "Best Fitness: \u001b[1m200\u001b[0m\n",
      "\n",
      "Best Time: \u001b[1m100\u001b[0m\n",
      "\n"
     ]
    },
    {
     "data": {
      "application/vnd.plotly.v1+json": {
       "config": {
        "plotlyServerURL": "https://plot.ly"
       },
       "data": [
        {
         "line": {
          "color": "gray",
          "width": 2
         },
         "name": "100",
         "type": "scatter",
         "x": [
          0,
          1,
          2,
          3,
          4,
          5,
          6,
          7,
          8,
          9,
          10,
          11,
          12,
          13,
          14,
          15,
          16,
          17,
          18,
          19,
          20,
          21,
          22,
          23,
          24,
          25,
          26,
          27,
          28,
          29,
          30,
          31,
          32,
          33,
          34,
          35,
          36,
          37,
          38,
          39,
          40,
          41,
          42,
          43,
          44,
          45,
          46,
          47,
          48,
          49,
          50,
          51,
          52,
          53,
          54,
          55,
          56,
          57,
          58,
          59,
          60,
          61,
          62,
          63,
          64,
          65,
          66,
          67,
          68,
          69,
          70,
          71,
          72,
          73,
          74,
          75,
          76,
          77,
          78,
          79,
          80,
          81,
          82,
          83,
          84,
          85,
          86,
          87,
          88,
          89,
          90,
          91,
          92,
          93,
          94,
          95,
          96,
          97,
          98,
          99
         ],
         "y": [
          96.96969696969697,
          95.45454545454545,
          96.96969696969697,
          93.93939393939394,
          96.96969696969697,
          95.45454545454545,
          95.45454545454545,
          98.48484848484848,
          96.96969696969697,
          95.45454545454545,
          95.45454545454545,
          96.96969696969697,
          95.45454545454545,
          95.45454545454545,
          95.45454545454545,
          95.45454545454545,
          96.96969696969697,
          95.45454545454545,
          96.96969696969697,
          95.45454545454545,
          96.96969696969697,
          96.96969696969697,
          96.96969696969697,
          95.45454545454545,
          95.45454545454545,
          96.96969696969697,
          95.45454545454545,
          95.45454545454545,
          95.45454545454545,
          95.45454545454545,
          95.45454545454545,
          95.45454545454545,
          96.96969696969697,
          95.45454545454545,
          95.45454545454545,
          95.45454545454545,
          96.96969696969697,
          95.45454545454545,
          96.96969696969697,
          96.96969696969697,
          95.45454545454545,
          95.45454545454545,
          95.45454545454545,
          95.45454545454545,
          95.45454545454545,
          95.45454545454545,
          95.45454545454545,
          93.93939393939394,
          95.45454545454545,
          96.96969696969697,
          95.45454545454545,
          95.45454545454545,
          96.96969696969697,
          98.48484848484848,
          95.45454545454545,
          96.96969696969697,
          96.96969696969697,
          96.96969696969697,
          96.96969696969697,
          96.96969696969697,
          95.45454545454545,
          95.45454545454545,
          95.45454545454545,
          95.45454545454545,
          93.93939393939394,
          95.45454545454545,
          96.96969696969697,
          96.96969696969697,
          95.45454545454545,
          95.45454545454545,
          96.96969696969697,
          95.45454545454545,
          95.45454545454545,
          96.96969696969697,
          96.96969696969697,
          95.45454545454545,
          96.96969696969697,
          95.45454545454545,
          95.45454545454545,
          98.48484848484848,
          95.45454545454545,
          95.45454545454545,
          95.45454545454545,
          96.96969696969697,
          95.45454545454545,
          96.96969696969697,
          93.93939393939394,
          95.45454545454545,
          96.96969696969697,
          95.45454545454545,
          95.45454545454545,
          95.45454545454545,
          95.45454545454545,
          95.45454545454545,
          95.45454545454545,
          95.45454545454545,
          93.93939393939394,
          95.45454545454545,
          95.45454545454545,
          96.96969696969697
         ]
        },
        {
         "marker": {
          "color": "gray",
          "size": 8
         },
         "mode": "markers",
         "name": "",
         "type": "scatter",
         "x": [
          0,
          99
         ],
         "y": [
          96.96969696969697,
          96.96969696969697
         ]
        },
        {
         "line": {
          "color": "steelblue",
          "width": 2
         },
         "name": "150",
         "type": "scatter",
         "x": [
          0,
          1,
          2,
          3,
          4,
          5,
          6,
          7,
          8,
          9,
          10,
          11,
          12,
          13,
          14,
          15,
          16,
          17,
          18,
          19,
          20,
          21,
          22,
          23,
          24,
          25,
          26,
          27,
          28,
          29,
          30,
          31,
          32,
          33,
          34,
          35,
          36,
          37,
          38,
          39,
          40,
          41,
          42,
          43,
          44,
          45,
          46,
          47,
          48,
          49,
          50,
          51,
          52,
          53,
          54,
          55,
          56,
          57,
          58,
          59,
          60,
          61,
          62,
          63,
          64,
          65,
          66,
          67,
          68,
          69,
          70,
          71,
          72,
          73,
          74,
          75,
          76,
          77,
          78,
          79,
          80,
          81,
          82,
          83,
          84,
          85,
          86,
          87,
          88,
          89,
          90,
          91,
          92,
          93,
          94,
          95,
          96,
          97,
          98,
          99
         ],
         "y": [
          96.96969696969697,
          96.96969696969697,
          96.96969696969697,
          96.96969696969697,
          95.45454545454545,
          96.96969696969697,
          95.45454545454545,
          96.96969696969697,
          95.45454545454545,
          96.96969696969697,
          95.45454545454545,
          96.96969696969697,
          96.96969696969697,
          96.96969696969697,
          98.48484848484848,
          98.48484848484848,
          95.45454545454545,
          98.48484848484848,
          95.45454545454545,
          96.96969696969697,
          95.45454545454545,
          98.48484848484848,
          96.96969696969697,
          95.45454545454545,
          95.45454545454545,
          95.45454545454545,
          98.48484848484848,
          96.96969696969697,
          95.45454545454545,
          96.96969696969697,
          96.96969696969697,
          96.96969696969697,
          95.45454545454545,
          96.96969696969697,
          96.96969696969697,
          95.45454545454545,
          95.45454545454545,
          96.96969696969697,
          95.45454545454545,
          96.96969696969697,
          95.45454545454545,
          96.96969696969697,
          96.96969696969697,
          96.96969696969697,
          96.96969696969697,
          95.45454545454545,
          95.45454545454545,
          95.45454545454545,
          95.45454545454545,
          95.45454545454545,
          96.96969696969697,
          95.45454545454545,
          95.45454545454545,
          95.45454545454545,
          96.96969696969697,
          95.45454545454545,
          95.45454545454545,
          96.96969696969697,
          96.96969696969697,
          95.45454545454545,
          96.96969696969697,
          96.96969696969697,
          95.45454545454545,
          95.45454545454545,
          96.96969696969697,
          96.96969696969697,
          96.96969696969697,
          95.45454545454545,
          95.45454545454545,
          96.96969696969697,
          96.96969696969697,
          98.48484848484848,
          95.45454545454545,
          96.96969696969697,
          95.45454545454545,
          96.96969696969697,
          96.96969696969697,
          96.96969696969697,
          98.48484848484848,
          95.45454545454545,
          96.96969696969697,
          95.45454545454545,
          96.96969696969697,
          95.45454545454545,
          96.96969696969697,
          93.93939393939394,
          96.96969696969697,
          95.45454545454545,
          95.45454545454545,
          95.45454545454545,
          95.45454545454545,
          93.93939393939394,
          95.45454545454545,
          96.96969696969697,
          95.45454545454545,
          96.96969696969697,
          95.45454545454545,
          96.96969696969697,
          95.45454545454545,
          95.45454545454545
         ]
        },
        {
         "marker": {
          "color": "steelblue",
          "size": 8
         },
         "mode": "markers",
         "name": "",
         "type": "scatter",
         "x": [
          0,
          99
         ],
         "y": [
          96.96969696969697,
          95.45454545454545
         ]
        },
        {
         "line": {
          "color": "purple",
          "width": 2
         },
         "name": "200",
         "type": "scatter",
         "x": [
          0,
          1,
          2,
          3,
          4,
          5,
          6,
          7,
          8,
          9,
          10,
          11,
          12,
          13,
          14,
          15,
          16,
          17,
          18,
          19,
          20,
          21,
          22,
          23,
          24,
          25,
          26,
          27,
          28,
          29,
          30,
          31,
          32,
          33,
          34,
          35,
          36,
          37,
          38,
          39,
          40,
          41,
          42,
          43,
          44,
          45,
          46,
          47,
          48,
          49,
          50,
          51,
          52,
          53,
          54,
          55,
          56,
          57,
          58,
          59,
          60,
          61,
          62,
          63,
          64,
          65,
          66,
          67,
          68,
          69,
          70,
          71,
          72,
          73,
          74,
          75,
          76,
          77,
          78,
          79,
          80,
          81,
          82,
          83,
          84,
          85,
          86,
          87,
          88,
          89,
          90,
          91,
          92,
          93,
          94,
          95,
          96,
          97,
          98,
          99
         ],
         "y": [
          98.48484848484848,
          95.45454545454545,
          96.96969696969697,
          96.96969696969697,
          96.96969696969697,
          96.96969696969697,
          96.96969696969697,
          95.45454545454545,
          95.45454545454545,
          95.45454545454545,
          95.45454545454545,
          96.96969696969697,
          96.96969696969697,
          95.45454545454545,
          98.48484848484848,
          95.45454545454545,
          96.96969696969697,
          96.96969696969697,
          96.96969696969697,
          98.48484848484848,
          95.45454545454545,
          98.48484848484848,
          96.96969696969697,
          95.45454545454545,
          95.45454545454545,
          95.45454545454545,
          98.48484848484848,
          96.96969696969697,
          96.96969696969697,
          95.45454545454545,
          96.96969696969697,
          98.48484848484848,
          96.96969696969697,
          95.45454545454545,
          96.96969696969697,
          96.96969696969697,
          96.96969696969697,
          98.48484848484848,
          95.45454545454545,
          95.45454545454545,
          96.96969696969697,
          96.96969696969697,
          96.96969696969697,
          96.96969696969697,
          98.48484848484848,
          96.96969696969697,
          96.96969696969697,
          96.96969696969697,
          96.96969696969697,
          96.96969696969697,
          96.96969696969697,
          96.96969696969697,
          95.45454545454545,
          95.45454545454545,
          95.45454545454545,
          98.48484848484848,
          96.96969696969697,
          98.48484848484848,
          96.96969696969697,
          96.96969696969697,
          96.96969696969697,
          95.45454545454545,
          98.48484848484848,
          95.45454545454545,
          96.96969696969697,
          95.45454545454545,
          96.96969696969697,
          96.96969696969697,
          96.96969696969697,
          95.45454545454545,
          96.96969696969697,
          96.96969696969697,
          96.96969696969697,
          98.48484848484848,
          95.45454545454545,
          96.96969696969697,
          96.96969696969697,
          96.96969696969697,
          96.96969696969697,
          96.96969696969697,
          96.96969696969697,
          98.48484848484848,
          98.48484848484848,
          96.96969696969697,
          96.96969696969697,
          98.48484848484848,
          96.96969696969697,
          96.96969696969697,
          98.48484848484848,
          96.96969696969697,
          96.96969696969697,
          98.48484848484848,
          98.48484848484848,
          96.96969696969697,
          95.45454545454545,
          95.45454545454545,
          98.48484848484848,
          96.96969696969697,
          96.96969696969697,
          96.96969696969697
         ]
        },
        {
         "marker": {
          "color": "purple",
          "size": 8
         },
         "mode": "markers",
         "name": "",
         "type": "scatter",
         "x": [
          0,
          99
         ],
         "y": [
          98.48484848484848,
          96.96969696969697
         ]
        }
       ],
       "layout": {
        "font": {
         "family": "Verdana",
         "size": 14
        },
        "template": {
         "data": {
          "bar": [
           {
            "error_x": {
             "color": "#2a3f5f"
            },
            "error_y": {
             "color": "#2a3f5f"
            },
            "marker": {
             "line": {
              "color": "white",
              "width": 0.5
             },
             "pattern": {
              "fillmode": "overlay",
              "size": 10,
              "solidity": 0.2
             }
            },
            "type": "bar"
           }
          ],
          "barpolar": [
           {
            "marker": {
             "line": {
              "color": "white",
              "width": 0.5
             },
             "pattern": {
              "fillmode": "overlay",
              "size": 10,
              "solidity": 0.2
             }
            },
            "type": "barpolar"
           }
          ],
          "carpet": [
           {
            "aaxis": {
             "endlinecolor": "#2a3f5f",
             "gridcolor": "#C8D4E3",
             "linecolor": "#C8D4E3",
             "minorgridcolor": "#C8D4E3",
             "startlinecolor": "#2a3f5f"
            },
            "baxis": {
             "endlinecolor": "#2a3f5f",
             "gridcolor": "#C8D4E3",
             "linecolor": "#C8D4E3",
             "minorgridcolor": "#C8D4E3",
             "startlinecolor": "#2a3f5f"
            },
            "type": "carpet"
           }
          ],
          "choropleth": [
           {
            "colorbar": {
             "outlinewidth": 0,
             "ticks": ""
            },
            "type": "choropleth"
           }
          ],
          "contour": [
           {
            "colorbar": {
             "outlinewidth": 0,
             "ticks": ""
            },
            "colorscale": [
             [
              0,
              "#0d0887"
             ],
             [
              0.1111111111111111,
              "#46039f"
             ],
             [
              0.2222222222222222,
              "#7201a8"
             ],
             [
              0.3333333333333333,
              "#9c179e"
             ],
             [
              0.4444444444444444,
              "#bd3786"
             ],
             [
              0.5555555555555556,
              "#d8576b"
             ],
             [
              0.6666666666666666,
              "#ed7953"
             ],
             [
              0.7777777777777778,
              "#fb9f3a"
             ],
             [
              0.8888888888888888,
              "#fdca26"
             ],
             [
              1,
              "#f0f921"
             ]
            ],
            "type": "contour"
           }
          ],
          "contourcarpet": [
           {
            "colorbar": {
             "outlinewidth": 0,
             "ticks": ""
            },
            "type": "contourcarpet"
           }
          ],
          "heatmap": [
           {
            "colorbar": {
             "outlinewidth": 0,
             "ticks": ""
            },
            "colorscale": [
             [
              0,
              "#0d0887"
             ],
             [
              0.1111111111111111,
              "#46039f"
             ],
             [
              0.2222222222222222,
              "#7201a8"
             ],
             [
              0.3333333333333333,
              "#9c179e"
             ],
             [
              0.4444444444444444,
              "#bd3786"
             ],
             [
              0.5555555555555556,
              "#d8576b"
             ],
             [
              0.6666666666666666,
              "#ed7953"
             ],
             [
              0.7777777777777778,
              "#fb9f3a"
             ],
             [
              0.8888888888888888,
              "#fdca26"
             ],
             [
              1,
              "#f0f921"
             ]
            ],
            "type": "heatmap"
           }
          ],
          "heatmapgl": [
           {
            "colorbar": {
             "outlinewidth": 0,
             "ticks": ""
            },
            "colorscale": [
             [
              0,
              "#0d0887"
             ],
             [
              0.1111111111111111,
              "#46039f"
             ],
             [
              0.2222222222222222,
              "#7201a8"
             ],
             [
              0.3333333333333333,
              "#9c179e"
             ],
             [
              0.4444444444444444,
              "#bd3786"
             ],
             [
              0.5555555555555556,
              "#d8576b"
             ],
             [
              0.6666666666666666,
              "#ed7953"
             ],
             [
              0.7777777777777778,
              "#fb9f3a"
             ],
             [
              0.8888888888888888,
              "#fdca26"
             ],
             [
              1,
              "#f0f921"
             ]
            ],
            "type": "heatmapgl"
           }
          ],
          "histogram": [
           {
            "marker": {
             "pattern": {
              "fillmode": "overlay",
              "size": 10,
              "solidity": 0.2
             }
            },
            "type": "histogram"
           }
          ],
          "histogram2d": [
           {
            "colorbar": {
             "outlinewidth": 0,
             "ticks": ""
            },
            "colorscale": [
             [
              0,
              "#0d0887"
             ],
             [
              0.1111111111111111,
              "#46039f"
             ],
             [
              0.2222222222222222,
              "#7201a8"
             ],
             [
              0.3333333333333333,
              "#9c179e"
             ],
             [
              0.4444444444444444,
              "#bd3786"
             ],
             [
              0.5555555555555556,
              "#d8576b"
             ],
             [
              0.6666666666666666,
              "#ed7953"
             ],
             [
              0.7777777777777778,
              "#fb9f3a"
             ],
             [
              0.8888888888888888,
              "#fdca26"
             ],
             [
              1,
              "#f0f921"
             ]
            ],
            "type": "histogram2d"
           }
          ],
          "histogram2dcontour": [
           {
            "colorbar": {
             "outlinewidth": 0,
             "ticks": ""
            },
            "colorscale": [
             [
              0,
              "#0d0887"
             ],
             [
              0.1111111111111111,
              "#46039f"
             ],
             [
              0.2222222222222222,
              "#7201a8"
             ],
             [
              0.3333333333333333,
              "#9c179e"
             ],
             [
              0.4444444444444444,
              "#bd3786"
             ],
             [
              0.5555555555555556,
              "#d8576b"
             ],
             [
              0.6666666666666666,
              "#ed7953"
             ],
             [
              0.7777777777777778,
              "#fb9f3a"
             ],
             [
              0.8888888888888888,
              "#fdca26"
             ],
             [
              1,
              "#f0f921"
             ]
            ],
            "type": "histogram2dcontour"
           }
          ],
          "mesh3d": [
           {
            "colorbar": {
             "outlinewidth": 0,
             "ticks": ""
            },
            "type": "mesh3d"
           }
          ],
          "parcoords": [
           {
            "line": {
             "colorbar": {
              "outlinewidth": 0,
              "ticks": ""
             }
            },
            "type": "parcoords"
           }
          ],
          "pie": [
           {
            "automargin": true,
            "type": "pie"
           }
          ],
          "scatter": [
           {
            "fillpattern": {
             "fillmode": "overlay",
             "size": 10,
             "solidity": 0.2
            },
            "type": "scatter"
           }
          ],
          "scatter3d": [
           {
            "line": {
             "colorbar": {
              "outlinewidth": 0,
              "ticks": ""
             }
            },
            "marker": {
             "colorbar": {
              "outlinewidth": 0,
              "ticks": ""
             }
            },
            "type": "scatter3d"
           }
          ],
          "scattercarpet": [
           {
            "marker": {
             "colorbar": {
              "outlinewidth": 0,
              "ticks": ""
             }
            },
            "type": "scattercarpet"
           }
          ],
          "scattergeo": [
           {
            "marker": {
             "colorbar": {
              "outlinewidth": 0,
              "ticks": ""
             }
            },
            "type": "scattergeo"
           }
          ],
          "scattergl": [
           {
            "marker": {
             "colorbar": {
              "outlinewidth": 0,
              "ticks": ""
             }
            },
            "type": "scattergl"
           }
          ],
          "scattermapbox": [
           {
            "marker": {
             "colorbar": {
              "outlinewidth": 0,
              "ticks": ""
             }
            },
            "type": "scattermapbox"
           }
          ],
          "scatterpolar": [
           {
            "marker": {
             "colorbar": {
              "outlinewidth": 0,
              "ticks": ""
             }
            },
            "type": "scatterpolar"
           }
          ],
          "scatterpolargl": [
           {
            "marker": {
             "colorbar": {
              "outlinewidth": 0,
              "ticks": ""
             }
            },
            "type": "scatterpolargl"
           }
          ],
          "scatterternary": [
           {
            "marker": {
             "colorbar": {
              "outlinewidth": 0,
              "ticks": ""
             }
            },
            "type": "scatterternary"
           }
          ],
          "surface": [
           {
            "colorbar": {
             "outlinewidth": 0,
             "ticks": ""
            },
            "colorscale": [
             [
              0,
              "#0d0887"
             ],
             [
              0.1111111111111111,
              "#46039f"
             ],
             [
              0.2222222222222222,
              "#7201a8"
             ],
             [
              0.3333333333333333,
              "#9c179e"
             ],
             [
              0.4444444444444444,
              "#bd3786"
             ],
             [
              0.5555555555555556,
              "#d8576b"
             ],
             [
              0.6666666666666666,
              "#ed7953"
             ],
             [
              0.7777777777777778,
              "#fb9f3a"
             ],
             [
              0.8888888888888888,
              "#fdca26"
             ],
             [
              1,
              "#f0f921"
             ]
            ],
            "type": "surface"
           }
          ],
          "table": [
           {
            "cells": {
             "fill": {
              "color": "#EBF0F8"
             },
             "line": {
              "color": "white"
             }
            },
            "header": {
             "fill": {
              "color": "#C8D4E3"
             },
             "line": {
              "color": "white"
             }
            },
            "type": "table"
           }
          ]
         },
         "layout": {
          "annotationdefaults": {
           "arrowcolor": "#2a3f5f",
           "arrowhead": 0,
           "arrowwidth": 1
          },
          "autotypenumbers": "strict",
          "coloraxis": {
           "colorbar": {
            "outlinewidth": 0,
            "ticks": ""
           }
          },
          "colorscale": {
           "diverging": [
            [
             0,
             "#8e0152"
            ],
            [
             0.1,
             "#c51b7d"
            ],
            [
             0.2,
             "#de77ae"
            ],
            [
             0.3,
             "#f1b6da"
            ],
            [
             0.4,
             "#fde0ef"
            ],
            [
             0.5,
             "#f7f7f7"
            ],
            [
             0.6,
             "#e6f5d0"
            ],
            [
             0.7,
             "#b8e186"
            ],
            [
             0.8,
             "#7fbc41"
            ],
            [
             0.9,
             "#4d9221"
            ],
            [
             1,
             "#276419"
            ]
           ],
           "sequential": [
            [
             0,
             "#0d0887"
            ],
            [
             0.1111111111111111,
             "#46039f"
            ],
            [
             0.2222222222222222,
             "#7201a8"
            ],
            [
             0.3333333333333333,
             "#9c179e"
            ],
            [
             0.4444444444444444,
             "#bd3786"
            ],
            [
             0.5555555555555556,
             "#d8576b"
            ],
            [
             0.6666666666666666,
             "#ed7953"
            ],
            [
             0.7777777777777778,
             "#fb9f3a"
            ],
            [
             0.8888888888888888,
             "#fdca26"
            ],
            [
             1,
             "#f0f921"
            ]
           ],
           "sequentialminus": [
            [
             0,
             "#0d0887"
            ],
            [
             0.1111111111111111,
             "#46039f"
            ],
            [
             0.2222222222222222,
             "#7201a8"
            ],
            [
             0.3333333333333333,
             "#9c179e"
            ],
            [
             0.4444444444444444,
             "#bd3786"
            ],
            [
             0.5555555555555556,
             "#d8576b"
            ],
            [
             0.6666666666666666,
             "#ed7953"
            ],
            [
             0.7777777777777778,
             "#fb9f3a"
            ],
            [
             0.8888888888888888,
             "#fdca26"
            ],
            [
             1,
             "#f0f921"
            ]
           ]
          },
          "colorway": [
           "#636efa",
           "#EF553B",
           "#00cc96",
           "#ab63fa",
           "#FFA15A",
           "#19d3f3",
           "#FF6692",
           "#B6E880",
           "#FF97FF",
           "#FECB52"
          ],
          "font": {
           "color": "#2a3f5f"
          },
          "geo": {
           "bgcolor": "white",
           "lakecolor": "white",
           "landcolor": "white",
           "showlakes": true,
           "showland": true,
           "subunitcolor": "#C8D4E3"
          },
          "hoverlabel": {
           "align": "left"
          },
          "hovermode": "closest",
          "mapbox": {
           "style": "light"
          },
          "paper_bgcolor": "white",
          "plot_bgcolor": "white",
          "polar": {
           "angularaxis": {
            "gridcolor": "#EBF0F8",
            "linecolor": "#EBF0F8",
            "ticks": ""
           },
           "bgcolor": "white",
           "radialaxis": {
            "gridcolor": "#EBF0F8",
            "linecolor": "#EBF0F8",
            "ticks": ""
           }
          },
          "scene": {
           "xaxis": {
            "backgroundcolor": "white",
            "gridcolor": "#DFE8F3",
            "gridwidth": 2,
            "linecolor": "#EBF0F8",
            "showbackground": true,
            "ticks": "",
            "zerolinecolor": "#EBF0F8"
           },
           "yaxis": {
            "backgroundcolor": "white",
            "gridcolor": "#DFE8F3",
            "gridwidth": 2,
            "linecolor": "#EBF0F8",
            "showbackground": true,
            "ticks": "",
            "zerolinecolor": "#EBF0F8"
           },
           "zaxis": {
            "backgroundcolor": "white",
            "gridcolor": "#DFE8F3",
            "gridwidth": 2,
            "linecolor": "#EBF0F8",
            "showbackground": true,
            "ticks": "",
            "zerolinecolor": "#EBF0F8"
           }
          },
          "shapedefaults": {
           "line": {
            "color": "#2a3f5f"
           }
          },
          "ternary": {
           "aaxis": {
            "gridcolor": "#DFE8F3",
            "linecolor": "#A2B1C6",
            "ticks": ""
           },
           "baxis": {
            "gridcolor": "#DFE8F3",
            "linecolor": "#A2B1C6",
            "ticks": ""
           },
           "bgcolor": "white",
           "caxis": {
            "gridcolor": "#DFE8F3",
            "linecolor": "#A2B1C6",
            "ticks": ""
           }
          },
          "title": {
           "x": 0.05
          },
          "xaxis": {
           "automargin": true,
           "gridcolor": "#EBF0F8",
           "linecolor": "#EBF0F8",
           "ticks": "",
           "title": {
            "standoff": 15
           },
           "zerolinecolor": "#EBF0F8",
           "zerolinewidth": 2
          },
          "yaxis": {
           "automargin": true,
           "gridcolor": "#EBF0F8",
           "linecolor": "#EBF0F8",
           "ticks": "",
           "title": {
            "standoff": 15
           },
           "zerolinecolor": "#EBF0F8",
           "zerolinewidth": 2
          }
         }
        },
        "title": {
         "text": "Fitness Comparison"
        },
        "xaxis": {
         "linewidth": 1.5,
         "showgrid": true,
         "showline": true,
         "showticklabels": true,
         "tickfont": {
          "color": "#000000",
          "family": "Verdana",
          "size": 11
         },
         "ticks": "outside",
         "title": {
          "text": "Iterations"
         }
        },
        "yaxis": {
         "showgrid": true,
         "showline": false,
         "showticklabels": true,
         "tickfont": {
          "color": "#000000",
          "family": "Verdana",
          "size": 11
         },
         "ticks": "outside",
         "title": {
          "text": "Fitness"
         },
         "zeroline": false
        }
       }
      }
     },
     "metadata": {},
     "output_type": "display_data"
    },
    {
     "data": {
      "application/vnd.plotly.v1+json": {
       "config": {
        "plotlyServerURL": "https://plot.ly"
       },
       "data": [
        {
         "line": {
          "color": "gray",
          "width": 2
         },
         "name": "100",
         "type": "scatter",
         "x": [
          0,
          1,
          2,
          3,
          4,
          5,
          6,
          7,
          8,
          9,
          10,
          11,
          12,
          13,
          14,
          15,
          16,
          17,
          18,
          19,
          20,
          21,
          22,
          23,
          24,
          25,
          26,
          27,
          28,
          29,
          30,
          31,
          32,
          33,
          34,
          35,
          36,
          37,
          38,
          39,
          40,
          41,
          42,
          43,
          44,
          45,
          46,
          47,
          48,
          49,
          50,
          51,
          52,
          53,
          54,
          55,
          56,
          57,
          58,
          59,
          60,
          61,
          62,
          63,
          64,
          65,
          66,
          67,
          68,
          69,
          70,
          71,
          72,
          73,
          74,
          75,
          76,
          77,
          78,
          79,
          80,
          81,
          82,
          83,
          84,
          85,
          86,
          87,
          88,
          89,
          90,
          91,
          92,
          93,
          94,
          95,
          96,
          97,
          98,
          99
         ],
         "y": [
          57,
          58,
          58,
          56,
          56,
          58,
          57,
          60,
          56,
          56,
          57,
          55,
          55,
          57,
          58,
          57,
          58,
          60,
          58,
          59,
          58,
          57,
          59,
          60,
          59,
          56,
          58,
          57,
          66,
          60,
          57,
          57,
          57,
          58,
          56,
          56,
          58,
          60,
          57,
          56,
          57,
          59,
          61,
          56,
          56,
          59,
          59,
          57,
          56,
          59,
          59,
          58,
          55,
          59,
          59,
          57,
          58,
          58,
          56,
          56,
          60,
          56,
          55,
          57,
          60,
          56,
          56,
          58,
          55,
          58,
          57,
          59,
          57,
          56,
          57,
          55,
          57,
          58,
          57,
          56,
          56,
          60,
          59,
          56,
          56,
          57,
          55,
          59,
          56,
          57,
          56,
          57,
          57,
          56,
          57,
          59,
          60,
          58,
          58,
          54
         ]
        },
        {
         "marker": {
          "color": "gray",
          "size": 8
         },
         "mode": "markers",
         "name": "",
         "type": "scatter",
         "x": [
          0,
          99
         ],
         "y": [
          57,
          54
         ]
        },
        {
         "line": {
          "color": "steelblue",
          "width": 2
         },
         "name": "150",
         "type": "scatter",
         "x": [
          0,
          1,
          2,
          3,
          4,
          5,
          6,
          7,
          8,
          9,
          10,
          11,
          12,
          13,
          14,
          15,
          16,
          17,
          18,
          19,
          20,
          21,
          22,
          23,
          24,
          25,
          26,
          27,
          28,
          29,
          30,
          31,
          32,
          33,
          34,
          35,
          36,
          37,
          38,
          39,
          40,
          41,
          42,
          43,
          44,
          45,
          46,
          47,
          48,
          49,
          50,
          51,
          52,
          53,
          54,
          55,
          56,
          57,
          58,
          59,
          60,
          61,
          62,
          63,
          64,
          65,
          66,
          67,
          68,
          69,
          70,
          71,
          72,
          73,
          74,
          75,
          76,
          77,
          78,
          79,
          80,
          81,
          82,
          83,
          84,
          85,
          86,
          87,
          88,
          89,
          90,
          91,
          92,
          93,
          94,
          95,
          96,
          97,
          98,
          99
         ],
         "y": [
          120,
          118,
          120,
          126,
          124,
          123,
          115,
          120,
          120,
          118,
          115,
          121,
          123,
          119,
          116,
          125,
          121,
          122,
          126,
          119,
          123,
          124,
          132,
          127,
          118,
          126,
          124,
          122,
          128,
          129,
          121,
          124,
          139,
          125,
          123,
          129,
          121,
          120,
          126,
          122,
          121,
          122,
          130,
          127,
          126,
          122,
          123,
          144,
          121,
          119,
          119,
          124,
          132,
          124,
          119,
          127,
          124,
          121,
          121,
          122,
          122,
          116,
          120,
          125,
          118,
          123,
          126,
          121,
          123,
          122,
          118,
          119,
          125,
          130,
          120,
          125,
          118,
          124,
          116,
          116,
          122,
          125,
          117,
          122,
          115,
          120,
          112,
          119,
          117,
          118,
          117,
          124,
          119,
          118,
          116,
          116,
          117,
          120,
          119,
          115
         ]
        },
        {
         "marker": {
          "color": "steelblue",
          "size": 8
         },
         "mode": "markers",
         "name": "",
         "type": "scatter",
         "x": [
          0,
          99
         ],
         "y": [
          120,
          115
         ]
        },
        {
         "line": {
          "color": "purple",
          "width": 2
         },
         "name": "200",
         "type": "scatter",
         "x": [
          0,
          1,
          2,
          3,
          4,
          5,
          6,
          7,
          8,
          9,
          10,
          11,
          12,
          13,
          14,
          15,
          16,
          17,
          18,
          19,
          20,
          21,
          22,
          23,
          24,
          25,
          26,
          27,
          28,
          29,
          30,
          31,
          32,
          33,
          34,
          35,
          36,
          37,
          38,
          39,
          40,
          41,
          42,
          43,
          44,
          45,
          46,
          47,
          48,
          49,
          50,
          51,
          52,
          53,
          54,
          55,
          56,
          57,
          58,
          59,
          60,
          61,
          62,
          63,
          64,
          65,
          66,
          67,
          68,
          69,
          70,
          71,
          72,
          73,
          74,
          75,
          76,
          77,
          78,
          79,
          80,
          81,
          82,
          83,
          84,
          85,
          86,
          87,
          88,
          89,
          90,
          91,
          92,
          93,
          94,
          95,
          96,
          97,
          98,
          99
         ],
         "y": [
          203,
          191,
          198,
          202,
          214,
          205,
          203,
          192,
          208,
          206,
          206,
          204,
          200,
          200,
          198,
          216,
          200,
          201,
          207,
          203,
          211,
          205,
          201,
          203,
          206,
          202,
          196,
          201,
          204,
          198,
          202,
          199,
          192,
          190,
          197,
          193,
          202,
          213,
          206,
          208,
          195,
          202,
          201,
          194,
          204,
          204,
          202,
          205,
          200,
          201,
          208,
          188,
          203,
          200,
          207,
          202,
          199,
          211,
          204,
          201,
          207,
          211,
          210,
          206,
          208,
          209,
          210,
          204,
          195,
          193,
          197,
          199,
          205,
          200,
          195,
          206,
          208,
          198,
          204,
          200,
          200,
          204,
          195,
          215,
          203,
          213,
          212,
          210,
          203,
          216,
          204,
          202,
          207,
          199,
          195,
          217,
          203,
          197,
          203,
          208
         ]
        },
        {
         "marker": {
          "color": "purple",
          "size": 8
         },
         "mode": "markers",
         "name": "",
         "type": "scatter",
         "x": [
          0,
          99
         ],
         "y": [
          203,
          208
         ]
        }
       ],
       "layout": {
        "font": {
         "family": "Verdana",
         "size": 14
        },
        "template": {
         "data": {
          "bar": [
           {
            "error_x": {
             "color": "#2a3f5f"
            },
            "error_y": {
             "color": "#2a3f5f"
            },
            "marker": {
             "line": {
              "color": "white",
              "width": 0.5
             },
             "pattern": {
              "fillmode": "overlay",
              "size": 10,
              "solidity": 0.2
             }
            },
            "type": "bar"
           }
          ],
          "barpolar": [
           {
            "marker": {
             "line": {
              "color": "white",
              "width": 0.5
             },
             "pattern": {
              "fillmode": "overlay",
              "size": 10,
              "solidity": 0.2
             }
            },
            "type": "barpolar"
           }
          ],
          "carpet": [
           {
            "aaxis": {
             "endlinecolor": "#2a3f5f",
             "gridcolor": "#C8D4E3",
             "linecolor": "#C8D4E3",
             "minorgridcolor": "#C8D4E3",
             "startlinecolor": "#2a3f5f"
            },
            "baxis": {
             "endlinecolor": "#2a3f5f",
             "gridcolor": "#C8D4E3",
             "linecolor": "#C8D4E3",
             "minorgridcolor": "#C8D4E3",
             "startlinecolor": "#2a3f5f"
            },
            "type": "carpet"
           }
          ],
          "choropleth": [
           {
            "colorbar": {
             "outlinewidth": 0,
             "ticks": ""
            },
            "type": "choropleth"
           }
          ],
          "contour": [
           {
            "colorbar": {
             "outlinewidth": 0,
             "ticks": ""
            },
            "colorscale": [
             [
              0,
              "#0d0887"
             ],
             [
              0.1111111111111111,
              "#46039f"
             ],
             [
              0.2222222222222222,
              "#7201a8"
             ],
             [
              0.3333333333333333,
              "#9c179e"
             ],
             [
              0.4444444444444444,
              "#bd3786"
             ],
             [
              0.5555555555555556,
              "#d8576b"
             ],
             [
              0.6666666666666666,
              "#ed7953"
             ],
             [
              0.7777777777777778,
              "#fb9f3a"
             ],
             [
              0.8888888888888888,
              "#fdca26"
             ],
             [
              1,
              "#f0f921"
             ]
            ],
            "type": "contour"
           }
          ],
          "contourcarpet": [
           {
            "colorbar": {
             "outlinewidth": 0,
             "ticks": ""
            },
            "type": "contourcarpet"
           }
          ],
          "heatmap": [
           {
            "colorbar": {
             "outlinewidth": 0,
             "ticks": ""
            },
            "colorscale": [
             [
              0,
              "#0d0887"
             ],
             [
              0.1111111111111111,
              "#46039f"
             ],
             [
              0.2222222222222222,
              "#7201a8"
             ],
             [
              0.3333333333333333,
              "#9c179e"
             ],
             [
              0.4444444444444444,
              "#bd3786"
             ],
             [
              0.5555555555555556,
              "#d8576b"
             ],
             [
              0.6666666666666666,
              "#ed7953"
             ],
             [
              0.7777777777777778,
              "#fb9f3a"
             ],
             [
              0.8888888888888888,
              "#fdca26"
             ],
             [
              1,
              "#f0f921"
             ]
            ],
            "type": "heatmap"
           }
          ],
          "heatmapgl": [
           {
            "colorbar": {
             "outlinewidth": 0,
             "ticks": ""
            },
            "colorscale": [
             [
              0,
              "#0d0887"
             ],
             [
              0.1111111111111111,
              "#46039f"
             ],
             [
              0.2222222222222222,
              "#7201a8"
             ],
             [
              0.3333333333333333,
              "#9c179e"
             ],
             [
              0.4444444444444444,
              "#bd3786"
             ],
             [
              0.5555555555555556,
              "#d8576b"
             ],
             [
              0.6666666666666666,
              "#ed7953"
             ],
             [
              0.7777777777777778,
              "#fb9f3a"
             ],
             [
              0.8888888888888888,
              "#fdca26"
             ],
             [
              1,
              "#f0f921"
             ]
            ],
            "type": "heatmapgl"
           }
          ],
          "histogram": [
           {
            "marker": {
             "pattern": {
              "fillmode": "overlay",
              "size": 10,
              "solidity": 0.2
             }
            },
            "type": "histogram"
           }
          ],
          "histogram2d": [
           {
            "colorbar": {
             "outlinewidth": 0,
             "ticks": ""
            },
            "colorscale": [
             [
              0,
              "#0d0887"
             ],
             [
              0.1111111111111111,
              "#46039f"
             ],
             [
              0.2222222222222222,
              "#7201a8"
             ],
             [
              0.3333333333333333,
              "#9c179e"
             ],
             [
              0.4444444444444444,
              "#bd3786"
             ],
             [
              0.5555555555555556,
              "#d8576b"
             ],
             [
              0.6666666666666666,
              "#ed7953"
             ],
             [
              0.7777777777777778,
              "#fb9f3a"
             ],
             [
              0.8888888888888888,
              "#fdca26"
             ],
             [
              1,
              "#f0f921"
             ]
            ],
            "type": "histogram2d"
           }
          ],
          "histogram2dcontour": [
           {
            "colorbar": {
             "outlinewidth": 0,
             "ticks": ""
            },
            "colorscale": [
             [
              0,
              "#0d0887"
             ],
             [
              0.1111111111111111,
              "#46039f"
             ],
             [
              0.2222222222222222,
              "#7201a8"
             ],
             [
              0.3333333333333333,
              "#9c179e"
             ],
             [
              0.4444444444444444,
              "#bd3786"
             ],
             [
              0.5555555555555556,
              "#d8576b"
             ],
             [
              0.6666666666666666,
              "#ed7953"
             ],
             [
              0.7777777777777778,
              "#fb9f3a"
             ],
             [
              0.8888888888888888,
              "#fdca26"
             ],
             [
              1,
              "#f0f921"
             ]
            ],
            "type": "histogram2dcontour"
           }
          ],
          "mesh3d": [
           {
            "colorbar": {
             "outlinewidth": 0,
             "ticks": ""
            },
            "type": "mesh3d"
           }
          ],
          "parcoords": [
           {
            "line": {
             "colorbar": {
              "outlinewidth": 0,
              "ticks": ""
             }
            },
            "type": "parcoords"
           }
          ],
          "pie": [
           {
            "automargin": true,
            "type": "pie"
           }
          ],
          "scatter": [
           {
            "fillpattern": {
             "fillmode": "overlay",
             "size": 10,
             "solidity": 0.2
            },
            "type": "scatter"
           }
          ],
          "scatter3d": [
           {
            "line": {
             "colorbar": {
              "outlinewidth": 0,
              "ticks": ""
             }
            },
            "marker": {
             "colorbar": {
              "outlinewidth": 0,
              "ticks": ""
             }
            },
            "type": "scatter3d"
           }
          ],
          "scattercarpet": [
           {
            "marker": {
             "colorbar": {
              "outlinewidth": 0,
              "ticks": ""
             }
            },
            "type": "scattercarpet"
           }
          ],
          "scattergeo": [
           {
            "marker": {
             "colorbar": {
              "outlinewidth": 0,
              "ticks": ""
             }
            },
            "type": "scattergeo"
           }
          ],
          "scattergl": [
           {
            "marker": {
             "colorbar": {
              "outlinewidth": 0,
              "ticks": ""
             }
            },
            "type": "scattergl"
           }
          ],
          "scattermapbox": [
           {
            "marker": {
             "colorbar": {
              "outlinewidth": 0,
              "ticks": ""
             }
            },
            "type": "scattermapbox"
           }
          ],
          "scatterpolar": [
           {
            "marker": {
             "colorbar": {
              "outlinewidth": 0,
              "ticks": ""
             }
            },
            "type": "scatterpolar"
           }
          ],
          "scatterpolargl": [
           {
            "marker": {
             "colorbar": {
              "outlinewidth": 0,
              "ticks": ""
             }
            },
            "type": "scatterpolargl"
           }
          ],
          "scatterternary": [
           {
            "marker": {
             "colorbar": {
              "outlinewidth": 0,
              "ticks": ""
             }
            },
            "type": "scatterternary"
           }
          ],
          "surface": [
           {
            "colorbar": {
             "outlinewidth": 0,
             "ticks": ""
            },
            "colorscale": [
             [
              0,
              "#0d0887"
             ],
             [
              0.1111111111111111,
              "#46039f"
             ],
             [
              0.2222222222222222,
              "#7201a8"
             ],
             [
              0.3333333333333333,
              "#9c179e"
             ],
             [
              0.4444444444444444,
              "#bd3786"
             ],
             [
              0.5555555555555556,
              "#d8576b"
             ],
             [
              0.6666666666666666,
              "#ed7953"
             ],
             [
              0.7777777777777778,
              "#fb9f3a"
             ],
             [
              0.8888888888888888,
              "#fdca26"
             ],
             [
              1,
              "#f0f921"
             ]
            ],
            "type": "surface"
           }
          ],
          "table": [
           {
            "cells": {
             "fill": {
              "color": "#EBF0F8"
             },
             "line": {
              "color": "white"
             }
            },
            "header": {
             "fill": {
              "color": "#C8D4E3"
             },
             "line": {
              "color": "white"
             }
            },
            "type": "table"
           }
          ]
         },
         "layout": {
          "annotationdefaults": {
           "arrowcolor": "#2a3f5f",
           "arrowhead": 0,
           "arrowwidth": 1
          },
          "autotypenumbers": "strict",
          "coloraxis": {
           "colorbar": {
            "outlinewidth": 0,
            "ticks": ""
           }
          },
          "colorscale": {
           "diverging": [
            [
             0,
             "#8e0152"
            ],
            [
             0.1,
             "#c51b7d"
            ],
            [
             0.2,
             "#de77ae"
            ],
            [
             0.3,
             "#f1b6da"
            ],
            [
             0.4,
             "#fde0ef"
            ],
            [
             0.5,
             "#f7f7f7"
            ],
            [
             0.6,
             "#e6f5d0"
            ],
            [
             0.7,
             "#b8e186"
            ],
            [
             0.8,
             "#7fbc41"
            ],
            [
             0.9,
             "#4d9221"
            ],
            [
             1,
             "#276419"
            ]
           ],
           "sequential": [
            [
             0,
             "#0d0887"
            ],
            [
             0.1111111111111111,
             "#46039f"
            ],
            [
             0.2222222222222222,
             "#7201a8"
            ],
            [
             0.3333333333333333,
             "#9c179e"
            ],
            [
             0.4444444444444444,
             "#bd3786"
            ],
            [
             0.5555555555555556,
             "#d8576b"
            ],
            [
             0.6666666666666666,
             "#ed7953"
            ],
            [
             0.7777777777777778,
             "#fb9f3a"
            ],
            [
             0.8888888888888888,
             "#fdca26"
            ],
            [
             1,
             "#f0f921"
            ]
           ],
           "sequentialminus": [
            [
             0,
             "#0d0887"
            ],
            [
             0.1111111111111111,
             "#46039f"
            ],
            [
             0.2222222222222222,
             "#7201a8"
            ],
            [
             0.3333333333333333,
             "#9c179e"
            ],
            [
             0.4444444444444444,
             "#bd3786"
            ],
            [
             0.5555555555555556,
             "#d8576b"
            ],
            [
             0.6666666666666666,
             "#ed7953"
            ],
            [
             0.7777777777777778,
             "#fb9f3a"
            ],
            [
             0.8888888888888888,
             "#fdca26"
            ],
            [
             1,
             "#f0f921"
            ]
           ]
          },
          "colorway": [
           "#636efa",
           "#EF553B",
           "#00cc96",
           "#ab63fa",
           "#FFA15A",
           "#19d3f3",
           "#FF6692",
           "#B6E880",
           "#FF97FF",
           "#FECB52"
          ],
          "font": {
           "color": "#2a3f5f"
          },
          "geo": {
           "bgcolor": "white",
           "lakecolor": "white",
           "landcolor": "white",
           "showlakes": true,
           "showland": true,
           "subunitcolor": "#C8D4E3"
          },
          "hoverlabel": {
           "align": "left"
          },
          "hovermode": "closest",
          "mapbox": {
           "style": "light"
          },
          "paper_bgcolor": "white",
          "plot_bgcolor": "white",
          "polar": {
           "angularaxis": {
            "gridcolor": "#EBF0F8",
            "linecolor": "#EBF0F8",
            "ticks": ""
           },
           "bgcolor": "white",
           "radialaxis": {
            "gridcolor": "#EBF0F8",
            "linecolor": "#EBF0F8",
            "ticks": ""
           }
          },
          "scene": {
           "xaxis": {
            "backgroundcolor": "white",
            "gridcolor": "#DFE8F3",
            "gridwidth": 2,
            "linecolor": "#EBF0F8",
            "showbackground": true,
            "ticks": "",
            "zerolinecolor": "#EBF0F8"
           },
           "yaxis": {
            "backgroundcolor": "white",
            "gridcolor": "#DFE8F3",
            "gridwidth": 2,
            "linecolor": "#EBF0F8",
            "showbackground": true,
            "ticks": "",
            "zerolinecolor": "#EBF0F8"
           },
           "zaxis": {
            "backgroundcolor": "white",
            "gridcolor": "#DFE8F3",
            "gridwidth": 2,
            "linecolor": "#EBF0F8",
            "showbackground": true,
            "ticks": "",
            "zerolinecolor": "#EBF0F8"
           }
          },
          "shapedefaults": {
           "line": {
            "color": "#2a3f5f"
           }
          },
          "ternary": {
           "aaxis": {
            "gridcolor": "#DFE8F3",
            "linecolor": "#A2B1C6",
            "ticks": ""
           },
           "baxis": {
            "gridcolor": "#DFE8F3",
            "linecolor": "#A2B1C6",
            "ticks": ""
           },
           "bgcolor": "white",
           "caxis": {
            "gridcolor": "#DFE8F3",
            "linecolor": "#A2B1C6",
            "ticks": ""
           }
          },
          "title": {
           "x": 0.05
          },
          "xaxis": {
           "automargin": true,
           "gridcolor": "#EBF0F8",
           "linecolor": "#EBF0F8",
           "ticks": "",
           "title": {
            "standoff": 15
           },
           "zerolinecolor": "#EBF0F8",
           "zerolinewidth": 2
          },
          "yaxis": {
           "automargin": true,
           "gridcolor": "#EBF0F8",
           "linecolor": "#EBF0F8",
           "ticks": "",
           "title": {
            "standoff": 15
           },
           "zerolinecolor": "#EBF0F8",
           "zerolinewidth": 2
          }
         }
        },
        "title": {
         "text": "Time Comparison"
        },
        "xaxis": {
         "linewidth": 1.5,
         "showgrid": true,
         "showline": true,
         "showticklabels": true,
         "tickfont": {
          "color": "#000000",
          "family": "Verdana",
          "size": 11
         },
         "ticks": "outside",
         "title": {
          "text": "Iterations"
         }
        },
        "yaxis": {
         "showgrid": true,
         "showline": false,
         "showticklabels": true,
         "tickfont": {
          "color": "#000000",
          "family": "Verdana",
          "size": 11
         },
         "ticks": "outside",
         "title": {
          "text": "Time (ms)"
         },
         "zeroline": false
        }
       }
      }
     },
     "metadata": {},
     "output_type": "display_data"
    }
   ],
   "source": [
    "# seed for reproducibility\n",
    "np.random.seed(0)\n",
    "\n",
    "# Define the range of values\n",
    "population = [100, 150, 200]\n",
    "\n",
    "# Setting previous best parameter as new default value\n",
    "params.update(replace_param)\n",
    "\n",
    "# Print current parameters to use in best_operators_search\n",
    "print('\\033[1mParameters for GA:\\033[0m', end='\\n\\n')\n",
    "print(params, end='\\n\\n')\n",
    "\n",
    "param_list, df = best_operators_search('pop', population, params)\n",
    "\n",
    "# Displaying average results of the 100 iterations\n",
    "print('\\033[1mAverage results:', end='\\n')\n",
    "df['const'] = 'const'\n",
    "df_avg = df.groupby('const').mean().reset_index(drop=True).round(3)\n",
    "display(df_avg)\n",
    "\n",
    "# Getting best parameter by fitness & time\n",
    "best_param_fit = df_avg[[col for col in df_avg.columns if col.startswith('Fit_')]].idxmax(axis=1)[0].replace('Fit_', '')\n",
    "best_param_time = df_avg[[col for col in df_avg.columns if col.startswith('Time_')]].idxmin(axis=1)[0].replace('Time_', '')\n",
    "replace_param = {'pop': int(best_param_fit)}\n",
    "print(f'\\nBest Fitness: \\033[1m{best_param_fit}\\033[0m\\n\\nBest Time: \\033[1m{best_param_time}\\033[0m', end='\\n\\n')\n",
    "\n",
    "# Plotting results\n",
    "plot_values(data = df, colors = color_palette[:len(population)], layout=2, template='white', grid=True)"
   ]
  },
  {
   "attachments": {},
   "cell_type": "markdown",
   "metadata": {},
   "source": [
    "### __2.5 Generations__"
   ]
  },
  {
   "cell_type": "code",
   "execution_count": 17,
   "metadata": {},
   "outputs": [
    {
     "name": "stdout",
     "output_type": "stream",
     "text": [
      "\u001b[1mParameters for GA:\u001b[0m\n",
      "\n",
      "{'n': 12, 'pop': 200, 'gen': 50, 'mut_perc': 0.05, 'cross_perc': 0.75, 'mut': 'swap_mutation', 'cross': 'cycle_cross', 'select': 'fps'}\n",
      "\n",
      "\u001b[1mAverage results:\n"
     ]
    },
    {
     "data": {
      "text/html": [
       "<div>\n",
       "<style scoped>\n",
       "    .dataframe tbody tr th:only-of-type {\n",
       "        vertical-align: middle;\n",
       "    }\n",
       "\n",
       "    .dataframe tbody tr th {\n",
       "        vertical-align: top;\n",
       "    }\n",
       "\n",
       "    .dataframe thead th {\n",
       "        text-align: right;\n",
       "    }\n",
       "</style>\n",
       "<table border=\"1\" class=\"dataframe\">\n",
       "  <thead>\n",
       "    <tr style=\"text-align: right;\">\n",
       "      <th></th>\n",
       "      <th>Fit_50</th>\n",
       "      <th>Fit_100</th>\n",
       "      <th>Fit_150</th>\n",
       "      <th>Time_50</th>\n",
       "      <th>Time_100</th>\n",
       "      <th>Time_150</th>\n",
       "    </tr>\n",
       "  </thead>\n",
       "  <tbody>\n",
       "    <tr>\n",
       "      <th>0</th>\n",
       "      <td>96.848</td>\n",
       "      <td>96.682</td>\n",
       "      <td>96.848</td>\n",
       "      <td>205.54</td>\n",
       "      <td>415.32</td>\n",
       "      <td>620.16</td>\n",
       "    </tr>\n",
       "  </tbody>\n",
       "</table>\n",
       "</div>"
      ],
      "text/plain": [
       "   Fit_50  Fit_100  Fit_150  Time_50  Time_100  Time_150\n",
       "0  96.848   96.682   96.848   205.54    415.32    620.16"
      ]
     },
     "metadata": {},
     "output_type": "display_data"
    },
    {
     "name": "stdout",
     "output_type": "stream",
     "text": [
      "\n",
      "Best Fitness: \u001b[1m50\u001b[0m\n",
      "\n",
      "Best Time: \u001b[1m50\u001b[0m\n",
      "\n"
     ]
    },
    {
     "data": {
      "application/vnd.plotly.v1+json": {
       "config": {
        "plotlyServerURL": "https://plot.ly"
       },
       "data": [
        {
         "line": {
          "color": "gray",
          "width": 2
         },
         "name": "50",
         "type": "scatter",
         "x": [
          0,
          1,
          2,
          3,
          4,
          5,
          6,
          7,
          8,
          9,
          10,
          11,
          12,
          13,
          14,
          15,
          16,
          17,
          18,
          19,
          20,
          21,
          22,
          23,
          24,
          25,
          26,
          27,
          28,
          29,
          30,
          31,
          32,
          33,
          34,
          35,
          36,
          37,
          38,
          39,
          40,
          41,
          42,
          43,
          44,
          45,
          46,
          47,
          48,
          49,
          50,
          51,
          52,
          53,
          54,
          55,
          56,
          57,
          58,
          59,
          60,
          61,
          62,
          63,
          64,
          65,
          66,
          67,
          68,
          69,
          70,
          71,
          72,
          73,
          74,
          75,
          76,
          77,
          78,
          79,
          80,
          81,
          82,
          83,
          84,
          85,
          86,
          87,
          88,
          89,
          90,
          91,
          92,
          93,
          94,
          95,
          96,
          97,
          98,
          99
         ],
         "y": [
          96.96969696969697,
          98.48484848484848,
          96.96969696969697,
          96.96969696969697,
          96.96969696969697,
          96.96969696969697,
          98.48484848484848,
          96.96969696969697,
          96.96969696969697,
          96.96969696969697,
          100,
          95.45454545454545,
          95.45454545454545,
          95.45454545454545,
          96.96969696969697,
          95.45454545454545,
          96.96969696969697,
          98.48484848484848,
          96.96969696969697,
          98.48484848484848,
          96.96969696969697,
          98.48484848484848,
          96.96969696969697,
          96.96969696969697,
          96.96969696969697,
          96.96969696969697,
          95.45454545454545,
          96.96969696969697,
          98.48484848484848,
          96.96969696969697,
          95.45454545454545,
          96.96969696969697,
          96.96969696969697,
          95.45454545454545,
          98.48484848484848,
          95.45454545454545,
          96.96969696969697,
          96.96969696969697,
          95.45454545454545,
          96.96969696969697,
          96.96969696969697,
          96.96969696969697,
          96.96969696969697,
          96.96969696969697,
          96.96969696969697,
          95.45454545454545,
          96.96969696969697,
          96.96969696969697,
          96.96969696969697,
          96.96969696969697,
          96.96969696969697,
          96.96969696969697,
          96.96969696969697,
          96.96969696969697,
          96.96969696969697,
          96.96969696969697,
          96.96969696969697,
          96.96969696969697,
          98.48484848484848,
          98.48484848484848,
          96.96969696969697,
          95.45454545454545,
          96.96969696969697,
          96.96969696969697,
          96.96969696969697,
          95.45454545454545,
          95.45454545454545,
          96.96969696969697,
          98.48484848484848,
          95.45454545454545,
          96.96969696969697,
          96.96969696969697,
          98.48484848484848,
          98.48484848484848,
          96.96969696969697,
          95.45454545454545,
          96.96969696969697,
          95.45454545454545,
          96.96969696969697,
          96.96969696969697,
          95.45454545454545,
          95.45454545454545,
          96.96969696969697,
          96.96969696969697,
          96.96969696969697,
          96.96969696969697,
          96.96969696969697,
          96.96969696969697,
          96.96969696969697,
          96.96969696969697,
          95.45454545454545,
          96.96969696969697,
          96.96969696969697,
          96.96969696969697,
          96.96969696969697,
          95.45454545454545,
          95.45454545454545,
          98.48484848484848,
          95.45454545454545,
          95.45454545454545
         ]
        },
        {
         "marker": {
          "color": "gray",
          "size": 8
         },
         "mode": "markers",
         "name": "",
         "type": "scatter",
         "x": [
          0,
          99
         ],
         "y": [
          96.96969696969697,
          95.45454545454545
         ]
        },
        {
         "line": {
          "color": "steelblue",
          "width": 2
         },
         "name": "100",
         "type": "scatter",
         "x": [
          0,
          1,
          2,
          3,
          4,
          5,
          6,
          7,
          8,
          9,
          10,
          11,
          12,
          13,
          14,
          15,
          16,
          17,
          18,
          19,
          20,
          21,
          22,
          23,
          24,
          25,
          26,
          27,
          28,
          29,
          30,
          31,
          32,
          33,
          34,
          35,
          36,
          37,
          38,
          39,
          40,
          41,
          42,
          43,
          44,
          45,
          46,
          47,
          48,
          49,
          50,
          51,
          52,
          53,
          54,
          55,
          56,
          57,
          58,
          59,
          60,
          61,
          62,
          63,
          64,
          65,
          66,
          67,
          68,
          69,
          70,
          71,
          72,
          73,
          74,
          75,
          76,
          77,
          78,
          79,
          80,
          81,
          82,
          83,
          84,
          85,
          86,
          87,
          88,
          89,
          90,
          91,
          92,
          93,
          94,
          95,
          96,
          97,
          98,
          99
         ],
         "y": [
          96.96969696969697,
          95.45454545454545,
          95.45454545454545,
          96.96969696969697,
          96.96969696969697,
          96.96969696969697,
          95.45454545454545,
          96.96969696969697,
          96.96969696969697,
          95.45454545454545,
          95.45454545454545,
          95.45454545454545,
          96.96969696969697,
          96.96969696969697,
          95.45454545454545,
          96.96969696969697,
          96.96969696969697,
          96.96969696969697,
          98.48484848484848,
          95.45454545454545,
          96.96969696969697,
          96.96969696969697,
          96.96969696969697,
          96.96969696969697,
          98.48484848484848,
          96.96969696969697,
          96.96969696969697,
          96.96969696969697,
          96.96969696969697,
          95.45454545454545,
          98.48484848484848,
          96.96969696969697,
          95.45454545454545,
          96.96969696969697,
          96.96969696969697,
          96.96969696969697,
          96.96969696969697,
          95.45454545454545,
          98.48484848484848,
          98.48484848484848,
          98.48484848484848,
          96.96969696969697,
          95.45454545454545,
          96.96969696969697,
          96.96969696969697,
          96.96969696969697,
          96.96969696969697,
          96.96969696969697,
          96.96969696969697,
          96.96969696969697,
          95.45454545454545,
          95.45454545454545,
          96.96969696969697,
          95.45454545454545,
          96.96969696969697,
          96.96969696969697,
          95.45454545454545,
          96.96969696969697,
          95.45454545454545,
          96.96969696969697,
          95.45454545454545,
          96.96969696969697,
          95.45454545454545,
          96.96969696969697,
          96.96969696969697,
          96.96969696969697,
          96.96969696969697,
          96.96969696969697,
          98.48484848484848,
          95.45454545454545,
          95.45454545454545,
          96.96969696969697,
          96.96969696969697,
          96.96969696969697,
          95.45454545454545,
          95.45454545454545,
          96.96969696969697,
          96.96969696969697,
          98.48484848484848,
          96.96969696969697,
          95.45454545454545,
          98.48484848484848,
          95.45454545454545,
          98.48484848484848,
          95.45454545454545,
          96.96969696969697,
          96.96969696969697,
          96.96969696969697,
          96.96969696969697,
          95.45454545454545,
          96.96969696969697,
          96.96969696969697,
          95.45454545454545,
          95.45454545454545,
          95.45454545454545,
          98.48484848484848,
          96.96969696969697,
          95.45454545454545,
          96.96969696969697,
          98.48484848484848
         ]
        },
        {
         "marker": {
          "color": "steelblue",
          "size": 8
         },
         "mode": "markers",
         "name": "",
         "type": "scatter",
         "x": [
          0,
          99
         ],
         "y": [
          96.96969696969697,
          98.48484848484848
         ]
        },
        {
         "line": {
          "color": "purple",
          "width": 2
         },
         "name": "150",
         "type": "scatter",
         "x": [
          0,
          1,
          2,
          3,
          4,
          5,
          6,
          7,
          8,
          9,
          10,
          11,
          12,
          13,
          14,
          15,
          16,
          17,
          18,
          19,
          20,
          21,
          22,
          23,
          24,
          25,
          26,
          27,
          28,
          29,
          30,
          31,
          32,
          33,
          34,
          35,
          36,
          37,
          38,
          39,
          40,
          41,
          42,
          43,
          44,
          45,
          46,
          47,
          48,
          49,
          50,
          51,
          52,
          53,
          54,
          55,
          56,
          57,
          58,
          59,
          60,
          61,
          62,
          63,
          64,
          65,
          66,
          67,
          68,
          69,
          70,
          71,
          72,
          73,
          74,
          75,
          76,
          77,
          78,
          79,
          80,
          81,
          82,
          83,
          84,
          85,
          86,
          87,
          88,
          89,
          90,
          91,
          92,
          93,
          94,
          95,
          96,
          97,
          98,
          99
         ],
         "y": [
          95.45454545454545,
          96.96969696969697,
          98.48484848484848,
          96.96969696969697,
          96.96969696969697,
          95.45454545454545,
          95.45454545454545,
          98.48484848484848,
          96.96969696969697,
          96.96969696969697,
          95.45454545454545,
          95.45454545454545,
          96.96969696969697,
          96.96969696969697,
          96.96969696969697,
          96.96969696969697,
          96.96969696969697,
          95.45454545454545,
          96.96969696969697,
          96.96969696969697,
          96.96969696969697,
          96.96969696969697,
          95.45454545454545,
          96.96969696969697,
          96.96969696969697,
          95.45454545454545,
          96.96969696969697,
          96.96969696969697,
          96.96969696969697,
          96.96969696969697,
          96.96969696969697,
          96.96969696969697,
          95.45454545454545,
          96.96969696969697,
          96.96969696969697,
          96.96969696969697,
          96.96969696969697,
          96.96969696969697,
          96.96969696969697,
          96.96969696969697,
          95.45454545454545,
          95.45454545454545,
          96.96969696969697,
          95.45454545454545,
          96.96969696969697,
          96.96969696969697,
          98.48484848484848,
          98.48484848484848,
          98.48484848484848,
          95.45454545454545,
          96.96969696969697,
          96.96969696969697,
          96.96969696969697,
          98.48484848484848,
          96.96969696969697,
          95.45454545454545,
          96.96969696969697,
          95.45454545454545,
          95.45454545454545,
          100,
          98.48484848484848,
          96.96969696969697,
          96.96969696969697,
          96.96969696969697,
          96.96969696969697,
          98.48484848484848,
          96.96969696969697,
          95.45454545454545,
          96.96969696969697,
          95.45454545454545,
          95.45454545454545,
          96.96969696969697,
          96.96969696969697,
          96.96969696969697,
          96.96969696969697,
          95.45454545454545,
          98.48484848484848,
          96.96969696969697,
          96.96969696969697,
          96.96969696969697,
          96.96969696969697,
          96.96969696969697,
          96.96969696969697,
          98.48484848484848,
          95.45454545454545,
          96.96969696969697,
          96.96969696969697,
          98.48484848484848,
          96.96969696969697,
          96.96969696969697,
          96.96969696969697,
          96.96969696969697,
          95.45454545454545,
          96.96969696969697,
          96.96969696969697,
          98.48484848484848,
          96.96969696969697,
          96.96969696969697,
          96.96969696969697,
          96.96969696969697
         ]
        },
        {
         "marker": {
          "color": "purple",
          "size": 8
         },
         "mode": "markers",
         "name": "",
         "type": "scatter",
         "x": [
          0,
          99
         ],
         "y": [
          95.45454545454545,
          96.96969696969697
         ]
        }
       ],
       "layout": {
        "font": {
         "family": "Verdana",
         "size": 14
        },
        "template": {
         "data": {
          "bar": [
           {
            "error_x": {
             "color": "#2a3f5f"
            },
            "error_y": {
             "color": "#2a3f5f"
            },
            "marker": {
             "line": {
              "color": "white",
              "width": 0.5
             },
             "pattern": {
              "fillmode": "overlay",
              "size": 10,
              "solidity": 0.2
             }
            },
            "type": "bar"
           }
          ],
          "barpolar": [
           {
            "marker": {
             "line": {
              "color": "white",
              "width": 0.5
             },
             "pattern": {
              "fillmode": "overlay",
              "size": 10,
              "solidity": 0.2
             }
            },
            "type": "barpolar"
           }
          ],
          "carpet": [
           {
            "aaxis": {
             "endlinecolor": "#2a3f5f",
             "gridcolor": "#C8D4E3",
             "linecolor": "#C8D4E3",
             "minorgridcolor": "#C8D4E3",
             "startlinecolor": "#2a3f5f"
            },
            "baxis": {
             "endlinecolor": "#2a3f5f",
             "gridcolor": "#C8D4E3",
             "linecolor": "#C8D4E3",
             "minorgridcolor": "#C8D4E3",
             "startlinecolor": "#2a3f5f"
            },
            "type": "carpet"
           }
          ],
          "choropleth": [
           {
            "colorbar": {
             "outlinewidth": 0,
             "ticks": ""
            },
            "type": "choropleth"
           }
          ],
          "contour": [
           {
            "colorbar": {
             "outlinewidth": 0,
             "ticks": ""
            },
            "colorscale": [
             [
              0,
              "#0d0887"
             ],
             [
              0.1111111111111111,
              "#46039f"
             ],
             [
              0.2222222222222222,
              "#7201a8"
             ],
             [
              0.3333333333333333,
              "#9c179e"
             ],
             [
              0.4444444444444444,
              "#bd3786"
             ],
             [
              0.5555555555555556,
              "#d8576b"
             ],
             [
              0.6666666666666666,
              "#ed7953"
             ],
             [
              0.7777777777777778,
              "#fb9f3a"
             ],
             [
              0.8888888888888888,
              "#fdca26"
             ],
             [
              1,
              "#f0f921"
             ]
            ],
            "type": "contour"
           }
          ],
          "contourcarpet": [
           {
            "colorbar": {
             "outlinewidth": 0,
             "ticks": ""
            },
            "type": "contourcarpet"
           }
          ],
          "heatmap": [
           {
            "colorbar": {
             "outlinewidth": 0,
             "ticks": ""
            },
            "colorscale": [
             [
              0,
              "#0d0887"
             ],
             [
              0.1111111111111111,
              "#46039f"
             ],
             [
              0.2222222222222222,
              "#7201a8"
             ],
             [
              0.3333333333333333,
              "#9c179e"
             ],
             [
              0.4444444444444444,
              "#bd3786"
             ],
             [
              0.5555555555555556,
              "#d8576b"
             ],
             [
              0.6666666666666666,
              "#ed7953"
             ],
             [
              0.7777777777777778,
              "#fb9f3a"
             ],
             [
              0.8888888888888888,
              "#fdca26"
             ],
             [
              1,
              "#f0f921"
             ]
            ],
            "type": "heatmap"
           }
          ],
          "heatmapgl": [
           {
            "colorbar": {
             "outlinewidth": 0,
             "ticks": ""
            },
            "colorscale": [
             [
              0,
              "#0d0887"
             ],
             [
              0.1111111111111111,
              "#46039f"
             ],
             [
              0.2222222222222222,
              "#7201a8"
             ],
             [
              0.3333333333333333,
              "#9c179e"
             ],
             [
              0.4444444444444444,
              "#bd3786"
             ],
             [
              0.5555555555555556,
              "#d8576b"
             ],
             [
              0.6666666666666666,
              "#ed7953"
             ],
             [
              0.7777777777777778,
              "#fb9f3a"
             ],
             [
              0.8888888888888888,
              "#fdca26"
             ],
             [
              1,
              "#f0f921"
             ]
            ],
            "type": "heatmapgl"
           }
          ],
          "histogram": [
           {
            "marker": {
             "pattern": {
              "fillmode": "overlay",
              "size": 10,
              "solidity": 0.2
             }
            },
            "type": "histogram"
           }
          ],
          "histogram2d": [
           {
            "colorbar": {
             "outlinewidth": 0,
             "ticks": ""
            },
            "colorscale": [
             [
              0,
              "#0d0887"
             ],
             [
              0.1111111111111111,
              "#46039f"
             ],
             [
              0.2222222222222222,
              "#7201a8"
             ],
             [
              0.3333333333333333,
              "#9c179e"
             ],
             [
              0.4444444444444444,
              "#bd3786"
             ],
             [
              0.5555555555555556,
              "#d8576b"
             ],
             [
              0.6666666666666666,
              "#ed7953"
             ],
             [
              0.7777777777777778,
              "#fb9f3a"
             ],
             [
              0.8888888888888888,
              "#fdca26"
             ],
             [
              1,
              "#f0f921"
             ]
            ],
            "type": "histogram2d"
           }
          ],
          "histogram2dcontour": [
           {
            "colorbar": {
             "outlinewidth": 0,
             "ticks": ""
            },
            "colorscale": [
             [
              0,
              "#0d0887"
             ],
             [
              0.1111111111111111,
              "#46039f"
             ],
             [
              0.2222222222222222,
              "#7201a8"
             ],
             [
              0.3333333333333333,
              "#9c179e"
             ],
             [
              0.4444444444444444,
              "#bd3786"
             ],
             [
              0.5555555555555556,
              "#d8576b"
             ],
             [
              0.6666666666666666,
              "#ed7953"
             ],
             [
              0.7777777777777778,
              "#fb9f3a"
             ],
             [
              0.8888888888888888,
              "#fdca26"
             ],
             [
              1,
              "#f0f921"
             ]
            ],
            "type": "histogram2dcontour"
           }
          ],
          "mesh3d": [
           {
            "colorbar": {
             "outlinewidth": 0,
             "ticks": ""
            },
            "type": "mesh3d"
           }
          ],
          "parcoords": [
           {
            "line": {
             "colorbar": {
              "outlinewidth": 0,
              "ticks": ""
             }
            },
            "type": "parcoords"
           }
          ],
          "pie": [
           {
            "automargin": true,
            "type": "pie"
           }
          ],
          "scatter": [
           {
            "fillpattern": {
             "fillmode": "overlay",
             "size": 10,
             "solidity": 0.2
            },
            "type": "scatter"
           }
          ],
          "scatter3d": [
           {
            "line": {
             "colorbar": {
              "outlinewidth": 0,
              "ticks": ""
             }
            },
            "marker": {
             "colorbar": {
              "outlinewidth": 0,
              "ticks": ""
             }
            },
            "type": "scatter3d"
           }
          ],
          "scattercarpet": [
           {
            "marker": {
             "colorbar": {
              "outlinewidth": 0,
              "ticks": ""
             }
            },
            "type": "scattercarpet"
           }
          ],
          "scattergeo": [
           {
            "marker": {
             "colorbar": {
              "outlinewidth": 0,
              "ticks": ""
             }
            },
            "type": "scattergeo"
           }
          ],
          "scattergl": [
           {
            "marker": {
             "colorbar": {
              "outlinewidth": 0,
              "ticks": ""
             }
            },
            "type": "scattergl"
           }
          ],
          "scattermapbox": [
           {
            "marker": {
             "colorbar": {
              "outlinewidth": 0,
              "ticks": ""
             }
            },
            "type": "scattermapbox"
           }
          ],
          "scatterpolar": [
           {
            "marker": {
             "colorbar": {
              "outlinewidth": 0,
              "ticks": ""
             }
            },
            "type": "scatterpolar"
           }
          ],
          "scatterpolargl": [
           {
            "marker": {
             "colorbar": {
              "outlinewidth": 0,
              "ticks": ""
             }
            },
            "type": "scatterpolargl"
           }
          ],
          "scatterternary": [
           {
            "marker": {
             "colorbar": {
              "outlinewidth": 0,
              "ticks": ""
             }
            },
            "type": "scatterternary"
           }
          ],
          "surface": [
           {
            "colorbar": {
             "outlinewidth": 0,
             "ticks": ""
            },
            "colorscale": [
             [
              0,
              "#0d0887"
             ],
             [
              0.1111111111111111,
              "#46039f"
             ],
             [
              0.2222222222222222,
              "#7201a8"
             ],
             [
              0.3333333333333333,
              "#9c179e"
             ],
             [
              0.4444444444444444,
              "#bd3786"
             ],
             [
              0.5555555555555556,
              "#d8576b"
             ],
             [
              0.6666666666666666,
              "#ed7953"
             ],
             [
              0.7777777777777778,
              "#fb9f3a"
             ],
             [
              0.8888888888888888,
              "#fdca26"
             ],
             [
              1,
              "#f0f921"
             ]
            ],
            "type": "surface"
           }
          ],
          "table": [
           {
            "cells": {
             "fill": {
              "color": "#EBF0F8"
             },
             "line": {
              "color": "white"
             }
            },
            "header": {
             "fill": {
              "color": "#C8D4E3"
             },
             "line": {
              "color": "white"
             }
            },
            "type": "table"
           }
          ]
         },
         "layout": {
          "annotationdefaults": {
           "arrowcolor": "#2a3f5f",
           "arrowhead": 0,
           "arrowwidth": 1
          },
          "autotypenumbers": "strict",
          "coloraxis": {
           "colorbar": {
            "outlinewidth": 0,
            "ticks": ""
           }
          },
          "colorscale": {
           "diverging": [
            [
             0,
             "#8e0152"
            ],
            [
             0.1,
             "#c51b7d"
            ],
            [
             0.2,
             "#de77ae"
            ],
            [
             0.3,
             "#f1b6da"
            ],
            [
             0.4,
             "#fde0ef"
            ],
            [
             0.5,
             "#f7f7f7"
            ],
            [
             0.6,
             "#e6f5d0"
            ],
            [
             0.7,
             "#b8e186"
            ],
            [
             0.8,
             "#7fbc41"
            ],
            [
             0.9,
             "#4d9221"
            ],
            [
             1,
             "#276419"
            ]
           ],
           "sequential": [
            [
             0,
             "#0d0887"
            ],
            [
             0.1111111111111111,
             "#46039f"
            ],
            [
             0.2222222222222222,
             "#7201a8"
            ],
            [
             0.3333333333333333,
             "#9c179e"
            ],
            [
             0.4444444444444444,
             "#bd3786"
            ],
            [
             0.5555555555555556,
             "#d8576b"
            ],
            [
             0.6666666666666666,
             "#ed7953"
            ],
            [
             0.7777777777777778,
             "#fb9f3a"
            ],
            [
             0.8888888888888888,
             "#fdca26"
            ],
            [
             1,
             "#f0f921"
            ]
           ],
           "sequentialminus": [
            [
             0,
             "#0d0887"
            ],
            [
             0.1111111111111111,
             "#46039f"
            ],
            [
             0.2222222222222222,
             "#7201a8"
            ],
            [
             0.3333333333333333,
             "#9c179e"
            ],
            [
             0.4444444444444444,
             "#bd3786"
            ],
            [
             0.5555555555555556,
             "#d8576b"
            ],
            [
             0.6666666666666666,
             "#ed7953"
            ],
            [
             0.7777777777777778,
             "#fb9f3a"
            ],
            [
             0.8888888888888888,
             "#fdca26"
            ],
            [
             1,
             "#f0f921"
            ]
           ]
          },
          "colorway": [
           "#636efa",
           "#EF553B",
           "#00cc96",
           "#ab63fa",
           "#FFA15A",
           "#19d3f3",
           "#FF6692",
           "#B6E880",
           "#FF97FF",
           "#FECB52"
          ],
          "font": {
           "color": "#2a3f5f"
          },
          "geo": {
           "bgcolor": "white",
           "lakecolor": "white",
           "landcolor": "white",
           "showlakes": true,
           "showland": true,
           "subunitcolor": "#C8D4E3"
          },
          "hoverlabel": {
           "align": "left"
          },
          "hovermode": "closest",
          "mapbox": {
           "style": "light"
          },
          "paper_bgcolor": "white",
          "plot_bgcolor": "white",
          "polar": {
           "angularaxis": {
            "gridcolor": "#EBF0F8",
            "linecolor": "#EBF0F8",
            "ticks": ""
           },
           "bgcolor": "white",
           "radialaxis": {
            "gridcolor": "#EBF0F8",
            "linecolor": "#EBF0F8",
            "ticks": ""
           }
          },
          "scene": {
           "xaxis": {
            "backgroundcolor": "white",
            "gridcolor": "#DFE8F3",
            "gridwidth": 2,
            "linecolor": "#EBF0F8",
            "showbackground": true,
            "ticks": "",
            "zerolinecolor": "#EBF0F8"
           },
           "yaxis": {
            "backgroundcolor": "white",
            "gridcolor": "#DFE8F3",
            "gridwidth": 2,
            "linecolor": "#EBF0F8",
            "showbackground": true,
            "ticks": "",
            "zerolinecolor": "#EBF0F8"
           },
           "zaxis": {
            "backgroundcolor": "white",
            "gridcolor": "#DFE8F3",
            "gridwidth": 2,
            "linecolor": "#EBF0F8",
            "showbackground": true,
            "ticks": "",
            "zerolinecolor": "#EBF0F8"
           }
          },
          "shapedefaults": {
           "line": {
            "color": "#2a3f5f"
           }
          },
          "ternary": {
           "aaxis": {
            "gridcolor": "#DFE8F3",
            "linecolor": "#A2B1C6",
            "ticks": ""
           },
           "baxis": {
            "gridcolor": "#DFE8F3",
            "linecolor": "#A2B1C6",
            "ticks": ""
           },
           "bgcolor": "white",
           "caxis": {
            "gridcolor": "#DFE8F3",
            "linecolor": "#A2B1C6",
            "ticks": ""
           }
          },
          "title": {
           "x": 0.05
          },
          "xaxis": {
           "automargin": true,
           "gridcolor": "#EBF0F8",
           "linecolor": "#EBF0F8",
           "ticks": "",
           "title": {
            "standoff": 15
           },
           "zerolinecolor": "#EBF0F8",
           "zerolinewidth": 2
          },
          "yaxis": {
           "automargin": true,
           "gridcolor": "#EBF0F8",
           "linecolor": "#EBF0F8",
           "ticks": "",
           "title": {
            "standoff": 15
           },
           "zerolinecolor": "#EBF0F8",
           "zerolinewidth": 2
          }
         }
        },
        "title": {
         "text": "Fitness Comparison"
        },
        "xaxis": {
         "linewidth": 1.5,
         "showgrid": true,
         "showline": true,
         "showticklabels": true,
         "tickfont": {
          "color": "#000000",
          "family": "Verdana",
          "size": 11
         },
         "ticks": "outside",
         "title": {
          "text": "Iterations"
         }
        },
        "yaxis": {
         "showgrid": true,
         "showline": false,
         "showticklabels": true,
         "tickfont": {
          "color": "#000000",
          "family": "Verdana",
          "size": 11
         },
         "ticks": "outside",
         "title": {
          "text": "Fitness"
         },
         "zeroline": false
        }
       }
      }
     },
     "metadata": {},
     "output_type": "display_data"
    },
    {
     "data": {
      "application/vnd.plotly.v1+json": {
       "config": {
        "plotlyServerURL": "https://plot.ly"
       },
       "data": [
        {
         "line": {
          "color": "gray",
          "width": 2
         },
         "name": "50",
         "type": "scatter",
         "x": [
          0,
          1,
          2,
          3,
          4,
          5,
          6,
          7,
          8,
          9,
          10,
          11,
          12,
          13,
          14,
          15,
          16,
          17,
          18,
          19,
          20,
          21,
          22,
          23,
          24,
          25,
          26,
          27,
          28,
          29,
          30,
          31,
          32,
          33,
          34,
          35,
          36,
          37,
          38,
          39,
          40,
          41,
          42,
          43,
          44,
          45,
          46,
          47,
          48,
          49,
          50,
          51,
          52,
          53,
          54,
          55,
          56,
          57,
          58,
          59,
          60,
          61,
          62,
          63,
          64,
          65,
          66,
          67,
          68,
          69,
          70,
          71,
          72,
          73,
          74,
          75,
          76,
          77,
          78,
          79,
          80,
          81,
          82,
          83,
          84,
          85,
          86,
          87,
          88,
          89,
          90,
          91,
          92,
          93,
          94,
          95,
          96,
          97,
          98,
          99
         ],
         "y": [
          210,
          208,
          203,
          205,
          204,
          212,
          211,
          196,
          202,
          208,
          210,
          204,
          199,
          216,
          210,
          206,
          205,
          208,
          206,
          203,
          205,
          211,
          201,
          194,
          210,
          194,
          203,
          207,
          206,
          211,
          202,
          223,
          205,
          206,
          203,
          200,
          200,
          205,
          202,
          201,
          210,
          208,
          203,
          206,
          215,
          212,
          197,
          201,
          203,
          199,
          213,
          205,
          202,
          204,
          205,
          208,
          206,
          197,
          199,
          196,
          201,
          206,
          206,
          203,
          198,
          208,
          212,
          195,
          203,
          205,
          202,
          201,
          202,
          209,
          204,
          217,
          203,
          221,
          210,
          207,
          201,
          218,
          213,
          202,
          201,
          208,
          207,
          203,
          211,
          208,
          211,
          205,
          201,
          213,
          209,
          193,
          207,
          218,
          205,
          203
         ]
        },
        {
         "marker": {
          "color": "gray",
          "size": 8
         },
         "mode": "markers",
         "name": "",
         "type": "scatter",
         "x": [
          0,
          99
         ],
         "y": [
          210,
          203
         ]
        },
        {
         "line": {
          "color": "steelblue",
          "width": 2
         },
         "name": "100",
         "type": "scatter",
         "x": [
          0,
          1,
          2,
          3,
          4,
          5,
          6,
          7,
          8,
          9,
          10,
          11,
          12,
          13,
          14,
          15,
          16,
          17,
          18,
          19,
          20,
          21,
          22,
          23,
          24,
          25,
          26,
          27,
          28,
          29,
          30,
          31,
          32,
          33,
          34,
          35,
          36,
          37,
          38,
          39,
          40,
          41,
          42,
          43,
          44,
          45,
          46,
          47,
          48,
          49,
          50,
          51,
          52,
          53,
          54,
          55,
          56,
          57,
          58,
          59,
          60,
          61,
          62,
          63,
          64,
          65,
          66,
          67,
          68,
          69,
          70,
          71,
          72,
          73,
          74,
          75,
          76,
          77,
          78,
          79,
          80,
          81,
          82,
          83,
          84,
          85,
          86,
          87,
          88,
          89,
          90,
          91,
          92,
          93,
          94,
          95,
          96,
          97,
          98,
          99
         ],
         "y": [
          419,
          447,
          412,
          436,
          410,
          413,
          423,
          402,
          415,
          442,
          412,
          413,
          409,
          415,
          416,
          409,
          413,
          414,
          406,
          424,
          411,
          412,
          410,
          417,
          405,
          412,
          421,
          413,
          423,
          425,
          401,
          409,
          409,
          410,
          410,
          421,
          410,
          429,
          415,
          404,
          408,
          406,
          443,
          422,
          426,
          415,
          422,
          411,
          407,
          428,
          418,
          417,
          413,
          430,
          411,
          455,
          412,
          428,
          416,
          407,
          441,
          419,
          415,
          408,
          408,
          400,
          417,
          416,
          407,
          409,
          407,
          410,
          416,
          408,
          411,
          413,
          402,
          432,
          398,
          414,
          421,
          419,
          409,
          401,
          418,
          411,
          411,
          409,
          413,
          427,
          405,
          406,
          406,
          413,
          423,
          410,
          427,
          413,
          416,
          411
         ]
        },
        {
         "marker": {
          "color": "steelblue",
          "size": 8
         },
         "mode": "markers",
         "name": "",
         "type": "scatter",
         "x": [
          0,
          99
         ],
         "y": [
          419,
          411
         ]
        },
        {
         "line": {
          "color": "purple",
          "width": 2
         },
         "name": "150",
         "type": "scatter",
         "x": [
          0,
          1,
          2,
          3,
          4,
          5,
          6,
          7,
          8,
          9,
          10,
          11,
          12,
          13,
          14,
          15,
          16,
          17,
          18,
          19,
          20,
          21,
          22,
          23,
          24,
          25,
          26,
          27,
          28,
          29,
          30,
          31,
          32,
          33,
          34,
          35,
          36,
          37,
          38,
          39,
          40,
          41,
          42,
          43,
          44,
          45,
          46,
          47,
          48,
          49,
          50,
          51,
          52,
          53,
          54,
          55,
          56,
          57,
          58,
          59,
          60,
          61,
          62,
          63,
          64,
          65,
          66,
          67,
          68,
          69,
          70,
          71,
          72,
          73,
          74,
          75,
          76,
          77,
          78,
          79,
          80,
          81,
          82,
          83,
          84,
          85,
          86,
          87,
          88,
          89,
          90,
          91,
          92,
          93,
          94,
          95,
          96,
          97,
          98,
          99
         ],
         "y": [
          624,
          605,
          602,
          610,
          605,
          604,
          626,
          610,
          608,
          632,
          634,
          614,
          611,
          603,
          624,
          613,
          621,
          645,
          610,
          618,
          605,
          610,
          618,
          624,
          657,
          621,
          616,
          677,
          637,
          633,
          639,
          638,
          622,
          605,
          620,
          604,
          610,
          604,
          609,
          623,
          610,
          615,
          610,
          638,
          627,
          651,
          682,
          636,
          621,
          638,
          612,
          606,
          615,
          609,
          616,
          611,
          613,
          674,
          601,
          597,
          613,
          611,
          601,
          638,
          615,
          624,
          616,
          605,
          602,
          629,
          631,
          634,
          609,
          614,
          611,
          646,
          608,
          612,
          604,
          619,
          611,
          615,
          618,
          616,
          649,
          612,
          631,
          616,
          614,
          616,
          619,
          616,
          652,
          617,
          642,
          608,
          635,
          606,
          607,
          601
         ]
        },
        {
         "marker": {
          "color": "purple",
          "size": 8
         },
         "mode": "markers",
         "name": "",
         "type": "scatter",
         "x": [
          0,
          99
         ],
         "y": [
          624,
          601
         ]
        }
       ],
       "layout": {
        "font": {
         "family": "Verdana",
         "size": 14
        },
        "template": {
         "data": {
          "bar": [
           {
            "error_x": {
             "color": "#2a3f5f"
            },
            "error_y": {
             "color": "#2a3f5f"
            },
            "marker": {
             "line": {
              "color": "white",
              "width": 0.5
             },
             "pattern": {
              "fillmode": "overlay",
              "size": 10,
              "solidity": 0.2
             }
            },
            "type": "bar"
           }
          ],
          "barpolar": [
           {
            "marker": {
             "line": {
              "color": "white",
              "width": 0.5
             },
             "pattern": {
              "fillmode": "overlay",
              "size": 10,
              "solidity": 0.2
             }
            },
            "type": "barpolar"
           }
          ],
          "carpet": [
           {
            "aaxis": {
             "endlinecolor": "#2a3f5f",
             "gridcolor": "#C8D4E3",
             "linecolor": "#C8D4E3",
             "minorgridcolor": "#C8D4E3",
             "startlinecolor": "#2a3f5f"
            },
            "baxis": {
             "endlinecolor": "#2a3f5f",
             "gridcolor": "#C8D4E3",
             "linecolor": "#C8D4E3",
             "minorgridcolor": "#C8D4E3",
             "startlinecolor": "#2a3f5f"
            },
            "type": "carpet"
           }
          ],
          "choropleth": [
           {
            "colorbar": {
             "outlinewidth": 0,
             "ticks": ""
            },
            "type": "choropleth"
           }
          ],
          "contour": [
           {
            "colorbar": {
             "outlinewidth": 0,
             "ticks": ""
            },
            "colorscale": [
             [
              0,
              "#0d0887"
             ],
             [
              0.1111111111111111,
              "#46039f"
             ],
             [
              0.2222222222222222,
              "#7201a8"
             ],
             [
              0.3333333333333333,
              "#9c179e"
             ],
             [
              0.4444444444444444,
              "#bd3786"
             ],
             [
              0.5555555555555556,
              "#d8576b"
             ],
             [
              0.6666666666666666,
              "#ed7953"
             ],
             [
              0.7777777777777778,
              "#fb9f3a"
             ],
             [
              0.8888888888888888,
              "#fdca26"
             ],
             [
              1,
              "#f0f921"
             ]
            ],
            "type": "contour"
           }
          ],
          "contourcarpet": [
           {
            "colorbar": {
             "outlinewidth": 0,
             "ticks": ""
            },
            "type": "contourcarpet"
           }
          ],
          "heatmap": [
           {
            "colorbar": {
             "outlinewidth": 0,
             "ticks": ""
            },
            "colorscale": [
             [
              0,
              "#0d0887"
             ],
             [
              0.1111111111111111,
              "#46039f"
             ],
             [
              0.2222222222222222,
              "#7201a8"
             ],
             [
              0.3333333333333333,
              "#9c179e"
             ],
             [
              0.4444444444444444,
              "#bd3786"
             ],
             [
              0.5555555555555556,
              "#d8576b"
             ],
             [
              0.6666666666666666,
              "#ed7953"
             ],
             [
              0.7777777777777778,
              "#fb9f3a"
             ],
             [
              0.8888888888888888,
              "#fdca26"
             ],
             [
              1,
              "#f0f921"
             ]
            ],
            "type": "heatmap"
           }
          ],
          "heatmapgl": [
           {
            "colorbar": {
             "outlinewidth": 0,
             "ticks": ""
            },
            "colorscale": [
             [
              0,
              "#0d0887"
             ],
             [
              0.1111111111111111,
              "#46039f"
             ],
             [
              0.2222222222222222,
              "#7201a8"
             ],
             [
              0.3333333333333333,
              "#9c179e"
             ],
             [
              0.4444444444444444,
              "#bd3786"
             ],
             [
              0.5555555555555556,
              "#d8576b"
             ],
             [
              0.6666666666666666,
              "#ed7953"
             ],
             [
              0.7777777777777778,
              "#fb9f3a"
             ],
             [
              0.8888888888888888,
              "#fdca26"
             ],
             [
              1,
              "#f0f921"
             ]
            ],
            "type": "heatmapgl"
           }
          ],
          "histogram": [
           {
            "marker": {
             "pattern": {
              "fillmode": "overlay",
              "size": 10,
              "solidity": 0.2
             }
            },
            "type": "histogram"
           }
          ],
          "histogram2d": [
           {
            "colorbar": {
             "outlinewidth": 0,
             "ticks": ""
            },
            "colorscale": [
             [
              0,
              "#0d0887"
             ],
             [
              0.1111111111111111,
              "#46039f"
             ],
             [
              0.2222222222222222,
              "#7201a8"
             ],
             [
              0.3333333333333333,
              "#9c179e"
             ],
             [
              0.4444444444444444,
              "#bd3786"
             ],
             [
              0.5555555555555556,
              "#d8576b"
             ],
             [
              0.6666666666666666,
              "#ed7953"
             ],
             [
              0.7777777777777778,
              "#fb9f3a"
             ],
             [
              0.8888888888888888,
              "#fdca26"
             ],
             [
              1,
              "#f0f921"
             ]
            ],
            "type": "histogram2d"
           }
          ],
          "histogram2dcontour": [
           {
            "colorbar": {
             "outlinewidth": 0,
             "ticks": ""
            },
            "colorscale": [
             [
              0,
              "#0d0887"
             ],
             [
              0.1111111111111111,
              "#46039f"
             ],
             [
              0.2222222222222222,
              "#7201a8"
             ],
             [
              0.3333333333333333,
              "#9c179e"
             ],
             [
              0.4444444444444444,
              "#bd3786"
             ],
             [
              0.5555555555555556,
              "#d8576b"
             ],
             [
              0.6666666666666666,
              "#ed7953"
             ],
             [
              0.7777777777777778,
              "#fb9f3a"
             ],
             [
              0.8888888888888888,
              "#fdca26"
             ],
             [
              1,
              "#f0f921"
             ]
            ],
            "type": "histogram2dcontour"
           }
          ],
          "mesh3d": [
           {
            "colorbar": {
             "outlinewidth": 0,
             "ticks": ""
            },
            "type": "mesh3d"
           }
          ],
          "parcoords": [
           {
            "line": {
             "colorbar": {
              "outlinewidth": 0,
              "ticks": ""
             }
            },
            "type": "parcoords"
           }
          ],
          "pie": [
           {
            "automargin": true,
            "type": "pie"
           }
          ],
          "scatter": [
           {
            "fillpattern": {
             "fillmode": "overlay",
             "size": 10,
             "solidity": 0.2
            },
            "type": "scatter"
           }
          ],
          "scatter3d": [
           {
            "line": {
             "colorbar": {
              "outlinewidth": 0,
              "ticks": ""
             }
            },
            "marker": {
             "colorbar": {
              "outlinewidth": 0,
              "ticks": ""
             }
            },
            "type": "scatter3d"
           }
          ],
          "scattercarpet": [
           {
            "marker": {
             "colorbar": {
              "outlinewidth": 0,
              "ticks": ""
             }
            },
            "type": "scattercarpet"
           }
          ],
          "scattergeo": [
           {
            "marker": {
             "colorbar": {
              "outlinewidth": 0,
              "ticks": ""
             }
            },
            "type": "scattergeo"
           }
          ],
          "scattergl": [
           {
            "marker": {
             "colorbar": {
              "outlinewidth": 0,
              "ticks": ""
             }
            },
            "type": "scattergl"
           }
          ],
          "scattermapbox": [
           {
            "marker": {
             "colorbar": {
              "outlinewidth": 0,
              "ticks": ""
             }
            },
            "type": "scattermapbox"
           }
          ],
          "scatterpolar": [
           {
            "marker": {
             "colorbar": {
              "outlinewidth": 0,
              "ticks": ""
             }
            },
            "type": "scatterpolar"
           }
          ],
          "scatterpolargl": [
           {
            "marker": {
             "colorbar": {
              "outlinewidth": 0,
              "ticks": ""
             }
            },
            "type": "scatterpolargl"
           }
          ],
          "scatterternary": [
           {
            "marker": {
             "colorbar": {
              "outlinewidth": 0,
              "ticks": ""
             }
            },
            "type": "scatterternary"
           }
          ],
          "surface": [
           {
            "colorbar": {
             "outlinewidth": 0,
             "ticks": ""
            },
            "colorscale": [
             [
              0,
              "#0d0887"
             ],
             [
              0.1111111111111111,
              "#46039f"
             ],
             [
              0.2222222222222222,
              "#7201a8"
             ],
             [
              0.3333333333333333,
              "#9c179e"
             ],
             [
              0.4444444444444444,
              "#bd3786"
             ],
             [
              0.5555555555555556,
              "#d8576b"
             ],
             [
              0.6666666666666666,
              "#ed7953"
             ],
             [
              0.7777777777777778,
              "#fb9f3a"
             ],
             [
              0.8888888888888888,
              "#fdca26"
             ],
             [
              1,
              "#f0f921"
             ]
            ],
            "type": "surface"
           }
          ],
          "table": [
           {
            "cells": {
             "fill": {
              "color": "#EBF0F8"
             },
             "line": {
              "color": "white"
             }
            },
            "header": {
             "fill": {
              "color": "#C8D4E3"
             },
             "line": {
              "color": "white"
             }
            },
            "type": "table"
           }
          ]
         },
         "layout": {
          "annotationdefaults": {
           "arrowcolor": "#2a3f5f",
           "arrowhead": 0,
           "arrowwidth": 1
          },
          "autotypenumbers": "strict",
          "coloraxis": {
           "colorbar": {
            "outlinewidth": 0,
            "ticks": ""
           }
          },
          "colorscale": {
           "diverging": [
            [
             0,
             "#8e0152"
            ],
            [
             0.1,
             "#c51b7d"
            ],
            [
             0.2,
             "#de77ae"
            ],
            [
             0.3,
             "#f1b6da"
            ],
            [
             0.4,
             "#fde0ef"
            ],
            [
             0.5,
             "#f7f7f7"
            ],
            [
             0.6,
             "#e6f5d0"
            ],
            [
             0.7,
             "#b8e186"
            ],
            [
             0.8,
             "#7fbc41"
            ],
            [
             0.9,
             "#4d9221"
            ],
            [
             1,
             "#276419"
            ]
           ],
           "sequential": [
            [
             0,
             "#0d0887"
            ],
            [
             0.1111111111111111,
             "#46039f"
            ],
            [
             0.2222222222222222,
             "#7201a8"
            ],
            [
             0.3333333333333333,
             "#9c179e"
            ],
            [
             0.4444444444444444,
             "#bd3786"
            ],
            [
             0.5555555555555556,
             "#d8576b"
            ],
            [
             0.6666666666666666,
             "#ed7953"
            ],
            [
             0.7777777777777778,
             "#fb9f3a"
            ],
            [
             0.8888888888888888,
             "#fdca26"
            ],
            [
             1,
             "#f0f921"
            ]
           ],
           "sequentialminus": [
            [
             0,
             "#0d0887"
            ],
            [
             0.1111111111111111,
             "#46039f"
            ],
            [
             0.2222222222222222,
             "#7201a8"
            ],
            [
             0.3333333333333333,
             "#9c179e"
            ],
            [
             0.4444444444444444,
             "#bd3786"
            ],
            [
             0.5555555555555556,
             "#d8576b"
            ],
            [
             0.6666666666666666,
             "#ed7953"
            ],
            [
             0.7777777777777778,
             "#fb9f3a"
            ],
            [
             0.8888888888888888,
             "#fdca26"
            ],
            [
             1,
             "#f0f921"
            ]
           ]
          },
          "colorway": [
           "#636efa",
           "#EF553B",
           "#00cc96",
           "#ab63fa",
           "#FFA15A",
           "#19d3f3",
           "#FF6692",
           "#B6E880",
           "#FF97FF",
           "#FECB52"
          ],
          "font": {
           "color": "#2a3f5f"
          },
          "geo": {
           "bgcolor": "white",
           "lakecolor": "white",
           "landcolor": "white",
           "showlakes": true,
           "showland": true,
           "subunitcolor": "#C8D4E3"
          },
          "hoverlabel": {
           "align": "left"
          },
          "hovermode": "closest",
          "mapbox": {
           "style": "light"
          },
          "paper_bgcolor": "white",
          "plot_bgcolor": "white",
          "polar": {
           "angularaxis": {
            "gridcolor": "#EBF0F8",
            "linecolor": "#EBF0F8",
            "ticks": ""
           },
           "bgcolor": "white",
           "radialaxis": {
            "gridcolor": "#EBF0F8",
            "linecolor": "#EBF0F8",
            "ticks": ""
           }
          },
          "scene": {
           "xaxis": {
            "backgroundcolor": "white",
            "gridcolor": "#DFE8F3",
            "gridwidth": 2,
            "linecolor": "#EBF0F8",
            "showbackground": true,
            "ticks": "",
            "zerolinecolor": "#EBF0F8"
           },
           "yaxis": {
            "backgroundcolor": "white",
            "gridcolor": "#DFE8F3",
            "gridwidth": 2,
            "linecolor": "#EBF0F8",
            "showbackground": true,
            "ticks": "",
            "zerolinecolor": "#EBF0F8"
           },
           "zaxis": {
            "backgroundcolor": "white",
            "gridcolor": "#DFE8F3",
            "gridwidth": 2,
            "linecolor": "#EBF0F8",
            "showbackground": true,
            "ticks": "",
            "zerolinecolor": "#EBF0F8"
           }
          },
          "shapedefaults": {
           "line": {
            "color": "#2a3f5f"
           }
          },
          "ternary": {
           "aaxis": {
            "gridcolor": "#DFE8F3",
            "linecolor": "#A2B1C6",
            "ticks": ""
           },
           "baxis": {
            "gridcolor": "#DFE8F3",
            "linecolor": "#A2B1C6",
            "ticks": ""
           },
           "bgcolor": "white",
           "caxis": {
            "gridcolor": "#DFE8F3",
            "linecolor": "#A2B1C6",
            "ticks": ""
           }
          },
          "title": {
           "x": 0.05
          },
          "xaxis": {
           "automargin": true,
           "gridcolor": "#EBF0F8",
           "linecolor": "#EBF0F8",
           "ticks": "",
           "title": {
            "standoff": 15
           },
           "zerolinecolor": "#EBF0F8",
           "zerolinewidth": 2
          },
          "yaxis": {
           "automargin": true,
           "gridcolor": "#EBF0F8",
           "linecolor": "#EBF0F8",
           "ticks": "",
           "title": {
            "standoff": 15
           },
           "zerolinecolor": "#EBF0F8",
           "zerolinewidth": 2
          }
         }
        },
        "title": {
         "text": "Time Comparison"
        },
        "xaxis": {
         "linewidth": 1.5,
         "showgrid": true,
         "showline": true,
         "showticklabels": true,
         "tickfont": {
          "color": "#000000",
          "family": "Verdana",
          "size": 11
         },
         "ticks": "outside",
         "title": {
          "text": "Iterations"
         }
        },
        "yaxis": {
         "showgrid": true,
         "showline": false,
         "showticklabels": true,
         "tickfont": {
          "color": "#000000",
          "family": "Verdana",
          "size": 11
         },
         "ticks": "outside",
         "title": {
          "text": "Time (ms)"
         },
         "zeroline": false
        }
       }
      }
     },
     "metadata": {},
     "output_type": "display_data"
    }
   ],
   "source": [
    "# seed for reproducibility\n",
    "np.random.seed(0)\n",
    "\n",
    "generations = [50, 100, 150]\n",
    "\n",
    "# Setting previous best parameter as new default value\n",
    "params.update(replace_param)\n",
    "\n",
    "# Print current parameters to use in best_operators_search\n",
    "print('\\033[1mParameters for GA:\\033[0m', end='\\n\\n')\n",
    "print(params, end='\\n\\n')\n",
    "\n",
    "param_list, df = best_operators_search('gen', generations, params)\n",
    "\n",
    "# Displaying average results of the 100 iterations\n",
    "print('\\033[1mAverage results:', end='\\n')\n",
    "df['const'] = 'const'\n",
    "df_avg = df.groupby('const').mean().reset_index(drop=True).round(3)\n",
    "display(df_avg)\n",
    "\n",
    "# Getting best parameter by fitness & time\n",
    "best_param_fit = df_avg[[col for col in df_avg.columns if col.startswith('Fit_')]].idxmax(axis=1)[0].replace('Fit_', '')\n",
    "best_param_time = df_avg[[col for col in df_avg.columns if col.startswith('Time_')]].idxmin(axis=1)[0].replace('Time_', '')\n",
    "replace_param = {'gen': int(best_param_fit)}\n",
    "print(f'\\nBest Fitness: \\033[1m{best_param_fit}\\033[0m\\n\\nBest Time: \\033[1m{best_param_time}\\033[0m', end='\\n\\n')\n",
    "\n",
    "# Plotting results\n",
    "plot_values(data = df, colors = color_palette[:len(generations)], layout=2, template='white', grid=True)"
   ]
  },
  {
   "cell_type": "code",
   "execution_count": 18,
   "metadata": {},
   "outputs": [
    {
     "name": "stdout",
     "output_type": "stream",
     "text": [
      "\u001b[1mFinal Parameters for GA:\u001b[0m\n",
      "\n",
      "{'n': 12, 'pop': 200, 'gen': 50, 'mut_perc': 0.05, 'cross_perc': 0.75, 'mut': 'swap_mutation', 'cross': 'cycle_cross', 'select': 'fps'}\n"
     ]
    }
   ],
   "source": [
    "# Setting previous best parameter as new default value\n",
    "params.update(replace_param)\n",
    "\n",
    "print('\\033[1mFinal Parameters for GA:\\033[0m', end='\\n\\n')\n",
    "print(params)"
   ]
  },
  {
   "attachments": {},
   "cell_type": "markdown",
   "metadata": {},
   "source": [
    "## __3. Algortihms Comparison__"
   ]
  },
  {
   "cell_type": "code",
   "execution_count": 59,
   "metadata": {},
   "outputs": [
    {
     "data": {
      "application/vnd.plotly.v1+json": {
       "config": {
        "plotlyServerURL": "https://plot.ly"
       },
       "data": [
        {
         "alignmentgroup": "True",
         "hovertemplate": "Algorithm=%{x}<br>Value=%{y}<extra></extra>",
         "legendgroup": "Bactracking 5Dim Fit",
         "marker": {
          "color": "#636efa"
         },
         "name": "Bactracking 5Dim Fit",
         "notched": false,
         "offsetgroup": "Bactracking 5Dim Fit",
         "orientation": "v",
         "showlegend": true,
         "type": "box",
         "x": [
          "Bactracking 5Dim Fit",
          "Bactracking 5Dim Fit",
          "Bactracking 5Dim Fit",
          "Bactracking 5Dim Fit",
          "Bactracking 5Dim Fit",
          "Bactracking 5Dim Fit",
          "Bactracking 5Dim Fit",
          "Bactracking 5Dim Fit",
          "Bactracking 5Dim Fit",
          "Bactracking 5Dim Fit",
          "Bactracking 5Dim Fit",
          "Bactracking 5Dim Fit",
          "Bactracking 5Dim Fit",
          "Bactracking 5Dim Fit",
          "Bactracking 5Dim Fit",
          "Bactracking 5Dim Fit",
          "Bactracking 5Dim Fit",
          "Bactracking 5Dim Fit",
          "Bactracking 5Dim Fit",
          "Bactracking 5Dim Fit",
          "Bactracking 5Dim Fit",
          "Bactracking 5Dim Fit",
          "Bactracking 5Dim Fit",
          "Bactracking 5Dim Fit",
          "Bactracking 5Dim Fit",
          "Bactracking 5Dim Fit",
          "Bactracking 5Dim Fit",
          "Bactracking 5Dim Fit",
          "Bactracking 5Dim Fit",
          "Bactracking 5Dim Fit",
          "Bactracking 5Dim Fit",
          "Bactracking 5Dim Fit",
          "Bactracking 5Dim Fit",
          "Bactracking 5Dim Fit",
          "Bactracking 5Dim Fit",
          "Bactracking 5Dim Fit",
          "Bactracking 5Dim Fit",
          "Bactracking 5Dim Fit",
          "Bactracking 5Dim Fit",
          "Bactracking 5Dim Fit",
          "Bactracking 5Dim Fit",
          "Bactracking 5Dim Fit",
          "Bactracking 5Dim Fit",
          "Bactracking 5Dim Fit",
          "Bactracking 5Dim Fit",
          "Bactracking 5Dim Fit",
          "Bactracking 5Dim Fit",
          "Bactracking 5Dim Fit",
          "Bactracking 5Dim Fit",
          "Bactracking 5Dim Fit",
          "Bactracking 5Dim Fit",
          "Bactracking 5Dim Fit",
          "Bactracking 5Dim Fit",
          "Bactracking 5Dim Fit",
          "Bactracking 5Dim Fit",
          "Bactracking 5Dim Fit",
          "Bactracking 5Dim Fit",
          "Bactracking 5Dim Fit",
          "Bactracking 5Dim Fit",
          "Bactracking 5Dim Fit",
          "Bactracking 5Dim Fit",
          "Bactracking 5Dim Fit",
          "Bactracking 5Dim Fit",
          "Bactracking 5Dim Fit",
          "Bactracking 5Dim Fit",
          "Bactracking 5Dim Fit",
          "Bactracking 5Dim Fit",
          "Bactracking 5Dim Fit",
          "Bactracking 5Dim Fit",
          "Bactracking 5Dim Fit",
          "Bactracking 5Dim Fit",
          "Bactracking 5Dim Fit",
          "Bactracking 5Dim Fit",
          "Bactracking 5Dim Fit",
          "Bactracking 5Dim Fit",
          "Bactracking 5Dim Fit",
          "Bactracking 5Dim Fit",
          "Bactracking 5Dim Fit",
          "Bactracking 5Dim Fit",
          "Bactracking 5Dim Fit",
          "Bactracking 5Dim Fit",
          "Bactracking 5Dim Fit",
          "Bactracking 5Dim Fit",
          "Bactracking 5Dim Fit",
          "Bactracking 5Dim Fit",
          "Bactracking 5Dim Fit",
          "Bactracking 5Dim Fit",
          "Bactracking 5Dim Fit",
          "Bactracking 5Dim Fit",
          "Bactracking 5Dim Fit",
          "Bactracking 5Dim Fit",
          "Bactracking 5Dim Fit",
          "Bactracking 5Dim Fit",
          "Bactracking 5Dim Fit",
          "Bactracking 5Dim Fit",
          "Bactracking 5Dim Fit",
          "Bactracking 5Dim Fit",
          "Bactracking 5Dim Fit",
          "Bactracking 5Dim Fit",
          "Bactracking 5Dim Fit"
         ],
         "x0": " ",
         "xaxis": "x",
         "y": [
          100,
          100,
          100,
          100,
          100,
          100,
          100,
          100,
          100,
          100,
          100,
          100,
          100,
          100,
          100,
          100,
          100,
          100,
          100,
          100,
          100,
          100,
          100,
          100,
          100,
          100,
          100,
          100,
          100,
          100,
          100,
          100,
          100,
          100,
          100,
          100,
          100,
          100,
          100,
          100,
          100,
          100,
          100,
          100,
          100,
          100,
          100,
          100,
          100,
          100,
          100,
          100,
          100,
          100,
          100,
          100,
          100,
          100,
          100,
          100,
          100,
          100,
          100,
          100,
          100,
          100,
          100,
          100,
          100,
          100,
          100,
          100,
          100,
          100,
          100,
          100,
          100,
          100,
          100,
          100,
          100,
          100,
          100,
          100,
          100,
          100,
          100,
          100,
          100,
          100,
          100,
          100,
          100,
          100,
          100,
          100,
          100,
          100,
          100,
          100
         ],
         "y0": " ",
         "yaxis": "y"
        },
        {
         "alignmentgroup": "True",
         "hovertemplate": "Algorithm=%{x}<br>Value=%{y}<extra></extra>",
         "legendgroup": "Hill Climbing 5Dim Fit",
         "marker": {
          "color": "#EF553B"
         },
         "name": "Hill Climbing 5Dim Fit",
         "notched": false,
         "offsetgroup": "Hill Climbing 5Dim Fit",
         "orientation": "v",
         "showlegend": true,
         "type": "box",
         "x": [
          "Hill Climbing 5Dim Fit",
          "Hill Climbing 5Dim Fit",
          "Hill Climbing 5Dim Fit",
          "Hill Climbing 5Dim Fit",
          "Hill Climbing 5Dim Fit",
          "Hill Climbing 5Dim Fit",
          "Hill Climbing 5Dim Fit",
          "Hill Climbing 5Dim Fit",
          "Hill Climbing 5Dim Fit",
          "Hill Climbing 5Dim Fit",
          "Hill Climbing 5Dim Fit",
          "Hill Climbing 5Dim Fit",
          "Hill Climbing 5Dim Fit",
          "Hill Climbing 5Dim Fit",
          "Hill Climbing 5Dim Fit",
          "Hill Climbing 5Dim Fit",
          "Hill Climbing 5Dim Fit",
          "Hill Climbing 5Dim Fit",
          "Hill Climbing 5Dim Fit",
          "Hill Climbing 5Dim Fit",
          "Hill Climbing 5Dim Fit",
          "Hill Climbing 5Dim Fit",
          "Hill Climbing 5Dim Fit",
          "Hill Climbing 5Dim Fit",
          "Hill Climbing 5Dim Fit",
          "Hill Climbing 5Dim Fit",
          "Hill Climbing 5Dim Fit",
          "Hill Climbing 5Dim Fit",
          "Hill Climbing 5Dim Fit",
          "Hill Climbing 5Dim Fit",
          "Hill Climbing 5Dim Fit",
          "Hill Climbing 5Dim Fit",
          "Hill Climbing 5Dim Fit",
          "Hill Climbing 5Dim Fit",
          "Hill Climbing 5Dim Fit",
          "Hill Climbing 5Dim Fit",
          "Hill Climbing 5Dim Fit",
          "Hill Climbing 5Dim Fit",
          "Hill Climbing 5Dim Fit",
          "Hill Climbing 5Dim Fit",
          "Hill Climbing 5Dim Fit",
          "Hill Climbing 5Dim Fit",
          "Hill Climbing 5Dim Fit",
          "Hill Climbing 5Dim Fit",
          "Hill Climbing 5Dim Fit",
          "Hill Climbing 5Dim Fit",
          "Hill Climbing 5Dim Fit",
          "Hill Climbing 5Dim Fit",
          "Hill Climbing 5Dim Fit",
          "Hill Climbing 5Dim Fit",
          "Hill Climbing 5Dim Fit",
          "Hill Climbing 5Dim Fit",
          "Hill Climbing 5Dim Fit",
          "Hill Climbing 5Dim Fit",
          "Hill Climbing 5Dim Fit",
          "Hill Climbing 5Dim Fit",
          "Hill Climbing 5Dim Fit",
          "Hill Climbing 5Dim Fit",
          "Hill Climbing 5Dim Fit",
          "Hill Climbing 5Dim Fit",
          "Hill Climbing 5Dim Fit",
          "Hill Climbing 5Dim Fit",
          "Hill Climbing 5Dim Fit",
          "Hill Climbing 5Dim Fit",
          "Hill Climbing 5Dim Fit",
          "Hill Climbing 5Dim Fit",
          "Hill Climbing 5Dim Fit",
          "Hill Climbing 5Dim Fit",
          "Hill Climbing 5Dim Fit",
          "Hill Climbing 5Dim Fit",
          "Hill Climbing 5Dim Fit",
          "Hill Climbing 5Dim Fit",
          "Hill Climbing 5Dim Fit",
          "Hill Climbing 5Dim Fit",
          "Hill Climbing 5Dim Fit",
          "Hill Climbing 5Dim Fit",
          "Hill Climbing 5Dim Fit",
          "Hill Climbing 5Dim Fit",
          "Hill Climbing 5Dim Fit",
          "Hill Climbing 5Dim Fit",
          "Hill Climbing 5Dim Fit",
          "Hill Climbing 5Dim Fit",
          "Hill Climbing 5Dim Fit",
          "Hill Climbing 5Dim Fit",
          "Hill Climbing 5Dim Fit",
          "Hill Climbing 5Dim Fit",
          "Hill Climbing 5Dim Fit",
          "Hill Climbing 5Dim Fit",
          "Hill Climbing 5Dim Fit",
          "Hill Climbing 5Dim Fit",
          "Hill Climbing 5Dim Fit",
          "Hill Climbing 5Dim Fit",
          "Hill Climbing 5Dim Fit",
          "Hill Climbing 5Dim Fit",
          "Hill Climbing 5Dim Fit",
          "Hill Climbing 5Dim Fit",
          "Hill Climbing 5Dim Fit",
          "Hill Climbing 5Dim Fit",
          "Hill Climbing 5Dim Fit",
          "Hill Climbing 5Dim Fit"
         ],
         "x0": " ",
         "xaxis": "x",
         "y": [
          100,
          90,
          80,
          80,
          100,
          90,
          80,
          80,
          80,
          80,
          80,
          80,
          100,
          80,
          90,
          90,
          80,
          100,
          80,
          100,
          100,
          80,
          100,
          100,
          100,
          90,
          90,
          100,
          80,
          100,
          100,
          90,
          100,
          80,
          90,
          100,
          100,
          80,
          100,
          100,
          100,
          90,
          100,
          80,
          100,
          80,
          100,
          100,
          100,
          100,
          80,
          90,
          90,
          80,
          90,
          80,
          80,
          90,
          80,
          90,
          90,
          80,
          90,
          100,
          100,
          80,
          100,
          100,
          90,
          100,
          100,
          80,
          100,
          100,
          100,
          100,
          80,
          80,
          90,
          90,
          80,
          80,
          100,
          80,
          90,
          100,
          100,
          100,
          100,
          90,
          100,
          80,
          100,
          100,
          80,
          100,
          100,
          90,
          80,
          80
         ],
         "y0": " ",
         "yaxis": "y"
        },
        {
         "alignmentgroup": "True",
         "hovertemplate": "Algorithm=%{x}<br>Value=%{y}<extra></extra>",
         "legendgroup": "Simulated Annealing 5Dim Fit",
         "marker": {
          "color": "#00cc96"
         },
         "name": "Simulated Annealing 5Dim Fit",
         "notched": false,
         "offsetgroup": "Simulated Annealing 5Dim Fit",
         "orientation": "v",
         "showlegend": true,
         "type": "box",
         "x": [
          "Simulated Annealing 5Dim Fit",
          "Simulated Annealing 5Dim Fit",
          "Simulated Annealing 5Dim Fit",
          "Simulated Annealing 5Dim Fit",
          "Simulated Annealing 5Dim Fit",
          "Simulated Annealing 5Dim Fit",
          "Simulated Annealing 5Dim Fit",
          "Simulated Annealing 5Dim Fit",
          "Simulated Annealing 5Dim Fit",
          "Simulated Annealing 5Dim Fit",
          "Simulated Annealing 5Dim Fit",
          "Simulated Annealing 5Dim Fit",
          "Simulated Annealing 5Dim Fit",
          "Simulated Annealing 5Dim Fit",
          "Simulated Annealing 5Dim Fit",
          "Simulated Annealing 5Dim Fit",
          "Simulated Annealing 5Dim Fit",
          "Simulated Annealing 5Dim Fit",
          "Simulated Annealing 5Dim Fit",
          "Simulated Annealing 5Dim Fit",
          "Simulated Annealing 5Dim Fit",
          "Simulated Annealing 5Dim Fit",
          "Simulated Annealing 5Dim Fit",
          "Simulated Annealing 5Dim Fit",
          "Simulated Annealing 5Dim Fit",
          "Simulated Annealing 5Dim Fit",
          "Simulated Annealing 5Dim Fit",
          "Simulated Annealing 5Dim Fit",
          "Simulated Annealing 5Dim Fit",
          "Simulated Annealing 5Dim Fit",
          "Simulated Annealing 5Dim Fit",
          "Simulated Annealing 5Dim Fit",
          "Simulated Annealing 5Dim Fit",
          "Simulated Annealing 5Dim Fit",
          "Simulated Annealing 5Dim Fit",
          "Simulated Annealing 5Dim Fit",
          "Simulated Annealing 5Dim Fit",
          "Simulated Annealing 5Dim Fit",
          "Simulated Annealing 5Dim Fit",
          "Simulated Annealing 5Dim Fit",
          "Simulated Annealing 5Dim Fit",
          "Simulated Annealing 5Dim Fit",
          "Simulated Annealing 5Dim Fit",
          "Simulated Annealing 5Dim Fit",
          "Simulated Annealing 5Dim Fit",
          "Simulated Annealing 5Dim Fit",
          "Simulated Annealing 5Dim Fit",
          "Simulated Annealing 5Dim Fit",
          "Simulated Annealing 5Dim Fit",
          "Simulated Annealing 5Dim Fit",
          "Simulated Annealing 5Dim Fit",
          "Simulated Annealing 5Dim Fit",
          "Simulated Annealing 5Dim Fit",
          "Simulated Annealing 5Dim Fit",
          "Simulated Annealing 5Dim Fit",
          "Simulated Annealing 5Dim Fit",
          "Simulated Annealing 5Dim Fit",
          "Simulated Annealing 5Dim Fit",
          "Simulated Annealing 5Dim Fit",
          "Simulated Annealing 5Dim Fit",
          "Simulated Annealing 5Dim Fit",
          "Simulated Annealing 5Dim Fit",
          "Simulated Annealing 5Dim Fit",
          "Simulated Annealing 5Dim Fit",
          "Simulated Annealing 5Dim Fit",
          "Simulated Annealing 5Dim Fit",
          "Simulated Annealing 5Dim Fit",
          "Simulated Annealing 5Dim Fit",
          "Simulated Annealing 5Dim Fit",
          "Simulated Annealing 5Dim Fit",
          "Simulated Annealing 5Dim Fit",
          "Simulated Annealing 5Dim Fit",
          "Simulated Annealing 5Dim Fit",
          "Simulated Annealing 5Dim Fit",
          "Simulated Annealing 5Dim Fit",
          "Simulated Annealing 5Dim Fit",
          "Simulated Annealing 5Dim Fit",
          "Simulated Annealing 5Dim Fit",
          "Simulated Annealing 5Dim Fit",
          "Simulated Annealing 5Dim Fit",
          "Simulated Annealing 5Dim Fit",
          "Simulated Annealing 5Dim Fit",
          "Simulated Annealing 5Dim Fit",
          "Simulated Annealing 5Dim Fit",
          "Simulated Annealing 5Dim Fit",
          "Simulated Annealing 5Dim Fit",
          "Simulated Annealing 5Dim Fit",
          "Simulated Annealing 5Dim Fit",
          "Simulated Annealing 5Dim Fit",
          "Simulated Annealing 5Dim Fit",
          "Simulated Annealing 5Dim Fit",
          "Simulated Annealing 5Dim Fit",
          "Simulated Annealing 5Dim Fit",
          "Simulated Annealing 5Dim Fit",
          "Simulated Annealing 5Dim Fit",
          "Simulated Annealing 5Dim Fit",
          "Simulated Annealing 5Dim Fit",
          "Simulated Annealing 5Dim Fit",
          "Simulated Annealing 5Dim Fit",
          "Simulated Annealing 5Dim Fit"
         ],
         "x0": " ",
         "xaxis": "x",
         "y": [
          100,
          100,
          100,
          100,
          100,
          100,
          100,
          100,
          100,
          100,
          100,
          100,
          100,
          100,
          100,
          100,
          100,
          100,
          100,
          100,
          100,
          100,
          100,
          100,
          100,
          100,
          100,
          100,
          100,
          100,
          100,
          100,
          100,
          100,
          100,
          100,
          100,
          100,
          100,
          100,
          100,
          100,
          100,
          100,
          100,
          100,
          100,
          100,
          100,
          100,
          100,
          100,
          100,
          100,
          100,
          100,
          100,
          100,
          100,
          100,
          100,
          100,
          100,
          100,
          100,
          100,
          100,
          100,
          100,
          100,
          100,
          100,
          100,
          100,
          100,
          100,
          100,
          100,
          100,
          100,
          100,
          100,
          100,
          100,
          100,
          100,
          100,
          100,
          100,
          100,
          100,
          100,
          100,
          100,
          100,
          100,
          100,
          100,
          100,
          100
         ],
         "y0": " ",
         "yaxis": "y"
        },
        {
         "alignmentgroup": "True",
         "hovertemplate": "Algorithm=%{x}<br>Value=%{y}<extra></extra>",
         "legendgroup": "Genetic Algorithm 5Dim Fit",
         "marker": {
          "color": "#ab63fa"
         },
         "name": "Genetic Algorithm 5Dim Fit",
         "notched": false,
         "offsetgroup": "Genetic Algorithm 5Dim Fit",
         "orientation": "v",
         "showlegend": true,
         "type": "box",
         "x": [
          "Genetic Algorithm 5Dim Fit",
          "Genetic Algorithm 5Dim Fit",
          "Genetic Algorithm 5Dim Fit",
          "Genetic Algorithm 5Dim Fit",
          "Genetic Algorithm 5Dim Fit",
          "Genetic Algorithm 5Dim Fit",
          "Genetic Algorithm 5Dim Fit",
          "Genetic Algorithm 5Dim Fit",
          "Genetic Algorithm 5Dim Fit",
          "Genetic Algorithm 5Dim Fit",
          "Genetic Algorithm 5Dim Fit",
          "Genetic Algorithm 5Dim Fit",
          "Genetic Algorithm 5Dim Fit",
          "Genetic Algorithm 5Dim Fit",
          "Genetic Algorithm 5Dim Fit",
          "Genetic Algorithm 5Dim Fit",
          "Genetic Algorithm 5Dim Fit",
          "Genetic Algorithm 5Dim Fit",
          "Genetic Algorithm 5Dim Fit",
          "Genetic Algorithm 5Dim Fit",
          "Genetic Algorithm 5Dim Fit",
          "Genetic Algorithm 5Dim Fit",
          "Genetic Algorithm 5Dim Fit",
          "Genetic Algorithm 5Dim Fit",
          "Genetic Algorithm 5Dim Fit",
          "Genetic Algorithm 5Dim Fit",
          "Genetic Algorithm 5Dim Fit",
          "Genetic Algorithm 5Dim Fit",
          "Genetic Algorithm 5Dim Fit",
          "Genetic Algorithm 5Dim Fit",
          "Genetic Algorithm 5Dim Fit",
          "Genetic Algorithm 5Dim Fit",
          "Genetic Algorithm 5Dim Fit",
          "Genetic Algorithm 5Dim Fit",
          "Genetic Algorithm 5Dim Fit",
          "Genetic Algorithm 5Dim Fit",
          "Genetic Algorithm 5Dim Fit",
          "Genetic Algorithm 5Dim Fit",
          "Genetic Algorithm 5Dim Fit",
          "Genetic Algorithm 5Dim Fit",
          "Genetic Algorithm 5Dim Fit",
          "Genetic Algorithm 5Dim Fit",
          "Genetic Algorithm 5Dim Fit",
          "Genetic Algorithm 5Dim Fit",
          "Genetic Algorithm 5Dim Fit",
          "Genetic Algorithm 5Dim Fit",
          "Genetic Algorithm 5Dim Fit",
          "Genetic Algorithm 5Dim Fit",
          "Genetic Algorithm 5Dim Fit",
          "Genetic Algorithm 5Dim Fit",
          "Genetic Algorithm 5Dim Fit",
          "Genetic Algorithm 5Dim Fit",
          "Genetic Algorithm 5Dim Fit",
          "Genetic Algorithm 5Dim Fit",
          "Genetic Algorithm 5Dim Fit",
          "Genetic Algorithm 5Dim Fit",
          "Genetic Algorithm 5Dim Fit",
          "Genetic Algorithm 5Dim Fit",
          "Genetic Algorithm 5Dim Fit",
          "Genetic Algorithm 5Dim Fit",
          "Genetic Algorithm 5Dim Fit",
          "Genetic Algorithm 5Dim Fit",
          "Genetic Algorithm 5Dim Fit",
          "Genetic Algorithm 5Dim Fit",
          "Genetic Algorithm 5Dim Fit",
          "Genetic Algorithm 5Dim Fit",
          "Genetic Algorithm 5Dim Fit",
          "Genetic Algorithm 5Dim Fit",
          "Genetic Algorithm 5Dim Fit",
          "Genetic Algorithm 5Dim Fit",
          "Genetic Algorithm 5Dim Fit",
          "Genetic Algorithm 5Dim Fit",
          "Genetic Algorithm 5Dim Fit",
          "Genetic Algorithm 5Dim Fit",
          "Genetic Algorithm 5Dim Fit",
          "Genetic Algorithm 5Dim Fit",
          "Genetic Algorithm 5Dim Fit",
          "Genetic Algorithm 5Dim Fit",
          "Genetic Algorithm 5Dim Fit",
          "Genetic Algorithm 5Dim Fit",
          "Genetic Algorithm 5Dim Fit",
          "Genetic Algorithm 5Dim Fit",
          "Genetic Algorithm 5Dim Fit",
          "Genetic Algorithm 5Dim Fit",
          "Genetic Algorithm 5Dim Fit",
          "Genetic Algorithm 5Dim Fit",
          "Genetic Algorithm 5Dim Fit",
          "Genetic Algorithm 5Dim Fit",
          "Genetic Algorithm 5Dim Fit",
          "Genetic Algorithm 5Dim Fit",
          "Genetic Algorithm 5Dim Fit",
          "Genetic Algorithm 5Dim Fit",
          "Genetic Algorithm 5Dim Fit",
          "Genetic Algorithm 5Dim Fit",
          "Genetic Algorithm 5Dim Fit",
          "Genetic Algorithm 5Dim Fit",
          "Genetic Algorithm 5Dim Fit",
          "Genetic Algorithm 5Dim Fit",
          "Genetic Algorithm 5Dim Fit",
          "Genetic Algorithm 5Dim Fit"
         ],
         "x0": " ",
         "xaxis": "x",
         "y": [
          100,
          100,
          100,
          100,
          100,
          100,
          100,
          100,
          100,
          100,
          100,
          100,
          100,
          100,
          100,
          100,
          100,
          100,
          100,
          100,
          100,
          100,
          100,
          100,
          100,
          100,
          100,
          100,
          100,
          100,
          100,
          100,
          100,
          100,
          100,
          100,
          100,
          100,
          100,
          100,
          100,
          100,
          100,
          100,
          100,
          100,
          100,
          100,
          100,
          100,
          100,
          100,
          100,
          100,
          100,
          100,
          100,
          100,
          100,
          100,
          100,
          100,
          100,
          100,
          100,
          100,
          100,
          100,
          100,
          100,
          100,
          100,
          100,
          100,
          100,
          100,
          100,
          100,
          100,
          100,
          100,
          100,
          100,
          100,
          100,
          100,
          100,
          100,
          100,
          100,
          100,
          100,
          100,
          100,
          100,
          100,
          100,
          100,
          100,
          100
         ],
         "y0": " ",
         "yaxis": "y"
        }
       ],
       "layout": {
        "boxmode": "overlay",
        "legend": {
         "title": {
          "text": "Algorithm"
         },
         "tracegroupgap": 0
        },
        "margin": {
         "t": 60
        },
        "template": {
         "data": {
          "bar": [
           {
            "error_x": {
             "color": "#2a3f5f"
            },
            "error_y": {
             "color": "#2a3f5f"
            },
            "marker": {
             "line": {
              "color": "#E5ECF6",
              "width": 0.5
             },
             "pattern": {
              "fillmode": "overlay",
              "size": 10,
              "solidity": 0.2
             }
            },
            "type": "bar"
           }
          ],
          "barpolar": [
           {
            "marker": {
             "line": {
              "color": "#E5ECF6",
              "width": 0.5
             },
             "pattern": {
              "fillmode": "overlay",
              "size": 10,
              "solidity": 0.2
             }
            },
            "type": "barpolar"
           }
          ],
          "carpet": [
           {
            "aaxis": {
             "endlinecolor": "#2a3f5f",
             "gridcolor": "white",
             "linecolor": "white",
             "minorgridcolor": "white",
             "startlinecolor": "#2a3f5f"
            },
            "baxis": {
             "endlinecolor": "#2a3f5f",
             "gridcolor": "white",
             "linecolor": "white",
             "minorgridcolor": "white",
             "startlinecolor": "#2a3f5f"
            },
            "type": "carpet"
           }
          ],
          "choropleth": [
           {
            "colorbar": {
             "outlinewidth": 0,
             "ticks": ""
            },
            "type": "choropleth"
           }
          ],
          "contour": [
           {
            "colorbar": {
             "outlinewidth": 0,
             "ticks": ""
            },
            "colorscale": [
             [
              0,
              "#0d0887"
             ],
             [
              0.1111111111111111,
              "#46039f"
             ],
             [
              0.2222222222222222,
              "#7201a8"
             ],
             [
              0.3333333333333333,
              "#9c179e"
             ],
             [
              0.4444444444444444,
              "#bd3786"
             ],
             [
              0.5555555555555556,
              "#d8576b"
             ],
             [
              0.6666666666666666,
              "#ed7953"
             ],
             [
              0.7777777777777778,
              "#fb9f3a"
             ],
             [
              0.8888888888888888,
              "#fdca26"
             ],
             [
              1,
              "#f0f921"
             ]
            ],
            "type": "contour"
           }
          ],
          "contourcarpet": [
           {
            "colorbar": {
             "outlinewidth": 0,
             "ticks": ""
            },
            "type": "contourcarpet"
           }
          ],
          "heatmap": [
           {
            "colorbar": {
             "outlinewidth": 0,
             "ticks": ""
            },
            "colorscale": [
             [
              0,
              "#0d0887"
             ],
             [
              0.1111111111111111,
              "#46039f"
             ],
             [
              0.2222222222222222,
              "#7201a8"
             ],
             [
              0.3333333333333333,
              "#9c179e"
             ],
             [
              0.4444444444444444,
              "#bd3786"
             ],
             [
              0.5555555555555556,
              "#d8576b"
             ],
             [
              0.6666666666666666,
              "#ed7953"
             ],
             [
              0.7777777777777778,
              "#fb9f3a"
             ],
             [
              0.8888888888888888,
              "#fdca26"
             ],
             [
              1,
              "#f0f921"
             ]
            ],
            "type": "heatmap"
           }
          ],
          "heatmapgl": [
           {
            "colorbar": {
             "outlinewidth": 0,
             "ticks": ""
            },
            "colorscale": [
             [
              0,
              "#0d0887"
             ],
             [
              0.1111111111111111,
              "#46039f"
             ],
             [
              0.2222222222222222,
              "#7201a8"
             ],
             [
              0.3333333333333333,
              "#9c179e"
             ],
             [
              0.4444444444444444,
              "#bd3786"
             ],
             [
              0.5555555555555556,
              "#d8576b"
             ],
             [
              0.6666666666666666,
              "#ed7953"
             ],
             [
              0.7777777777777778,
              "#fb9f3a"
             ],
             [
              0.8888888888888888,
              "#fdca26"
             ],
             [
              1,
              "#f0f921"
             ]
            ],
            "type": "heatmapgl"
           }
          ],
          "histogram": [
           {
            "marker": {
             "pattern": {
              "fillmode": "overlay",
              "size": 10,
              "solidity": 0.2
             }
            },
            "type": "histogram"
           }
          ],
          "histogram2d": [
           {
            "colorbar": {
             "outlinewidth": 0,
             "ticks": ""
            },
            "colorscale": [
             [
              0,
              "#0d0887"
             ],
             [
              0.1111111111111111,
              "#46039f"
             ],
             [
              0.2222222222222222,
              "#7201a8"
             ],
             [
              0.3333333333333333,
              "#9c179e"
             ],
             [
              0.4444444444444444,
              "#bd3786"
             ],
             [
              0.5555555555555556,
              "#d8576b"
             ],
             [
              0.6666666666666666,
              "#ed7953"
             ],
             [
              0.7777777777777778,
              "#fb9f3a"
             ],
             [
              0.8888888888888888,
              "#fdca26"
             ],
             [
              1,
              "#f0f921"
             ]
            ],
            "type": "histogram2d"
           }
          ],
          "histogram2dcontour": [
           {
            "colorbar": {
             "outlinewidth": 0,
             "ticks": ""
            },
            "colorscale": [
             [
              0,
              "#0d0887"
             ],
             [
              0.1111111111111111,
              "#46039f"
             ],
             [
              0.2222222222222222,
              "#7201a8"
             ],
             [
              0.3333333333333333,
              "#9c179e"
             ],
             [
              0.4444444444444444,
              "#bd3786"
             ],
             [
              0.5555555555555556,
              "#d8576b"
             ],
             [
              0.6666666666666666,
              "#ed7953"
             ],
             [
              0.7777777777777778,
              "#fb9f3a"
             ],
             [
              0.8888888888888888,
              "#fdca26"
             ],
             [
              1,
              "#f0f921"
             ]
            ],
            "type": "histogram2dcontour"
           }
          ],
          "mesh3d": [
           {
            "colorbar": {
             "outlinewidth": 0,
             "ticks": ""
            },
            "type": "mesh3d"
           }
          ],
          "parcoords": [
           {
            "line": {
             "colorbar": {
              "outlinewidth": 0,
              "ticks": ""
             }
            },
            "type": "parcoords"
           }
          ],
          "pie": [
           {
            "automargin": true,
            "type": "pie"
           }
          ],
          "scatter": [
           {
            "fillpattern": {
             "fillmode": "overlay",
             "size": 10,
             "solidity": 0.2
            },
            "type": "scatter"
           }
          ],
          "scatter3d": [
           {
            "line": {
             "colorbar": {
              "outlinewidth": 0,
              "ticks": ""
             }
            },
            "marker": {
             "colorbar": {
              "outlinewidth": 0,
              "ticks": ""
             }
            },
            "type": "scatter3d"
           }
          ],
          "scattercarpet": [
           {
            "marker": {
             "colorbar": {
              "outlinewidth": 0,
              "ticks": ""
             }
            },
            "type": "scattercarpet"
           }
          ],
          "scattergeo": [
           {
            "marker": {
             "colorbar": {
              "outlinewidth": 0,
              "ticks": ""
             }
            },
            "type": "scattergeo"
           }
          ],
          "scattergl": [
           {
            "marker": {
             "colorbar": {
              "outlinewidth": 0,
              "ticks": ""
             }
            },
            "type": "scattergl"
           }
          ],
          "scattermapbox": [
           {
            "marker": {
             "colorbar": {
              "outlinewidth": 0,
              "ticks": ""
             }
            },
            "type": "scattermapbox"
           }
          ],
          "scatterpolar": [
           {
            "marker": {
             "colorbar": {
              "outlinewidth": 0,
              "ticks": ""
             }
            },
            "type": "scatterpolar"
           }
          ],
          "scatterpolargl": [
           {
            "marker": {
             "colorbar": {
              "outlinewidth": 0,
              "ticks": ""
             }
            },
            "type": "scatterpolargl"
           }
          ],
          "scatterternary": [
           {
            "marker": {
             "colorbar": {
              "outlinewidth": 0,
              "ticks": ""
             }
            },
            "type": "scatterternary"
           }
          ],
          "surface": [
           {
            "colorbar": {
             "outlinewidth": 0,
             "ticks": ""
            },
            "colorscale": [
             [
              0,
              "#0d0887"
             ],
             [
              0.1111111111111111,
              "#46039f"
             ],
             [
              0.2222222222222222,
              "#7201a8"
             ],
             [
              0.3333333333333333,
              "#9c179e"
             ],
             [
              0.4444444444444444,
              "#bd3786"
             ],
             [
              0.5555555555555556,
              "#d8576b"
             ],
             [
              0.6666666666666666,
              "#ed7953"
             ],
             [
              0.7777777777777778,
              "#fb9f3a"
             ],
             [
              0.8888888888888888,
              "#fdca26"
             ],
             [
              1,
              "#f0f921"
             ]
            ],
            "type": "surface"
           }
          ],
          "table": [
           {
            "cells": {
             "fill": {
              "color": "#EBF0F8"
             },
             "line": {
              "color": "white"
             }
            },
            "header": {
             "fill": {
              "color": "#C8D4E3"
             },
             "line": {
              "color": "white"
             }
            },
            "type": "table"
           }
          ]
         },
         "layout": {
          "annotationdefaults": {
           "arrowcolor": "#2a3f5f",
           "arrowhead": 0,
           "arrowwidth": 1
          },
          "autotypenumbers": "strict",
          "coloraxis": {
           "colorbar": {
            "outlinewidth": 0,
            "ticks": ""
           }
          },
          "colorscale": {
           "diverging": [
            [
             0,
             "#8e0152"
            ],
            [
             0.1,
             "#c51b7d"
            ],
            [
             0.2,
             "#de77ae"
            ],
            [
             0.3,
             "#f1b6da"
            ],
            [
             0.4,
             "#fde0ef"
            ],
            [
             0.5,
             "#f7f7f7"
            ],
            [
             0.6,
             "#e6f5d0"
            ],
            [
             0.7,
             "#b8e186"
            ],
            [
             0.8,
             "#7fbc41"
            ],
            [
             0.9,
             "#4d9221"
            ],
            [
             1,
             "#276419"
            ]
           ],
           "sequential": [
            [
             0,
             "#0d0887"
            ],
            [
             0.1111111111111111,
             "#46039f"
            ],
            [
             0.2222222222222222,
             "#7201a8"
            ],
            [
             0.3333333333333333,
             "#9c179e"
            ],
            [
             0.4444444444444444,
             "#bd3786"
            ],
            [
             0.5555555555555556,
             "#d8576b"
            ],
            [
             0.6666666666666666,
             "#ed7953"
            ],
            [
             0.7777777777777778,
             "#fb9f3a"
            ],
            [
             0.8888888888888888,
             "#fdca26"
            ],
            [
             1,
             "#f0f921"
            ]
           ],
           "sequentialminus": [
            [
             0,
             "#0d0887"
            ],
            [
             0.1111111111111111,
             "#46039f"
            ],
            [
             0.2222222222222222,
             "#7201a8"
            ],
            [
             0.3333333333333333,
             "#9c179e"
            ],
            [
             0.4444444444444444,
             "#bd3786"
            ],
            [
             0.5555555555555556,
             "#d8576b"
            ],
            [
             0.6666666666666666,
             "#ed7953"
            ],
            [
             0.7777777777777778,
             "#fb9f3a"
            ],
            [
             0.8888888888888888,
             "#fdca26"
            ],
            [
             1,
             "#f0f921"
            ]
           ]
          },
          "colorway": [
           "#636efa",
           "#EF553B",
           "#00cc96",
           "#ab63fa",
           "#FFA15A",
           "#19d3f3",
           "#FF6692",
           "#B6E880",
           "#FF97FF",
           "#FECB52"
          ],
          "font": {
           "color": "#2a3f5f"
          },
          "geo": {
           "bgcolor": "white",
           "lakecolor": "white",
           "landcolor": "#E5ECF6",
           "showlakes": true,
           "showland": true,
           "subunitcolor": "white"
          },
          "hoverlabel": {
           "align": "left"
          },
          "hovermode": "closest",
          "mapbox": {
           "style": "light"
          },
          "paper_bgcolor": "white",
          "plot_bgcolor": "#E5ECF6",
          "polar": {
           "angularaxis": {
            "gridcolor": "white",
            "linecolor": "white",
            "ticks": ""
           },
           "bgcolor": "#E5ECF6",
           "radialaxis": {
            "gridcolor": "white",
            "linecolor": "white",
            "ticks": ""
           }
          },
          "scene": {
           "xaxis": {
            "backgroundcolor": "#E5ECF6",
            "gridcolor": "white",
            "gridwidth": 2,
            "linecolor": "white",
            "showbackground": true,
            "ticks": "",
            "zerolinecolor": "white"
           },
           "yaxis": {
            "backgroundcolor": "#E5ECF6",
            "gridcolor": "white",
            "gridwidth": 2,
            "linecolor": "white",
            "showbackground": true,
            "ticks": "",
            "zerolinecolor": "white"
           },
           "zaxis": {
            "backgroundcolor": "#E5ECF6",
            "gridcolor": "white",
            "gridwidth": 2,
            "linecolor": "white",
            "showbackground": true,
            "ticks": "",
            "zerolinecolor": "white"
           }
          },
          "shapedefaults": {
           "line": {
            "color": "#2a3f5f"
           }
          },
          "ternary": {
           "aaxis": {
            "gridcolor": "white",
            "linecolor": "white",
            "ticks": ""
           },
           "baxis": {
            "gridcolor": "white",
            "linecolor": "white",
            "ticks": ""
           },
           "bgcolor": "#E5ECF6",
           "caxis": {
            "gridcolor": "white",
            "linecolor": "white",
            "ticks": ""
           }
          },
          "title": {
           "x": 0.05
          },
          "xaxis": {
           "automargin": true,
           "gridcolor": "white",
           "linecolor": "white",
           "ticks": "",
           "title": {
            "standoff": 15
           },
           "zerolinecolor": "white",
           "zerolinewidth": 2
          },
          "yaxis": {
           "automargin": true,
           "gridcolor": "white",
           "linecolor": "white",
           "ticks": "",
           "title": {
            "standoff": 15
           },
           "zerolinecolor": "white",
           "zerolinewidth": 2
          }
         }
        },
        "title": {
         "text": "5-Queens Problem - Fitness per Algorithm"
        },
        "xaxis": {
         "anchor": "y",
         "categoryarray": [
          "Bactracking 5Dim Fit",
          "Hill Climbing 5Dim Fit",
          "Simulated Annealing 5Dim Fit",
          "Genetic Algorithm 5Dim Fit"
         ],
         "categoryorder": "array",
         "domain": [
          0,
          1
         ],
         "title": {
          "text": "Algorithm"
         }
        },
        "yaxis": {
         "anchor": "x",
         "domain": [
          0,
          1
         ],
         "title": {
          "text": "Fitness"
         }
        }
       }
      }
     },
     "metadata": {},
     "output_type": "display_data"
    },
    {
     "data": {
      "application/vnd.plotly.v1+json": {
       "config": {
        "plotlyServerURL": "https://plot.ly"
       },
       "data": [
        {
         "alignmentgroup": "True",
         "hovertemplate": "Algorithm=%{x}<br>Value=%{y}<extra></extra>",
         "legendgroup": "Bactracking 5Dim Time",
         "marker": {
          "color": "#636efa"
         },
         "name": "Bactracking 5Dim Time",
         "notched": false,
         "offsetgroup": "Bactracking 5Dim Time",
         "orientation": "v",
         "showlegend": true,
         "type": "box",
         "x": [
          "Bactracking 5Dim Time",
          "Bactracking 5Dim Time",
          "Bactracking 5Dim Time",
          "Bactracking 5Dim Time",
          "Bactracking 5Dim Time",
          "Bactracking 5Dim Time",
          "Bactracking 5Dim Time",
          "Bactracking 5Dim Time",
          "Bactracking 5Dim Time",
          "Bactracking 5Dim Time",
          "Bactracking 5Dim Time",
          "Bactracking 5Dim Time",
          "Bactracking 5Dim Time",
          "Bactracking 5Dim Time",
          "Bactracking 5Dim Time",
          "Bactracking 5Dim Time",
          "Bactracking 5Dim Time",
          "Bactracking 5Dim Time",
          "Bactracking 5Dim Time",
          "Bactracking 5Dim Time",
          "Bactracking 5Dim Time",
          "Bactracking 5Dim Time",
          "Bactracking 5Dim Time",
          "Bactracking 5Dim Time",
          "Bactracking 5Dim Time",
          "Bactracking 5Dim Time",
          "Bactracking 5Dim Time",
          "Bactracking 5Dim Time",
          "Bactracking 5Dim Time",
          "Bactracking 5Dim Time",
          "Bactracking 5Dim Time",
          "Bactracking 5Dim Time",
          "Bactracking 5Dim Time",
          "Bactracking 5Dim Time",
          "Bactracking 5Dim Time",
          "Bactracking 5Dim Time",
          "Bactracking 5Dim Time",
          "Bactracking 5Dim Time",
          "Bactracking 5Dim Time",
          "Bactracking 5Dim Time",
          "Bactracking 5Dim Time",
          "Bactracking 5Dim Time",
          "Bactracking 5Dim Time",
          "Bactracking 5Dim Time",
          "Bactracking 5Dim Time",
          "Bactracking 5Dim Time",
          "Bactracking 5Dim Time",
          "Bactracking 5Dim Time",
          "Bactracking 5Dim Time",
          "Bactracking 5Dim Time",
          "Bactracking 5Dim Time",
          "Bactracking 5Dim Time",
          "Bactracking 5Dim Time",
          "Bactracking 5Dim Time",
          "Bactracking 5Dim Time",
          "Bactracking 5Dim Time",
          "Bactracking 5Dim Time",
          "Bactracking 5Dim Time",
          "Bactracking 5Dim Time",
          "Bactracking 5Dim Time",
          "Bactracking 5Dim Time",
          "Bactracking 5Dim Time",
          "Bactracking 5Dim Time",
          "Bactracking 5Dim Time",
          "Bactracking 5Dim Time",
          "Bactracking 5Dim Time",
          "Bactracking 5Dim Time",
          "Bactracking 5Dim Time",
          "Bactracking 5Dim Time",
          "Bactracking 5Dim Time",
          "Bactracking 5Dim Time",
          "Bactracking 5Dim Time",
          "Bactracking 5Dim Time",
          "Bactracking 5Dim Time",
          "Bactracking 5Dim Time",
          "Bactracking 5Dim Time",
          "Bactracking 5Dim Time",
          "Bactracking 5Dim Time",
          "Bactracking 5Dim Time",
          "Bactracking 5Dim Time",
          "Bactracking 5Dim Time",
          "Bactracking 5Dim Time",
          "Bactracking 5Dim Time",
          "Bactracking 5Dim Time",
          "Bactracking 5Dim Time",
          "Bactracking 5Dim Time",
          "Bactracking 5Dim Time",
          "Bactracking 5Dim Time",
          "Bactracking 5Dim Time",
          "Bactracking 5Dim Time",
          "Bactracking 5Dim Time",
          "Bactracking 5Dim Time",
          "Bactracking 5Dim Time",
          "Bactracking 5Dim Time",
          "Bactracking 5Dim Time",
          "Bactracking 5Dim Time",
          "Bactracking 5Dim Time",
          "Bactracking 5Dim Time",
          "Bactracking 5Dim Time",
          "Bactracking 5Dim Time"
         ],
         "x0": " ",
         "xaxis": "x",
         "y": [
          0,
          0,
          0,
          0,
          0,
          0,
          0,
          0,
          0,
          0,
          0,
          0,
          0,
          0,
          0,
          0,
          0,
          0,
          0,
          0,
          0,
          0,
          0,
          0,
          0,
          0,
          0,
          0,
          0,
          0,
          0,
          0,
          0,
          0,
          0,
          0,
          0,
          0,
          0,
          0,
          0,
          0,
          0,
          0,
          0,
          0,
          0,
          0,
          0,
          0,
          0,
          0,
          0,
          0,
          0,
          0,
          0,
          0,
          0,
          0,
          0,
          0,
          0,
          0,
          0,
          0,
          0,
          0,
          0,
          0,
          0,
          0,
          0,
          0,
          0,
          0,
          0,
          0,
          0,
          0,
          0,
          0,
          0,
          0,
          0,
          0,
          0,
          0,
          0,
          0,
          0,
          0,
          0,
          0,
          0,
          0,
          0,
          0,
          0,
          0
         ],
         "y0": " ",
         "yaxis": "y"
        },
        {
         "alignmentgroup": "True",
         "hovertemplate": "Algorithm=%{x}<br>Value=%{y}<extra></extra>",
         "legendgroup": "Hill Climbing 5Dim Time",
         "marker": {
          "color": "#EF553B"
         },
         "name": "Hill Climbing 5Dim Time",
         "notched": false,
         "offsetgroup": "Hill Climbing 5Dim Time",
         "orientation": "v",
         "showlegend": true,
         "type": "box",
         "x": [
          "Hill Climbing 5Dim Time",
          "Hill Climbing 5Dim Time",
          "Hill Climbing 5Dim Time",
          "Hill Climbing 5Dim Time",
          "Hill Climbing 5Dim Time",
          "Hill Climbing 5Dim Time",
          "Hill Climbing 5Dim Time",
          "Hill Climbing 5Dim Time",
          "Hill Climbing 5Dim Time",
          "Hill Climbing 5Dim Time",
          "Hill Climbing 5Dim Time",
          "Hill Climbing 5Dim Time",
          "Hill Climbing 5Dim Time",
          "Hill Climbing 5Dim Time",
          "Hill Climbing 5Dim Time",
          "Hill Climbing 5Dim Time",
          "Hill Climbing 5Dim Time",
          "Hill Climbing 5Dim Time",
          "Hill Climbing 5Dim Time",
          "Hill Climbing 5Dim Time",
          "Hill Climbing 5Dim Time",
          "Hill Climbing 5Dim Time",
          "Hill Climbing 5Dim Time",
          "Hill Climbing 5Dim Time",
          "Hill Climbing 5Dim Time",
          "Hill Climbing 5Dim Time",
          "Hill Climbing 5Dim Time",
          "Hill Climbing 5Dim Time",
          "Hill Climbing 5Dim Time",
          "Hill Climbing 5Dim Time",
          "Hill Climbing 5Dim Time",
          "Hill Climbing 5Dim Time",
          "Hill Climbing 5Dim Time",
          "Hill Climbing 5Dim Time",
          "Hill Climbing 5Dim Time",
          "Hill Climbing 5Dim Time",
          "Hill Climbing 5Dim Time",
          "Hill Climbing 5Dim Time",
          "Hill Climbing 5Dim Time",
          "Hill Climbing 5Dim Time",
          "Hill Climbing 5Dim Time",
          "Hill Climbing 5Dim Time",
          "Hill Climbing 5Dim Time",
          "Hill Climbing 5Dim Time",
          "Hill Climbing 5Dim Time",
          "Hill Climbing 5Dim Time",
          "Hill Climbing 5Dim Time",
          "Hill Climbing 5Dim Time",
          "Hill Climbing 5Dim Time",
          "Hill Climbing 5Dim Time",
          "Hill Climbing 5Dim Time",
          "Hill Climbing 5Dim Time",
          "Hill Climbing 5Dim Time",
          "Hill Climbing 5Dim Time",
          "Hill Climbing 5Dim Time",
          "Hill Climbing 5Dim Time",
          "Hill Climbing 5Dim Time",
          "Hill Climbing 5Dim Time",
          "Hill Climbing 5Dim Time",
          "Hill Climbing 5Dim Time",
          "Hill Climbing 5Dim Time",
          "Hill Climbing 5Dim Time",
          "Hill Climbing 5Dim Time",
          "Hill Climbing 5Dim Time",
          "Hill Climbing 5Dim Time",
          "Hill Climbing 5Dim Time",
          "Hill Climbing 5Dim Time",
          "Hill Climbing 5Dim Time",
          "Hill Climbing 5Dim Time",
          "Hill Climbing 5Dim Time",
          "Hill Climbing 5Dim Time",
          "Hill Climbing 5Dim Time",
          "Hill Climbing 5Dim Time",
          "Hill Climbing 5Dim Time",
          "Hill Climbing 5Dim Time",
          "Hill Climbing 5Dim Time",
          "Hill Climbing 5Dim Time",
          "Hill Climbing 5Dim Time",
          "Hill Climbing 5Dim Time",
          "Hill Climbing 5Dim Time",
          "Hill Climbing 5Dim Time",
          "Hill Climbing 5Dim Time",
          "Hill Climbing 5Dim Time",
          "Hill Climbing 5Dim Time",
          "Hill Climbing 5Dim Time",
          "Hill Climbing 5Dim Time",
          "Hill Climbing 5Dim Time",
          "Hill Climbing 5Dim Time",
          "Hill Climbing 5Dim Time",
          "Hill Climbing 5Dim Time",
          "Hill Climbing 5Dim Time",
          "Hill Climbing 5Dim Time",
          "Hill Climbing 5Dim Time",
          "Hill Climbing 5Dim Time",
          "Hill Climbing 5Dim Time",
          "Hill Climbing 5Dim Time",
          "Hill Climbing 5Dim Time",
          "Hill Climbing 5Dim Time",
          "Hill Climbing 5Dim Time",
          "Hill Climbing 5Dim Time"
         ],
         "x0": " ",
         "xaxis": "x",
         "y": [
          3,
          2,
          3,
          3,
          3,
          3,
          3,
          3,
          3,
          3,
          3,
          3,
          3,
          3,
          3,
          3,
          3,
          3,
          3,
          3,
          3,
          3,
          3,
          3,
          3,
          3,
          3,
          3,
          3,
          3,
          3,
          3,
          3,
          3,
          3,
          3,
          3,
          3,
          3,
          3,
          2,
          3,
          3,
          3,
          3,
          3,
          3,
          3,
          3,
          3,
          3,
          3,
          3,
          3,
          3,
          3,
          3,
          3,
          3,
          3,
          3,
          3,
          3,
          3,
          3,
          3,
          3,
          3,
          3,
          3,
          3,
          3,
          3,
          3,
          3,
          3,
          3,
          3,
          3,
          3,
          3,
          3,
          3,
          3,
          3,
          2,
          3,
          3,
          3,
          3,
          3,
          3,
          3,
          3,
          3,
          3,
          3,
          3,
          3,
          3
         ],
         "y0": " ",
         "yaxis": "y"
        },
        {
         "alignmentgroup": "True",
         "hovertemplate": "Algorithm=%{x}<br>Value=%{y}<extra></extra>",
         "legendgroup": "Simulated Annealing 5Dim Time",
         "marker": {
          "color": "#00cc96"
         },
         "name": "Simulated Annealing 5Dim Time",
         "notched": false,
         "offsetgroup": "Simulated Annealing 5Dim Time",
         "orientation": "v",
         "showlegend": true,
         "type": "box",
         "x": [
          "Simulated Annealing 5Dim Time",
          "Simulated Annealing 5Dim Time",
          "Simulated Annealing 5Dim Time",
          "Simulated Annealing 5Dim Time",
          "Simulated Annealing 5Dim Time",
          "Simulated Annealing 5Dim Time",
          "Simulated Annealing 5Dim Time",
          "Simulated Annealing 5Dim Time",
          "Simulated Annealing 5Dim Time",
          "Simulated Annealing 5Dim Time",
          "Simulated Annealing 5Dim Time",
          "Simulated Annealing 5Dim Time",
          "Simulated Annealing 5Dim Time",
          "Simulated Annealing 5Dim Time",
          "Simulated Annealing 5Dim Time",
          "Simulated Annealing 5Dim Time",
          "Simulated Annealing 5Dim Time",
          "Simulated Annealing 5Dim Time",
          "Simulated Annealing 5Dim Time",
          "Simulated Annealing 5Dim Time",
          "Simulated Annealing 5Dim Time",
          "Simulated Annealing 5Dim Time",
          "Simulated Annealing 5Dim Time",
          "Simulated Annealing 5Dim Time",
          "Simulated Annealing 5Dim Time",
          "Simulated Annealing 5Dim Time",
          "Simulated Annealing 5Dim Time",
          "Simulated Annealing 5Dim Time",
          "Simulated Annealing 5Dim Time",
          "Simulated Annealing 5Dim Time",
          "Simulated Annealing 5Dim Time",
          "Simulated Annealing 5Dim Time",
          "Simulated Annealing 5Dim Time",
          "Simulated Annealing 5Dim Time",
          "Simulated Annealing 5Dim Time",
          "Simulated Annealing 5Dim Time",
          "Simulated Annealing 5Dim Time",
          "Simulated Annealing 5Dim Time",
          "Simulated Annealing 5Dim Time",
          "Simulated Annealing 5Dim Time",
          "Simulated Annealing 5Dim Time",
          "Simulated Annealing 5Dim Time",
          "Simulated Annealing 5Dim Time",
          "Simulated Annealing 5Dim Time",
          "Simulated Annealing 5Dim Time",
          "Simulated Annealing 5Dim Time",
          "Simulated Annealing 5Dim Time",
          "Simulated Annealing 5Dim Time",
          "Simulated Annealing 5Dim Time",
          "Simulated Annealing 5Dim Time",
          "Simulated Annealing 5Dim Time",
          "Simulated Annealing 5Dim Time",
          "Simulated Annealing 5Dim Time",
          "Simulated Annealing 5Dim Time",
          "Simulated Annealing 5Dim Time",
          "Simulated Annealing 5Dim Time",
          "Simulated Annealing 5Dim Time",
          "Simulated Annealing 5Dim Time",
          "Simulated Annealing 5Dim Time",
          "Simulated Annealing 5Dim Time",
          "Simulated Annealing 5Dim Time",
          "Simulated Annealing 5Dim Time",
          "Simulated Annealing 5Dim Time",
          "Simulated Annealing 5Dim Time",
          "Simulated Annealing 5Dim Time",
          "Simulated Annealing 5Dim Time",
          "Simulated Annealing 5Dim Time",
          "Simulated Annealing 5Dim Time",
          "Simulated Annealing 5Dim Time",
          "Simulated Annealing 5Dim Time",
          "Simulated Annealing 5Dim Time",
          "Simulated Annealing 5Dim Time",
          "Simulated Annealing 5Dim Time",
          "Simulated Annealing 5Dim Time",
          "Simulated Annealing 5Dim Time",
          "Simulated Annealing 5Dim Time",
          "Simulated Annealing 5Dim Time",
          "Simulated Annealing 5Dim Time",
          "Simulated Annealing 5Dim Time",
          "Simulated Annealing 5Dim Time",
          "Simulated Annealing 5Dim Time",
          "Simulated Annealing 5Dim Time",
          "Simulated Annealing 5Dim Time",
          "Simulated Annealing 5Dim Time",
          "Simulated Annealing 5Dim Time",
          "Simulated Annealing 5Dim Time",
          "Simulated Annealing 5Dim Time",
          "Simulated Annealing 5Dim Time",
          "Simulated Annealing 5Dim Time",
          "Simulated Annealing 5Dim Time",
          "Simulated Annealing 5Dim Time",
          "Simulated Annealing 5Dim Time",
          "Simulated Annealing 5Dim Time",
          "Simulated Annealing 5Dim Time",
          "Simulated Annealing 5Dim Time",
          "Simulated Annealing 5Dim Time",
          "Simulated Annealing 5Dim Time",
          "Simulated Annealing 5Dim Time",
          "Simulated Annealing 5Dim Time",
          "Simulated Annealing 5Dim Time"
         ],
         "x0": " ",
         "xaxis": "x",
         "y": [
          64,
          61,
          62,
          63,
          64,
          62,
          64,
          62,
          69,
          63,
          62,
          63,
          65,
          64,
          63,
          62,
          62,
          62,
          63,
          62,
          62,
          61,
          63,
          62,
          62,
          62,
          62,
          62,
          62,
          61,
          62,
          62,
          62,
          62,
          62,
          62,
          62,
          61,
          61,
          88,
          61,
          62,
          62,
          62,
          62,
          62,
          62,
          62,
          62,
          61,
          61,
          62,
          62,
          62,
          62,
          62,
          62,
          62,
          62,
          62,
          62,
          63,
          62,
          62,
          61,
          63,
          62,
          62,
          63,
          62,
          62,
          62,
          62,
          62,
          61,
          62,
          62,
          62,
          62,
          62,
          62,
          62,
          62,
          62,
          61,
          61,
          62,
          62,
          62,
          62,
          62,
          61,
          62,
          62,
          62,
          62,
          62,
          62,
          62,
          62
         ],
         "y0": " ",
         "yaxis": "y"
        },
        {
         "alignmentgroup": "True",
         "hovertemplate": "Algorithm=%{x}<br>Value=%{y}<extra></extra>",
         "legendgroup": "Genetic Algorithm 5Dim Time",
         "marker": {
          "color": "#ab63fa"
         },
         "name": "Genetic Algorithm 5Dim Time",
         "notched": false,
         "offsetgroup": "Genetic Algorithm 5Dim Time",
         "orientation": "v",
         "showlegend": true,
         "type": "box",
         "x": [
          "Genetic Algorithm 5Dim Time",
          "Genetic Algorithm 5Dim Time",
          "Genetic Algorithm 5Dim Time",
          "Genetic Algorithm 5Dim Time",
          "Genetic Algorithm 5Dim Time",
          "Genetic Algorithm 5Dim Time",
          "Genetic Algorithm 5Dim Time",
          "Genetic Algorithm 5Dim Time",
          "Genetic Algorithm 5Dim Time",
          "Genetic Algorithm 5Dim Time",
          "Genetic Algorithm 5Dim Time",
          "Genetic Algorithm 5Dim Time",
          "Genetic Algorithm 5Dim Time",
          "Genetic Algorithm 5Dim Time",
          "Genetic Algorithm 5Dim Time",
          "Genetic Algorithm 5Dim Time",
          "Genetic Algorithm 5Dim Time",
          "Genetic Algorithm 5Dim Time",
          "Genetic Algorithm 5Dim Time",
          "Genetic Algorithm 5Dim Time",
          "Genetic Algorithm 5Dim Time",
          "Genetic Algorithm 5Dim Time",
          "Genetic Algorithm 5Dim Time",
          "Genetic Algorithm 5Dim Time",
          "Genetic Algorithm 5Dim Time",
          "Genetic Algorithm 5Dim Time",
          "Genetic Algorithm 5Dim Time",
          "Genetic Algorithm 5Dim Time",
          "Genetic Algorithm 5Dim Time",
          "Genetic Algorithm 5Dim Time",
          "Genetic Algorithm 5Dim Time",
          "Genetic Algorithm 5Dim Time",
          "Genetic Algorithm 5Dim Time",
          "Genetic Algorithm 5Dim Time",
          "Genetic Algorithm 5Dim Time",
          "Genetic Algorithm 5Dim Time",
          "Genetic Algorithm 5Dim Time",
          "Genetic Algorithm 5Dim Time",
          "Genetic Algorithm 5Dim Time",
          "Genetic Algorithm 5Dim Time",
          "Genetic Algorithm 5Dim Time",
          "Genetic Algorithm 5Dim Time",
          "Genetic Algorithm 5Dim Time",
          "Genetic Algorithm 5Dim Time",
          "Genetic Algorithm 5Dim Time",
          "Genetic Algorithm 5Dim Time",
          "Genetic Algorithm 5Dim Time",
          "Genetic Algorithm 5Dim Time",
          "Genetic Algorithm 5Dim Time",
          "Genetic Algorithm 5Dim Time",
          "Genetic Algorithm 5Dim Time",
          "Genetic Algorithm 5Dim Time",
          "Genetic Algorithm 5Dim Time",
          "Genetic Algorithm 5Dim Time",
          "Genetic Algorithm 5Dim Time",
          "Genetic Algorithm 5Dim Time",
          "Genetic Algorithm 5Dim Time",
          "Genetic Algorithm 5Dim Time",
          "Genetic Algorithm 5Dim Time",
          "Genetic Algorithm 5Dim Time",
          "Genetic Algorithm 5Dim Time",
          "Genetic Algorithm 5Dim Time",
          "Genetic Algorithm 5Dim Time",
          "Genetic Algorithm 5Dim Time",
          "Genetic Algorithm 5Dim Time",
          "Genetic Algorithm 5Dim Time",
          "Genetic Algorithm 5Dim Time",
          "Genetic Algorithm 5Dim Time",
          "Genetic Algorithm 5Dim Time",
          "Genetic Algorithm 5Dim Time",
          "Genetic Algorithm 5Dim Time",
          "Genetic Algorithm 5Dim Time",
          "Genetic Algorithm 5Dim Time",
          "Genetic Algorithm 5Dim Time",
          "Genetic Algorithm 5Dim Time",
          "Genetic Algorithm 5Dim Time",
          "Genetic Algorithm 5Dim Time",
          "Genetic Algorithm 5Dim Time",
          "Genetic Algorithm 5Dim Time",
          "Genetic Algorithm 5Dim Time",
          "Genetic Algorithm 5Dim Time",
          "Genetic Algorithm 5Dim Time",
          "Genetic Algorithm 5Dim Time",
          "Genetic Algorithm 5Dim Time",
          "Genetic Algorithm 5Dim Time",
          "Genetic Algorithm 5Dim Time",
          "Genetic Algorithm 5Dim Time",
          "Genetic Algorithm 5Dim Time",
          "Genetic Algorithm 5Dim Time",
          "Genetic Algorithm 5Dim Time",
          "Genetic Algorithm 5Dim Time",
          "Genetic Algorithm 5Dim Time",
          "Genetic Algorithm 5Dim Time",
          "Genetic Algorithm 5Dim Time",
          "Genetic Algorithm 5Dim Time",
          "Genetic Algorithm 5Dim Time",
          "Genetic Algorithm 5Dim Time",
          "Genetic Algorithm 5Dim Time",
          "Genetic Algorithm 5Dim Time",
          "Genetic Algorithm 5Dim Time"
         ],
         "x0": " ",
         "xaxis": "x",
         "y": [
          224,
          225,
          224,
          234,
          228,
          228,
          222,
          222,
          251,
          223,
          221,
          226,
          227,
          229,
          224,
          227,
          226,
          223,
          222,
          228,
          220,
          226,
          226,
          223,
          225,
          225,
          223,
          220,
          217,
          222,
          217,
          222,
          224,
          229,
          223,
          222,
          226,
          219,
          221,
          225,
          223,
          227,
          221,
          222,
          223,
          224,
          224,
          220,
          224,
          226,
          222,
          221,
          223,
          222,
          227,
          223,
          221,
          220,
          221,
          222,
          223,
          221,
          223,
          209,
          223,
          223,
          223,
          224,
          225,
          221,
          226,
          224,
          221,
          221,
          224,
          219,
          220,
          223,
          217,
          224,
          223,
          221,
          223,
          224,
          204,
          220,
          225,
          227,
          221,
          223,
          214,
          221,
          222,
          229,
          223,
          225,
          219,
          221,
          223,
          221
         ],
         "y0": " ",
         "yaxis": "y"
        }
       ],
       "layout": {
        "boxmode": "overlay",
        "legend": {
         "title": {
          "text": "Algorithm"
         },
         "tracegroupgap": 0
        },
        "margin": {
         "t": 60
        },
        "template": {
         "data": {
          "bar": [
           {
            "error_x": {
             "color": "#2a3f5f"
            },
            "error_y": {
             "color": "#2a3f5f"
            },
            "marker": {
             "line": {
              "color": "#E5ECF6",
              "width": 0.5
             },
             "pattern": {
              "fillmode": "overlay",
              "size": 10,
              "solidity": 0.2
             }
            },
            "type": "bar"
           }
          ],
          "barpolar": [
           {
            "marker": {
             "line": {
              "color": "#E5ECF6",
              "width": 0.5
             },
             "pattern": {
              "fillmode": "overlay",
              "size": 10,
              "solidity": 0.2
             }
            },
            "type": "barpolar"
           }
          ],
          "carpet": [
           {
            "aaxis": {
             "endlinecolor": "#2a3f5f",
             "gridcolor": "white",
             "linecolor": "white",
             "minorgridcolor": "white",
             "startlinecolor": "#2a3f5f"
            },
            "baxis": {
             "endlinecolor": "#2a3f5f",
             "gridcolor": "white",
             "linecolor": "white",
             "minorgridcolor": "white",
             "startlinecolor": "#2a3f5f"
            },
            "type": "carpet"
           }
          ],
          "choropleth": [
           {
            "colorbar": {
             "outlinewidth": 0,
             "ticks": ""
            },
            "type": "choropleth"
           }
          ],
          "contour": [
           {
            "colorbar": {
             "outlinewidth": 0,
             "ticks": ""
            },
            "colorscale": [
             [
              0,
              "#0d0887"
             ],
             [
              0.1111111111111111,
              "#46039f"
             ],
             [
              0.2222222222222222,
              "#7201a8"
             ],
             [
              0.3333333333333333,
              "#9c179e"
             ],
             [
              0.4444444444444444,
              "#bd3786"
             ],
             [
              0.5555555555555556,
              "#d8576b"
             ],
             [
              0.6666666666666666,
              "#ed7953"
             ],
             [
              0.7777777777777778,
              "#fb9f3a"
             ],
             [
              0.8888888888888888,
              "#fdca26"
             ],
             [
              1,
              "#f0f921"
             ]
            ],
            "type": "contour"
           }
          ],
          "contourcarpet": [
           {
            "colorbar": {
             "outlinewidth": 0,
             "ticks": ""
            },
            "type": "contourcarpet"
           }
          ],
          "heatmap": [
           {
            "colorbar": {
             "outlinewidth": 0,
             "ticks": ""
            },
            "colorscale": [
             [
              0,
              "#0d0887"
             ],
             [
              0.1111111111111111,
              "#46039f"
             ],
             [
              0.2222222222222222,
              "#7201a8"
             ],
             [
              0.3333333333333333,
              "#9c179e"
             ],
             [
              0.4444444444444444,
              "#bd3786"
             ],
             [
              0.5555555555555556,
              "#d8576b"
             ],
             [
              0.6666666666666666,
              "#ed7953"
             ],
             [
              0.7777777777777778,
              "#fb9f3a"
             ],
             [
              0.8888888888888888,
              "#fdca26"
             ],
             [
              1,
              "#f0f921"
             ]
            ],
            "type": "heatmap"
           }
          ],
          "heatmapgl": [
           {
            "colorbar": {
             "outlinewidth": 0,
             "ticks": ""
            },
            "colorscale": [
             [
              0,
              "#0d0887"
             ],
             [
              0.1111111111111111,
              "#46039f"
             ],
             [
              0.2222222222222222,
              "#7201a8"
             ],
             [
              0.3333333333333333,
              "#9c179e"
             ],
             [
              0.4444444444444444,
              "#bd3786"
             ],
             [
              0.5555555555555556,
              "#d8576b"
             ],
             [
              0.6666666666666666,
              "#ed7953"
             ],
             [
              0.7777777777777778,
              "#fb9f3a"
             ],
             [
              0.8888888888888888,
              "#fdca26"
             ],
             [
              1,
              "#f0f921"
             ]
            ],
            "type": "heatmapgl"
           }
          ],
          "histogram": [
           {
            "marker": {
             "pattern": {
              "fillmode": "overlay",
              "size": 10,
              "solidity": 0.2
             }
            },
            "type": "histogram"
           }
          ],
          "histogram2d": [
           {
            "colorbar": {
             "outlinewidth": 0,
             "ticks": ""
            },
            "colorscale": [
             [
              0,
              "#0d0887"
             ],
             [
              0.1111111111111111,
              "#46039f"
             ],
             [
              0.2222222222222222,
              "#7201a8"
             ],
             [
              0.3333333333333333,
              "#9c179e"
             ],
             [
              0.4444444444444444,
              "#bd3786"
             ],
             [
              0.5555555555555556,
              "#d8576b"
             ],
             [
              0.6666666666666666,
              "#ed7953"
             ],
             [
              0.7777777777777778,
              "#fb9f3a"
             ],
             [
              0.8888888888888888,
              "#fdca26"
             ],
             [
              1,
              "#f0f921"
             ]
            ],
            "type": "histogram2d"
           }
          ],
          "histogram2dcontour": [
           {
            "colorbar": {
             "outlinewidth": 0,
             "ticks": ""
            },
            "colorscale": [
             [
              0,
              "#0d0887"
             ],
             [
              0.1111111111111111,
              "#46039f"
             ],
             [
              0.2222222222222222,
              "#7201a8"
             ],
             [
              0.3333333333333333,
              "#9c179e"
             ],
             [
              0.4444444444444444,
              "#bd3786"
             ],
             [
              0.5555555555555556,
              "#d8576b"
             ],
             [
              0.6666666666666666,
              "#ed7953"
             ],
             [
              0.7777777777777778,
              "#fb9f3a"
             ],
             [
              0.8888888888888888,
              "#fdca26"
             ],
             [
              1,
              "#f0f921"
             ]
            ],
            "type": "histogram2dcontour"
           }
          ],
          "mesh3d": [
           {
            "colorbar": {
             "outlinewidth": 0,
             "ticks": ""
            },
            "type": "mesh3d"
           }
          ],
          "parcoords": [
           {
            "line": {
             "colorbar": {
              "outlinewidth": 0,
              "ticks": ""
             }
            },
            "type": "parcoords"
           }
          ],
          "pie": [
           {
            "automargin": true,
            "type": "pie"
           }
          ],
          "scatter": [
           {
            "fillpattern": {
             "fillmode": "overlay",
             "size": 10,
             "solidity": 0.2
            },
            "type": "scatter"
           }
          ],
          "scatter3d": [
           {
            "line": {
             "colorbar": {
              "outlinewidth": 0,
              "ticks": ""
             }
            },
            "marker": {
             "colorbar": {
              "outlinewidth": 0,
              "ticks": ""
             }
            },
            "type": "scatter3d"
           }
          ],
          "scattercarpet": [
           {
            "marker": {
             "colorbar": {
              "outlinewidth": 0,
              "ticks": ""
             }
            },
            "type": "scattercarpet"
           }
          ],
          "scattergeo": [
           {
            "marker": {
             "colorbar": {
              "outlinewidth": 0,
              "ticks": ""
             }
            },
            "type": "scattergeo"
           }
          ],
          "scattergl": [
           {
            "marker": {
             "colorbar": {
              "outlinewidth": 0,
              "ticks": ""
             }
            },
            "type": "scattergl"
           }
          ],
          "scattermapbox": [
           {
            "marker": {
             "colorbar": {
              "outlinewidth": 0,
              "ticks": ""
             }
            },
            "type": "scattermapbox"
           }
          ],
          "scatterpolar": [
           {
            "marker": {
             "colorbar": {
              "outlinewidth": 0,
              "ticks": ""
             }
            },
            "type": "scatterpolar"
           }
          ],
          "scatterpolargl": [
           {
            "marker": {
             "colorbar": {
              "outlinewidth": 0,
              "ticks": ""
             }
            },
            "type": "scatterpolargl"
           }
          ],
          "scatterternary": [
           {
            "marker": {
             "colorbar": {
              "outlinewidth": 0,
              "ticks": ""
             }
            },
            "type": "scatterternary"
           }
          ],
          "surface": [
           {
            "colorbar": {
             "outlinewidth": 0,
             "ticks": ""
            },
            "colorscale": [
             [
              0,
              "#0d0887"
             ],
             [
              0.1111111111111111,
              "#46039f"
             ],
             [
              0.2222222222222222,
              "#7201a8"
             ],
             [
              0.3333333333333333,
              "#9c179e"
             ],
             [
              0.4444444444444444,
              "#bd3786"
             ],
             [
              0.5555555555555556,
              "#d8576b"
             ],
             [
              0.6666666666666666,
              "#ed7953"
             ],
             [
              0.7777777777777778,
              "#fb9f3a"
             ],
             [
              0.8888888888888888,
              "#fdca26"
             ],
             [
              1,
              "#f0f921"
             ]
            ],
            "type": "surface"
           }
          ],
          "table": [
           {
            "cells": {
             "fill": {
              "color": "#EBF0F8"
             },
             "line": {
              "color": "white"
             }
            },
            "header": {
             "fill": {
              "color": "#C8D4E3"
             },
             "line": {
              "color": "white"
             }
            },
            "type": "table"
           }
          ]
         },
         "layout": {
          "annotationdefaults": {
           "arrowcolor": "#2a3f5f",
           "arrowhead": 0,
           "arrowwidth": 1
          },
          "autotypenumbers": "strict",
          "coloraxis": {
           "colorbar": {
            "outlinewidth": 0,
            "ticks": ""
           }
          },
          "colorscale": {
           "diverging": [
            [
             0,
             "#8e0152"
            ],
            [
             0.1,
             "#c51b7d"
            ],
            [
             0.2,
             "#de77ae"
            ],
            [
             0.3,
             "#f1b6da"
            ],
            [
             0.4,
             "#fde0ef"
            ],
            [
             0.5,
             "#f7f7f7"
            ],
            [
             0.6,
             "#e6f5d0"
            ],
            [
             0.7,
             "#b8e186"
            ],
            [
             0.8,
             "#7fbc41"
            ],
            [
             0.9,
             "#4d9221"
            ],
            [
             1,
             "#276419"
            ]
           ],
           "sequential": [
            [
             0,
             "#0d0887"
            ],
            [
             0.1111111111111111,
             "#46039f"
            ],
            [
             0.2222222222222222,
             "#7201a8"
            ],
            [
             0.3333333333333333,
             "#9c179e"
            ],
            [
             0.4444444444444444,
             "#bd3786"
            ],
            [
             0.5555555555555556,
             "#d8576b"
            ],
            [
             0.6666666666666666,
             "#ed7953"
            ],
            [
             0.7777777777777778,
             "#fb9f3a"
            ],
            [
             0.8888888888888888,
             "#fdca26"
            ],
            [
             1,
             "#f0f921"
            ]
           ],
           "sequentialminus": [
            [
             0,
             "#0d0887"
            ],
            [
             0.1111111111111111,
             "#46039f"
            ],
            [
             0.2222222222222222,
             "#7201a8"
            ],
            [
             0.3333333333333333,
             "#9c179e"
            ],
            [
             0.4444444444444444,
             "#bd3786"
            ],
            [
             0.5555555555555556,
             "#d8576b"
            ],
            [
             0.6666666666666666,
             "#ed7953"
            ],
            [
             0.7777777777777778,
             "#fb9f3a"
            ],
            [
             0.8888888888888888,
             "#fdca26"
            ],
            [
             1,
             "#f0f921"
            ]
           ]
          },
          "colorway": [
           "#636efa",
           "#EF553B",
           "#00cc96",
           "#ab63fa",
           "#FFA15A",
           "#19d3f3",
           "#FF6692",
           "#B6E880",
           "#FF97FF",
           "#FECB52"
          ],
          "font": {
           "color": "#2a3f5f"
          },
          "geo": {
           "bgcolor": "white",
           "lakecolor": "white",
           "landcolor": "#E5ECF6",
           "showlakes": true,
           "showland": true,
           "subunitcolor": "white"
          },
          "hoverlabel": {
           "align": "left"
          },
          "hovermode": "closest",
          "mapbox": {
           "style": "light"
          },
          "paper_bgcolor": "white",
          "plot_bgcolor": "#E5ECF6",
          "polar": {
           "angularaxis": {
            "gridcolor": "white",
            "linecolor": "white",
            "ticks": ""
           },
           "bgcolor": "#E5ECF6",
           "radialaxis": {
            "gridcolor": "white",
            "linecolor": "white",
            "ticks": ""
           }
          },
          "scene": {
           "xaxis": {
            "backgroundcolor": "#E5ECF6",
            "gridcolor": "white",
            "gridwidth": 2,
            "linecolor": "white",
            "showbackground": true,
            "ticks": "",
            "zerolinecolor": "white"
           },
           "yaxis": {
            "backgroundcolor": "#E5ECF6",
            "gridcolor": "white",
            "gridwidth": 2,
            "linecolor": "white",
            "showbackground": true,
            "ticks": "",
            "zerolinecolor": "white"
           },
           "zaxis": {
            "backgroundcolor": "#E5ECF6",
            "gridcolor": "white",
            "gridwidth": 2,
            "linecolor": "white",
            "showbackground": true,
            "ticks": "",
            "zerolinecolor": "white"
           }
          },
          "shapedefaults": {
           "line": {
            "color": "#2a3f5f"
           }
          },
          "ternary": {
           "aaxis": {
            "gridcolor": "white",
            "linecolor": "white",
            "ticks": ""
           },
           "baxis": {
            "gridcolor": "white",
            "linecolor": "white",
            "ticks": ""
           },
           "bgcolor": "#E5ECF6",
           "caxis": {
            "gridcolor": "white",
            "linecolor": "white",
            "ticks": ""
           }
          },
          "title": {
           "x": 0.05
          },
          "xaxis": {
           "automargin": true,
           "gridcolor": "white",
           "linecolor": "white",
           "ticks": "",
           "title": {
            "standoff": 15
           },
           "zerolinecolor": "white",
           "zerolinewidth": 2
          },
          "yaxis": {
           "automargin": true,
           "gridcolor": "white",
           "linecolor": "white",
           "ticks": "",
           "title": {
            "standoff": 15
           },
           "zerolinecolor": "white",
           "zerolinewidth": 2
          }
         }
        },
        "title": {
         "text": "5-Queens Problem - Time per Algorithm"
        },
        "xaxis": {
         "anchor": "y",
         "categoryarray": [
          "Bactracking 5Dim Time",
          "Hill Climbing 5Dim Time",
          "Simulated Annealing 5Dim Time",
          "Genetic Algorithm 5Dim Time"
         ],
         "categoryorder": "array",
         "domain": [
          0,
          1
         ],
         "title": {
          "text": "Algorithm"
         }
        },
        "yaxis": {
         "anchor": "x",
         "domain": [
          0,
          1
         ],
         "title": {
          "text": "Time (ms)"
         }
        }
       }
      }
     },
     "metadata": {},
     "output_type": "display_data"
    },
    {
     "data": {
      "application/vnd.plotly.v1+json": {
       "config": {
        "plotlyServerURL": "https://plot.ly"
       },
       "data": [
        {
         "alignmentgroup": "True",
         "hovertemplate": "Algorithm=%{x}<br>Value=%{y}<extra></extra>",
         "legendgroup": "Bactracking 8Dim Fit",
         "marker": {
          "color": "#636efa"
         },
         "name": "Bactracking 8Dim Fit",
         "notched": false,
         "offsetgroup": "Bactracking 8Dim Fit",
         "orientation": "v",
         "showlegend": true,
         "type": "box",
         "x": [
          "Bactracking 8Dim Fit",
          "Bactracking 8Dim Fit",
          "Bactracking 8Dim Fit",
          "Bactracking 8Dim Fit",
          "Bactracking 8Dim Fit",
          "Bactracking 8Dim Fit",
          "Bactracking 8Dim Fit",
          "Bactracking 8Dim Fit",
          "Bactracking 8Dim Fit",
          "Bactracking 8Dim Fit",
          "Bactracking 8Dim Fit",
          "Bactracking 8Dim Fit",
          "Bactracking 8Dim Fit",
          "Bactracking 8Dim Fit",
          "Bactracking 8Dim Fit",
          "Bactracking 8Dim Fit",
          "Bactracking 8Dim Fit",
          "Bactracking 8Dim Fit",
          "Bactracking 8Dim Fit",
          "Bactracking 8Dim Fit",
          "Bactracking 8Dim Fit",
          "Bactracking 8Dim Fit",
          "Bactracking 8Dim Fit",
          "Bactracking 8Dim Fit",
          "Bactracking 8Dim Fit",
          "Bactracking 8Dim Fit",
          "Bactracking 8Dim Fit",
          "Bactracking 8Dim Fit",
          "Bactracking 8Dim Fit",
          "Bactracking 8Dim Fit",
          "Bactracking 8Dim Fit",
          "Bactracking 8Dim Fit",
          "Bactracking 8Dim Fit",
          "Bactracking 8Dim Fit",
          "Bactracking 8Dim Fit",
          "Bactracking 8Dim Fit",
          "Bactracking 8Dim Fit",
          "Bactracking 8Dim Fit",
          "Bactracking 8Dim Fit",
          "Bactracking 8Dim Fit",
          "Bactracking 8Dim Fit",
          "Bactracking 8Dim Fit",
          "Bactracking 8Dim Fit",
          "Bactracking 8Dim Fit",
          "Bactracking 8Dim Fit",
          "Bactracking 8Dim Fit",
          "Bactracking 8Dim Fit",
          "Bactracking 8Dim Fit",
          "Bactracking 8Dim Fit",
          "Bactracking 8Dim Fit",
          "Bactracking 8Dim Fit",
          "Bactracking 8Dim Fit",
          "Bactracking 8Dim Fit",
          "Bactracking 8Dim Fit",
          "Bactracking 8Dim Fit",
          "Bactracking 8Dim Fit",
          "Bactracking 8Dim Fit",
          "Bactracking 8Dim Fit",
          "Bactracking 8Dim Fit",
          "Bactracking 8Dim Fit",
          "Bactracking 8Dim Fit",
          "Bactracking 8Dim Fit",
          "Bactracking 8Dim Fit",
          "Bactracking 8Dim Fit",
          "Bactracking 8Dim Fit",
          "Bactracking 8Dim Fit",
          "Bactracking 8Dim Fit",
          "Bactracking 8Dim Fit",
          "Bactracking 8Dim Fit",
          "Bactracking 8Dim Fit",
          "Bactracking 8Dim Fit",
          "Bactracking 8Dim Fit",
          "Bactracking 8Dim Fit",
          "Bactracking 8Dim Fit",
          "Bactracking 8Dim Fit",
          "Bactracking 8Dim Fit",
          "Bactracking 8Dim Fit",
          "Bactracking 8Dim Fit",
          "Bactracking 8Dim Fit",
          "Bactracking 8Dim Fit",
          "Bactracking 8Dim Fit",
          "Bactracking 8Dim Fit",
          "Bactracking 8Dim Fit",
          "Bactracking 8Dim Fit",
          "Bactracking 8Dim Fit",
          "Bactracking 8Dim Fit",
          "Bactracking 8Dim Fit",
          "Bactracking 8Dim Fit",
          "Bactracking 8Dim Fit",
          "Bactracking 8Dim Fit",
          "Bactracking 8Dim Fit",
          "Bactracking 8Dim Fit",
          "Bactracking 8Dim Fit",
          "Bactracking 8Dim Fit",
          "Bactracking 8Dim Fit",
          "Bactracking 8Dim Fit",
          "Bactracking 8Dim Fit",
          "Bactracking 8Dim Fit",
          "Bactracking 8Dim Fit",
          "Bactracking 8Dim Fit"
         ],
         "x0": " ",
         "xaxis": "x",
         "y": [
          100,
          100,
          100,
          100,
          100,
          100,
          100,
          100,
          100,
          100,
          100,
          100,
          100,
          100,
          100,
          100,
          100,
          100,
          100,
          100,
          100,
          100,
          100,
          100,
          100,
          100,
          100,
          100,
          100,
          100,
          100,
          100,
          100,
          100,
          100,
          100,
          100,
          100,
          100,
          100,
          100,
          100,
          100,
          100,
          100,
          100,
          100,
          100,
          100,
          100,
          100,
          100,
          100,
          100,
          100,
          100,
          100,
          100,
          100,
          100,
          100,
          100,
          100,
          100,
          100,
          100,
          100,
          100,
          100,
          100,
          100,
          100,
          100,
          100,
          100,
          100,
          100,
          100,
          100,
          100,
          100,
          100,
          100,
          100,
          100,
          100,
          100,
          100,
          100,
          100,
          100,
          100,
          100,
          100,
          100,
          100,
          100,
          100,
          100,
          100
         ],
         "y0": " ",
         "yaxis": "y"
        },
        {
         "alignmentgroup": "True",
         "hovertemplate": "Algorithm=%{x}<br>Value=%{y}<extra></extra>",
         "legendgroup": "Hill Climbing 8Dim Fit",
         "marker": {
          "color": "#EF553B"
         },
         "name": "Hill Climbing 8Dim Fit",
         "notched": false,
         "offsetgroup": "Hill Climbing 8Dim Fit",
         "orientation": "v",
         "showlegend": true,
         "type": "box",
         "x": [
          "Hill Climbing 8Dim Fit",
          "Hill Climbing 8Dim Fit",
          "Hill Climbing 8Dim Fit",
          "Hill Climbing 8Dim Fit",
          "Hill Climbing 8Dim Fit",
          "Hill Climbing 8Dim Fit",
          "Hill Climbing 8Dim Fit",
          "Hill Climbing 8Dim Fit",
          "Hill Climbing 8Dim Fit",
          "Hill Climbing 8Dim Fit",
          "Hill Climbing 8Dim Fit",
          "Hill Climbing 8Dim Fit",
          "Hill Climbing 8Dim Fit",
          "Hill Climbing 8Dim Fit",
          "Hill Climbing 8Dim Fit",
          "Hill Climbing 8Dim Fit",
          "Hill Climbing 8Dim Fit",
          "Hill Climbing 8Dim Fit",
          "Hill Climbing 8Dim Fit",
          "Hill Climbing 8Dim Fit",
          "Hill Climbing 8Dim Fit",
          "Hill Climbing 8Dim Fit",
          "Hill Climbing 8Dim Fit",
          "Hill Climbing 8Dim Fit",
          "Hill Climbing 8Dim Fit",
          "Hill Climbing 8Dim Fit",
          "Hill Climbing 8Dim Fit",
          "Hill Climbing 8Dim Fit",
          "Hill Climbing 8Dim Fit",
          "Hill Climbing 8Dim Fit",
          "Hill Climbing 8Dim Fit",
          "Hill Climbing 8Dim Fit",
          "Hill Climbing 8Dim Fit",
          "Hill Climbing 8Dim Fit",
          "Hill Climbing 8Dim Fit",
          "Hill Climbing 8Dim Fit",
          "Hill Climbing 8Dim Fit",
          "Hill Climbing 8Dim Fit",
          "Hill Climbing 8Dim Fit",
          "Hill Climbing 8Dim Fit",
          "Hill Climbing 8Dim Fit",
          "Hill Climbing 8Dim Fit",
          "Hill Climbing 8Dim Fit",
          "Hill Climbing 8Dim Fit",
          "Hill Climbing 8Dim Fit",
          "Hill Climbing 8Dim Fit",
          "Hill Climbing 8Dim Fit",
          "Hill Climbing 8Dim Fit",
          "Hill Climbing 8Dim Fit",
          "Hill Climbing 8Dim Fit",
          "Hill Climbing 8Dim Fit",
          "Hill Climbing 8Dim Fit",
          "Hill Climbing 8Dim Fit",
          "Hill Climbing 8Dim Fit",
          "Hill Climbing 8Dim Fit",
          "Hill Climbing 8Dim Fit",
          "Hill Climbing 8Dim Fit",
          "Hill Climbing 8Dim Fit",
          "Hill Climbing 8Dim Fit",
          "Hill Climbing 8Dim Fit",
          "Hill Climbing 8Dim Fit",
          "Hill Climbing 8Dim Fit",
          "Hill Climbing 8Dim Fit",
          "Hill Climbing 8Dim Fit",
          "Hill Climbing 8Dim Fit",
          "Hill Climbing 8Dim Fit",
          "Hill Climbing 8Dim Fit",
          "Hill Climbing 8Dim Fit",
          "Hill Climbing 8Dim Fit",
          "Hill Climbing 8Dim Fit",
          "Hill Climbing 8Dim Fit",
          "Hill Climbing 8Dim Fit",
          "Hill Climbing 8Dim Fit",
          "Hill Climbing 8Dim Fit",
          "Hill Climbing 8Dim Fit",
          "Hill Climbing 8Dim Fit",
          "Hill Climbing 8Dim Fit",
          "Hill Climbing 8Dim Fit",
          "Hill Climbing 8Dim Fit",
          "Hill Climbing 8Dim Fit",
          "Hill Climbing 8Dim Fit",
          "Hill Climbing 8Dim Fit",
          "Hill Climbing 8Dim Fit",
          "Hill Climbing 8Dim Fit",
          "Hill Climbing 8Dim Fit",
          "Hill Climbing 8Dim Fit",
          "Hill Climbing 8Dim Fit",
          "Hill Climbing 8Dim Fit",
          "Hill Climbing 8Dim Fit",
          "Hill Climbing 8Dim Fit",
          "Hill Climbing 8Dim Fit",
          "Hill Climbing 8Dim Fit",
          "Hill Climbing 8Dim Fit",
          "Hill Climbing 8Dim Fit",
          "Hill Climbing 8Dim Fit",
          "Hill Climbing 8Dim Fit",
          "Hill Climbing 8Dim Fit",
          "Hill Climbing 8Dim Fit",
          "Hill Climbing 8Dim Fit",
          "Hill Climbing 8Dim Fit"
         ],
         "x0": " ",
         "xaxis": "x",
         "y": [
          92.85714285714286,
          92.85714285714286,
          96.42857142857143,
          92.85714285714286,
          92.85714285714286,
          85.71428571428571,
          100,
          92.85714285714286,
          100,
          96.42857142857143,
          96.42857142857143,
          96.42857142857143,
          92.85714285714286,
          92.85714285714286,
          85.71428571428571,
          92.85714285714286,
          96.42857142857143,
          92.85714285714286,
          96.42857142857143,
          92.85714285714286,
          92.85714285714286,
          92.85714285714286,
          92.85714285714286,
          92.85714285714286,
          96.42857142857143,
          92.85714285714286,
          89.28571428571429,
          92.85714285714286,
          92.85714285714286,
          96.42857142857143,
          96.42857142857143,
          89.28571428571429,
          92.85714285714286,
          92.85714285714286,
          89.28571428571429,
          92.85714285714286,
          92.85714285714286,
          96.42857142857143,
          100,
          96.42857142857143,
          96.42857142857143,
          96.42857142857143,
          89.28571428571429,
          96.42857142857143,
          96.42857142857143,
          92.85714285714286,
          92.85714285714286,
          92.85714285714286,
          92.85714285714286,
          100,
          96.42857142857143,
          92.85714285714286,
          92.85714285714286,
          96.42857142857143,
          92.85714285714286,
          96.42857142857143,
          92.85714285714286,
          100,
          96.42857142857143,
          96.42857142857143,
          92.85714285714286,
          96.42857142857143,
          92.85714285714286,
          96.42857142857143,
          96.42857142857143,
          96.42857142857143,
          100,
          96.42857142857143,
          92.85714285714286,
          100,
          89.28571428571429,
          100,
          92.85714285714286,
          96.42857142857143,
          100,
          100,
          96.42857142857143,
          96.42857142857143,
          96.42857142857143,
          89.28571428571429,
          96.42857142857143,
          92.85714285714286,
          96.42857142857143,
          96.42857142857143,
          92.85714285714286,
          89.28571428571429,
          92.85714285714286,
          85.71428571428571,
          96.42857142857143,
          96.42857142857143,
          96.42857142857143,
          92.85714285714286,
          92.85714285714286,
          96.42857142857143,
          96.42857142857143,
          96.42857142857143,
          92.85714285714286,
          89.28571428571429,
          96.42857142857143,
          92.85714285714286
         ],
         "y0": " ",
         "yaxis": "y"
        },
        {
         "alignmentgroup": "True",
         "hovertemplate": "Algorithm=%{x}<br>Value=%{y}<extra></extra>",
         "legendgroup": "Simulated Annealing 8Dim Fit",
         "marker": {
          "color": "#00cc96"
         },
         "name": "Simulated Annealing 8Dim Fit",
         "notched": false,
         "offsetgroup": "Simulated Annealing 8Dim Fit",
         "orientation": "v",
         "showlegend": true,
         "type": "box",
         "x": [
          "Simulated Annealing 8Dim Fit",
          "Simulated Annealing 8Dim Fit",
          "Simulated Annealing 8Dim Fit",
          "Simulated Annealing 8Dim Fit",
          "Simulated Annealing 8Dim Fit",
          "Simulated Annealing 8Dim Fit",
          "Simulated Annealing 8Dim Fit",
          "Simulated Annealing 8Dim Fit",
          "Simulated Annealing 8Dim Fit",
          "Simulated Annealing 8Dim Fit",
          "Simulated Annealing 8Dim Fit",
          "Simulated Annealing 8Dim Fit",
          "Simulated Annealing 8Dim Fit",
          "Simulated Annealing 8Dim Fit",
          "Simulated Annealing 8Dim Fit",
          "Simulated Annealing 8Dim Fit",
          "Simulated Annealing 8Dim Fit",
          "Simulated Annealing 8Dim Fit",
          "Simulated Annealing 8Dim Fit",
          "Simulated Annealing 8Dim Fit",
          "Simulated Annealing 8Dim Fit",
          "Simulated Annealing 8Dim Fit",
          "Simulated Annealing 8Dim Fit",
          "Simulated Annealing 8Dim Fit",
          "Simulated Annealing 8Dim Fit",
          "Simulated Annealing 8Dim Fit",
          "Simulated Annealing 8Dim Fit",
          "Simulated Annealing 8Dim Fit",
          "Simulated Annealing 8Dim Fit",
          "Simulated Annealing 8Dim Fit",
          "Simulated Annealing 8Dim Fit",
          "Simulated Annealing 8Dim Fit",
          "Simulated Annealing 8Dim Fit",
          "Simulated Annealing 8Dim Fit",
          "Simulated Annealing 8Dim Fit",
          "Simulated Annealing 8Dim Fit",
          "Simulated Annealing 8Dim Fit",
          "Simulated Annealing 8Dim Fit",
          "Simulated Annealing 8Dim Fit",
          "Simulated Annealing 8Dim Fit",
          "Simulated Annealing 8Dim Fit",
          "Simulated Annealing 8Dim Fit",
          "Simulated Annealing 8Dim Fit",
          "Simulated Annealing 8Dim Fit",
          "Simulated Annealing 8Dim Fit",
          "Simulated Annealing 8Dim Fit",
          "Simulated Annealing 8Dim Fit",
          "Simulated Annealing 8Dim Fit",
          "Simulated Annealing 8Dim Fit",
          "Simulated Annealing 8Dim Fit",
          "Simulated Annealing 8Dim Fit",
          "Simulated Annealing 8Dim Fit",
          "Simulated Annealing 8Dim Fit",
          "Simulated Annealing 8Dim Fit",
          "Simulated Annealing 8Dim Fit",
          "Simulated Annealing 8Dim Fit",
          "Simulated Annealing 8Dim Fit",
          "Simulated Annealing 8Dim Fit",
          "Simulated Annealing 8Dim Fit",
          "Simulated Annealing 8Dim Fit",
          "Simulated Annealing 8Dim Fit",
          "Simulated Annealing 8Dim Fit",
          "Simulated Annealing 8Dim Fit",
          "Simulated Annealing 8Dim Fit",
          "Simulated Annealing 8Dim Fit",
          "Simulated Annealing 8Dim Fit",
          "Simulated Annealing 8Dim Fit",
          "Simulated Annealing 8Dim Fit",
          "Simulated Annealing 8Dim Fit",
          "Simulated Annealing 8Dim Fit",
          "Simulated Annealing 8Dim Fit",
          "Simulated Annealing 8Dim Fit",
          "Simulated Annealing 8Dim Fit",
          "Simulated Annealing 8Dim Fit",
          "Simulated Annealing 8Dim Fit",
          "Simulated Annealing 8Dim Fit",
          "Simulated Annealing 8Dim Fit",
          "Simulated Annealing 8Dim Fit",
          "Simulated Annealing 8Dim Fit",
          "Simulated Annealing 8Dim Fit",
          "Simulated Annealing 8Dim Fit",
          "Simulated Annealing 8Dim Fit",
          "Simulated Annealing 8Dim Fit",
          "Simulated Annealing 8Dim Fit",
          "Simulated Annealing 8Dim Fit",
          "Simulated Annealing 8Dim Fit",
          "Simulated Annealing 8Dim Fit",
          "Simulated Annealing 8Dim Fit",
          "Simulated Annealing 8Dim Fit",
          "Simulated Annealing 8Dim Fit",
          "Simulated Annealing 8Dim Fit",
          "Simulated Annealing 8Dim Fit",
          "Simulated Annealing 8Dim Fit",
          "Simulated Annealing 8Dim Fit",
          "Simulated Annealing 8Dim Fit",
          "Simulated Annealing 8Dim Fit",
          "Simulated Annealing 8Dim Fit",
          "Simulated Annealing 8Dim Fit",
          "Simulated Annealing 8Dim Fit",
          "Simulated Annealing 8Dim Fit"
         ],
         "x0": " ",
         "xaxis": "x",
         "y": [
          100,
          100,
          96.42857142857143,
          100,
          100,
          100,
          96.42857142857143,
          100,
          100,
          100,
          96.42857142857143,
          100,
          100,
          96.42857142857143,
          100,
          100,
          100,
          100,
          100,
          100,
          100,
          100,
          100,
          96.42857142857143,
          96.42857142857143,
          96.42857142857143,
          100,
          100,
          96.42857142857143,
          100,
          100,
          100,
          100,
          100,
          100,
          100,
          100,
          96.42857142857143,
          96.42857142857143,
          96.42857142857143,
          100,
          96.42857142857143,
          100,
          100,
          100,
          100,
          100,
          100,
          100,
          96.42857142857143,
          100,
          100,
          100,
          100,
          96.42857142857143,
          100,
          100,
          100,
          100,
          100,
          96.42857142857143,
          100,
          100,
          96.42857142857143,
          100,
          96.42857142857143,
          100,
          100,
          100,
          100,
          100,
          100,
          100,
          100,
          96.42857142857143,
          96.42857142857143,
          100,
          100,
          100,
          96.42857142857143,
          100,
          100,
          100,
          100,
          100,
          100,
          100,
          96.42857142857143,
          100,
          96.42857142857143,
          100,
          100,
          96.42857142857143,
          100,
          96.42857142857143,
          100,
          100,
          100,
          100,
          100
         ],
         "y0": " ",
         "yaxis": "y"
        },
        {
         "alignmentgroup": "True",
         "hovertemplate": "Algorithm=%{x}<br>Value=%{y}<extra></extra>",
         "legendgroup": "Genetic Algorithm 8Dim Fit",
         "marker": {
          "color": "#ab63fa"
         },
         "name": "Genetic Algorithm 8Dim Fit",
         "notched": false,
         "offsetgroup": "Genetic Algorithm 8Dim Fit",
         "orientation": "v",
         "showlegend": true,
         "type": "box",
         "x": [
          "Genetic Algorithm 8Dim Fit",
          "Genetic Algorithm 8Dim Fit",
          "Genetic Algorithm 8Dim Fit",
          "Genetic Algorithm 8Dim Fit",
          "Genetic Algorithm 8Dim Fit",
          "Genetic Algorithm 8Dim Fit",
          "Genetic Algorithm 8Dim Fit",
          "Genetic Algorithm 8Dim Fit",
          "Genetic Algorithm 8Dim Fit",
          "Genetic Algorithm 8Dim Fit",
          "Genetic Algorithm 8Dim Fit",
          "Genetic Algorithm 8Dim Fit",
          "Genetic Algorithm 8Dim Fit",
          "Genetic Algorithm 8Dim Fit",
          "Genetic Algorithm 8Dim Fit",
          "Genetic Algorithm 8Dim Fit",
          "Genetic Algorithm 8Dim Fit",
          "Genetic Algorithm 8Dim Fit",
          "Genetic Algorithm 8Dim Fit",
          "Genetic Algorithm 8Dim Fit",
          "Genetic Algorithm 8Dim Fit",
          "Genetic Algorithm 8Dim Fit",
          "Genetic Algorithm 8Dim Fit",
          "Genetic Algorithm 8Dim Fit",
          "Genetic Algorithm 8Dim Fit",
          "Genetic Algorithm 8Dim Fit",
          "Genetic Algorithm 8Dim Fit",
          "Genetic Algorithm 8Dim Fit",
          "Genetic Algorithm 8Dim Fit",
          "Genetic Algorithm 8Dim Fit",
          "Genetic Algorithm 8Dim Fit",
          "Genetic Algorithm 8Dim Fit",
          "Genetic Algorithm 8Dim Fit",
          "Genetic Algorithm 8Dim Fit",
          "Genetic Algorithm 8Dim Fit",
          "Genetic Algorithm 8Dim Fit",
          "Genetic Algorithm 8Dim Fit",
          "Genetic Algorithm 8Dim Fit",
          "Genetic Algorithm 8Dim Fit",
          "Genetic Algorithm 8Dim Fit",
          "Genetic Algorithm 8Dim Fit",
          "Genetic Algorithm 8Dim Fit",
          "Genetic Algorithm 8Dim Fit",
          "Genetic Algorithm 8Dim Fit",
          "Genetic Algorithm 8Dim Fit",
          "Genetic Algorithm 8Dim Fit",
          "Genetic Algorithm 8Dim Fit",
          "Genetic Algorithm 8Dim Fit",
          "Genetic Algorithm 8Dim Fit",
          "Genetic Algorithm 8Dim Fit",
          "Genetic Algorithm 8Dim Fit",
          "Genetic Algorithm 8Dim Fit",
          "Genetic Algorithm 8Dim Fit",
          "Genetic Algorithm 8Dim Fit",
          "Genetic Algorithm 8Dim Fit",
          "Genetic Algorithm 8Dim Fit",
          "Genetic Algorithm 8Dim Fit",
          "Genetic Algorithm 8Dim Fit",
          "Genetic Algorithm 8Dim Fit",
          "Genetic Algorithm 8Dim Fit",
          "Genetic Algorithm 8Dim Fit",
          "Genetic Algorithm 8Dim Fit",
          "Genetic Algorithm 8Dim Fit",
          "Genetic Algorithm 8Dim Fit",
          "Genetic Algorithm 8Dim Fit",
          "Genetic Algorithm 8Dim Fit",
          "Genetic Algorithm 8Dim Fit",
          "Genetic Algorithm 8Dim Fit",
          "Genetic Algorithm 8Dim Fit",
          "Genetic Algorithm 8Dim Fit",
          "Genetic Algorithm 8Dim Fit",
          "Genetic Algorithm 8Dim Fit",
          "Genetic Algorithm 8Dim Fit",
          "Genetic Algorithm 8Dim Fit",
          "Genetic Algorithm 8Dim Fit",
          "Genetic Algorithm 8Dim Fit",
          "Genetic Algorithm 8Dim Fit",
          "Genetic Algorithm 8Dim Fit",
          "Genetic Algorithm 8Dim Fit",
          "Genetic Algorithm 8Dim Fit",
          "Genetic Algorithm 8Dim Fit",
          "Genetic Algorithm 8Dim Fit",
          "Genetic Algorithm 8Dim Fit",
          "Genetic Algorithm 8Dim Fit",
          "Genetic Algorithm 8Dim Fit",
          "Genetic Algorithm 8Dim Fit",
          "Genetic Algorithm 8Dim Fit",
          "Genetic Algorithm 8Dim Fit",
          "Genetic Algorithm 8Dim Fit",
          "Genetic Algorithm 8Dim Fit",
          "Genetic Algorithm 8Dim Fit",
          "Genetic Algorithm 8Dim Fit",
          "Genetic Algorithm 8Dim Fit",
          "Genetic Algorithm 8Dim Fit",
          "Genetic Algorithm 8Dim Fit",
          "Genetic Algorithm 8Dim Fit",
          "Genetic Algorithm 8Dim Fit",
          "Genetic Algorithm 8Dim Fit",
          "Genetic Algorithm 8Dim Fit",
          "Genetic Algorithm 8Dim Fit"
         ],
         "x0": " ",
         "xaxis": "x",
         "y": [
          96.42857142857143,
          100,
          96.42857142857143,
          100,
          100,
          100,
          96.42857142857143,
          96.42857142857143,
          96.42857142857143,
          100,
          96.42857142857143,
          100,
          100,
          96.42857142857143,
          100,
          100,
          96.42857142857143,
          96.42857142857143,
          96.42857142857143,
          96.42857142857143,
          96.42857142857143,
          96.42857142857143,
          100,
          96.42857142857143,
          100,
          96.42857142857143,
          96.42857142857143,
          96.42857142857143,
          100,
          100,
          96.42857142857143,
          100,
          96.42857142857143,
          96.42857142857143,
          96.42857142857143,
          100,
          96.42857142857143,
          100,
          100,
          100,
          96.42857142857143,
          96.42857142857143,
          96.42857142857143,
          96.42857142857143,
          100,
          96.42857142857143,
          100,
          96.42857142857143,
          100,
          100,
          96.42857142857143,
          100,
          96.42857142857143,
          100,
          96.42857142857143,
          100,
          100,
          96.42857142857143,
          96.42857142857143,
          96.42857142857143,
          100,
          100,
          100,
          100,
          96.42857142857143,
          96.42857142857143,
          100,
          96.42857142857143,
          100,
          96.42857142857143,
          96.42857142857143,
          100,
          100,
          96.42857142857143,
          96.42857142857143,
          96.42857142857143,
          100,
          100,
          96.42857142857143,
          100,
          96.42857142857143,
          100,
          100,
          96.42857142857143,
          96.42857142857143,
          92.85714285714286,
          96.42857142857143,
          96.42857142857143,
          100,
          100,
          100,
          96.42857142857143,
          96.42857142857143,
          96.42857142857143,
          96.42857142857143,
          96.42857142857143,
          96.42857142857143,
          100,
          100,
          96.42857142857143
         ],
         "y0": " ",
         "yaxis": "y"
        }
       ],
       "layout": {
        "boxmode": "overlay",
        "legend": {
         "title": {
          "text": "Algorithm"
         },
         "tracegroupgap": 0
        },
        "margin": {
         "t": 60
        },
        "template": {
         "data": {
          "bar": [
           {
            "error_x": {
             "color": "#2a3f5f"
            },
            "error_y": {
             "color": "#2a3f5f"
            },
            "marker": {
             "line": {
              "color": "#E5ECF6",
              "width": 0.5
             },
             "pattern": {
              "fillmode": "overlay",
              "size": 10,
              "solidity": 0.2
             }
            },
            "type": "bar"
           }
          ],
          "barpolar": [
           {
            "marker": {
             "line": {
              "color": "#E5ECF6",
              "width": 0.5
             },
             "pattern": {
              "fillmode": "overlay",
              "size": 10,
              "solidity": 0.2
             }
            },
            "type": "barpolar"
           }
          ],
          "carpet": [
           {
            "aaxis": {
             "endlinecolor": "#2a3f5f",
             "gridcolor": "white",
             "linecolor": "white",
             "minorgridcolor": "white",
             "startlinecolor": "#2a3f5f"
            },
            "baxis": {
             "endlinecolor": "#2a3f5f",
             "gridcolor": "white",
             "linecolor": "white",
             "minorgridcolor": "white",
             "startlinecolor": "#2a3f5f"
            },
            "type": "carpet"
           }
          ],
          "choropleth": [
           {
            "colorbar": {
             "outlinewidth": 0,
             "ticks": ""
            },
            "type": "choropleth"
           }
          ],
          "contour": [
           {
            "colorbar": {
             "outlinewidth": 0,
             "ticks": ""
            },
            "colorscale": [
             [
              0,
              "#0d0887"
             ],
             [
              0.1111111111111111,
              "#46039f"
             ],
             [
              0.2222222222222222,
              "#7201a8"
             ],
             [
              0.3333333333333333,
              "#9c179e"
             ],
             [
              0.4444444444444444,
              "#bd3786"
             ],
             [
              0.5555555555555556,
              "#d8576b"
             ],
             [
              0.6666666666666666,
              "#ed7953"
             ],
             [
              0.7777777777777778,
              "#fb9f3a"
             ],
             [
              0.8888888888888888,
              "#fdca26"
             ],
             [
              1,
              "#f0f921"
             ]
            ],
            "type": "contour"
           }
          ],
          "contourcarpet": [
           {
            "colorbar": {
             "outlinewidth": 0,
             "ticks": ""
            },
            "type": "contourcarpet"
           }
          ],
          "heatmap": [
           {
            "colorbar": {
             "outlinewidth": 0,
             "ticks": ""
            },
            "colorscale": [
             [
              0,
              "#0d0887"
             ],
             [
              0.1111111111111111,
              "#46039f"
             ],
             [
              0.2222222222222222,
              "#7201a8"
             ],
             [
              0.3333333333333333,
              "#9c179e"
             ],
             [
              0.4444444444444444,
              "#bd3786"
             ],
             [
              0.5555555555555556,
              "#d8576b"
             ],
             [
              0.6666666666666666,
              "#ed7953"
             ],
             [
              0.7777777777777778,
              "#fb9f3a"
             ],
             [
              0.8888888888888888,
              "#fdca26"
             ],
             [
              1,
              "#f0f921"
             ]
            ],
            "type": "heatmap"
           }
          ],
          "heatmapgl": [
           {
            "colorbar": {
             "outlinewidth": 0,
             "ticks": ""
            },
            "colorscale": [
             [
              0,
              "#0d0887"
             ],
             [
              0.1111111111111111,
              "#46039f"
             ],
             [
              0.2222222222222222,
              "#7201a8"
             ],
             [
              0.3333333333333333,
              "#9c179e"
             ],
             [
              0.4444444444444444,
              "#bd3786"
             ],
             [
              0.5555555555555556,
              "#d8576b"
             ],
             [
              0.6666666666666666,
              "#ed7953"
             ],
             [
              0.7777777777777778,
              "#fb9f3a"
             ],
             [
              0.8888888888888888,
              "#fdca26"
             ],
             [
              1,
              "#f0f921"
             ]
            ],
            "type": "heatmapgl"
           }
          ],
          "histogram": [
           {
            "marker": {
             "pattern": {
              "fillmode": "overlay",
              "size": 10,
              "solidity": 0.2
             }
            },
            "type": "histogram"
           }
          ],
          "histogram2d": [
           {
            "colorbar": {
             "outlinewidth": 0,
             "ticks": ""
            },
            "colorscale": [
             [
              0,
              "#0d0887"
             ],
             [
              0.1111111111111111,
              "#46039f"
             ],
             [
              0.2222222222222222,
              "#7201a8"
             ],
             [
              0.3333333333333333,
              "#9c179e"
             ],
             [
              0.4444444444444444,
              "#bd3786"
             ],
             [
              0.5555555555555556,
              "#d8576b"
             ],
             [
              0.6666666666666666,
              "#ed7953"
             ],
             [
              0.7777777777777778,
              "#fb9f3a"
             ],
             [
              0.8888888888888888,
              "#fdca26"
             ],
             [
              1,
              "#f0f921"
             ]
            ],
            "type": "histogram2d"
           }
          ],
          "histogram2dcontour": [
           {
            "colorbar": {
             "outlinewidth": 0,
             "ticks": ""
            },
            "colorscale": [
             [
              0,
              "#0d0887"
             ],
             [
              0.1111111111111111,
              "#46039f"
             ],
             [
              0.2222222222222222,
              "#7201a8"
             ],
             [
              0.3333333333333333,
              "#9c179e"
             ],
             [
              0.4444444444444444,
              "#bd3786"
             ],
             [
              0.5555555555555556,
              "#d8576b"
             ],
             [
              0.6666666666666666,
              "#ed7953"
             ],
             [
              0.7777777777777778,
              "#fb9f3a"
             ],
             [
              0.8888888888888888,
              "#fdca26"
             ],
             [
              1,
              "#f0f921"
             ]
            ],
            "type": "histogram2dcontour"
           }
          ],
          "mesh3d": [
           {
            "colorbar": {
             "outlinewidth": 0,
             "ticks": ""
            },
            "type": "mesh3d"
           }
          ],
          "parcoords": [
           {
            "line": {
             "colorbar": {
              "outlinewidth": 0,
              "ticks": ""
             }
            },
            "type": "parcoords"
           }
          ],
          "pie": [
           {
            "automargin": true,
            "type": "pie"
           }
          ],
          "scatter": [
           {
            "fillpattern": {
             "fillmode": "overlay",
             "size": 10,
             "solidity": 0.2
            },
            "type": "scatter"
           }
          ],
          "scatter3d": [
           {
            "line": {
             "colorbar": {
              "outlinewidth": 0,
              "ticks": ""
             }
            },
            "marker": {
             "colorbar": {
              "outlinewidth": 0,
              "ticks": ""
             }
            },
            "type": "scatter3d"
           }
          ],
          "scattercarpet": [
           {
            "marker": {
             "colorbar": {
              "outlinewidth": 0,
              "ticks": ""
             }
            },
            "type": "scattercarpet"
           }
          ],
          "scattergeo": [
           {
            "marker": {
             "colorbar": {
              "outlinewidth": 0,
              "ticks": ""
             }
            },
            "type": "scattergeo"
           }
          ],
          "scattergl": [
           {
            "marker": {
             "colorbar": {
              "outlinewidth": 0,
              "ticks": ""
             }
            },
            "type": "scattergl"
           }
          ],
          "scattermapbox": [
           {
            "marker": {
             "colorbar": {
              "outlinewidth": 0,
              "ticks": ""
             }
            },
            "type": "scattermapbox"
           }
          ],
          "scatterpolar": [
           {
            "marker": {
             "colorbar": {
              "outlinewidth": 0,
              "ticks": ""
             }
            },
            "type": "scatterpolar"
           }
          ],
          "scatterpolargl": [
           {
            "marker": {
             "colorbar": {
              "outlinewidth": 0,
              "ticks": ""
             }
            },
            "type": "scatterpolargl"
           }
          ],
          "scatterternary": [
           {
            "marker": {
             "colorbar": {
              "outlinewidth": 0,
              "ticks": ""
             }
            },
            "type": "scatterternary"
           }
          ],
          "surface": [
           {
            "colorbar": {
             "outlinewidth": 0,
             "ticks": ""
            },
            "colorscale": [
             [
              0,
              "#0d0887"
             ],
             [
              0.1111111111111111,
              "#46039f"
             ],
             [
              0.2222222222222222,
              "#7201a8"
             ],
             [
              0.3333333333333333,
              "#9c179e"
             ],
             [
              0.4444444444444444,
              "#bd3786"
             ],
             [
              0.5555555555555556,
              "#d8576b"
             ],
             [
              0.6666666666666666,
              "#ed7953"
             ],
             [
              0.7777777777777778,
              "#fb9f3a"
             ],
             [
              0.8888888888888888,
              "#fdca26"
             ],
             [
              1,
              "#f0f921"
             ]
            ],
            "type": "surface"
           }
          ],
          "table": [
           {
            "cells": {
             "fill": {
              "color": "#EBF0F8"
             },
             "line": {
              "color": "white"
             }
            },
            "header": {
             "fill": {
              "color": "#C8D4E3"
             },
             "line": {
              "color": "white"
             }
            },
            "type": "table"
           }
          ]
         },
         "layout": {
          "annotationdefaults": {
           "arrowcolor": "#2a3f5f",
           "arrowhead": 0,
           "arrowwidth": 1
          },
          "autotypenumbers": "strict",
          "coloraxis": {
           "colorbar": {
            "outlinewidth": 0,
            "ticks": ""
           }
          },
          "colorscale": {
           "diverging": [
            [
             0,
             "#8e0152"
            ],
            [
             0.1,
             "#c51b7d"
            ],
            [
             0.2,
             "#de77ae"
            ],
            [
             0.3,
             "#f1b6da"
            ],
            [
             0.4,
             "#fde0ef"
            ],
            [
             0.5,
             "#f7f7f7"
            ],
            [
             0.6,
             "#e6f5d0"
            ],
            [
             0.7,
             "#b8e186"
            ],
            [
             0.8,
             "#7fbc41"
            ],
            [
             0.9,
             "#4d9221"
            ],
            [
             1,
             "#276419"
            ]
           ],
           "sequential": [
            [
             0,
             "#0d0887"
            ],
            [
             0.1111111111111111,
             "#46039f"
            ],
            [
             0.2222222222222222,
             "#7201a8"
            ],
            [
             0.3333333333333333,
             "#9c179e"
            ],
            [
             0.4444444444444444,
             "#bd3786"
            ],
            [
             0.5555555555555556,
             "#d8576b"
            ],
            [
             0.6666666666666666,
             "#ed7953"
            ],
            [
             0.7777777777777778,
             "#fb9f3a"
            ],
            [
             0.8888888888888888,
             "#fdca26"
            ],
            [
             1,
             "#f0f921"
            ]
           ],
           "sequentialminus": [
            [
             0,
             "#0d0887"
            ],
            [
             0.1111111111111111,
             "#46039f"
            ],
            [
             0.2222222222222222,
             "#7201a8"
            ],
            [
             0.3333333333333333,
             "#9c179e"
            ],
            [
             0.4444444444444444,
             "#bd3786"
            ],
            [
             0.5555555555555556,
             "#d8576b"
            ],
            [
             0.6666666666666666,
             "#ed7953"
            ],
            [
             0.7777777777777778,
             "#fb9f3a"
            ],
            [
             0.8888888888888888,
             "#fdca26"
            ],
            [
             1,
             "#f0f921"
            ]
           ]
          },
          "colorway": [
           "#636efa",
           "#EF553B",
           "#00cc96",
           "#ab63fa",
           "#FFA15A",
           "#19d3f3",
           "#FF6692",
           "#B6E880",
           "#FF97FF",
           "#FECB52"
          ],
          "font": {
           "color": "#2a3f5f"
          },
          "geo": {
           "bgcolor": "white",
           "lakecolor": "white",
           "landcolor": "#E5ECF6",
           "showlakes": true,
           "showland": true,
           "subunitcolor": "white"
          },
          "hoverlabel": {
           "align": "left"
          },
          "hovermode": "closest",
          "mapbox": {
           "style": "light"
          },
          "paper_bgcolor": "white",
          "plot_bgcolor": "#E5ECF6",
          "polar": {
           "angularaxis": {
            "gridcolor": "white",
            "linecolor": "white",
            "ticks": ""
           },
           "bgcolor": "#E5ECF6",
           "radialaxis": {
            "gridcolor": "white",
            "linecolor": "white",
            "ticks": ""
           }
          },
          "scene": {
           "xaxis": {
            "backgroundcolor": "#E5ECF6",
            "gridcolor": "white",
            "gridwidth": 2,
            "linecolor": "white",
            "showbackground": true,
            "ticks": "",
            "zerolinecolor": "white"
           },
           "yaxis": {
            "backgroundcolor": "#E5ECF6",
            "gridcolor": "white",
            "gridwidth": 2,
            "linecolor": "white",
            "showbackground": true,
            "ticks": "",
            "zerolinecolor": "white"
           },
           "zaxis": {
            "backgroundcolor": "#E5ECF6",
            "gridcolor": "white",
            "gridwidth": 2,
            "linecolor": "white",
            "showbackground": true,
            "ticks": "",
            "zerolinecolor": "white"
           }
          },
          "shapedefaults": {
           "line": {
            "color": "#2a3f5f"
           }
          },
          "ternary": {
           "aaxis": {
            "gridcolor": "white",
            "linecolor": "white",
            "ticks": ""
           },
           "baxis": {
            "gridcolor": "white",
            "linecolor": "white",
            "ticks": ""
           },
           "bgcolor": "#E5ECF6",
           "caxis": {
            "gridcolor": "white",
            "linecolor": "white",
            "ticks": ""
           }
          },
          "title": {
           "x": 0.05
          },
          "xaxis": {
           "automargin": true,
           "gridcolor": "white",
           "linecolor": "white",
           "ticks": "",
           "title": {
            "standoff": 15
           },
           "zerolinecolor": "white",
           "zerolinewidth": 2
          },
          "yaxis": {
           "automargin": true,
           "gridcolor": "white",
           "linecolor": "white",
           "ticks": "",
           "title": {
            "standoff": 15
           },
           "zerolinecolor": "white",
           "zerolinewidth": 2
          }
         }
        },
        "title": {
         "text": "8-Queens Problem - Fitness per Algorithm"
        },
        "xaxis": {
         "anchor": "y",
         "categoryarray": [
          "Bactracking 8Dim Fit",
          "Hill Climbing 8Dim Fit",
          "Simulated Annealing 8Dim Fit",
          "Genetic Algorithm 8Dim Fit"
         ],
         "categoryorder": "array",
         "domain": [
          0,
          1
         ],
         "title": {
          "text": "Algorithm"
         }
        },
        "yaxis": {
         "anchor": "x",
         "domain": [
          0,
          1
         ],
         "title": {
          "text": "Fitness"
         }
        }
       }
      }
     },
     "metadata": {},
     "output_type": "display_data"
    },
    {
     "data": {
      "application/vnd.plotly.v1+json": {
       "config": {
        "plotlyServerURL": "https://plot.ly"
       },
       "data": [
        {
         "alignmentgroup": "True",
         "hovertemplate": "Algorithm=%{x}<br>Value=%{y}<extra></extra>",
         "legendgroup": "Bactracking 8Dim Time",
         "marker": {
          "color": "#636efa"
         },
         "name": "Bactracking 8Dim Time",
         "notched": false,
         "offsetgroup": "Bactracking 8Dim Time",
         "orientation": "v",
         "showlegend": true,
         "type": "box",
         "x": [
          "Bactracking 8Dim Time",
          "Bactracking 8Dim Time",
          "Bactracking 8Dim Time",
          "Bactracking 8Dim Time",
          "Bactracking 8Dim Time",
          "Bactracking 8Dim Time",
          "Bactracking 8Dim Time",
          "Bactracking 8Dim Time",
          "Bactracking 8Dim Time",
          "Bactracking 8Dim Time",
          "Bactracking 8Dim Time",
          "Bactracking 8Dim Time",
          "Bactracking 8Dim Time",
          "Bactracking 8Dim Time",
          "Bactracking 8Dim Time",
          "Bactracking 8Dim Time",
          "Bactracking 8Dim Time",
          "Bactracking 8Dim Time",
          "Bactracking 8Dim Time",
          "Bactracking 8Dim Time",
          "Bactracking 8Dim Time",
          "Bactracking 8Dim Time",
          "Bactracking 8Dim Time",
          "Bactracking 8Dim Time",
          "Bactracking 8Dim Time",
          "Bactracking 8Dim Time",
          "Bactracking 8Dim Time",
          "Bactracking 8Dim Time",
          "Bactracking 8Dim Time",
          "Bactracking 8Dim Time",
          "Bactracking 8Dim Time",
          "Bactracking 8Dim Time",
          "Bactracking 8Dim Time",
          "Bactracking 8Dim Time",
          "Bactracking 8Dim Time",
          "Bactracking 8Dim Time",
          "Bactracking 8Dim Time",
          "Bactracking 8Dim Time",
          "Bactracking 8Dim Time",
          "Bactracking 8Dim Time",
          "Bactracking 8Dim Time",
          "Bactracking 8Dim Time",
          "Bactracking 8Dim Time",
          "Bactracking 8Dim Time",
          "Bactracking 8Dim Time",
          "Bactracking 8Dim Time",
          "Bactracking 8Dim Time",
          "Bactracking 8Dim Time",
          "Bactracking 8Dim Time",
          "Bactracking 8Dim Time",
          "Bactracking 8Dim Time",
          "Bactracking 8Dim Time",
          "Bactracking 8Dim Time",
          "Bactracking 8Dim Time",
          "Bactracking 8Dim Time",
          "Bactracking 8Dim Time",
          "Bactracking 8Dim Time",
          "Bactracking 8Dim Time",
          "Bactracking 8Dim Time",
          "Bactracking 8Dim Time",
          "Bactracking 8Dim Time",
          "Bactracking 8Dim Time",
          "Bactracking 8Dim Time",
          "Bactracking 8Dim Time",
          "Bactracking 8Dim Time",
          "Bactracking 8Dim Time",
          "Bactracking 8Dim Time",
          "Bactracking 8Dim Time",
          "Bactracking 8Dim Time",
          "Bactracking 8Dim Time",
          "Bactracking 8Dim Time",
          "Bactracking 8Dim Time",
          "Bactracking 8Dim Time",
          "Bactracking 8Dim Time",
          "Bactracking 8Dim Time",
          "Bactracking 8Dim Time",
          "Bactracking 8Dim Time",
          "Bactracking 8Dim Time",
          "Bactracking 8Dim Time",
          "Bactracking 8Dim Time",
          "Bactracking 8Dim Time",
          "Bactracking 8Dim Time",
          "Bactracking 8Dim Time",
          "Bactracking 8Dim Time",
          "Bactracking 8Dim Time",
          "Bactracking 8Dim Time",
          "Bactracking 8Dim Time",
          "Bactracking 8Dim Time",
          "Bactracking 8Dim Time",
          "Bactracking 8Dim Time",
          "Bactracking 8Dim Time",
          "Bactracking 8Dim Time",
          "Bactracking 8Dim Time",
          "Bactracking 8Dim Time",
          "Bactracking 8Dim Time",
          "Bactracking 8Dim Time",
          "Bactracking 8Dim Time",
          "Bactracking 8Dim Time",
          "Bactracking 8Dim Time",
          "Bactracking 8Dim Time"
         ],
         "x0": " ",
         "xaxis": "x",
         "y": [
          1,
          1,
          1,
          1,
          1,
          1,
          1,
          1,
          1,
          1,
          1,
          1,
          1,
          1,
          1,
          1,
          1,
          1,
          1,
          1,
          1,
          1,
          1,
          1,
          1,
          1,
          1,
          1,
          1,
          1,
          1,
          1,
          2,
          1,
          1,
          1,
          1,
          1,
          1,
          1,
          1,
          1,
          1,
          1,
          1,
          1,
          1,
          1,
          1,
          1,
          1,
          1,
          1,
          1,
          1,
          1,
          1,
          1,
          1,
          1,
          1,
          1,
          1,
          1,
          1,
          1,
          1,
          1,
          1,
          1,
          1,
          1,
          1,
          1,
          1,
          1,
          1,
          1,
          1,
          1,
          1,
          1,
          1,
          1,
          1,
          1,
          1,
          1,
          1,
          1,
          1,
          1,
          1,
          1,
          1,
          1,
          1,
          1,
          1,
          1
         ],
         "y0": " ",
         "yaxis": "y"
        },
        {
         "alignmentgroup": "True",
         "hovertemplate": "Algorithm=%{x}<br>Value=%{y}<extra></extra>",
         "legendgroup": "Hill Climbing 8Dim Time",
         "marker": {
          "color": "#EF553B"
         },
         "name": "Hill Climbing 8Dim Time",
         "notched": false,
         "offsetgroup": "Hill Climbing 8Dim Time",
         "orientation": "v",
         "showlegend": true,
         "type": "box",
         "x": [
          "Hill Climbing 8Dim Time",
          "Hill Climbing 8Dim Time",
          "Hill Climbing 8Dim Time",
          "Hill Climbing 8Dim Time",
          "Hill Climbing 8Dim Time",
          "Hill Climbing 8Dim Time",
          "Hill Climbing 8Dim Time",
          "Hill Climbing 8Dim Time",
          "Hill Climbing 8Dim Time",
          "Hill Climbing 8Dim Time",
          "Hill Climbing 8Dim Time",
          "Hill Climbing 8Dim Time",
          "Hill Climbing 8Dim Time",
          "Hill Climbing 8Dim Time",
          "Hill Climbing 8Dim Time",
          "Hill Climbing 8Dim Time",
          "Hill Climbing 8Dim Time",
          "Hill Climbing 8Dim Time",
          "Hill Climbing 8Dim Time",
          "Hill Climbing 8Dim Time",
          "Hill Climbing 8Dim Time",
          "Hill Climbing 8Dim Time",
          "Hill Climbing 8Dim Time",
          "Hill Climbing 8Dim Time",
          "Hill Climbing 8Dim Time",
          "Hill Climbing 8Dim Time",
          "Hill Climbing 8Dim Time",
          "Hill Climbing 8Dim Time",
          "Hill Climbing 8Dim Time",
          "Hill Climbing 8Dim Time",
          "Hill Climbing 8Dim Time",
          "Hill Climbing 8Dim Time",
          "Hill Climbing 8Dim Time",
          "Hill Climbing 8Dim Time",
          "Hill Climbing 8Dim Time",
          "Hill Climbing 8Dim Time",
          "Hill Climbing 8Dim Time",
          "Hill Climbing 8Dim Time",
          "Hill Climbing 8Dim Time",
          "Hill Climbing 8Dim Time",
          "Hill Climbing 8Dim Time",
          "Hill Climbing 8Dim Time",
          "Hill Climbing 8Dim Time",
          "Hill Climbing 8Dim Time",
          "Hill Climbing 8Dim Time",
          "Hill Climbing 8Dim Time",
          "Hill Climbing 8Dim Time",
          "Hill Climbing 8Dim Time",
          "Hill Climbing 8Dim Time",
          "Hill Climbing 8Dim Time",
          "Hill Climbing 8Dim Time",
          "Hill Climbing 8Dim Time",
          "Hill Climbing 8Dim Time",
          "Hill Climbing 8Dim Time",
          "Hill Climbing 8Dim Time",
          "Hill Climbing 8Dim Time",
          "Hill Climbing 8Dim Time",
          "Hill Climbing 8Dim Time",
          "Hill Climbing 8Dim Time",
          "Hill Climbing 8Dim Time",
          "Hill Climbing 8Dim Time",
          "Hill Climbing 8Dim Time",
          "Hill Climbing 8Dim Time",
          "Hill Climbing 8Dim Time",
          "Hill Climbing 8Dim Time",
          "Hill Climbing 8Dim Time",
          "Hill Climbing 8Dim Time",
          "Hill Climbing 8Dim Time",
          "Hill Climbing 8Dim Time",
          "Hill Climbing 8Dim Time",
          "Hill Climbing 8Dim Time",
          "Hill Climbing 8Dim Time",
          "Hill Climbing 8Dim Time",
          "Hill Climbing 8Dim Time",
          "Hill Climbing 8Dim Time",
          "Hill Climbing 8Dim Time",
          "Hill Climbing 8Dim Time",
          "Hill Climbing 8Dim Time",
          "Hill Climbing 8Dim Time",
          "Hill Climbing 8Dim Time",
          "Hill Climbing 8Dim Time",
          "Hill Climbing 8Dim Time",
          "Hill Climbing 8Dim Time",
          "Hill Climbing 8Dim Time",
          "Hill Climbing 8Dim Time",
          "Hill Climbing 8Dim Time",
          "Hill Climbing 8Dim Time",
          "Hill Climbing 8Dim Time",
          "Hill Climbing 8Dim Time",
          "Hill Climbing 8Dim Time",
          "Hill Climbing 8Dim Time",
          "Hill Climbing 8Dim Time",
          "Hill Climbing 8Dim Time",
          "Hill Climbing 8Dim Time",
          "Hill Climbing 8Dim Time",
          "Hill Climbing 8Dim Time",
          "Hill Climbing 8Dim Time",
          "Hill Climbing 8Dim Time",
          "Hill Climbing 8Dim Time",
          "Hill Climbing 8Dim Time"
         ],
         "x0": " ",
         "xaxis": "x",
         "y": [
          16,
          16,
          17,
          16,
          16,
          17,
          17,
          16,
          16,
          16,
          16,
          16,
          16,
          16,
          16,
          16,
          16,
          16,
          16,
          16,
          16,
          17,
          16,
          16,
          16,
          16,
          16,
          16,
          16,
          16,
          16,
          16,
          16,
          17,
          16,
          16,
          16,
          17,
          16,
          16,
          16,
          16,
          16,
          17,
          16,
          16,
          16,
          16,
          16,
          17,
          16,
          16,
          16,
          17,
          17,
          17,
          16,
          16,
          17,
          16,
          17,
          16,
          16,
          17,
          17,
          16,
          17,
          16,
          17,
          17,
          16,
          16,
          16,
          17,
          17,
          16,
          16,
          16,
          16,
          16,
          17,
          16,
          16,
          17,
          16,
          16,
          16,
          16,
          16,
          16,
          16,
          17,
          16,
          17,
          17,
          17,
          16,
          17,
          16,
          17
         ],
         "y0": " ",
         "yaxis": "y"
        },
        {
         "alignmentgroup": "True",
         "hovertemplate": "Algorithm=%{x}<br>Value=%{y}<extra></extra>",
         "legendgroup": "Simulated Annealing 8Dim Time",
         "marker": {
          "color": "#00cc96"
         },
         "name": "Simulated Annealing 8Dim Time",
         "notched": false,
         "offsetgroup": "Simulated Annealing 8Dim Time",
         "orientation": "v",
         "showlegend": true,
         "type": "box",
         "x": [
          "Simulated Annealing 8Dim Time",
          "Simulated Annealing 8Dim Time",
          "Simulated Annealing 8Dim Time",
          "Simulated Annealing 8Dim Time",
          "Simulated Annealing 8Dim Time",
          "Simulated Annealing 8Dim Time",
          "Simulated Annealing 8Dim Time",
          "Simulated Annealing 8Dim Time",
          "Simulated Annealing 8Dim Time",
          "Simulated Annealing 8Dim Time",
          "Simulated Annealing 8Dim Time",
          "Simulated Annealing 8Dim Time",
          "Simulated Annealing 8Dim Time",
          "Simulated Annealing 8Dim Time",
          "Simulated Annealing 8Dim Time",
          "Simulated Annealing 8Dim Time",
          "Simulated Annealing 8Dim Time",
          "Simulated Annealing 8Dim Time",
          "Simulated Annealing 8Dim Time",
          "Simulated Annealing 8Dim Time",
          "Simulated Annealing 8Dim Time",
          "Simulated Annealing 8Dim Time",
          "Simulated Annealing 8Dim Time",
          "Simulated Annealing 8Dim Time",
          "Simulated Annealing 8Dim Time",
          "Simulated Annealing 8Dim Time",
          "Simulated Annealing 8Dim Time",
          "Simulated Annealing 8Dim Time",
          "Simulated Annealing 8Dim Time",
          "Simulated Annealing 8Dim Time",
          "Simulated Annealing 8Dim Time",
          "Simulated Annealing 8Dim Time",
          "Simulated Annealing 8Dim Time",
          "Simulated Annealing 8Dim Time",
          "Simulated Annealing 8Dim Time",
          "Simulated Annealing 8Dim Time",
          "Simulated Annealing 8Dim Time",
          "Simulated Annealing 8Dim Time",
          "Simulated Annealing 8Dim Time",
          "Simulated Annealing 8Dim Time",
          "Simulated Annealing 8Dim Time",
          "Simulated Annealing 8Dim Time",
          "Simulated Annealing 8Dim Time",
          "Simulated Annealing 8Dim Time",
          "Simulated Annealing 8Dim Time",
          "Simulated Annealing 8Dim Time",
          "Simulated Annealing 8Dim Time",
          "Simulated Annealing 8Dim Time",
          "Simulated Annealing 8Dim Time",
          "Simulated Annealing 8Dim Time",
          "Simulated Annealing 8Dim Time",
          "Simulated Annealing 8Dim Time",
          "Simulated Annealing 8Dim Time",
          "Simulated Annealing 8Dim Time",
          "Simulated Annealing 8Dim Time",
          "Simulated Annealing 8Dim Time",
          "Simulated Annealing 8Dim Time",
          "Simulated Annealing 8Dim Time",
          "Simulated Annealing 8Dim Time",
          "Simulated Annealing 8Dim Time",
          "Simulated Annealing 8Dim Time",
          "Simulated Annealing 8Dim Time",
          "Simulated Annealing 8Dim Time",
          "Simulated Annealing 8Dim Time",
          "Simulated Annealing 8Dim Time",
          "Simulated Annealing 8Dim Time",
          "Simulated Annealing 8Dim Time",
          "Simulated Annealing 8Dim Time",
          "Simulated Annealing 8Dim Time",
          "Simulated Annealing 8Dim Time",
          "Simulated Annealing 8Dim Time",
          "Simulated Annealing 8Dim Time",
          "Simulated Annealing 8Dim Time",
          "Simulated Annealing 8Dim Time",
          "Simulated Annealing 8Dim Time",
          "Simulated Annealing 8Dim Time",
          "Simulated Annealing 8Dim Time",
          "Simulated Annealing 8Dim Time",
          "Simulated Annealing 8Dim Time",
          "Simulated Annealing 8Dim Time",
          "Simulated Annealing 8Dim Time",
          "Simulated Annealing 8Dim Time",
          "Simulated Annealing 8Dim Time",
          "Simulated Annealing 8Dim Time",
          "Simulated Annealing 8Dim Time",
          "Simulated Annealing 8Dim Time",
          "Simulated Annealing 8Dim Time",
          "Simulated Annealing 8Dim Time",
          "Simulated Annealing 8Dim Time",
          "Simulated Annealing 8Dim Time",
          "Simulated Annealing 8Dim Time",
          "Simulated Annealing 8Dim Time",
          "Simulated Annealing 8Dim Time",
          "Simulated Annealing 8Dim Time",
          "Simulated Annealing 8Dim Time",
          "Simulated Annealing 8Dim Time",
          "Simulated Annealing 8Dim Time",
          "Simulated Annealing 8Dim Time",
          "Simulated Annealing 8Dim Time",
          "Simulated Annealing 8Dim Time"
         ],
         "x0": " ",
         "xaxis": "x",
         "y": [
          332,
          333,
          331,
          332,
          331,
          334,
          332,
          331,
          333,
          335,
          332,
          332,
          333,
          331,
          333,
          331,
          332,
          331,
          332,
          334,
          331,
          334,
          331,
          331,
          334,
          330,
          334,
          332,
          333,
          330,
          335,
          331,
          333,
          332,
          332,
          333,
          333,
          333,
          333,
          333,
          331,
          331,
          331,
          332,
          333,
          333,
          335,
          333,
          332,
          332,
          333,
          332,
          333,
          333,
          332,
          334,
          330,
          331,
          333,
          333,
          332,
          332,
          332,
          331,
          333,
          332,
          333,
          332,
          333,
          333,
          332,
          335,
          334,
          332,
          331,
          333,
          332,
          333,
          332,
          334,
          335,
          332,
          335,
          334,
          330,
          332,
          334,
          331,
          334,
          332,
          332,
          333,
          333,
          331,
          333,
          330,
          334,
          331,
          333,
          332
         ],
         "y0": " ",
         "yaxis": "y"
        },
        {
         "alignmentgroup": "True",
         "hovertemplate": "Algorithm=%{x}<br>Value=%{y}<extra></extra>",
         "legendgroup": "Genetic Algorithm 8Dim Time",
         "marker": {
          "color": "#ab63fa"
         },
         "name": "Genetic Algorithm 8Dim Time",
         "notched": false,
         "offsetgroup": "Genetic Algorithm 8Dim Time",
         "orientation": "v",
         "showlegend": true,
         "type": "box",
         "x": [
          "Genetic Algorithm 8Dim Time",
          "Genetic Algorithm 8Dim Time",
          "Genetic Algorithm 8Dim Time",
          "Genetic Algorithm 8Dim Time",
          "Genetic Algorithm 8Dim Time",
          "Genetic Algorithm 8Dim Time",
          "Genetic Algorithm 8Dim Time",
          "Genetic Algorithm 8Dim Time",
          "Genetic Algorithm 8Dim Time",
          "Genetic Algorithm 8Dim Time",
          "Genetic Algorithm 8Dim Time",
          "Genetic Algorithm 8Dim Time",
          "Genetic Algorithm 8Dim Time",
          "Genetic Algorithm 8Dim Time",
          "Genetic Algorithm 8Dim Time",
          "Genetic Algorithm 8Dim Time",
          "Genetic Algorithm 8Dim Time",
          "Genetic Algorithm 8Dim Time",
          "Genetic Algorithm 8Dim Time",
          "Genetic Algorithm 8Dim Time",
          "Genetic Algorithm 8Dim Time",
          "Genetic Algorithm 8Dim Time",
          "Genetic Algorithm 8Dim Time",
          "Genetic Algorithm 8Dim Time",
          "Genetic Algorithm 8Dim Time",
          "Genetic Algorithm 8Dim Time",
          "Genetic Algorithm 8Dim Time",
          "Genetic Algorithm 8Dim Time",
          "Genetic Algorithm 8Dim Time",
          "Genetic Algorithm 8Dim Time",
          "Genetic Algorithm 8Dim Time",
          "Genetic Algorithm 8Dim Time",
          "Genetic Algorithm 8Dim Time",
          "Genetic Algorithm 8Dim Time",
          "Genetic Algorithm 8Dim Time",
          "Genetic Algorithm 8Dim Time",
          "Genetic Algorithm 8Dim Time",
          "Genetic Algorithm 8Dim Time",
          "Genetic Algorithm 8Dim Time",
          "Genetic Algorithm 8Dim Time",
          "Genetic Algorithm 8Dim Time",
          "Genetic Algorithm 8Dim Time",
          "Genetic Algorithm 8Dim Time",
          "Genetic Algorithm 8Dim Time",
          "Genetic Algorithm 8Dim Time",
          "Genetic Algorithm 8Dim Time",
          "Genetic Algorithm 8Dim Time",
          "Genetic Algorithm 8Dim Time",
          "Genetic Algorithm 8Dim Time",
          "Genetic Algorithm 8Dim Time",
          "Genetic Algorithm 8Dim Time",
          "Genetic Algorithm 8Dim Time",
          "Genetic Algorithm 8Dim Time",
          "Genetic Algorithm 8Dim Time",
          "Genetic Algorithm 8Dim Time",
          "Genetic Algorithm 8Dim Time",
          "Genetic Algorithm 8Dim Time",
          "Genetic Algorithm 8Dim Time",
          "Genetic Algorithm 8Dim Time",
          "Genetic Algorithm 8Dim Time",
          "Genetic Algorithm 8Dim Time",
          "Genetic Algorithm 8Dim Time",
          "Genetic Algorithm 8Dim Time",
          "Genetic Algorithm 8Dim Time",
          "Genetic Algorithm 8Dim Time",
          "Genetic Algorithm 8Dim Time",
          "Genetic Algorithm 8Dim Time",
          "Genetic Algorithm 8Dim Time",
          "Genetic Algorithm 8Dim Time",
          "Genetic Algorithm 8Dim Time",
          "Genetic Algorithm 8Dim Time",
          "Genetic Algorithm 8Dim Time",
          "Genetic Algorithm 8Dim Time",
          "Genetic Algorithm 8Dim Time",
          "Genetic Algorithm 8Dim Time",
          "Genetic Algorithm 8Dim Time",
          "Genetic Algorithm 8Dim Time",
          "Genetic Algorithm 8Dim Time",
          "Genetic Algorithm 8Dim Time",
          "Genetic Algorithm 8Dim Time",
          "Genetic Algorithm 8Dim Time",
          "Genetic Algorithm 8Dim Time",
          "Genetic Algorithm 8Dim Time",
          "Genetic Algorithm 8Dim Time",
          "Genetic Algorithm 8Dim Time",
          "Genetic Algorithm 8Dim Time",
          "Genetic Algorithm 8Dim Time",
          "Genetic Algorithm 8Dim Time",
          "Genetic Algorithm 8Dim Time",
          "Genetic Algorithm 8Dim Time",
          "Genetic Algorithm 8Dim Time",
          "Genetic Algorithm 8Dim Time",
          "Genetic Algorithm 8Dim Time",
          "Genetic Algorithm 8Dim Time",
          "Genetic Algorithm 8Dim Time",
          "Genetic Algorithm 8Dim Time",
          "Genetic Algorithm 8Dim Time",
          "Genetic Algorithm 8Dim Time",
          "Genetic Algorithm 8Dim Time",
          "Genetic Algorithm 8Dim Time"
         ],
         "x0": " ",
         "xaxis": "x",
         "y": [
          211,
          215,
          209,
          213,
          202,
          202,
          208,
          213,
          209,
          199,
          202,
          210,
          198,
          206,
          203,
          204,
          204,
          212,
          197,
          200,
          204,
          214,
          203,
          209,
          202,
          200,
          210,
          205,
          199,
          201,
          207,
          201,
          210,
          206,
          201,
          206,
          202,
          205,
          203,
          216,
          202,
          208,
          209,
          212,
          198,
          208,
          200,
          212,
          208,
          198,
          200,
          202,
          214,
          204,
          208,
          207,
          209,
          207,
          210,
          206,
          200,
          214,
          197,
          200,
          215,
          203,
          199,
          204,
          200,
          206,
          211,
          203,
          196,
          205,
          216,
          214,
          203,
          207,
          206,
          202,
          196,
          203,
          215,
          204,
          204,
          206,
          206,
          201,
          203,
          208,
          206,
          207,
          206,
          207,
          216,
          208,
          201,
          202,
          201,
          213
         ],
         "y0": " ",
         "yaxis": "y"
        }
       ],
       "layout": {
        "boxmode": "overlay",
        "legend": {
         "title": {
          "text": "Algorithm"
         },
         "tracegroupgap": 0
        },
        "margin": {
         "t": 60
        },
        "template": {
         "data": {
          "bar": [
           {
            "error_x": {
             "color": "#2a3f5f"
            },
            "error_y": {
             "color": "#2a3f5f"
            },
            "marker": {
             "line": {
              "color": "#E5ECF6",
              "width": 0.5
             },
             "pattern": {
              "fillmode": "overlay",
              "size": 10,
              "solidity": 0.2
             }
            },
            "type": "bar"
           }
          ],
          "barpolar": [
           {
            "marker": {
             "line": {
              "color": "#E5ECF6",
              "width": 0.5
             },
             "pattern": {
              "fillmode": "overlay",
              "size": 10,
              "solidity": 0.2
             }
            },
            "type": "barpolar"
           }
          ],
          "carpet": [
           {
            "aaxis": {
             "endlinecolor": "#2a3f5f",
             "gridcolor": "white",
             "linecolor": "white",
             "minorgridcolor": "white",
             "startlinecolor": "#2a3f5f"
            },
            "baxis": {
             "endlinecolor": "#2a3f5f",
             "gridcolor": "white",
             "linecolor": "white",
             "minorgridcolor": "white",
             "startlinecolor": "#2a3f5f"
            },
            "type": "carpet"
           }
          ],
          "choropleth": [
           {
            "colorbar": {
             "outlinewidth": 0,
             "ticks": ""
            },
            "type": "choropleth"
           }
          ],
          "contour": [
           {
            "colorbar": {
             "outlinewidth": 0,
             "ticks": ""
            },
            "colorscale": [
             [
              0,
              "#0d0887"
             ],
             [
              0.1111111111111111,
              "#46039f"
             ],
             [
              0.2222222222222222,
              "#7201a8"
             ],
             [
              0.3333333333333333,
              "#9c179e"
             ],
             [
              0.4444444444444444,
              "#bd3786"
             ],
             [
              0.5555555555555556,
              "#d8576b"
             ],
             [
              0.6666666666666666,
              "#ed7953"
             ],
             [
              0.7777777777777778,
              "#fb9f3a"
             ],
             [
              0.8888888888888888,
              "#fdca26"
             ],
             [
              1,
              "#f0f921"
             ]
            ],
            "type": "contour"
           }
          ],
          "contourcarpet": [
           {
            "colorbar": {
             "outlinewidth": 0,
             "ticks": ""
            },
            "type": "contourcarpet"
           }
          ],
          "heatmap": [
           {
            "colorbar": {
             "outlinewidth": 0,
             "ticks": ""
            },
            "colorscale": [
             [
              0,
              "#0d0887"
             ],
             [
              0.1111111111111111,
              "#46039f"
             ],
             [
              0.2222222222222222,
              "#7201a8"
             ],
             [
              0.3333333333333333,
              "#9c179e"
             ],
             [
              0.4444444444444444,
              "#bd3786"
             ],
             [
              0.5555555555555556,
              "#d8576b"
             ],
             [
              0.6666666666666666,
              "#ed7953"
             ],
             [
              0.7777777777777778,
              "#fb9f3a"
             ],
             [
              0.8888888888888888,
              "#fdca26"
             ],
             [
              1,
              "#f0f921"
             ]
            ],
            "type": "heatmap"
           }
          ],
          "heatmapgl": [
           {
            "colorbar": {
             "outlinewidth": 0,
             "ticks": ""
            },
            "colorscale": [
             [
              0,
              "#0d0887"
             ],
             [
              0.1111111111111111,
              "#46039f"
             ],
             [
              0.2222222222222222,
              "#7201a8"
             ],
             [
              0.3333333333333333,
              "#9c179e"
             ],
             [
              0.4444444444444444,
              "#bd3786"
             ],
             [
              0.5555555555555556,
              "#d8576b"
             ],
             [
              0.6666666666666666,
              "#ed7953"
             ],
             [
              0.7777777777777778,
              "#fb9f3a"
             ],
             [
              0.8888888888888888,
              "#fdca26"
             ],
             [
              1,
              "#f0f921"
             ]
            ],
            "type": "heatmapgl"
           }
          ],
          "histogram": [
           {
            "marker": {
             "pattern": {
              "fillmode": "overlay",
              "size": 10,
              "solidity": 0.2
             }
            },
            "type": "histogram"
           }
          ],
          "histogram2d": [
           {
            "colorbar": {
             "outlinewidth": 0,
             "ticks": ""
            },
            "colorscale": [
             [
              0,
              "#0d0887"
             ],
             [
              0.1111111111111111,
              "#46039f"
             ],
             [
              0.2222222222222222,
              "#7201a8"
             ],
             [
              0.3333333333333333,
              "#9c179e"
             ],
             [
              0.4444444444444444,
              "#bd3786"
             ],
             [
              0.5555555555555556,
              "#d8576b"
             ],
             [
              0.6666666666666666,
              "#ed7953"
             ],
             [
              0.7777777777777778,
              "#fb9f3a"
             ],
             [
              0.8888888888888888,
              "#fdca26"
             ],
             [
              1,
              "#f0f921"
             ]
            ],
            "type": "histogram2d"
           }
          ],
          "histogram2dcontour": [
           {
            "colorbar": {
             "outlinewidth": 0,
             "ticks": ""
            },
            "colorscale": [
             [
              0,
              "#0d0887"
             ],
             [
              0.1111111111111111,
              "#46039f"
             ],
             [
              0.2222222222222222,
              "#7201a8"
             ],
             [
              0.3333333333333333,
              "#9c179e"
             ],
             [
              0.4444444444444444,
              "#bd3786"
             ],
             [
              0.5555555555555556,
              "#d8576b"
             ],
             [
              0.6666666666666666,
              "#ed7953"
             ],
             [
              0.7777777777777778,
              "#fb9f3a"
             ],
             [
              0.8888888888888888,
              "#fdca26"
             ],
             [
              1,
              "#f0f921"
             ]
            ],
            "type": "histogram2dcontour"
           }
          ],
          "mesh3d": [
           {
            "colorbar": {
             "outlinewidth": 0,
             "ticks": ""
            },
            "type": "mesh3d"
           }
          ],
          "parcoords": [
           {
            "line": {
             "colorbar": {
              "outlinewidth": 0,
              "ticks": ""
             }
            },
            "type": "parcoords"
           }
          ],
          "pie": [
           {
            "automargin": true,
            "type": "pie"
           }
          ],
          "scatter": [
           {
            "fillpattern": {
             "fillmode": "overlay",
             "size": 10,
             "solidity": 0.2
            },
            "type": "scatter"
           }
          ],
          "scatter3d": [
           {
            "line": {
             "colorbar": {
              "outlinewidth": 0,
              "ticks": ""
             }
            },
            "marker": {
             "colorbar": {
              "outlinewidth": 0,
              "ticks": ""
             }
            },
            "type": "scatter3d"
           }
          ],
          "scattercarpet": [
           {
            "marker": {
             "colorbar": {
              "outlinewidth": 0,
              "ticks": ""
             }
            },
            "type": "scattercarpet"
           }
          ],
          "scattergeo": [
           {
            "marker": {
             "colorbar": {
              "outlinewidth": 0,
              "ticks": ""
             }
            },
            "type": "scattergeo"
           }
          ],
          "scattergl": [
           {
            "marker": {
             "colorbar": {
              "outlinewidth": 0,
              "ticks": ""
             }
            },
            "type": "scattergl"
           }
          ],
          "scattermapbox": [
           {
            "marker": {
             "colorbar": {
              "outlinewidth": 0,
              "ticks": ""
             }
            },
            "type": "scattermapbox"
           }
          ],
          "scatterpolar": [
           {
            "marker": {
             "colorbar": {
              "outlinewidth": 0,
              "ticks": ""
             }
            },
            "type": "scatterpolar"
           }
          ],
          "scatterpolargl": [
           {
            "marker": {
             "colorbar": {
              "outlinewidth": 0,
              "ticks": ""
             }
            },
            "type": "scatterpolargl"
           }
          ],
          "scatterternary": [
           {
            "marker": {
             "colorbar": {
              "outlinewidth": 0,
              "ticks": ""
             }
            },
            "type": "scatterternary"
           }
          ],
          "surface": [
           {
            "colorbar": {
             "outlinewidth": 0,
             "ticks": ""
            },
            "colorscale": [
             [
              0,
              "#0d0887"
             ],
             [
              0.1111111111111111,
              "#46039f"
             ],
             [
              0.2222222222222222,
              "#7201a8"
             ],
             [
              0.3333333333333333,
              "#9c179e"
             ],
             [
              0.4444444444444444,
              "#bd3786"
             ],
             [
              0.5555555555555556,
              "#d8576b"
             ],
             [
              0.6666666666666666,
              "#ed7953"
             ],
             [
              0.7777777777777778,
              "#fb9f3a"
             ],
             [
              0.8888888888888888,
              "#fdca26"
             ],
             [
              1,
              "#f0f921"
             ]
            ],
            "type": "surface"
           }
          ],
          "table": [
           {
            "cells": {
             "fill": {
              "color": "#EBF0F8"
             },
             "line": {
              "color": "white"
             }
            },
            "header": {
             "fill": {
              "color": "#C8D4E3"
             },
             "line": {
              "color": "white"
             }
            },
            "type": "table"
           }
          ]
         },
         "layout": {
          "annotationdefaults": {
           "arrowcolor": "#2a3f5f",
           "arrowhead": 0,
           "arrowwidth": 1
          },
          "autotypenumbers": "strict",
          "coloraxis": {
           "colorbar": {
            "outlinewidth": 0,
            "ticks": ""
           }
          },
          "colorscale": {
           "diverging": [
            [
             0,
             "#8e0152"
            ],
            [
             0.1,
             "#c51b7d"
            ],
            [
             0.2,
             "#de77ae"
            ],
            [
             0.3,
             "#f1b6da"
            ],
            [
             0.4,
             "#fde0ef"
            ],
            [
             0.5,
             "#f7f7f7"
            ],
            [
             0.6,
             "#e6f5d0"
            ],
            [
             0.7,
             "#b8e186"
            ],
            [
             0.8,
             "#7fbc41"
            ],
            [
             0.9,
             "#4d9221"
            ],
            [
             1,
             "#276419"
            ]
           ],
           "sequential": [
            [
             0,
             "#0d0887"
            ],
            [
             0.1111111111111111,
             "#46039f"
            ],
            [
             0.2222222222222222,
             "#7201a8"
            ],
            [
             0.3333333333333333,
             "#9c179e"
            ],
            [
             0.4444444444444444,
             "#bd3786"
            ],
            [
             0.5555555555555556,
             "#d8576b"
            ],
            [
             0.6666666666666666,
             "#ed7953"
            ],
            [
             0.7777777777777778,
             "#fb9f3a"
            ],
            [
             0.8888888888888888,
             "#fdca26"
            ],
            [
             1,
             "#f0f921"
            ]
           ],
           "sequentialminus": [
            [
             0,
             "#0d0887"
            ],
            [
             0.1111111111111111,
             "#46039f"
            ],
            [
             0.2222222222222222,
             "#7201a8"
            ],
            [
             0.3333333333333333,
             "#9c179e"
            ],
            [
             0.4444444444444444,
             "#bd3786"
            ],
            [
             0.5555555555555556,
             "#d8576b"
            ],
            [
             0.6666666666666666,
             "#ed7953"
            ],
            [
             0.7777777777777778,
             "#fb9f3a"
            ],
            [
             0.8888888888888888,
             "#fdca26"
            ],
            [
             1,
             "#f0f921"
            ]
           ]
          },
          "colorway": [
           "#636efa",
           "#EF553B",
           "#00cc96",
           "#ab63fa",
           "#FFA15A",
           "#19d3f3",
           "#FF6692",
           "#B6E880",
           "#FF97FF",
           "#FECB52"
          ],
          "font": {
           "color": "#2a3f5f"
          },
          "geo": {
           "bgcolor": "white",
           "lakecolor": "white",
           "landcolor": "#E5ECF6",
           "showlakes": true,
           "showland": true,
           "subunitcolor": "white"
          },
          "hoverlabel": {
           "align": "left"
          },
          "hovermode": "closest",
          "mapbox": {
           "style": "light"
          },
          "paper_bgcolor": "white",
          "plot_bgcolor": "#E5ECF6",
          "polar": {
           "angularaxis": {
            "gridcolor": "white",
            "linecolor": "white",
            "ticks": ""
           },
           "bgcolor": "#E5ECF6",
           "radialaxis": {
            "gridcolor": "white",
            "linecolor": "white",
            "ticks": ""
           }
          },
          "scene": {
           "xaxis": {
            "backgroundcolor": "#E5ECF6",
            "gridcolor": "white",
            "gridwidth": 2,
            "linecolor": "white",
            "showbackground": true,
            "ticks": "",
            "zerolinecolor": "white"
           },
           "yaxis": {
            "backgroundcolor": "#E5ECF6",
            "gridcolor": "white",
            "gridwidth": 2,
            "linecolor": "white",
            "showbackground": true,
            "ticks": "",
            "zerolinecolor": "white"
           },
           "zaxis": {
            "backgroundcolor": "#E5ECF6",
            "gridcolor": "white",
            "gridwidth": 2,
            "linecolor": "white",
            "showbackground": true,
            "ticks": "",
            "zerolinecolor": "white"
           }
          },
          "shapedefaults": {
           "line": {
            "color": "#2a3f5f"
           }
          },
          "ternary": {
           "aaxis": {
            "gridcolor": "white",
            "linecolor": "white",
            "ticks": ""
           },
           "baxis": {
            "gridcolor": "white",
            "linecolor": "white",
            "ticks": ""
           },
           "bgcolor": "#E5ECF6",
           "caxis": {
            "gridcolor": "white",
            "linecolor": "white",
            "ticks": ""
           }
          },
          "title": {
           "x": 0.05
          },
          "xaxis": {
           "automargin": true,
           "gridcolor": "white",
           "linecolor": "white",
           "ticks": "",
           "title": {
            "standoff": 15
           },
           "zerolinecolor": "white",
           "zerolinewidth": 2
          },
          "yaxis": {
           "automargin": true,
           "gridcolor": "white",
           "linecolor": "white",
           "ticks": "",
           "title": {
            "standoff": 15
           },
           "zerolinecolor": "white",
           "zerolinewidth": 2
          }
         }
        },
        "title": {
         "text": "8-Queens Problem - Time per Algorithm"
        },
        "xaxis": {
         "anchor": "y",
         "categoryarray": [
          "Bactracking 8Dim Time",
          "Hill Climbing 8Dim Time",
          "Simulated Annealing 8Dim Time",
          "Genetic Algorithm 8Dim Time"
         ],
         "categoryorder": "array",
         "domain": [
          0,
          1
         ],
         "title": {
          "text": "Algorithm"
         }
        },
        "yaxis": {
         "anchor": "x",
         "domain": [
          0,
          1
         ],
         "title": {
          "text": "Time (ms)"
         }
        }
       }
      }
     },
     "metadata": {},
     "output_type": "display_data"
    }
   ],
   "source": [
    "dimensions = [5, 8]\n",
    "fit = {}\n",
    "time = {}\n",
    "\n",
    "algorithm_idx_map = {\n",
    "                    1: 'Bactracking',\n",
    "                    2: 'Hill Climbing',\n",
    "                    3: 'Simulated Annealing',\n",
    "                    4: 'Genetic Algorithm'\n",
    "                    }\n",
    "\n",
    "for n in dimensions:\n",
    "    ba_fit_list = []\n",
    "    hc_fit_list = []\n",
    "    sa_fit_list = []\n",
    "    ga_fit_list = []\n",
    "\n",
    "    ba_time_list = []\n",
    "    hc_time_list = []\n",
    "    sa_time_list = []\n",
    "    ga_time_list = []\n",
    "\n",
    "    for _ in range(100):\n",
    "        ba = backtracking_algorithm(n = n)\n",
    "        hc = hill_climbing(n = n)\n",
    "        sa = sim_annealing(n = n)\n",
    "        params['n'] = n\n",
    "        ga = genetic_algorithm(**params)\n",
    "\n",
    "        ba_fit_list.append(100.)\n",
    "        hc_fit_list.append(hc['best_fitness_percentage'])\n",
    "        sa_fit_list.append(sa['best_fitness_percentage'])\n",
    "        ga_fit_list.append(ga['best_fitness_percentage'])\n",
    "        ba_time_list.append(ba['duration'])\n",
    "        hc_time_list.append(hc['duration'])\n",
    "        sa_time_list.append(sa['duration'])\n",
    "        ga_time_list.append(ga['duration'])\n",
    "\n",
    "    fit_list = [ba_fit_list, hc_fit_list, sa_fit_list, ga_fit_list]\n",
    "    idx = 1\n",
    "    for ls in fit_list:\n",
    "        fit[algorithm_idx_map[idx] + ' ' + str(n) + 'Dim Fit'] = ls\n",
    "        idx += 1\n",
    "\n",
    "    time_list = [ba_time_list, hc_time_list, sa_time_list, ga_time_list]\n",
    "    idx = 1\n",
    "    for ls in time_list:\n",
    "        time[algorithm_idx_map[idx] + ' ' + str(n) + 'Dim Time'] = ls\n",
    "        idx += 1\n",
    "\n",
    "fit.update(time)\n",
    "df = pd.DataFrame(fit)\n",
    "\n",
    "fit_cols = [col for col in df.columns if 'Fit' in col]\n",
    "time_cols = [col for col in df.columns if 'Time' in col]\n",
    "\n",
    "for n in dimensions:\n",
    "    ndim_fit_cols = [col for col in fit_cols if str(n) in col]\n",
    "    ndim_time_cols = [col for col in time_cols if str(n) in col]\n",
    "\n",
    "    df_melted = pd.melt(df[ndim_fit_cols], var_name='Algorithm', value_name='Value')\n",
    "    fig = px.box(df_melted, x='Algorithm', y='Value', color='Algorithm')\n",
    "    fig.update_layout(title=f'{n}-Queens Problem - Fitness per Algorithm',\n",
    "                    xaxis_title='Algorithm',\n",
    "                    yaxis_title='Fitness')\n",
    "    fig.show()\n",
    "\n",
    "    df_melted = pd.melt(df[ndim_time_cols], var_name='Algorithm', value_name='Value')\n",
    "    fig = px.box(df_melted, x='Algorithm', y='Value', color='Algorithm')\n",
    "    fig.update_layout(title=f'{n}-Queens Problem - Time per Algorithm',\n",
    "                    xaxis_title='Algorithm',\n",
    "                    yaxis_title='Time (ms)')\n",
    "    fig.show()"
   ]
  }
 ],
 "metadata": {
  "kernelspec": {
   "display_name": "CIFO",
   "language": "python",
   "name": "python3"
  },
  "language_info": {
   "codemirror_mode": {
    "name": "ipython",
    "version": 3
   },
   "file_extension": ".py",
   "mimetype": "text/x-python",
   "name": "python",
   "nbconvert_exporter": "python",
   "pygments_lexer": "ipython3",
   "version": "3.11.3"
  },
  "orig_nbformat": 4
 },
 "nbformat": 4,
 "nbformat_minor": 2
}
