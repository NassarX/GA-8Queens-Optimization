{
 "cells": [
  {
   "cell_type": "code",
   "execution_count": 23,
   "metadata": {
    "ExecuteTime": {
     "end_time": "2023-05-26T19:59:24.881335Z",
     "start_time": "2023-05-26T19:59:24.779237Z"
    }
   },
   "outputs": [],
   "source": [
    "# Libraries\n",
    "import os, sys\n",
    "\n",
    "%reload_ext autoreload\n",
    "%autoreload 2\n",
    "module_path = os.path.abspath(os.path.join('.'))\n",
    "if module_path not in sys.path:\n",
    "    sys.path.append(module_path)"
   ]
  },
  {
   "cell_type": "code",
   "execution_count": 21,
   "metadata": {
    "ExecuteTime": {
     "end_time": "2023-05-26T19:57:54.889747Z",
     "start_time": "2023-05-26T19:57:54.556969Z"
    }
   },
   "outputs": [
    {
     "data": {
      "text/plain": "{'generations': 500,\n 'best_fitness': 28,\n 'best_fitness_percentage': 100.0,\n 'best_representation': [4, 1, 3, 5, 7, 2, 0, 6],\n 'worst_fitness': 28,\n 'worst_representation': [4, 1, 3, 5, 7, 2, 0, 6],\n 'mean_fitness': 28.0,\n 'selection_operator': 'tournament_selection',\n 'mutate_operator': 'inversion_mutation',\n 'crossover_operator': 'single_point_co'}"
     },
     "execution_count": 21,
     "metadata": {},
     "output_type": "execute_result"
    }
   ],
   "source": [
    "from app.nqueens import NQueensGeneticAlgorithm\n",
    "\n",
    "nQueensGA = NQueensGeneticAlgorithm(population_size=100, dimension=8)\n",
    "\n",
    "nQueensGA.run(\n",
    "    generations=500,\n",
    "    mutation_probability=0.02,\n",
    "    crossover_probability=0.8,\n",
    "    mutation_operator=\"inversion_mutation\",\n",
    "    crossover_operator=\"single_cross\",\n",
    "    selection_operator=\"tournament_selection\"\n",
    ")\n",
    "\n",
    "nQueensGA.report()"
   ]
  }
 ],
 "metadata": {
  "kernelspec": {
   "display_name": "CIFO",
   "language": "python",
   "name": "python3"
  },
  "language_info": {
   "codemirror_mode": {
    "name": "ipython",
    "version": 3
   },
   "file_extension": ".py",
   "mimetype": "text/x-python",
   "name": "python",
   "nbconvert_exporter": "python",
   "pygments_lexer": "ipython3",
   "version": "3.11.3"
  },
  "orig_nbformat": 4
 },
 "nbformat": 4,
 "nbformat_minor": 2
}
