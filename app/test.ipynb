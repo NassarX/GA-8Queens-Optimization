{
 "cells": [
  {
   "cell_type": "code",
   "execution_count": 1,
   "metadata": {
    "ExecuteTime": {
     "end_time": "2023-05-26T21:00:00.144067Z",
     "start_time": "2023-05-26T21:00:00.034932Z"
    }
   },
   "outputs": [],
   "source": [
    "# Magic comands\n",
    "%reload_ext autoreload\n",
    "%autoreload 2\n",
    "\n",
    "# Libraries\n",
    "import re\n",
    "import numpy as np\n",
    "import pandas as pd\n",
    "import os, sys, webcolors\n",
    "from datetime import datetime\n",
    "import plotly.graph_objects as go\n",
    "\n",
    "module_path = os.path.abspath(os.path.join('.'))\n",
    "if module_path not in sys.path:\n",
    "    sys.path.append(module_path)\n",
    "\n",
    "origin_path = os.getcwd()\n",
    "parent_dir = os.path.abspath(os.path.join(origin_path, os.pardir))\n",
    "os.chdir(parent_dir)\n",
    "\n",
    "from app.nqueens import NQueensGeneticAlgorithm, NQueensBacktracking, NQueensHillClimbing, NQueensSimulatedAnnealing"
   ]
  },
  {
   "attachments": {},
   "cell_type": "markdown",
   "metadata": {},
   "source": [
    "## __1. Algorithm Functions__"
   ]
  },
  {
   "attachments": {},
   "cell_type": "markdown",
   "metadata": {},
   "source": [
    "### __1.1 Backtracking__"
   ]
  },
  {
   "cell_type": "code",
   "execution_count": 2,
   "metadata": {},
   "outputs": [],
   "source": [
    "def backtracking_algorithm(n= 8):\n",
    "    start_time = datetime.now()\n",
    "    backtracking = NQueensBacktracking()\n",
    "    results = backtracking.solveNQueens(n)\n",
    "    end_time = datetime.now()\n",
    "    execution_time = int((end_time - start_time).total_seconds() * 1000)\n",
    "\n",
    "    return {'dimensions': n, 'duration': execution_time}"
   ]
  },
  {
   "cell_type": "code",
   "execution_count": 3,
   "metadata": {},
   "outputs": [
    {
     "data": {
      "text/plain": [
       "{'dimensions': 12, 'duration': 1020}"
      ]
     },
     "execution_count": 3,
     "metadata": {},
     "output_type": "execute_result"
    }
   ],
   "source": [
    "# testing\n",
    "ba = backtracking_algorithm(n = 12)\n",
    "\n",
    "ba"
   ]
  },
  {
   "attachments": {},
   "cell_type": "markdown",
   "metadata": {},
   "source": [
    "### __1.2 Hill Climbing__"
   ]
  },
  {
   "cell_type": "code",
   "execution_count": 4,
   "metadata": {},
   "outputs": [],
   "source": [
    "def hill_climbing(n=8):\n",
    "    nQueensHC = NQueensHillClimbing(dimension=n)\n",
    "    nQueensHC.run()\n",
    "    return nQueensHC.report()\n"
   ]
  },
  {
   "cell_type": "code",
   "execution_count": 5,
   "metadata": {},
   "outputs": [
    {
     "name": "stdout",
     "output_type": "stream",
     "text": [
      "Initial position: [8, 2, 5, 11, 6, 0, 10, 7, 9, 3, 4, 1], fitness: 59\n",
      "Found better solution: [8, 2, 5, 1, 6, 0, 10, 7, 9, 3, 4, 1], Fitness: 61\n",
      "Found better solution: [8, 2, 5, 1, 6, 0, 10, 7, 9, 0, 4, 1], Fitness: 62\n",
      "Found better solution: [8, 2, 5, 1, 6, 0, 10, 7, 9, 0, 3, 1], Fitness: 63\n",
      "Hill Climbing returned: [8, 2, 5, 1, 6, 0, 10, 7, 9, 0, 3, 1], Fitness: 63\n"
     ]
    },
    {
     "data": {
      "text/plain": [
       "{'best_fitness': 63,\n",
       " 'best_fitness_percentage': 95.45454545454545,\n",
       " 'best_representation': [8, 2, 5, 1, 6, 0, 10, 7, 9, 0, 3, 1]}"
      ]
     },
     "execution_count": 5,
     "metadata": {},
     "output_type": "execute_result"
    }
   ],
   "source": [
    "# testing\n",
    "hc = hill_climbing(n = 12)\n",
    "\n",
    "hc"
   ]
  },
  {
   "attachments": {},
   "cell_type": "markdown",
   "metadata": {},
   "source": [
    "### __1.3 Simulated Annealing__"
   ]
  },
  {
   "cell_type": "code",
   "execution_count": 6,
   "metadata": {},
   "outputs": [],
   "source": [
    "def sim_annealing(n=8):\n",
    "    nQueensSA = NQueensSimulatedAnnealing(dimension=n)\n",
    "    nQueensSA.run()\n",
    "    return nQueensSA.report()\n"
   ]
  },
  {
   "cell_type": "code",
   "execution_count": 7,
   "metadata": {},
   "outputs": [
    {
     "name": "stdout",
     "output_type": "stream",
     "text": [
      "Accepted a worse solution: [0, 1, 3, 7, 6, 5, 5, 4, 10, 9, 8, 2], Fitness: 51\n",
      "Accepted a worse solution: [0, 1, 3, 7, 6, 5, 5, 4, 10, 9, 8, 1], Fitness: 50\n",
      "Found better solution: [0, 1, 3, 7, 6, 5, 5, 4, 0, 9, 8, 1], Fitness: 52\n",
      "Found better solution: [4, 1, 3, 7, 6, 5, 5, 4, 0, 9, 8, 1], Fitness: 54\n",
      "Found better solution: [11, 1, 3, 7, 6, 5, 5, 4, 0, 9, 8, 1], Fitness: 54\n",
      "Accepted a worse solution: [11, 1, 3, 8, 6, 5, 5, 4, 0, 9, 8, 1], Fitness: 52\n",
      "Found better solution: [11, 1, 3, 8, 6, 5, 5, 9, 0, 9, 8, 1], Fitness: 53\n",
      "Found better solution: [11, 1, 3, 2, 6, 5, 5, 9, 0, 9, 8, 1], Fitness: 54\n",
      "Found better solution: [11, 1, 3, 7, 6, 5, 5, 9, 0, 9, 8, 1], Fitness: 54\n",
      "Accepted a worse solution: [11, 1, 5, 7, 6, 5, 5, 9, 0, 9, 8, 1], Fitness: 52\n",
      "Found better solution: [11, 1, 5, 7, 6, 5, 2, 9, 0, 9, 8, 1], Fitness: 54\n",
      "Found better solution: [11, 1, 5, 7, 6, 5, 2, 9, 0, 10, 8, 1], Fitness: 58\n",
      "Found better solution: [11, 1, 5, 7, 3, 5, 2, 9, 0, 10, 8, 1], Fitness: 60\n",
      "Found better solution: [11, 1, 5, 6, 3, 5, 2, 9, 0, 10, 8, 1], Fitness: 60\n",
      "Accepted a worse solution: [0, 1, 5, 6, 3, 5, 2, 9, 0, 10, 8, 1], Fitness: 57\n",
      "Found better solution: [0, 3, 5, 6, 3, 5, 2, 9, 0, 10, 8, 1], Fitness: 58\n",
      "Found better solution: [0, 7, 5, 6, 3, 5, 2, 9, 0, 10, 8, 1], Fitness: 58\n",
      "Found better solution: [10, 7, 5, 6, 3, 5, 2, 9, 0, 10, 8, 1], Fitness: 58\n",
      "Found better solution: [10, 7, 5, 6, 1, 5, 2, 9, 0, 10, 8, 1], Fitness: 58\n",
      "Accepted a worse solution: [10, 7, 5, 6, 1, 5, 2, 9, 0, 10, 9, 1], Fitness: 56\n",
      "Accepted a worse solution: [10, 7, 5, 6, 1, 5, 2, 9, 0, 9, 9, 1], Fitness: 55\n",
      "Found better solution: [10, 7, 5, 6, 1, 1, 2, 9, 0, 9, 9, 1], Fitness: 55\n",
      "Accepted a worse solution: [10, 7, 5, 6, 1, 1, 2, 9, 11, 9, 9, 1], Fitness: 54\n",
      "Accepted a worse solution: [10, 7, 5, 2, 1, 1, 2, 9, 11, 9, 9, 1], Fitness: 53\n",
      "Found better solution: [10, 7, 5, 2, 1, 1, 2, 9, 11, 7, 9, 1], Fitness: 53\n",
      "Found better solution: [10, 7, 5, 8, 1, 1, 2, 9, 11, 7, 9, 1], Fitness: 56\n",
      "Accepted a worse solution: [10, 7, 5, 8, 1, 1, 2, 9, 11, 7, 6, 1], Fitness: 54\n",
      "Accepted a worse solution: [10, 7, 5, 10, 1, 1, 2, 9, 11, 7, 6, 1], Fitness: 53\n",
      "Accepted a worse solution: [10, 7, 5, 10, 1, 1, 2, 9, 8, 7, 6, 1], Fitness: 51\n",
      "Accepted a worse solution: [10, 7, 1, 10, 1, 1, 2, 9, 8, 7, 6, 1], Fitness: 48\n",
      "Accepted a worse solution: [10, 7, 1, 10, 1, 1, 2, 9, 4, 7, 6, 1], Fitness: 47\n",
      "Found better solution: [10, 4, 1, 10, 1, 1, 2, 9, 4, 7, 6, 1], Fitness: 47\n",
      "Found better solution: [10, 4, 1, 10, 1, 1, 2, 9, 4, 7, 1, 1], Fitness: 48\n",
      "Found better solution: [10, 4, 1, 10, 1, 1, 2, 9, 11, 7, 1, 1], Fitness: 51\n",
      "Found better solution: [10, 4, 1, 10, 1, 11, 2, 9, 11, 7, 1, 1], Fitness: 53\n",
      "Accepted a worse solution: [10, 4, 1, 10, 1, 11, 3, 9, 11, 7, 1, 1], Fitness: 52\n",
      "Accepted a worse solution: [10, 4, 1, 10, 1, 11, 5, 9, 11, 7, 1, 1], Fitness: 51\n",
      "Found better solution: [10, 4, 1, 10, 1, 11, 5, 9, 11, 7, 4, 1], Fitness: 54\n",
      "Found better solution: [10, 4, 11, 10, 1, 11, 5, 9, 11, 7, 4, 1], Fitness: 54\n",
      "Found better solution: [10, 8, 11, 10, 1, 11, 5, 9, 11, 7, 4, 1], Fitness: 56\n",
      "Found better solution: [0, 8, 11, 10, 1, 11, 5, 9, 11, 7, 4, 1], Fitness: 57\n",
      "Accepted a worse solution: [0, 8, 11, 10, 1, 11, 5, 11, 11, 7, 4, 1], Fitness: 56\n",
      "Found better solution: [0, 8, 11, 10, 1, 11, 5, 11, 10, 7, 4, 1], Fitness: 57\n",
      "Found better solution: [0, 8, 11, 10, 1, 2, 5, 11, 10, 7, 4, 1], Fitness: 59\n",
      "Accepted a worse solution: [0, 8, 11, 10, 1, 2, 5, 11, 10, 3, 4, 1], Fitness: 57\n",
      "Found better solution: [0, 8, 11, 10, 1, 2, 5, 7, 10, 3, 4, 1], Fitness: 57\n",
      "Accepted a worse solution: [0, 3, 11, 10, 1, 2, 5, 7, 10, 3, 4, 1], Fitness: 56\n",
      "Accepted a worse solution: [4, 3, 11, 10, 1, 2, 5, 7, 10, 3, 4, 1], Fitness: 55\n",
      "Found better solution: [4, 3, 11, 10, 1, 2, 5, 7, 1, 3, 4, 1], Fitness: 55\n",
      "Found better solution: [4, 3, 11, 10, 1, 10, 5, 7, 1, 3, 4, 1], Fitness: 55\n",
      "Found better solution: [4, 3, 11, 10, 1, 6, 5, 7, 1, 3, 4, 1], Fitness: 55\n",
      "Accepted a worse solution: [4, 3, 11, 10, 1, 9, 5, 7, 1, 3, 4, 1], Fitness: 53\n",
      "Found better solution: [4, 3, 11, 10, 1, 9, 5, 7, 1, 7, 4, 1], Fitness: 55\n",
      "Found better solution: [4, 3, 11, 10, 1, 2, 5, 7, 1, 7, 4, 1], Fitness: 57\n",
      "Found better solution: [4, 3, 11, 10, 1, 2, 5, 7, 1, 7, 11, 1], Fitness: 58\n",
      "Found better solution: [4, 3, 11, 8, 1, 2, 5, 7, 1, 7, 11, 1], Fitness: 58\n",
      "Found better solution: [4, 3, 11, 8, 3, 2, 5, 7, 1, 7, 11, 1], Fitness: 58\n",
      "Found better solution: [4, 3, 11, 8, 9, 2, 5, 7, 1, 7, 11, 1], Fitness: 59\n",
      "Accepted a worse solution: [4, 3, 11, 8, 9, 2, 5, 7, 1, 7, 11, 9], Fitness: 58\n",
      "Accepted a worse solution: [4, 3, 11, 8, 9, 2, 5, 7, 1, 7, 11, 2], Fitness: 57\n",
      "Accepted a worse solution: [4, 3, 11, 8, 9, 2, 5, 7, 3, 7, 11, 2], Fitness: 54\n",
      "Found better solution: [4, 3, 11, 8, 9, 2, 5, 7, 3, 7, 11, 9], Fitness: 55\n",
      "Found better solution: [4, 3, 11, 8, 9, 2, 6, 7, 3, 7, 11, 9], Fitness: 56\n",
      "Found better solution: [4, 3, 11, 8, 9, 2, 6, 7, 7, 7, 11, 9], Fitness: 56\n",
      "Accepted a worse solution: [4, 3, 11, 8, 9, 10, 6, 7, 7, 7, 11, 9], Fitness: 53\n",
      "Found better solution: [4, 3, 11, 8, 9, 10, 6, 7, 7, 0, 11, 9], Fitness: 56\n",
      "Found better solution: [4, 3, 11, 8, 9, 10, 6, 4, 7, 0, 11, 9], Fitness: 56\n",
      "Accepted a worse solution: [4, 4, 11, 8, 9, 10, 6, 4, 7, 0, 11, 9], Fitness: 55\n",
      "Found better solution: [4, 4, 11, 8, 9, 10, 6, 3, 7, 0, 11, 9], Fitness: 58\n",
      "Accepted a worse solution: [4, 4, 11, 4, 9, 10, 6, 3, 7, 0, 11, 9], Fitness: 57\n",
      "Found better solution: [4, 4, 11, 2, 9, 10, 6, 3, 7, 0, 11, 9], Fitness: 58\n",
      "Found better solution: [4, 4, 11, 0, 9, 10, 6, 3, 7, 0, 11, 9], Fitness: 59\n",
      "Accepted a worse solution: [4, 4, 11, 0, 9, 10, 6, 3, 6, 0, 11, 9], Fitness: 58\n",
      "Accepted a worse solution: [4, 4, 11, 0, 9, 10, 6, 3, 9, 0, 11, 9], Fitness: 57\n",
      "Accepted a worse solution: [4, 4, 11, 0, 9, 10, 9, 3, 9, 0, 11, 9], Fitness: 52\n",
      "Found better solution: [4, 4, 11, 0, 9, 10, 9, 3, 9, 0, 11, 5], Fitness: 55\n",
      "Accepted a worse solution: [4, 4, 11, 4, 9, 10, 9, 3, 9, 0, 11, 5], Fitness: 52\n",
      "Found better solution: [11, 4, 11, 4, 9, 10, 9, 3, 9, 0, 11, 5], Fitness: 52\n",
      "Found better solution: [11, 4, 11, 4, 10, 10, 9, 3, 9, 0, 11, 5], Fitness: 55\n",
      "Found better solution: [11, 4, 11, 7, 10, 10, 9, 3, 9, 0, 11, 5], Fitness: 57\n",
      "Accepted a worse solution: [11, 4, 11, 7, 10, 10, 11, 3, 9, 0, 11, 5], Fitness: 55\n",
      "Found better solution: [2, 4, 11, 7, 10, 10, 11, 3, 9, 0, 11, 5], Fitness: 58\n",
      "Found better solution: [2, 4, 11, 7, 10, 10, 11, 3, 9, 0, 9, 5], Fitness: 60\n",
      "Found better solution: [2, 4, 11, 7, 10, 1, 11, 3, 9, 0, 9, 5], Fitness: 61\n",
      "Found better solution: [2, 4, 11, 7, 10, 1, 11, 4, 9, 0, 9, 5], Fitness: 62\n",
      "Found better solution: [2, 4, 11, 7, 10, 1, 11, 0, 9, 0, 9, 5], Fitness: 62\n",
      "Accepted a worse solution: [2, 4, 11, 7, 10, 1, 11, 0, 2, 0, 9, 5], Fitness: 61\n",
      "Found better solution: [2, 4, 3, 7, 10, 1, 11, 0, 2, 0, 9, 5], Fitness: 61\n",
      "Found better solution: [2, 4, 3, 7, 10, 1, 11, 0, 3, 0, 9, 5], Fitness: 63\n",
      "Accepted a worse solution: [2, 4, 3, 7, 10, 1, 11, 0, 1, 0, 9, 5], Fitness: 61\n",
      "Accepted a worse solution: [2, 4, 3, 7, 10, 1, 11, 0, 1, 0, 6, 5], Fitness: 59\n",
      "Found better solution: [2, 4, 3, 7, 10, 1, 11, 0, 1, 0, 6, 11], Fitness: 59\n",
      "Accepted a worse solution: [2, 4, 3, 7, 10, 1, 11, 10, 1, 0, 6, 11], Fitness: 58\n",
      "Found better solution: [2, 4, 3, 7, 10, 1, 11, 10, 6, 0, 6, 11], Fitness: 58\n",
      "Accepted a worse solution: [2, 4, 3, 7, 2, 1, 11, 10, 6, 0, 6, 11], Fitness: 57\n",
      "Accepted a worse solution: [2, 4, 3, 4, 2, 1, 11, 10, 6, 0, 6, 11], Fitness: 55\n",
      "Accepted a worse solution: [2, 4, 5, 4, 2, 1, 11, 10, 6, 0, 6, 11], Fitness: 54\n",
      "Accepted a worse solution: [2, 4, 5, 4, 2, 11, 11, 10, 6, 0, 6, 11], Fitness: 53\n",
      "Found better solution: [2, 4, 9, 4, 2, 11, 11, 10, 6, 0, 6, 11], Fitness: 56\n",
      "Found better solution: [2, 4, 9, 4, 2, 11, 11, 10, 1, 0, 6, 11], Fitness: 57\n",
      "Found better solution: [2, 4, 9, 4, 2, 11, 11, 10, 1, 0, 6, 0], Fitness: 57\n",
      "Found better solution: [2, 4, 9, 4, 2, 11, 11, 7, 1, 0, 6, 0], Fitness: 59\n",
      "Found better solution: [3, 4, 9, 4, 2, 11, 11, 7, 1, 0, 6, 0], Fitness: 59\n",
      "Found better solution: [3, 4, 9, 4, 2, 11, 11, 7, 1, 3, 6, 0], Fitness: 60\n",
      "Found better solution: [3, 4, 9, 4, 2, 11, 11, 7, 1, 3, 6, 8], Fitness: 61\n",
      "Accepted a worse solution: [3, 4, 9, 4, 2, 11, 11, 7, 9, 3, 6, 8], Fitness: 58\n",
      "Found better solution: [3, 4, 9, 4, 2, 11, 2, 7, 9, 3, 6, 8], Fitness: 58\n",
      "Accepted a worse solution: [3, 4, 9, 4, 2, 11, 2, 2, 9, 3, 6, 8], Fitness: 56\n",
      "Accepted a worse solution: [3, 4, 9, 4, 2, 11, 2, 2, 9, 3, 6, 5], Fitness: 53\n",
      "Found better solution: [3, 4, 9, 5, 2, 11, 2, 2, 9, 3, 6, 5], Fitness: 53\n",
      "Accepted a worse solution: [3, 4, 9, 5, 2, 6, 2, 2, 9, 3, 6, 5], Fitness: 52\n",
      "Accepted a worse solution: [3, 4, 9, 5, 2, 3, 2, 2, 9, 3, 6, 5], Fitness: 50\n",
      "Found better solution: [10, 4, 9, 5, 2, 3, 2, 2, 9, 3, 6, 5], Fitness: 53\n",
      "Found better solution: [10, 4, 9, 5, 2, 4, 2, 2, 9, 3, 6, 5], Fitness: 55\n",
      "Found better solution: [10, 4, 9, 5, 2, 4, 2, 2, 9, 3, 7, 5], Fitness: 56\n",
      "Accepted a worse solution: [10, 4, 9, 2, 2, 4, 2, 2, 9, 3, 7, 5], Fitness: 53\n",
      "Found better solution: [10, 4, 9, 2, 2, 4, 2, 2, 5, 3, 7, 5], Fitness: 53\n",
      "Found better solution: [10, 4, 9, 2, 2, 10, 2, 2, 5, 3, 7, 5], Fitness: 55\n",
      "Accepted a worse solution: [5, 4, 9, 2, 2, 10, 2, 2, 5, 3, 7, 5], Fitness: 51\n",
      "Found better solution: [5, 4, 9, 1, 2, 10, 2, 2, 5, 3, 7, 5], Fitness: 55\n",
      "Accepted a worse solution: [5, 4, 9, 1, 2, 10, 2, 5, 5, 3, 7, 5], Fitness: 51\n",
      "Found better solution: [5, 4, 9, 1, 2, 10, 2, 5, 5, 4, 7, 5], Fitness: 51\n",
      "Found better solution: [5, 6, 9, 1, 2, 10, 2, 5, 5, 4, 7, 5], Fitness: 51\n",
      "Found better solution: [5, 6, 9, 1, 2, 10, 2, 5, 5, 4, 7, 7], Fitness: 52\n",
      "Accepted a worse solution: [5, 6, 9, 1, 2, 10, 2, 5, 5, 4, 5, 7], Fitness: 49\n",
      "Accepted a worse solution: [5, 6, 9, 1, 2, 10, 11, 5, 5, 4, 5, 7], Fitness: 48\n",
      "Accepted a worse solution: [5, 6, 9, 1, 5, 10, 11, 5, 5, 4, 5, 7], Fitness: 46\n",
      "Found better solution: [5, 6, 9, 1, 5, 0, 11, 5, 5, 4, 5, 7], Fitness: 47\n",
      "Found better solution: [5, 6, 9, 1, 5, 0, 11, 5, 5, 4, 11, 7], Fitness: 51\n",
      "Found better solution: [5, 6, 9, 1, 5, 0, 11, 5, 5, 0, 11, 7], Fitness: 51\n",
      "Found better solution: [5, 6, 9, 1, 5, 0, 11, 5, 5, 8, 11, 7], Fitness: 52\n",
      "Found better solution: [5, 6, 9, 1, 5, 0, 4, 5, 5, 8, 11, 7], Fitness: 54\n",
      "Accepted a worse solution: [5, 6, 9, 1, 5, 0, 4, 5, 5, 1, 11, 7], Fitness: 52\n",
      "Accepted a worse solution: [5, 6, 9, 1, 5, 0, 4, 5, 5, 1, 11, 11], Fitness: 51\n",
      "Accepted a worse solution: [5, 6, 6, 1, 5, 0, 4, 5, 5, 1, 11, 11], Fitness: 50\n",
      "Found better solution: [5, 6, 6, 1, 5, 0, 4, 6, 5, 1, 11, 11], Fitness: 52\n",
      "Found better solution: [5, 6, 6, 1, 5, 0, 4, 6, 0, 1, 11, 11], Fitness: 52\n",
      "Accepted a worse solution: [5, 6, 6, 1, 5, 0, 4, 11, 0, 1, 11, 11], Fitness: 51\n",
      "Found better solution: [5, 6, 11, 1, 5, 0, 4, 11, 0, 1, 11, 11], Fitness: 51\n",
      "Accepted a worse solution: [5, 6, 11, 1, 4, 0, 4, 11, 0, 1, 11, 11], Fitness: 50\n",
      "Found better solution: [5, 6, 5, 1, 4, 0, 4, 11, 0, 1, 11, 11], Fitness: 51\n",
      "Found better solution: [5, 6, 5, 1, 4, 0, 4, 11, 0, 10, 11, 11], Fitness: 53\n",
      "Found better solution: [10, 6, 5, 1, 4, 0, 4, 11, 0, 10, 11, 11], Fitness: 54\n",
      "Accepted a worse solution: [10, 6, 11, 1, 4, 0, 4, 11, 0, 10, 11, 11], Fitness: 52\n",
      "Found better solution: [10, 6, 11, 1, 10, 0, 4, 11, 0, 10, 11, 11], Fitness: 53\n",
      "Found better solution: [10, 6, 11, 1, 10, 0, 4, 11, 0, 10, 11, 4], Fitness: 55\n",
      "Accepted a worse solution: [10, 5, 11, 1, 10, 0, 4, 11, 0, 10, 11, 4], Fitness: 54\n",
      "Accepted a worse solution: [10, 5, 8, 1, 10, 0, 4, 11, 0, 10, 11, 4], Fitness: 53\n",
      "Found better solution: [10, 5, 8, 1, 10, 0, 4, 11, 0, 10, 3, 4], Fitness: 54\n",
      "Found better solution: [10, 5, 8, 1, 10, 0, 11, 11, 0, 10, 3, 4], Fitness: 57\n",
      "Found better solution: [10, 5, 2, 1, 10, 0, 11, 11, 0, 10, 3, 4], Fitness: 58\n",
      "Found better solution: [10, 5, 2, 1, 10, 0, 5, 11, 0, 10, 3, 4], Fitness: 58\n",
      "Accepted a worse solution: [10, 5, 2, 1, 10, 0, 5, 11, 0, 4, 3, 4], Fitness: 57\n",
      "Accepted a worse solution: [10, 5, 2, 1, 10, 0, 2, 11, 0, 4, 3, 4], Fitness: 56\n",
      "Accepted a worse solution: [10, 5, 2, 1, 10, 0, 1, 11, 0, 4, 3, 4], Fitness: 55\n",
      "Accepted a worse solution: [10, 5, 2, 1, 10, 0, 1, 7, 0, 4, 3, 4], Fitness: 54\n",
      "Accepted a worse solution: [10, 5, 2, 1, 10, 0, 4, 7, 0, 4, 3, 4], Fitness: 53\n",
      "Found better solution: [10, 5, 9, 1, 10, 0, 4, 7, 0, 4, 3, 4], Fitness: 55\n",
      "Found better solution: [10, 5, 9, 2, 10, 0, 4, 7, 0, 4, 3, 4], Fitness: 55\n",
      "Found better solution: [8, 5, 9, 2, 10, 0, 4, 7, 0, 4, 3, 4], Fitness: 56\n",
      "Accepted a worse solution: [8, 1, 9, 2, 10, 0, 4, 7, 0, 4, 3, 4], Fitness: 55\n",
      "Found better solution: [8, 1, 9, 2, 10, 0, 4, 7, 0, 4, 3, 6], Fitness: 56\n",
      "Accepted a worse solution: [8, 1, 9, 2, 2, 0, 4, 7, 0, 4, 3, 6], Fitness: 55\n",
      "Accepted a worse solution: [8, 2, 9, 2, 2, 0, 4, 7, 0, 4, 3, 6], Fitness: 54\n",
      "Found better solution: [8, 2, 9, 2, 2, 0, 4, 7, 7, 4, 3, 6], Fitness: 54\n",
      "Accepted a worse solution: [8, 2, 11, 2, 2, 0, 4, 7, 7, 4, 3, 6], Fitness: 52\n",
      "Found better solution: [8, 2, 11, 1, 2, 0, 4, 7, 7, 4, 3, 6], Fitness: 54\n",
      "Found better solution: [8, 10, 11, 1, 2, 0, 4, 7, 7, 4, 3, 6], Fitness: 54\n",
      "Found better solution: [8, 8, 11, 1, 2, 0, 4, 7, 7, 4, 3, 6], Fitness: 54\n",
      "Found better solution: [8, 8, 11, 1, 2, 0, 4, 11, 7, 4, 3, 6], Fitness: 54\n",
      "Found better solution: [8, 8, 11, 1, 2, 0, 4, 11, 7, 4, 10, 6], Fitness: 56\n",
      "Accepted a worse solution: [8, 10, 11, 1, 2, 0, 4, 11, 7, 4, 10, 6], Fitness: 55\n",
      "Accepted a worse solution: [8, 10, 11, 1, 2, 0, 4, 11, 7, 4, 0, 6], Fitness: 54\n",
      "Accepted a worse solution: [6, 10, 11, 1, 2, 0, 4, 11, 7, 4, 0, 6], Fitness: 52\n",
      "Found better solution: [6, 10, 1, 1, 2, 0, 4, 11, 7, 4, 0, 6], Fitness: 53\n",
      "Found better solution: [6, 10, 1, 1, 2, 0, 4, 11, 7, 4, 7, 6], Fitness: 53\n",
      "Found better solution: [6, 10, 1, 1, 11, 0, 4, 11, 7, 4, 7, 6], Fitness: 54\n",
      "Accepted a worse solution: [6, 10, 1, 1, 11, 0, 4, 11, 7, 7, 7, 6], Fitness: 53\n",
      "Accepted a worse solution: [6, 10, 1, 1, 11, 0, 4, 2, 7, 7, 7, 6], Fitness: 52\n",
      "Found better solution: [6, 10, 1, 1, 11, 0, 4, 2, 7, 7, 3, 6], Fitness: 55\n",
      "Found better solution: [6, 10, 1, 1, 11, 0, 4, 2, 7, 10, 3, 6], Fitness: 57\n",
      "Found better solution: [6, 10, 1, 1, 11, 0, 4, 2, 9, 10, 3, 6], Fitness: 57\n",
      "Found better solution: [0, 10, 1, 1, 11, 0, 4, 2, 9, 10, 3, 6], Fitness: 57\n",
      "Found better solution: [0, 10, 1, 1, 11, 0, 4, 2, 0, 10, 3, 6], Fitness: 57\n",
      "Accepted a worse solution: [0, 10, 1, 1, 2, 0, 4, 2, 0, 10, 3, 6], Fitness: 54\n",
      "Found better solution: [0, 10, 7, 1, 2, 0, 4, 2, 0, 10, 3, 6], Fitness: 54\n",
      "Found better solution: [0, 10, 7, 1, 2, 10, 4, 2, 0, 10, 3, 6], Fitness: 55\n",
      "Found better solution: [0, 10, 5, 1, 2, 10, 4, 2, 0, 10, 3, 6], Fitness: 57\n",
      "Accepted a worse solution: [0, 10, 5, 1, 2, 10, 4, 2, 9, 10, 3, 6], Fitness: 56\n",
      "Accepted a worse solution: [9, 10, 5, 1, 2, 10, 4, 2, 9, 10, 3, 6], Fitness: 53\n",
      "Found better solution: [9, 10, 5, 1, 2, 10, 4, 2, 9, 10, 3, 0], Fitness: 54\n",
      "Found better solution: [9, 10, 5, 0, 2, 10, 4, 2, 9, 10, 3, 0], Fitness: 55\n",
      "Accepted a worse solution: [9, 10, 5, 0, 2, 10, 4, 2, 9, 10, 1, 0], Fitness: 53\n",
      "Found better solution: [9, 4, 5, 0, 2, 10, 4, 2, 9, 10, 1, 0], Fitness: 56\n",
      "Found better solution: [9, 4, 5, 3, 2, 10, 4, 2, 9, 10, 1, 0], Fitness: 56\n",
      "Accepted a worse solution: [9, 4, 5, 3, 2, 10, 4, 2, 9, 10, 1, 2], Fitness: 54\n",
      "Found better solution: [9, 4, 5, 3, 2, 10, 4, 2, 9, 11, 1, 2], Fitness: 56\n",
      "Accepted a worse solution: [9, 4, 5, 3, 2, 10, 4, 2, 5, 11, 1, 2], Fitness: 55\n",
      "Accepted a worse solution: [9, 4, 5, 3, 2, 10, 4, 2, 5, 5, 1, 2], Fitness: 53\n",
      "Found better solution: [9, 4, 5, 3, 2, 10, 11, 2, 5, 5, 1, 2], Fitness: 54\n",
      "Accepted a worse solution: [9, 4, 5, 4, 2, 10, 11, 2, 5, 5, 1, 2], Fitness: 53\n",
      "Found better solution: [9, 4, 9, 4, 2, 10, 11, 2, 5, 5, 1, 2], Fitness: 55\n",
      "Accepted a worse solution: [9, 4, 9, 10, 2, 10, 11, 2, 5, 5, 1, 2], Fitness: 52\n",
      "Accepted a worse solution: [9, 4, 9, 10, 2, 2, 11, 2, 5, 5, 1, 2], Fitness: 50\n",
      "Accepted a worse solution: [9, 4, 9, 10, 2, 2, 11, 2, 5, 0, 1, 2], Fitness: 47\n",
      "Found better solution: [9, 4, 9, 5, 2, 2, 11, 2, 5, 0, 1, 2], Fitness: 49\n",
      "Found better solution: [1, 4, 9, 5, 2, 2, 11, 2, 5, 0, 1, 2], Fitness: 51\n",
      "Accepted a worse solution: [1, 4, 9, 5, 1, 2, 11, 2, 5, 0, 1, 2], Fitness: 49\n",
      "Accepted a worse solution: [1, 4, 9, 1, 1, 2, 11, 2, 5, 0, 1, 2], Fitness: 47\n",
      "Found better solution: [1, 4, 9, 1, 1, 2, 11, 2, 5, 0, 5, 2], Fitness: 51\n",
      "Accepted a worse solution: [1, 4, 2, 1, 1, 2, 11, 2, 5, 0, 5, 2], Fitness: 47\n",
      "Accepted a worse solution: [1, 6, 2, 1, 1, 2, 11, 2, 5, 0, 5, 2], Fitness: 46\n",
      "Found better solution: [1, 6, 2, 1, 9, 2, 11, 2, 5, 0, 5, 2], Fitness: 46\n",
      "Found better solution: [1, 6, 2, 5, 9, 2, 11, 2, 5, 0, 5, 2], Fitness: 46\n",
      "Accepted a worse solution: [1, 6, 2, 5, 9, 2, 1, 2, 5, 0, 5, 2], Fitness: 43\n",
      "Found better solution: [1, 6, 2, 5, 3, 2, 1, 2, 5, 0, 5, 2], Fitness: 43\n",
      "Found better solution: [1, 6, 2, 5, 3, 2, 1, 2, 2, 0, 5, 2], Fitness: 43\n",
      "Found better solution: [1, 6, 2, 5, 3, 6, 1, 2, 2, 0, 5, 2], Fitness: 48\n",
      "Found better solution: [1, 6, 2, 5, 3, 7, 1, 2, 2, 0, 5, 2], Fitness: 49\n",
      "Found better solution: [1, 5, 2, 5, 3, 7, 1, 2, 2, 0, 5, 2], Fitness: 49\n",
      "Accepted a worse solution: [1, 5, 5, 5, 3, 7, 1, 2, 2, 0, 5, 2], Fitness: 47\n",
      "Found better solution: [1, 5, 5, 5, 3, 7, 1, 6, 2, 0, 5, 2], Fitness: 50\n",
      "Found better solution: [1, 5, 5, 5, 3, 7, 1, 6, 2, 0, 4, 2], Fitness: 53\n",
      "Found better solution: [1, 5, 5, 5, 3, 7, 9, 6, 2, 0, 4, 2], Fitness: 55\n",
      "Accepted a worse solution: [1, 5, 5, 5, 3, 7, 9, 0, 2, 0, 4, 2], Fitness: 54\n",
      "Found better solution: [1, 1, 5, 5, 3, 7, 9, 0, 2, 0, 4, 2], Fitness: 55\n",
      "Found better solution: [1, 8, 5, 5, 3, 7, 9, 0, 2, 0, 4, 2], Fitness: 55\n",
      "Found better solution: [1, 8, 5, 5, 9, 7, 9, 0, 2, 0, 4, 2], Fitness: 55\n",
      "Accepted a worse solution: [1, 6, 5, 5, 9, 7, 9, 0, 2, 0, 4, 2], Fitness: 53\n",
      "Found better solution: [1, 6, 1, 5, 9, 7, 9, 0, 2, 0, 4, 2], Fitness: 56\n",
      "Found better solution: [1, 6, 1, 5, 9, 7, 9, 0, 3, 0, 4, 2], Fitness: 58\n",
      "Found better solution: [1, 6, 1, 5, 9, 7, 10, 0, 3, 0, 4, 2], Fitness: 59\n",
      "Accepted a worse solution: [1, 6, 1, 5, 9, 2, 10, 0, 3, 0, 4, 2], Fitness: 57\n",
      "Found better solution: [1, 6, 1, 5, 9, 2, 10, 0, 3, 0, 4, 11], Fitness: 60\n",
      "Found better solution: [1, 6, 1, 5, 9, 2, 10, 0, 3, 0, 4, 7], Fitness: 60\n",
      "Accepted a worse solution: [1, 6, 1, 5, 9, 1, 10, 0, 3, 0, 4, 7], Fitness: 59\n",
      "Accepted a worse solution: [1, 6, 1, 5, 9, 1, 10, 0, 3, 7, 4, 7], Fitness: 58\n",
      "Found better solution: [1, 6, 1, 5, 9, 11, 10, 0, 3, 7, 4, 7], Fitness: 59\n",
      "Accepted a worse solution: [1, 6, 1, 5, 9, 7, 10, 0, 3, 7, 4, 7], Fitness: 58\n",
      "Found better solution: [1, 9, 1, 5, 9, 7, 10, 0, 3, 7, 4, 7], Fitness: 59\n",
      "Found better solution: [1, 9, 1, 5, 9, 7, 10, 0, 3, 7, 4, 6], Fitness: 60\n",
      "Found better solution: [1, 9, 1, 5, 9, 4, 10, 0, 3, 7, 4, 6], Fitness: 60\n",
      "Accepted a worse solution: [1, 9, 1, 5, 9, 4, 10, 5, 3, 7, 4, 6], Fitness: 58\n",
      "Accepted a worse solution: [1, 9, 1, 5, 9, 4, 10, 5, 8, 7, 4, 6], Fitness: 57\n",
      "Accepted a worse solution: [1, 9, 1, 5, 3, 4, 10, 5, 8, 7, 4, 6], Fitness: 56\n",
      "Accepted a worse solution: [1, 9, 1, 5, 3, 4, 10, 5, 8, 7, 1, 6], Fitness: 55\n",
      "Accepted a worse solution: [1, 9, 1, 5, 3, 4, 10, 5, 8, 7, 1, 8], Fitness: 54\n",
      "Found better solution: [1, 9, 1, 5, 3, 4, 10, 5, 8, 7, 0, 8], Fitness: 55\n",
      "Found better solution: [1, 9, 9, 5, 3, 4, 10, 5, 8, 7, 0, 8], Fitness: 57\n",
      "Accepted a worse solution: [1, 9, 9, 7, 3, 4, 10, 5, 8, 7, 0, 8], Fitness: 54\n",
      "Accepted a worse solution: [1, 9, 9, 7, 3, 4, 10, 5, 8, 7, 8, 8], Fitness: 52\n",
      "Accepted a worse solution: [1, 9, 9, 7, 7, 4, 10, 5, 8, 7, 8, 8], Fitness: 50\n",
      "Found better solution: [1, 9, 9, 7, 7, 4, 10, 1, 8, 7, 8, 8], Fitness: 51\n",
      "Found better solution: [1, 9, 9, 7, 7, 4, 10, 1, 8, 10, 8, 8], Fitness: 53\n",
      "Found better solution: [1, 9, 9, 11, 7, 4, 10, 1, 8, 10, 8, 8], Fitness: 55\n",
      "Found better solution: [1, 9, 9, 11, 7, 4, 10, 1, 8, 10, 8, 7], Fitness: 56\n",
      "Accepted a worse solution: [1, 9, 9, 11, 7, 10, 10, 1, 8, 10, 8, 7], Fitness: 54\n",
      "Found better solution: [1, 9, 9, 11, 1, 10, 10, 1, 8, 10, 8, 7], Fitness: 54\n",
      "Accepted a worse solution: [1, 9, 9, 11, 1, 10, 10, 1, 8, 10, 11, 7], Fitness: 53\n",
      "Found better solution: [1, 9, 9, 11, 1, 10, 10, 4, 8, 10, 11, 7], Fitness: 53\n",
      "Accepted a worse solution: [1, 9, 9, 11, 1, 10, 10, 9, 8, 10, 11, 7], Fitness: 51\n",
      "Found better solution: [1, 7, 9, 11, 1, 10, 10, 9, 8, 10, 11, 7], Fitness: 53\n",
      "Found better solution: [1, 7, 9, 11, 1, 10, 10, 5, 8, 10, 11, 7], Fitness: 56\n",
      "Found better solution: [1, 7, 9, 11, 1, 10, 10, 5, 8, 10, 2, 7], Fitness: 58\n",
      "Accepted a worse solution: [1, 7, 9, 11, 10, 10, 10, 5, 8, 10, 2, 7], Fitness: 54\n",
      "Found better solution: [1, 7, 9, 11, 10, 10, 10, 5, 2, 10, 2, 7], Fitness: 54\n",
      "Found better solution: [1, 7, 9, 11, 10, 10, 10, 5, 2, 8, 2, 7], Fitness: 58\n",
      "Found better solution: [1, 7, 9, 11, 10, 10, 1, 5, 2, 8, 2, 7], Fitness: 59\n",
      "Accepted a worse solution: [1, 7, 7, 11, 10, 10, 1, 5, 2, 8, 2, 7], Fitness: 56\n",
      "Found better solution: [1, 7, 7, 11, 10, 9, 1, 5, 2, 8, 2, 7], Fitness: 56\n",
      "Found better solution: [1, 2, 7, 11, 10, 9, 1, 5, 2, 8, 2, 7], Fitness: 56\n",
      "Found better solution: [1, 0, 7, 11, 10, 9, 1, 5, 2, 8, 2, 7], Fitness: 57\n",
      "Found better solution: [1, 3, 7, 11, 10, 9, 1, 5, 2, 8, 2, 7], Fitness: 59\n",
      "Found better solution: [1, 3, 7, 11, 10, 9, 1, 5, 2, 8, 2, 0], Fitness: 60\n",
      "Found better solution: [0, 3, 7, 11, 10, 9, 1, 5, 2, 8, 2, 0], Fitness: 60\n",
      "Found better solution: [0, 3, 7, 11, 10, 9, 1, 5, 2, 8, 10, 0], Fitness: 60\n",
      "Found better solution: [0, 3, 7, 11, 4, 9, 1, 5, 2, 8, 10, 0], Fitness: 61\n",
      "Accepted a worse solution: [0, 3, 7, 11, 4, 9, 1, 5, 2, 8, 10, 6], Fitness: 60\n",
      "Found better solution: [7, 3, 7, 11, 4, 9, 1, 5, 2, 8, 10, 6], Fitness: 60\n",
      "Found better solution: [7, 3, 7, 11, 4, 9, 1, 5, 2, 8, 3, 6], Fitness: 60\n",
      "Accepted a worse solution: [7, 3, 7, 11, 4, 9, 1, 5, 2, 2, 3, 6], Fitness: 59\n",
      "Accepted a worse solution: [7, 3, 7, 1, 4, 9, 1, 5, 2, 2, 3, 6], Fitness: 57\n",
      "Found better solution: [7, 3, 7, 5, 4, 9, 1, 5, 2, 2, 3, 6], Fitness: 57\n",
      "Found better solution: [7, 3, 7, 6, 4, 9, 1, 5, 2, 2, 3, 6], Fitness: 58\n",
      "Found better solution: [7, 3, 7, 6, 4, 9, 8, 5, 2, 2, 3, 6], Fitness: 58\n",
      "Found better solution: [7, 3, 7, 6, 4, 9, 8, 5, 2, 2, 8, 6], Fitness: 58\n",
      "Accepted a worse solution: [7, 2, 7, 6, 4, 9, 8, 5, 2, 2, 8, 6], Fitness: 57\n",
      "Found better solution: [7, 2, 7, 6, 4, 9, 8, 5, 2, 2, 8, 0], Fitness: 57\n",
      "Found better solution: [7, 2, 7, 6, 4, 9, 8, 5, 9, 2, 8, 0], Fitness: 57\n",
      "Accepted a worse solution: [7, 2, 7, 6, 4, 4, 8, 5, 9, 2, 8, 0], Fitness: 56\n",
      "Accepted a worse solution: [7, 2, 7, 6, 4, 4, 8, 5, 7, 2, 8, 0], Fitness: 54\n",
      "Found better solution: [7, 2, 7, 6, 4, 4, 8, 5, 7, 2, 3, 0], Fitness: 55\n",
      "Found better solution: [0, 2, 7, 6, 4, 4, 8, 5, 7, 2, 3, 0], Fitness: 55\n",
      "Accepted a worse solution: [0, 2, 7, 5, 4, 4, 8, 5, 7, 2, 3, 0], Fitness: 54\n",
      "Found better solution: [0, 2, 7, 5, 4, 4, 8, 5, 7, 2, 3, 9], Fitness: 55\n",
      "Found better solution: [0, 11, 7, 5, 4, 4, 8, 5, 7, 2, 3, 9], Fitness: 55\n",
      "Found better solution: [0, 11, 6, 5, 4, 4, 8, 5, 7, 2, 3, 9], Fitness: 55\n",
      "Found better solution: [0, 11, 8, 5, 4, 4, 8, 5, 7, 2, 3, 9], Fitness: 56\n",
      "Found better solution: [0, 11, 8, 5, 4, 4, 10, 5, 7, 2, 3, 9], Fitness: 58\n",
      "Found better solution: [0, 11, 8, 5, 4, 8, 10, 5, 7, 2, 3, 9], Fitness: 58\n",
      "Accepted a worse solution: [0, 8, 8, 5, 4, 8, 10, 5, 7, 2, 3, 9], Fitness: 57\n",
      "Found better solution: [0, 8, 8, 5, 4, 8, 10, 10, 7, 2, 3, 9], Fitness: 57\n",
      "Found better solution: [0, 8, 8, 5, 2, 8, 10, 10, 7, 2, 3, 9], Fitness: 57\n",
      "Found better solution: [0, 8, 8, 5, 0, 8, 10, 10, 7, 2, 3, 9], Fitness: 58\n",
      "Accepted a worse solution: [9, 8, 8, 5, 0, 8, 10, 10, 7, 2, 3, 9], Fitness: 57\n",
      "Found better solution: [9, 3, 8, 5, 0, 8, 10, 10, 7, 2, 3, 9], Fitness: 57\n",
      "Accepted a worse solution: [9, 3, 8, 5, 0, 8, 10, 10, 7, 2, 3, 2], Fitness: 55\n",
      "Accepted a worse solution: [8, 3, 8, 5, 0, 8, 10, 10, 7, 2, 3, 2], Fitness: 52\n",
      "Found better solution: [8, 6, 8, 5, 0, 8, 10, 10, 7, 2, 3, 2], Fitness: 55\n",
      "Found better solution: [8, 6, 8, 5, 0, 8, 3, 10, 7, 2, 3, 2], Fitness: 55\n",
      "Found better solution: [8, 6, 8, 5, 0, 8, 10, 10, 7, 2, 3, 2], Fitness: 55\n",
      "Found better solution: [8, 6, 8, 5, 0, 3, 10, 10, 7, 2, 3, 2], Fitness: 57\n",
      "Found better solution: [8, 6, 8, 5, 0, 3, 10, 10, 7, 2, 8, 2], Fitness: 57\n",
      "Accepted a worse solution: [8, 6, 8, 5, 0, 3, 10, 9, 7, 2, 8, 2], Fitness: 56\n",
      "Found better solution: [8, 6, 8, 5, 0, 3, 10, 9, 7, 2, 3, 2], Fitness: 56\n",
      "Found better solution: [8, 6, 8, 5, 0, 3, 10, 10, 7, 2, 3, 2], Fitness: 57\n",
      "Accepted a worse solution: [8, 6, 8, 5, 0, 3, 10, 1, 7, 2, 3, 2], Fitness: 55\n",
      "Accepted a worse solution: [8, 6, 8, 5, 0, 3, 1, 1, 7, 2, 3, 2], Fitness: 53\n",
      "Accepted a worse solution: [8, 6, 8, 5, 0, 3, 1, 1, 10, 2, 3, 2], Fitness: 52\n",
      "Accepted a worse solution: [8, 10, 8, 5, 0, 3, 1, 1, 10, 2, 3, 2], Fitness: 51\n",
      "Found better solution: [8, 10, 8, 5, 0, 3, 1, 1, 10, 3, 3, 2], Fitness: 51\n",
      "Found better solution: [8, 10, 8, 5, 0, 3, 1, 1, 9, 3, 3, 2], Fitness: 53\n",
      "Accepted a worse solution: [8, 10, 8, 5, 0, 3, 1, 1, 2, 3, 3, 2], Fitness: 49\n",
      "Found better solution: [8, 10, 8, 5, 0, 3, 1, 1, 2, 3, 11, 2], Fitness: 52\n",
      "Found better solution: [8, 10, 0, 5, 0, 3, 1, 1, 2, 3, 11, 2], Fitness: 52\n",
      "Found better solution: [8, 10, 0, 5, 0, 3, 1, 1, 2, 9, 11, 2], Fitness: 55\n",
      "Found better solution: [8, 10, 0, 5, 0, 3, 1, 1, 4, 9, 11, 2], Fitness: 56\n",
      "Found better solution: [8, 10, 3, 5, 0, 3, 1, 1, 4, 9, 11, 2], Fitness: 56\n",
      "Accepted a worse solution: [8, 10, 3, 5, 0, 3, 1, 1, 4, 3, 11, 2], Fitness: 52\n",
      "Found better solution: [8, 10, 9, 5, 0, 3, 1, 1, 4, 3, 11, 2], Fitness: 54\n",
      "Accepted a worse solution: [8, 10, 9, 5, 0, 3, 1, 1, 4, 3, 11, 0], Fitness: 51\n",
      "Found better solution: [8, 10, 4, 5, 0, 3, 1, 1, 4, 3, 11, 0], Fitness: 51\n",
      "Found better solution: [8, 10, 4, 0, 0, 3, 1, 1, 4, 3, 11, 0], Fitness: 53\n",
      "Found better solution: [8, 10, 4, 0, 1, 3, 1, 1, 4, 3, 11, 0], Fitness: 53\n",
      "Found better solution: [8, 10, 4, 0, 1, 3, 1, 1, 2, 3, 11, 0], Fitness: 53\n",
      "Found better solution: [2, 10, 4, 0, 1, 3, 1, 1, 2, 3, 11, 0], Fitness: 53\n",
      "Found better solution: [2, 10, 4, 0, 1, 3, 10, 1, 2, 3, 11, 0], Fitness: 54\n",
      "Accepted a worse solution: [10, 10, 4, 0, 1, 3, 10, 1, 2, 3, 11, 0], Fitness: 53\n",
      "Accepted a worse solution: [10, 10, 0, 0, 1, 3, 10, 1, 2, 3, 11, 0], Fitness: 50\n",
      "Found better solution: [10, 10, 0, 9, 1, 3, 10, 1, 2, 3, 11, 0], Fitness: 52\n",
      "Accepted a worse solution: [10, 10, 0, 9, 1, 3, 10, 1, 2, 3, 2, 0], Fitness: 49\n",
      "Found better solution: [10, 10, 0, 9, 1, 3, 10, 7, 2, 3, 2, 0], Fitness: 53\n",
      "Found better solution: [10, 10, 0, 9, 11, 3, 10, 7, 2, 3, 2, 0], Fitness: 53\n",
      "Accepted a worse solution: [10, 10, 8, 9, 11, 3, 10, 7, 2, 3, 2, 0], Fitness: 52\n",
      "Found better solution: [10, 10, 8, 9, 11, 3, 10, 7, 0, 3, 2, 0], Fitness: 53\n",
      "Found better solution: [10, 10, 2, 9, 11, 3, 10, 7, 0, 3, 2, 0], Fitness: 53\n",
      "Found better solution: [10, 10, 2, 9, 11, 3, 10, 7, 0, 3, 2, 5], Fitness: 53\n",
      "Found better solution: [10, 10, 2, 9, 11, 3, 10, 7, 0, 3, 2, 0], Fitness: 53\n",
      "Found better solution: [10, 10, 2, 9, 11, 3, 7, 7, 0, 3, 2, 0], Fitness: 54\n",
      "Found better solution: [10, 1, 2, 9, 11, 3, 7, 7, 0, 3, 2, 0], Fitness: 54\n",
      "Found better solution: [10, 1, 2, 9, 11, 4, 7, 7, 0, 3, 2, 0], Fitness: 56\n",
      "Found better solution: [10, 1, 2, 9, 11, 4, 7, 7, 0, 4, 2, 0], Fitness: 56\n",
      "Found better solution: [10, 1, 2, 9, 11, 4, 7, 6, 0, 4, 2, 0], Fitness: 56\n",
      "Found better solution: [10, 1, 2, 9, 11, 4, 7, 4, 0, 4, 2, 0], Fitness: 56\n",
      "Found better solution: [10, 6, 2, 9, 11, 4, 7, 4, 0, 4, 2, 0], Fitness: 57\n",
      "Accepted a worse solution: [10, 0, 2, 9, 11, 4, 7, 4, 0, 4, 2, 0], Fitness: 54\n",
      "Found better solution: [10, 0, 2, 6, 11, 4, 7, 4, 0, 4, 2, 0], Fitness: 54\n",
      "Found better solution: [10, 0, 2, 6, 11, 4, 11, 4, 0, 4, 2, 0], Fitness: 54\n",
      "Found better solution: [10, 0, 2, 6, 11, 4, 11, 4, 0, 4, 2, 8], Fitness: 56\n",
      "Found better solution: [10, 0, 2, 6, 11, 4, 11, 4, 0, 4, 2, 9], Fitness: 57\n",
      "Found better solution: [10, 0, 2, 6, 11, 4, 11, 1, 0, 4, 2, 9], Fitness: 58\n",
      "Found better solution: [10, 0, 2, 8, 11, 4, 11, 1, 0, 4, 2, 9], Fitness: 58\n",
      "Accepted a worse solution: [1, 0, 2, 8, 11, 4, 11, 1, 0, 4, 2, 9], Fitness: 56\n",
      "Accepted a worse solution: [1, 0, 2, 8, 11, 4, 11, 6, 0, 4, 2, 9], Fitness: 55\n",
      "Found better solution: [1, 0, 2, 8, 11, 4, 11, 6, 0, 10, 2, 9], Fitness: 56\n",
      "Found better solution: [1, 0, 2, 8, 11, 4, 11, 1, 0, 10, 2, 9], Fitness: 56\n",
      "Found better solution: [1, 0, 2, 8, 11, 4, 11, 10, 0, 10, 2, 9], Fitness: 56\n",
      "Found better solution: [1, 0, 2, 8, 11, 4, 2, 10, 0, 10, 2, 9], Fitness: 56\n",
      "Found better solution: [1, 0, 2, 8, 11, 4, 2, 10, 0, 11, 2, 9], Fitness: 56\n",
      "Found better solution: [1, 0, 7, 8, 11, 4, 2, 10, 0, 11, 2, 9], Fitness: 56\n",
      "Accepted a worse solution: [1, 0, 7, 8, 11, 4, 2, 10, 0, 11, 2, 10], Fitness: 54\n",
      "Found better solution: [1, 0, 7, 8, 11, 4, 10, 10, 0, 11, 2, 10], Fitness: 54\n",
      "Found better solution: [1, 0, 7, 8, 11, 4, 10, 10, 3, 11, 2, 10], Fitness: 55\n",
      "Found better solution: [1, 0, 7, 8, 11, 4, 10, 10, 3, 6, 2, 10], Fitness: 55\n",
      "Found better solution: [1, 0, 7, 8, 11, 4, 10, 10, 3, 6, 2, 4], Fitness: 56\n",
      "Found better solution: [1, 0, 0, 8, 11, 4, 10, 10, 3, 6, 2, 4], Fitness: 57\n",
      "Accepted a worse solution: [1, 0, 0, 8, 11, 4, 10, 10, 3, 2, 2, 4], Fitness: 55\n",
      "Found better solution: [1, 0, 0, 8, 11, 4, 10, 10, 9, 2, 2, 4], Fitness: 55\n",
      "Found better solution: [1, 0, 0, 8, 11, 4, 10, 10, 9, 2, 2, 7], Fitness: 58\n",
      "Accepted a worse solution: [1, 0, 0, 8, 9, 4, 10, 10, 9, 2, 2, 7], Fitness: 56\n",
      "Found better solution: [1, 0, 0, 8, 11, 4, 10, 10, 9, 2, 2, 7], Fitness: 58\n",
      "Accepted a worse solution: [1, 0, 0, 8, 11, 10, 10, 10, 9, 2, 2, 7], Fitness: 55\n",
      "Found better solution: [1, 0, 0, 3, 11, 10, 10, 10, 9, 2, 2, 7], Fitness: 57\n",
      "Accepted a worse solution: [1, 0, 0, 9, 11, 10, 10, 10, 9, 2, 2, 7], Fitness: 55\n",
      "Found better solution: [1, 0, 0, 8, 11, 10, 10, 10, 9, 2, 2, 7], Fitness: 55\n",
      "Found better solution: [1, 0, 0, 8, 11, 10, 10, 7, 9, 2, 2, 7], Fitness: 57\n",
      "Accepted a worse solution: [1, 0, 3, 8, 11, 10, 10, 7, 9, 2, 2, 7], Fitness: 56\n",
      "Accepted a worse solution: [1, 0, 3, 8, 11, 10, 10, 0, 9, 2, 2, 7], Fitness: 55\n",
      "Accepted a worse solution: [1, 0, 3, 8, 11, 10, 10, 0, 7, 2, 2, 7], Fitness: 53\n",
      "Accepted a worse solution: [1, 0, 3, 8, 11, 10, 10, 0, 7, 2, 3, 7], Fitness: 51\n",
      "Found better solution: [1, 0, 3, 8, 11, 10, 10, 10, 7, 2, 3, 7], Fitness: 52\n",
      "Found better solution: [1, 0, 3, 8, 11, 10, 10, 9, 7, 2, 3, 7], Fitness: 53\n",
      "Found better solution: [1, 0, 0, 8, 11, 10, 10, 9, 7, 2, 3, 7], Fitness: 54\n",
      "Found better solution: [1, 5, 0, 8, 11, 10, 10, 9, 7, 2, 3, 7], Fitness: 56\n",
      "Found better solution: [1, 5, 0, 8, 11, 8, 10, 9, 7, 2, 3, 7], Fitness: 58\n",
      "Found better solution: [1, 5, 0, 8, 11, 8, 10, 9, 11, 2, 3, 7], Fitness: 58\n",
      "Accepted a worse solution: [1, 5, 0, 8, 11, 8, 10, 9, 5, 2, 3, 7], Fitness: 57\n",
      "Found better solution: [1, 5, 0, 8, 11, 8, 10, 9, 5, 9, 3, 7], Fitness: 57\n",
      "Found better solution: [1, 5, 0, 8, 11, 8, 10, 9, 9, 9, 3, 7], Fitness: 57\n",
      "Found better solution: [1, 5, 0, 8, 11, 8, 10, 9, 9, 0, 3, 7], Fitness: 59\n",
      "Found better solution: [6, 5, 0, 8, 11, 8, 10, 9, 9, 0, 3, 7], Fitness: 59\n",
      "Accepted a worse solution: [6, 5, 5, 8, 11, 8, 10, 9, 9, 0, 3, 7], Fitness: 58\n",
      "Found better solution: [6, 5, 5, 8, 11, 8, 10, 9, 9, 0, 10, 7], Fitness: 58\n",
      "Accepted a worse solution: [6, 5, 5, 7, 11, 8, 10, 9, 9, 0, 10, 7], Fitness: 56\n",
      "Accepted a worse solution: [6, 5, 9, 7, 11, 8, 10, 9, 9, 0, 10, 7], Fitness: 55\n",
      "Accepted a worse solution: [6, 5, 9, 7, 11, 11, 10, 9, 9, 0, 10, 7], Fitness: 51\n",
      "Found better solution: [1, 5, 9, 7, 11, 11, 10, 9, 9, 0, 10, 7], Fitness: 52\n",
      "Found better solution: [1, 5, 9, 7, 11, 11, 10, 0, 9, 0, 10, 7], Fitness: 55\n",
      "Accepted a worse solution: [1, 5, 9, 7, 11, 11, 10, 0, 9, 0, 10, 0], Fitness: 53\n",
      "Found better solution: [1, 2, 9, 7, 11, 11, 10, 0, 9, 0, 10, 0], Fitness: 53\n",
      "Found better solution: [1, 2, 9, 7, 11, 11, 10, 6, 9, 0, 10, 0], Fitness: 55\n",
      "Found better solution: [3, 2, 9, 7, 11, 11, 10, 6, 9, 0, 10, 0], Fitness: 56\n",
      "Accepted a worse solution: [3, 2, 9, 7, 11, 11, 10, 6, 9, 9, 10, 0], Fitness: 54\n",
      "Found better solution: [3, 2, 9, 7, 11, 11, 10, 6, 9, 9, 10, 1], Fitness: 55\n",
      "Found better solution: [3, 2, 2, 7, 11, 11, 10, 6, 9, 9, 10, 1], Fitness: 55\n",
      "Found better solution: [3, 2, 2, 7, 11, 11, 10, 6, 9, 7, 10, 1], Fitness: 55\n",
      "Found better solution: [3, 0, 2, 7, 11, 11, 10, 6, 9, 7, 10, 1], Fitness: 57\n",
      "Found better solution: [3, 0, 2, 6, 11, 11, 10, 6, 9, 7, 10, 1], Fitness: 57\n",
      "Found better solution: [3, 5, 2, 6, 11, 11, 10, 6, 9, 7, 10, 1], Fitness: 57\n",
      "Found better solution: [3, 5, 2, 6, 11, 11, 10, 6, 0, 7, 10, 1], Fitness: 57\n",
      "Found better solution: [3, 5, 2, 6, 11, 11, 10, 0, 0, 7, 10, 1], Fitness: 57\n",
      "Accepted a worse solution: [3, 5, 2, 6, 11, 11, 10, 0, 0, 7, 10, 4], Fitness: 55\n",
      "Found better solution: [3, 5, 2, 6, 11, 11, 10, 4, 0, 7, 10, 4], Fitness: 56\n",
      "Found better solution: [3, 5, 2, 6, 11, 11, 8, 4, 0, 7, 10, 4], Fitness: 60\n",
      "Found better solution: [3, 5, 2, 6, 5, 11, 8, 4, 0, 7, 10, 4], Fitness: 60\n",
      "Found better solution: [3, 5, 2, 6, 5, 11, 8, 4, 0, 7, 0, 4], Fitness: 60\n",
      "Accepted a worse solution: [3, 5, 2, 6, 5, 11, 8, 4, 0, 7, 3, 4], Fitness: 59\n",
      "Accepted a worse solution: [3, 5, 2, 6, 5, 11, 6, 4, 0, 7, 3, 4], Fitness: 57\n",
      "Found better solution: [3, 5, 2, 6, 5, 11, 6, 4, 0, 7, 3, 9], Fitness: 58\n",
      "Accepted a worse solution: [3, 5, 2, 6, 5, 11, 4, 4, 0, 7, 3, 9], Fitness: 57\n",
      "Accepted a worse solution: [3, 5, 2, 6, 5, 11, 4, 4, 0, 7, 6, 9], Fitness: 55\n",
      "Found better solution: [3, 5, 2, 6, 5, 11, 4, 4, 0, 7, 10, 9], Fitness: 56\n",
      "Found better solution: [3, 5, 2, 6, 5, 11, 4, 4, 0, 7, 4, 9], Fitness: 56\n",
      "Found better solution: [3, 5, 2, 6, 5, 11, 4, 0, 0, 7, 4, 9], Fitness: 57\n",
      "Accepted a worse solution: [3, 5, 2, 6, 5, 0, 4, 0, 0, 7, 4, 9], Fitness: 56\n",
      "Found better solution: [3, 5, 2, 6, 5, 0, 4, 0, 0, 7, 4, 1], Fitness: 58\n",
      "Found better solution: [3, 5, 2, 6, 5, 9, 4, 0, 0, 7, 4, 1], Fitness: 58\n",
      "Found better solution: [8, 5, 2, 6, 5, 9, 4, 0, 0, 7, 4, 1], Fitness: 58\n",
      "Found better solution: [8, 5, 2, 6, 5, 9, 4, 0, 0, 7, 4, 10], Fitness: 58\n",
      "Accepted a worse solution: [8, 5, 2, 6, 5, 9, 4, 0, 0, 9, 4, 10], Fitness: 57\n",
      "Found better solution: [8, 5, 2, 6, 5, 9, 4, 0, 0, 1, 4, 10], Fitness: 57\n",
      "Accepted a worse solution: [8, 5, 2, 7, 5, 9, 4, 0, 0, 1, 4, 10], Fitness: 54\n",
      "Found better solution: [8, 5, 2, 7, 5, 9, 4, 0, 0, 6, 4, 10], Fitness: 57\n",
      "Accepted a worse solution: [8, 5, 2, 7, 5, 9, 4, 0, 0, 6, 4, 8], Fitness: 55\n",
      "Found better solution: [8, 5, 2, 7, 5, 9, 4, 0, 0, 6, 4, 2], Fitness: 56\n",
      "Found better solution: [8, 5, 10, 7, 5, 9, 4, 0, 0, 6, 4, 2], Fitness: 56\n",
      "Found better solution: [8, 5, 10, 8, 5, 9, 4, 0, 0, 6, 4, 2], Fitness: 58\n",
      "Found better solution: [8, 5, 10, 1, 5, 9, 4, 0, 0, 6, 4, 2], Fitness: 58\n",
      "Found better solution: [8, 5, 10, 1, 5, 9, 9, 0, 0, 6, 4, 2], Fitness: 58\n",
      "Accepted a worse solution: [8, 5, 10, 1, 5, 9, 9, 0, 0, 6, 4, 8], Fitness: 56\n",
      "Accepted a worse solution: [8, 5, 10, 6, 5, 9, 9, 0, 0, 6, 4, 8], Fitness: 53\n",
      "Found better solution: [8, 5, 10, 6, 5, 10, 9, 0, 0, 6, 4, 8], Fitness: 53\n",
      "Found better solution: [11, 5, 10, 6, 5, 10, 9, 0, 0, 6, 4, 8], Fitness: 56\n",
      "Found better solution: [11, 5, 10, 6, 5, 10, 9, 0, 0, 5, 4, 8], Fitness: 57\n",
      "Found better solution: [11, 5, 10, 6, 5, 1, 9, 0, 0, 5, 4, 8], Fitness: 57\n",
      "Found better solution: [11, 5, 10, 6, 5, 1, 9, 0, 2, 5, 4, 8], Fitness: 57\n",
      "Found better solution: [11, 8, 10, 6, 5, 1, 9, 0, 2, 5, 4, 8], Fitness: 57\n",
      "Found better solution: [11, 8, 10, 6, 5, 1, 9, 0, 3, 5, 4, 8], Fitness: 57\n",
      "Accepted a worse solution: [11, 8, 10, 6, 5, 1, 9, 0, 11, 5, 4, 8], Fitness: 54\n",
      "Found better solution: [11, 8, 10, 6, 2, 1, 9, 0, 11, 5, 4, 8], Fitness: 56\n",
      "Found better solution: [11, 8, 10, 6, 2, 1, 9, 0, 1, 5, 4, 8], Fitness: 56\n",
      "Found better solution: [11, 8, 10, 6, 2, 1, 9, 0, 1, 5, 11, 8], Fitness: 56\n",
      "Found better solution: [11, 10, 10, 6, 2, 1, 9, 0, 1, 5, 11, 8], Fitness: 57\n",
      "Accepted a worse solution: [11, 10, 10, 6, 2, 1, 9, 2, 1, 5, 11, 8], Fitness: 55\n",
      "Found better solution: [11, 10, 10, 6, 2, 1, 9, 2, 0, 5, 11, 8], Fitness: 58\n",
      "Found better solution: [11, 7, 10, 6, 2, 1, 9, 2, 0, 5, 11, 8], Fitness: 59\n",
      "Accepted a worse solution: [11, 2, 10, 6, 2, 1, 9, 2, 0, 5, 11, 8], Fitness: 57\n",
      "Accepted a worse solution: [11, 2, 10, 6, 2, 1, 9, 2, 5, 5, 11, 8], Fitness: 55\n",
      "Found better solution: [11, 2, 10, 6, 2, 1, 9, 2, 5, 0, 11, 8], Fitness: 55\n",
      "Found better solution: [11, 5, 10, 6, 2, 1, 9, 2, 5, 0, 11, 8], Fitness: 55\n",
      "Found better solution: [11, 6, 10, 6, 2, 1, 9, 2, 5, 0, 11, 8], Fitness: 57\n",
      "Found better solution: [11, 6, 10, 4, 2, 1, 9, 2, 5, 0, 11, 8], Fitness: 59\n",
      "Accepted a worse solution: [11, 6, 10, 4, 2, 11, 9, 2, 5, 0, 11, 8], Fitness: 58\n",
      "Found better solution: [11, 6, 10, 4, 2, 11, 9, 7, 5, 0, 11, 8], Fitness: 60\n",
      "Accepted a worse solution: [11, 6, 10, 4, 7, 11, 9, 7, 5, 0, 11, 8], Fitness: 57\n",
      "Accepted a worse solution: [11, 6, 10, 4, 7, 11, 9, 7, 6, 0, 11, 8], Fitness: 56\n",
      "Found better solution: [11, 6, 10, 4, 8, 11, 9, 7, 6, 0, 11, 8], Fitness: 57\n",
      "Found better solution: [11, 6, 10, 4, 8, 11, 9, 7, 6, 0, 10, 8], Fitness: 58\n",
      "Accepted a worse solution: [11, 6, 10, 3, 8, 11, 9, 7, 6, 0, 10, 8], Fitness: 57\n",
      "Found better solution: [11, 6, 10, 3, 8, 4, 9, 7, 6, 0, 10, 8], Fitness: 57\n",
      "Found better solution: [11, 6, 10, 3, 8, 4, 9, 7, 6, 2, 10, 8], Fitness: 57\n",
      "Accepted a worse solution: [11, 6, 10, 3, 8, 4, 9, 7, 6, 6, 10, 8], Fitness: 54\n",
      "Found better solution: [11, 6, 10, 3, 1, 4, 9, 7, 6, 6, 10, 8], Fitness: 54\n",
      "Found better solution: [11, 6, 10, 3, 9, 4, 9, 7, 6, 6, 10, 8], Fitness: 54\n",
      "Found better solution: [11, 6, 10, 3, 9, 4, 9, 3, 6, 6, 10, 8], Fitness: 56\n",
      "Found better solution: [11, 0, 10, 3, 9, 4, 9, 3, 6, 6, 10, 8], Fitness: 58\n",
      "Accepted a worse solution: [11, 0, 10, 0, 9, 4, 9, 3, 6, 6, 10, 8], Fitness: 57\n",
      "Found better solution: [11, 0, 10, 0, 9, 4, 9, 3, 6, 5, 10, 8], Fitness: 59\n",
      "Found better solution: [11, 5, 10, 0, 9, 4, 9, 3, 6, 5, 10, 8], Fitness: 60\n",
      "Accepted a worse solution: [11, 5, 10, 3, 9, 4, 9, 3, 6, 5, 10, 8], Fitness: 58\n",
      "Found better solution: [11, 5, 10, 3, 9, 4, 9, 3, 6, 5, 11, 8], Fitness: 59\n",
      "Accepted a worse solution: [11, 5, 10, 3, 9, 4, 9, 3, 6, 5, 4, 8], Fitness: 57\n",
      "Found better solution: [11, 5, 10, 3, 9, 4, 9, 1, 6, 5, 4, 8], Fitness: 58\n",
      "Accepted a worse solution: [5, 5, 10, 3, 9, 4, 9, 1, 6, 5, 4, 8], Fitness: 55\n",
      "Found better solution: [5, 5, 10, 3, 9, 4, 9, 1, 6, 11, 4, 8], Fitness: 59\n",
      "Accepted a worse solution: [5, 5, 10, 3, 9, 1, 9, 1, 6, 11, 4, 8], Fitness: 57\n",
      "Found better solution: [5, 2, 10, 3, 9, 1, 9, 1, 6, 11, 4, 8], Fitness: 60\n",
      "Accepted a worse solution: [5, 2, 10, 3, 9, 1, 9, 1, 6, 11, 10, 8], Fitness: 59\n",
      "Accepted a worse solution: [5, 2, 10, 5, 9, 1, 9, 1, 6, 11, 10, 8], Fitness: 58\n",
      "Found better solution: [5, 2, 0, 5, 9, 1, 9, 1, 6, 11, 10, 8], Fitness: 58\n",
      "Found better solution: [5, 2, 0, 5, 9, 1, 9, 0, 6, 11, 10, 8], Fitness: 59\n",
      "Accepted a worse solution: [2, 2, 0, 5, 9, 1, 9, 0, 6, 11, 10, 8], Fitness: 57\n",
      "Found better solution: [2, 8, 0, 5, 9, 1, 9, 0, 6, 11, 10, 8], Fitness: 57\n",
      "Found better solution: [2, 8, 0, 5, 9, 1, 9, 0, 2, 11, 10, 8], Fitness: 57\n",
      "Found better solution: [2, 8, 0, 5, 9, 1, 6, 0, 2, 11, 10, 8], Fitness: 57\n",
      "Found better solution: [2, 8, 0, 5, 9, 1, 6, 0, 7, 11, 10, 8], Fitness: 58\n",
      "Found better solution: [2, 8, 0, 5, 9, 1, 6, 0, 7, 8, 10, 8], Fitness: 58\n",
      "Accepted a worse solution: [2, 8, 0, 5, 9, 1, 6, 0, 7, 8, 2, 8], Fitness: 57\n",
      "Found better solution: [2, 8, 0, 5, 9, 1, 6, 0, 7, 8, 2, 10], Fitness: 57\n",
      "Accepted a worse solution: [2, 8, 0, 5, 9, 1, 6, 0, 7, 8, 2, 1], Fitness: 56\n",
      "Found better solution: [2, 8, 0, 5, 9, 1, 6, 0, 7, 8, 2, 0], Fitness: 57\n",
      "Found better solution: [2, 8, 0, 5, 9, 1, 6, 0, 7, 3, 2, 0], Fitness: 57\n",
      "Accepted a worse solution: [2, 8, 0, 1, 9, 1, 6, 0, 7, 3, 2, 0], Fitness: 56\n",
      "Found better solution: [2, 8, 0, 1, 9, 1, 6, 4, 7, 3, 2, 0], Fitness: 57\n",
      "Found better solution: [2, 8, 0, 1, 9, 1, 6, 4, 7, 3, 2, 6], Fitness: 58\n",
      "Found better solution: [2, 8, 0, 1, 9, 1, 6, 4, 7, 3, 5, 6], Fitness: 59\n",
      "Accepted a worse solution: [2, 8, 0, 1, 9, 1, 0, 4, 7, 3, 5, 6], Fitness: 58\n",
      "Found better solution: [2, 8, 0, 2, 9, 1, 0, 4, 7, 3, 5, 6], Fitness: 58\n",
      "Found better solution: [2, 8, 0, 4, 9, 1, 0, 4, 7, 3, 5, 6], Fitness: 59\n",
      "Accepted a worse solution: [2, 8, 0, 4, 9, 1, 1, 4, 7, 3, 5, 6], Fitness: 58\n",
      "Accepted a worse solution: [2, 8, 0, 4, 9, 3, 1, 4, 7, 3, 5, 6], Fitness: 57\n",
      "Found better solution: [2, 8, 0, 4, 9, 3, 1, 4, 11, 3, 5, 6], Fitness: 58\n",
      "Accepted a worse solution: [2, 8, 0, 4, 1, 3, 1, 4, 11, 3, 5, 6], Fitness: 56\n",
      "Found better solution: [2, 8, 0, 4, 1, 3, 4, 4, 11, 3, 5, 6], Fitness: 56\n",
      "Accepted a worse solution: [2, 8, 0, 4, 1, 3, 4, 4, 11, 3, 11, 6], Fitness: 55\n",
      "Found better solution: [2, 8, 0, 4, 1, 3, 4, 4, 8, 3, 11, 6], Fitness: 55\n",
      "Accepted a worse solution: [2, 8, 0, 4, 1, 6, 4, 4, 8, 3, 11, 6], Fitness: 54\n",
      "Found better solution: [2, 8, 6, 4, 1, 6, 4, 4, 8, 3, 11, 6], Fitness: 54\n",
      "Found better solution: [2, 8, 6, 8, 1, 6, 4, 4, 8, 3, 11, 6], Fitness: 54\n",
      "Accepted a worse solution: [2, 8, 6, 8, 1, 6, 4, 4, 8, 11, 11, 6], Fitness: 52\n",
      "Found better solution: [2, 8, 6, 8, 1, 3, 4, 4, 8, 11, 11, 6], Fitness: 55\n",
      "Accepted a worse solution: [2, 8, 6, 8, 1, 3, 4, 4, 8, 11, 11, 0], Fitness: 54\n",
      "Found better solution: [2, 5, 6, 8, 1, 3, 4, 4, 8, 11, 11, 0], Fitness: 55\n",
      "Accepted a worse solution: [2, 7, 6, 8, 1, 3, 4, 4, 8, 11, 11, 0], Fitness: 54\n",
      "Found better solution: [7, 7, 6, 8, 1, 3, 4, 4, 8, 11, 11, 0], Fitness: 54\n",
      "Found better solution: [7, 10, 6, 8, 1, 3, 4, 4, 8, 11, 11, 0], Fitness: 54\n",
      "Found better solution: [7, 10, 6, 8, 1, 3, 4, 4, 8, 5, 11, 0], Fitness: 55\n",
      "Accepted a worse solution: [1, 10, 6, 8, 1, 3, 4, 4, 8, 5, 11, 0], Fitness: 53\n",
      "Found better solution: [1, 10, 6, 8, 1, 3, 4, 6, 8, 5, 11, 0], Fitness: 57\n",
      "Accepted a worse solution: [1, 10, 6, 8, 1, 3, 5, 6, 8, 5, 11, 0], Fitness: 53\n",
      "Found better solution: [3, 10, 6, 8, 1, 3, 5, 6, 8, 5, 11, 0], Fitness: 54\n",
      "Found better solution: [3, 10, 6, 8, 1, 2, 5, 6, 8, 5, 11, 0], Fitness: 55\n",
      "Found better solution: [3, 10, 6, 8, 1, 2, 3, 6, 8, 5, 11, 0], Fitness: 57\n",
      "Found better solution: [3, 10, 6, 8, 1, 2, 3, 6, 8, 5, 11, 6], Fitness: 57\n",
      "Accepted a worse solution: [3, 3, 6, 8, 1, 2, 3, 6, 8, 5, 11, 6], Fitness: 56\n",
      "Found better solution: [3, 0, 6, 8, 1, 2, 3, 6, 8, 5, 11, 6], Fitness: 57\n",
      "Found better solution: [3, 0, 6, 8, 1, 2, 3, 2, 8, 5, 11, 6], Fitness: 57\n",
      "Found better solution: [3, 0, 6, 8, 1, 2, 3, 2, 8, 5, 11, 1], Fitness: 58\n",
      "Found better solution: [7, 0, 6, 8, 1, 2, 3, 2, 8, 5, 11, 1], Fitness: 58\n",
      "Found better solution: [7, 0, 6, 8, 1, 4, 3, 2, 8, 5, 11, 1], Fitness: 59\n",
      "Found better solution: [7, 0, 6, 10, 1, 4, 3, 2, 8, 5, 11, 1], Fitness: 59\n",
      "Accepted a worse solution: [7, 1, 6, 10, 1, 4, 3, 2, 8, 5, 11, 1], Fitness: 57\n",
      "Found better solution: [7, 1, 6, 10, 1, 0, 3, 2, 8, 5, 11, 1], Fitness: 57\n",
      "Found better solution: [7, 1, 6, 10, 1, 0, 3, 2, 8, 5, 9, 1], Fitness: 57\n",
      "Found better solution: [7, 1, 6, 10, 1, 6, 3, 2, 8, 5, 9, 1], Fitness: 58\n",
      "Found better solution: [11, 1, 6, 10, 1, 6, 3, 2, 8, 5, 9, 1], Fitness: 58\n",
      "Accepted a worse solution: [2, 1, 6, 10, 1, 6, 3, 2, 8, 5, 9, 1], Fitness: 57\n",
      "Accepted a worse solution: [2, 1, 6, 10, 1, 6, 3, 4, 8, 5, 9, 1], Fitness: 56\n",
      "Found better solution: [2, 1, 6, 10, 1, 6, 7, 4, 8, 5, 9, 1], Fitness: 56\n",
      "Found better solution: [2, 7, 6, 10, 1, 6, 7, 4, 8, 5, 9, 1], Fitness: 58\n",
      "Accepted a worse solution: [2, 7, 6, 10, 1, 6, 7, 4, 8, 5, 11, 1], Fitness: 56\n",
      "Found better solution: [2, 7, 6, 10, 9, 6, 7, 4, 8, 5, 11, 1], Fitness: 56\n",
      "Found better solution: [2, 4, 6, 10, 9, 6, 7, 4, 8, 5, 11, 1], Fitness: 57\n",
      "Found better solution: [2, 4, 6, 10, 9, 9, 7, 4, 8, 5, 11, 1], Fitness: 58\n",
      "Found better solution: [2, 4, 1, 10, 9, 9, 7, 4, 8, 5, 11, 1], Fitness: 58\n",
      "Found better solution: [2, 4, 1, 10, 2, 9, 7, 4, 8, 5, 11, 1], Fitness: 60\n",
      "Accepted a worse solution: [11, 4, 1, 10, 2, 9, 7, 4, 8, 5, 11, 1], Fitness: 59\n",
      "Found better solution: [11, 3, 1, 10, 2, 9, 7, 4, 8, 5, 11, 1], Fitness: 60\n",
      "Found better solution: [6, 3, 1, 10, 2, 9, 7, 4, 8, 5, 11, 1], Fitness: 61\n",
      "Accepted a worse solution: [11, 3, 1, 10, 2, 9, 7, 4, 8, 5, 11, 1], Fitness: 60\n",
      "Accepted a worse solution: [11, 3, 1, 10, 2, 9, 7, 4, 11, 5, 11, 1], Fitness: 58\n",
      "Found better solution: [11, 3, 1, 10, 2, 9, 7, 4, 11, 5, 11, 4], Fitness: 58\n",
      "Accepted a worse solution: [11, 3, 1, 10, 3, 9, 7, 4, 11, 5, 11, 4], Fitness: 56\n",
      "Found better solution: [11, 3, 1, 10, 3, 9, 7, 4, 11, 5, 7, 4], Fitness: 57\n",
      "Found better solution: [11, 3, 2, 10, 3, 9, 7, 4, 11, 5, 7, 4], Fitness: 57\n",
      "Accepted a worse solution: [11, 3, 2, 10, 3, 9, 7, 4, 11, 5, 7, 10], Fitness: 56\n",
      "Accepted a worse solution: [11, 3, 2, 10, 9, 9, 7, 4, 11, 5, 7, 10], Fitness: 55\n",
      "Found better solution: [11, 3, 2, 10, 9, 0, 7, 4, 11, 5, 7, 10], Fitness: 57\n",
      "Found better solution: [11, 3, 2, 1, 9, 0, 7, 4, 11, 5, 7, 10], Fitness: 58\n",
      "Found better solution: [11, 3, 2, 4, 9, 0, 7, 4, 11, 5, 7, 10], Fitness: 58\n",
      "Accepted a worse solution: [11, 3, 2, 4, 9, 0, 7, 4, 10, 5, 7, 10], Fitness: 57\n",
      "Accepted a worse solution: [11, 3, 2, 4, 9, 0, 7, 4, 10, 5, 11, 10], Fitness: 55\n",
      "Found better solution: [11, 3, 2, 4, 9, 0, 7, 4, 10, 5, 5, 10], Fitness: 57\n",
      "Found better solution: [11, 3, 8, 4, 9, 0, 7, 4, 10, 5, 5, 10], Fitness: 58\n",
      "Accepted a worse solution: [11, 3, 8, 10, 9, 0, 7, 4, 10, 5, 5, 10], Fitness: 56\n",
      "Found better solution: [11, 3, 8, 10, 9, 0, 7, 4, 10, 5, 5, 4], Fitness: 56\n",
      "Found better solution: [11, 6, 8, 10, 9, 0, 7, 4, 10, 5, 5, 4], Fitness: 56\n",
      "Found better solution: [11, 11, 8, 10, 9, 0, 7, 4, 10, 5, 5, 4], Fitness: 56\n",
      "Found better solution: [11, 2, 8, 10, 9, 0, 7, 4, 10, 5, 5, 4], Fitness: 56\n",
      "Found better solution: [11, 2, 8, 10, 9, 0, 7, 3, 10, 5, 5, 4], Fitness: 56\n",
      "Found better solution: [11, 2, 8, 4, 9, 0, 7, 3, 10, 5, 5, 4], Fitness: 56\n",
      "Found better solution: [11, 2, 8, 4, 9, 0, 7, 10, 10, 5, 5, 4], Fitness: 57\n",
      "Found better solution: [11, 1, 8, 4, 9, 0, 7, 10, 10, 5, 5, 4], Fitness: 59\n",
      "Found better solution: [11, 1, 8, 4, 9, 0, 7, 10, 10, 3, 5, 4], Fitness: 60\n",
      "Found better solution: [11, 1, 8, 2, 9, 0, 7, 10, 10, 3, 5, 4], Fitness: 61\n",
      "Found better solution: [11, 1, 8, 2, 9, 0, 7, 10, 10, 3, 11, 4], Fitness: 61\n",
      "Accepted a worse solution: [3, 1, 8, 2, 9, 0, 7, 10, 10, 3, 11, 4], Fitness: 60\n",
      "Found better solution: [3, 1, 8, 2, 9, 0, 6, 10, 10, 3, 11, 4], Fitness: 60\n",
      "Found better solution: [3, 1, 8, 2, 9, 0, 6, 10, 10, 1, 11, 4], Fitness: 60\n",
      "Accepted a worse solution: [3, 1, 8, 2, 9, 0, 6, 10, 2, 1, 11, 4], Fitness: 58\n",
      "Found better solution: [3, 1, 8, 2, 9, 0, 6, 10, 2, 2, 11, 4], Fitness: 58\n",
      "Found better solution: [9, 1, 8, 2, 9, 0, 6, 10, 2, 2, 11, 4], Fitness: 58\n",
      "Accepted a worse solution: [9, 1, 8, 2, 2, 0, 6, 10, 2, 2, 11, 4], Fitness: 56\n",
      "Found better solution: [9, 1, 8, 2, 0, 0, 6, 10, 2, 2, 11, 4], Fitness: 58\n",
      "Found better solution: [9, 1, 8, 11, 0, 0, 6, 10, 2, 2, 11, 4], Fitness: 60\n",
      "Found better solution: [9, 1, 8, 11, 0, 0, 6, 10, 3, 2, 11, 4], Fitness: 60\n",
      "Found better solution: [9, 1, 8, 11, 9, 0, 6, 10, 3, 2, 11, 4], Fitness: 60\n",
      "Accepted a worse solution: [9, 1, 8, 11, 9, 0, 6, 10, 3, 2, 11, 1], Fitness: 59\n",
      "Found better solution: [9, 1, 8, 11, 9, 0, 6, 10, 3, 2, 7, 1], Fitness: 59\n",
      "Found better solution: [9, 1, 8, 11, 9, 0, 0, 10, 3, 2, 7, 1], Fitness: 60\n",
      "Found better solution: [9, 5, 8, 11, 9, 0, 0, 10, 3, 2, 7, 1], Fitness: 60\n",
      "Found better solution: [9, 5, 8, 11, 9, 0, 4, 10, 3, 2, 7, 1], Fitness: 61\n",
      "Accepted a worse solution: [9, 5, 8, 11, 9, 0, 4, 10, 1, 2, 7, 1], Fitness: 60\n",
      "Accepted a worse solution: [9, 5, 1, 11, 9, 0, 4, 10, 1, 2, 7, 1], Fitness: 59\n",
      "Accepted a worse solution: [9, 5, 1, 11, 9, 0, 0, 10, 1, 2, 7, 1], Fitness: 57\n",
      "Accepted a worse solution: [9, 5, 1, 11, 9, 0, 0, 7, 1, 2, 7, 1], Fitness: 56\n",
      "Found better solution: [9, 5, 1, 11, 9, 0, 0, 7, 1, 6, 7, 1], Fitness: 56\n",
      "Found better solution: [2, 5, 1, 11, 9, 0, 0, 7, 1, 6, 7, 1], Fitness: 58\n",
      "Accepted a worse solution: [2, 5, 1, 11, 9, 0, 0, 6, 1, 6, 7, 1], Fitness: 57\n",
      "Found better solution: [2, 5, 1, 11, 4, 0, 0, 6, 1, 6, 7, 1], Fitness: 58\n",
      "Found better solution: [2, 5, 1, 11, 4, 0, 0, 6, 1, 6, 7, 9], Fitness: 60\n",
      "Found better solution: [2, 5, 1, 11, 4, 0, 0, 10, 1, 6, 7, 9], Fitness: 61\n",
      "Found better solution: [2, 5, 1, 11, 4, 0, 0, 10, 1, 6, 2, 9], Fitness: 62\n",
      "Found better solution: [2, 5, 1, 11, 4, 0, 8, 10, 1, 6, 2, 9], Fitness: 62\n",
      "Accepted a worse solution: [2, 5, 1, 11, 4, 5, 8, 10, 1, 6, 2, 9], Fitness: 60\n",
      "Accepted a worse solution: [2, 5, 1, 11, 4, 5, 8, 0, 1, 6, 2, 9], Fitness: 59\n",
      "Accepted a worse solution: [2, 5, 1, 11, 4, 5, 5, 0, 1, 6, 2, 9], Fitness: 58\n",
      "Accepted a worse solution: [2, 5, 1, 11, 4, 5, 5, 0, 7, 6, 2, 9], Fitness: 57\n",
      "Found better solution: [2, 5, 7, 11, 4, 5, 5, 0, 7, 6, 2, 9], Fitness: 58\n",
      "Accepted a worse solution: [2, 6, 7, 11, 4, 5, 5, 0, 7, 6, 2, 9], Fitness: 57\n",
      "Found better solution: [2, 6, 7, 11, 4, 5, 5, 0, 7, 4, 2, 9], Fitness: 58\n",
      "Accepted a worse solution: [2, 6, 7, 11, 4, 5, 5, 0, 7, 5, 2, 9], Fitness: 56\n",
      "Found better solution: [2, 6, 7, 11, 4, 5, 5, 0, 7, 6, 2, 9], Fitness: 57\n",
      "Found better solution: [2, 6, 7, 11, 4, 5, 5, 1, 7, 6, 2, 9], Fitness: 57\n",
      "Accepted a worse solution: [2, 6, 7, 11, 4, 5, 2, 1, 7, 6, 2, 9], Fitness: 55\n",
      "Found better solution: [3, 6, 7, 11, 4, 5, 2, 1, 7, 6, 2, 9], Fitness: 57\n",
      "Found better solution: [3, 6, 7, 11, 4, 5, 2, 8, 7, 6, 2, 9], Fitness: 57\n",
      "Found better solution: [3, 6, 7, 11, 4, 5, 2, 8, 7, 6, 0, 9], Fitness: 57\n",
      "Found better solution: [3, 6, 7, 11, 4, 5, 2, 8, 11, 6, 0, 9], Fitness: 58\n",
      "Found better solution: [3, 6, 7, 11, 4, 5, 2, 8, 11, 10, 0, 9], Fitness: 58\n",
      "Found better solution: [3, 6, 7, 11, 4, 5, 2, 8, 11, 10, 3, 9], Fitness: 58\n",
      "Found better solution: [3, 6, 7, 11, 4, 5, 2, 8, 8, 10, 3, 9], Fitness: 58\n",
      "Found better solution: [3, 6, 7, 11, 4, 5, 2, 8, 7, 10, 3, 9], Fitness: 59\n",
      "Found better solution: [3, 6, 7, 11, 4, 5, 2, 8, 10, 10, 3, 9], Fitness: 60\n",
      "Found better solution: [3, 6, 7, 11, 4, 0, 2, 8, 10, 10, 3, 9], Fitness: 61\n",
      "Accepted a worse solution: [3, 6, 7, 11, 4, 0, 2, 1, 10, 10, 3, 9], Fitness: 60\n",
      "Found better solution: [3, 6, 7, 11, 4, 0, 2, 11, 10, 10, 3, 9], Fitness: 60\n",
      "Accepted a worse solution: [3, 6, 7, 11, 4, 0, 2, 11, 10, 10, 3, 6], Fitness: 58\n",
      "Found better solution: [3, 6, 7, 11, 4, 0, 2, 11, 10, 10, 3, 1], Fitness: 60\n",
      "Found better solution: [3, 6, 7, 11, 4, 0, 2, 8, 10, 10, 3, 1], Fitness: 61\n",
      "Found better solution: [3, 6, 9, 11, 4, 0, 2, 8, 10, 10, 3, 1], Fitness: 62\n",
      "Accepted a worse solution: [3, 6, 9, 11, 4, 0, 2, 8, 10, 10, 1, 1], Fitness: 61\n",
      "Accepted a worse solution: [3, 6, 9, 11, 4, 0, 2, 8, 4, 10, 1, 1], Fitness: 59\n",
      "Found better solution: [3, 6, 9, 11, 4, 0, 2, 8, 4, 10, 10, 1], Fitness: 59\n",
      "Accepted a worse solution: [3, 6, 9, 11, 4, 0, 2, 8, 4, 4, 10, 1], Fitness: 58\n",
      "Found better solution: [3, 6, 9, 11, 4, 0, 2, 8, 4, 9, 10, 1], Fitness: 58\n",
      "Accepted a worse solution: [3, 10, 9, 11, 4, 0, 2, 8, 4, 9, 10, 1], Fitness: 56\n",
      "Found better solution: [3, 10, 9, 11, 4, 0, 2, 8, 5, 9, 10, 1], Fitness: 59\n",
      "Found better solution: [3, 10, 9, 11, 10, 0, 2, 8, 5, 9, 10, 1], Fitness: 59\n",
      "Found better solution: [3, 10, 9, 11, 10, 0, 2, 8, 5, 3, 10, 1], Fitness: 59\n",
      "Found better solution: [2, 10, 9, 11, 10, 0, 2, 8, 5, 3, 10, 1], Fitness: 59\n",
      "Found better solution: [2, 10, 9, 11, 10, 0, 2, 8, 5, 1, 10, 1], Fitness: 59\n",
      "Found better solution: [2, 10, 9, 11, 10, 0, 2, 8, 5, 1, 11, 1], Fitness: 59\n",
      "Found better solution: [2, 10, 9, 11, 10, 0, 3, 8, 5, 1, 11, 1], Fitness: 59\n",
      "Found better solution: [2, 10, 9, 11, 3, 0, 3, 8, 5, 1, 11, 1], Fitness: 60\n",
      "Accepted a worse solution: [2, 10, 9, 11, 3, 1, 3, 8, 5, 1, 11, 1], Fitness: 58\n",
      "Found better solution: [2, 10, 9, 11, 3, 1, 3, 8, 5, 1, 8, 1], Fitness: 59\n",
      "Found better solution: [2, 4, 9, 11, 3, 1, 3, 8, 5, 1, 8, 1], Fitness: 60\n",
      "Found better solution: [2, 4, 9, 11, 3, 1, 6, 8, 5, 1, 8, 1], Fitness: 61\n",
      "Found better solution: [2, 4, 9, 11, 3, 1, 6, 8, 5, 4, 8, 1], Fitness: 61\n",
      "Found better solution: [2, 4, 9, 11, 3, 1, 6, 8, 5, 0, 8, 1], Fitness: 63\n",
      "Accepted a worse solution: [2, 4, 9, 11, 3, 1, 6, 8, 5, 0, 8, 8], Fitness: 62\n",
      "Accepted a worse solution: [2, 10, 9, 11, 3, 1, 6, 8, 5, 0, 8, 8], Fitness: 61\n",
      "Accepted a worse solution: [2, 10, 9, 11, 3, 1, 7, 8, 5, 0, 8, 8], Fitness: 59\n",
      "Accepted a worse solution: [2, 10, 9, 11, 3, 1, 7, 8, 5, 0, 3, 8], Fitness: 58\n",
      "Accepted a worse solution: [2, 10, 9, 11, 3, 1, 7, 8, 5, 3, 3, 8], Fitness: 56\n",
      "Found better solution: [2, 10, 9, 11, 3, 1, 7, 8, 5, 3, 2, 8], Fitness: 58\n",
      "Found better solution: [2, 10, 9, 11, 3, 1, 7, 8, 6, 3, 2, 8], Fitness: 59\n",
      "Found better solution: [2, 10, 9, 11, 3, 1, 10, 8, 6, 3, 2, 8], Fitness: 59\n",
      "Accepted a worse solution: [2, 10, 9, 11, 3, 4, 10, 8, 6, 3, 2, 8], Fitness: 58\n",
      "Found better solution: [2, 10, 9, 11, 3, 4, 11, 8, 6, 3, 2, 8], Fitness: 58\n",
      "Found better solution: [2, 10, 5, 11, 3, 4, 11, 8, 6, 3, 2, 8], Fitness: 58\n",
      "Found better solution: [4, 10, 5, 11, 3, 4, 11, 8, 6, 3, 2, 8], Fitness: 58\n",
      "Accepted a worse solution: [7, 10, 5, 11, 3, 4, 11, 8, 6, 3, 2, 8], Fitness: 57\n",
      "Accepted a worse solution: [7, 10, 3, 11, 3, 4, 11, 8, 6, 3, 2, 8], Fitness: 56\n",
      "Found better solution: [7, 10, 3, 11, 3, 4, 11, 8, 6, 11, 2, 8], Fitness: 57\n",
      "Found better solution: [7, 10, 5, 11, 3, 4, 11, 8, 6, 11, 2, 8], Fitness: 57\n",
      "Found better solution: [7, 10, 5, 11, 3, 4, 11, 8, 6, 3, 2, 8], Fitness: 57\n",
      "Found better solution: [7, 10, 5, 11, 11, 4, 11, 8, 6, 3, 2, 8], Fitness: 57\n",
      "Found better solution: [7, 10, 5, 11, 4, 4, 11, 8, 6, 3, 2, 8], Fitness: 60\n",
      "Accepted a worse solution: [7, 10, 5, 11, 4, 4, 11, 6, 6, 3, 2, 8], Fitness: 59\n",
      "Found better solution: [7, 10, 5, 11, 4, 4, 11, 6, 3, 3, 2, 8], Fitness: 59\n",
      "Found better solution: [7, 10, 5, 11, 4, 4, 11, 6, 3, 3, 8, 8], Fitness: 59\n",
      "Found better solution: [7, 10, 5, 11, 4, 4, 11, 6, 3, 1, 8, 8], Fitness: 60\n",
      "Found better solution: [7, 10, 5, 11, 4, 4, 11, 9, 3, 1, 8, 8], Fitness: 61\n",
      "Accepted a worse solution: [7, 10, 5, 11, 4, 4, 11, 9, 3, 6, 8, 8], Fitness: 60\n",
      "Found better solution: [7, 10, 5, 9, 4, 4, 11, 9, 3, 6, 8, 8], Fitness: 60\n",
      "Found better solution: [7, 10, 5, 9, 4, 1, 11, 9, 3, 6, 8, 8], Fitness: 61\n",
      "Found better solution: [2, 10, 5, 9, 4, 1, 11, 9, 3, 6, 8, 8], Fitness: 61\n",
      "Accepted a worse solution: [5, 10, 5, 9, 4, 1, 11, 9, 3, 6, 8, 8], Fitness: 60\n",
      "Found better solution: [5, 10, 5, 9, 4, 1, 11, 6, 3, 6, 8, 8], Fitness: 60\n",
      "Accepted a worse solution: [5, 10, 5, 9, 4, 1, 11, 6, 9, 6, 8, 8], Fitness: 59\n",
      "Found better solution: [5, 10, 5, 9, 4, 1, 11, 6, 2, 6, 8, 8], Fitness: 61\n",
      "Accepted a worse solution: [5, 10, 5, 9, 4, 1, 11, 6, 2, 6, 2, 8], Fitness: 60\n",
      "Found better solution: [5, 10, 5, 9, 4, 1, 11, 9, 2, 6, 2, 8], Fitness: 60\n",
      "Found better solution: [5, 10, 5, 9, 4, 1, 11, 9, 7, 6, 2, 8], Fitness: 60\n",
      "Accepted a worse solution: [5, 10, 5, 9, 4, 5, 11, 9, 7, 6, 2, 8], Fitness: 57\n",
      "Found better solution: [5, 10, 5, 4, 4, 5, 11, 9, 7, 6, 2, 8], Fitness: 57\n",
      "Found better solution: [5, 10, 5, 3, 4, 5, 11, 9, 7, 6, 2, 8], Fitness: 57\n",
      "Found better solution: [5, 10, 5, 3, 4, 2, 11, 9, 7, 6, 2, 8], Fitness: 57\n",
      "Found better solution: [5, 10, 5, 3, 4, 2, 11, 9, 7, 6, 1, 8], Fitness: 57\n",
      "Found better solution: [5, 10, 5, 3, 4, 4, 11, 9, 7, 6, 1, 8], Fitness: 58\n",
      "Found better solution: [5, 10, 5, 3, 4, 4, 11, 9, 7, 6, 1, 1], Fitness: 58\n",
      "Accepted a worse solution: [5, 11, 5, 3, 4, 4, 11, 9, 7, 6, 1, 1], Fitness: 57\n",
      "Found better solution: [5, 3, 5, 3, 4, 4, 11, 9, 7, 6, 1, 1], Fitness: 57\n",
      "Found better solution: [5, 3, 5, 3, 4, 4, 11, 0, 7, 6, 1, 1], Fitness: 57\n",
      "Found better solution: [5, 3, 5, 3, 4, 4, 7, 0, 7, 6, 1, 1], Fitness: 57\n",
      "Found better solution: [5, 3, 5, 3, 4, 4, 7, 0, 7, 10, 1, 1], Fitness: 57\n",
      "Found better solution: [6, 3, 5, 3, 4, 4, 7, 0, 7, 10, 1, 1], Fitness: 57\n",
      "Found better solution: [6, 3, 5, 3, 4, 4, 10, 0, 7, 10, 1, 1], Fitness: 58\n",
      "Accepted a worse solution: [6, 3, 5, 3, 4, 4, 10, 0, 7, 10, 6, 1], Fitness: 57\n",
      "Found better solution: [6, 3, 5, 8, 4, 4, 10, 0, 7, 10, 6, 1], Fitness: 60\n",
      "Found better solution: [11, 3, 5, 8, 4, 4, 10, 0, 7, 10, 6, 1], Fitness: 60\n",
      "Found better solution: [11, 3, 5, 8, 4, 5, 10, 0, 7, 10, 6, 1], Fitness: 60\n",
      "Found better solution: [11, 3, 0, 8, 4, 5, 10, 0, 7, 10, 6, 1], Fitness: 61\n",
      "Found better solution: [11, 3, 0, 8, 9, 5, 10, 0, 7, 10, 6, 1], Fitness: 61\n",
      "Found better solution: [11, 3, 0, 8, 9, 5, 10, 0, 7, 10, 2, 1], Fitness: 61\n",
      "Found better solution: [11, 4, 0, 8, 9, 5, 10, 0, 7, 10, 2, 1], Fitness: 61\n",
      "Found better solution: [11, 4, 0, 8, 9, 5, 10, 0, 7, 6, 2, 1], Fitness: 61\n",
      "Found better solution: [3, 4, 0, 8, 9, 5, 10, 0, 7, 6, 2, 1], Fitness: 61\n",
      "Found better solution: [3, 4, 0, 5, 9, 5, 10, 0, 7, 6, 2, 1], Fitness: 61\n",
      "Found better solution: [9, 4, 0, 5, 9, 5, 10, 0, 7, 6, 2, 1], Fitness: 61\n",
      "Found better solution: [9, 4, 0, 5, 9, 5, 10, 0, 7, 6, 2, 8], Fitness: 61\n",
      "Found better solution: [9, 4, 0, 5, 9, 5, 10, 0, 7, 6, 2, 1], Fitness: 61\n",
      "Accepted a worse solution: [9, 4, 0, 5, 9, 5, 10, 0, 7, 6, 10, 1], Fitness: 60\n",
      "Accepted a worse solution: [9, 4, 0, 5, 9, 4, 10, 0, 7, 6, 10, 1], Fitness: 59\n",
      "Found better solution: [9, 4, 0, 5, 9, 4, 10, 0, 3, 6, 10, 1], Fitness: 61\n",
      "Found better solution: [9, 4, 0, 5, 9, 4, 10, 3, 3, 6, 10, 1], Fitness: 61\n",
      "Found better solution: [9, 4, 0, 5, 2, 4, 10, 3, 3, 6, 10, 1], Fitness: 61\n",
      "Found better solution: [9, 4, 0, 5, 2, 4, 11, 3, 3, 6, 10, 1], Fitness: 62\n",
      "Found better solution: [9, 7, 0, 5, 2, 4, 11, 3, 3, 6, 10, 1], Fitness: 62\n",
      "Accepted a worse solution: [8, 7, 0, 5, 2, 4, 11, 3, 3, 6, 10, 1], Fitness: 61\n",
      "Found better solution: [8, 7, 0, 5, 2, 9, 11, 3, 3, 6, 10, 1], Fitness: 61\n",
      "Accepted a worse solution: [2, 7, 0, 5, 2, 9, 11, 3, 3, 6, 10, 1], Fitness: 60\n",
      "Found better solution: [9, 7, 0, 5, 2, 9, 11, 3, 3, 6, 10, 1], Fitness: 62\n",
      "Accepted a worse solution: [9, 7, 0, 5, 2, 9, 11, 10, 3, 6, 10, 1], Fitness: 61\n",
      "Found better solution: [9, 7, 0, 5, 2, 9, 11, 8, 3, 6, 10, 1], Fitness: 62\n",
      "Found better solution: [9, 7, 0, 5, 2, 9, 11, 8, 3, 1, 10, 1], Fitness: 62\n",
      "Found better solution: [9, 7, 0, 4, 2, 9, 11, 8, 3, 1, 10, 1], Fitness: 62\n",
      "Found better solution: [9, 7, 0, 4, 0, 9, 11, 8, 3, 1, 10, 1], Fitness: 62\n",
      "Accepted a worse solution: [9, 7, 11, 4, 0, 9, 11, 8, 3, 1, 10, 1], Fitness: 61\n",
      "Found better solution: [9, 7, 11, 4, 0, 9, 11, 8, 3, 1, 10, 8], Fitness: 61\n",
      "Accepted a worse solution: [9, 7, 11, 4, 0, 4, 11, 8, 3, 1, 10, 8], Fitness: 60\n",
      "Accepted a worse solution: [9, 7, 11, 4, 0, 4, 11, 8, 3, 1, 10, 0], Fitness: 59\n",
      "Found better solution: [8, 7, 11, 4, 0, 4, 11, 8, 3, 1, 10, 0], Fitness: 59\n",
      "Found better solution: [5, 7, 11, 4, 0, 4, 11, 8, 3, 1, 10, 0], Fitness: 60\n",
      "Found better solution: [5, 7, 11, 4, 0, 4, 11, 8, 3, 1, 10, 10], Fitness: 60\n",
      "Found better solution: [5, 7, 11, 4, 0, 7, 11, 8, 3, 1, 10, 10], Fitness: 61\n",
      "Found better solution: [5, 7, 11, 4, 0, 7, 0, 8, 3, 1, 10, 10], Fitness: 62\n",
      "Accepted a worse solution: [5, 7, 11, 4, 0, 7, 0, 8, 3, 1, 10, 7], Fitness: 60\n",
      "Found better solution: [5, 7, 11, 4, 0, 7, 0, 2, 3, 1, 10, 7], Fitness: 60\n",
      "Found better solution: [5, 7, 11, 4, 0, 7, 0, 2, 3, 1, 10, 2], Fitness: 61\n",
      "Found better solution: [5, 7, 11, 4, 0, 7, 0, 4, 3, 1, 10, 2], Fitness: 61\n",
      "Found better solution: [5, 7, 11, 4, 0, 7, 0, 4, 3, 1, 10, 10], Fitness: 61\n",
      "Found better solution: [5, 7, 11, 4, 0, 7, 0, 4, 8, 1, 10, 10], Fitness: 61\n",
      "Found better solution: [5, 9, 11, 4, 0, 7, 0, 4, 8, 1, 10, 10], Fitness: 61\n",
      "Accepted a worse solution: [5, 9, 11, 4, 0, 7, 1, 4, 8, 1, 10, 10], Fitness: 60\n",
      "Found better solution: [5, 9, 11, 4, 0, 7, 2, 4, 8, 1, 10, 10], Fitness: 61\n",
      "Found better solution: [5, 8, 11, 4, 0, 7, 2, 4, 8, 1, 10, 10], Fitness: 61\n",
      "Found better solution: [5, 8, 11, 4, 0, 7, 2, 4, 8, 1, 5, 10], Fitness: 62\n",
      "Found better solution: [5, 8, 11, 4, 0, 7, 0, 4, 8, 1, 5, 10], Fitness: 62\n",
      "Found better solution: [5, 2, 11, 4, 0, 7, 0, 4, 8, 1, 5, 10], Fitness: 62\n",
      "Found better solution: [5, 9, 11, 4, 0, 7, 0, 4, 8, 1, 5, 10], Fitness: 62\n",
      "Found better solution: [5, 8, 11, 4, 0, 7, 0, 4, 8, 1, 5, 10], Fitness: 62\n",
      "Found better solution: [2, 8, 11, 4, 0, 7, 0, 4, 8, 1, 5, 10], Fitness: 62\n",
      "Found better solution: [2, 8, 11, 9, 0, 7, 0, 4, 8, 1, 5, 10], Fitness: 62\n",
      "Found better solution: [1, 8, 11, 9, 0, 7, 0, 4, 8, 1, 5, 10], Fitness: 62\n",
      "Found better solution: [1, 8, 11, 11, 0, 7, 0, 4, 8, 1, 5, 10], Fitness: 62\n",
      "Found better solution: [1, 8, 5, 11, 0, 7, 0, 4, 8, 1, 5, 10], Fitness: 62\n",
      "Found better solution: [3, 8, 5, 11, 0, 7, 0, 4, 8, 1, 5, 10], Fitness: 62\n",
      "Found better solution: [3, 8, 5, 11, 0, 7, 0, 4, 8, 1, 9, 10], Fitness: 62\n",
      "Accepted a worse solution: [8, 8, 5, 11, 0, 7, 0, 4, 8, 1, 9, 10], Fitness: 60\n",
      "Found better solution: [8, 8, 5, 11, 0, 7, 0, 4, 8, 1, 3, 10], Fitness: 61\n",
      "Accepted a worse solution: [8, 8, 3, 11, 0, 7, 0, 4, 8, 1, 3, 10], Fitness: 60\n",
      "Found better solution: [8, 5, 3, 11, 0, 7, 0, 4, 8, 1, 3, 10], Fitness: 61\n",
      "Found better solution: [5, 5, 3, 11, 0, 7, 0, 4, 8, 1, 3, 10], Fitness: 61\n",
      "Accepted a worse solution: [5, 5, 3, 11, 0, 7, 0, 4, 9, 1, 3, 10], Fitness: 60\n",
      "Found better solution: [5, 5, 2, 11, 0, 7, 0, 4, 9, 1, 3, 10], Fitness: 62\n",
      "Found better solution: [5, 5, 6, 11, 0, 7, 0, 4, 9, 1, 3, 10], Fitness: 62\n",
      "Found better solution: [5, 5, 6, 11, 0, 7, 9, 4, 9, 1, 3, 10], Fitness: 63\n",
      "Found better solution: [5, 5, 6, 11, 0, 7, 9, 4, 9, 1, 8, 10], Fitness: 63\n",
      "Found better solution: [5, 5, 6, 11, 0, 7, 3, 4, 9, 1, 8, 10], Fitness: 63\n",
      "Found better solution: [5, 11, 6, 11, 0, 7, 3, 4, 9, 1, 8, 10], Fitness: 63\n",
      "Accepted a worse solution: [5, 11, 6, 11, 0, 7, 3, 4, 2, 1, 8, 10], Fitness: 62\n",
      "Found better solution: [5, 10, 6, 11, 0, 7, 3, 4, 2, 1, 8, 10], Fitness: 62\n",
      "Accepted a worse solution: [5, 10, 6, 11, 0, 7, 3, 4, 2, 1, 6, 10], Fitness: 60\n",
      "Found better solution: [5, 10, 6, 11, 2, 7, 3, 4, 2, 1, 6, 10], Fitness: 60\n",
      "Found better solution: [5, 10, 6, 11, 2, 7, 3, 4, 7, 1, 6, 10], Fitness: 60\n",
      "Found better solution: [5, 10, 6, 11, 2, 7, 3, 0, 7, 1, 6, 10], Fitness: 62\n",
      "Found better solution: [5, 10, 6, 11, 2, 7, 3, 0, 7, 1, 6, 9], Fitness: 63\n",
      "Accepted a worse solution: [5, 10, 6, 11, 8, 7, 3, 0, 7, 1, 6, 9], Fitness: 62\n",
      "Found better solution: [5, 2, 6, 11, 8, 7, 3, 0, 7, 1, 6, 9], Fitness: 62\n",
      "Found better solution: [5, 2, 5, 11, 8, 7, 3, 0, 7, 1, 6, 9], Fitness: 62\n",
      "Found better solution: [5, 2, 4, 11, 8, 7, 3, 0, 7, 1, 6, 9], Fitness: 63\n",
      "Found better solution: [5, 2, 4, 11, 8, 11, 3, 0, 7, 1, 6, 9], Fitness: 64\n",
      "Found better solution: [5, 2, 4, 11, 8, 0, 3, 0, 7, 1, 6, 9], Fitness: 64\n",
      "Found better solution: [5, 2, 4, 11, 8, 3, 3, 0, 7, 1, 6, 9], Fitness: 64\n",
      "Accepted a worse solution: [5, 2, 9, 11, 8, 3, 3, 0, 7, 1, 6, 9], Fitness: 63\n",
      "Found better solution: [5, 2, 9, 11, 8, 3, 0, 0, 7, 1, 6, 9], Fitness: 63\n",
      "Found better solution: [5, 2, 9, 11, 8, 3, 0, 0, 10, 1, 6, 9], Fitness: 63\n",
      "Found better solution: [5, 2, 9, 11, 8, 3, 0, 0, 10, 1, 7, 9], Fitness: 63\n",
      "Found better solution: [5, 2, 9, 11, 8, 3, 0, 0, 10, 1, 7, 11], Fitness: 64\n",
      "Found better solution: [5, 2, 9, 11, 8, 3, 0, 6, 10, 1, 7, 11], Fitness: 65\n",
      "Found better solution: [5, 2, 9, 6, 8, 3, 0, 6, 10, 1, 7, 11], Fitness: 65\n",
      "Accepted a worse solution: [5, 2, 9, 6, 8, 3, 0, 11, 10, 1, 7, 11], Fitness: 63\n",
      "Found better solution: [5, 2, 9, 6, 8, 3, 0, 7, 10, 1, 7, 11], Fitness: 64\n",
      "Found better solution: [5, 2, 9, 6, 8, 3, 0, 7, 10, 1, 9, 11], Fitness: 64\n",
      "Found better solution: [5, 2, 9, 6, 8, 3, 0, 4, 10, 1, 9, 11], Fitness: 64\n",
      "Found better solution: [5, 2, 9, 6, 8, 3, 0, 0, 10, 1, 9, 11], Fitness: 64\n",
      "Found better solution: [5, 2, 9, 6, 8, 3, 0, 7, 10, 1, 9, 11], Fitness: 64\n",
      "Found better solution: [5, 2, 11, 6, 8, 3, 0, 7, 10, 1, 9, 11], Fitness: 64\n",
      "Found better solution: [5, 2, 9, 6, 8, 3, 0, 7, 10, 1, 9, 11], Fitness: 64\n",
      "Found better solution: [5, 2, 9, 6, 8, 3, 0, 7, 10, 1, 9, 6], Fitness: 64\n",
      "Found better solution: [5, 2, 9, 6, 8, 3, 0, 7, 10, 1, 9, 2], Fitness: 64\n",
      "Found better solution: [5, 2, 9, 6, 8, 3, 0, 7, 10, 1, 9, 11], Fitness: 64\n",
      "Found better solution: [5, 2, 9, 6, 8, 3, 0, 7, 10, 1, 5, 11], Fitness: 64\n",
      "Found better solution: [4, 2, 9, 6, 8, 3, 0, 7, 10, 1, 5, 11], Fitness: 64\n",
      "Found better solution: [4, 2, 9, 6, 8, 3, 0, 0, 10, 1, 5, 11], Fitness: 64\n",
      "Found better solution: [4, 2, 9, 6, 8, 3, 7, 0, 10, 1, 5, 11], Fitness: 64\n",
      "Found better solution: [4, 2, 9, 6, 1, 3, 7, 0, 10, 1, 5, 11], Fitness: 64\n",
      "Found better solution: [4, 2, 9, 6, 1, 3, 7, 0, 10, 3, 5, 11], Fitness: 64\n",
      "Found better solution: [4, 2, 8, 6, 1, 3, 7, 0, 10, 3, 5, 11], Fitness: 64\n",
      "Found better solution: [4, 2, 9, 6, 1, 3, 7, 0, 10, 3, 5, 11], Fitness: 64\n",
      "Found better solution: [4, 2, 9, 6, 1, 3, 8, 0, 10, 3, 5, 11], Fitness: 64\n",
      "Found better solution: [4, 2, 9, 6, 1, 3, 8, 0, 10, 8, 5, 11], Fitness: 64\n",
      "Found better solution: [4, 2, 9, 6, 1, 3, 11, 0, 10, 8, 5, 11], Fitness: 64\n",
      "Found better solution: [4, 2, 9, 6, 1, 3, 11, 0, 10, 7, 5, 11], Fitness: 64\n",
      "Found better solution: [4, 2, 9, 6, 1, 3, 11, 0, 10, 7, 5, 3], Fitness: 64\n",
      "Found better solution: [4, 2, 9, 6, 1, 1, 11, 0, 10, 7, 5, 3], Fitness: 65\n",
      "Found better solution: [8, 2, 9, 6, 1, 1, 11, 0, 10, 7, 5, 3], Fitness: 65\n",
      "Found better solution: [8, 2, 9, 6, 8, 1, 11, 0, 10, 7, 5, 3], Fitness: 65\n",
      "Found better solution: [8, 2, 9, 6, 1, 1, 11, 0, 10, 7, 5, 3], Fitness: 65\n",
      "Found better solution: [8, 2, 9, 6, 4, 1, 11, 0, 10, 7, 5, 3], Fitness: 65\n",
      "Found better solution: [10, 2, 9, 6, 4, 1, 11, 0, 10, 7, 5, 3], Fitness: 65\n",
      "Found better solution: [10, 2, 9, 6, 8, 1, 11, 0, 10, 7, 5, 3], Fitness: 65\n",
      "Found better solution: [8, 2, 9, 6, 8, 1, 11, 0, 10, 7, 5, 3], Fitness: 65\n",
      "Found better solution: [10, 2, 9, 6, 8, 1, 11, 0, 10, 7, 5, 3], Fitness: 65\n",
      "Found better solution: [4, 2, 9, 6, 8, 1, 11, 0, 10, 7, 5, 3], Fitness: 65\n",
      "Found better solution: [4, 2, 9, 6, 1, 1, 11, 0, 10, 7, 5, 3], Fitness: 65\n",
      "Elite is [5, 2, 9, 11, 8, 3, 0, 6, 10, 1, 7, 11], Fitness: 65\n"
     ]
    },
    {
     "data": {
      "text/plain": [
       "{'best_fitness': 65,\n",
       " 'best_fitness_percentage': 98.48484848484848,\n",
       " 'best_representation': [5, 2, 9, 11, 8, 3, 0, 6, 10, 1, 7, 11]}"
      ]
     },
     "execution_count": 7,
     "metadata": {},
     "output_type": "execute_result"
    }
   ],
   "source": [
    "# testing\n",
    "sa = sim_annealing(n = 12)\n",
    "\n",
    "sa"
   ]
  },
  {
   "attachments": {},
   "cell_type": "markdown",
   "metadata": {},
   "source": [
    "### __1.4 Genetic Algorithm__"
   ]
  },
  {
   "cell_type": "code",
   "execution_count": 8,
   "metadata": {
    "ExecuteTime": {
     "end_time": "2023-05-26T21:07:48.633803Z",
     "start_time": "2023-05-26T21:07:48.277270Z"
    }
   },
   "outputs": [],
   "source": [
    "def genetic_algorithm(\n",
    "                    n = 12,\n",
    "                    pop = 100,\n",
    "                    gen = 50,\n",
    "                    mut_perc = .05, # .01 .1\n",
    "                    cross_perc = .75, # .6 to .9\n",
    "                    mut='random_mutation',\n",
    "                    cross='single_cross',\n",
    "                    select='tournament_selection',\n",
    "                    ):\n",
    "    \n",
    "    nQueensGA = NQueensGeneticAlgorithm(population_size=pop, dimension=n)\n",
    "\n",
    "    nQueensGA.run(\n",
    "        generations=gen,\n",
    "        mutation_probability=mut_perc,\n",
    "        crossover_probability=cross_perc,\n",
    "        mutation_operator=mut,\n",
    "        crossover_operator=cross,\n",
    "        selection_operator=select\n",
    "    )\n",
    "\n",
    "    return nQueensGA.report()"
   ]
  },
  {
   "cell_type": "code",
   "execution_count": 9,
   "metadata": {
    "collapsed": false
   },
   "outputs": [
    {
     "data": {
      "text/plain": [
       "{'generations': 100,\n",
       " 'duration': 161,\n",
       " 'best_fitness': 66,\n",
       " 'best_fitness_percentage': 100.0,\n",
       " 'best_representation': [6, 5, 5, 5, 5, 6, 5, 5, 5, 5, 5, 6],\n",
       " 'worst_fitness': 49,\n",
       " 'worst_representation': [6, 5, 6, 5, 6, 6, 5, 5, 5, 6, 6, 5],\n",
       " 'mean_fitness': 50.17,\n",
       " 'selection_operator': 'rank_selection',\n",
       " 'mutate_operator': 'inversion_mutation',\n",
       " 'crossover_operator': 'arithmetic_xo'}"
      ]
     },
     "execution_count": 9,
     "metadata": {},
     "output_type": "execute_result"
    }
   ],
   "source": [
    "# testing function\n",
    "ga = genetic_algorithm(\n",
    "                                            n = 12,\n",
    "                                            pop = 100,\n",
    "                                            gen = 100,\n",
    "                                            mut_perc = .05,\n",
    "                                            cross_perc = .75,\n",
    "                                            mut = \"inversion_mutation\",\n",
    "                                            cross = \"arithmetic_cross\",\n",
    "                                            select = \"rank\"\n",
    "                                            )\n",
    "ga"
   ]
  },
  {
   "attachments": {},
   "cell_type": "markdown",
   "metadata": {},
   "source": [
    "## __1. Operators & Paramaters Optimization__"
   ]
  },
  {
   "cell_type": "code",
   "execution_count": 10,
   "metadata": {},
   "outputs": [],
   "source": [
    "# dictionary with parameter names and default values \n",
    "defaults = genetic_algorithm.__defaults__\n",
    "parameters = genetic_algorithm.__code__.co_varnames\n",
    "params = {param: val for param, val in zip(parameters, defaults)}\n",
    "\n",
    "# color list for plots\n",
    "color_palette = ['gray', 'steelblue', 'purple', 'darkgray', 'lightgray', 'slategray', 'cornflowerblue', 'lavender', 'powderblue']"
   ]
  },
  {
   "cell_type": "code",
   "execution_count": 11,
   "metadata": {},
   "outputs": [],
   "source": [
    "def best_operators_search(parameter: str, values: list, previous_best_params: list = None):\n",
    "    \n",
    "    if previous_best_params:\n",
    "        params = previous_best_params\n",
    "    else:\n",
    "        # dictionary with parameter names and default values \n",
    "        defaults = genetic_algorithm.__defaults__\n",
    "        parameters = genetic_algorithm.__code__.co_varnames\n",
    "        params = {param: val for param, val in zip(parameters, defaults)}\n",
    "    \n",
    "    # initializing variables\n",
    "    best_fit = 0.0\n",
    "    time_fit = 9e99\n",
    "    fit_dict = {}\n",
    "    time_dict = {}\n",
    "    param_list = []\n",
    "\n",
    "    # Perform grid search\n",
    "    for i in values:\n",
    "        # 100 iterations to generate statistically relevant results\n",
    "        fit_list = []\n",
    "        time_list = []\n",
    "        for _ in range(100):\n",
    "            # changing parameter according to input\n",
    "            params[parameter] = i\n",
    "            # Define the model with current hyperparameters\n",
    "            ga = genetic_algorithm(**params)\n",
    "            # gets restults\n",
    "            fit = ga['best_fitness_percentage']\n",
    "            time_it = ga['duration']\n",
    "            # Check if current solution has better fitness than previous best \n",
    "            if fit > best_fit:\n",
    "                best_fit = fit\n",
    "                time_fit = time_it\n",
    "                best_param = {parameter: i}\n",
    "            # Check if the solution with fitness as good is faster than previous best\n",
    "            if fit == best_fit and time_it < time_fit:\n",
    "                time_fit = time_it\n",
    "                best_param = {parameter: i}\n",
    "            # Append results to get 100 iterations values\n",
    "            fit_list.append(fit)\n",
    "            time_list.append(time_it)\n",
    "        # saving results per parameter\n",
    "        param_list.append(best_param)\n",
    "        fit_dict['Fit_' + str(i)] = fit_list\n",
    "        time_dict['Time_' + str(i)] = time_list\n",
    "\n",
    "    unique_best_params =list({tuple(d.items()): d for d in param_list}.values())\n",
    "\n",
    "    # dataframe with results\n",
    "    fit_dict.update(time_dict)\n",
    "    df = pd.DataFrame(fit_dict)\n",
    "        \n",
    "    return unique_best_params, df"
   ]
  },
  {
   "cell_type": "code",
   "execution_count": 12,
   "metadata": {},
   "outputs": [],
   "source": [
    "def plot_values(data: pd.DataFrame, colors: list, layout: int, template:str, grid:  bool):\n",
    "    # Filter columns starting with \"Fit_\"\n",
    "    fit_columns = [col for col in data.columns if col.startswith('Fit_')]\n",
    "\n",
    "    # Filter columns starting with \"Time_\"\n",
    "    time_columns = [col for col in data.columns if col.startswith('Time_')]\n",
    "\n",
    "    template_map = {'white':'plotly_white', 'dark': 'plotly_dark'}\n",
    "\n",
    "    tick_font_map = {'white': webcolors.rgb_to_hex(webcolors.name_to_rgb('black')), 'dark': webcolors.rgb_to_hex(webcolors.name_to_rgb('white'))}\n",
    "\n",
    "    # Layout styles\n",
    "    layout_1 = {\n",
    "        'xaxis_title': 'Iterations',\n",
    "        'yaxis_title': 'Time (ms)',\n",
    "        'template': template_map[template],\n",
    "        'font': {'size': 14, 'family': 'Verdana'},\n",
    "        'title': {'text': 'Time Comparison', 'font': {'size': 19, 'family': 'Verdana'}},\n",
    "        'xaxis': {'showgrid': grid, 'ticks': 'outside', 'tickfont': {'color': tick_font_map[template]}},\n",
    "        'yaxis': {'showgrid': grid, 'tickfont': {'color': tick_font_map[template]}}\n",
    "        }\n",
    "    \n",
    "    layout_2 = {\n",
    "        'template': template_map[template],\n",
    "        'font': {'size': 14, 'family': 'Verdana'},\n",
    "        'xaxis': {\n",
    "            'showline': True,\n",
    "            'showgrid': grid,\n",
    "            'showticklabels': True,\n",
    "            'linewidth': 1.5,\n",
    "            'ticks': 'outside',\n",
    "            'tickfont': {\n",
    "                'family': 'Verdana',\n",
    "                'size': 11,\n",
    "                'color': tick_font_map[template]}},\n",
    "        'yaxis': {\n",
    "            'showgrid': grid,\n",
    "            'zeroline': False,\n",
    "            'showline': False,\n",
    "            'showticklabels': True,\n",
    "            'ticks': 'outside',\n",
    "            'tickfont': {\n",
    "                'family': 'Verdana',\n",
    "                'size': 11,\n",
    "                'color': tick_font_map[template]}}}\n",
    "    \n",
    "    layout_map = {1:layout_1, 2:layout_2}\n",
    "\n",
    "    # Convert color names to RGB values\n",
    "    rgb_colors = [webcolors.name_to_rgb(color) for color in colors]\n",
    "\n",
    "    mode_size = 8\n",
    "    line_size = 2\n",
    "\n",
    "    # Create a subplot with two line plots\n",
    "    fig = go.Figure()\n",
    "\n",
    "    # Add line plots for \"Fit_\" columns\n",
    "    i = 0\n",
    "    for col in fit_columns:\n",
    "        fig.add_trace(go.Scatter(x=data.index, y=data[col], name=col.replace('Fit_', ''),\n",
    "                                line=dict(color=colors[i], width=line_size),\n",
    "                                ))\n",
    "\n",
    "        fig.add_trace(go.Scatter(\n",
    "            x=[data.index[0], data.index[-1]],\n",
    "            y=[data[col][0], data[col].iloc[-1]],\n",
    "            mode='markers',\n",
    "            marker=dict(color=colors[i], size=mode_size),\n",
    "            name=''\n",
    "        ))\n",
    "        i += 1\n",
    "\n",
    "    layout_map[layout].update({\n",
    "                            'title': 'Fitness Comparison',\n",
    "                            'xaxis_title': 'Iterations',\n",
    "                            'yaxis_title': 'Fitness'})\n",
    "\n",
    "    fig.update_layout(layout_map[layout])\n",
    "\n",
    "    fig2 = go.Figure()\n",
    "\n",
    "    # Add line plots for \"Time_\" columns\n",
    "    i = 0\n",
    "    for col in time_columns:\n",
    "        fig2.add_trace(go.Scatter(x=data.index, y=data[col], name=col.replace('Time_', ''),\n",
    "                                line=dict(color=colors[i], width=line_size),\n",
    "                                ))\n",
    "\n",
    "        fig2.add_trace(go.Scatter(\n",
    "            x=[data.index[0], data.index[-1]],\n",
    "            y=[data[col][0], data[col].iloc[-1]],\n",
    "            mode='markers',\n",
    "            marker=dict(color=colors[i], size=mode_size),\n",
    "            name=''\n",
    "        ))\n",
    "        i += 1\n",
    "\n",
    "    layout_map[layout].update({\n",
    "                            'title': 'Time Comparison',\n",
    "                            'xaxis_title': 'Iterations',\n",
    "                            'yaxis_title': 'Time (ms)'})\n",
    "\n",
    "    fig2.update_layout(layout_map[layout])\n",
    "\n",
    "    # Show the plots\n",
    "    fig.show()\n",
    "    fig2.show()"
   ]
  },
  {
   "attachments": {},
   "cell_type": "markdown",
   "metadata": {},
   "source": [
    "### __2.1 Mutation Operator__"
   ]
  },
  {
   "cell_type": "code",
   "execution_count": 13,
   "metadata": {},
   "outputs": [
    {
     "name": "stdout",
     "output_type": "stream",
     "text": [
      "\u001b[1mParameters for GA:\u001b[0m\n",
      "\n",
      "{'n': 12, 'pop': 100, 'gen': 50, 'mut_perc': 0.05, 'cross_perc': 0.75, 'mut': 'random_mutation', 'cross': 'single_cross', 'select': 'tournament_selection'}\n",
      "\n",
      "\u001b[1mAverage results:\n"
     ]
    },
    {
     "data": {
      "text/html": [
       "<div>\n",
       "<style scoped>\n",
       "    .dataframe tbody tr th:only-of-type {\n",
       "        vertical-align: middle;\n",
       "    }\n",
       "\n",
       "    .dataframe tbody tr th {\n",
       "        vertical-align: top;\n",
       "    }\n",
       "\n",
       "    .dataframe thead th {\n",
       "        text-align: right;\n",
       "    }\n",
       "</style>\n",
       "<table border=\"1\" class=\"dataframe\">\n",
       "  <thead>\n",
       "    <tr style=\"text-align: right;\">\n",
       "      <th></th>\n",
       "      <th>Fit_swap_mutation</th>\n",
       "      <th>Fit_random_mutation</th>\n",
       "      <th>Fit_inversion_mutation</th>\n",
       "      <th>Time_swap_mutation</th>\n",
       "      <th>Time_random_mutation</th>\n",
       "      <th>Time_inversion_mutation</th>\n",
       "    </tr>\n",
       "  </thead>\n",
       "  <tbody>\n",
       "    <tr>\n",
       "      <th>0</th>\n",
       "      <td>96.348</td>\n",
       "      <td>96.227</td>\n",
       "      <td>96.409</td>\n",
       "      <td>9.6</td>\n",
       "      <td>10.11</td>\n",
       "      <td>9.82</td>\n",
       "    </tr>\n",
       "  </tbody>\n",
       "</table>\n",
       "</div>"
      ],
      "text/plain": [
       "   Fit_swap_mutation  Fit_random_mutation  Fit_inversion_mutation   \n",
       "0             96.348               96.227                  96.409  \\\n",
       "\n",
       "   Time_swap_mutation  Time_random_mutation  Time_inversion_mutation  \n",
       "0                 9.6                 10.11                     9.82  "
      ]
     },
     "metadata": {},
     "output_type": "display_data"
    },
    {
     "name": "stdout",
     "output_type": "stream",
     "text": [
      "\n",
      "Best Fitness: \u001b[1minversion_mutation\u001b[0m\n",
      "\n",
      "Best Time: \u001b[1mswap_mutation\u001b[0m\n",
      "\n"
     ]
    },
    {
     "data": {
      "application/vnd.plotly.v1+json": {
       "config": {
        "plotlyServerURL": "https://plot.ly"
       },
       "data": [
        {
         "line": {
          "color": "gray",
          "width": 2
         },
         "name": "swap_mutation",
         "type": "scatter",
         "x": [
          0,
          1,
          2,
          3,
          4,
          5,
          6,
          7,
          8,
          9,
          10,
          11,
          12,
          13,
          14,
          15,
          16,
          17,
          18,
          19,
          20,
          21,
          22,
          23,
          24,
          25,
          26,
          27,
          28,
          29,
          30,
          31,
          32,
          33,
          34,
          35,
          36,
          37,
          38,
          39,
          40,
          41,
          42,
          43,
          44,
          45,
          46,
          47,
          48,
          49,
          50,
          51,
          52,
          53,
          54,
          55,
          56,
          57,
          58,
          59,
          60,
          61,
          62,
          63,
          64,
          65,
          66,
          67,
          68,
          69,
          70,
          71,
          72,
          73,
          74,
          75,
          76,
          77,
          78,
          79,
          80,
          81,
          82,
          83,
          84,
          85,
          86,
          87,
          88,
          89,
          90,
          91,
          92,
          93,
          94,
          95,
          96,
          97,
          98,
          99
         ],
         "y": [
          95.45454545454545,
          96.96969696969697,
          96.96969696969697,
          95.45454545454545,
          95.45454545454545,
          95.45454545454545,
          95.45454545454545,
          96.96969696969697,
          95.45454545454545,
          96.96969696969697,
          98.48484848484848,
          96.96969696969697,
          95.45454545454545,
          96.96969696969697,
          96.96969696969697,
          96.96969696969697,
          95.45454545454545,
          96.96969696969697,
          95.45454545454545,
          95.45454545454545,
          96.96969696969697,
          98.48484848484848,
          96.96969696969697,
          95.45454545454545,
          96.96969696969697,
          96.96969696969697,
          98.48484848484848,
          98.48484848484848,
          96.96969696969697,
          96.96969696969697,
          95.45454545454545,
          95.45454545454545,
          95.45454545454545,
          95.45454545454545,
          95.45454545454545,
          96.96969696969697,
          96.96969696969697,
          96.96969696969697,
          95.45454545454545,
          96.96969696969697,
          95.45454545454545,
          96.96969696969697,
          95.45454545454545,
          95.45454545454545,
          95.45454545454545,
          96.96969696969697,
          96.96969696969697,
          96.96969696969697,
          96.96969696969697,
          95.45454545454545,
          96.96969696969697,
          96.96969696969697,
          95.45454545454545,
          95.45454545454545,
          95.45454545454545,
          95.45454545454545,
          96.96969696969697,
          96.96969696969697,
          95.45454545454545,
          96.96969696969697,
          95.45454545454545,
          95.45454545454545,
          95.45454545454545,
          95.45454545454545,
          96.96969696969697,
          96.96969696969697,
          96.96969696969697,
          96.96969696969697,
          95.45454545454545,
          95.45454545454545,
          96.96969696969697,
          96.96969696969697,
          98.48484848484848,
          96.96969696969697,
          95.45454545454545,
          96.96969696969697,
          95.45454545454545,
          96.96969696969697,
          96.96969696969697,
          95.45454545454545,
          95.45454545454545,
          95.45454545454545,
          100,
          95.45454545454545,
          96.96969696969697,
          95.45454545454545,
          96.96969696969697,
          95.45454545454545,
          96.96969696969697,
          95.45454545454545,
          96.96969696969697,
          95.45454545454545,
          98.48484848484848,
          95.45454545454545,
          93.93939393939394,
          95.45454545454545,
          95.45454545454545,
          95.45454545454545,
          96.96969696969697,
          96.96969696969697
         ]
        },
        {
         "marker": {
          "color": "gray",
          "size": 8
         },
         "mode": "markers",
         "name": "",
         "type": "scatter",
         "x": [
          0,
          99
         ],
         "y": [
          95.45454545454545,
          96.96969696969697
         ]
        },
        {
         "line": {
          "color": "steelblue",
          "width": 2
         },
         "name": "random_mutation",
         "type": "scatter",
         "x": [
          0,
          1,
          2,
          3,
          4,
          5,
          6,
          7,
          8,
          9,
          10,
          11,
          12,
          13,
          14,
          15,
          16,
          17,
          18,
          19,
          20,
          21,
          22,
          23,
          24,
          25,
          26,
          27,
          28,
          29,
          30,
          31,
          32,
          33,
          34,
          35,
          36,
          37,
          38,
          39,
          40,
          41,
          42,
          43,
          44,
          45,
          46,
          47,
          48,
          49,
          50,
          51,
          52,
          53,
          54,
          55,
          56,
          57,
          58,
          59,
          60,
          61,
          62,
          63,
          64,
          65,
          66,
          67,
          68,
          69,
          70,
          71,
          72,
          73,
          74,
          75,
          76,
          77,
          78,
          79,
          80,
          81,
          82,
          83,
          84,
          85,
          86,
          87,
          88,
          89,
          90,
          91,
          92,
          93,
          94,
          95,
          96,
          97,
          98,
          99
         ],
         "y": [
          95.45454545454545,
          95.45454545454545,
          95.45454545454545,
          96.96969696969697,
          95.45454545454545,
          98.48484848484848,
          96.96969696969697,
          96.96969696969697,
          95.45454545454545,
          95.45454545454545,
          95.45454545454545,
          95.45454545454545,
          98.48484848484848,
          95.45454545454545,
          95.45454545454545,
          95.45454545454545,
          95.45454545454545,
          96.96969696969697,
          96.96969696969697,
          96.96969696969697,
          95.45454545454545,
          96.96969696969697,
          95.45454545454545,
          96.96969696969697,
          96.96969696969697,
          95.45454545454545,
          95.45454545454545,
          96.96969696969697,
          95.45454545454545,
          95.45454545454545,
          95.45454545454545,
          95.45454545454545,
          96.96969696969697,
          95.45454545454545,
          95.45454545454545,
          95.45454545454545,
          95.45454545454545,
          95.45454545454545,
          96.96969696969697,
          96.96969696969697,
          98.48484848484848,
          95.45454545454545,
          95.45454545454545,
          96.96969696969697,
          96.96969696969697,
          96.96969696969697,
          98.48484848484848,
          95.45454545454545,
          96.96969696969697,
          96.96969696969697,
          96.96969696969697,
          96.96969696969697,
          95.45454545454545,
          96.96969696969697,
          95.45454545454545,
          96.96969696969697,
          95.45454545454545,
          95.45454545454545,
          95.45454545454545,
          95.45454545454545,
          95.45454545454545,
          96.96969696969697,
          95.45454545454545,
          96.96969696969697,
          96.96969696969697,
          95.45454545454545,
          98.48484848484848,
          95.45454545454545,
          95.45454545454545,
          95.45454545454545,
          95.45454545454545,
          96.96969696969697,
          96.96969696969697,
          96.96969696969697,
          96.96969696969697,
          93.93939393939394,
          95.45454545454545,
          96.96969696969697,
          96.96969696969697,
          96.96969696969697,
          96.96969696969697,
          95.45454545454545,
          93.93939393939394,
          95.45454545454545,
          96.96969696969697,
          96.96969696969697,
          96.96969696969697,
          95.45454545454545,
          95.45454545454545,
          96.96969696969697,
          96.96969696969697,
          95.45454545454545,
          95.45454545454545,
          96.96969696969697,
          95.45454545454545,
          96.96969696969697,
          96.96969696969697,
          95.45454545454545,
          96.96969696969697,
          96.96969696969697
         ]
        },
        {
         "marker": {
          "color": "steelblue",
          "size": 8
         },
         "mode": "markers",
         "name": "",
         "type": "scatter",
         "x": [
          0,
          99
         ],
         "y": [
          95.45454545454545,
          96.96969696969697
         ]
        },
        {
         "line": {
          "color": "purple",
          "width": 2
         },
         "name": "inversion_mutation",
         "type": "scatter",
         "x": [
          0,
          1,
          2,
          3,
          4,
          5,
          6,
          7,
          8,
          9,
          10,
          11,
          12,
          13,
          14,
          15,
          16,
          17,
          18,
          19,
          20,
          21,
          22,
          23,
          24,
          25,
          26,
          27,
          28,
          29,
          30,
          31,
          32,
          33,
          34,
          35,
          36,
          37,
          38,
          39,
          40,
          41,
          42,
          43,
          44,
          45,
          46,
          47,
          48,
          49,
          50,
          51,
          52,
          53,
          54,
          55,
          56,
          57,
          58,
          59,
          60,
          61,
          62,
          63,
          64,
          65,
          66,
          67,
          68,
          69,
          70,
          71,
          72,
          73,
          74,
          75,
          76,
          77,
          78,
          79,
          80,
          81,
          82,
          83,
          84,
          85,
          86,
          87,
          88,
          89,
          90,
          91,
          92,
          93,
          94,
          95,
          96,
          97,
          98,
          99
         ],
         "y": [
          98.48484848484848,
          96.96969696969697,
          95.45454545454545,
          93.93939393939394,
          96.96969696969697,
          95.45454545454545,
          96.96969696969697,
          96.96969696969697,
          98.48484848484848,
          95.45454545454545,
          95.45454545454545,
          96.96969696969697,
          96.96969696969697,
          96.96969696969697,
          96.96969696969697,
          95.45454545454545,
          95.45454545454545,
          95.45454545454545,
          95.45454545454545,
          96.96969696969697,
          96.96969696969697,
          96.96969696969697,
          96.96969696969697,
          95.45454545454545,
          98.48484848484848,
          95.45454545454545,
          95.45454545454545,
          96.96969696969697,
          95.45454545454545,
          98.48484848484848,
          95.45454545454545,
          96.96969696969697,
          96.96969696969697,
          96.96969696969697,
          95.45454545454545,
          95.45454545454545,
          98.48484848484848,
          96.96969696969697,
          96.96969696969697,
          96.96969696969697,
          95.45454545454545,
          96.96969696969697,
          96.96969696969697,
          96.96969696969697,
          96.96969696969697,
          96.96969696969697,
          98.48484848484848,
          98.48484848484848,
          95.45454545454545,
          96.96969696969697,
          96.96969696969697,
          96.96969696969697,
          96.96969696969697,
          95.45454545454545,
          95.45454545454545,
          96.96969696969697,
          95.45454545454545,
          95.45454545454545,
          98.48484848484848,
          95.45454545454545,
          95.45454545454545,
          96.96969696969697,
          95.45454545454545,
          96.96969696969697,
          96.96969696969697,
          95.45454545454545,
          95.45454545454545,
          96.96969696969697,
          96.96969696969697,
          95.45454545454545,
          96.96969696969697,
          95.45454545454545,
          98.48484848484848,
          95.45454545454545,
          95.45454545454545,
          96.96969696969697,
          95.45454545454545,
          95.45454545454545,
          95.45454545454545,
          95.45454545454545,
          95.45454545454545,
          95.45454545454545,
          95.45454545454545,
          96.96969696969697,
          96.96969696969697,
          93.93939393939394,
          96.96969696969697,
          95.45454545454545,
          96.96969696969697,
          96.96969696969697,
          95.45454545454545,
          95.45454545454545,
          95.45454545454545,
          96.96969696969697,
          96.96969696969697,
          96.96969696969697,
          95.45454545454545,
          96.96969696969697,
          96.96969696969697,
          96.96969696969697
         ]
        },
        {
         "marker": {
          "color": "purple",
          "size": 8
         },
         "mode": "markers",
         "name": "",
         "type": "scatter",
         "x": [
          0,
          99
         ],
         "y": [
          98.48484848484848,
          96.96969696969697
         ]
        }
       ],
       "layout": {
        "font": {
         "family": "Verdana",
         "size": 14
        },
        "template": {
         "data": {
          "bar": [
           {
            "error_x": {
             "color": "#2a3f5f"
            },
            "error_y": {
             "color": "#2a3f5f"
            },
            "marker": {
             "line": {
              "color": "white",
              "width": 0.5
             },
             "pattern": {
              "fillmode": "overlay",
              "size": 10,
              "solidity": 0.2
             }
            },
            "type": "bar"
           }
          ],
          "barpolar": [
           {
            "marker": {
             "line": {
              "color": "white",
              "width": 0.5
             },
             "pattern": {
              "fillmode": "overlay",
              "size": 10,
              "solidity": 0.2
             }
            },
            "type": "barpolar"
           }
          ],
          "carpet": [
           {
            "aaxis": {
             "endlinecolor": "#2a3f5f",
             "gridcolor": "#C8D4E3",
             "linecolor": "#C8D4E3",
             "minorgridcolor": "#C8D4E3",
             "startlinecolor": "#2a3f5f"
            },
            "baxis": {
             "endlinecolor": "#2a3f5f",
             "gridcolor": "#C8D4E3",
             "linecolor": "#C8D4E3",
             "minorgridcolor": "#C8D4E3",
             "startlinecolor": "#2a3f5f"
            },
            "type": "carpet"
           }
          ],
          "choropleth": [
           {
            "colorbar": {
             "outlinewidth": 0,
             "ticks": ""
            },
            "type": "choropleth"
           }
          ],
          "contour": [
           {
            "colorbar": {
             "outlinewidth": 0,
             "ticks": ""
            },
            "colorscale": [
             [
              0,
              "#0d0887"
             ],
             [
              0.1111111111111111,
              "#46039f"
             ],
             [
              0.2222222222222222,
              "#7201a8"
             ],
             [
              0.3333333333333333,
              "#9c179e"
             ],
             [
              0.4444444444444444,
              "#bd3786"
             ],
             [
              0.5555555555555556,
              "#d8576b"
             ],
             [
              0.6666666666666666,
              "#ed7953"
             ],
             [
              0.7777777777777778,
              "#fb9f3a"
             ],
             [
              0.8888888888888888,
              "#fdca26"
             ],
             [
              1,
              "#f0f921"
             ]
            ],
            "type": "contour"
           }
          ],
          "contourcarpet": [
           {
            "colorbar": {
             "outlinewidth": 0,
             "ticks": ""
            },
            "type": "contourcarpet"
           }
          ],
          "heatmap": [
           {
            "colorbar": {
             "outlinewidth": 0,
             "ticks": ""
            },
            "colorscale": [
             [
              0,
              "#0d0887"
             ],
             [
              0.1111111111111111,
              "#46039f"
             ],
             [
              0.2222222222222222,
              "#7201a8"
             ],
             [
              0.3333333333333333,
              "#9c179e"
             ],
             [
              0.4444444444444444,
              "#bd3786"
             ],
             [
              0.5555555555555556,
              "#d8576b"
             ],
             [
              0.6666666666666666,
              "#ed7953"
             ],
             [
              0.7777777777777778,
              "#fb9f3a"
             ],
             [
              0.8888888888888888,
              "#fdca26"
             ],
             [
              1,
              "#f0f921"
             ]
            ],
            "type": "heatmap"
           }
          ],
          "heatmapgl": [
           {
            "colorbar": {
             "outlinewidth": 0,
             "ticks": ""
            },
            "colorscale": [
             [
              0,
              "#0d0887"
             ],
             [
              0.1111111111111111,
              "#46039f"
             ],
             [
              0.2222222222222222,
              "#7201a8"
             ],
             [
              0.3333333333333333,
              "#9c179e"
             ],
             [
              0.4444444444444444,
              "#bd3786"
             ],
             [
              0.5555555555555556,
              "#d8576b"
             ],
             [
              0.6666666666666666,
              "#ed7953"
             ],
             [
              0.7777777777777778,
              "#fb9f3a"
             ],
             [
              0.8888888888888888,
              "#fdca26"
             ],
             [
              1,
              "#f0f921"
             ]
            ],
            "type": "heatmapgl"
           }
          ],
          "histogram": [
           {
            "marker": {
             "pattern": {
              "fillmode": "overlay",
              "size": 10,
              "solidity": 0.2
             }
            },
            "type": "histogram"
           }
          ],
          "histogram2d": [
           {
            "colorbar": {
             "outlinewidth": 0,
             "ticks": ""
            },
            "colorscale": [
             [
              0,
              "#0d0887"
             ],
             [
              0.1111111111111111,
              "#46039f"
             ],
             [
              0.2222222222222222,
              "#7201a8"
             ],
             [
              0.3333333333333333,
              "#9c179e"
             ],
             [
              0.4444444444444444,
              "#bd3786"
             ],
             [
              0.5555555555555556,
              "#d8576b"
             ],
             [
              0.6666666666666666,
              "#ed7953"
             ],
             [
              0.7777777777777778,
              "#fb9f3a"
             ],
             [
              0.8888888888888888,
              "#fdca26"
             ],
             [
              1,
              "#f0f921"
             ]
            ],
            "type": "histogram2d"
           }
          ],
          "histogram2dcontour": [
           {
            "colorbar": {
             "outlinewidth": 0,
             "ticks": ""
            },
            "colorscale": [
             [
              0,
              "#0d0887"
             ],
             [
              0.1111111111111111,
              "#46039f"
             ],
             [
              0.2222222222222222,
              "#7201a8"
             ],
             [
              0.3333333333333333,
              "#9c179e"
             ],
             [
              0.4444444444444444,
              "#bd3786"
             ],
             [
              0.5555555555555556,
              "#d8576b"
             ],
             [
              0.6666666666666666,
              "#ed7953"
             ],
             [
              0.7777777777777778,
              "#fb9f3a"
             ],
             [
              0.8888888888888888,
              "#fdca26"
             ],
             [
              1,
              "#f0f921"
             ]
            ],
            "type": "histogram2dcontour"
           }
          ],
          "mesh3d": [
           {
            "colorbar": {
             "outlinewidth": 0,
             "ticks": ""
            },
            "type": "mesh3d"
           }
          ],
          "parcoords": [
           {
            "line": {
             "colorbar": {
              "outlinewidth": 0,
              "ticks": ""
             }
            },
            "type": "parcoords"
           }
          ],
          "pie": [
           {
            "automargin": true,
            "type": "pie"
           }
          ],
          "scatter": [
           {
            "fillpattern": {
             "fillmode": "overlay",
             "size": 10,
             "solidity": 0.2
            },
            "type": "scatter"
           }
          ],
          "scatter3d": [
           {
            "line": {
             "colorbar": {
              "outlinewidth": 0,
              "ticks": ""
             }
            },
            "marker": {
             "colorbar": {
              "outlinewidth": 0,
              "ticks": ""
             }
            },
            "type": "scatter3d"
           }
          ],
          "scattercarpet": [
           {
            "marker": {
             "colorbar": {
              "outlinewidth": 0,
              "ticks": ""
             }
            },
            "type": "scattercarpet"
           }
          ],
          "scattergeo": [
           {
            "marker": {
             "colorbar": {
              "outlinewidth": 0,
              "ticks": ""
             }
            },
            "type": "scattergeo"
           }
          ],
          "scattergl": [
           {
            "marker": {
             "colorbar": {
              "outlinewidth": 0,
              "ticks": ""
             }
            },
            "type": "scattergl"
           }
          ],
          "scattermapbox": [
           {
            "marker": {
             "colorbar": {
              "outlinewidth": 0,
              "ticks": ""
             }
            },
            "type": "scattermapbox"
           }
          ],
          "scatterpolar": [
           {
            "marker": {
             "colorbar": {
              "outlinewidth": 0,
              "ticks": ""
             }
            },
            "type": "scatterpolar"
           }
          ],
          "scatterpolargl": [
           {
            "marker": {
             "colorbar": {
              "outlinewidth": 0,
              "ticks": ""
             }
            },
            "type": "scatterpolargl"
           }
          ],
          "scatterternary": [
           {
            "marker": {
             "colorbar": {
              "outlinewidth": 0,
              "ticks": ""
             }
            },
            "type": "scatterternary"
           }
          ],
          "surface": [
           {
            "colorbar": {
             "outlinewidth": 0,
             "ticks": ""
            },
            "colorscale": [
             [
              0,
              "#0d0887"
             ],
             [
              0.1111111111111111,
              "#46039f"
             ],
             [
              0.2222222222222222,
              "#7201a8"
             ],
             [
              0.3333333333333333,
              "#9c179e"
             ],
             [
              0.4444444444444444,
              "#bd3786"
             ],
             [
              0.5555555555555556,
              "#d8576b"
             ],
             [
              0.6666666666666666,
              "#ed7953"
             ],
             [
              0.7777777777777778,
              "#fb9f3a"
             ],
             [
              0.8888888888888888,
              "#fdca26"
             ],
             [
              1,
              "#f0f921"
             ]
            ],
            "type": "surface"
           }
          ],
          "table": [
           {
            "cells": {
             "fill": {
              "color": "#EBF0F8"
             },
             "line": {
              "color": "white"
             }
            },
            "header": {
             "fill": {
              "color": "#C8D4E3"
             },
             "line": {
              "color": "white"
             }
            },
            "type": "table"
           }
          ]
         },
         "layout": {
          "annotationdefaults": {
           "arrowcolor": "#2a3f5f",
           "arrowhead": 0,
           "arrowwidth": 1
          },
          "autotypenumbers": "strict",
          "coloraxis": {
           "colorbar": {
            "outlinewidth": 0,
            "ticks": ""
           }
          },
          "colorscale": {
           "diverging": [
            [
             0,
             "#8e0152"
            ],
            [
             0.1,
             "#c51b7d"
            ],
            [
             0.2,
             "#de77ae"
            ],
            [
             0.3,
             "#f1b6da"
            ],
            [
             0.4,
             "#fde0ef"
            ],
            [
             0.5,
             "#f7f7f7"
            ],
            [
             0.6,
             "#e6f5d0"
            ],
            [
             0.7,
             "#b8e186"
            ],
            [
             0.8,
             "#7fbc41"
            ],
            [
             0.9,
             "#4d9221"
            ],
            [
             1,
             "#276419"
            ]
           ],
           "sequential": [
            [
             0,
             "#0d0887"
            ],
            [
             0.1111111111111111,
             "#46039f"
            ],
            [
             0.2222222222222222,
             "#7201a8"
            ],
            [
             0.3333333333333333,
             "#9c179e"
            ],
            [
             0.4444444444444444,
             "#bd3786"
            ],
            [
             0.5555555555555556,
             "#d8576b"
            ],
            [
             0.6666666666666666,
             "#ed7953"
            ],
            [
             0.7777777777777778,
             "#fb9f3a"
            ],
            [
             0.8888888888888888,
             "#fdca26"
            ],
            [
             1,
             "#f0f921"
            ]
           ],
           "sequentialminus": [
            [
             0,
             "#0d0887"
            ],
            [
             0.1111111111111111,
             "#46039f"
            ],
            [
             0.2222222222222222,
             "#7201a8"
            ],
            [
             0.3333333333333333,
             "#9c179e"
            ],
            [
             0.4444444444444444,
             "#bd3786"
            ],
            [
             0.5555555555555556,
             "#d8576b"
            ],
            [
             0.6666666666666666,
             "#ed7953"
            ],
            [
             0.7777777777777778,
             "#fb9f3a"
            ],
            [
             0.8888888888888888,
             "#fdca26"
            ],
            [
             1,
             "#f0f921"
            ]
           ]
          },
          "colorway": [
           "#636efa",
           "#EF553B",
           "#00cc96",
           "#ab63fa",
           "#FFA15A",
           "#19d3f3",
           "#FF6692",
           "#B6E880",
           "#FF97FF",
           "#FECB52"
          ],
          "font": {
           "color": "#2a3f5f"
          },
          "geo": {
           "bgcolor": "white",
           "lakecolor": "white",
           "landcolor": "white",
           "showlakes": true,
           "showland": true,
           "subunitcolor": "#C8D4E3"
          },
          "hoverlabel": {
           "align": "left"
          },
          "hovermode": "closest",
          "mapbox": {
           "style": "light"
          },
          "paper_bgcolor": "white",
          "plot_bgcolor": "white",
          "polar": {
           "angularaxis": {
            "gridcolor": "#EBF0F8",
            "linecolor": "#EBF0F8",
            "ticks": ""
           },
           "bgcolor": "white",
           "radialaxis": {
            "gridcolor": "#EBF0F8",
            "linecolor": "#EBF0F8",
            "ticks": ""
           }
          },
          "scene": {
           "xaxis": {
            "backgroundcolor": "white",
            "gridcolor": "#DFE8F3",
            "gridwidth": 2,
            "linecolor": "#EBF0F8",
            "showbackground": true,
            "ticks": "",
            "zerolinecolor": "#EBF0F8"
           },
           "yaxis": {
            "backgroundcolor": "white",
            "gridcolor": "#DFE8F3",
            "gridwidth": 2,
            "linecolor": "#EBF0F8",
            "showbackground": true,
            "ticks": "",
            "zerolinecolor": "#EBF0F8"
           },
           "zaxis": {
            "backgroundcolor": "white",
            "gridcolor": "#DFE8F3",
            "gridwidth": 2,
            "linecolor": "#EBF0F8",
            "showbackground": true,
            "ticks": "",
            "zerolinecolor": "#EBF0F8"
           }
          },
          "shapedefaults": {
           "line": {
            "color": "#2a3f5f"
           }
          },
          "ternary": {
           "aaxis": {
            "gridcolor": "#DFE8F3",
            "linecolor": "#A2B1C6",
            "ticks": ""
           },
           "baxis": {
            "gridcolor": "#DFE8F3",
            "linecolor": "#A2B1C6",
            "ticks": ""
           },
           "bgcolor": "white",
           "caxis": {
            "gridcolor": "#DFE8F3",
            "linecolor": "#A2B1C6",
            "ticks": ""
           }
          },
          "title": {
           "x": 0.05
          },
          "xaxis": {
           "automargin": true,
           "gridcolor": "#EBF0F8",
           "linecolor": "#EBF0F8",
           "ticks": "",
           "title": {
            "standoff": 15
           },
           "zerolinecolor": "#EBF0F8",
           "zerolinewidth": 2
          },
          "yaxis": {
           "automargin": true,
           "gridcolor": "#EBF0F8",
           "linecolor": "#EBF0F8",
           "ticks": "",
           "title": {
            "standoff": 15
           },
           "zerolinecolor": "#EBF0F8",
           "zerolinewidth": 2
          }
         }
        },
        "title": {
         "text": "Fitness Comparison"
        },
        "xaxis": {
         "linewidth": 1.5,
         "showgrid": true,
         "showline": true,
         "showticklabels": true,
         "tickfont": {
          "color": "#000000",
          "family": "Verdana",
          "size": 11
         },
         "ticks": "outside",
         "title": {
          "text": "Iterations"
         }
        },
        "yaxis": {
         "showgrid": true,
         "showline": false,
         "showticklabels": true,
         "tickfont": {
          "color": "#000000",
          "family": "Verdana",
          "size": 11
         },
         "ticks": "outside",
         "title": {
          "text": "Fitness"
         },
         "zeroline": false
        }
       }
      }
     },
     "metadata": {},
     "output_type": "display_data"
    },
    {
     "data": {
      "application/vnd.plotly.v1+json": {
       "config": {
        "plotlyServerURL": "https://plot.ly"
       },
       "data": [
        {
         "line": {
          "color": "gray",
          "width": 2
         },
         "name": "swap_mutation",
         "type": "scatter",
         "x": [
          0,
          1,
          2,
          3,
          4,
          5,
          6,
          7,
          8,
          9,
          10,
          11,
          12,
          13,
          14,
          15,
          16,
          17,
          18,
          19,
          20,
          21,
          22,
          23,
          24,
          25,
          26,
          27,
          28,
          29,
          30,
          31,
          32,
          33,
          34,
          35,
          36,
          37,
          38,
          39,
          40,
          41,
          42,
          43,
          44,
          45,
          46,
          47,
          48,
          49,
          50,
          51,
          52,
          53,
          54,
          55,
          56,
          57,
          58,
          59,
          60,
          61,
          62,
          63,
          64,
          65,
          66,
          67,
          68,
          69,
          70,
          71,
          72,
          73,
          74,
          75,
          76,
          77,
          78,
          79,
          80,
          81,
          82,
          83,
          84,
          85,
          86,
          87,
          88,
          89,
          90,
          91,
          92,
          93,
          94,
          95,
          96,
          97,
          98,
          99
         ],
         "y": [
          10,
          10,
          10,
          10,
          9,
          10,
          10,
          10,
          10,
          10,
          10,
          10,
          10,
          10,
          10,
          10,
          10,
          10,
          9,
          10,
          9,
          9,
          10,
          10,
          9,
          9,
          10,
          10,
          10,
          9,
          9,
          9,
          9,
          9,
          10,
          10,
          10,
          10,
          9,
          10,
          10,
          10,
          9,
          9,
          10,
          9,
          9,
          9,
          10,
          9,
          10,
          10,
          9,
          10,
          9,
          9,
          10,
          10,
          10,
          10,
          9,
          9,
          9,
          10,
          10,
          10,
          10,
          9,
          9,
          9,
          10,
          10,
          9,
          10,
          9,
          9,
          9,
          10,
          9,
          10,
          10,
          10,
          10,
          9,
          10,
          9,
          10,
          9,
          10,
          10,
          9,
          9,
          10,
          10,
          9,
          10,
          9,
          10,
          9,
          10
         ]
        },
        {
         "marker": {
          "color": "gray",
          "size": 8
         },
         "mode": "markers",
         "name": "",
         "type": "scatter",
         "x": [
          0,
          99
         ],
         "y": [
          10,
          10
         ]
        },
        {
         "line": {
          "color": "steelblue",
          "width": 2
         },
         "name": "random_mutation",
         "type": "scatter",
         "x": [
          0,
          1,
          2,
          3,
          4,
          5,
          6,
          7,
          8,
          9,
          10,
          11,
          12,
          13,
          14,
          15,
          16,
          17,
          18,
          19,
          20,
          21,
          22,
          23,
          24,
          25,
          26,
          27,
          28,
          29,
          30,
          31,
          32,
          33,
          34,
          35,
          36,
          37,
          38,
          39,
          40,
          41,
          42,
          43,
          44,
          45,
          46,
          47,
          48,
          49,
          50,
          51,
          52,
          53,
          54,
          55,
          56,
          57,
          58,
          59,
          60,
          61,
          62,
          63,
          64,
          65,
          66,
          67,
          68,
          69,
          70,
          71,
          72,
          73,
          74,
          75,
          76,
          77,
          78,
          79,
          80,
          81,
          82,
          83,
          84,
          85,
          86,
          87,
          88,
          89,
          90,
          91,
          92,
          93,
          94,
          95,
          96,
          97,
          98,
          99
         ],
         "y": [
          10,
          10,
          10,
          10,
          11,
          10,
          10,
          10,
          10,
          10,
          10,
          10,
          10,
          10,
          10,
          11,
          10,
          10,
          11,
          10,
          10,
          11,
          10,
          10,
          10,
          10,
          10,
          10,
          10,
          10,
          10,
          10,
          10,
          10,
          10,
          10,
          10,
          10,
          10,
          10,
          10,
          10,
          10,
          11,
          10,
          11,
          10,
          10,
          10,
          10,
          10,
          10,
          10,
          10,
          10,
          10,
          10,
          10,
          10,
          10,
          10,
          10,
          11,
          10,
          10,
          10,
          10,
          10,
          10,
          10,
          10,
          10,
          10,
          10,
          10,
          10,
          10,
          11,
          10,
          11,
          11,
          10,
          10,
          10,
          10,
          10,
          10,
          10,
          10,
          10,
          10,
          10,
          10,
          10,
          10,
          10,
          10,
          11,
          10,
          10
         ]
        },
        {
         "marker": {
          "color": "steelblue",
          "size": 8
         },
         "mode": "markers",
         "name": "",
         "type": "scatter",
         "x": [
          0,
          99
         ],
         "y": [
          10,
          10
         ]
        },
        {
         "line": {
          "color": "purple",
          "width": 2
         },
         "name": "inversion_mutation",
         "type": "scatter",
         "x": [
          0,
          1,
          2,
          3,
          4,
          5,
          6,
          7,
          8,
          9,
          10,
          11,
          12,
          13,
          14,
          15,
          16,
          17,
          18,
          19,
          20,
          21,
          22,
          23,
          24,
          25,
          26,
          27,
          28,
          29,
          30,
          31,
          32,
          33,
          34,
          35,
          36,
          37,
          38,
          39,
          40,
          41,
          42,
          43,
          44,
          45,
          46,
          47,
          48,
          49,
          50,
          51,
          52,
          53,
          54,
          55,
          56,
          57,
          58,
          59,
          60,
          61,
          62,
          63,
          64,
          65,
          66,
          67,
          68,
          69,
          70,
          71,
          72,
          73,
          74,
          75,
          76,
          77,
          78,
          79,
          80,
          81,
          82,
          83,
          84,
          85,
          86,
          87,
          88,
          89,
          90,
          91,
          92,
          93,
          94,
          95,
          96,
          97,
          98,
          99
         ],
         "y": [
          11,
          10,
          9,
          9,
          9,
          10,
          10,
          10,
          10,
          10,
          9,
          10,
          9,
          10,
          10,
          9,
          10,
          10,
          10,
          10,
          10,
          10,
          10,
          10,
          10,
          10,
          9,
          10,
          9,
          10,
          10,
          9,
          10,
          9,
          9,
          10,
          10,
          10,
          10,
          10,
          9,
          10,
          10,
          10,
          9,
          10,
          10,
          10,
          9,
          10,
          10,
          10,
          10,
          10,
          10,
          10,
          10,
          10,
          9,
          10,
          9,
          10,
          10,
          10,
          10,
          10,
          10,
          10,
          10,
          9,
          10,
          10,
          10,
          9,
          10,
          10,
          10,
          10,
          10,
          10,
          10,
          10,
          10,
          10,
          10,
          9,
          10,
          10,
          10,
          10,
          10,
          10,
          10,
          10,
          10,
          10,
          10,
          10,
          10,
          10
         ]
        },
        {
         "marker": {
          "color": "purple",
          "size": 8
         },
         "mode": "markers",
         "name": "",
         "type": "scatter",
         "x": [
          0,
          99
         ],
         "y": [
          11,
          10
         ]
        }
       ],
       "layout": {
        "font": {
         "family": "Verdana",
         "size": 14
        },
        "template": {
         "data": {
          "bar": [
           {
            "error_x": {
             "color": "#2a3f5f"
            },
            "error_y": {
             "color": "#2a3f5f"
            },
            "marker": {
             "line": {
              "color": "white",
              "width": 0.5
             },
             "pattern": {
              "fillmode": "overlay",
              "size": 10,
              "solidity": 0.2
             }
            },
            "type": "bar"
           }
          ],
          "barpolar": [
           {
            "marker": {
             "line": {
              "color": "white",
              "width": 0.5
             },
             "pattern": {
              "fillmode": "overlay",
              "size": 10,
              "solidity": 0.2
             }
            },
            "type": "barpolar"
           }
          ],
          "carpet": [
           {
            "aaxis": {
             "endlinecolor": "#2a3f5f",
             "gridcolor": "#C8D4E3",
             "linecolor": "#C8D4E3",
             "minorgridcolor": "#C8D4E3",
             "startlinecolor": "#2a3f5f"
            },
            "baxis": {
             "endlinecolor": "#2a3f5f",
             "gridcolor": "#C8D4E3",
             "linecolor": "#C8D4E3",
             "minorgridcolor": "#C8D4E3",
             "startlinecolor": "#2a3f5f"
            },
            "type": "carpet"
           }
          ],
          "choropleth": [
           {
            "colorbar": {
             "outlinewidth": 0,
             "ticks": ""
            },
            "type": "choropleth"
           }
          ],
          "contour": [
           {
            "colorbar": {
             "outlinewidth": 0,
             "ticks": ""
            },
            "colorscale": [
             [
              0,
              "#0d0887"
             ],
             [
              0.1111111111111111,
              "#46039f"
             ],
             [
              0.2222222222222222,
              "#7201a8"
             ],
             [
              0.3333333333333333,
              "#9c179e"
             ],
             [
              0.4444444444444444,
              "#bd3786"
             ],
             [
              0.5555555555555556,
              "#d8576b"
             ],
             [
              0.6666666666666666,
              "#ed7953"
             ],
             [
              0.7777777777777778,
              "#fb9f3a"
             ],
             [
              0.8888888888888888,
              "#fdca26"
             ],
             [
              1,
              "#f0f921"
             ]
            ],
            "type": "contour"
           }
          ],
          "contourcarpet": [
           {
            "colorbar": {
             "outlinewidth": 0,
             "ticks": ""
            },
            "type": "contourcarpet"
           }
          ],
          "heatmap": [
           {
            "colorbar": {
             "outlinewidth": 0,
             "ticks": ""
            },
            "colorscale": [
             [
              0,
              "#0d0887"
             ],
             [
              0.1111111111111111,
              "#46039f"
             ],
             [
              0.2222222222222222,
              "#7201a8"
             ],
             [
              0.3333333333333333,
              "#9c179e"
             ],
             [
              0.4444444444444444,
              "#bd3786"
             ],
             [
              0.5555555555555556,
              "#d8576b"
             ],
             [
              0.6666666666666666,
              "#ed7953"
             ],
             [
              0.7777777777777778,
              "#fb9f3a"
             ],
             [
              0.8888888888888888,
              "#fdca26"
             ],
             [
              1,
              "#f0f921"
             ]
            ],
            "type": "heatmap"
           }
          ],
          "heatmapgl": [
           {
            "colorbar": {
             "outlinewidth": 0,
             "ticks": ""
            },
            "colorscale": [
             [
              0,
              "#0d0887"
             ],
             [
              0.1111111111111111,
              "#46039f"
             ],
             [
              0.2222222222222222,
              "#7201a8"
             ],
             [
              0.3333333333333333,
              "#9c179e"
             ],
             [
              0.4444444444444444,
              "#bd3786"
             ],
             [
              0.5555555555555556,
              "#d8576b"
             ],
             [
              0.6666666666666666,
              "#ed7953"
             ],
             [
              0.7777777777777778,
              "#fb9f3a"
             ],
             [
              0.8888888888888888,
              "#fdca26"
             ],
             [
              1,
              "#f0f921"
             ]
            ],
            "type": "heatmapgl"
           }
          ],
          "histogram": [
           {
            "marker": {
             "pattern": {
              "fillmode": "overlay",
              "size": 10,
              "solidity": 0.2
             }
            },
            "type": "histogram"
           }
          ],
          "histogram2d": [
           {
            "colorbar": {
             "outlinewidth": 0,
             "ticks": ""
            },
            "colorscale": [
             [
              0,
              "#0d0887"
             ],
             [
              0.1111111111111111,
              "#46039f"
             ],
             [
              0.2222222222222222,
              "#7201a8"
             ],
             [
              0.3333333333333333,
              "#9c179e"
             ],
             [
              0.4444444444444444,
              "#bd3786"
             ],
             [
              0.5555555555555556,
              "#d8576b"
             ],
             [
              0.6666666666666666,
              "#ed7953"
             ],
             [
              0.7777777777777778,
              "#fb9f3a"
             ],
             [
              0.8888888888888888,
              "#fdca26"
             ],
             [
              1,
              "#f0f921"
             ]
            ],
            "type": "histogram2d"
           }
          ],
          "histogram2dcontour": [
           {
            "colorbar": {
             "outlinewidth": 0,
             "ticks": ""
            },
            "colorscale": [
             [
              0,
              "#0d0887"
             ],
             [
              0.1111111111111111,
              "#46039f"
             ],
             [
              0.2222222222222222,
              "#7201a8"
             ],
             [
              0.3333333333333333,
              "#9c179e"
             ],
             [
              0.4444444444444444,
              "#bd3786"
             ],
             [
              0.5555555555555556,
              "#d8576b"
             ],
             [
              0.6666666666666666,
              "#ed7953"
             ],
             [
              0.7777777777777778,
              "#fb9f3a"
             ],
             [
              0.8888888888888888,
              "#fdca26"
             ],
             [
              1,
              "#f0f921"
             ]
            ],
            "type": "histogram2dcontour"
           }
          ],
          "mesh3d": [
           {
            "colorbar": {
             "outlinewidth": 0,
             "ticks": ""
            },
            "type": "mesh3d"
           }
          ],
          "parcoords": [
           {
            "line": {
             "colorbar": {
              "outlinewidth": 0,
              "ticks": ""
             }
            },
            "type": "parcoords"
           }
          ],
          "pie": [
           {
            "automargin": true,
            "type": "pie"
           }
          ],
          "scatter": [
           {
            "fillpattern": {
             "fillmode": "overlay",
             "size": 10,
             "solidity": 0.2
            },
            "type": "scatter"
           }
          ],
          "scatter3d": [
           {
            "line": {
             "colorbar": {
              "outlinewidth": 0,
              "ticks": ""
             }
            },
            "marker": {
             "colorbar": {
              "outlinewidth": 0,
              "ticks": ""
             }
            },
            "type": "scatter3d"
           }
          ],
          "scattercarpet": [
           {
            "marker": {
             "colorbar": {
              "outlinewidth": 0,
              "ticks": ""
             }
            },
            "type": "scattercarpet"
           }
          ],
          "scattergeo": [
           {
            "marker": {
             "colorbar": {
              "outlinewidth": 0,
              "ticks": ""
             }
            },
            "type": "scattergeo"
           }
          ],
          "scattergl": [
           {
            "marker": {
             "colorbar": {
              "outlinewidth": 0,
              "ticks": ""
             }
            },
            "type": "scattergl"
           }
          ],
          "scattermapbox": [
           {
            "marker": {
             "colorbar": {
              "outlinewidth": 0,
              "ticks": ""
             }
            },
            "type": "scattermapbox"
           }
          ],
          "scatterpolar": [
           {
            "marker": {
             "colorbar": {
              "outlinewidth": 0,
              "ticks": ""
             }
            },
            "type": "scatterpolar"
           }
          ],
          "scatterpolargl": [
           {
            "marker": {
             "colorbar": {
              "outlinewidth": 0,
              "ticks": ""
             }
            },
            "type": "scatterpolargl"
           }
          ],
          "scatterternary": [
           {
            "marker": {
             "colorbar": {
              "outlinewidth": 0,
              "ticks": ""
             }
            },
            "type": "scatterternary"
           }
          ],
          "surface": [
           {
            "colorbar": {
             "outlinewidth": 0,
             "ticks": ""
            },
            "colorscale": [
             [
              0,
              "#0d0887"
             ],
             [
              0.1111111111111111,
              "#46039f"
             ],
             [
              0.2222222222222222,
              "#7201a8"
             ],
             [
              0.3333333333333333,
              "#9c179e"
             ],
             [
              0.4444444444444444,
              "#bd3786"
             ],
             [
              0.5555555555555556,
              "#d8576b"
             ],
             [
              0.6666666666666666,
              "#ed7953"
             ],
             [
              0.7777777777777778,
              "#fb9f3a"
             ],
             [
              0.8888888888888888,
              "#fdca26"
             ],
             [
              1,
              "#f0f921"
             ]
            ],
            "type": "surface"
           }
          ],
          "table": [
           {
            "cells": {
             "fill": {
              "color": "#EBF0F8"
             },
             "line": {
              "color": "white"
             }
            },
            "header": {
             "fill": {
              "color": "#C8D4E3"
             },
             "line": {
              "color": "white"
             }
            },
            "type": "table"
           }
          ]
         },
         "layout": {
          "annotationdefaults": {
           "arrowcolor": "#2a3f5f",
           "arrowhead": 0,
           "arrowwidth": 1
          },
          "autotypenumbers": "strict",
          "coloraxis": {
           "colorbar": {
            "outlinewidth": 0,
            "ticks": ""
           }
          },
          "colorscale": {
           "diverging": [
            [
             0,
             "#8e0152"
            ],
            [
             0.1,
             "#c51b7d"
            ],
            [
             0.2,
             "#de77ae"
            ],
            [
             0.3,
             "#f1b6da"
            ],
            [
             0.4,
             "#fde0ef"
            ],
            [
             0.5,
             "#f7f7f7"
            ],
            [
             0.6,
             "#e6f5d0"
            ],
            [
             0.7,
             "#b8e186"
            ],
            [
             0.8,
             "#7fbc41"
            ],
            [
             0.9,
             "#4d9221"
            ],
            [
             1,
             "#276419"
            ]
           ],
           "sequential": [
            [
             0,
             "#0d0887"
            ],
            [
             0.1111111111111111,
             "#46039f"
            ],
            [
             0.2222222222222222,
             "#7201a8"
            ],
            [
             0.3333333333333333,
             "#9c179e"
            ],
            [
             0.4444444444444444,
             "#bd3786"
            ],
            [
             0.5555555555555556,
             "#d8576b"
            ],
            [
             0.6666666666666666,
             "#ed7953"
            ],
            [
             0.7777777777777778,
             "#fb9f3a"
            ],
            [
             0.8888888888888888,
             "#fdca26"
            ],
            [
             1,
             "#f0f921"
            ]
           ],
           "sequentialminus": [
            [
             0,
             "#0d0887"
            ],
            [
             0.1111111111111111,
             "#46039f"
            ],
            [
             0.2222222222222222,
             "#7201a8"
            ],
            [
             0.3333333333333333,
             "#9c179e"
            ],
            [
             0.4444444444444444,
             "#bd3786"
            ],
            [
             0.5555555555555556,
             "#d8576b"
            ],
            [
             0.6666666666666666,
             "#ed7953"
            ],
            [
             0.7777777777777778,
             "#fb9f3a"
            ],
            [
             0.8888888888888888,
             "#fdca26"
            ],
            [
             1,
             "#f0f921"
            ]
           ]
          },
          "colorway": [
           "#636efa",
           "#EF553B",
           "#00cc96",
           "#ab63fa",
           "#FFA15A",
           "#19d3f3",
           "#FF6692",
           "#B6E880",
           "#FF97FF",
           "#FECB52"
          ],
          "font": {
           "color": "#2a3f5f"
          },
          "geo": {
           "bgcolor": "white",
           "lakecolor": "white",
           "landcolor": "white",
           "showlakes": true,
           "showland": true,
           "subunitcolor": "#C8D4E3"
          },
          "hoverlabel": {
           "align": "left"
          },
          "hovermode": "closest",
          "mapbox": {
           "style": "light"
          },
          "paper_bgcolor": "white",
          "plot_bgcolor": "white",
          "polar": {
           "angularaxis": {
            "gridcolor": "#EBF0F8",
            "linecolor": "#EBF0F8",
            "ticks": ""
           },
           "bgcolor": "white",
           "radialaxis": {
            "gridcolor": "#EBF0F8",
            "linecolor": "#EBF0F8",
            "ticks": ""
           }
          },
          "scene": {
           "xaxis": {
            "backgroundcolor": "white",
            "gridcolor": "#DFE8F3",
            "gridwidth": 2,
            "linecolor": "#EBF0F8",
            "showbackground": true,
            "ticks": "",
            "zerolinecolor": "#EBF0F8"
           },
           "yaxis": {
            "backgroundcolor": "white",
            "gridcolor": "#DFE8F3",
            "gridwidth": 2,
            "linecolor": "#EBF0F8",
            "showbackground": true,
            "ticks": "",
            "zerolinecolor": "#EBF0F8"
           },
           "zaxis": {
            "backgroundcolor": "white",
            "gridcolor": "#DFE8F3",
            "gridwidth": 2,
            "linecolor": "#EBF0F8",
            "showbackground": true,
            "ticks": "",
            "zerolinecolor": "#EBF0F8"
           }
          },
          "shapedefaults": {
           "line": {
            "color": "#2a3f5f"
           }
          },
          "ternary": {
           "aaxis": {
            "gridcolor": "#DFE8F3",
            "linecolor": "#A2B1C6",
            "ticks": ""
           },
           "baxis": {
            "gridcolor": "#DFE8F3",
            "linecolor": "#A2B1C6",
            "ticks": ""
           },
           "bgcolor": "white",
           "caxis": {
            "gridcolor": "#DFE8F3",
            "linecolor": "#A2B1C6",
            "ticks": ""
           }
          },
          "title": {
           "x": 0.05
          },
          "xaxis": {
           "automargin": true,
           "gridcolor": "#EBF0F8",
           "linecolor": "#EBF0F8",
           "ticks": "",
           "title": {
            "standoff": 15
           },
           "zerolinecolor": "#EBF0F8",
           "zerolinewidth": 2
          },
          "yaxis": {
           "automargin": true,
           "gridcolor": "#EBF0F8",
           "linecolor": "#EBF0F8",
           "ticks": "",
           "title": {
            "standoff": 15
           },
           "zerolinecolor": "#EBF0F8",
           "zerolinewidth": 2
          }
         }
        },
        "title": {
         "text": "Time Comparison"
        },
        "xaxis": {
         "linewidth": 1.5,
         "showgrid": true,
         "showline": true,
         "showticklabels": true,
         "tickfont": {
          "color": "#000000",
          "family": "Verdana",
          "size": 11
         },
         "ticks": "outside",
         "title": {
          "text": "Iterations"
         }
        },
        "yaxis": {
         "showgrid": true,
         "showline": false,
         "showticklabels": true,
         "tickfont": {
          "color": "#000000",
          "family": "Verdana",
          "size": 11
         },
         "ticks": "outside",
         "title": {
          "text": "Time (ms)"
         },
         "zeroline": false
        }
       }
      }
     },
     "metadata": {},
     "output_type": "display_data"
    }
   ],
   "source": [
    "# seed for reproducibility\n",
    "np.random.seed(0)\n",
    "\n",
    "# Define the range of values\n",
    "mutation = ['swap_mutation', 'random_mutation', 'inversion_mutation']\n",
    "\n",
    "# Print current parameters to use in best_operators_search\n",
    "print('\\033[1mParameters for GA:\\033[0m', end='\\n\\n')\n",
    "print(params, end='\\n\\n')\n",
    "\n",
    "param_list, df = best_operators_search('mut', mutation, params)\n",
    "\n",
    "# Displaying average results of the 100 iterations\n",
    "print('\\033[1mAverage results:', end='\\n')\n",
    "df['const'] = 'const'\n",
    "df_avg = df.groupby('const').mean().reset_index(drop=True).round(3)\n",
    "display(df_avg)\n",
    "\n",
    "# Getting best parameter by fitness & time\n",
    "best_param_fit = df_avg[[col for col in df_avg.columns if col.startswith('Fit_')]].idxmax(axis=1)[0].replace('Fit_', '')\n",
    "best_param_time = df_avg[[col for col in df_avg.columns if col.startswith('Time_')]].idxmin(axis=1)[0].replace('Time_', '')\n",
    "print(f'\\nBest Fitness: \\033[1m{best_param_fit}\\033[0m\\n\\nBest Time: \\033[1m{best_param_time}\\033[0m', end='\\n\\n')\n",
    "\n",
    "# Setting the best parameter as new default value\n",
    "replace_param = {'mut': best_param_time}\n",
    "\n",
    "# Plotting results\n",
    "plot_values(data = df, colors = color_palette[:len(mutation)], layout=2, template='white', grid=True)"
   ]
  },
  {
   "attachments": {},
   "cell_type": "markdown",
   "metadata": {},
   "source": [
    "### __2.2 Crossover Operator__"
   ]
  },
  {
   "cell_type": "code",
   "execution_count": 14,
   "metadata": {},
   "outputs": [
    {
     "name": "stdout",
     "output_type": "stream",
     "text": [
      "\u001b[1mParameters for GA:\u001b[0m\n",
      "\n",
      "{'n': 12, 'pop': 100, 'gen': 50, 'mut_perc': 0.05, 'cross_perc': 0.75, 'mut': 'swap_mutation', 'cross': 'single_cross', 'select': 'tournament_selection'}\n",
      "\n",
      "\u001b[1mAverage results:\n"
     ]
    },
    {
     "data": {
      "text/html": [
       "<div>\n",
       "<style scoped>\n",
       "    .dataframe tbody tr th:only-of-type {\n",
       "        vertical-align: middle;\n",
       "    }\n",
       "\n",
       "    .dataframe tbody tr th {\n",
       "        vertical-align: top;\n",
       "    }\n",
       "\n",
       "    .dataframe thead th {\n",
       "        text-align: right;\n",
       "    }\n",
       "</style>\n",
       "<table border=\"1\" class=\"dataframe\">\n",
       "  <thead>\n",
       "    <tr style=\"text-align: right;\">\n",
       "      <th></th>\n",
       "      <th>Fit_single_cross</th>\n",
       "      <th>Fit_cycle_cross</th>\n",
       "      <th>Fit_pmx</th>\n",
       "      <th>Fit_arithmetic_cross</th>\n",
       "      <th>Time_single_cross</th>\n",
       "      <th>Time_cycle_cross</th>\n",
       "      <th>Time_pmx</th>\n",
       "      <th>Time_arithmetic_cross</th>\n",
       "    </tr>\n",
       "  </thead>\n",
       "  <tbody>\n",
       "    <tr>\n",
       "      <th>0</th>\n",
       "      <td>96.136</td>\n",
       "      <td>96.258</td>\n",
       "      <td>96.212</td>\n",
       "      <td>95.985</td>\n",
       "      <td>9.73</td>\n",
       "      <td>11.94</td>\n",
       "      <td>12.04</td>\n",
       "      <td>14.16</td>\n",
       "    </tr>\n",
       "  </tbody>\n",
       "</table>\n",
       "</div>"
      ],
      "text/plain": [
       "   Fit_single_cross  Fit_cycle_cross  Fit_pmx  Fit_arithmetic_cross   \n",
       "0            96.136           96.258   96.212                95.985  \\\n",
       "\n",
       "   Time_single_cross  Time_cycle_cross  Time_pmx  Time_arithmetic_cross  \n",
       "0               9.73             11.94     12.04                  14.16  "
      ]
     },
     "metadata": {},
     "output_type": "display_data"
    },
    {
     "name": "stdout",
     "output_type": "stream",
     "text": [
      "\n",
      "Best Fitness: \u001b[1mcycle_cross\u001b[0m\n",
      "\n",
      "Best Time: \u001b[1msingle_cross\u001b[0m\n",
      "\n"
     ]
    },
    {
     "data": {
      "application/vnd.plotly.v1+json": {
       "config": {
        "plotlyServerURL": "https://plot.ly"
       },
       "data": [
        {
         "line": {
          "color": "gray",
          "width": 2
         },
         "name": "single_cross",
         "type": "scatter",
         "x": [
          0,
          1,
          2,
          3,
          4,
          5,
          6,
          7,
          8,
          9,
          10,
          11,
          12,
          13,
          14,
          15,
          16,
          17,
          18,
          19,
          20,
          21,
          22,
          23,
          24,
          25,
          26,
          27,
          28,
          29,
          30,
          31,
          32,
          33,
          34,
          35,
          36,
          37,
          38,
          39,
          40,
          41,
          42,
          43,
          44,
          45,
          46,
          47,
          48,
          49,
          50,
          51,
          52,
          53,
          54,
          55,
          56,
          57,
          58,
          59,
          60,
          61,
          62,
          63,
          64,
          65,
          66,
          67,
          68,
          69,
          70,
          71,
          72,
          73,
          74,
          75,
          76,
          77,
          78,
          79,
          80,
          81,
          82,
          83,
          84,
          85,
          86,
          87,
          88,
          89,
          90,
          91,
          92,
          93,
          94,
          95,
          96,
          97,
          98,
          99
         ],
         "y": [
          95.45454545454545,
          95.45454545454545,
          95.45454545454545,
          98.48484848484848,
          95.45454545454545,
          96.96969696969697,
          98.48484848484848,
          95.45454545454545,
          96.96969696969697,
          95.45454545454545,
          95.45454545454545,
          95.45454545454545,
          96.96969696969697,
          95.45454545454545,
          95.45454545454545,
          96.96969696969697,
          95.45454545454545,
          95.45454545454545,
          96.96969696969697,
          95.45454545454545,
          95.45454545454545,
          93.93939393939394,
          95.45454545454545,
          96.96969696969697,
          95.45454545454545,
          95.45454545454545,
          96.96969696969697,
          95.45454545454545,
          96.96969696969697,
          95.45454545454545,
          96.96969696969697,
          96.96969696969697,
          95.45454545454545,
          95.45454545454545,
          96.96969696969697,
          96.96969696969697,
          95.45454545454545,
          95.45454545454545,
          96.96969696969697,
          95.45454545454545,
          98.48484848484848,
          95.45454545454545,
          95.45454545454545,
          95.45454545454545,
          95.45454545454545,
          96.96969696969697,
          96.96969696969697,
          96.96969696969697,
          96.96969696969697,
          95.45454545454545,
          96.96969696969697,
          98.48484848484848,
          96.96969696969697,
          95.45454545454545,
          95.45454545454545,
          96.96969696969697,
          93.93939393939394,
          96.96969696969697,
          95.45454545454545,
          95.45454545454545,
          95.45454545454545,
          96.96969696969697,
          95.45454545454545,
          95.45454545454545,
          96.96969696969697,
          98.48484848484848,
          96.96969696969697,
          95.45454545454545,
          95.45454545454545,
          96.96969696969697,
          96.96969696969697,
          95.45454545454545,
          95.45454545454545,
          95.45454545454545,
          95.45454545454545,
          95.45454545454545,
          95.45454545454545,
          96.96969696969697,
          95.45454545454545,
          95.45454545454545,
          96.96969696969697,
          95.45454545454545,
          95.45454545454545,
          96.96969696969697,
          96.96969696969697,
          95.45454545454545,
          93.93939393939394,
          95.45454545454545,
          96.96969696969697,
          96.96969696969697,
          98.48484848484848,
          95.45454545454545,
          95.45454545454545,
          95.45454545454545,
          95.45454545454545,
          96.96969696969697,
          95.45454545454545,
          96.96969696969697,
          98.48484848484848,
          95.45454545454545
         ]
        },
        {
         "marker": {
          "color": "gray",
          "size": 8
         },
         "mode": "markers",
         "name": "",
         "type": "scatter",
         "x": [
          0,
          99
         ],
         "y": [
          95.45454545454545,
          95.45454545454545
         ]
        },
        {
         "line": {
          "color": "steelblue",
          "width": 2
         },
         "name": "cycle_cross",
         "type": "scatter",
         "x": [
          0,
          1,
          2,
          3,
          4,
          5,
          6,
          7,
          8,
          9,
          10,
          11,
          12,
          13,
          14,
          15,
          16,
          17,
          18,
          19,
          20,
          21,
          22,
          23,
          24,
          25,
          26,
          27,
          28,
          29,
          30,
          31,
          32,
          33,
          34,
          35,
          36,
          37,
          38,
          39,
          40,
          41,
          42,
          43,
          44,
          45,
          46,
          47,
          48,
          49,
          50,
          51,
          52,
          53,
          54,
          55,
          56,
          57,
          58,
          59,
          60,
          61,
          62,
          63,
          64,
          65,
          66,
          67,
          68,
          69,
          70,
          71,
          72,
          73,
          74,
          75,
          76,
          77,
          78,
          79,
          80,
          81,
          82,
          83,
          84,
          85,
          86,
          87,
          88,
          89,
          90,
          91,
          92,
          93,
          94,
          95,
          96,
          97,
          98,
          99
         ],
         "y": [
          95.45454545454545,
          95.45454545454545,
          96.96969696969697,
          96.96969696969697,
          95.45454545454545,
          96.96969696969697,
          96.96969696969697,
          96.96969696969697,
          95.45454545454545,
          95.45454545454545,
          95.45454545454545,
          96.96969696969697,
          95.45454545454545,
          95.45454545454545,
          95.45454545454545,
          95.45454545454545,
          96.96969696969697,
          96.96969696969697,
          96.96969696969697,
          95.45454545454545,
          96.96969696969697,
          95.45454545454545,
          96.96969696969697,
          93.93939393939394,
          96.96969696969697,
          95.45454545454545,
          96.96969696969697,
          96.96969696969697,
          95.45454545454545,
          96.96969696969697,
          96.96969696969697,
          93.93939393939394,
          96.96969696969697,
          95.45454545454545,
          96.96969696969697,
          96.96969696969697,
          96.96969696969697,
          95.45454545454545,
          96.96969696969697,
          95.45454545454545,
          96.96969696969697,
          96.96969696969697,
          96.96969696969697,
          95.45454545454545,
          96.96969696969697,
          95.45454545454545,
          95.45454545454545,
          95.45454545454545,
          96.96969696969697,
          95.45454545454545,
          95.45454545454545,
          96.96969696969697,
          96.96969696969697,
          95.45454545454545,
          95.45454545454545,
          95.45454545454545,
          96.96969696969697,
          95.45454545454545,
          96.96969696969697,
          98.48484848484848,
          96.96969696969697,
          98.48484848484848,
          95.45454545454545,
          95.45454545454545,
          95.45454545454545,
          95.45454545454545,
          95.45454545454545,
          96.96969696969697,
          96.96969696969697,
          95.45454545454545,
          95.45454545454545,
          96.96969696969697,
          96.96969696969697,
          98.48484848484848,
          95.45454545454545,
          95.45454545454545,
          96.96969696969697,
          96.96969696969697,
          96.96969696969697,
          95.45454545454545,
          96.96969696969697,
          96.96969696969697,
          95.45454545454545,
          95.45454545454545,
          95.45454545454545,
          95.45454545454545,
          96.96969696969697,
          96.96969696969697,
          95.45454545454545,
          96.96969696969697,
          96.96969696969697,
          96.96969696969697,
          95.45454545454545,
          96.96969696969697,
          96.96969696969697,
          95.45454545454545,
          98.48484848484848,
          95.45454545454545,
          95.45454545454545,
          95.45454545454545
         ]
        },
        {
         "marker": {
          "color": "steelblue",
          "size": 8
         },
         "mode": "markers",
         "name": "",
         "type": "scatter",
         "x": [
          0,
          99
         ],
         "y": [
          95.45454545454545,
          95.45454545454545
         ]
        },
        {
         "line": {
          "color": "purple",
          "width": 2
         },
         "name": "pmx",
         "type": "scatter",
         "x": [
          0,
          1,
          2,
          3,
          4,
          5,
          6,
          7,
          8,
          9,
          10,
          11,
          12,
          13,
          14,
          15,
          16,
          17,
          18,
          19,
          20,
          21,
          22,
          23,
          24,
          25,
          26,
          27,
          28,
          29,
          30,
          31,
          32,
          33,
          34,
          35,
          36,
          37,
          38,
          39,
          40,
          41,
          42,
          43,
          44,
          45,
          46,
          47,
          48,
          49,
          50,
          51,
          52,
          53,
          54,
          55,
          56,
          57,
          58,
          59,
          60,
          61,
          62,
          63,
          64,
          65,
          66,
          67,
          68,
          69,
          70,
          71,
          72,
          73,
          74,
          75,
          76,
          77,
          78,
          79,
          80,
          81,
          82,
          83,
          84,
          85,
          86,
          87,
          88,
          89,
          90,
          91,
          92,
          93,
          94,
          95,
          96,
          97,
          98,
          99
         ],
         "y": [
          95.45454545454545,
          96.96969696969697,
          96.96969696969697,
          95.45454545454545,
          96.96969696969697,
          96.96969696969697,
          95.45454545454545,
          96.96969696969697,
          96.96969696969697,
          95.45454545454545,
          95.45454545454545,
          95.45454545454545,
          96.96969696969697,
          96.96969696969697,
          96.96969696969697,
          96.96969696969697,
          95.45454545454545,
          96.96969696969697,
          95.45454545454545,
          95.45454545454545,
          96.96969696969697,
          96.96969696969697,
          93.93939393939394,
          96.96969696969697,
          95.45454545454545,
          96.96969696969697,
          95.45454545454545,
          96.96969696969697,
          95.45454545454545,
          96.96969696969697,
          95.45454545454545,
          96.96969696969697,
          96.96969696969697,
          96.96969696969697,
          96.96969696969697,
          96.96969696969697,
          95.45454545454545,
          95.45454545454545,
          93.93939393939394,
          96.96969696969697,
          96.96969696969697,
          96.96969696969697,
          96.96969696969697,
          95.45454545454545,
          95.45454545454545,
          95.45454545454545,
          95.45454545454545,
          96.96969696969697,
          95.45454545454545,
          95.45454545454545,
          96.96969696969697,
          96.96969696969697,
          95.45454545454545,
          95.45454545454545,
          95.45454545454545,
          95.45454545454545,
          95.45454545454545,
          96.96969696969697,
          96.96969696969697,
          95.45454545454545,
          95.45454545454545,
          96.96969696969697,
          95.45454545454545,
          95.45454545454545,
          96.96969696969697,
          96.96969696969697,
          95.45454545454545,
          96.96969696969697,
          96.96969696969697,
          98.48484848484848,
          95.45454545454545,
          95.45454545454545,
          93.93939393939394,
          96.96969696969697,
          96.96969696969697,
          95.45454545454545,
          95.45454545454545,
          96.96969696969697,
          96.96969696969697,
          96.96969696969697,
          96.96969696969697,
          95.45454545454545,
          93.93939393939394,
          93.93939393939394,
          95.45454545454545,
          96.96969696969697,
          95.45454545454545,
          96.96969696969697,
          95.45454545454545,
          96.96969696969697,
          95.45454545454545,
          96.96969696969697,
          98.48484848484848,
          96.96969696969697,
          95.45454545454545,
          98.48484848484848,
          96.96969696969697,
          95.45454545454545,
          95.45454545454545,
          96.96969696969697
         ]
        },
        {
         "marker": {
          "color": "purple",
          "size": 8
         },
         "mode": "markers",
         "name": "",
         "type": "scatter",
         "x": [
          0,
          99
         ],
         "y": [
          95.45454545454545,
          96.96969696969697
         ]
        },
        {
         "line": {
          "color": "darkgray",
          "width": 2
         },
         "name": "arithmetic_cross",
         "type": "scatter",
         "x": [
          0,
          1,
          2,
          3,
          4,
          5,
          6,
          7,
          8,
          9,
          10,
          11,
          12,
          13,
          14,
          15,
          16,
          17,
          18,
          19,
          20,
          21,
          22,
          23,
          24,
          25,
          26,
          27,
          28,
          29,
          30,
          31,
          32,
          33,
          34,
          35,
          36,
          37,
          38,
          39,
          40,
          41,
          42,
          43,
          44,
          45,
          46,
          47,
          48,
          49,
          50,
          51,
          52,
          53,
          54,
          55,
          56,
          57,
          58,
          59,
          60,
          61,
          62,
          63,
          64,
          65,
          66,
          67,
          68,
          69,
          70,
          71,
          72,
          73,
          74,
          75,
          76,
          77,
          78,
          79,
          80,
          81,
          82,
          83,
          84,
          85,
          86,
          87,
          88,
          89,
          90,
          91,
          92,
          93,
          94,
          95,
          96,
          97,
          98,
          99
         ],
         "y": [
          95.45454545454545,
          95.45454545454545,
          96.96969696969697,
          98.48484848484848,
          96.96969696969697,
          93.93939393939394,
          93.93939393939394,
          95.45454545454545,
          96.96969696969697,
          96.96969696969697,
          95.45454545454545,
          98.48484848484848,
          96.96969696969697,
          93.93939393939394,
          95.45454545454545,
          96.96969696969697,
          96.96969696969697,
          95.45454545454545,
          96.96969696969697,
          93.93939393939394,
          95.45454545454545,
          93.93939393939394,
          96.96969696969697,
          96.96969696969697,
          95.45454545454545,
          96.96969696969697,
          93.93939393939394,
          95.45454545454545,
          95.45454545454545,
          95.45454545454545,
          96.96969696969697,
          95.45454545454545,
          96.96969696969697,
          95.45454545454545,
          95.45454545454545,
          95.45454545454545,
          95.45454545454545,
          95.45454545454545,
          95.45454545454545,
          95.45454545454545,
          96.96969696969697,
          95.45454545454545,
          96.96969696969697,
          95.45454545454545,
          95.45454545454545,
          96.96969696969697,
          95.45454545454545,
          96.96969696969697,
          95.45454545454545,
          95.45454545454545,
          95.45454545454545,
          96.96969696969697,
          96.96969696969697,
          98.48484848484848,
          96.96969696969697,
          93.93939393939394,
          95.45454545454545,
          96.96969696969697,
          95.45454545454545,
          95.45454545454545,
          96.96969696969697,
          93.93939393939394,
          96.96969696969697,
          95.45454545454545,
          95.45454545454545,
          96.96969696969697,
          98.48484848484848,
          95.45454545454545,
          95.45454545454545,
          95.45454545454545,
          95.45454545454545,
          100,
          95.45454545454545,
          95.45454545454545,
          96.96969696969697,
          95.45454545454545,
          95.45454545454545,
          95.45454545454545,
          95.45454545454545,
          95.45454545454545,
          95.45454545454545,
          95.45454545454545,
          96.96969696969697,
          95.45454545454545,
          95.45454545454545,
          96.96969696969697,
          95.45454545454545,
          98.48484848484848,
          95.45454545454545,
          96.96969696969697,
          95.45454545454545,
          95.45454545454545,
          95.45454545454545,
          96.96969696969697,
          95.45454545454545,
          95.45454545454545,
          96.96969696969697,
          95.45454545454545,
          95.45454545454545,
          95.45454545454545
         ]
        },
        {
         "marker": {
          "color": "darkgray",
          "size": 8
         },
         "mode": "markers",
         "name": "",
         "type": "scatter",
         "x": [
          0,
          99
         ],
         "y": [
          95.45454545454545,
          95.45454545454545
         ]
        }
       ],
       "layout": {
        "font": {
         "family": "Verdana",
         "size": 14
        },
        "template": {
         "data": {
          "bar": [
           {
            "error_x": {
             "color": "#2a3f5f"
            },
            "error_y": {
             "color": "#2a3f5f"
            },
            "marker": {
             "line": {
              "color": "white",
              "width": 0.5
             },
             "pattern": {
              "fillmode": "overlay",
              "size": 10,
              "solidity": 0.2
             }
            },
            "type": "bar"
           }
          ],
          "barpolar": [
           {
            "marker": {
             "line": {
              "color": "white",
              "width": 0.5
             },
             "pattern": {
              "fillmode": "overlay",
              "size": 10,
              "solidity": 0.2
             }
            },
            "type": "barpolar"
           }
          ],
          "carpet": [
           {
            "aaxis": {
             "endlinecolor": "#2a3f5f",
             "gridcolor": "#C8D4E3",
             "linecolor": "#C8D4E3",
             "minorgridcolor": "#C8D4E3",
             "startlinecolor": "#2a3f5f"
            },
            "baxis": {
             "endlinecolor": "#2a3f5f",
             "gridcolor": "#C8D4E3",
             "linecolor": "#C8D4E3",
             "minorgridcolor": "#C8D4E3",
             "startlinecolor": "#2a3f5f"
            },
            "type": "carpet"
           }
          ],
          "choropleth": [
           {
            "colorbar": {
             "outlinewidth": 0,
             "ticks": ""
            },
            "type": "choropleth"
           }
          ],
          "contour": [
           {
            "colorbar": {
             "outlinewidth": 0,
             "ticks": ""
            },
            "colorscale": [
             [
              0,
              "#0d0887"
             ],
             [
              0.1111111111111111,
              "#46039f"
             ],
             [
              0.2222222222222222,
              "#7201a8"
             ],
             [
              0.3333333333333333,
              "#9c179e"
             ],
             [
              0.4444444444444444,
              "#bd3786"
             ],
             [
              0.5555555555555556,
              "#d8576b"
             ],
             [
              0.6666666666666666,
              "#ed7953"
             ],
             [
              0.7777777777777778,
              "#fb9f3a"
             ],
             [
              0.8888888888888888,
              "#fdca26"
             ],
             [
              1,
              "#f0f921"
             ]
            ],
            "type": "contour"
           }
          ],
          "contourcarpet": [
           {
            "colorbar": {
             "outlinewidth": 0,
             "ticks": ""
            },
            "type": "contourcarpet"
           }
          ],
          "heatmap": [
           {
            "colorbar": {
             "outlinewidth": 0,
             "ticks": ""
            },
            "colorscale": [
             [
              0,
              "#0d0887"
             ],
             [
              0.1111111111111111,
              "#46039f"
             ],
             [
              0.2222222222222222,
              "#7201a8"
             ],
             [
              0.3333333333333333,
              "#9c179e"
             ],
             [
              0.4444444444444444,
              "#bd3786"
             ],
             [
              0.5555555555555556,
              "#d8576b"
             ],
             [
              0.6666666666666666,
              "#ed7953"
             ],
             [
              0.7777777777777778,
              "#fb9f3a"
             ],
             [
              0.8888888888888888,
              "#fdca26"
             ],
             [
              1,
              "#f0f921"
             ]
            ],
            "type": "heatmap"
           }
          ],
          "heatmapgl": [
           {
            "colorbar": {
             "outlinewidth": 0,
             "ticks": ""
            },
            "colorscale": [
             [
              0,
              "#0d0887"
             ],
             [
              0.1111111111111111,
              "#46039f"
             ],
             [
              0.2222222222222222,
              "#7201a8"
             ],
             [
              0.3333333333333333,
              "#9c179e"
             ],
             [
              0.4444444444444444,
              "#bd3786"
             ],
             [
              0.5555555555555556,
              "#d8576b"
             ],
             [
              0.6666666666666666,
              "#ed7953"
             ],
             [
              0.7777777777777778,
              "#fb9f3a"
             ],
             [
              0.8888888888888888,
              "#fdca26"
             ],
             [
              1,
              "#f0f921"
             ]
            ],
            "type": "heatmapgl"
           }
          ],
          "histogram": [
           {
            "marker": {
             "pattern": {
              "fillmode": "overlay",
              "size": 10,
              "solidity": 0.2
             }
            },
            "type": "histogram"
           }
          ],
          "histogram2d": [
           {
            "colorbar": {
             "outlinewidth": 0,
             "ticks": ""
            },
            "colorscale": [
             [
              0,
              "#0d0887"
             ],
             [
              0.1111111111111111,
              "#46039f"
             ],
             [
              0.2222222222222222,
              "#7201a8"
             ],
             [
              0.3333333333333333,
              "#9c179e"
             ],
             [
              0.4444444444444444,
              "#bd3786"
             ],
             [
              0.5555555555555556,
              "#d8576b"
             ],
             [
              0.6666666666666666,
              "#ed7953"
             ],
             [
              0.7777777777777778,
              "#fb9f3a"
             ],
             [
              0.8888888888888888,
              "#fdca26"
             ],
             [
              1,
              "#f0f921"
             ]
            ],
            "type": "histogram2d"
           }
          ],
          "histogram2dcontour": [
           {
            "colorbar": {
             "outlinewidth": 0,
             "ticks": ""
            },
            "colorscale": [
             [
              0,
              "#0d0887"
             ],
             [
              0.1111111111111111,
              "#46039f"
             ],
             [
              0.2222222222222222,
              "#7201a8"
             ],
             [
              0.3333333333333333,
              "#9c179e"
             ],
             [
              0.4444444444444444,
              "#bd3786"
             ],
             [
              0.5555555555555556,
              "#d8576b"
             ],
             [
              0.6666666666666666,
              "#ed7953"
             ],
             [
              0.7777777777777778,
              "#fb9f3a"
             ],
             [
              0.8888888888888888,
              "#fdca26"
             ],
             [
              1,
              "#f0f921"
             ]
            ],
            "type": "histogram2dcontour"
           }
          ],
          "mesh3d": [
           {
            "colorbar": {
             "outlinewidth": 0,
             "ticks": ""
            },
            "type": "mesh3d"
           }
          ],
          "parcoords": [
           {
            "line": {
             "colorbar": {
              "outlinewidth": 0,
              "ticks": ""
             }
            },
            "type": "parcoords"
           }
          ],
          "pie": [
           {
            "automargin": true,
            "type": "pie"
           }
          ],
          "scatter": [
           {
            "fillpattern": {
             "fillmode": "overlay",
             "size": 10,
             "solidity": 0.2
            },
            "type": "scatter"
           }
          ],
          "scatter3d": [
           {
            "line": {
             "colorbar": {
              "outlinewidth": 0,
              "ticks": ""
             }
            },
            "marker": {
             "colorbar": {
              "outlinewidth": 0,
              "ticks": ""
             }
            },
            "type": "scatter3d"
           }
          ],
          "scattercarpet": [
           {
            "marker": {
             "colorbar": {
              "outlinewidth": 0,
              "ticks": ""
             }
            },
            "type": "scattercarpet"
           }
          ],
          "scattergeo": [
           {
            "marker": {
             "colorbar": {
              "outlinewidth": 0,
              "ticks": ""
             }
            },
            "type": "scattergeo"
           }
          ],
          "scattergl": [
           {
            "marker": {
             "colorbar": {
              "outlinewidth": 0,
              "ticks": ""
             }
            },
            "type": "scattergl"
           }
          ],
          "scattermapbox": [
           {
            "marker": {
             "colorbar": {
              "outlinewidth": 0,
              "ticks": ""
             }
            },
            "type": "scattermapbox"
           }
          ],
          "scatterpolar": [
           {
            "marker": {
             "colorbar": {
              "outlinewidth": 0,
              "ticks": ""
             }
            },
            "type": "scatterpolar"
           }
          ],
          "scatterpolargl": [
           {
            "marker": {
             "colorbar": {
              "outlinewidth": 0,
              "ticks": ""
             }
            },
            "type": "scatterpolargl"
           }
          ],
          "scatterternary": [
           {
            "marker": {
             "colorbar": {
              "outlinewidth": 0,
              "ticks": ""
             }
            },
            "type": "scatterternary"
           }
          ],
          "surface": [
           {
            "colorbar": {
             "outlinewidth": 0,
             "ticks": ""
            },
            "colorscale": [
             [
              0,
              "#0d0887"
             ],
             [
              0.1111111111111111,
              "#46039f"
             ],
             [
              0.2222222222222222,
              "#7201a8"
             ],
             [
              0.3333333333333333,
              "#9c179e"
             ],
             [
              0.4444444444444444,
              "#bd3786"
             ],
             [
              0.5555555555555556,
              "#d8576b"
             ],
             [
              0.6666666666666666,
              "#ed7953"
             ],
             [
              0.7777777777777778,
              "#fb9f3a"
             ],
             [
              0.8888888888888888,
              "#fdca26"
             ],
             [
              1,
              "#f0f921"
             ]
            ],
            "type": "surface"
           }
          ],
          "table": [
           {
            "cells": {
             "fill": {
              "color": "#EBF0F8"
             },
             "line": {
              "color": "white"
             }
            },
            "header": {
             "fill": {
              "color": "#C8D4E3"
             },
             "line": {
              "color": "white"
             }
            },
            "type": "table"
           }
          ]
         },
         "layout": {
          "annotationdefaults": {
           "arrowcolor": "#2a3f5f",
           "arrowhead": 0,
           "arrowwidth": 1
          },
          "autotypenumbers": "strict",
          "coloraxis": {
           "colorbar": {
            "outlinewidth": 0,
            "ticks": ""
           }
          },
          "colorscale": {
           "diverging": [
            [
             0,
             "#8e0152"
            ],
            [
             0.1,
             "#c51b7d"
            ],
            [
             0.2,
             "#de77ae"
            ],
            [
             0.3,
             "#f1b6da"
            ],
            [
             0.4,
             "#fde0ef"
            ],
            [
             0.5,
             "#f7f7f7"
            ],
            [
             0.6,
             "#e6f5d0"
            ],
            [
             0.7,
             "#b8e186"
            ],
            [
             0.8,
             "#7fbc41"
            ],
            [
             0.9,
             "#4d9221"
            ],
            [
             1,
             "#276419"
            ]
           ],
           "sequential": [
            [
             0,
             "#0d0887"
            ],
            [
             0.1111111111111111,
             "#46039f"
            ],
            [
             0.2222222222222222,
             "#7201a8"
            ],
            [
             0.3333333333333333,
             "#9c179e"
            ],
            [
             0.4444444444444444,
             "#bd3786"
            ],
            [
             0.5555555555555556,
             "#d8576b"
            ],
            [
             0.6666666666666666,
             "#ed7953"
            ],
            [
             0.7777777777777778,
             "#fb9f3a"
            ],
            [
             0.8888888888888888,
             "#fdca26"
            ],
            [
             1,
             "#f0f921"
            ]
           ],
           "sequentialminus": [
            [
             0,
             "#0d0887"
            ],
            [
             0.1111111111111111,
             "#46039f"
            ],
            [
             0.2222222222222222,
             "#7201a8"
            ],
            [
             0.3333333333333333,
             "#9c179e"
            ],
            [
             0.4444444444444444,
             "#bd3786"
            ],
            [
             0.5555555555555556,
             "#d8576b"
            ],
            [
             0.6666666666666666,
             "#ed7953"
            ],
            [
             0.7777777777777778,
             "#fb9f3a"
            ],
            [
             0.8888888888888888,
             "#fdca26"
            ],
            [
             1,
             "#f0f921"
            ]
           ]
          },
          "colorway": [
           "#636efa",
           "#EF553B",
           "#00cc96",
           "#ab63fa",
           "#FFA15A",
           "#19d3f3",
           "#FF6692",
           "#B6E880",
           "#FF97FF",
           "#FECB52"
          ],
          "font": {
           "color": "#2a3f5f"
          },
          "geo": {
           "bgcolor": "white",
           "lakecolor": "white",
           "landcolor": "white",
           "showlakes": true,
           "showland": true,
           "subunitcolor": "#C8D4E3"
          },
          "hoverlabel": {
           "align": "left"
          },
          "hovermode": "closest",
          "mapbox": {
           "style": "light"
          },
          "paper_bgcolor": "white",
          "plot_bgcolor": "white",
          "polar": {
           "angularaxis": {
            "gridcolor": "#EBF0F8",
            "linecolor": "#EBF0F8",
            "ticks": ""
           },
           "bgcolor": "white",
           "radialaxis": {
            "gridcolor": "#EBF0F8",
            "linecolor": "#EBF0F8",
            "ticks": ""
           }
          },
          "scene": {
           "xaxis": {
            "backgroundcolor": "white",
            "gridcolor": "#DFE8F3",
            "gridwidth": 2,
            "linecolor": "#EBF0F8",
            "showbackground": true,
            "ticks": "",
            "zerolinecolor": "#EBF0F8"
           },
           "yaxis": {
            "backgroundcolor": "white",
            "gridcolor": "#DFE8F3",
            "gridwidth": 2,
            "linecolor": "#EBF0F8",
            "showbackground": true,
            "ticks": "",
            "zerolinecolor": "#EBF0F8"
           },
           "zaxis": {
            "backgroundcolor": "white",
            "gridcolor": "#DFE8F3",
            "gridwidth": 2,
            "linecolor": "#EBF0F8",
            "showbackground": true,
            "ticks": "",
            "zerolinecolor": "#EBF0F8"
           }
          },
          "shapedefaults": {
           "line": {
            "color": "#2a3f5f"
           }
          },
          "ternary": {
           "aaxis": {
            "gridcolor": "#DFE8F3",
            "linecolor": "#A2B1C6",
            "ticks": ""
           },
           "baxis": {
            "gridcolor": "#DFE8F3",
            "linecolor": "#A2B1C6",
            "ticks": ""
           },
           "bgcolor": "white",
           "caxis": {
            "gridcolor": "#DFE8F3",
            "linecolor": "#A2B1C6",
            "ticks": ""
           }
          },
          "title": {
           "x": 0.05
          },
          "xaxis": {
           "automargin": true,
           "gridcolor": "#EBF0F8",
           "linecolor": "#EBF0F8",
           "ticks": "",
           "title": {
            "standoff": 15
           },
           "zerolinecolor": "#EBF0F8",
           "zerolinewidth": 2
          },
          "yaxis": {
           "automargin": true,
           "gridcolor": "#EBF0F8",
           "linecolor": "#EBF0F8",
           "ticks": "",
           "title": {
            "standoff": 15
           },
           "zerolinecolor": "#EBF0F8",
           "zerolinewidth": 2
          }
         }
        },
        "title": {
         "text": "Fitness Comparison"
        },
        "xaxis": {
         "linewidth": 1.5,
         "showgrid": true,
         "showline": true,
         "showticklabels": true,
         "tickfont": {
          "color": "#000000",
          "family": "Verdana",
          "size": 11
         },
         "ticks": "outside",
         "title": {
          "text": "Iterations"
         }
        },
        "yaxis": {
         "showgrid": true,
         "showline": false,
         "showticklabels": true,
         "tickfont": {
          "color": "#000000",
          "family": "Verdana",
          "size": 11
         },
         "ticks": "outside",
         "title": {
          "text": "Fitness"
         },
         "zeroline": false
        }
       }
      }
     },
     "metadata": {},
     "output_type": "display_data"
    },
    {
     "data": {
      "application/vnd.plotly.v1+json": {
       "config": {
        "plotlyServerURL": "https://plot.ly"
       },
       "data": [
        {
         "line": {
          "color": "gray",
          "width": 2
         },
         "name": "single_cross",
         "type": "scatter",
         "x": [
          0,
          1,
          2,
          3,
          4,
          5,
          6,
          7,
          8,
          9,
          10,
          11,
          12,
          13,
          14,
          15,
          16,
          17,
          18,
          19,
          20,
          21,
          22,
          23,
          24,
          25,
          26,
          27,
          28,
          29,
          30,
          31,
          32,
          33,
          34,
          35,
          36,
          37,
          38,
          39,
          40,
          41,
          42,
          43,
          44,
          45,
          46,
          47,
          48,
          49,
          50,
          51,
          52,
          53,
          54,
          55,
          56,
          57,
          58,
          59,
          60,
          61,
          62,
          63,
          64,
          65,
          66,
          67,
          68,
          69,
          70,
          71,
          72,
          73,
          74,
          75,
          76,
          77,
          78,
          79,
          80,
          81,
          82,
          83,
          84,
          85,
          86,
          87,
          88,
          89,
          90,
          91,
          92,
          93,
          94,
          95,
          96,
          97,
          98,
          99
         ],
         "y": [
          9,
          10,
          10,
          9,
          10,
          9,
          10,
          10,
          10,
          10,
          10,
          10,
          10,
          10,
          10,
          10,
          9,
          10,
          10,
          10,
          10,
          9,
          10,
          10,
          10,
          10,
          10,
          9,
          10,
          9,
          10,
          10,
          9,
          9,
          10,
          10,
          9,
          9,
          10,
          10,
          10,
          10,
          10,
          10,
          10,
          10,
          9,
          10,
          10,
          10,
          10,
          9,
          10,
          10,
          9,
          10,
          9,
          10,
          10,
          10,
          9,
          10,
          10,
          10,
          10,
          10,
          10,
          10,
          10,
          10,
          10,
          9,
          9,
          9,
          10,
          10,
          10,
          10,
          9,
          10,
          10,
          9,
          10,
          9,
          9,
          9,
          9,
          10,
          10,
          10,
          10,
          10,
          9,
          10,
          10,
          10,
          9,
          10,
          10,
          10
         ]
        },
        {
         "marker": {
          "color": "gray",
          "size": 8
         },
         "mode": "markers",
         "name": "",
         "type": "scatter",
         "x": [
          0,
          99
         ],
         "y": [
          9,
          10
         ]
        },
        {
         "line": {
          "color": "steelblue",
          "width": 2
         },
         "name": "cycle_cross",
         "type": "scatter",
         "x": [
          0,
          1,
          2,
          3,
          4,
          5,
          6,
          7,
          8,
          9,
          10,
          11,
          12,
          13,
          14,
          15,
          16,
          17,
          18,
          19,
          20,
          21,
          22,
          23,
          24,
          25,
          26,
          27,
          28,
          29,
          30,
          31,
          32,
          33,
          34,
          35,
          36,
          37,
          38,
          39,
          40,
          41,
          42,
          43,
          44,
          45,
          46,
          47,
          48,
          49,
          50,
          51,
          52,
          53,
          54,
          55,
          56,
          57,
          58,
          59,
          60,
          61,
          62,
          63,
          64,
          65,
          66,
          67,
          68,
          69,
          70,
          71,
          72,
          73,
          74,
          75,
          76,
          77,
          78,
          79,
          80,
          81,
          82,
          83,
          84,
          85,
          86,
          87,
          88,
          89,
          90,
          91,
          92,
          93,
          94,
          95,
          96,
          97,
          98,
          99
         ],
         "y": [
          12,
          12,
          12,
          12,
          12,
          12,
          12,
          12,
          12,
          12,
          12,
          12,
          12,
          13,
          13,
          17,
          12,
          11,
          12,
          12,
          12,
          12,
          12,
          11,
          13,
          12,
          13,
          14,
          13,
          13,
          12,
          11,
          12,
          12,
          12,
          12,
          12,
          11,
          12,
          12,
          12,
          12,
          12,
          12,
          12,
          12,
          12,
          12,
          13,
          12,
          12,
          11,
          12,
          12,
          12,
          12,
          11,
          11,
          11,
          12,
          12,
          12,
          11,
          12,
          12,
          12,
          11,
          12,
          12,
          12,
          12,
          11,
          11,
          12,
          12,
          11,
          12,
          11,
          12,
          12,
          12,
          11,
          11,
          12,
          12,
          12,
          12,
          12,
          12,
          11,
          12,
          12,
          12,
          12,
          11,
          11,
          12,
          12,
          12,
          11
         ]
        },
        {
         "marker": {
          "color": "steelblue",
          "size": 8
         },
         "mode": "markers",
         "name": "",
         "type": "scatter",
         "x": [
          0,
          99
         ],
         "y": [
          12,
          11
         ]
        },
        {
         "line": {
          "color": "purple",
          "width": 2
         },
         "name": "pmx",
         "type": "scatter",
         "x": [
          0,
          1,
          2,
          3,
          4,
          5,
          6,
          7,
          8,
          9,
          10,
          11,
          12,
          13,
          14,
          15,
          16,
          17,
          18,
          19,
          20,
          21,
          22,
          23,
          24,
          25,
          26,
          27,
          28,
          29,
          30,
          31,
          32,
          33,
          34,
          35,
          36,
          37,
          38,
          39,
          40,
          41,
          42,
          43,
          44,
          45,
          46,
          47,
          48,
          49,
          50,
          51,
          52,
          53,
          54,
          55,
          56,
          57,
          58,
          59,
          60,
          61,
          62,
          63,
          64,
          65,
          66,
          67,
          68,
          69,
          70,
          71,
          72,
          73,
          74,
          75,
          76,
          77,
          78,
          79,
          80,
          81,
          82,
          83,
          84,
          85,
          86,
          87,
          88,
          89,
          90,
          91,
          92,
          93,
          94,
          95,
          96,
          97,
          98,
          99
         ],
         "y": [
          12,
          12,
          12,
          12,
          12,
          13,
          12,
          12,
          12,
          12,
          13,
          12,
          12,
          12,
          13,
          13,
          12,
          12,
          12,
          12,
          12,
          12,
          12,
          12,
          12,
          12,
          12,
          12,
          12,
          12,
          12,
          12,
          12,
          12,
          12,
          13,
          12,
          12,
          12,
          12,
          12,
          12,
          12,
          12,
          12,
          12,
          12,
          12,
          12,
          12,
          12,
          12,
          12,
          12,
          12,
          12,
          12,
          12,
          12,
          12,
          11,
          12,
          12,
          12,
          12,
          12,
          12,
          12,
          12,
          12,
          12,
          12,
          12,
          13,
          12,
          12,
          12,
          12,
          12,
          12,
          12,
          12,
          12,
          11,
          12,
          12,
          12,
          12,
          12,
          12,
          12,
          12,
          12,
          12,
          12,
          12,
          12,
          12,
          12,
          12
         ]
        },
        {
         "marker": {
          "color": "purple",
          "size": 8
         },
         "mode": "markers",
         "name": "",
         "type": "scatter",
         "x": [
          0,
          99
         ],
         "y": [
          12,
          12
         ]
        },
        {
         "line": {
          "color": "darkgray",
          "width": 2
         },
         "name": "arithmetic_cross",
         "type": "scatter",
         "x": [
          0,
          1,
          2,
          3,
          4,
          5,
          6,
          7,
          8,
          9,
          10,
          11,
          12,
          13,
          14,
          15,
          16,
          17,
          18,
          19,
          20,
          21,
          22,
          23,
          24,
          25,
          26,
          27,
          28,
          29,
          30,
          31,
          32,
          33,
          34,
          35,
          36,
          37,
          38,
          39,
          40,
          41,
          42,
          43,
          44,
          45,
          46,
          47,
          48,
          49,
          50,
          51,
          52,
          53,
          54,
          55,
          56,
          57,
          58,
          59,
          60,
          61,
          62,
          63,
          64,
          65,
          66,
          67,
          68,
          69,
          70,
          71,
          72,
          73,
          74,
          75,
          76,
          77,
          78,
          79,
          80,
          81,
          82,
          83,
          84,
          85,
          86,
          87,
          88,
          89,
          90,
          91,
          92,
          93,
          94,
          95,
          96,
          97,
          98,
          99
         ],
         "y": [
          14,
          14,
          14,
          14,
          15,
          14,
          14,
          14,
          14,
          14,
          15,
          14,
          14,
          14,
          14,
          15,
          14,
          14,
          14,
          14,
          14,
          14,
          14,
          14,
          14,
          15,
          14,
          15,
          14,
          14,
          14,
          14,
          15,
          14,
          14,
          14,
          14,
          14,
          14,
          14,
          14,
          14,
          14,
          14,
          14,
          14,
          14,
          16,
          14,
          15,
          14,
          15,
          14,
          14,
          14,
          14,
          14,
          14,
          14,
          14,
          14,
          14,
          14,
          15,
          14,
          14,
          14,
          14,
          14,
          14,
          14,
          14,
          14,
          14,
          14,
          15,
          14,
          15,
          14,
          14,
          14,
          15,
          14,
          14,
          14,
          14,
          14,
          14,
          14,
          14,
          14,
          14,
          15,
          14,
          14,
          14,
          15,
          14,
          14,
          14
         ]
        },
        {
         "marker": {
          "color": "darkgray",
          "size": 8
         },
         "mode": "markers",
         "name": "",
         "type": "scatter",
         "x": [
          0,
          99
         ],
         "y": [
          14,
          14
         ]
        }
       ],
       "layout": {
        "font": {
         "family": "Verdana",
         "size": 14
        },
        "template": {
         "data": {
          "bar": [
           {
            "error_x": {
             "color": "#2a3f5f"
            },
            "error_y": {
             "color": "#2a3f5f"
            },
            "marker": {
             "line": {
              "color": "white",
              "width": 0.5
             },
             "pattern": {
              "fillmode": "overlay",
              "size": 10,
              "solidity": 0.2
             }
            },
            "type": "bar"
           }
          ],
          "barpolar": [
           {
            "marker": {
             "line": {
              "color": "white",
              "width": 0.5
             },
             "pattern": {
              "fillmode": "overlay",
              "size": 10,
              "solidity": 0.2
             }
            },
            "type": "barpolar"
           }
          ],
          "carpet": [
           {
            "aaxis": {
             "endlinecolor": "#2a3f5f",
             "gridcolor": "#C8D4E3",
             "linecolor": "#C8D4E3",
             "minorgridcolor": "#C8D4E3",
             "startlinecolor": "#2a3f5f"
            },
            "baxis": {
             "endlinecolor": "#2a3f5f",
             "gridcolor": "#C8D4E3",
             "linecolor": "#C8D4E3",
             "minorgridcolor": "#C8D4E3",
             "startlinecolor": "#2a3f5f"
            },
            "type": "carpet"
           }
          ],
          "choropleth": [
           {
            "colorbar": {
             "outlinewidth": 0,
             "ticks": ""
            },
            "type": "choropleth"
           }
          ],
          "contour": [
           {
            "colorbar": {
             "outlinewidth": 0,
             "ticks": ""
            },
            "colorscale": [
             [
              0,
              "#0d0887"
             ],
             [
              0.1111111111111111,
              "#46039f"
             ],
             [
              0.2222222222222222,
              "#7201a8"
             ],
             [
              0.3333333333333333,
              "#9c179e"
             ],
             [
              0.4444444444444444,
              "#bd3786"
             ],
             [
              0.5555555555555556,
              "#d8576b"
             ],
             [
              0.6666666666666666,
              "#ed7953"
             ],
             [
              0.7777777777777778,
              "#fb9f3a"
             ],
             [
              0.8888888888888888,
              "#fdca26"
             ],
             [
              1,
              "#f0f921"
             ]
            ],
            "type": "contour"
           }
          ],
          "contourcarpet": [
           {
            "colorbar": {
             "outlinewidth": 0,
             "ticks": ""
            },
            "type": "contourcarpet"
           }
          ],
          "heatmap": [
           {
            "colorbar": {
             "outlinewidth": 0,
             "ticks": ""
            },
            "colorscale": [
             [
              0,
              "#0d0887"
             ],
             [
              0.1111111111111111,
              "#46039f"
             ],
             [
              0.2222222222222222,
              "#7201a8"
             ],
             [
              0.3333333333333333,
              "#9c179e"
             ],
             [
              0.4444444444444444,
              "#bd3786"
             ],
             [
              0.5555555555555556,
              "#d8576b"
             ],
             [
              0.6666666666666666,
              "#ed7953"
             ],
             [
              0.7777777777777778,
              "#fb9f3a"
             ],
             [
              0.8888888888888888,
              "#fdca26"
             ],
             [
              1,
              "#f0f921"
             ]
            ],
            "type": "heatmap"
           }
          ],
          "heatmapgl": [
           {
            "colorbar": {
             "outlinewidth": 0,
             "ticks": ""
            },
            "colorscale": [
             [
              0,
              "#0d0887"
             ],
             [
              0.1111111111111111,
              "#46039f"
             ],
             [
              0.2222222222222222,
              "#7201a8"
             ],
             [
              0.3333333333333333,
              "#9c179e"
             ],
             [
              0.4444444444444444,
              "#bd3786"
             ],
             [
              0.5555555555555556,
              "#d8576b"
             ],
             [
              0.6666666666666666,
              "#ed7953"
             ],
             [
              0.7777777777777778,
              "#fb9f3a"
             ],
             [
              0.8888888888888888,
              "#fdca26"
             ],
             [
              1,
              "#f0f921"
             ]
            ],
            "type": "heatmapgl"
           }
          ],
          "histogram": [
           {
            "marker": {
             "pattern": {
              "fillmode": "overlay",
              "size": 10,
              "solidity": 0.2
             }
            },
            "type": "histogram"
           }
          ],
          "histogram2d": [
           {
            "colorbar": {
             "outlinewidth": 0,
             "ticks": ""
            },
            "colorscale": [
             [
              0,
              "#0d0887"
             ],
             [
              0.1111111111111111,
              "#46039f"
             ],
             [
              0.2222222222222222,
              "#7201a8"
             ],
             [
              0.3333333333333333,
              "#9c179e"
             ],
             [
              0.4444444444444444,
              "#bd3786"
             ],
             [
              0.5555555555555556,
              "#d8576b"
             ],
             [
              0.6666666666666666,
              "#ed7953"
             ],
             [
              0.7777777777777778,
              "#fb9f3a"
             ],
             [
              0.8888888888888888,
              "#fdca26"
             ],
             [
              1,
              "#f0f921"
             ]
            ],
            "type": "histogram2d"
           }
          ],
          "histogram2dcontour": [
           {
            "colorbar": {
             "outlinewidth": 0,
             "ticks": ""
            },
            "colorscale": [
             [
              0,
              "#0d0887"
             ],
             [
              0.1111111111111111,
              "#46039f"
             ],
             [
              0.2222222222222222,
              "#7201a8"
             ],
             [
              0.3333333333333333,
              "#9c179e"
             ],
             [
              0.4444444444444444,
              "#bd3786"
             ],
             [
              0.5555555555555556,
              "#d8576b"
             ],
             [
              0.6666666666666666,
              "#ed7953"
             ],
             [
              0.7777777777777778,
              "#fb9f3a"
             ],
             [
              0.8888888888888888,
              "#fdca26"
             ],
             [
              1,
              "#f0f921"
             ]
            ],
            "type": "histogram2dcontour"
           }
          ],
          "mesh3d": [
           {
            "colorbar": {
             "outlinewidth": 0,
             "ticks": ""
            },
            "type": "mesh3d"
           }
          ],
          "parcoords": [
           {
            "line": {
             "colorbar": {
              "outlinewidth": 0,
              "ticks": ""
             }
            },
            "type": "parcoords"
           }
          ],
          "pie": [
           {
            "automargin": true,
            "type": "pie"
           }
          ],
          "scatter": [
           {
            "fillpattern": {
             "fillmode": "overlay",
             "size": 10,
             "solidity": 0.2
            },
            "type": "scatter"
           }
          ],
          "scatter3d": [
           {
            "line": {
             "colorbar": {
              "outlinewidth": 0,
              "ticks": ""
             }
            },
            "marker": {
             "colorbar": {
              "outlinewidth": 0,
              "ticks": ""
             }
            },
            "type": "scatter3d"
           }
          ],
          "scattercarpet": [
           {
            "marker": {
             "colorbar": {
              "outlinewidth": 0,
              "ticks": ""
             }
            },
            "type": "scattercarpet"
           }
          ],
          "scattergeo": [
           {
            "marker": {
             "colorbar": {
              "outlinewidth": 0,
              "ticks": ""
             }
            },
            "type": "scattergeo"
           }
          ],
          "scattergl": [
           {
            "marker": {
             "colorbar": {
              "outlinewidth": 0,
              "ticks": ""
             }
            },
            "type": "scattergl"
           }
          ],
          "scattermapbox": [
           {
            "marker": {
             "colorbar": {
              "outlinewidth": 0,
              "ticks": ""
             }
            },
            "type": "scattermapbox"
           }
          ],
          "scatterpolar": [
           {
            "marker": {
             "colorbar": {
              "outlinewidth": 0,
              "ticks": ""
             }
            },
            "type": "scatterpolar"
           }
          ],
          "scatterpolargl": [
           {
            "marker": {
             "colorbar": {
              "outlinewidth": 0,
              "ticks": ""
             }
            },
            "type": "scatterpolargl"
           }
          ],
          "scatterternary": [
           {
            "marker": {
             "colorbar": {
              "outlinewidth": 0,
              "ticks": ""
             }
            },
            "type": "scatterternary"
           }
          ],
          "surface": [
           {
            "colorbar": {
             "outlinewidth": 0,
             "ticks": ""
            },
            "colorscale": [
             [
              0,
              "#0d0887"
             ],
             [
              0.1111111111111111,
              "#46039f"
             ],
             [
              0.2222222222222222,
              "#7201a8"
             ],
             [
              0.3333333333333333,
              "#9c179e"
             ],
             [
              0.4444444444444444,
              "#bd3786"
             ],
             [
              0.5555555555555556,
              "#d8576b"
             ],
             [
              0.6666666666666666,
              "#ed7953"
             ],
             [
              0.7777777777777778,
              "#fb9f3a"
             ],
             [
              0.8888888888888888,
              "#fdca26"
             ],
             [
              1,
              "#f0f921"
             ]
            ],
            "type": "surface"
           }
          ],
          "table": [
           {
            "cells": {
             "fill": {
              "color": "#EBF0F8"
             },
             "line": {
              "color": "white"
             }
            },
            "header": {
             "fill": {
              "color": "#C8D4E3"
             },
             "line": {
              "color": "white"
             }
            },
            "type": "table"
           }
          ]
         },
         "layout": {
          "annotationdefaults": {
           "arrowcolor": "#2a3f5f",
           "arrowhead": 0,
           "arrowwidth": 1
          },
          "autotypenumbers": "strict",
          "coloraxis": {
           "colorbar": {
            "outlinewidth": 0,
            "ticks": ""
           }
          },
          "colorscale": {
           "diverging": [
            [
             0,
             "#8e0152"
            ],
            [
             0.1,
             "#c51b7d"
            ],
            [
             0.2,
             "#de77ae"
            ],
            [
             0.3,
             "#f1b6da"
            ],
            [
             0.4,
             "#fde0ef"
            ],
            [
             0.5,
             "#f7f7f7"
            ],
            [
             0.6,
             "#e6f5d0"
            ],
            [
             0.7,
             "#b8e186"
            ],
            [
             0.8,
             "#7fbc41"
            ],
            [
             0.9,
             "#4d9221"
            ],
            [
             1,
             "#276419"
            ]
           ],
           "sequential": [
            [
             0,
             "#0d0887"
            ],
            [
             0.1111111111111111,
             "#46039f"
            ],
            [
             0.2222222222222222,
             "#7201a8"
            ],
            [
             0.3333333333333333,
             "#9c179e"
            ],
            [
             0.4444444444444444,
             "#bd3786"
            ],
            [
             0.5555555555555556,
             "#d8576b"
            ],
            [
             0.6666666666666666,
             "#ed7953"
            ],
            [
             0.7777777777777778,
             "#fb9f3a"
            ],
            [
             0.8888888888888888,
             "#fdca26"
            ],
            [
             1,
             "#f0f921"
            ]
           ],
           "sequentialminus": [
            [
             0,
             "#0d0887"
            ],
            [
             0.1111111111111111,
             "#46039f"
            ],
            [
             0.2222222222222222,
             "#7201a8"
            ],
            [
             0.3333333333333333,
             "#9c179e"
            ],
            [
             0.4444444444444444,
             "#bd3786"
            ],
            [
             0.5555555555555556,
             "#d8576b"
            ],
            [
             0.6666666666666666,
             "#ed7953"
            ],
            [
             0.7777777777777778,
             "#fb9f3a"
            ],
            [
             0.8888888888888888,
             "#fdca26"
            ],
            [
             1,
             "#f0f921"
            ]
           ]
          },
          "colorway": [
           "#636efa",
           "#EF553B",
           "#00cc96",
           "#ab63fa",
           "#FFA15A",
           "#19d3f3",
           "#FF6692",
           "#B6E880",
           "#FF97FF",
           "#FECB52"
          ],
          "font": {
           "color": "#2a3f5f"
          },
          "geo": {
           "bgcolor": "white",
           "lakecolor": "white",
           "landcolor": "white",
           "showlakes": true,
           "showland": true,
           "subunitcolor": "#C8D4E3"
          },
          "hoverlabel": {
           "align": "left"
          },
          "hovermode": "closest",
          "mapbox": {
           "style": "light"
          },
          "paper_bgcolor": "white",
          "plot_bgcolor": "white",
          "polar": {
           "angularaxis": {
            "gridcolor": "#EBF0F8",
            "linecolor": "#EBF0F8",
            "ticks": ""
           },
           "bgcolor": "white",
           "radialaxis": {
            "gridcolor": "#EBF0F8",
            "linecolor": "#EBF0F8",
            "ticks": ""
           }
          },
          "scene": {
           "xaxis": {
            "backgroundcolor": "white",
            "gridcolor": "#DFE8F3",
            "gridwidth": 2,
            "linecolor": "#EBF0F8",
            "showbackground": true,
            "ticks": "",
            "zerolinecolor": "#EBF0F8"
           },
           "yaxis": {
            "backgroundcolor": "white",
            "gridcolor": "#DFE8F3",
            "gridwidth": 2,
            "linecolor": "#EBF0F8",
            "showbackground": true,
            "ticks": "",
            "zerolinecolor": "#EBF0F8"
           },
           "zaxis": {
            "backgroundcolor": "white",
            "gridcolor": "#DFE8F3",
            "gridwidth": 2,
            "linecolor": "#EBF0F8",
            "showbackground": true,
            "ticks": "",
            "zerolinecolor": "#EBF0F8"
           }
          },
          "shapedefaults": {
           "line": {
            "color": "#2a3f5f"
           }
          },
          "ternary": {
           "aaxis": {
            "gridcolor": "#DFE8F3",
            "linecolor": "#A2B1C6",
            "ticks": ""
           },
           "baxis": {
            "gridcolor": "#DFE8F3",
            "linecolor": "#A2B1C6",
            "ticks": ""
           },
           "bgcolor": "white",
           "caxis": {
            "gridcolor": "#DFE8F3",
            "linecolor": "#A2B1C6",
            "ticks": ""
           }
          },
          "title": {
           "x": 0.05
          },
          "xaxis": {
           "automargin": true,
           "gridcolor": "#EBF0F8",
           "linecolor": "#EBF0F8",
           "ticks": "",
           "title": {
            "standoff": 15
           },
           "zerolinecolor": "#EBF0F8",
           "zerolinewidth": 2
          },
          "yaxis": {
           "automargin": true,
           "gridcolor": "#EBF0F8",
           "linecolor": "#EBF0F8",
           "ticks": "",
           "title": {
            "standoff": 15
           },
           "zerolinecolor": "#EBF0F8",
           "zerolinewidth": 2
          }
         }
        },
        "title": {
         "text": "Time Comparison"
        },
        "xaxis": {
         "linewidth": 1.5,
         "showgrid": true,
         "showline": true,
         "showticklabels": true,
         "tickfont": {
          "color": "#000000",
          "family": "Verdana",
          "size": 11
         },
         "ticks": "outside",
         "title": {
          "text": "Iterations"
         }
        },
        "yaxis": {
         "showgrid": true,
         "showline": false,
         "showticklabels": true,
         "tickfont": {
          "color": "#000000",
          "family": "Verdana",
          "size": 11
         },
         "ticks": "outside",
         "title": {
          "text": "Time (ms)"
         },
         "zeroline": false
        }
       }
      }
     },
     "metadata": {},
     "output_type": "display_data"
    }
   ],
   "source": [
    "# seed for reproducibility\n",
    "np.random.seed(0)\n",
    "\n",
    "# Define the range of values\n",
    "xo = ['single_cross', 'cycle_cross', 'pmx', 'arithmetic_cross']\n",
    "\n",
    "# Setting previous best parameter as new default value\n",
    "params.update(replace_param)\n",
    "\n",
    "# Print current parameters to use in best_operators_search\n",
    "print('\\033[1mParameters for GA:\\033[0m', end='\\n\\n')\n",
    "print(params, end='\\n\\n')\n",
    "\n",
    "param_list, df = best_operators_search('cross', xo, params)\n",
    "\n",
    "# Displaying average results of the 100 iterations\n",
    "print('\\033[1mAverage results:', end='\\n')\n",
    "df['const'] = 'const'\n",
    "df_avg = df.groupby('const').mean().reset_index(drop=True).round(3)\n",
    "display(df_avg)\n",
    "\n",
    "# Getting best parameter by fitness & time\n",
    "best_param_fit = df_avg[[col for col in df_avg.columns if col.startswith('Fit_')]].idxmax(axis=1)[0].replace('Fit_', '')\n",
    "best_param_time = df_avg[[col for col in df_avg.columns if col.startswith('Time_')]].idxmin(axis=1)[0].replace('Time_', '')\n",
    "replace_param = {'cross': best_param_fit}\n",
    "print(f'\\nBest Fitness: \\033[1m{best_param_fit}\\033[0m\\n\\nBest Time: \\033[1m{best_param_time}\\033[0m', end='\\n\\n')\n",
    "\n",
    "# Plotting results\n",
    "plot_values(data = df, colors = color_palette[:len(xo)], layout=2, template='white', grid=True)"
   ]
  },
  {
   "attachments": {},
   "cell_type": "markdown",
   "metadata": {},
   "source": [
    "### __2.3 Selection Operator__"
   ]
  },
  {
   "cell_type": "code",
   "execution_count": 15,
   "metadata": {},
   "outputs": [
    {
     "name": "stdout",
     "output_type": "stream",
     "text": [
      "\u001b[1mParameters for GA:\u001b[0m\n",
      "\n",
      "{'n': 12, 'pop': 100, 'gen': 50, 'mut_perc': 0.05, 'cross_perc': 0.75, 'mut': 'swap_mutation', 'cross': 'cycle_cross', 'select': 'tournament_selection'}\n",
      "\n",
      "\u001b[1mAverage results:\n"
     ]
    },
    {
     "data": {
      "text/html": [
       "<div>\n",
       "<style scoped>\n",
       "    .dataframe tbody tr th:only-of-type {\n",
       "        vertical-align: middle;\n",
       "    }\n",
       "\n",
       "    .dataframe tbody tr th {\n",
       "        vertical-align: top;\n",
       "    }\n",
       "\n",
       "    .dataframe thead th {\n",
       "        text-align: right;\n",
       "    }\n",
       "</style>\n",
       "<table border=\"1\" class=\"dataframe\">\n",
       "  <thead>\n",
       "    <tr style=\"text-align: right;\">\n",
       "      <th></th>\n",
       "      <th>Fit_tournament_selection</th>\n",
       "      <th>Fit_fps</th>\n",
       "      <th>Fit_rank</th>\n",
       "      <th>Time_tournament_selection</th>\n",
       "      <th>Time_fps</th>\n",
       "      <th>Time_rank</th>\n",
       "    </tr>\n",
       "  </thead>\n",
       "  <tbody>\n",
       "    <tr>\n",
       "      <th>0</th>\n",
       "      <td>96.53</td>\n",
       "      <td>96.364</td>\n",
       "      <td>96.379</td>\n",
       "      <td>11.67</td>\n",
       "      <td>56.53</td>\n",
       "      <td>63.5</td>\n",
       "    </tr>\n",
       "  </tbody>\n",
       "</table>\n",
       "</div>"
      ],
      "text/plain": [
       "   Fit_tournament_selection  Fit_fps  Fit_rank  Time_tournament_selection   \n",
       "0                     96.53   96.364    96.379                      11.67  \\\n",
       "\n",
       "   Time_fps  Time_rank  \n",
       "0     56.53       63.5  "
      ]
     },
     "metadata": {},
     "output_type": "display_data"
    },
    {
     "name": "stdout",
     "output_type": "stream",
     "text": [
      "\n",
      "Best Fitness: \u001b[1mtournament_selection\u001b[0m\n",
      "\n",
      "Best Time: \u001b[1mtournament_selection\u001b[0m\n",
      "\n"
     ]
    },
    {
     "data": {
      "application/vnd.plotly.v1+json": {
       "config": {
        "plotlyServerURL": "https://plot.ly"
       },
       "data": [
        {
         "line": {
          "color": "gray",
          "width": 2
         },
         "name": "tournament_selection",
         "type": "scatter",
         "x": [
          0,
          1,
          2,
          3,
          4,
          5,
          6,
          7,
          8,
          9,
          10,
          11,
          12,
          13,
          14,
          15,
          16,
          17,
          18,
          19,
          20,
          21,
          22,
          23,
          24,
          25,
          26,
          27,
          28,
          29,
          30,
          31,
          32,
          33,
          34,
          35,
          36,
          37,
          38,
          39,
          40,
          41,
          42,
          43,
          44,
          45,
          46,
          47,
          48,
          49,
          50,
          51,
          52,
          53,
          54,
          55,
          56,
          57,
          58,
          59,
          60,
          61,
          62,
          63,
          64,
          65,
          66,
          67,
          68,
          69,
          70,
          71,
          72,
          73,
          74,
          75,
          76,
          77,
          78,
          79,
          80,
          81,
          82,
          83,
          84,
          85,
          86,
          87,
          88,
          89,
          90,
          91,
          92,
          93,
          94,
          95,
          96,
          97,
          98,
          99
         ],
         "y": [
          96.96969696969697,
          95.45454545454545,
          98.48484848484848,
          93.93939393939394,
          96.96969696969697,
          96.96969696969697,
          96.96969696969697,
          95.45454545454545,
          96.96969696969697,
          95.45454545454545,
          95.45454545454545,
          95.45454545454545,
          96.96969696969697,
          95.45454545454545,
          96.96969696969697,
          95.45454545454545,
          95.45454545454545,
          96.96969696969697,
          98.48484848484848,
          96.96969696969697,
          96.96969696969697,
          96.96969696969697,
          95.45454545454545,
          95.45454545454545,
          95.45454545454545,
          95.45454545454545,
          96.96969696969697,
          96.96969696969697,
          95.45454545454545,
          96.96969696969697,
          96.96969696969697,
          95.45454545454545,
          96.96969696969697,
          98.48484848484848,
          96.96969696969697,
          95.45454545454545,
          95.45454545454545,
          95.45454545454545,
          95.45454545454545,
          96.96969696969697,
          98.48484848484848,
          95.45454545454545,
          96.96969696969697,
          95.45454545454545,
          96.96969696969697,
          95.45454545454545,
          96.96969696969697,
          98.48484848484848,
          96.96969696969697,
          95.45454545454545,
          96.96969696969697,
          98.48484848484848,
          96.96969696969697,
          96.96969696969697,
          95.45454545454545,
          95.45454545454545,
          100,
          96.96969696969697,
          96.96969696969697,
          93.93939393939394,
          96.96969696969697,
          96.96969696969697,
          95.45454545454545,
          98.48484848484848,
          95.45454545454545,
          96.96969696969697,
          96.96969696969697,
          100,
          96.96969696969697,
          95.45454545454545,
          96.96969696969697,
          96.96969696969697,
          96.96969696969697,
          95.45454545454545,
          96.96969696969697,
          95.45454545454545,
          95.45454545454545,
          96.96969696969697,
          96.96969696969697,
          95.45454545454545,
          98.48484848484848,
          96.96969696969697,
          96.96969696969697,
          98.48484848484848,
          95.45454545454545,
          98.48484848484848,
          96.96969696969697,
          95.45454545454545,
          95.45454545454545,
          95.45454545454545,
          95.45454545454545,
          95.45454545454545,
          96.96969696969697,
          95.45454545454545,
          96.96969696969697,
          96.96969696969697,
          95.45454545454545,
          96.96969696969697,
          96.96969696969697,
          96.96969696969697
         ]
        },
        {
         "marker": {
          "color": "gray",
          "size": 8
         },
         "mode": "markers",
         "name": "",
         "type": "scatter",
         "x": [
          0,
          99
         ],
         "y": [
          96.96969696969697,
          96.96969696969697
         ]
        },
        {
         "line": {
          "color": "steelblue",
          "width": 2
         },
         "name": "fps",
         "type": "scatter",
         "x": [
          0,
          1,
          2,
          3,
          4,
          5,
          6,
          7,
          8,
          9,
          10,
          11,
          12,
          13,
          14,
          15,
          16,
          17,
          18,
          19,
          20,
          21,
          22,
          23,
          24,
          25,
          26,
          27,
          28,
          29,
          30,
          31,
          32,
          33,
          34,
          35,
          36,
          37,
          38,
          39,
          40,
          41,
          42,
          43,
          44,
          45,
          46,
          47,
          48,
          49,
          50,
          51,
          52,
          53,
          54,
          55,
          56,
          57,
          58,
          59,
          60,
          61,
          62,
          63,
          64,
          65,
          66,
          67,
          68,
          69,
          70,
          71,
          72,
          73,
          74,
          75,
          76,
          77,
          78,
          79,
          80,
          81,
          82,
          83,
          84,
          85,
          86,
          87,
          88,
          89,
          90,
          91,
          92,
          93,
          94,
          95,
          96,
          97,
          98,
          99
         ],
         "y": [
          96.96969696969697,
          95.45454545454545,
          95.45454545454545,
          93.93939393939394,
          98.48484848484848,
          95.45454545454545,
          96.96969696969697,
          96.96969696969697,
          96.96969696969697,
          95.45454545454545,
          96.96969696969697,
          95.45454545454545,
          96.96969696969697,
          96.96969696969697,
          98.48484848484848,
          95.45454545454545,
          96.96969696969697,
          95.45454545454545,
          93.93939393939394,
          96.96969696969697,
          95.45454545454545,
          98.48484848484848,
          96.96969696969697,
          95.45454545454545,
          96.96969696969697,
          95.45454545454545,
          95.45454545454545,
          98.48484848484848,
          96.96969696969697,
          96.96969696969697,
          95.45454545454545,
          96.96969696969697,
          95.45454545454545,
          96.96969696969697,
          95.45454545454545,
          95.45454545454545,
          95.45454545454545,
          98.48484848484848,
          96.96969696969697,
          96.96969696969697,
          96.96969696969697,
          96.96969696969697,
          95.45454545454545,
          95.45454545454545,
          95.45454545454545,
          96.96969696969697,
          96.96969696969697,
          96.96969696969697,
          96.96969696969697,
          98.48484848484848,
          95.45454545454545,
          98.48484848484848,
          96.96969696969697,
          95.45454545454545,
          96.96969696969697,
          96.96969696969697,
          95.45454545454545,
          96.96969696969697,
          96.96969696969697,
          95.45454545454545,
          96.96969696969697,
          96.96969696969697,
          95.45454545454545,
          95.45454545454545,
          95.45454545454545,
          96.96969696969697,
          96.96969696969697,
          93.93939393939394,
          96.96969696969697,
          95.45454545454545,
          96.96969696969697,
          96.96969696969697,
          96.96969696969697,
          96.96969696969697,
          95.45454545454545,
          95.45454545454545,
          96.96969696969697,
          95.45454545454545,
          95.45454545454545,
          96.96969696969697,
          96.96969696969697,
          96.96969696969697,
          98.48484848484848,
          96.96969696969697,
          95.45454545454545,
          93.93939393939394,
          96.96969696969697,
          95.45454545454545,
          95.45454545454545,
          96.96969696969697,
          96.96969696969697,
          95.45454545454545,
          95.45454545454545,
          96.96969696969697,
          96.96969696969697,
          93.93939393939394,
          95.45454545454545,
          96.96969696969697,
          95.45454545454545,
          96.96969696969697
         ]
        },
        {
         "marker": {
          "color": "steelblue",
          "size": 8
         },
         "mode": "markers",
         "name": "",
         "type": "scatter",
         "x": [
          0,
          99
         ],
         "y": [
          96.96969696969697,
          96.96969696969697
         ]
        },
        {
         "line": {
          "color": "purple",
          "width": 2
         },
         "name": "rank",
         "type": "scatter",
         "x": [
          0,
          1,
          2,
          3,
          4,
          5,
          6,
          7,
          8,
          9,
          10,
          11,
          12,
          13,
          14,
          15,
          16,
          17,
          18,
          19,
          20,
          21,
          22,
          23,
          24,
          25,
          26,
          27,
          28,
          29,
          30,
          31,
          32,
          33,
          34,
          35,
          36,
          37,
          38,
          39,
          40,
          41,
          42,
          43,
          44,
          45,
          46,
          47,
          48,
          49,
          50,
          51,
          52,
          53,
          54,
          55,
          56,
          57,
          58,
          59,
          60,
          61,
          62,
          63,
          64,
          65,
          66,
          67,
          68,
          69,
          70,
          71,
          72,
          73,
          74,
          75,
          76,
          77,
          78,
          79,
          80,
          81,
          82,
          83,
          84,
          85,
          86,
          87,
          88,
          89,
          90,
          91,
          92,
          93,
          94,
          95,
          96,
          97,
          98,
          99
         ],
         "y": [
          95.45454545454545,
          95.45454545454545,
          96.96969696969697,
          96.96969696969697,
          95.45454545454545,
          95.45454545454545,
          96.96969696969697,
          96.96969696969697,
          98.48484848484848,
          96.96969696969697,
          96.96969696969697,
          95.45454545454545,
          96.96969696969697,
          95.45454545454545,
          96.96969696969697,
          95.45454545454545,
          95.45454545454545,
          98.48484848484848,
          95.45454545454545,
          95.45454545454545,
          96.96969696969697,
          95.45454545454545,
          96.96969696969697,
          96.96969696969697,
          96.96969696969697,
          98.48484848484848,
          96.96969696969697,
          95.45454545454545,
          95.45454545454545,
          96.96969696969697,
          95.45454545454545,
          96.96969696969697,
          96.96969696969697,
          96.96969696969697,
          95.45454545454545,
          98.48484848484848,
          96.96969696969697,
          93.93939393939394,
          95.45454545454545,
          96.96969696969697,
          95.45454545454545,
          96.96969696969697,
          95.45454545454545,
          96.96969696969697,
          95.45454545454545,
          100,
          96.96969696969697,
          95.45454545454545,
          95.45454545454545,
          95.45454545454545,
          96.96969696969697,
          96.96969696969697,
          95.45454545454545,
          96.96969696969697,
          96.96969696969697,
          96.96969696969697,
          96.96969696969697,
          96.96969696969697,
          95.45454545454545,
          95.45454545454545,
          96.96969696969697,
          96.96969696969697,
          96.96969696969697,
          98.48484848484848,
          96.96969696969697,
          95.45454545454545,
          96.96969696969697,
          95.45454545454545,
          96.96969696969697,
          98.48484848484848,
          98.48484848484848,
          96.96969696969697,
          95.45454545454545,
          95.45454545454545,
          96.96969696969697,
          95.45454545454545,
          93.93939393939394,
          95.45454545454545,
          95.45454545454545,
          96.96969696969697,
          95.45454545454545,
          96.96969696969697,
          93.93939393939394,
          96.96969696969697,
          96.96969696969697,
          96.96969696969697,
          95.45454545454545,
          96.96969696969697,
          95.45454545454545,
          96.96969696969697,
          95.45454545454545,
          95.45454545454545,
          95.45454545454545,
          95.45454545454545,
          96.96969696969697,
          95.45454545454545,
          95.45454545454545,
          95.45454545454545,
          96.96969696969697,
          96.96969696969697
         ]
        },
        {
         "marker": {
          "color": "purple",
          "size": 8
         },
         "mode": "markers",
         "name": "",
         "type": "scatter",
         "x": [
          0,
          99
         ],
         "y": [
          95.45454545454545,
          96.96969696969697
         ]
        }
       ],
       "layout": {
        "font": {
         "family": "Verdana",
         "size": 14
        },
        "template": {
         "data": {
          "bar": [
           {
            "error_x": {
             "color": "#2a3f5f"
            },
            "error_y": {
             "color": "#2a3f5f"
            },
            "marker": {
             "line": {
              "color": "white",
              "width": 0.5
             },
             "pattern": {
              "fillmode": "overlay",
              "size": 10,
              "solidity": 0.2
             }
            },
            "type": "bar"
           }
          ],
          "barpolar": [
           {
            "marker": {
             "line": {
              "color": "white",
              "width": 0.5
             },
             "pattern": {
              "fillmode": "overlay",
              "size": 10,
              "solidity": 0.2
             }
            },
            "type": "barpolar"
           }
          ],
          "carpet": [
           {
            "aaxis": {
             "endlinecolor": "#2a3f5f",
             "gridcolor": "#C8D4E3",
             "linecolor": "#C8D4E3",
             "minorgridcolor": "#C8D4E3",
             "startlinecolor": "#2a3f5f"
            },
            "baxis": {
             "endlinecolor": "#2a3f5f",
             "gridcolor": "#C8D4E3",
             "linecolor": "#C8D4E3",
             "minorgridcolor": "#C8D4E3",
             "startlinecolor": "#2a3f5f"
            },
            "type": "carpet"
           }
          ],
          "choropleth": [
           {
            "colorbar": {
             "outlinewidth": 0,
             "ticks": ""
            },
            "type": "choropleth"
           }
          ],
          "contour": [
           {
            "colorbar": {
             "outlinewidth": 0,
             "ticks": ""
            },
            "colorscale": [
             [
              0,
              "#0d0887"
             ],
             [
              0.1111111111111111,
              "#46039f"
             ],
             [
              0.2222222222222222,
              "#7201a8"
             ],
             [
              0.3333333333333333,
              "#9c179e"
             ],
             [
              0.4444444444444444,
              "#bd3786"
             ],
             [
              0.5555555555555556,
              "#d8576b"
             ],
             [
              0.6666666666666666,
              "#ed7953"
             ],
             [
              0.7777777777777778,
              "#fb9f3a"
             ],
             [
              0.8888888888888888,
              "#fdca26"
             ],
             [
              1,
              "#f0f921"
             ]
            ],
            "type": "contour"
           }
          ],
          "contourcarpet": [
           {
            "colorbar": {
             "outlinewidth": 0,
             "ticks": ""
            },
            "type": "contourcarpet"
           }
          ],
          "heatmap": [
           {
            "colorbar": {
             "outlinewidth": 0,
             "ticks": ""
            },
            "colorscale": [
             [
              0,
              "#0d0887"
             ],
             [
              0.1111111111111111,
              "#46039f"
             ],
             [
              0.2222222222222222,
              "#7201a8"
             ],
             [
              0.3333333333333333,
              "#9c179e"
             ],
             [
              0.4444444444444444,
              "#bd3786"
             ],
             [
              0.5555555555555556,
              "#d8576b"
             ],
             [
              0.6666666666666666,
              "#ed7953"
             ],
             [
              0.7777777777777778,
              "#fb9f3a"
             ],
             [
              0.8888888888888888,
              "#fdca26"
             ],
             [
              1,
              "#f0f921"
             ]
            ],
            "type": "heatmap"
           }
          ],
          "heatmapgl": [
           {
            "colorbar": {
             "outlinewidth": 0,
             "ticks": ""
            },
            "colorscale": [
             [
              0,
              "#0d0887"
             ],
             [
              0.1111111111111111,
              "#46039f"
             ],
             [
              0.2222222222222222,
              "#7201a8"
             ],
             [
              0.3333333333333333,
              "#9c179e"
             ],
             [
              0.4444444444444444,
              "#bd3786"
             ],
             [
              0.5555555555555556,
              "#d8576b"
             ],
             [
              0.6666666666666666,
              "#ed7953"
             ],
             [
              0.7777777777777778,
              "#fb9f3a"
             ],
             [
              0.8888888888888888,
              "#fdca26"
             ],
             [
              1,
              "#f0f921"
             ]
            ],
            "type": "heatmapgl"
           }
          ],
          "histogram": [
           {
            "marker": {
             "pattern": {
              "fillmode": "overlay",
              "size": 10,
              "solidity": 0.2
             }
            },
            "type": "histogram"
           }
          ],
          "histogram2d": [
           {
            "colorbar": {
             "outlinewidth": 0,
             "ticks": ""
            },
            "colorscale": [
             [
              0,
              "#0d0887"
             ],
             [
              0.1111111111111111,
              "#46039f"
             ],
             [
              0.2222222222222222,
              "#7201a8"
             ],
             [
              0.3333333333333333,
              "#9c179e"
             ],
             [
              0.4444444444444444,
              "#bd3786"
             ],
             [
              0.5555555555555556,
              "#d8576b"
             ],
             [
              0.6666666666666666,
              "#ed7953"
             ],
             [
              0.7777777777777778,
              "#fb9f3a"
             ],
             [
              0.8888888888888888,
              "#fdca26"
             ],
             [
              1,
              "#f0f921"
             ]
            ],
            "type": "histogram2d"
           }
          ],
          "histogram2dcontour": [
           {
            "colorbar": {
             "outlinewidth": 0,
             "ticks": ""
            },
            "colorscale": [
             [
              0,
              "#0d0887"
             ],
             [
              0.1111111111111111,
              "#46039f"
             ],
             [
              0.2222222222222222,
              "#7201a8"
             ],
             [
              0.3333333333333333,
              "#9c179e"
             ],
             [
              0.4444444444444444,
              "#bd3786"
             ],
             [
              0.5555555555555556,
              "#d8576b"
             ],
             [
              0.6666666666666666,
              "#ed7953"
             ],
             [
              0.7777777777777778,
              "#fb9f3a"
             ],
             [
              0.8888888888888888,
              "#fdca26"
             ],
             [
              1,
              "#f0f921"
             ]
            ],
            "type": "histogram2dcontour"
           }
          ],
          "mesh3d": [
           {
            "colorbar": {
             "outlinewidth": 0,
             "ticks": ""
            },
            "type": "mesh3d"
           }
          ],
          "parcoords": [
           {
            "line": {
             "colorbar": {
              "outlinewidth": 0,
              "ticks": ""
             }
            },
            "type": "parcoords"
           }
          ],
          "pie": [
           {
            "automargin": true,
            "type": "pie"
           }
          ],
          "scatter": [
           {
            "fillpattern": {
             "fillmode": "overlay",
             "size": 10,
             "solidity": 0.2
            },
            "type": "scatter"
           }
          ],
          "scatter3d": [
           {
            "line": {
             "colorbar": {
              "outlinewidth": 0,
              "ticks": ""
             }
            },
            "marker": {
             "colorbar": {
              "outlinewidth": 0,
              "ticks": ""
             }
            },
            "type": "scatter3d"
           }
          ],
          "scattercarpet": [
           {
            "marker": {
             "colorbar": {
              "outlinewidth": 0,
              "ticks": ""
             }
            },
            "type": "scattercarpet"
           }
          ],
          "scattergeo": [
           {
            "marker": {
             "colorbar": {
              "outlinewidth": 0,
              "ticks": ""
             }
            },
            "type": "scattergeo"
           }
          ],
          "scattergl": [
           {
            "marker": {
             "colorbar": {
              "outlinewidth": 0,
              "ticks": ""
             }
            },
            "type": "scattergl"
           }
          ],
          "scattermapbox": [
           {
            "marker": {
             "colorbar": {
              "outlinewidth": 0,
              "ticks": ""
             }
            },
            "type": "scattermapbox"
           }
          ],
          "scatterpolar": [
           {
            "marker": {
             "colorbar": {
              "outlinewidth": 0,
              "ticks": ""
             }
            },
            "type": "scatterpolar"
           }
          ],
          "scatterpolargl": [
           {
            "marker": {
             "colorbar": {
              "outlinewidth": 0,
              "ticks": ""
             }
            },
            "type": "scatterpolargl"
           }
          ],
          "scatterternary": [
           {
            "marker": {
             "colorbar": {
              "outlinewidth": 0,
              "ticks": ""
             }
            },
            "type": "scatterternary"
           }
          ],
          "surface": [
           {
            "colorbar": {
             "outlinewidth": 0,
             "ticks": ""
            },
            "colorscale": [
             [
              0,
              "#0d0887"
             ],
             [
              0.1111111111111111,
              "#46039f"
             ],
             [
              0.2222222222222222,
              "#7201a8"
             ],
             [
              0.3333333333333333,
              "#9c179e"
             ],
             [
              0.4444444444444444,
              "#bd3786"
             ],
             [
              0.5555555555555556,
              "#d8576b"
             ],
             [
              0.6666666666666666,
              "#ed7953"
             ],
             [
              0.7777777777777778,
              "#fb9f3a"
             ],
             [
              0.8888888888888888,
              "#fdca26"
             ],
             [
              1,
              "#f0f921"
             ]
            ],
            "type": "surface"
           }
          ],
          "table": [
           {
            "cells": {
             "fill": {
              "color": "#EBF0F8"
             },
             "line": {
              "color": "white"
             }
            },
            "header": {
             "fill": {
              "color": "#C8D4E3"
             },
             "line": {
              "color": "white"
             }
            },
            "type": "table"
           }
          ]
         },
         "layout": {
          "annotationdefaults": {
           "arrowcolor": "#2a3f5f",
           "arrowhead": 0,
           "arrowwidth": 1
          },
          "autotypenumbers": "strict",
          "coloraxis": {
           "colorbar": {
            "outlinewidth": 0,
            "ticks": ""
           }
          },
          "colorscale": {
           "diverging": [
            [
             0,
             "#8e0152"
            ],
            [
             0.1,
             "#c51b7d"
            ],
            [
             0.2,
             "#de77ae"
            ],
            [
             0.3,
             "#f1b6da"
            ],
            [
             0.4,
             "#fde0ef"
            ],
            [
             0.5,
             "#f7f7f7"
            ],
            [
             0.6,
             "#e6f5d0"
            ],
            [
             0.7,
             "#b8e186"
            ],
            [
             0.8,
             "#7fbc41"
            ],
            [
             0.9,
             "#4d9221"
            ],
            [
             1,
             "#276419"
            ]
           ],
           "sequential": [
            [
             0,
             "#0d0887"
            ],
            [
             0.1111111111111111,
             "#46039f"
            ],
            [
             0.2222222222222222,
             "#7201a8"
            ],
            [
             0.3333333333333333,
             "#9c179e"
            ],
            [
             0.4444444444444444,
             "#bd3786"
            ],
            [
             0.5555555555555556,
             "#d8576b"
            ],
            [
             0.6666666666666666,
             "#ed7953"
            ],
            [
             0.7777777777777778,
             "#fb9f3a"
            ],
            [
             0.8888888888888888,
             "#fdca26"
            ],
            [
             1,
             "#f0f921"
            ]
           ],
           "sequentialminus": [
            [
             0,
             "#0d0887"
            ],
            [
             0.1111111111111111,
             "#46039f"
            ],
            [
             0.2222222222222222,
             "#7201a8"
            ],
            [
             0.3333333333333333,
             "#9c179e"
            ],
            [
             0.4444444444444444,
             "#bd3786"
            ],
            [
             0.5555555555555556,
             "#d8576b"
            ],
            [
             0.6666666666666666,
             "#ed7953"
            ],
            [
             0.7777777777777778,
             "#fb9f3a"
            ],
            [
             0.8888888888888888,
             "#fdca26"
            ],
            [
             1,
             "#f0f921"
            ]
           ]
          },
          "colorway": [
           "#636efa",
           "#EF553B",
           "#00cc96",
           "#ab63fa",
           "#FFA15A",
           "#19d3f3",
           "#FF6692",
           "#B6E880",
           "#FF97FF",
           "#FECB52"
          ],
          "font": {
           "color": "#2a3f5f"
          },
          "geo": {
           "bgcolor": "white",
           "lakecolor": "white",
           "landcolor": "white",
           "showlakes": true,
           "showland": true,
           "subunitcolor": "#C8D4E3"
          },
          "hoverlabel": {
           "align": "left"
          },
          "hovermode": "closest",
          "mapbox": {
           "style": "light"
          },
          "paper_bgcolor": "white",
          "plot_bgcolor": "white",
          "polar": {
           "angularaxis": {
            "gridcolor": "#EBF0F8",
            "linecolor": "#EBF0F8",
            "ticks": ""
           },
           "bgcolor": "white",
           "radialaxis": {
            "gridcolor": "#EBF0F8",
            "linecolor": "#EBF0F8",
            "ticks": ""
           }
          },
          "scene": {
           "xaxis": {
            "backgroundcolor": "white",
            "gridcolor": "#DFE8F3",
            "gridwidth": 2,
            "linecolor": "#EBF0F8",
            "showbackground": true,
            "ticks": "",
            "zerolinecolor": "#EBF0F8"
           },
           "yaxis": {
            "backgroundcolor": "white",
            "gridcolor": "#DFE8F3",
            "gridwidth": 2,
            "linecolor": "#EBF0F8",
            "showbackground": true,
            "ticks": "",
            "zerolinecolor": "#EBF0F8"
           },
           "zaxis": {
            "backgroundcolor": "white",
            "gridcolor": "#DFE8F3",
            "gridwidth": 2,
            "linecolor": "#EBF0F8",
            "showbackground": true,
            "ticks": "",
            "zerolinecolor": "#EBF0F8"
           }
          },
          "shapedefaults": {
           "line": {
            "color": "#2a3f5f"
           }
          },
          "ternary": {
           "aaxis": {
            "gridcolor": "#DFE8F3",
            "linecolor": "#A2B1C6",
            "ticks": ""
           },
           "baxis": {
            "gridcolor": "#DFE8F3",
            "linecolor": "#A2B1C6",
            "ticks": ""
           },
           "bgcolor": "white",
           "caxis": {
            "gridcolor": "#DFE8F3",
            "linecolor": "#A2B1C6",
            "ticks": ""
           }
          },
          "title": {
           "x": 0.05
          },
          "xaxis": {
           "automargin": true,
           "gridcolor": "#EBF0F8",
           "linecolor": "#EBF0F8",
           "ticks": "",
           "title": {
            "standoff": 15
           },
           "zerolinecolor": "#EBF0F8",
           "zerolinewidth": 2
          },
          "yaxis": {
           "automargin": true,
           "gridcolor": "#EBF0F8",
           "linecolor": "#EBF0F8",
           "ticks": "",
           "title": {
            "standoff": 15
           },
           "zerolinecolor": "#EBF0F8",
           "zerolinewidth": 2
          }
         }
        },
        "title": {
         "text": "Fitness Comparison"
        },
        "xaxis": {
         "linewidth": 1.5,
         "showgrid": true,
         "showline": true,
         "showticklabels": true,
         "tickfont": {
          "color": "#000000",
          "family": "Verdana",
          "size": 11
         },
         "ticks": "outside",
         "title": {
          "text": "Iterations"
         }
        },
        "yaxis": {
         "showgrid": true,
         "showline": false,
         "showticklabels": true,
         "tickfont": {
          "color": "#000000",
          "family": "Verdana",
          "size": 11
         },
         "ticks": "outside",
         "title": {
          "text": "Fitness"
         },
         "zeroline": false
        }
       }
      }
     },
     "metadata": {},
     "output_type": "display_data"
    },
    {
     "data": {
      "application/vnd.plotly.v1+json": {
       "config": {
        "plotlyServerURL": "https://plot.ly"
       },
       "data": [
        {
         "line": {
          "color": "gray",
          "width": 2
         },
         "name": "tournament_selection",
         "type": "scatter",
         "x": [
          0,
          1,
          2,
          3,
          4,
          5,
          6,
          7,
          8,
          9,
          10,
          11,
          12,
          13,
          14,
          15,
          16,
          17,
          18,
          19,
          20,
          21,
          22,
          23,
          24,
          25,
          26,
          27,
          28,
          29,
          30,
          31,
          32,
          33,
          34,
          35,
          36,
          37,
          38,
          39,
          40,
          41,
          42,
          43,
          44,
          45,
          46,
          47,
          48,
          49,
          50,
          51,
          52,
          53,
          54,
          55,
          56,
          57,
          58,
          59,
          60,
          61,
          62,
          63,
          64,
          65,
          66,
          67,
          68,
          69,
          70,
          71,
          72,
          73,
          74,
          75,
          76,
          77,
          78,
          79,
          80,
          81,
          82,
          83,
          84,
          85,
          86,
          87,
          88,
          89,
          90,
          91,
          92,
          93,
          94,
          95,
          96,
          97,
          98,
          99
         ],
         "y": [
          12,
          12,
          12,
          11,
          12,
          12,
          12,
          11,
          11,
          11,
          12,
          12,
          12,
          11,
          12,
          11,
          12,
          12,
          12,
          12,
          12,
          12,
          12,
          12,
          11,
          12,
          12,
          12,
          12,
          12,
          12,
          12,
          11,
          12,
          12,
          12,
          12,
          12,
          12,
          12,
          12,
          11,
          12,
          12,
          11,
          12,
          12,
          12,
          11,
          12,
          11,
          11,
          11,
          11,
          11,
          11,
          11,
          11,
          12,
          11,
          12,
          12,
          12,
          11,
          12,
          11,
          11,
          12,
          12,
          12,
          12,
          12,
          12,
          11,
          12,
          12,
          11,
          12,
          12,
          11,
          12,
          12,
          12,
          11,
          12,
          12,
          12,
          12,
          11,
          11,
          11,
          11,
          12,
          12,
          11,
          12,
          12,
          11,
          12,
          12
         ]
        },
        {
         "marker": {
          "color": "gray",
          "size": 8
         },
         "mode": "markers",
         "name": "",
         "type": "scatter",
         "x": [
          0,
          99
         ],
         "y": [
          12,
          12
         ]
        },
        {
         "line": {
          "color": "steelblue",
          "width": 2
         },
         "name": "fps",
         "type": "scatter",
         "x": [
          0,
          1,
          2,
          3,
          4,
          5,
          6,
          7,
          8,
          9,
          10,
          11,
          12,
          13,
          14,
          15,
          16,
          17,
          18,
          19,
          20,
          21,
          22,
          23,
          24,
          25,
          26,
          27,
          28,
          29,
          30,
          31,
          32,
          33,
          34,
          35,
          36,
          37,
          38,
          39,
          40,
          41,
          42,
          43,
          44,
          45,
          46,
          47,
          48,
          49,
          50,
          51,
          52,
          53,
          54,
          55,
          56,
          57,
          58,
          59,
          60,
          61,
          62,
          63,
          64,
          65,
          66,
          67,
          68,
          69,
          70,
          71,
          72,
          73,
          74,
          75,
          76,
          77,
          78,
          79,
          80,
          81,
          82,
          83,
          84,
          85,
          86,
          87,
          88,
          89,
          90,
          91,
          92,
          93,
          94,
          95,
          96,
          97,
          98,
          99
         ],
         "y": [
          59,
          59,
          56,
          61,
          56,
          55,
          55,
          56,
          56,
          57,
          54,
          55,
          57,
          57,
          56,
          55,
          55,
          56,
          58,
          55,
          55,
          59,
          56,
          57,
          55,
          57,
          56,
          55,
          56,
          57,
          58,
          55,
          59,
          59,
          58,
          56,
          56,
          58,
          57,
          58,
          56,
          56,
          58,
          56,
          55,
          56,
          56,
          57,
          57,
          55,
          56,
          56,
          55,
          58,
          57,
          58,
          59,
          55,
          58,
          56,
          56,
          59,
          56,
          56,
          56,
          56,
          57,
          56,
          57,
          55,
          59,
          55,
          56,
          55,
          57,
          60,
          57,
          56,
          59,
          54,
          58,
          56,
          56,
          55,
          59,
          55,
          56,
          56,
          56,
          58,
          56,
          57,
          55,
          56,
          55,
          58,
          55,
          56,
          58,
          55
         ]
        },
        {
         "marker": {
          "color": "steelblue",
          "size": 8
         },
         "mode": "markers",
         "name": "",
         "type": "scatter",
         "x": [
          0,
          99
         ],
         "y": [
          59,
          55
         ]
        },
        {
         "line": {
          "color": "purple",
          "width": 2
         },
         "name": "rank",
         "type": "scatter",
         "x": [
          0,
          1,
          2,
          3,
          4,
          5,
          6,
          7,
          8,
          9,
          10,
          11,
          12,
          13,
          14,
          15,
          16,
          17,
          18,
          19,
          20,
          21,
          22,
          23,
          24,
          25,
          26,
          27,
          28,
          29,
          30,
          31,
          32,
          33,
          34,
          35,
          36,
          37,
          38,
          39,
          40,
          41,
          42,
          43,
          44,
          45,
          46,
          47,
          48,
          49,
          50,
          51,
          52,
          53,
          54,
          55,
          56,
          57,
          58,
          59,
          60,
          61,
          62,
          63,
          64,
          65,
          66,
          67,
          68,
          69,
          70,
          71,
          72,
          73,
          74,
          75,
          76,
          77,
          78,
          79,
          80,
          81,
          82,
          83,
          84,
          85,
          86,
          87,
          88,
          89,
          90,
          91,
          92,
          93,
          94,
          95,
          96,
          97,
          98,
          99
         ],
         "y": [
          69,
          73,
          76,
          75,
          68,
          52,
          74,
          46,
          78,
          75,
          53,
          51,
          74,
          72,
          44,
          44,
          52,
          79,
          52,
          79,
          75,
          72,
          73,
          71,
          75,
          66,
          76,
          77,
          67,
          50,
          43,
          72,
          51,
          71,
          73,
          67,
          70,
          71,
          44,
          50,
          44,
          68,
          51,
          74,
          75,
          44,
          66,
          50,
          51,
          39,
          76,
          71,
          74,
          74,
          51,
          72,
          75,
          76,
          74,
          53,
          79,
          52,
          71,
          69,
          51,
          43,
          73,
          50,
          51,
          72,
          76,
          50,
          50,
          66,
          43,
          43,
          74,
          50,
          72,
          68,
          51,
          73,
          69,
          68,
          74,
          41,
          68,
          75,
          74,
          70,
          73,
          50,
          50,
          70,
          73,
          72,
          42,
          75,
          51,
          70
         ]
        },
        {
         "marker": {
          "color": "purple",
          "size": 8
         },
         "mode": "markers",
         "name": "",
         "type": "scatter",
         "x": [
          0,
          99
         ],
         "y": [
          69,
          70
         ]
        }
       ],
       "layout": {
        "font": {
         "family": "Verdana",
         "size": 14
        },
        "template": {
         "data": {
          "bar": [
           {
            "error_x": {
             "color": "#2a3f5f"
            },
            "error_y": {
             "color": "#2a3f5f"
            },
            "marker": {
             "line": {
              "color": "white",
              "width": 0.5
             },
             "pattern": {
              "fillmode": "overlay",
              "size": 10,
              "solidity": 0.2
             }
            },
            "type": "bar"
           }
          ],
          "barpolar": [
           {
            "marker": {
             "line": {
              "color": "white",
              "width": 0.5
             },
             "pattern": {
              "fillmode": "overlay",
              "size": 10,
              "solidity": 0.2
             }
            },
            "type": "barpolar"
           }
          ],
          "carpet": [
           {
            "aaxis": {
             "endlinecolor": "#2a3f5f",
             "gridcolor": "#C8D4E3",
             "linecolor": "#C8D4E3",
             "minorgridcolor": "#C8D4E3",
             "startlinecolor": "#2a3f5f"
            },
            "baxis": {
             "endlinecolor": "#2a3f5f",
             "gridcolor": "#C8D4E3",
             "linecolor": "#C8D4E3",
             "minorgridcolor": "#C8D4E3",
             "startlinecolor": "#2a3f5f"
            },
            "type": "carpet"
           }
          ],
          "choropleth": [
           {
            "colorbar": {
             "outlinewidth": 0,
             "ticks": ""
            },
            "type": "choropleth"
           }
          ],
          "contour": [
           {
            "colorbar": {
             "outlinewidth": 0,
             "ticks": ""
            },
            "colorscale": [
             [
              0,
              "#0d0887"
             ],
             [
              0.1111111111111111,
              "#46039f"
             ],
             [
              0.2222222222222222,
              "#7201a8"
             ],
             [
              0.3333333333333333,
              "#9c179e"
             ],
             [
              0.4444444444444444,
              "#bd3786"
             ],
             [
              0.5555555555555556,
              "#d8576b"
             ],
             [
              0.6666666666666666,
              "#ed7953"
             ],
             [
              0.7777777777777778,
              "#fb9f3a"
             ],
             [
              0.8888888888888888,
              "#fdca26"
             ],
             [
              1,
              "#f0f921"
             ]
            ],
            "type": "contour"
           }
          ],
          "contourcarpet": [
           {
            "colorbar": {
             "outlinewidth": 0,
             "ticks": ""
            },
            "type": "contourcarpet"
           }
          ],
          "heatmap": [
           {
            "colorbar": {
             "outlinewidth": 0,
             "ticks": ""
            },
            "colorscale": [
             [
              0,
              "#0d0887"
             ],
             [
              0.1111111111111111,
              "#46039f"
             ],
             [
              0.2222222222222222,
              "#7201a8"
             ],
             [
              0.3333333333333333,
              "#9c179e"
             ],
             [
              0.4444444444444444,
              "#bd3786"
             ],
             [
              0.5555555555555556,
              "#d8576b"
             ],
             [
              0.6666666666666666,
              "#ed7953"
             ],
             [
              0.7777777777777778,
              "#fb9f3a"
             ],
             [
              0.8888888888888888,
              "#fdca26"
             ],
             [
              1,
              "#f0f921"
             ]
            ],
            "type": "heatmap"
           }
          ],
          "heatmapgl": [
           {
            "colorbar": {
             "outlinewidth": 0,
             "ticks": ""
            },
            "colorscale": [
             [
              0,
              "#0d0887"
             ],
             [
              0.1111111111111111,
              "#46039f"
             ],
             [
              0.2222222222222222,
              "#7201a8"
             ],
             [
              0.3333333333333333,
              "#9c179e"
             ],
             [
              0.4444444444444444,
              "#bd3786"
             ],
             [
              0.5555555555555556,
              "#d8576b"
             ],
             [
              0.6666666666666666,
              "#ed7953"
             ],
             [
              0.7777777777777778,
              "#fb9f3a"
             ],
             [
              0.8888888888888888,
              "#fdca26"
             ],
             [
              1,
              "#f0f921"
             ]
            ],
            "type": "heatmapgl"
           }
          ],
          "histogram": [
           {
            "marker": {
             "pattern": {
              "fillmode": "overlay",
              "size": 10,
              "solidity": 0.2
             }
            },
            "type": "histogram"
           }
          ],
          "histogram2d": [
           {
            "colorbar": {
             "outlinewidth": 0,
             "ticks": ""
            },
            "colorscale": [
             [
              0,
              "#0d0887"
             ],
             [
              0.1111111111111111,
              "#46039f"
             ],
             [
              0.2222222222222222,
              "#7201a8"
             ],
             [
              0.3333333333333333,
              "#9c179e"
             ],
             [
              0.4444444444444444,
              "#bd3786"
             ],
             [
              0.5555555555555556,
              "#d8576b"
             ],
             [
              0.6666666666666666,
              "#ed7953"
             ],
             [
              0.7777777777777778,
              "#fb9f3a"
             ],
             [
              0.8888888888888888,
              "#fdca26"
             ],
             [
              1,
              "#f0f921"
             ]
            ],
            "type": "histogram2d"
           }
          ],
          "histogram2dcontour": [
           {
            "colorbar": {
             "outlinewidth": 0,
             "ticks": ""
            },
            "colorscale": [
             [
              0,
              "#0d0887"
             ],
             [
              0.1111111111111111,
              "#46039f"
             ],
             [
              0.2222222222222222,
              "#7201a8"
             ],
             [
              0.3333333333333333,
              "#9c179e"
             ],
             [
              0.4444444444444444,
              "#bd3786"
             ],
             [
              0.5555555555555556,
              "#d8576b"
             ],
             [
              0.6666666666666666,
              "#ed7953"
             ],
             [
              0.7777777777777778,
              "#fb9f3a"
             ],
             [
              0.8888888888888888,
              "#fdca26"
             ],
             [
              1,
              "#f0f921"
             ]
            ],
            "type": "histogram2dcontour"
           }
          ],
          "mesh3d": [
           {
            "colorbar": {
             "outlinewidth": 0,
             "ticks": ""
            },
            "type": "mesh3d"
           }
          ],
          "parcoords": [
           {
            "line": {
             "colorbar": {
              "outlinewidth": 0,
              "ticks": ""
             }
            },
            "type": "parcoords"
           }
          ],
          "pie": [
           {
            "automargin": true,
            "type": "pie"
           }
          ],
          "scatter": [
           {
            "fillpattern": {
             "fillmode": "overlay",
             "size": 10,
             "solidity": 0.2
            },
            "type": "scatter"
           }
          ],
          "scatter3d": [
           {
            "line": {
             "colorbar": {
              "outlinewidth": 0,
              "ticks": ""
             }
            },
            "marker": {
             "colorbar": {
              "outlinewidth": 0,
              "ticks": ""
             }
            },
            "type": "scatter3d"
           }
          ],
          "scattercarpet": [
           {
            "marker": {
             "colorbar": {
              "outlinewidth": 0,
              "ticks": ""
             }
            },
            "type": "scattercarpet"
           }
          ],
          "scattergeo": [
           {
            "marker": {
             "colorbar": {
              "outlinewidth": 0,
              "ticks": ""
             }
            },
            "type": "scattergeo"
           }
          ],
          "scattergl": [
           {
            "marker": {
             "colorbar": {
              "outlinewidth": 0,
              "ticks": ""
             }
            },
            "type": "scattergl"
           }
          ],
          "scattermapbox": [
           {
            "marker": {
             "colorbar": {
              "outlinewidth": 0,
              "ticks": ""
             }
            },
            "type": "scattermapbox"
           }
          ],
          "scatterpolar": [
           {
            "marker": {
             "colorbar": {
              "outlinewidth": 0,
              "ticks": ""
             }
            },
            "type": "scatterpolar"
           }
          ],
          "scatterpolargl": [
           {
            "marker": {
             "colorbar": {
              "outlinewidth": 0,
              "ticks": ""
             }
            },
            "type": "scatterpolargl"
           }
          ],
          "scatterternary": [
           {
            "marker": {
             "colorbar": {
              "outlinewidth": 0,
              "ticks": ""
             }
            },
            "type": "scatterternary"
           }
          ],
          "surface": [
           {
            "colorbar": {
             "outlinewidth": 0,
             "ticks": ""
            },
            "colorscale": [
             [
              0,
              "#0d0887"
             ],
             [
              0.1111111111111111,
              "#46039f"
             ],
             [
              0.2222222222222222,
              "#7201a8"
             ],
             [
              0.3333333333333333,
              "#9c179e"
             ],
             [
              0.4444444444444444,
              "#bd3786"
             ],
             [
              0.5555555555555556,
              "#d8576b"
             ],
             [
              0.6666666666666666,
              "#ed7953"
             ],
             [
              0.7777777777777778,
              "#fb9f3a"
             ],
             [
              0.8888888888888888,
              "#fdca26"
             ],
             [
              1,
              "#f0f921"
             ]
            ],
            "type": "surface"
           }
          ],
          "table": [
           {
            "cells": {
             "fill": {
              "color": "#EBF0F8"
             },
             "line": {
              "color": "white"
             }
            },
            "header": {
             "fill": {
              "color": "#C8D4E3"
             },
             "line": {
              "color": "white"
             }
            },
            "type": "table"
           }
          ]
         },
         "layout": {
          "annotationdefaults": {
           "arrowcolor": "#2a3f5f",
           "arrowhead": 0,
           "arrowwidth": 1
          },
          "autotypenumbers": "strict",
          "coloraxis": {
           "colorbar": {
            "outlinewidth": 0,
            "ticks": ""
           }
          },
          "colorscale": {
           "diverging": [
            [
             0,
             "#8e0152"
            ],
            [
             0.1,
             "#c51b7d"
            ],
            [
             0.2,
             "#de77ae"
            ],
            [
             0.3,
             "#f1b6da"
            ],
            [
             0.4,
             "#fde0ef"
            ],
            [
             0.5,
             "#f7f7f7"
            ],
            [
             0.6,
             "#e6f5d0"
            ],
            [
             0.7,
             "#b8e186"
            ],
            [
             0.8,
             "#7fbc41"
            ],
            [
             0.9,
             "#4d9221"
            ],
            [
             1,
             "#276419"
            ]
           ],
           "sequential": [
            [
             0,
             "#0d0887"
            ],
            [
             0.1111111111111111,
             "#46039f"
            ],
            [
             0.2222222222222222,
             "#7201a8"
            ],
            [
             0.3333333333333333,
             "#9c179e"
            ],
            [
             0.4444444444444444,
             "#bd3786"
            ],
            [
             0.5555555555555556,
             "#d8576b"
            ],
            [
             0.6666666666666666,
             "#ed7953"
            ],
            [
             0.7777777777777778,
             "#fb9f3a"
            ],
            [
             0.8888888888888888,
             "#fdca26"
            ],
            [
             1,
             "#f0f921"
            ]
           ],
           "sequentialminus": [
            [
             0,
             "#0d0887"
            ],
            [
             0.1111111111111111,
             "#46039f"
            ],
            [
             0.2222222222222222,
             "#7201a8"
            ],
            [
             0.3333333333333333,
             "#9c179e"
            ],
            [
             0.4444444444444444,
             "#bd3786"
            ],
            [
             0.5555555555555556,
             "#d8576b"
            ],
            [
             0.6666666666666666,
             "#ed7953"
            ],
            [
             0.7777777777777778,
             "#fb9f3a"
            ],
            [
             0.8888888888888888,
             "#fdca26"
            ],
            [
             1,
             "#f0f921"
            ]
           ]
          },
          "colorway": [
           "#636efa",
           "#EF553B",
           "#00cc96",
           "#ab63fa",
           "#FFA15A",
           "#19d3f3",
           "#FF6692",
           "#B6E880",
           "#FF97FF",
           "#FECB52"
          ],
          "font": {
           "color": "#2a3f5f"
          },
          "geo": {
           "bgcolor": "white",
           "lakecolor": "white",
           "landcolor": "white",
           "showlakes": true,
           "showland": true,
           "subunitcolor": "#C8D4E3"
          },
          "hoverlabel": {
           "align": "left"
          },
          "hovermode": "closest",
          "mapbox": {
           "style": "light"
          },
          "paper_bgcolor": "white",
          "plot_bgcolor": "white",
          "polar": {
           "angularaxis": {
            "gridcolor": "#EBF0F8",
            "linecolor": "#EBF0F8",
            "ticks": ""
           },
           "bgcolor": "white",
           "radialaxis": {
            "gridcolor": "#EBF0F8",
            "linecolor": "#EBF0F8",
            "ticks": ""
           }
          },
          "scene": {
           "xaxis": {
            "backgroundcolor": "white",
            "gridcolor": "#DFE8F3",
            "gridwidth": 2,
            "linecolor": "#EBF0F8",
            "showbackground": true,
            "ticks": "",
            "zerolinecolor": "#EBF0F8"
           },
           "yaxis": {
            "backgroundcolor": "white",
            "gridcolor": "#DFE8F3",
            "gridwidth": 2,
            "linecolor": "#EBF0F8",
            "showbackground": true,
            "ticks": "",
            "zerolinecolor": "#EBF0F8"
           },
           "zaxis": {
            "backgroundcolor": "white",
            "gridcolor": "#DFE8F3",
            "gridwidth": 2,
            "linecolor": "#EBF0F8",
            "showbackground": true,
            "ticks": "",
            "zerolinecolor": "#EBF0F8"
           }
          },
          "shapedefaults": {
           "line": {
            "color": "#2a3f5f"
           }
          },
          "ternary": {
           "aaxis": {
            "gridcolor": "#DFE8F3",
            "linecolor": "#A2B1C6",
            "ticks": ""
           },
           "baxis": {
            "gridcolor": "#DFE8F3",
            "linecolor": "#A2B1C6",
            "ticks": ""
           },
           "bgcolor": "white",
           "caxis": {
            "gridcolor": "#DFE8F3",
            "linecolor": "#A2B1C6",
            "ticks": ""
           }
          },
          "title": {
           "x": 0.05
          },
          "xaxis": {
           "automargin": true,
           "gridcolor": "#EBF0F8",
           "linecolor": "#EBF0F8",
           "ticks": "",
           "title": {
            "standoff": 15
           },
           "zerolinecolor": "#EBF0F8",
           "zerolinewidth": 2
          },
          "yaxis": {
           "automargin": true,
           "gridcolor": "#EBF0F8",
           "linecolor": "#EBF0F8",
           "ticks": "",
           "title": {
            "standoff": 15
           },
           "zerolinecolor": "#EBF0F8",
           "zerolinewidth": 2
          }
         }
        },
        "title": {
         "text": "Time Comparison"
        },
        "xaxis": {
         "linewidth": 1.5,
         "showgrid": true,
         "showline": true,
         "showticklabels": true,
         "tickfont": {
          "color": "#000000",
          "family": "Verdana",
          "size": 11
         },
         "ticks": "outside",
         "title": {
          "text": "Iterations"
         }
        },
        "yaxis": {
         "showgrid": true,
         "showline": false,
         "showticklabels": true,
         "tickfont": {
          "color": "#000000",
          "family": "Verdana",
          "size": 11
         },
         "ticks": "outside",
         "title": {
          "text": "Time (ms)"
         },
         "zeroline": false
        }
       }
      }
     },
     "metadata": {},
     "output_type": "display_data"
    }
   ],
   "source": [
    "# seed for reproducibility\n",
    "np.random.seed(0)\n",
    "\n",
    "# Define the range of values\n",
    "select = ['tournament_selection', 'fps', 'rank']\n",
    "\n",
    "# Setting previous best parameter as new default value\n",
    "params.update(replace_param)\n",
    "\n",
    "# Print current parameters to use in best_operators_search\n",
    "print('\\033[1mParameters for GA:\\033[0m', end='\\n\\n')\n",
    "print(params, end='\\n\\n')\n",
    "\n",
    "param_list, df = best_operators_search('select', select, params)\n",
    "\n",
    "# Displaying average results of the 100 iterations\n",
    "print('\\033[1mAverage results:', end='\\n')\n",
    "df['const'] = 'const'\n",
    "df_avg = df.groupby('const').mean().reset_index(drop=True).round(3)\n",
    "display(df_avg)\n",
    "\n",
    "# Getting best parameter by fitness & time\n",
    "best_param_fit = df_avg[[col for col in df_avg.columns if col.startswith('Fit_')]].idxmax(axis=1)[0].replace('Fit_', '')\n",
    "best_param_time = df_avg[[col for col in df_avg.columns if col.startswith('Time_')]].idxmin(axis=1)[0].replace('Time_', '')\n",
    "replace_param = {'select': best_param_fit}\n",
    "print(f'\\nBest Fitness: \\033[1m{best_param_fit}\\033[0m\\n\\nBest Time: \\033[1m{best_param_time}\\033[0m', end='\\n\\n')\n",
    "\n",
    "# Plotting results\n",
    "plot_values(data = df, colors = color_palette[:len(select)], layout=2, template='white', grid=True)"
   ]
  },
  {
   "attachments": {},
   "cell_type": "markdown",
   "metadata": {},
   "source": [
    "### __2.4 Population__"
   ]
  },
  {
   "cell_type": "code",
   "execution_count": 16,
   "metadata": {},
   "outputs": [
    {
     "name": "stdout",
     "output_type": "stream",
     "text": [
      "\u001b[1mParameters for GA:\u001b[0m\n",
      "\n",
      "{'n': 12, 'pop': 100, 'gen': 50, 'mut_perc': 0.05, 'cross_perc': 0.75, 'mut': 'swap_mutation', 'cross': 'cycle_cross', 'select': 'tournament_selection'}\n",
      "\n",
      "\u001b[1mAverage results:\n"
     ]
    },
    {
     "data": {
      "text/html": [
       "<div>\n",
       "<style scoped>\n",
       "    .dataframe tbody tr th:only-of-type {\n",
       "        vertical-align: middle;\n",
       "    }\n",
       "\n",
       "    .dataframe tbody tr th {\n",
       "        vertical-align: top;\n",
       "    }\n",
       "\n",
       "    .dataframe thead th {\n",
       "        text-align: right;\n",
       "    }\n",
       "</style>\n",
       "<table border=\"1\" class=\"dataframe\">\n",
       "  <thead>\n",
       "    <tr style=\"text-align: right;\">\n",
       "      <th></th>\n",
       "      <th>Fit_100</th>\n",
       "      <th>Fit_150</th>\n",
       "      <th>Fit_200</th>\n",
       "      <th>Time_100</th>\n",
       "      <th>Time_150</th>\n",
       "      <th>Time_200</th>\n",
       "    </tr>\n",
       "  </thead>\n",
       "  <tbody>\n",
       "    <tr>\n",
       "      <th>0</th>\n",
       "      <td>96.288</td>\n",
       "      <td>96.652</td>\n",
       "      <td>96.818</td>\n",
       "      <td>11.87</td>\n",
       "      <td>18.11</td>\n",
       "      <td>23.36</td>\n",
       "    </tr>\n",
       "  </tbody>\n",
       "</table>\n",
       "</div>"
      ],
      "text/plain": [
       "   Fit_100  Fit_150  Fit_200  Time_100  Time_150  Time_200\n",
       "0   96.288   96.652   96.818     11.87     18.11     23.36"
      ]
     },
     "metadata": {},
     "output_type": "display_data"
    },
    {
     "name": "stdout",
     "output_type": "stream",
     "text": [
      "\n",
      "Best Fitness: \u001b[1m200\u001b[0m\n",
      "\n",
      "Best Time: \u001b[1m100\u001b[0m\n",
      "\n"
     ]
    },
    {
     "data": {
      "application/vnd.plotly.v1+json": {
       "config": {
        "plotlyServerURL": "https://plot.ly"
       },
       "data": [
        {
         "line": {
          "color": "gray",
          "width": 2
         },
         "name": "100",
         "type": "scatter",
         "x": [
          0,
          1,
          2,
          3,
          4,
          5,
          6,
          7,
          8,
          9,
          10,
          11,
          12,
          13,
          14,
          15,
          16,
          17,
          18,
          19,
          20,
          21,
          22,
          23,
          24,
          25,
          26,
          27,
          28,
          29,
          30,
          31,
          32,
          33,
          34,
          35,
          36,
          37,
          38,
          39,
          40,
          41,
          42,
          43,
          44,
          45,
          46,
          47,
          48,
          49,
          50,
          51,
          52,
          53,
          54,
          55,
          56,
          57,
          58,
          59,
          60,
          61,
          62,
          63,
          64,
          65,
          66,
          67,
          68,
          69,
          70,
          71,
          72,
          73,
          74,
          75,
          76,
          77,
          78,
          79,
          80,
          81,
          82,
          83,
          84,
          85,
          86,
          87,
          88,
          89,
          90,
          91,
          92,
          93,
          94,
          95,
          96,
          97,
          98,
          99
         ],
         "y": [
          95.45454545454545,
          95.45454545454545,
          96.96969696969697,
          96.96969696969697,
          96.96969696969697,
          96.96969696969697,
          95.45454545454545,
          96.96969696969697,
          96.96969696969697,
          95.45454545454545,
          96.96969696969697,
          96.96969696969697,
          98.48484848484848,
          95.45454545454545,
          95.45454545454545,
          96.96969696969697,
          95.45454545454545,
          95.45454545454545,
          96.96969696969697,
          95.45454545454545,
          95.45454545454545,
          93.93939393939394,
          95.45454545454545,
          98.48484848484848,
          96.96969696969697,
          96.96969696969697,
          95.45454545454545,
          96.96969696969697,
          95.45454545454545,
          96.96969696969697,
          95.45454545454545,
          96.96969696969697,
          95.45454545454545,
          95.45454545454545,
          96.96969696969697,
          96.96969696969697,
          95.45454545454545,
          95.45454545454545,
          95.45454545454545,
          96.96969696969697,
          96.96969696969697,
          95.45454545454545,
          95.45454545454545,
          96.96969696969697,
          96.96969696969697,
          96.96969696969697,
          95.45454545454545,
          95.45454545454545,
          96.96969696969697,
          95.45454545454545,
          95.45454545454545,
          95.45454545454545,
          95.45454545454545,
          98.48484848484848,
          95.45454545454545,
          96.96969696969697,
          98.48484848484848,
          98.48484848484848,
          95.45454545454545,
          96.96969696969697,
          96.96969696969697,
          96.96969696969697,
          96.96969696969697,
          96.96969696969697,
          95.45454545454545,
          96.96969696969697,
          96.96969696969697,
          95.45454545454545,
          95.45454545454545,
          96.96969696969697,
          96.96969696969697,
          95.45454545454545,
          98.48484848484848,
          96.96969696969697,
          95.45454545454545,
          96.96969696969697,
          95.45454545454545,
          95.45454545454545,
          95.45454545454545,
          95.45454545454545,
          95.45454545454545,
          95.45454545454545,
          98.48484848484848,
          95.45454545454545,
          96.96969696969697,
          95.45454545454545,
          96.96969696969697,
          98.48484848484848,
          95.45454545454545,
          96.96969696969697,
          95.45454545454545,
          95.45454545454545,
          95.45454545454545,
          95.45454545454545,
          95.45454545454545,
          95.45454545454545,
          98.48484848484848,
          96.96969696969697,
          95.45454545454545,
          93.93939393939394
         ]
        },
        {
         "marker": {
          "color": "gray",
          "size": 8
         },
         "mode": "markers",
         "name": "",
         "type": "scatter",
         "x": [
          0,
          99
         ],
         "y": [
          95.45454545454545,
          93.93939393939394
         ]
        },
        {
         "line": {
          "color": "steelblue",
          "width": 2
         },
         "name": "150",
         "type": "scatter",
         "x": [
          0,
          1,
          2,
          3,
          4,
          5,
          6,
          7,
          8,
          9,
          10,
          11,
          12,
          13,
          14,
          15,
          16,
          17,
          18,
          19,
          20,
          21,
          22,
          23,
          24,
          25,
          26,
          27,
          28,
          29,
          30,
          31,
          32,
          33,
          34,
          35,
          36,
          37,
          38,
          39,
          40,
          41,
          42,
          43,
          44,
          45,
          46,
          47,
          48,
          49,
          50,
          51,
          52,
          53,
          54,
          55,
          56,
          57,
          58,
          59,
          60,
          61,
          62,
          63,
          64,
          65,
          66,
          67,
          68,
          69,
          70,
          71,
          72,
          73,
          74,
          75,
          76,
          77,
          78,
          79,
          80,
          81,
          82,
          83,
          84,
          85,
          86,
          87,
          88,
          89,
          90,
          91,
          92,
          93,
          94,
          95,
          96,
          97,
          98,
          99
         ],
         "y": [
          96.96969696969697,
          95.45454545454545,
          98.48484848484848,
          95.45454545454545,
          95.45454545454545,
          98.48484848484848,
          96.96969696969697,
          98.48484848484848,
          98.48484848484848,
          96.96969696969697,
          96.96969696969697,
          96.96969696969697,
          96.96969696969697,
          96.96969696969697,
          95.45454545454545,
          95.45454545454545,
          96.96969696969697,
          98.48484848484848,
          95.45454545454545,
          95.45454545454545,
          96.96969696969697,
          95.45454545454545,
          95.45454545454545,
          95.45454545454545,
          96.96969696969697,
          98.48484848484848,
          96.96969696969697,
          96.96969696969697,
          95.45454545454545,
          95.45454545454545,
          96.96969696969697,
          96.96969696969697,
          95.45454545454545,
          95.45454545454545,
          96.96969696969697,
          96.96969696969697,
          96.96969696969697,
          98.48484848484848,
          98.48484848484848,
          96.96969696969697,
          96.96969696969697,
          96.96969696969697,
          96.96969696969697,
          96.96969696969697,
          96.96969696969697,
          96.96969696969697,
          95.45454545454545,
          98.48484848484848,
          98.48484848484848,
          95.45454545454545,
          95.45454545454545,
          96.96969696969697,
          98.48484848484848,
          96.96969696969697,
          96.96969696969697,
          95.45454545454545,
          96.96969696969697,
          96.96969696969697,
          96.96969696969697,
          96.96969696969697,
          95.45454545454545,
          95.45454545454545,
          96.96969696969697,
          98.48484848484848,
          96.96969696969697,
          95.45454545454545,
          96.96969696969697,
          95.45454545454545,
          96.96969696969697,
          95.45454545454545,
          96.96969696969697,
          95.45454545454545,
          95.45454545454545,
          95.45454545454545,
          96.96969696969697,
          96.96969696969697,
          95.45454545454545,
          95.45454545454545,
          98.48484848484848,
          96.96969696969697,
          96.96969696969697,
          96.96969696969697,
          96.96969696969697,
          96.96969696969697,
          95.45454545454545,
          95.45454545454545,
          95.45454545454545,
          96.96969696969697,
          95.45454545454545,
          96.96969696969697,
          96.96969696969697,
          95.45454545454545,
          98.48484848484848,
          95.45454545454545,
          95.45454545454545,
          96.96969696969697,
          96.96969696969697,
          95.45454545454545,
          96.96969696969697,
          98.48484848484848
         ]
        },
        {
         "marker": {
          "color": "steelblue",
          "size": 8
         },
         "mode": "markers",
         "name": "",
         "type": "scatter",
         "x": [
          0,
          99
         ],
         "y": [
          96.96969696969697,
          98.48484848484848
         ]
        },
        {
         "line": {
          "color": "purple",
          "width": 2
         },
         "name": "200",
         "type": "scatter",
         "x": [
          0,
          1,
          2,
          3,
          4,
          5,
          6,
          7,
          8,
          9,
          10,
          11,
          12,
          13,
          14,
          15,
          16,
          17,
          18,
          19,
          20,
          21,
          22,
          23,
          24,
          25,
          26,
          27,
          28,
          29,
          30,
          31,
          32,
          33,
          34,
          35,
          36,
          37,
          38,
          39,
          40,
          41,
          42,
          43,
          44,
          45,
          46,
          47,
          48,
          49,
          50,
          51,
          52,
          53,
          54,
          55,
          56,
          57,
          58,
          59,
          60,
          61,
          62,
          63,
          64,
          65,
          66,
          67,
          68,
          69,
          70,
          71,
          72,
          73,
          74,
          75,
          76,
          77,
          78,
          79,
          80,
          81,
          82,
          83,
          84,
          85,
          86,
          87,
          88,
          89,
          90,
          91,
          92,
          93,
          94,
          95,
          96,
          97,
          98,
          99
         ],
         "y": [
          96.96969696969697,
          95.45454545454545,
          96.96969696969697,
          96.96969696969697,
          96.96969696969697,
          96.96969696969697,
          95.45454545454545,
          95.45454545454545,
          95.45454545454545,
          96.96969696969697,
          95.45454545454545,
          96.96969696969697,
          96.96969696969697,
          96.96969696969697,
          98.48484848484848,
          96.96969696969697,
          95.45454545454545,
          96.96969696969697,
          96.96969696969697,
          95.45454545454545,
          96.96969696969697,
          95.45454545454545,
          95.45454545454545,
          96.96969696969697,
          96.96969696969697,
          96.96969696969697,
          98.48484848484848,
          95.45454545454545,
          95.45454545454545,
          95.45454545454545,
          96.96969696969697,
          98.48484848484848,
          96.96969696969697,
          96.96969696969697,
          96.96969696969697,
          96.96969696969697,
          96.96969696969697,
          96.96969696969697,
          95.45454545454545,
          98.48484848484848,
          96.96969696969697,
          96.96969696969697,
          96.96969696969697,
          96.96969696969697,
          96.96969696969697,
          96.96969696969697,
          96.96969696969697,
          98.48484848484848,
          95.45454545454545,
          95.45454545454545,
          96.96969696969697,
          96.96969696969697,
          96.96969696969697,
          96.96969696969697,
          96.96969696969697,
          98.48484848484848,
          95.45454545454545,
          95.45454545454545,
          96.96969696969697,
          98.48484848484848,
          96.96969696969697,
          96.96969696969697,
          96.96969696969697,
          95.45454545454545,
          96.96969696969697,
          96.96969696969697,
          96.96969696969697,
          96.96969696969697,
          95.45454545454545,
          96.96969696969697,
          96.96969696969697,
          96.96969696969697,
          96.96969696969697,
          96.96969696969697,
          98.48484848484848,
          98.48484848484848,
          95.45454545454545,
          95.45454545454545,
          96.96969696969697,
          96.96969696969697,
          96.96969696969697,
          96.96969696969697,
          98.48484848484848,
          96.96969696969697,
          96.96969696969697,
          96.96969696969697,
          96.96969696969697,
          95.45454545454545,
          96.96969696969697,
          98.48484848484848,
          96.96969696969697,
          96.96969696969697,
          96.96969696969697,
          96.96969696969697,
          96.96969696969697,
          98.48484848484848,
          96.96969696969697,
          96.96969696969697,
          96.96969696969697,
          96.96969696969697
         ]
        },
        {
         "marker": {
          "color": "purple",
          "size": 8
         },
         "mode": "markers",
         "name": "",
         "type": "scatter",
         "x": [
          0,
          99
         ],
         "y": [
          96.96969696969697,
          96.96969696969697
         ]
        }
       ],
       "layout": {
        "font": {
         "family": "Verdana",
         "size": 14
        },
        "template": {
         "data": {
          "bar": [
           {
            "error_x": {
             "color": "#2a3f5f"
            },
            "error_y": {
             "color": "#2a3f5f"
            },
            "marker": {
             "line": {
              "color": "white",
              "width": 0.5
             },
             "pattern": {
              "fillmode": "overlay",
              "size": 10,
              "solidity": 0.2
             }
            },
            "type": "bar"
           }
          ],
          "barpolar": [
           {
            "marker": {
             "line": {
              "color": "white",
              "width": 0.5
             },
             "pattern": {
              "fillmode": "overlay",
              "size": 10,
              "solidity": 0.2
             }
            },
            "type": "barpolar"
           }
          ],
          "carpet": [
           {
            "aaxis": {
             "endlinecolor": "#2a3f5f",
             "gridcolor": "#C8D4E3",
             "linecolor": "#C8D4E3",
             "minorgridcolor": "#C8D4E3",
             "startlinecolor": "#2a3f5f"
            },
            "baxis": {
             "endlinecolor": "#2a3f5f",
             "gridcolor": "#C8D4E3",
             "linecolor": "#C8D4E3",
             "minorgridcolor": "#C8D4E3",
             "startlinecolor": "#2a3f5f"
            },
            "type": "carpet"
           }
          ],
          "choropleth": [
           {
            "colorbar": {
             "outlinewidth": 0,
             "ticks": ""
            },
            "type": "choropleth"
           }
          ],
          "contour": [
           {
            "colorbar": {
             "outlinewidth": 0,
             "ticks": ""
            },
            "colorscale": [
             [
              0,
              "#0d0887"
             ],
             [
              0.1111111111111111,
              "#46039f"
             ],
             [
              0.2222222222222222,
              "#7201a8"
             ],
             [
              0.3333333333333333,
              "#9c179e"
             ],
             [
              0.4444444444444444,
              "#bd3786"
             ],
             [
              0.5555555555555556,
              "#d8576b"
             ],
             [
              0.6666666666666666,
              "#ed7953"
             ],
             [
              0.7777777777777778,
              "#fb9f3a"
             ],
             [
              0.8888888888888888,
              "#fdca26"
             ],
             [
              1,
              "#f0f921"
             ]
            ],
            "type": "contour"
           }
          ],
          "contourcarpet": [
           {
            "colorbar": {
             "outlinewidth": 0,
             "ticks": ""
            },
            "type": "contourcarpet"
           }
          ],
          "heatmap": [
           {
            "colorbar": {
             "outlinewidth": 0,
             "ticks": ""
            },
            "colorscale": [
             [
              0,
              "#0d0887"
             ],
             [
              0.1111111111111111,
              "#46039f"
             ],
             [
              0.2222222222222222,
              "#7201a8"
             ],
             [
              0.3333333333333333,
              "#9c179e"
             ],
             [
              0.4444444444444444,
              "#bd3786"
             ],
             [
              0.5555555555555556,
              "#d8576b"
             ],
             [
              0.6666666666666666,
              "#ed7953"
             ],
             [
              0.7777777777777778,
              "#fb9f3a"
             ],
             [
              0.8888888888888888,
              "#fdca26"
             ],
             [
              1,
              "#f0f921"
             ]
            ],
            "type": "heatmap"
           }
          ],
          "heatmapgl": [
           {
            "colorbar": {
             "outlinewidth": 0,
             "ticks": ""
            },
            "colorscale": [
             [
              0,
              "#0d0887"
             ],
             [
              0.1111111111111111,
              "#46039f"
             ],
             [
              0.2222222222222222,
              "#7201a8"
             ],
             [
              0.3333333333333333,
              "#9c179e"
             ],
             [
              0.4444444444444444,
              "#bd3786"
             ],
             [
              0.5555555555555556,
              "#d8576b"
             ],
             [
              0.6666666666666666,
              "#ed7953"
             ],
             [
              0.7777777777777778,
              "#fb9f3a"
             ],
             [
              0.8888888888888888,
              "#fdca26"
             ],
             [
              1,
              "#f0f921"
             ]
            ],
            "type": "heatmapgl"
           }
          ],
          "histogram": [
           {
            "marker": {
             "pattern": {
              "fillmode": "overlay",
              "size": 10,
              "solidity": 0.2
             }
            },
            "type": "histogram"
           }
          ],
          "histogram2d": [
           {
            "colorbar": {
             "outlinewidth": 0,
             "ticks": ""
            },
            "colorscale": [
             [
              0,
              "#0d0887"
             ],
             [
              0.1111111111111111,
              "#46039f"
             ],
             [
              0.2222222222222222,
              "#7201a8"
             ],
             [
              0.3333333333333333,
              "#9c179e"
             ],
             [
              0.4444444444444444,
              "#bd3786"
             ],
             [
              0.5555555555555556,
              "#d8576b"
             ],
             [
              0.6666666666666666,
              "#ed7953"
             ],
             [
              0.7777777777777778,
              "#fb9f3a"
             ],
             [
              0.8888888888888888,
              "#fdca26"
             ],
             [
              1,
              "#f0f921"
             ]
            ],
            "type": "histogram2d"
           }
          ],
          "histogram2dcontour": [
           {
            "colorbar": {
             "outlinewidth": 0,
             "ticks": ""
            },
            "colorscale": [
             [
              0,
              "#0d0887"
             ],
             [
              0.1111111111111111,
              "#46039f"
             ],
             [
              0.2222222222222222,
              "#7201a8"
             ],
             [
              0.3333333333333333,
              "#9c179e"
             ],
             [
              0.4444444444444444,
              "#bd3786"
             ],
             [
              0.5555555555555556,
              "#d8576b"
             ],
             [
              0.6666666666666666,
              "#ed7953"
             ],
             [
              0.7777777777777778,
              "#fb9f3a"
             ],
             [
              0.8888888888888888,
              "#fdca26"
             ],
             [
              1,
              "#f0f921"
             ]
            ],
            "type": "histogram2dcontour"
           }
          ],
          "mesh3d": [
           {
            "colorbar": {
             "outlinewidth": 0,
             "ticks": ""
            },
            "type": "mesh3d"
           }
          ],
          "parcoords": [
           {
            "line": {
             "colorbar": {
              "outlinewidth": 0,
              "ticks": ""
             }
            },
            "type": "parcoords"
           }
          ],
          "pie": [
           {
            "automargin": true,
            "type": "pie"
           }
          ],
          "scatter": [
           {
            "fillpattern": {
             "fillmode": "overlay",
             "size": 10,
             "solidity": 0.2
            },
            "type": "scatter"
           }
          ],
          "scatter3d": [
           {
            "line": {
             "colorbar": {
              "outlinewidth": 0,
              "ticks": ""
             }
            },
            "marker": {
             "colorbar": {
              "outlinewidth": 0,
              "ticks": ""
             }
            },
            "type": "scatter3d"
           }
          ],
          "scattercarpet": [
           {
            "marker": {
             "colorbar": {
              "outlinewidth": 0,
              "ticks": ""
             }
            },
            "type": "scattercarpet"
           }
          ],
          "scattergeo": [
           {
            "marker": {
             "colorbar": {
              "outlinewidth": 0,
              "ticks": ""
             }
            },
            "type": "scattergeo"
           }
          ],
          "scattergl": [
           {
            "marker": {
             "colorbar": {
              "outlinewidth": 0,
              "ticks": ""
             }
            },
            "type": "scattergl"
           }
          ],
          "scattermapbox": [
           {
            "marker": {
             "colorbar": {
              "outlinewidth": 0,
              "ticks": ""
             }
            },
            "type": "scattermapbox"
           }
          ],
          "scatterpolar": [
           {
            "marker": {
             "colorbar": {
              "outlinewidth": 0,
              "ticks": ""
             }
            },
            "type": "scatterpolar"
           }
          ],
          "scatterpolargl": [
           {
            "marker": {
             "colorbar": {
              "outlinewidth": 0,
              "ticks": ""
             }
            },
            "type": "scatterpolargl"
           }
          ],
          "scatterternary": [
           {
            "marker": {
             "colorbar": {
              "outlinewidth": 0,
              "ticks": ""
             }
            },
            "type": "scatterternary"
           }
          ],
          "surface": [
           {
            "colorbar": {
             "outlinewidth": 0,
             "ticks": ""
            },
            "colorscale": [
             [
              0,
              "#0d0887"
             ],
             [
              0.1111111111111111,
              "#46039f"
             ],
             [
              0.2222222222222222,
              "#7201a8"
             ],
             [
              0.3333333333333333,
              "#9c179e"
             ],
             [
              0.4444444444444444,
              "#bd3786"
             ],
             [
              0.5555555555555556,
              "#d8576b"
             ],
             [
              0.6666666666666666,
              "#ed7953"
             ],
             [
              0.7777777777777778,
              "#fb9f3a"
             ],
             [
              0.8888888888888888,
              "#fdca26"
             ],
             [
              1,
              "#f0f921"
             ]
            ],
            "type": "surface"
           }
          ],
          "table": [
           {
            "cells": {
             "fill": {
              "color": "#EBF0F8"
             },
             "line": {
              "color": "white"
             }
            },
            "header": {
             "fill": {
              "color": "#C8D4E3"
             },
             "line": {
              "color": "white"
             }
            },
            "type": "table"
           }
          ]
         },
         "layout": {
          "annotationdefaults": {
           "arrowcolor": "#2a3f5f",
           "arrowhead": 0,
           "arrowwidth": 1
          },
          "autotypenumbers": "strict",
          "coloraxis": {
           "colorbar": {
            "outlinewidth": 0,
            "ticks": ""
           }
          },
          "colorscale": {
           "diverging": [
            [
             0,
             "#8e0152"
            ],
            [
             0.1,
             "#c51b7d"
            ],
            [
             0.2,
             "#de77ae"
            ],
            [
             0.3,
             "#f1b6da"
            ],
            [
             0.4,
             "#fde0ef"
            ],
            [
             0.5,
             "#f7f7f7"
            ],
            [
             0.6,
             "#e6f5d0"
            ],
            [
             0.7,
             "#b8e186"
            ],
            [
             0.8,
             "#7fbc41"
            ],
            [
             0.9,
             "#4d9221"
            ],
            [
             1,
             "#276419"
            ]
           ],
           "sequential": [
            [
             0,
             "#0d0887"
            ],
            [
             0.1111111111111111,
             "#46039f"
            ],
            [
             0.2222222222222222,
             "#7201a8"
            ],
            [
             0.3333333333333333,
             "#9c179e"
            ],
            [
             0.4444444444444444,
             "#bd3786"
            ],
            [
             0.5555555555555556,
             "#d8576b"
            ],
            [
             0.6666666666666666,
             "#ed7953"
            ],
            [
             0.7777777777777778,
             "#fb9f3a"
            ],
            [
             0.8888888888888888,
             "#fdca26"
            ],
            [
             1,
             "#f0f921"
            ]
           ],
           "sequentialminus": [
            [
             0,
             "#0d0887"
            ],
            [
             0.1111111111111111,
             "#46039f"
            ],
            [
             0.2222222222222222,
             "#7201a8"
            ],
            [
             0.3333333333333333,
             "#9c179e"
            ],
            [
             0.4444444444444444,
             "#bd3786"
            ],
            [
             0.5555555555555556,
             "#d8576b"
            ],
            [
             0.6666666666666666,
             "#ed7953"
            ],
            [
             0.7777777777777778,
             "#fb9f3a"
            ],
            [
             0.8888888888888888,
             "#fdca26"
            ],
            [
             1,
             "#f0f921"
            ]
           ]
          },
          "colorway": [
           "#636efa",
           "#EF553B",
           "#00cc96",
           "#ab63fa",
           "#FFA15A",
           "#19d3f3",
           "#FF6692",
           "#B6E880",
           "#FF97FF",
           "#FECB52"
          ],
          "font": {
           "color": "#2a3f5f"
          },
          "geo": {
           "bgcolor": "white",
           "lakecolor": "white",
           "landcolor": "white",
           "showlakes": true,
           "showland": true,
           "subunitcolor": "#C8D4E3"
          },
          "hoverlabel": {
           "align": "left"
          },
          "hovermode": "closest",
          "mapbox": {
           "style": "light"
          },
          "paper_bgcolor": "white",
          "plot_bgcolor": "white",
          "polar": {
           "angularaxis": {
            "gridcolor": "#EBF0F8",
            "linecolor": "#EBF0F8",
            "ticks": ""
           },
           "bgcolor": "white",
           "radialaxis": {
            "gridcolor": "#EBF0F8",
            "linecolor": "#EBF0F8",
            "ticks": ""
           }
          },
          "scene": {
           "xaxis": {
            "backgroundcolor": "white",
            "gridcolor": "#DFE8F3",
            "gridwidth": 2,
            "linecolor": "#EBF0F8",
            "showbackground": true,
            "ticks": "",
            "zerolinecolor": "#EBF0F8"
           },
           "yaxis": {
            "backgroundcolor": "white",
            "gridcolor": "#DFE8F3",
            "gridwidth": 2,
            "linecolor": "#EBF0F8",
            "showbackground": true,
            "ticks": "",
            "zerolinecolor": "#EBF0F8"
           },
           "zaxis": {
            "backgroundcolor": "white",
            "gridcolor": "#DFE8F3",
            "gridwidth": 2,
            "linecolor": "#EBF0F8",
            "showbackground": true,
            "ticks": "",
            "zerolinecolor": "#EBF0F8"
           }
          },
          "shapedefaults": {
           "line": {
            "color": "#2a3f5f"
           }
          },
          "ternary": {
           "aaxis": {
            "gridcolor": "#DFE8F3",
            "linecolor": "#A2B1C6",
            "ticks": ""
           },
           "baxis": {
            "gridcolor": "#DFE8F3",
            "linecolor": "#A2B1C6",
            "ticks": ""
           },
           "bgcolor": "white",
           "caxis": {
            "gridcolor": "#DFE8F3",
            "linecolor": "#A2B1C6",
            "ticks": ""
           }
          },
          "title": {
           "x": 0.05
          },
          "xaxis": {
           "automargin": true,
           "gridcolor": "#EBF0F8",
           "linecolor": "#EBF0F8",
           "ticks": "",
           "title": {
            "standoff": 15
           },
           "zerolinecolor": "#EBF0F8",
           "zerolinewidth": 2
          },
          "yaxis": {
           "automargin": true,
           "gridcolor": "#EBF0F8",
           "linecolor": "#EBF0F8",
           "ticks": "",
           "title": {
            "standoff": 15
           },
           "zerolinecolor": "#EBF0F8",
           "zerolinewidth": 2
          }
         }
        },
        "title": {
         "text": "Fitness Comparison"
        },
        "xaxis": {
         "linewidth": 1.5,
         "showgrid": true,
         "showline": true,
         "showticklabels": true,
         "tickfont": {
          "color": "#000000",
          "family": "Verdana",
          "size": 11
         },
         "ticks": "outside",
         "title": {
          "text": "Iterations"
         }
        },
        "yaxis": {
         "showgrid": true,
         "showline": false,
         "showticklabels": true,
         "tickfont": {
          "color": "#000000",
          "family": "Verdana",
          "size": 11
         },
         "ticks": "outside",
         "title": {
          "text": "Fitness"
         },
         "zeroline": false
        }
       }
      }
     },
     "metadata": {},
     "output_type": "display_data"
    },
    {
     "data": {
      "application/vnd.plotly.v1+json": {
       "config": {
        "plotlyServerURL": "https://plot.ly"
       },
       "data": [
        {
         "line": {
          "color": "gray",
          "width": 2
         },
         "name": "100",
         "type": "scatter",
         "x": [
          0,
          1,
          2,
          3,
          4,
          5,
          6,
          7,
          8,
          9,
          10,
          11,
          12,
          13,
          14,
          15,
          16,
          17,
          18,
          19,
          20,
          21,
          22,
          23,
          24,
          25,
          26,
          27,
          28,
          29,
          30,
          31,
          32,
          33,
          34,
          35,
          36,
          37,
          38,
          39,
          40,
          41,
          42,
          43,
          44,
          45,
          46,
          47,
          48,
          49,
          50,
          51,
          52,
          53,
          54,
          55,
          56,
          57,
          58,
          59,
          60,
          61,
          62,
          63,
          64,
          65,
          66,
          67,
          68,
          69,
          70,
          71,
          72,
          73,
          74,
          75,
          76,
          77,
          78,
          79,
          80,
          81,
          82,
          83,
          84,
          85,
          86,
          87,
          88,
          89,
          90,
          91,
          92,
          93,
          94,
          95,
          96,
          97,
          98,
          99
         ],
         "y": [
          13,
          18,
          12,
          12,
          12,
          12,
          12,
          12,
          12,
          11,
          12,
          12,
          12,
          11,
          12,
          12,
          11,
          12,
          12,
          12,
          12,
          11,
          12,
          12,
          12,
          11,
          11,
          12,
          12,
          12,
          11,
          12,
          11,
          11,
          12,
          11,
          12,
          11,
          11,
          12,
          12,
          11,
          12,
          12,
          12,
          12,
          12,
          12,
          11,
          12,
          11,
          12,
          12,
          11,
          12,
          11,
          12,
          12,
          11,
          12,
          11,
          12,
          12,
          12,
          11,
          12,
          12,
          12,
          11,
          12,
          12,
          12,
          12,
          13,
          12,
          12,
          12,
          12,
          12,
          12,
          12,
          12,
          12,
          12,
          12,
          12,
          12,
          12,
          12,
          12,
          12,
          12,
          12,
          12,
          12,
          12,
          12,
          12,
          12,
          12
         ]
        },
        {
         "marker": {
          "color": "gray",
          "size": 8
         },
         "mode": "markers",
         "name": "",
         "type": "scatter",
         "x": [
          0,
          99
         ],
         "y": [
          13,
          12
         ]
        },
        {
         "line": {
          "color": "steelblue",
          "width": 2
         },
         "name": "150",
         "type": "scatter",
         "x": [
          0,
          1,
          2,
          3,
          4,
          5,
          6,
          7,
          8,
          9,
          10,
          11,
          12,
          13,
          14,
          15,
          16,
          17,
          18,
          19,
          20,
          21,
          22,
          23,
          24,
          25,
          26,
          27,
          28,
          29,
          30,
          31,
          32,
          33,
          34,
          35,
          36,
          37,
          38,
          39,
          40,
          41,
          42,
          43,
          44,
          45,
          46,
          47,
          48,
          49,
          50,
          51,
          52,
          53,
          54,
          55,
          56,
          57,
          58,
          59,
          60,
          61,
          62,
          63,
          64,
          65,
          66,
          67,
          68,
          69,
          70,
          71,
          72,
          73,
          74,
          75,
          76,
          77,
          78,
          79,
          80,
          81,
          82,
          83,
          84,
          85,
          86,
          87,
          88,
          89,
          90,
          91,
          92,
          93,
          94,
          95,
          96,
          97,
          98,
          99
         ],
         "y": [
          18,
          18,
          18,
          18,
          18,
          19,
          18,
          18,
          18,
          18,
          18,
          18,
          19,
          18,
          18,
          17,
          18,
          19,
          18,
          17,
          18,
          18,
          18,
          18,
          18,
          18,
          18,
          18,
          18,
          18,
          18,
          18,
          18,
          18,
          19,
          18,
          18,
          18,
          18,
          18,
          19,
          19,
          18,
          19,
          19,
          18,
          17,
          18,
          18,
          17,
          18,
          18,
          18,
          18,
          19,
          18,
          18,
          18,
          19,
          18,
          18,
          18,
          18,
          19,
          18,
          18,
          18,
          19,
          18,
          18,
          18,
          18,
          18,
          19,
          19,
          18,
          19,
          18,
          18,
          19,
          18,
          18,
          18,
          18,
          18,
          17,
          17,
          17,
          18,
          18,
          18,
          18,
          18,
          18,
          18,
          18,
          18,
          18,
          19,
          19
         ]
        },
        {
         "marker": {
          "color": "steelblue",
          "size": 8
         },
         "mode": "markers",
         "name": "",
         "type": "scatter",
         "x": [
          0,
          99
         ],
         "y": [
          18,
          19
         ]
        },
        {
         "line": {
          "color": "purple",
          "width": 2
         },
         "name": "200",
         "type": "scatter",
         "x": [
          0,
          1,
          2,
          3,
          4,
          5,
          6,
          7,
          8,
          9,
          10,
          11,
          12,
          13,
          14,
          15,
          16,
          17,
          18,
          19,
          20,
          21,
          22,
          23,
          24,
          25,
          26,
          27,
          28,
          29,
          30,
          31,
          32,
          33,
          34,
          35,
          36,
          37,
          38,
          39,
          40,
          41,
          42,
          43,
          44,
          45,
          46,
          47,
          48,
          49,
          50,
          51,
          52,
          53,
          54,
          55,
          56,
          57,
          58,
          59,
          60,
          61,
          62,
          63,
          64,
          65,
          66,
          67,
          68,
          69,
          70,
          71,
          72,
          73,
          74,
          75,
          76,
          77,
          78,
          79,
          80,
          81,
          82,
          83,
          84,
          85,
          86,
          87,
          88,
          89,
          90,
          91,
          92,
          93,
          94,
          95,
          96,
          97,
          98,
          99
         ],
         "y": [
          23,
          23,
          24,
          24,
          23,
          24,
          23,
          23,
          23,
          24,
          23,
          24,
          25,
          24,
          23,
          23,
          23,
          23,
          23,
          23,
          23,
          23,
          23,
          23,
          25,
          25,
          24,
          23,
          23,
          23,
          24,
          25,
          23,
          23,
          24,
          23,
          25,
          25,
          23,
          24,
          24,
          23,
          24,
          23,
          23,
          24,
          23,
          24,
          23,
          23,
          23,
          23,
          23,
          23,
          24,
          23,
          22,
          23,
          23,
          23,
          23,
          23,
          23,
          23,
          24,
          24,
          23,
          23,
          23,
          23,
          23,
          23,
          23,
          24,
          24,
          23,
          23,
          22,
          23,
          23,
          23,
          24,
          24,
          23,
          24,
          24,
          23,
          23,
          23,
          24,
          23,
          23,
          23,
          23,
          22,
          24,
          24,
          24,
          23,
          23
         ]
        },
        {
         "marker": {
          "color": "purple",
          "size": 8
         },
         "mode": "markers",
         "name": "",
         "type": "scatter",
         "x": [
          0,
          99
         ],
         "y": [
          23,
          23
         ]
        }
       ],
       "layout": {
        "font": {
         "family": "Verdana",
         "size": 14
        },
        "template": {
         "data": {
          "bar": [
           {
            "error_x": {
             "color": "#2a3f5f"
            },
            "error_y": {
             "color": "#2a3f5f"
            },
            "marker": {
             "line": {
              "color": "white",
              "width": 0.5
             },
             "pattern": {
              "fillmode": "overlay",
              "size": 10,
              "solidity": 0.2
             }
            },
            "type": "bar"
           }
          ],
          "barpolar": [
           {
            "marker": {
             "line": {
              "color": "white",
              "width": 0.5
             },
             "pattern": {
              "fillmode": "overlay",
              "size": 10,
              "solidity": 0.2
             }
            },
            "type": "barpolar"
           }
          ],
          "carpet": [
           {
            "aaxis": {
             "endlinecolor": "#2a3f5f",
             "gridcolor": "#C8D4E3",
             "linecolor": "#C8D4E3",
             "minorgridcolor": "#C8D4E3",
             "startlinecolor": "#2a3f5f"
            },
            "baxis": {
             "endlinecolor": "#2a3f5f",
             "gridcolor": "#C8D4E3",
             "linecolor": "#C8D4E3",
             "minorgridcolor": "#C8D4E3",
             "startlinecolor": "#2a3f5f"
            },
            "type": "carpet"
           }
          ],
          "choropleth": [
           {
            "colorbar": {
             "outlinewidth": 0,
             "ticks": ""
            },
            "type": "choropleth"
           }
          ],
          "contour": [
           {
            "colorbar": {
             "outlinewidth": 0,
             "ticks": ""
            },
            "colorscale": [
             [
              0,
              "#0d0887"
             ],
             [
              0.1111111111111111,
              "#46039f"
             ],
             [
              0.2222222222222222,
              "#7201a8"
             ],
             [
              0.3333333333333333,
              "#9c179e"
             ],
             [
              0.4444444444444444,
              "#bd3786"
             ],
             [
              0.5555555555555556,
              "#d8576b"
             ],
             [
              0.6666666666666666,
              "#ed7953"
             ],
             [
              0.7777777777777778,
              "#fb9f3a"
             ],
             [
              0.8888888888888888,
              "#fdca26"
             ],
             [
              1,
              "#f0f921"
             ]
            ],
            "type": "contour"
           }
          ],
          "contourcarpet": [
           {
            "colorbar": {
             "outlinewidth": 0,
             "ticks": ""
            },
            "type": "contourcarpet"
           }
          ],
          "heatmap": [
           {
            "colorbar": {
             "outlinewidth": 0,
             "ticks": ""
            },
            "colorscale": [
             [
              0,
              "#0d0887"
             ],
             [
              0.1111111111111111,
              "#46039f"
             ],
             [
              0.2222222222222222,
              "#7201a8"
             ],
             [
              0.3333333333333333,
              "#9c179e"
             ],
             [
              0.4444444444444444,
              "#bd3786"
             ],
             [
              0.5555555555555556,
              "#d8576b"
             ],
             [
              0.6666666666666666,
              "#ed7953"
             ],
             [
              0.7777777777777778,
              "#fb9f3a"
             ],
             [
              0.8888888888888888,
              "#fdca26"
             ],
             [
              1,
              "#f0f921"
             ]
            ],
            "type": "heatmap"
           }
          ],
          "heatmapgl": [
           {
            "colorbar": {
             "outlinewidth": 0,
             "ticks": ""
            },
            "colorscale": [
             [
              0,
              "#0d0887"
             ],
             [
              0.1111111111111111,
              "#46039f"
             ],
             [
              0.2222222222222222,
              "#7201a8"
             ],
             [
              0.3333333333333333,
              "#9c179e"
             ],
             [
              0.4444444444444444,
              "#bd3786"
             ],
             [
              0.5555555555555556,
              "#d8576b"
             ],
             [
              0.6666666666666666,
              "#ed7953"
             ],
             [
              0.7777777777777778,
              "#fb9f3a"
             ],
             [
              0.8888888888888888,
              "#fdca26"
             ],
             [
              1,
              "#f0f921"
             ]
            ],
            "type": "heatmapgl"
           }
          ],
          "histogram": [
           {
            "marker": {
             "pattern": {
              "fillmode": "overlay",
              "size": 10,
              "solidity": 0.2
             }
            },
            "type": "histogram"
           }
          ],
          "histogram2d": [
           {
            "colorbar": {
             "outlinewidth": 0,
             "ticks": ""
            },
            "colorscale": [
             [
              0,
              "#0d0887"
             ],
             [
              0.1111111111111111,
              "#46039f"
             ],
             [
              0.2222222222222222,
              "#7201a8"
             ],
             [
              0.3333333333333333,
              "#9c179e"
             ],
             [
              0.4444444444444444,
              "#bd3786"
             ],
             [
              0.5555555555555556,
              "#d8576b"
             ],
             [
              0.6666666666666666,
              "#ed7953"
             ],
             [
              0.7777777777777778,
              "#fb9f3a"
             ],
             [
              0.8888888888888888,
              "#fdca26"
             ],
             [
              1,
              "#f0f921"
             ]
            ],
            "type": "histogram2d"
           }
          ],
          "histogram2dcontour": [
           {
            "colorbar": {
             "outlinewidth": 0,
             "ticks": ""
            },
            "colorscale": [
             [
              0,
              "#0d0887"
             ],
             [
              0.1111111111111111,
              "#46039f"
             ],
             [
              0.2222222222222222,
              "#7201a8"
             ],
             [
              0.3333333333333333,
              "#9c179e"
             ],
             [
              0.4444444444444444,
              "#bd3786"
             ],
             [
              0.5555555555555556,
              "#d8576b"
             ],
             [
              0.6666666666666666,
              "#ed7953"
             ],
             [
              0.7777777777777778,
              "#fb9f3a"
             ],
             [
              0.8888888888888888,
              "#fdca26"
             ],
             [
              1,
              "#f0f921"
             ]
            ],
            "type": "histogram2dcontour"
           }
          ],
          "mesh3d": [
           {
            "colorbar": {
             "outlinewidth": 0,
             "ticks": ""
            },
            "type": "mesh3d"
           }
          ],
          "parcoords": [
           {
            "line": {
             "colorbar": {
              "outlinewidth": 0,
              "ticks": ""
             }
            },
            "type": "parcoords"
           }
          ],
          "pie": [
           {
            "automargin": true,
            "type": "pie"
           }
          ],
          "scatter": [
           {
            "fillpattern": {
             "fillmode": "overlay",
             "size": 10,
             "solidity": 0.2
            },
            "type": "scatter"
           }
          ],
          "scatter3d": [
           {
            "line": {
             "colorbar": {
              "outlinewidth": 0,
              "ticks": ""
             }
            },
            "marker": {
             "colorbar": {
              "outlinewidth": 0,
              "ticks": ""
             }
            },
            "type": "scatter3d"
           }
          ],
          "scattercarpet": [
           {
            "marker": {
             "colorbar": {
              "outlinewidth": 0,
              "ticks": ""
             }
            },
            "type": "scattercarpet"
           }
          ],
          "scattergeo": [
           {
            "marker": {
             "colorbar": {
              "outlinewidth": 0,
              "ticks": ""
             }
            },
            "type": "scattergeo"
           }
          ],
          "scattergl": [
           {
            "marker": {
             "colorbar": {
              "outlinewidth": 0,
              "ticks": ""
             }
            },
            "type": "scattergl"
           }
          ],
          "scattermapbox": [
           {
            "marker": {
             "colorbar": {
              "outlinewidth": 0,
              "ticks": ""
             }
            },
            "type": "scattermapbox"
           }
          ],
          "scatterpolar": [
           {
            "marker": {
             "colorbar": {
              "outlinewidth": 0,
              "ticks": ""
             }
            },
            "type": "scatterpolar"
           }
          ],
          "scatterpolargl": [
           {
            "marker": {
             "colorbar": {
              "outlinewidth": 0,
              "ticks": ""
             }
            },
            "type": "scatterpolargl"
           }
          ],
          "scatterternary": [
           {
            "marker": {
             "colorbar": {
              "outlinewidth": 0,
              "ticks": ""
             }
            },
            "type": "scatterternary"
           }
          ],
          "surface": [
           {
            "colorbar": {
             "outlinewidth": 0,
             "ticks": ""
            },
            "colorscale": [
             [
              0,
              "#0d0887"
             ],
             [
              0.1111111111111111,
              "#46039f"
             ],
             [
              0.2222222222222222,
              "#7201a8"
             ],
             [
              0.3333333333333333,
              "#9c179e"
             ],
             [
              0.4444444444444444,
              "#bd3786"
             ],
             [
              0.5555555555555556,
              "#d8576b"
             ],
             [
              0.6666666666666666,
              "#ed7953"
             ],
             [
              0.7777777777777778,
              "#fb9f3a"
             ],
             [
              0.8888888888888888,
              "#fdca26"
             ],
             [
              1,
              "#f0f921"
             ]
            ],
            "type": "surface"
           }
          ],
          "table": [
           {
            "cells": {
             "fill": {
              "color": "#EBF0F8"
             },
             "line": {
              "color": "white"
             }
            },
            "header": {
             "fill": {
              "color": "#C8D4E3"
             },
             "line": {
              "color": "white"
             }
            },
            "type": "table"
           }
          ]
         },
         "layout": {
          "annotationdefaults": {
           "arrowcolor": "#2a3f5f",
           "arrowhead": 0,
           "arrowwidth": 1
          },
          "autotypenumbers": "strict",
          "coloraxis": {
           "colorbar": {
            "outlinewidth": 0,
            "ticks": ""
           }
          },
          "colorscale": {
           "diverging": [
            [
             0,
             "#8e0152"
            ],
            [
             0.1,
             "#c51b7d"
            ],
            [
             0.2,
             "#de77ae"
            ],
            [
             0.3,
             "#f1b6da"
            ],
            [
             0.4,
             "#fde0ef"
            ],
            [
             0.5,
             "#f7f7f7"
            ],
            [
             0.6,
             "#e6f5d0"
            ],
            [
             0.7,
             "#b8e186"
            ],
            [
             0.8,
             "#7fbc41"
            ],
            [
             0.9,
             "#4d9221"
            ],
            [
             1,
             "#276419"
            ]
           ],
           "sequential": [
            [
             0,
             "#0d0887"
            ],
            [
             0.1111111111111111,
             "#46039f"
            ],
            [
             0.2222222222222222,
             "#7201a8"
            ],
            [
             0.3333333333333333,
             "#9c179e"
            ],
            [
             0.4444444444444444,
             "#bd3786"
            ],
            [
             0.5555555555555556,
             "#d8576b"
            ],
            [
             0.6666666666666666,
             "#ed7953"
            ],
            [
             0.7777777777777778,
             "#fb9f3a"
            ],
            [
             0.8888888888888888,
             "#fdca26"
            ],
            [
             1,
             "#f0f921"
            ]
           ],
           "sequentialminus": [
            [
             0,
             "#0d0887"
            ],
            [
             0.1111111111111111,
             "#46039f"
            ],
            [
             0.2222222222222222,
             "#7201a8"
            ],
            [
             0.3333333333333333,
             "#9c179e"
            ],
            [
             0.4444444444444444,
             "#bd3786"
            ],
            [
             0.5555555555555556,
             "#d8576b"
            ],
            [
             0.6666666666666666,
             "#ed7953"
            ],
            [
             0.7777777777777778,
             "#fb9f3a"
            ],
            [
             0.8888888888888888,
             "#fdca26"
            ],
            [
             1,
             "#f0f921"
            ]
           ]
          },
          "colorway": [
           "#636efa",
           "#EF553B",
           "#00cc96",
           "#ab63fa",
           "#FFA15A",
           "#19d3f3",
           "#FF6692",
           "#B6E880",
           "#FF97FF",
           "#FECB52"
          ],
          "font": {
           "color": "#2a3f5f"
          },
          "geo": {
           "bgcolor": "white",
           "lakecolor": "white",
           "landcolor": "white",
           "showlakes": true,
           "showland": true,
           "subunitcolor": "#C8D4E3"
          },
          "hoverlabel": {
           "align": "left"
          },
          "hovermode": "closest",
          "mapbox": {
           "style": "light"
          },
          "paper_bgcolor": "white",
          "plot_bgcolor": "white",
          "polar": {
           "angularaxis": {
            "gridcolor": "#EBF0F8",
            "linecolor": "#EBF0F8",
            "ticks": ""
           },
           "bgcolor": "white",
           "radialaxis": {
            "gridcolor": "#EBF0F8",
            "linecolor": "#EBF0F8",
            "ticks": ""
           }
          },
          "scene": {
           "xaxis": {
            "backgroundcolor": "white",
            "gridcolor": "#DFE8F3",
            "gridwidth": 2,
            "linecolor": "#EBF0F8",
            "showbackground": true,
            "ticks": "",
            "zerolinecolor": "#EBF0F8"
           },
           "yaxis": {
            "backgroundcolor": "white",
            "gridcolor": "#DFE8F3",
            "gridwidth": 2,
            "linecolor": "#EBF0F8",
            "showbackground": true,
            "ticks": "",
            "zerolinecolor": "#EBF0F8"
           },
           "zaxis": {
            "backgroundcolor": "white",
            "gridcolor": "#DFE8F3",
            "gridwidth": 2,
            "linecolor": "#EBF0F8",
            "showbackground": true,
            "ticks": "",
            "zerolinecolor": "#EBF0F8"
           }
          },
          "shapedefaults": {
           "line": {
            "color": "#2a3f5f"
           }
          },
          "ternary": {
           "aaxis": {
            "gridcolor": "#DFE8F3",
            "linecolor": "#A2B1C6",
            "ticks": ""
           },
           "baxis": {
            "gridcolor": "#DFE8F3",
            "linecolor": "#A2B1C6",
            "ticks": ""
           },
           "bgcolor": "white",
           "caxis": {
            "gridcolor": "#DFE8F3",
            "linecolor": "#A2B1C6",
            "ticks": ""
           }
          },
          "title": {
           "x": 0.05
          },
          "xaxis": {
           "automargin": true,
           "gridcolor": "#EBF0F8",
           "linecolor": "#EBF0F8",
           "ticks": "",
           "title": {
            "standoff": 15
           },
           "zerolinecolor": "#EBF0F8",
           "zerolinewidth": 2
          },
          "yaxis": {
           "automargin": true,
           "gridcolor": "#EBF0F8",
           "linecolor": "#EBF0F8",
           "ticks": "",
           "title": {
            "standoff": 15
           },
           "zerolinecolor": "#EBF0F8",
           "zerolinewidth": 2
          }
         }
        },
        "title": {
         "text": "Time Comparison"
        },
        "xaxis": {
         "linewidth": 1.5,
         "showgrid": true,
         "showline": true,
         "showticklabels": true,
         "tickfont": {
          "color": "#000000",
          "family": "Verdana",
          "size": 11
         },
         "ticks": "outside",
         "title": {
          "text": "Iterations"
         }
        },
        "yaxis": {
         "showgrid": true,
         "showline": false,
         "showticklabels": true,
         "tickfont": {
          "color": "#000000",
          "family": "Verdana",
          "size": 11
         },
         "ticks": "outside",
         "title": {
          "text": "Time (ms)"
         },
         "zeroline": false
        }
       }
      }
     },
     "metadata": {},
     "output_type": "display_data"
    }
   ],
   "source": [
    "# seed for reproducibility\n",
    "np.random.seed(0)\n",
    "\n",
    "# Define the range of values\n",
    "population = [100, 150, 200]\n",
    "\n",
    "# Setting previous best parameter as new default value\n",
    "params.update(replace_param)\n",
    "\n",
    "# Print current parameters to use in best_operators_search\n",
    "print('\\033[1mParameters for GA:\\033[0m', end='\\n\\n')\n",
    "print(params, end='\\n\\n')\n",
    "\n",
    "param_list, df = best_operators_search('pop', population, params)\n",
    "\n",
    "# Displaying average results of the 100 iterations\n",
    "print('\\033[1mAverage results:', end='\\n')\n",
    "df['const'] = 'const'\n",
    "df_avg = df.groupby('const').mean().reset_index(drop=True).round(3)\n",
    "display(df_avg)\n",
    "\n",
    "# Getting best parameter by fitness & time\n",
    "best_param_fit = df_avg[[col for col in df_avg.columns if col.startswith('Fit_')]].idxmax(axis=1)[0].replace('Fit_', '')\n",
    "best_param_time = df_avg[[col for col in df_avg.columns if col.startswith('Time_')]].idxmin(axis=1)[0].replace('Time_', '')\n",
    "replace_param = {'pop': 150}\n",
    "print(f'\\nBest Fitness: \\033[1m{best_param_fit}\\033[0m\\n\\nBest Time: \\033[1m{best_param_time}\\033[0m', end='\\n\\n')\n",
    "\n",
    "# Plotting results\n",
    "plot_values(data = df, colors = color_palette[:len(population)], layout=2, template='white', grid=True)"
   ]
  },
  {
   "attachments": {},
   "cell_type": "markdown",
   "metadata": {},
   "source": [
    "### __2.5 Generations__"
   ]
  },
  {
   "cell_type": "code",
   "execution_count": 17,
   "metadata": {},
   "outputs": [
    {
     "name": "stdout",
     "output_type": "stream",
     "text": [
      "\u001b[1mParameters for GA:\u001b[0m\n",
      "\n",
      "{'n': 12, 'pop': 150, 'gen': 50, 'mut_perc': 0.05, 'cross_perc': 0.75, 'mut': 'swap_mutation', 'cross': 'cycle_cross', 'select': 'tournament_selection'}\n",
      "\n",
      "\u001b[1mAverage results:\n"
     ]
    },
    {
     "data": {
      "text/html": [
       "<div>\n",
       "<style scoped>\n",
       "    .dataframe tbody tr th:only-of-type {\n",
       "        vertical-align: middle;\n",
       "    }\n",
       "\n",
       "    .dataframe tbody tr th {\n",
       "        vertical-align: top;\n",
       "    }\n",
       "\n",
       "    .dataframe thead th {\n",
       "        text-align: right;\n",
       "    }\n",
       "</style>\n",
       "<table border=\"1\" class=\"dataframe\">\n",
       "  <thead>\n",
       "    <tr style=\"text-align: right;\">\n",
       "      <th></th>\n",
       "      <th>Fit_50</th>\n",
       "      <th>Fit_100</th>\n",
       "      <th>Fit_250</th>\n",
       "      <th>Fit_500</th>\n",
       "      <th>Time_50</th>\n",
       "      <th>Time_100</th>\n",
       "      <th>Time_250</th>\n",
       "      <th>Time_500</th>\n",
       "    </tr>\n",
       "  </thead>\n",
       "  <tbody>\n",
       "    <tr>\n",
       "      <th>0</th>\n",
       "      <td>96.606</td>\n",
       "      <td>96.606</td>\n",
       "      <td>96.803</td>\n",
       "      <td>96.515</td>\n",
       "      <td>17.59</td>\n",
       "      <td>35.7</td>\n",
       "      <td>90.19</td>\n",
       "      <td>183.87</td>\n",
       "    </tr>\n",
       "  </tbody>\n",
       "</table>\n",
       "</div>"
      ],
      "text/plain": [
       "   Fit_50  Fit_100  Fit_250  Fit_500  Time_50  Time_100  Time_250  Time_500\n",
       "0  96.606   96.606   96.803   96.515    17.59      35.7     90.19    183.87"
      ]
     },
     "metadata": {},
     "output_type": "display_data"
    },
    {
     "name": "stdout",
     "output_type": "stream",
     "text": [
      "\n",
      "Best Fitness: \u001b[1m250\u001b[0m\n",
      "\n",
      "Best Time: \u001b[1m50\u001b[0m\n",
      "\n"
     ]
    },
    {
     "data": {
      "application/vnd.plotly.v1+json": {
       "config": {
        "plotlyServerURL": "https://plot.ly"
       },
       "data": [
        {
         "line": {
          "color": "gray",
          "width": 2
         },
         "name": "50",
         "type": "scatter",
         "x": [
          0,
          1,
          2,
          3,
          4,
          5,
          6,
          7,
          8,
          9,
          10,
          11,
          12,
          13,
          14,
          15,
          16,
          17,
          18,
          19,
          20,
          21,
          22,
          23,
          24,
          25,
          26,
          27,
          28,
          29,
          30,
          31,
          32,
          33,
          34,
          35,
          36,
          37,
          38,
          39,
          40,
          41,
          42,
          43,
          44,
          45,
          46,
          47,
          48,
          49,
          50,
          51,
          52,
          53,
          54,
          55,
          56,
          57,
          58,
          59,
          60,
          61,
          62,
          63,
          64,
          65,
          66,
          67,
          68,
          69,
          70,
          71,
          72,
          73,
          74,
          75,
          76,
          77,
          78,
          79,
          80,
          81,
          82,
          83,
          84,
          85,
          86,
          87,
          88,
          89,
          90,
          91,
          92,
          93,
          94,
          95,
          96,
          97,
          98,
          99
         ],
         "y": [
          95.45454545454545,
          95.45454545454545,
          95.45454545454545,
          98.48484848484848,
          95.45454545454545,
          95.45454545454545,
          95.45454545454545,
          95.45454545454545,
          96.96969696969697,
          95.45454545454545,
          96.96969696969697,
          98.48484848484848,
          95.45454545454545,
          96.96969696969697,
          95.45454545454545,
          95.45454545454545,
          96.96969696969697,
          96.96969696969697,
          95.45454545454545,
          96.96969696969697,
          95.45454545454545,
          95.45454545454545,
          96.96969696969697,
          95.45454545454545,
          96.96969696969697,
          96.96969696969697,
          95.45454545454545,
          95.45454545454545,
          96.96969696969697,
          95.45454545454545,
          96.96969696969697,
          96.96969696969697,
          98.48484848484848,
          96.96969696969697,
          96.96969696969697,
          95.45454545454545,
          96.96969696969697,
          96.96969696969697,
          95.45454545454545,
          96.96969696969697,
          95.45454545454545,
          96.96969696969697,
          96.96969696969697,
          98.48484848484848,
          95.45454545454545,
          95.45454545454545,
          98.48484848484848,
          95.45454545454545,
          98.48484848484848,
          96.96969696969697,
          96.96969696969697,
          96.96969696969697,
          95.45454545454545,
          96.96969696969697,
          95.45454545454545,
          96.96969696969697,
          98.48484848484848,
          95.45454545454545,
          98.48484848484848,
          96.96969696969697,
          96.96969696969697,
          96.96969696969697,
          96.96969696969697,
          95.45454545454545,
          96.96969696969697,
          98.48484848484848,
          96.96969696969697,
          96.96969696969697,
          95.45454545454545,
          96.96969696969697,
          96.96969696969697,
          96.96969696969697,
          96.96969696969697,
          96.96969696969697,
          95.45454545454545,
          95.45454545454545,
          96.96969696969697,
          96.96969696969697,
          98.48484848484848,
          96.96969696969697,
          96.96969696969697,
          95.45454545454545,
          98.48484848484848,
          96.96969696969697,
          95.45454545454545,
          95.45454545454545,
          96.96969696969697,
          96.96969696969697,
          98.48484848484848,
          98.48484848484848,
          96.96969696969697,
          96.96969696969697,
          96.96969696969697,
          96.96969696969697,
          96.96969696969697,
          96.96969696969697,
          95.45454545454545,
          95.45454545454545,
          95.45454545454545,
          96.96969696969697
         ]
        },
        {
         "marker": {
          "color": "gray",
          "size": 8
         },
         "mode": "markers",
         "name": "",
         "type": "scatter",
         "x": [
          0,
          99
         ],
         "y": [
          95.45454545454545,
          96.96969696969697
         ]
        },
        {
         "line": {
          "color": "steelblue",
          "width": 2
         },
         "name": "100",
         "type": "scatter",
         "x": [
          0,
          1,
          2,
          3,
          4,
          5,
          6,
          7,
          8,
          9,
          10,
          11,
          12,
          13,
          14,
          15,
          16,
          17,
          18,
          19,
          20,
          21,
          22,
          23,
          24,
          25,
          26,
          27,
          28,
          29,
          30,
          31,
          32,
          33,
          34,
          35,
          36,
          37,
          38,
          39,
          40,
          41,
          42,
          43,
          44,
          45,
          46,
          47,
          48,
          49,
          50,
          51,
          52,
          53,
          54,
          55,
          56,
          57,
          58,
          59,
          60,
          61,
          62,
          63,
          64,
          65,
          66,
          67,
          68,
          69,
          70,
          71,
          72,
          73,
          74,
          75,
          76,
          77,
          78,
          79,
          80,
          81,
          82,
          83,
          84,
          85,
          86,
          87,
          88,
          89,
          90,
          91,
          92,
          93,
          94,
          95,
          96,
          97,
          98,
          99
         ],
         "y": [
          95.45454545454545,
          96.96969696969697,
          96.96969696969697,
          95.45454545454545,
          96.96969696969697,
          96.96969696969697,
          98.48484848484848,
          96.96969696969697,
          96.96969696969697,
          96.96969696969697,
          95.45454545454545,
          95.45454545454545,
          98.48484848484848,
          96.96969696969697,
          96.96969696969697,
          98.48484848484848,
          95.45454545454545,
          95.45454545454545,
          96.96969696969697,
          96.96969696969697,
          95.45454545454545,
          96.96969696969697,
          98.48484848484848,
          95.45454545454545,
          96.96969696969697,
          96.96969696969697,
          96.96969696969697,
          95.45454545454545,
          96.96969696969697,
          96.96969696969697,
          95.45454545454545,
          95.45454545454545,
          98.48484848484848,
          95.45454545454545,
          96.96969696969697,
          96.96969696969697,
          96.96969696969697,
          96.96969696969697,
          96.96969696969697,
          98.48484848484848,
          96.96969696969697,
          96.96969696969697,
          96.96969696969697,
          96.96969696969697,
          95.45454545454545,
          96.96969696969697,
          95.45454545454545,
          95.45454545454545,
          96.96969696969697,
          95.45454545454545,
          95.45454545454545,
          96.96969696969697,
          96.96969696969697,
          96.96969696969697,
          96.96969696969697,
          95.45454545454545,
          95.45454545454545,
          96.96969696969697,
          95.45454545454545,
          96.96969696969697,
          98.48484848484848,
          96.96969696969697,
          95.45454545454545,
          96.96969696969697,
          98.48484848484848,
          95.45454545454545,
          95.45454545454545,
          96.96969696969697,
          95.45454545454545,
          96.96969696969697,
          96.96969696969697,
          95.45454545454545,
          96.96969696969697,
          96.96969696969697,
          95.45454545454545,
          95.45454545454545,
          98.48484848484848,
          96.96969696969697,
          96.96969696969697,
          96.96969696969697,
          98.48484848484848,
          96.96969696969697,
          96.96969696969697,
          96.96969696969697,
          95.45454545454545,
          96.96969696969697,
          95.45454545454545,
          96.96969696969697,
          98.48484848484848,
          96.96969696969697,
          96.96969696969697,
          95.45454545454545,
          95.45454545454545,
          96.96969696969697,
          96.96969696969697,
          95.45454545454545,
          96.96969696969697,
          95.45454545454545,
          95.45454545454545,
          95.45454545454545
         ]
        },
        {
         "marker": {
          "color": "steelblue",
          "size": 8
         },
         "mode": "markers",
         "name": "",
         "type": "scatter",
         "x": [
          0,
          99
         ],
         "y": [
          95.45454545454545,
          95.45454545454545
         ]
        },
        {
         "line": {
          "color": "purple",
          "width": 2
         },
         "name": "250",
         "type": "scatter",
         "x": [
          0,
          1,
          2,
          3,
          4,
          5,
          6,
          7,
          8,
          9,
          10,
          11,
          12,
          13,
          14,
          15,
          16,
          17,
          18,
          19,
          20,
          21,
          22,
          23,
          24,
          25,
          26,
          27,
          28,
          29,
          30,
          31,
          32,
          33,
          34,
          35,
          36,
          37,
          38,
          39,
          40,
          41,
          42,
          43,
          44,
          45,
          46,
          47,
          48,
          49,
          50,
          51,
          52,
          53,
          54,
          55,
          56,
          57,
          58,
          59,
          60,
          61,
          62,
          63,
          64,
          65,
          66,
          67,
          68,
          69,
          70,
          71,
          72,
          73,
          74,
          75,
          76,
          77,
          78,
          79,
          80,
          81,
          82,
          83,
          84,
          85,
          86,
          87,
          88,
          89,
          90,
          91,
          92,
          93,
          94,
          95,
          96,
          97,
          98,
          99
         ],
         "y": [
          96.96969696969697,
          96.96969696969697,
          95.45454545454545,
          98.48484848484848,
          95.45454545454545,
          95.45454545454545,
          98.48484848484848,
          96.96969696969697,
          96.96969696969697,
          95.45454545454545,
          96.96969696969697,
          95.45454545454545,
          96.96969696969697,
          96.96969696969697,
          96.96969696969697,
          95.45454545454545,
          96.96969696969697,
          96.96969696969697,
          96.96969696969697,
          98.48484848484848,
          96.96969696969697,
          95.45454545454545,
          96.96969696969697,
          98.48484848484848,
          95.45454545454545,
          98.48484848484848,
          96.96969696969697,
          96.96969696969697,
          95.45454545454545,
          96.96969696969697,
          96.96969696969697,
          95.45454545454545,
          96.96969696969697,
          98.48484848484848,
          98.48484848484848,
          96.96969696969697,
          98.48484848484848,
          96.96969696969697,
          96.96969696969697,
          96.96969696969697,
          96.96969696969697,
          100,
          95.45454545454545,
          96.96969696969697,
          95.45454545454545,
          96.96969696969697,
          98.48484848484848,
          96.96969696969697,
          95.45454545454545,
          96.96969696969697,
          96.96969696969697,
          95.45454545454545,
          95.45454545454545,
          95.45454545454545,
          96.96969696969697,
          96.96969696969697,
          96.96969696969697,
          95.45454545454545,
          96.96969696969697,
          96.96969696969697,
          96.96969696969697,
          96.96969696969697,
          96.96969696969697,
          95.45454545454545,
          95.45454545454545,
          95.45454545454545,
          96.96969696969697,
          95.45454545454545,
          95.45454545454545,
          96.96969696969697,
          96.96969696969697,
          98.48484848484848,
          98.48484848484848,
          96.96969696969697,
          96.96969696969697,
          96.96969696969697,
          96.96969696969697,
          96.96969696969697,
          98.48484848484848,
          96.96969696969697,
          95.45454545454545,
          96.96969696969697,
          96.96969696969697,
          96.96969696969697,
          98.48484848484848,
          96.96969696969697,
          96.96969696969697,
          95.45454545454545,
          96.96969696969697,
          96.96969696969697,
          96.96969696969697,
          96.96969696969697,
          96.96969696969697,
          96.96969696969697,
          96.96969696969697,
          95.45454545454545,
          96.96969696969697,
          95.45454545454545,
          96.96969696969697,
          96.96969696969697
         ]
        },
        {
         "marker": {
          "color": "purple",
          "size": 8
         },
         "mode": "markers",
         "name": "",
         "type": "scatter",
         "x": [
          0,
          99
         ],
         "y": [
          96.96969696969697,
          96.96969696969697
         ]
        },
        {
         "line": {
          "color": "darkgray",
          "width": 2
         },
         "name": "500",
         "type": "scatter",
         "x": [
          0,
          1,
          2,
          3,
          4,
          5,
          6,
          7,
          8,
          9,
          10,
          11,
          12,
          13,
          14,
          15,
          16,
          17,
          18,
          19,
          20,
          21,
          22,
          23,
          24,
          25,
          26,
          27,
          28,
          29,
          30,
          31,
          32,
          33,
          34,
          35,
          36,
          37,
          38,
          39,
          40,
          41,
          42,
          43,
          44,
          45,
          46,
          47,
          48,
          49,
          50,
          51,
          52,
          53,
          54,
          55,
          56,
          57,
          58,
          59,
          60,
          61,
          62,
          63,
          64,
          65,
          66,
          67,
          68,
          69,
          70,
          71,
          72,
          73,
          74,
          75,
          76,
          77,
          78,
          79,
          80,
          81,
          82,
          83,
          84,
          85,
          86,
          87,
          88,
          89,
          90,
          91,
          92,
          93,
          94,
          95,
          96,
          97,
          98,
          99
         ],
         "y": [
          95.45454545454545,
          96.96969696969697,
          95.45454545454545,
          96.96969696969697,
          96.96969696969697,
          95.45454545454545,
          98.48484848484848,
          96.96969696969697,
          98.48484848484848,
          95.45454545454545,
          95.45454545454545,
          95.45454545454545,
          98.48484848484848,
          95.45454545454545,
          95.45454545454545,
          96.96969696969697,
          95.45454545454545,
          96.96969696969697,
          96.96969696969697,
          95.45454545454545,
          96.96969696969697,
          96.96969696969697,
          96.96969696969697,
          95.45454545454545,
          96.96969696969697,
          96.96969696969697,
          95.45454545454545,
          96.96969696969697,
          98.48484848484848,
          96.96969696969697,
          96.96969696969697,
          96.96969696969697,
          96.96969696969697,
          96.96969696969697,
          96.96969696969697,
          95.45454545454545,
          95.45454545454545,
          95.45454545454545,
          96.96969696969697,
          95.45454545454545,
          96.96969696969697,
          95.45454545454545,
          95.45454545454545,
          96.96969696969697,
          95.45454545454545,
          95.45454545454545,
          98.48484848484848,
          95.45454545454545,
          95.45454545454545,
          95.45454545454545,
          96.96969696969697,
          96.96969696969697,
          96.96969696969697,
          96.96969696969697,
          95.45454545454545,
          98.48484848484848,
          96.96969696969697,
          95.45454545454545,
          98.48484848484848,
          95.45454545454545,
          96.96969696969697,
          95.45454545454545,
          96.96969696969697,
          96.96969696969697,
          98.48484848484848,
          96.96969696969697,
          96.96969696969697,
          96.96969696969697,
          95.45454545454545,
          95.45454545454545,
          96.96969696969697,
          93.93939393939394,
          96.96969696969697,
          95.45454545454545,
          95.45454545454545,
          96.96969696969697,
          96.96969696969697,
          95.45454545454545,
          96.96969696969697,
          96.96969696969697,
          95.45454545454545,
          95.45454545454545,
          96.96969696969697,
          96.96969696969697,
          96.96969696969697,
          96.96969696969697,
          96.96969696969697,
          95.45454545454545,
          95.45454545454545,
          96.96969696969697,
          96.96969696969697,
          96.96969696969697,
          96.96969696969697,
          98.48484848484848,
          96.96969696969697,
          95.45454545454545,
          95.45454545454545,
          96.96969696969697,
          98.48484848484848,
          96.96969696969697
         ]
        },
        {
         "marker": {
          "color": "darkgray",
          "size": 8
         },
         "mode": "markers",
         "name": "",
         "type": "scatter",
         "x": [
          0,
          99
         ],
         "y": [
          95.45454545454545,
          96.96969696969697
         ]
        }
       ],
       "layout": {
        "font": {
         "family": "Verdana",
         "size": 14
        },
        "template": {
         "data": {
          "bar": [
           {
            "error_x": {
             "color": "#2a3f5f"
            },
            "error_y": {
             "color": "#2a3f5f"
            },
            "marker": {
             "line": {
              "color": "white",
              "width": 0.5
             },
             "pattern": {
              "fillmode": "overlay",
              "size": 10,
              "solidity": 0.2
             }
            },
            "type": "bar"
           }
          ],
          "barpolar": [
           {
            "marker": {
             "line": {
              "color": "white",
              "width": 0.5
             },
             "pattern": {
              "fillmode": "overlay",
              "size": 10,
              "solidity": 0.2
             }
            },
            "type": "barpolar"
           }
          ],
          "carpet": [
           {
            "aaxis": {
             "endlinecolor": "#2a3f5f",
             "gridcolor": "#C8D4E3",
             "linecolor": "#C8D4E3",
             "minorgridcolor": "#C8D4E3",
             "startlinecolor": "#2a3f5f"
            },
            "baxis": {
             "endlinecolor": "#2a3f5f",
             "gridcolor": "#C8D4E3",
             "linecolor": "#C8D4E3",
             "minorgridcolor": "#C8D4E3",
             "startlinecolor": "#2a3f5f"
            },
            "type": "carpet"
           }
          ],
          "choropleth": [
           {
            "colorbar": {
             "outlinewidth": 0,
             "ticks": ""
            },
            "type": "choropleth"
           }
          ],
          "contour": [
           {
            "colorbar": {
             "outlinewidth": 0,
             "ticks": ""
            },
            "colorscale": [
             [
              0,
              "#0d0887"
             ],
             [
              0.1111111111111111,
              "#46039f"
             ],
             [
              0.2222222222222222,
              "#7201a8"
             ],
             [
              0.3333333333333333,
              "#9c179e"
             ],
             [
              0.4444444444444444,
              "#bd3786"
             ],
             [
              0.5555555555555556,
              "#d8576b"
             ],
             [
              0.6666666666666666,
              "#ed7953"
             ],
             [
              0.7777777777777778,
              "#fb9f3a"
             ],
             [
              0.8888888888888888,
              "#fdca26"
             ],
             [
              1,
              "#f0f921"
             ]
            ],
            "type": "contour"
           }
          ],
          "contourcarpet": [
           {
            "colorbar": {
             "outlinewidth": 0,
             "ticks": ""
            },
            "type": "contourcarpet"
           }
          ],
          "heatmap": [
           {
            "colorbar": {
             "outlinewidth": 0,
             "ticks": ""
            },
            "colorscale": [
             [
              0,
              "#0d0887"
             ],
             [
              0.1111111111111111,
              "#46039f"
             ],
             [
              0.2222222222222222,
              "#7201a8"
             ],
             [
              0.3333333333333333,
              "#9c179e"
             ],
             [
              0.4444444444444444,
              "#bd3786"
             ],
             [
              0.5555555555555556,
              "#d8576b"
             ],
             [
              0.6666666666666666,
              "#ed7953"
             ],
             [
              0.7777777777777778,
              "#fb9f3a"
             ],
             [
              0.8888888888888888,
              "#fdca26"
             ],
             [
              1,
              "#f0f921"
             ]
            ],
            "type": "heatmap"
           }
          ],
          "heatmapgl": [
           {
            "colorbar": {
             "outlinewidth": 0,
             "ticks": ""
            },
            "colorscale": [
             [
              0,
              "#0d0887"
             ],
             [
              0.1111111111111111,
              "#46039f"
             ],
             [
              0.2222222222222222,
              "#7201a8"
             ],
             [
              0.3333333333333333,
              "#9c179e"
             ],
             [
              0.4444444444444444,
              "#bd3786"
             ],
             [
              0.5555555555555556,
              "#d8576b"
             ],
             [
              0.6666666666666666,
              "#ed7953"
             ],
             [
              0.7777777777777778,
              "#fb9f3a"
             ],
             [
              0.8888888888888888,
              "#fdca26"
             ],
             [
              1,
              "#f0f921"
             ]
            ],
            "type": "heatmapgl"
           }
          ],
          "histogram": [
           {
            "marker": {
             "pattern": {
              "fillmode": "overlay",
              "size": 10,
              "solidity": 0.2
             }
            },
            "type": "histogram"
           }
          ],
          "histogram2d": [
           {
            "colorbar": {
             "outlinewidth": 0,
             "ticks": ""
            },
            "colorscale": [
             [
              0,
              "#0d0887"
             ],
             [
              0.1111111111111111,
              "#46039f"
             ],
             [
              0.2222222222222222,
              "#7201a8"
             ],
             [
              0.3333333333333333,
              "#9c179e"
             ],
             [
              0.4444444444444444,
              "#bd3786"
             ],
             [
              0.5555555555555556,
              "#d8576b"
             ],
             [
              0.6666666666666666,
              "#ed7953"
             ],
             [
              0.7777777777777778,
              "#fb9f3a"
             ],
             [
              0.8888888888888888,
              "#fdca26"
             ],
             [
              1,
              "#f0f921"
             ]
            ],
            "type": "histogram2d"
           }
          ],
          "histogram2dcontour": [
           {
            "colorbar": {
             "outlinewidth": 0,
             "ticks": ""
            },
            "colorscale": [
             [
              0,
              "#0d0887"
             ],
             [
              0.1111111111111111,
              "#46039f"
             ],
             [
              0.2222222222222222,
              "#7201a8"
             ],
             [
              0.3333333333333333,
              "#9c179e"
             ],
             [
              0.4444444444444444,
              "#bd3786"
             ],
             [
              0.5555555555555556,
              "#d8576b"
             ],
             [
              0.6666666666666666,
              "#ed7953"
             ],
             [
              0.7777777777777778,
              "#fb9f3a"
             ],
             [
              0.8888888888888888,
              "#fdca26"
             ],
             [
              1,
              "#f0f921"
             ]
            ],
            "type": "histogram2dcontour"
           }
          ],
          "mesh3d": [
           {
            "colorbar": {
             "outlinewidth": 0,
             "ticks": ""
            },
            "type": "mesh3d"
           }
          ],
          "parcoords": [
           {
            "line": {
             "colorbar": {
              "outlinewidth": 0,
              "ticks": ""
             }
            },
            "type": "parcoords"
           }
          ],
          "pie": [
           {
            "automargin": true,
            "type": "pie"
           }
          ],
          "scatter": [
           {
            "fillpattern": {
             "fillmode": "overlay",
             "size": 10,
             "solidity": 0.2
            },
            "type": "scatter"
           }
          ],
          "scatter3d": [
           {
            "line": {
             "colorbar": {
              "outlinewidth": 0,
              "ticks": ""
             }
            },
            "marker": {
             "colorbar": {
              "outlinewidth": 0,
              "ticks": ""
             }
            },
            "type": "scatter3d"
           }
          ],
          "scattercarpet": [
           {
            "marker": {
             "colorbar": {
              "outlinewidth": 0,
              "ticks": ""
             }
            },
            "type": "scattercarpet"
           }
          ],
          "scattergeo": [
           {
            "marker": {
             "colorbar": {
              "outlinewidth": 0,
              "ticks": ""
             }
            },
            "type": "scattergeo"
           }
          ],
          "scattergl": [
           {
            "marker": {
             "colorbar": {
              "outlinewidth": 0,
              "ticks": ""
             }
            },
            "type": "scattergl"
           }
          ],
          "scattermapbox": [
           {
            "marker": {
             "colorbar": {
              "outlinewidth": 0,
              "ticks": ""
             }
            },
            "type": "scattermapbox"
           }
          ],
          "scatterpolar": [
           {
            "marker": {
             "colorbar": {
              "outlinewidth": 0,
              "ticks": ""
             }
            },
            "type": "scatterpolar"
           }
          ],
          "scatterpolargl": [
           {
            "marker": {
             "colorbar": {
              "outlinewidth": 0,
              "ticks": ""
             }
            },
            "type": "scatterpolargl"
           }
          ],
          "scatterternary": [
           {
            "marker": {
             "colorbar": {
              "outlinewidth": 0,
              "ticks": ""
             }
            },
            "type": "scatterternary"
           }
          ],
          "surface": [
           {
            "colorbar": {
             "outlinewidth": 0,
             "ticks": ""
            },
            "colorscale": [
             [
              0,
              "#0d0887"
             ],
             [
              0.1111111111111111,
              "#46039f"
             ],
             [
              0.2222222222222222,
              "#7201a8"
             ],
             [
              0.3333333333333333,
              "#9c179e"
             ],
             [
              0.4444444444444444,
              "#bd3786"
             ],
             [
              0.5555555555555556,
              "#d8576b"
             ],
             [
              0.6666666666666666,
              "#ed7953"
             ],
             [
              0.7777777777777778,
              "#fb9f3a"
             ],
             [
              0.8888888888888888,
              "#fdca26"
             ],
             [
              1,
              "#f0f921"
             ]
            ],
            "type": "surface"
           }
          ],
          "table": [
           {
            "cells": {
             "fill": {
              "color": "#EBF0F8"
             },
             "line": {
              "color": "white"
             }
            },
            "header": {
             "fill": {
              "color": "#C8D4E3"
             },
             "line": {
              "color": "white"
             }
            },
            "type": "table"
           }
          ]
         },
         "layout": {
          "annotationdefaults": {
           "arrowcolor": "#2a3f5f",
           "arrowhead": 0,
           "arrowwidth": 1
          },
          "autotypenumbers": "strict",
          "coloraxis": {
           "colorbar": {
            "outlinewidth": 0,
            "ticks": ""
           }
          },
          "colorscale": {
           "diverging": [
            [
             0,
             "#8e0152"
            ],
            [
             0.1,
             "#c51b7d"
            ],
            [
             0.2,
             "#de77ae"
            ],
            [
             0.3,
             "#f1b6da"
            ],
            [
             0.4,
             "#fde0ef"
            ],
            [
             0.5,
             "#f7f7f7"
            ],
            [
             0.6,
             "#e6f5d0"
            ],
            [
             0.7,
             "#b8e186"
            ],
            [
             0.8,
             "#7fbc41"
            ],
            [
             0.9,
             "#4d9221"
            ],
            [
             1,
             "#276419"
            ]
           ],
           "sequential": [
            [
             0,
             "#0d0887"
            ],
            [
             0.1111111111111111,
             "#46039f"
            ],
            [
             0.2222222222222222,
             "#7201a8"
            ],
            [
             0.3333333333333333,
             "#9c179e"
            ],
            [
             0.4444444444444444,
             "#bd3786"
            ],
            [
             0.5555555555555556,
             "#d8576b"
            ],
            [
             0.6666666666666666,
             "#ed7953"
            ],
            [
             0.7777777777777778,
             "#fb9f3a"
            ],
            [
             0.8888888888888888,
             "#fdca26"
            ],
            [
             1,
             "#f0f921"
            ]
           ],
           "sequentialminus": [
            [
             0,
             "#0d0887"
            ],
            [
             0.1111111111111111,
             "#46039f"
            ],
            [
             0.2222222222222222,
             "#7201a8"
            ],
            [
             0.3333333333333333,
             "#9c179e"
            ],
            [
             0.4444444444444444,
             "#bd3786"
            ],
            [
             0.5555555555555556,
             "#d8576b"
            ],
            [
             0.6666666666666666,
             "#ed7953"
            ],
            [
             0.7777777777777778,
             "#fb9f3a"
            ],
            [
             0.8888888888888888,
             "#fdca26"
            ],
            [
             1,
             "#f0f921"
            ]
           ]
          },
          "colorway": [
           "#636efa",
           "#EF553B",
           "#00cc96",
           "#ab63fa",
           "#FFA15A",
           "#19d3f3",
           "#FF6692",
           "#B6E880",
           "#FF97FF",
           "#FECB52"
          ],
          "font": {
           "color": "#2a3f5f"
          },
          "geo": {
           "bgcolor": "white",
           "lakecolor": "white",
           "landcolor": "white",
           "showlakes": true,
           "showland": true,
           "subunitcolor": "#C8D4E3"
          },
          "hoverlabel": {
           "align": "left"
          },
          "hovermode": "closest",
          "mapbox": {
           "style": "light"
          },
          "paper_bgcolor": "white",
          "plot_bgcolor": "white",
          "polar": {
           "angularaxis": {
            "gridcolor": "#EBF0F8",
            "linecolor": "#EBF0F8",
            "ticks": ""
           },
           "bgcolor": "white",
           "radialaxis": {
            "gridcolor": "#EBF0F8",
            "linecolor": "#EBF0F8",
            "ticks": ""
           }
          },
          "scene": {
           "xaxis": {
            "backgroundcolor": "white",
            "gridcolor": "#DFE8F3",
            "gridwidth": 2,
            "linecolor": "#EBF0F8",
            "showbackground": true,
            "ticks": "",
            "zerolinecolor": "#EBF0F8"
           },
           "yaxis": {
            "backgroundcolor": "white",
            "gridcolor": "#DFE8F3",
            "gridwidth": 2,
            "linecolor": "#EBF0F8",
            "showbackground": true,
            "ticks": "",
            "zerolinecolor": "#EBF0F8"
           },
           "zaxis": {
            "backgroundcolor": "white",
            "gridcolor": "#DFE8F3",
            "gridwidth": 2,
            "linecolor": "#EBF0F8",
            "showbackground": true,
            "ticks": "",
            "zerolinecolor": "#EBF0F8"
           }
          },
          "shapedefaults": {
           "line": {
            "color": "#2a3f5f"
           }
          },
          "ternary": {
           "aaxis": {
            "gridcolor": "#DFE8F3",
            "linecolor": "#A2B1C6",
            "ticks": ""
           },
           "baxis": {
            "gridcolor": "#DFE8F3",
            "linecolor": "#A2B1C6",
            "ticks": ""
           },
           "bgcolor": "white",
           "caxis": {
            "gridcolor": "#DFE8F3",
            "linecolor": "#A2B1C6",
            "ticks": ""
           }
          },
          "title": {
           "x": 0.05
          },
          "xaxis": {
           "automargin": true,
           "gridcolor": "#EBF0F8",
           "linecolor": "#EBF0F8",
           "ticks": "",
           "title": {
            "standoff": 15
           },
           "zerolinecolor": "#EBF0F8",
           "zerolinewidth": 2
          },
          "yaxis": {
           "automargin": true,
           "gridcolor": "#EBF0F8",
           "linecolor": "#EBF0F8",
           "ticks": "",
           "title": {
            "standoff": 15
           },
           "zerolinecolor": "#EBF0F8",
           "zerolinewidth": 2
          }
         }
        },
        "title": {
         "text": "Fitness Comparison"
        },
        "xaxis": {
         "linewidth": 1.5,
         "showgrid": true,
         "showline": true,
         "showticklabels": true,
         "tickfont": {
          "color": "#000000",
          "family": "Verdana",
          "size": 11
         },
         "ticks": "outside",
         "title": {
          "text": "Iterations"
         }
        },
        "yaxis": {
         "showgrid": true,
         "showline": false,
         "showticklabels": true,
         "tickfont": {
          "color": "#000000",
          "family": "Verdana",
          "size": 11
         },
         "ticks": "outside",
         "title": {
          "text": "Fitness"
         },
         "zeroline": false
        }
       }
      }
     },
     "metadata": {},
     "output_type": "display_data"
    },
    {
     "data": {
      "application/vnd.plotly.v1+json": {
       "config": {
        "plotlyServerURL": "https://plot.ly"
       },
       "data": [
        {
         "line": {
          "color": "gray",
          "width": 2
         },
         "name": "50",
         "type": "scatter",
         "x": [
          0,
          1,
          2,
          3,
          4,
          5,
          6,
          7,
          8,
          9,
          10,
          11,
          12,
          13,
          14,
          15,
          16,
          17,
          18,
          19,
          20,
          21,
          22,
          23,
          24,
          25,
          26,
          27,
          28,
          29,
          30,
          31,
          32,
          33,
          34,
          35,
          36,
          37,
          38,
          39,
          40,
          41,
          42,
          43,
          44,
          45,
          46,
          47,
          48,
          49,
          50,
          51,
          52,
          53,
          54,
          55,
          56,
          57,
          58,
          59,
          60,
          61,
          62,
          63,
          64,
          65,
          66,
          67,
          68,
          69,
          70,
          71,
          72,
          73,
          74,
          75,
          76,
          77,
          78,
          79,
          80,
          81,
          82,
          83,
          84,
          85,
          86,
          87,
          88,
          89,
          90,
          91,
          92,
          93,
          94,
          95,
          96,
          97,
          98,
          99
         ],
         "y": [
          18,
          18,
          17,
          18,
          17,
          18,
          17,
          17,
          17,
          17,
          18,
          18,
          17,
          18,
          18,
          17,
          18,
          17,
          17,
          17,
          18,
          18,
          17,
          17,
          17,
          18,
          17,
          17,
          17,
          17,
          18,
          17,
          17,
          18,
          18,
          17,
          18,
          19,
          17,
          17,
          18,
          17,
          17,
          17,
          17,
          17,
          18,
          17,
          18,
          18,
          18,
          17,
          17,
          18,
          18,
          17,
          18,
          17,
          17,
          18,
          17,
          18,
          18,
          17,
          18,
          18,
          19,
          19,
          18,
          18,
          18,
          18,
          18,
          18,
          18,
          17,
          18,
          18,
          19,
          18,
          18,
          17,
          18,
          18,
          18,
          18,
          18,
          17,
          18,
          18,
          18,
          18,
          18,
          17,
          18,
          17,
          17,
          17,
          17,
          17
         ]
        },
        {
         "marker": {
          "color": "gray",
          "size": 8
         },
         "mode": "markers",
         "name": "",
         "type": "scatter",
         "x": [
          0,
          99
         ],
         "y": [
          18,
          17
         ]
        },
        {
         "line": {
          "color": "steelblue",
          "width": 2
         },
         "name": "100",
         "type": "scatter",
         "x": [
          0,
          1,
          2,
          3,
          4,
          5,
          6,
          7,
          8,
          9,
          10,
          11,
          12,
          13,
          14,
          15,
          16,
          17,
          18,
          19,
          20,
          21,
          22,
          23,
          24,
          25,
          26,
          27,
          28,
          29,
          30,
          31,
          32,
          33,
          34,
          35,
          36,
          37,
          38,
          39,
          40,
          41,
          42,
          43,
          44,
          45,
          46,
          47,
          48,
          49,
          50,
          51,
          52,
          53,
          54,
          55,
          56,
          57,
          58,
          59,
          60,
          61,
          62,
          63,
          64,
          65,
          66,
          67,
          68,
          69,
          70,
          71,
          72,
          73,
          74,
          75,
          76,
          77,
          78,
          79,
          80,
          81,
          82,
          83,
          84,
          85,
          86,
          87,
          88,
          89,
          90,
          91,
          92,
          93,
          94,
          95,
          96,
          97,
          98,
          99
         ],
         "y": [
          34,
          35,
          35,
          34,
          36,
          35,
          35,
          36,
          36,
          36,
          35,
          35,
          36,
          37,
          36,
          37,
          37,
          38,
          38,
          38,
          38,
          39,
          37,
          37,
          36,
          36,
          36,
          36,
          36,
          36,
          35,
          35,
          36,
          35,
          35,
          35,
          36,
          36,
          36,
          36,
          36,
          36,
          38,
          35,
          35,
          36,
          35,
          36,
          36,
          35,
          36,
          36,
          38,
          36,
          35,
          35,
          35,
          36,
          35,
          36,
          35,
          34,
          34,
          36,
          35,
          35,
          34,
          36,
          35,
          36,
          37,
          35,
          35,
          35,
          37,
          35,
          36,
          36,
          36,
          36,
          36,
          35,
          35,
          35,
          34,
          35,
          34,
          36,
          36,
          36,
          36,
          35,
          35,
          37,
          35,
          35,
          35,
          35,
          35,
          35
         ]
        },
        {
         "marker": {
          "color": "steelblue",
          "size": 8
         },
         "mode": "markers",
         "name": "",
         "type": "scatter",
         "x": [
          0,
          99
         ],
         "y": [
          34,
          35
         ]
        },
        {
         "line": {
          "color": "purple",
          "width": 2
         },
         "name": "250",
         "type": "scatter",
         "x": [
          0,
          1,
          2,
          3,
          4,
          5,
          6,
          7,
          8,
          9,
          10,
          11,
          12,
          13,
          14,
          15,
          16,
          17,
          18,
          19,
          20,
          21,
          22,
          23,
          24,
          25,
          26,
          27,
          28,
          29,
          30,
          31,
          32,
          33,
          34,
          35,
          36,
          37,
          38,
          39,
          40,
          41,
          42,
          43,
          44,
          45,
          46,
          47,
          48,
          49,
          50,
          51,
          52,
          53,
          54,
          55,
          56,
          57,
          58,
          59,
          60,
          61,
          62,
          63,
          64,
          65,
          66,
          67,
          68,
          69,
          70,
          71,
          72,
          73,
          74,
          75,
          76,
          77,
          78,
          79,
          80,
          81,
          82,
          83,
          84,
          85,
          86,
          87,
          88,
          89,
          90,
          91,
          92,
          93,
          94,
          95,
          96,
          97,
          98,
          99
         ],
         "y": [
          90,
          90,
          89,
          90,
          90,
          89,
          90,
          91,
          93,
          92,
          93,
          93,
          89,
          91,
          91,
          90,
          91,
          95,
          91,
          90,
          95,
          89,
          89,
          89,
          90,
          89,
          90,
          89,
          89,
          91,
          90,
          88,
          89,
          90,
          91,
          89,
          91,
          90,
          91,
          89,
          91,
          91,
          91,
          91,
          88,
          89,
          91,
          89,
          89,
          89,
          89,
          91,
          90,
          89,
          91,
          91,
          91,
          90,
          92,
          92,
          90,
          92,
          91,
          89,
          90,
          89,
          91,
          90,
          92,
          95,
          92,
          88,
          91,
          91,
          89,
          89,
          90,
          90,
          89,
          89,
          92,
          90,
          89,
          90,
          89,
          88,
          88,
          90,
          89,
          89,
          91,
          91,
          89,
          90,
          89,
          88,
          89,
          87,
          91,
          92
         ]
        },
        {
         "marker": {
          "color": "purple",
          "size": 8
         },
         "mode": "markers",
         "name": "",
         "type": "scatter",
         "x": [
          0,
          99
         ],
         "y": [
          90,
          92
         ]
        },
        {
         "line": {
          "color": "darkgray",
          "width": 2
         },
         "name": "500",
         "type": "scatter",
         "x": [
          0,
          1,
          2,
          3,
          4,
          5,
          6,
          7,
          8,
          9,
          10,
          11,
          12,
          13,
          14,
          15,
          16,
          17,
          18,
          19,
          20,
          21,
          22,
          23,
          24,
          25,
          26,
          27,
          28,
          29,
          30,
          31,
          32,
          33,
          34,
          35,
          36,
          37,
          38,
          39,
          40,
          41,
          42,
          43,
          44,
          45,
          46,
          47,
          48,
          49,
          50,
          51,
          52,
          53,
          54,
          55,
          56,
          57,
          58,
          59,
          60,
          61,
          62,
          63,
          64,
          65,
          66,
          67,
          68,
          69,
          70,
          71,
          72,
          73,
          74,
          75,
          76,
          77,
          78,
          79,
          80,
          81,
          82,
          83,
          84,
          85,
          86,
          87,
          88,
          89,
          90,
          91,
          92,
          93,
          94,
          95,
          96,
          97,
          98,
          99
         ],
         "y": [
          187,
          184,
          183,
          188,
          182,
          182,
          183,
          183,
          183,
          190,
          183,
          178,
          192,
          181,
          181,
          185,
          183,
          181,
          182,
          182,
          180,
          183,
          178,
          207,
          207,
          178,
          180,
          183,
          180,
          181,
          181,
          182,
          178,
          179,
          181,
          180,
          178,
          182,
          179,
          177,
          188,
          185,
          183,
          178,
          182,
          179,
          178,
          180,
          185,
          188,
          183,
          192,
          211,
          189,
          181,
          182,
          184,
          180,
          179,
          189,
          183,
          183,
          182,
          178,
          178,
          183,
          180,
          178,
          184,
          180,
          185,
          180,
          196,
          181,
          187,
          188,
          210,
          199,
          192,
          183,
          177,
          186,
          183,
          193,
          181,
          180,
          183,
          185,
          184,
          182,
          183,
          179,
          183,
          183,
          178,
          184,
          180,
          183,
          183,
          184
         ]
        },
        {
         "marker": {
          "color": "darkgray",
          "size": 8
         },
         "mode": "markers",
         "name": "",
         "type": "scatter",
         "x": [
          0,
          99
         ],
         "y": [
          187,
          184
         ]
        }
       ],
       "layout": {
        "font": {
         "family": "Verdana",
         "size": 14
        },
        "template": {
         "data": {
          "bar": [
           {
            "error_x": {
             "color": "#2a3f5f"
            },
            "error_y": {
             "color": "#2a3f5f"
            },
            "marker": {
             "line": {
              "color": "white",
              "width": 0.5
             },
             "pattern": {
              "fillmode": "overlay",
              "size": 10,
              "solidity": 0.2
             }
            },
            "type": "bar"
           }
          ],
          "barpolar": [
           {
            "marker": {
             "line": {
              "color": "white",
              "width": 0.5
             },
             "pattern": {
              "fillmode": "overlay",
              "size": 10,
              "solidity": 0.2
             }
            },
            "type": "barpolar"
           }
          ],
          "carpet": [
           {
            "aaxis": {
             "endlinecolor": "#2a3f5f",
             "gridcolor": "#C8D4E3",
             "linecolor": "#C8D4E3",
             "minorgridcolor": "#C8D4E3",
             "startlinecolor": "#2a3f5f"
            },
            "baxis": {
             "endlinecolor": "#2a3f5f",
             "gridcolor": "#C8D4E3",
             "linecolor": "#C8D4E3",
             "minorgridcolor": "#C8D4E3",
             "startlinecolor": "#2a3f5f"
            },
            "type": "carpet"
           }
          ],
          "choropleth": [
           {
            "colorbar": {
             "outlinewidth": 0,
             "ticks": ""
            },
            "type": "choropleth"
           }
          ],
          "contour": [
           {
            "colorbar": {
             "outlinewidth": 0,
             "ticks": ""
            },
            "colorscale": [
             [
              0,
              "#0d0887"
             ],
             [
              0.1111111111111111,
              "#46039f"
             ],
             [
              0.2222222222222222,
              "#7201a8"
             ],
             [
              0.3333333333333333,
              "#9c179e"
             ],
             [
              0.4444444444444444,
              "#bd3786"
             ],
             [
              0.5555555555555556,
              "#d8576b"
             ],
             [
              0.6666666666666666,
              "#ed7953"
             ],
             [
              0.7777777777777778,
              "#fb9f3a"
             ],
             [
              0.8888888888888888,
              "#fdca26"
             ],
             [
              1,
              "#f0f921"
             ]
            ],
            "type": "contour"
           }
          ],
          "contourcarpet": [
           {
            "colorbar": {
             "outlinewidth": 0,
             "ticks": ""
            },
            "type": "contourcarpet"
           }
          ],
          "heatmap": [
           {
            "colorbar": {
             "outlinewidth": 0,
             "ticks": ""
            },
            "colorscale": [
             [
              0,
              "#0d0887"
             ],
             [
              0.1111111111111111,
              "#46039f"
             ],
             [
              0.2222222222222222,
              "#7201a8"
             ],
             [
              0.3333333333333333,
              "#9c179e"
             ],
             [
              0.4444444444444444,
              "#bd3786"
             ],
             [
              0.5555555555555556,
              "#d8576b"
             ],
             [
              0.6666666666666666,
              "#ed7953"
             ],
             [
              0.7777777777777778,
              "#fb9f3a"
             ],
             [
              0.8888888888888888,
              "#fdca26"
             ],
             [
              1,
              "#f0f921"
             ]
            ],
            "type": "heatmap"
           }
          ],
          "heatmapgl": [
           {
            "colorbar": {
             "outlinewidth": 0,
             "ticks": ""
            },
            "colorscale": [
             [
              0,
              "#0d0887"
             ],
             [
              0.1111111111111111,
              "#46039f"
             ],
             [
              0.2222222222222222,
              "#7201a8"
             ],
             [
              0.3333333333333333,
              "#9c179e"
             ],
             [
              0.4444444444444444,
              "#bd3786"
             ],
             [
              0.5555555555555556,
              "#d8576b"
             ],
             [
              0.6666666666666666,
              "#ed7953"
             ],
             [
              0.7777777777777778,
              "#fb9f3a"
             ],
             [
              0.8888888888888888,
              "#fdca26"
             ],
             [
              1,
              "#f0f921"
             ]
            ],
            "type": "heatmapgl"
           }
          ],
          "histogram": [
           {
            "marker": {
             "pattern": {
              "fillmode": "overlay",
              "size": 10,
              "solidity": 0.2
             }
            },
            "type": "histogram"
           }
          ],
          "histogram2d": [
           {
            "colorbar": {
             "outlinewidth": 0,
             "ticks": ""
            },
            "colorscale": [
             [
              0,
              "#0d0887"
             ],
             [
              0.1111111111111111,
              "#46039f"
             ],
             [
              0.2222222222222222,
              "#7201a8"
             ],
             [
              0.3333333333333333,
              "#9c179e"
             ],
             [
              0.4444444444444444,
              "#bd3786"
             ],
             [
              0.5555555555555556,
              "#d8576b"
             ],
             [
              0.6666666666666666,
              "#ed7953"
             ],
             [
              0.7777777777777778,
              "#fb9f3a"
             ],
             [
              0.8888888888888888,
              "#fdca26"
             ],
             [
              1,
              "#f0f921"
             ]
            ],
            "type": "histogram2d"
           }
          ],
          "histogram2dcontour": [
           {
            "colorbar": {
             "outlinewidth": 0,
             "ticks": ""
            },
            "colorscale": [
             [
              0,
              "#0d0887"
             ],
             [
              0.1111111111111111,
              "#46039f"
             ],
             [
              0.2222222222222222,
              "#7201a8"
             ],
             [
              0.3333333333333333,
              "#9c179e"
             ],
             [
              0.4444444444444444,
              "#bd3786"
             ],
             [
              0.5555555555555556,
              "#d8576b"
             ],
             [
              0.6666666666666666,
              "#ed7953"
             ],
             [
              0.7777777777777778,
              "#fb9f3a"
             ],
             [
              0.8888888888888888,
              "#fdca26"
             ],
             [
              1,
              "#f0f921"
             ]
            ],
            "type": "histogram2dcontour"
           }
          ],
          "mesh3d": [
           {
            "colorbar": {
             "outlinewidth": 0,
             "ticks": ""
            },
            "type": "mesh3d"
           }
          ],
          "parcoords": [
           {
            "line": {
             "colorbar": {
              "outlinewidth": 0,
              "ticks": ""
             }
            },
            "type": "parcoords"
           }
          ],
          "pie": [
           {
            "automargin": true,
            "type": "pie"
           }
          ],
          "scatter": [
           {
            "fillpattern": {
             "fillmode": "overlay",
             "size": 10,
             "solidity": 0.2
            },
            "type": "scatter"
           }
          ],
          "scatter3d": [
           {
            "line": {
             "colorbar": {
              "outlinewidth": 0,
              "ticks": ""
             }
            },
            "marker": {
             "colorbar": {
              "outlinewidth": 0,
              "ticks": ""
             }
            },
            "type": "scatter3d"
           }
          ],
          "scattercarpet": [
           {
            "marker": {
             "colorbar": {
              "outlinewidth": 0,
              "ticks": ""
             }
            },
            "type": "scattercarpet"
           }
          ],
          "scattergeo": [
           {
            "marker": {
             "colorbar": {
              "outlinewidth": 0,
              "ticks": ""
             }
            },
            "type": "scattergeo"
           }
          ],
          "scattergl": [
           {
            "marker": {
             "colorbar": {
              "outlinewidth": 0,
              "ticks": ""
             }
            },
            "type": "scattergl"
           }
          ],
          "scattermapbox": [
           {
            "marker": {
             "colorbar": {
              "outlinewidth": 0,
              "ticks": ""
             }
            },
            "type": "scattermapbox"
           }
          ],
          "scatterpolar": [
           {
            "marker": {
             "colorbar": {
              "outlinewidth": 0,
              "ticks": ""
             }
            },
            "type": "scatterpolar"
           }
          ],
          "scatterpolargl": [
           {
            "marker": {
             "colorbar": {
              "outlinewidth": 0,
              "ticks": ""
             }
            },
            "type": "scatterpolargl"
           }
          ],
          "scatterternary": [
           {
            "marker": {
             "colorbar": {
              "outlinewidth": 0,
              "ticks": ""
             }
            },
            "type": "scatterternary"
           }
          ],
          "surface": [
           {
            "colorbar": {
             "outlinewidth": 0,
             "ticks": ""
            },
            "colorscale": [
             [
              0,
              "#0d0887"
             ],
             [
              0.1111111111111111,
              "#46039f"
             ],
             [
              0.2222222222222222,
              "#7201a8"
             ],
             [
              0.3333333333333333,
              "#9c179e"
             ],
             [
              0.4444444444444444,
              "#bd3786"
             ],
             [
              0.5555555555555556,
              "#d8576b"
             ],
             [
              0.6666666666666666,
              "#ed7953"
             ],
             [
              0.7777777777777778,
              "#fb9f3a"
             ],
             [
              0.8888888888888888,
              "#fdca26"
             ],
             [
              1,
              "#f0f921"
             ]
            ],
            "type": "surface"
           }
          ],
          "table": [
           {
            "cells": {
             "fill": {
              "color": "#EBF0F8"
             },
             "line": {
              "color": "white"
             }
            },
            "header": {
             "fill": {
              "color": "#C8D4E3"
             },
             "line": {
              "color": "white"
             }
            },
            "type": "table"
           }
          ]
         },
         "layout": {
          "annotationdefaults": {
           "arrowcolor": "#2a3f5f",
           "arrowhead": 0,
           "arrowwidth": 1
          },
          "autotypenumbers": "strict",
          "coloraxis": {
           "colorbar": {
            "outlinewidth": 0,
            "ticks": ""
           }
          },
          "colorscale": {
           "diverging": [
            [
             0,
             "#8e0152"
            ],
            [
             0.1,
             "#c51b7d"
            ],
            [
             0.2,
             "#de77ae"
            ],
            [
             0.3,
             "#f1b6da"
            ],
            [
             0.4,
             "#fde0ef"
            ],
            [
             0.5,
             "#f7f7f7"
            ],
            [
             0.6,
             "#e6f5d0"
            ],
            [
             0.7,
             "#b8e186"
            ],
            [
             0.8,
             "#7fbc41"
            ],
            [
             0.9,
             "#4d9221"
            ],
            [
             1,
             "#276419"
            ]
           ],
           "sequential": [
            [
             0,
             "#0d0887"
            ],
            [
             0.1111111111111111,
             "#46039f"
            ],
            [
             0.2222222222222222,
             "#7201a8"
            ],
            [
             0.3333333333333333,
             "#9c179e"
            ],
            [
             0.4444444444444444,
             "#bd3786"
            ],
            [
             0.5555555555555556,
             "#d8576b"
            ],
            [
             0.6666666666666666,
             "#ed7953"
            ],
            [
             0.7777777777777778,
             "#fb9f3a"
            ],
            [
             0.8888888888888888,
             "#fdca26"
            ],
            [
             1,
             "#f0f921"
            ]
           ],
           "sequentialminus": [
            [
             0,
             "#0d0887"
            ],
            [
             0.1111111111111111,
             "#46039f"
            ],
            [
             0.2222222222222222,
             "#7201a8"
            ],
            [
             0.3333333333333333,
             "#9c179e"
            ],
            [
             0.4444444444444444,
             "#bd3786"
            ],
            [
             0.5555555555555556,
             "#d8576b"
            ],
            [
             0.6666666666666666,
             "#ed7953"
            ],
            [
             0.7777777777777778,
             "#fb9f3a"
            ],
            [
             0.8888888888888888,
             "#fdca26"
            ],
            [
             1,
             "#f0f921"
            ]
           ]
          },
          "colorway": [
           "#636efa",
           "#EF553B",
           "#00cc96",
           "#ab63fa",
           "#FFA15A",
           "#19d3f3",
           "#FF6692",
           "#B6E880",
           "#FF97FF",
           "#FECB52"
          ],
          "font": {
           "color": "#2a3f5f"
          },
          "geo": {
           "bgcolor": "white",
           "lakecolor": "white",
           "landcolor": "white",
           "showlakes": true,
           "showland": true,
           "subunitcolor": "#C8D4E3"
          },
          "hoverlabel": {
           "align": "left"
          },
          "hovermode": "closest",
          "mapbox": {
           "style": "light"
          },
          "paper_bgcolor": "white",
          "plot_bgcolor": "white",
          "polar": {
           "angularaxis": {
            "gridcolor": "#EBF0F8",
            "linecolor": "#EBF0F8",
            "ticks": ""
           },
           "bgcolor": "white",
           "radialaxis": {
            "gridcolor": "#EBF0F8",
            "linecolor": "#EBF0F8",
            "ticks": ""
           }
          },
          "scene": {
           "xaxis": {
            "backgroundcolor": "white",
            "gridcolor": "#DFE8F3",
            "gridwidth": 2,
            "linecolor": "#EBF0F8",
            "showbackground": true,
            "ticks": "",
            "zerolinecolor": "#EBF0F8"
           },
           "yaxis": {
            "backgroundcolor": "white",
            "gridcolor": "#DFE8F3",
            "gridwidth": 2,
            "linecolor": "#EBF0F8",
            "showbackground": true,
            "ticks": "",
            "zerolinecolor": "#EBF0F8"
           },
           "zaxis": {
            "backgroundcolor": "white",
            "gridcolor": "#DFE8F3",
            "gridwidth": 2,
            "linecolor": "#EBF0F8",
            "showbackground": true,
            "ticks": "",
            "zerolinecolor": "#EBF0F8"
           }
          },
          "shapedefaults": {
           "line": {
            "color": "#2a3f5f"
           }
          },
          "ternary": {
           "aaxis": {
            "gridcolor": "#DFE8F3",
            "linecolor": "#A2B1C6",
            "ticks": ""
           },
           "baxis": {
            "gridcolor": "#DFE8F3",
            "linecolor": "#A2B1C6",
            "ticks": ""
           },
           "bgcolor": "white",
           "caxis": {
            "gridcolor": "#DFE8F3",
            "linecolor": "#A2B1C6",
            "ticks": ""
           }
          },
          "title": {
           "x": 0.05
          },
          "xaxis": {
           "automargin": true,
           "gridcolor": "#EBF0F8",
           "linecolor": "#EBF0F8",
           "ticks": "",
           "title": {
            "standoff": 15
           },
           "zerolinecolor": "#EBF0F8",
           "zerolinewidth": 2
          },
          "yaxis": {
           "automargin": true,
           "gridcolor": "#EBF0F8",
           "linecolor": "#EBF0F8",
           "ticks": "",
           "title": {
            "standoff": 15
           },
           "zerolinecolor": "#EBF0F8",
           "zerolinewidth": 2
          }
         }
        },
        "title": {
         "text": "Time Comparison"
        },
        "xaxis": {
         "linewidth": 1.5,
         "showgrid": true,
         "showline": true,
         "showticklabels": true,
         "tickfont": {
          "color": "#000000",
          "family": "Verdana",
          "size": 11
         },
         "ticks": "outside",
         "title": {
          "text": "Iterations"
         }
        },
        "yaxis": {
         "showgrid": true,
         "showline": false,
         "showticklabels": true,
         "tickfont": {
          "color": "#000000",
          "family": "Verdana",
          "size": 11
         },
         "ticks": "outside",
         "title": {
          "text": "Time (ms)"
         },
         "zeroline": false
        }
       }
      }
     },
     "metadata": {},
     "output_type": "display_data"
    }
   ],
   "source": [
    "# seed for reproducibility\n",
    "np.random.seed(0)\n",
    "\n",
    "generations = [50, 100, 250, 500]\n",
    "\n",
    "# Setting previous best parameter as new default value\n",
    "params.update(replace_param)\n",
    "\n",
    "# Print current parameters to use in best_operators_search\n",
    "print('\\033[1mParameters for GA:\\033[0m', end='\\n\\n')\n",
    "print(params, end='\\n\\n')\n",
    "\n",
    "param_list, df = best_operators_search('gen', generations, params)\n",
    "\n",
    "# Displaying average results of the 100 iterations\n",
    "print('\\033[1mAverage results:', end='\\n')\n",
    "df['const'] = 'const'\n",
    "df_avg = df.groupby('const').mean().reset_index(drop=True).round(3)\n",
    "display(df_avg)\n",
    "\n",
    "# Getting best parameter by fitness & time\n",
    "best_param_fit = df_avg[[col for col in df_avg.columns if col.startswith('Fit_')]].idxmax(axis=1)[0].replace('Fit_', '')\n",
    "best_param_time = df_avg[[col for col in df_avg.columns if col.startswith('Time_')]].idxmin(axis=1)[0].replace('Time_', '')\n",
    "replace_param = {'gen': best_param_fit}\n",
    "print(f'\\nBest Fitness: \\033[1m{best_param_fit}\\033[0m\\n\\nBest Time: \\033[1m{best_param_time}\\033[0m', end='\\n\\n')\n",
    "\n",
    "# Plotting results\n",
    "plot_values(data = df, colors = color_palette[:len(generations)], layout=2, template='white', grid=True)"
   ]
  },
  {
   "cell_type": "code",
   "execution_count": 20,
   "metadata": {},
   "outputs": [
    {
     "name": "stdout",
     "output_type": "stream",
     "text": [
      "\u001b[1mFinal Parameters for GA:\u001b[0m\n",
      "\n",
      "{'n': 12, 'pop': 150, 'gen': '250', 'mut_perc': 0.05, 'cross_perc': 0.75, 'mut': 'swap_mutation', 'cross': 'cycle_cross', 'select': 'tournament_selection'}\n"
     ]
    }
   ],
   "source": [
    "# Setting previous best parameter as new default value\n",
    "params.update(replace_param)\n",
    "\n",
    "print('\\033[1mFinal Parameters for GA:\\033[0m', end='\\n\\n')\n",
    "print(params)"
   ]
  },
  {
   "attachments": {},
   "cell_type": "markdown",
   "metadata": {},
   "source": [
    "## __3. Algortihms Comparison__"
   ]
  },
  {
   "cell_type": "code",
   "execution_count": 23,
   "metadata": {},
   "outputs": [
    {
     "data": {
      "text/plain": [
       "1007"
      ]
     },
     "execution_count": 23,
     "metadata": {},
     "output_type": "execute_result"
    }
   ],
   "source": [
    "ba = backtracking_algorithm(n = 12)\n",
    "ba['duration']"
   ]
  },
  {
   "cell_type": "code",
   "execution_count": 24,
   "metadata": {},
   "outputs": [
    {
     "name": "stdout",
     "output_type": "stream",
     "text": [
      "Initial position: [0, 8, 7, 3, 5, 4, 10, 9, 6, 1, 11, 2], fitness: 57\n",
      "Found better solution: [0, 8, 7, 3, 0, 4, 10, 9, 6, 1, 11, 2], Fitness: 60\n",
      "Found better solution: [0, 8, 5, 3, 0, 4, 10, 9, 6, 1, 11, 2], Fitness: 62\n",
      "Found better solution: [5, 8, 5, 3, 0, 4, 10, 9, 6, 1, 11, 2], Fitness: 63\n",
      "Found better solution: [5, 7, 5, 3, 0, 4, 10, 9, 6, 1, 11, 2], Fitness: 64\n",
      "Hill Climbing returned: [5, 7, 5, 3, 0, 4, 10, 9, 6, 1, 11, 2], Fitness: 64\n"
     ]
    },
    {
     "data": {
      "text/plain": [
       "{'best_fitness': 64,\n",
       " 'best_fitness_percentage': 96.96969696969697,\n",
       " 'best_representation': [5, 7, 5, 3, 0, 4, 10, 9, 6, 1, 11, 2]}"
      ]
     },
     "execution_count": 24,
     "metadata": {},
     "output_type": "execute_result"
    }
   ],
   "source": [
    "hc = hill_climbing(n = 12)\n",
    "hc"
   ]
  },
  {
   "cell_type": "code",
   "execution_count": null,
   "metadata": {},
   "outputs": [],
   "source": [
    "ba = backtracking_algorithm(n = 12)\n",
    "hc = hill_climbing(n = 12)\n",
    "sa = sim_annealing(n = 12)\n",
    "ga = genetic_algorithm(**params)"
   ]
  },
  {
   "cell_type": "code",
   "execution_count": null,
   "metadata": {},
   "outputs": [],
   "source": [
    "gen_8 = []\n",
    "gen_11 = []\n",
    "gen_15 = []\n",
    "\n",
    "for _ in range(100):\n",
    "    for i in [8, 11, 15]:\n",
    "        "
   ]
  }
 ],
 "metadata": {
  "kernelspec": {
   "display_name": "CIFO",
   "language": "python",
   "name": "python3"
  },
  "language_info": {
   "codemirror_mode": {
    "name": "ipython",
    "version": 3
   },
   "file_extension": ".py",
   "mimetype": "text/x-python",
   "name": "python",
   "nbconvert_exporter": "python",
   "pygments_lexer": "ipython3",
   "version": "3.11.3"
  },
  "orig_nbformat": 4
 },
 "nbformat": 4,
 "nbformat_minor": 2
}
