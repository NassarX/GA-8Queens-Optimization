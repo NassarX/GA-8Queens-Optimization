{
 "cells": [
  {
   "cell_type": "code",
   "execution_count": 4,
   "metadata": {
    "ExecuteTime": {
     "end_time": "2023-05-26T21:00:00.144067Z",
     "start_time": "2023-05-26T21:00:00.034932Z"
    }
   },
   "outputs": [],
   "source": [
    "# Magic comands\n",
    "%reload_ext autoreload\n",
    "%autoreload 2\n",
    "\n",
    "# Libraries\n",
    "import os, sys\n",
    "import numpy as np\n",
    "\n",
    "module_path = os.path.abspath(os.path.join('.'))\n",
    "if module_path not in sys.path:\n",
    "    sys.path.append(module_path)\n",
    "\n",
    "origin_path = os.getcwd()\n",
    "parent_dir = os.path.abspath(os.path.join(origin_path, os.pardir))\n",
    "os.chdir(parent_dir)\n",
    "\n",
    "from app.nqueens import NQueensGeneticAlgorithm"
   ]
  },
  {
   "cell_type": "code",
   "execution_count": 5,
   "metadata": {
    "ExecuteTime": {
     "end_time": "2023-05-26T21:07:48.633803Z",
     "start_time": "2023-05-26T21:07:48.277270Z"
    }
   },
   "outputs": [],
   "source": [
    "def genetic_algorithm(\n",
    "                    n = 8,\n",
    "                    pop = 200,\n",
    "                    gen = 200,\n",
    "                    mut_perc = .05,\n",
    "                    cross_perc = 0.75,\n",
    "                    mut='swap_mutation',\n",
    "                    cross='pmx',\n",
    "                    select='tournament_selection',\n",
    "                    ):\n",
    "    \n",
    "    nQueensGA = NQueensGeneticAlgorithm(population_size=pop, dimension=n)\n",
    "\n",
    "    nQueensGA.run(\n",
    "        generations=gen,\n",
    "        mutation_probability=mut_perc,\n",
    "        crossover_probability=cross_perc,\n",
    "        mutation_operator=mut,\n",
    "        crossover_operator=cross,\n",
    "        selection_operator=select\n",
    "    )\n",
    "\n",
    "    return nQueensGA.report()"
   ]
  },
  {
   "cell_type": "code",
   "execution_count": 6,
   "metadata": {
    "collapsed": false
   },
   "outputs": [
    {
     "data": {
      "text/plain": [
       "{'generations': 500,\n",
       " 'duration': 197,\n",
       " 'best_fitness': 27,\n",
       " 'best_fitness_percentage': 96.42857142857143,\n",
       " 'best_representation': [7, 4, 2, 0, 6, 1, 7, 5],\n",
       " 'worst_fitness': 27,\n",
       " 'worst_representation': [7, 4, 2, 0, 6, 1, 7, 5],\n",
       " 'mean_fitness': 27.0,\n",
       " 'selection_operator': 'tournament_selection',\n",
       " 'mutate_operator': 'inversion_mutation',\n",
       " 'crossover_operator': 'single_point_co'}"
      ]
     },
     "execution_count": 6,
     "metadata": {},
     "output_type": "execute_result"
    }
   ],
   "source": [
    "# testing function\n",
    "ga = genetic_algorithm(\n",
    "                                            n = 8,\n",
    "                                            pop = 100,\n",
    "                                            gen = 500,\n",
    "                                            mut_perc = .02,\n",
    "                                            cross_perc = .8,\n",
    "                                            mut = \"inversion_mutation\",\n",
    "                                            cross = \"single_cross\",\n",
    "                                            select = \"tournament_selection\"\n",
    "                                            )\n",
    "ga"
   ]
  },
  {
   "attachments": {},
   "cell_type": "markdown",
   "metadata": {},
   "source": [
    "## __1. Optimization__"
   ]
  },
  {
   "cell_type": "code",
   "execution_count": 7,
   "metadata": {},
   "outputs": [],
   "source": [
    "\n",
    "def best_operators_search(parameter: str, values: list):\n",
    "    # dictionary with parameter names and default values \n",
    "    defaults = genetic_algorithm.__defaults__\n",
    "    parameters = genetic_algorithm.__code__.co_varnames\n",
    "    params = {param: val for param, val in zip(parameters, defaults)}\n",
    "    # initializing variables\n",
    "    best_fit = 0.0\n",
    "    time_fit = 9e99\n",
    "    fit_dict = {}\n",
    "    time_dict = {}\n",
    "    param_list = []\n",
    "\n",
    "    # Perform grid search\n",
    "    for i in values:\n",
    "        # 100 iterations to generate statistically relevant results\n",
    "        iter = 1\n",
    "        fit_list = []\n",
    "        time_list = []\n",
    "        for _ in range(100):\n",
    "            # changing parameter according to input\n",
    "            params[parameter] = i\n",
    "            # Define the model with current hyperparameters\n",
    "            ga = genetic_algorithm(**params)\n",
    "            # gets restults\n",
    "            fit = ga['best_fitness_percentage']\n",
    "            time_it = ga['duration']\n",
    "            # Check if current solution has better fitness than previous best \n",
    "            if fit > best_fit:\n",
    "                best_fit = fit\n",
    "                time_fit = time_it\n",
    "                best_param = {parameter: i}\n",
    "            # Check if the solution with fitness as good is faster than previous best\n",
    "            if fit == best_fit and time_it < time_fit:\n",
    "                time_fit = time_it\n",
    "                best_param = {parameter: i}\n",
    "            # Append results to get 100 iterations values\n",
    "            fit_list.append(best_fit)\n",
    "            time_list.append(time_fit)\n",
    "        # saving results per parameter\n",
    "        param_list.append(best_param)\n",
    "        fit_dict[i] = fit_list\n",
    "        time_dict[i] = time_list\n",
    "        \n",
    "    return best_fit, time_fit, fit_dict, time_dict, param_list"
   ]
  },
  {
   "attachments": {},
   "cell_type": "markdown",
   "metadata": {},
   "source": [
    "### __1.1 Selection Module__"
   ]
  },
  {
   "cell_type": "code",
   "execution_count": 8,
   "metadata": {},
   "outputs": [],
   "source": [
    "# Define the range of values for each hyperparameter\n",
    "#xo = ['single_cross', 'cycle_cross', 'pmx', 'arithmetic_cross']\n",
    "select = ['tournament_selection', 'stochastic_universal_sampling']\n",
    "#mutation = ['swap_mutation', 'random_mutation', 'inversion_mutation']\n",
    "#population = [100, 250, 500, 1000]\n",
    "#generations = [100, 250, 500]\n",
    "#cross_percentage = np.arange(0.8, 0.95, 0.05)\n",
    "#mut_percentage = np.arange(0.01, 0.06, 0.01)\n",
    "\n",
    "best_operators_search('select', select)"
   ]
  }
 ],
 "metadata": {
  "kernelspec": {
   "display_name": "CIFO",
   "language": "python",
   "name": "python3"
  },
  "language_info": {
   "codemirror_mode": {
    "name": "ipython",
    "version": 3
   },
   "file_extension": ".py",
   "mimetype": "text/x-python",
   "name": "python",
   "nbconvert_exporter": "python",
   "pygments_lexer": "ipython3",
   "version": "3.11.3"
  },
  "orig_nbformat": 4
 },
 "nbformat": 4,
 "nbformat_minor": 2
}
