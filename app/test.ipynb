{
 "cells": [
  {
   "cell_type": "code",
   "execution_count": 1,
   "metadata": {
    "ExecuteTime": {
     "end_time": "2023-05-26T21:00:00.144067Z",
     "start_time": "2023-05-26T21:00:00.034932Z"
    }
   },
   "outputs": [],
   "source": [
    "# Magic comands\n",
    "%reload_ext autoreload\n",
    "%autoreload 2\n",
    "\n",
    "# Libraries\n",
    "import numpy as np\n",
    "import pandas as pd\n",
    "import os, sys, webcolors\n",
    "from datetime import datetime\n",
    "import plotly.graph_objects as go\n",
    "\n",
    "module_path = os.path.abspath(os.path.join('.'))\n",
    "if module_path not in sys.path:\n",
    "    sys.path.append(module_path)\n",
    "\n",
    "origin_path = os.getcwd()\n",
    "parent_dir = os.path.abspath(os.path.join(origin_path, os.pardir))\n",
    "os.chdir(parent_dir)\n",
    "\n",
    "from app.nqueens import NQueensGeneticAlgorithm, NQueensBacktracking, NQueensHillClimbing"
   ]
  },
  {
   "attachments": {},
   "cell_type": "markdown",
   "metadata": {},
   "source": [
    "## __Algorithm Functions__"
   ]
  },
  {
   "cell_type": "code",
   "execution_count": 8,
   "metadata": {},
   "outputs": [],
   "source": [
    "def backtracking_algorithm(n= 8):\n",
    "    # initializing timer\n",
    "    start_time = datetime.now()\n",
    "\n",
    "    # algorithm\n",
    "    backtracking = NQueensBacktracking()\n",
    "    results = backtracking.solveNQueens(n)\n",
    "\n",
    "    # stopping timer\n",
    "    end_time = datetime.now()\n",
    "\n",
    "    # calculating runtime in miliseconds\n",
    "    execution_time = int((end_time - start_time).total_seconds() * 1000)\n",
    "\n",
    "    return {'dimensions': n, 'duration': execution_time}"
   ]
  },
  {
   "cell_type": "code",
   "execution_count": 10,
   "metadata": {},
   "outputs": [
    {
     "data": {
      "text/plain": [
       "{'dimensions': 11, 'duration': 185}"
      ]
     },
     "execution_count": 10,
     "metadata": {},
     "output_type": "execute_result"
    }
   ],
   "source": [
    "# testing\n",
    "ba = backtracking_algorithm(n = 11)\n",
    "\n",
    "ba"
   ]
  },
  {
   "cell_type": "code",
   "execution_count": 11,
   "metadata": {},
   "outputs": [],
   "source": [
    "def hill_climbing():\n",
    "    pass"
   ]
  },
  {
   "cell_type": "code",
   "execution_count": 12,
   "metadata": {},
   "outputs": [],
   "source": [
    "def sim_annealing():\n",
    "    pass"
   ]
  },
  {
   "cell_type": "code",
   "execution_count": 13,
   "metadata": {
    "ExecuteTime": {
     "end_time": "2023-05-26T21:07:48.633803Z",
     "start_time": "2023-05-26T21:07:48.277270Z"
    }
   },
   "outputs": [],
   "source": [
    "def genetic_algorithm(\n",
    "                    n = 25,\n",
    "                    pop = 100,\n",
    "                    gen = 50,\n",
    "                    mut_perc = .05, # .01 .1\n",
    "                    cross_perc = .75, # .6 to .9\n",
    "                    mut='random_mutation',\n",
    "                    cross='single_cross',\n",
    "                    select='tournament_selection',\n",
    "                    ):\n",
    "    \n",
    "    nQueensGA = NQueensGeneticAlgorithm(population_size=pop, dimension=n)\n",
    "\n",
    "    nQueensGA.run(\n",
    "        generations=gen,\n",
    "        mutation_probability=mut_perc,\n",
    "        crossover_probability=cross_perc,\n",
    "        mutation_operator=mut,\n",
    "        crossover_operator=cross,\n",
    "        selection_operator=select\n",
    "    )\n",
    "\n",
    "    return nQueensGA.report()"
   ]
  },
  {
   "cell_type": "code",
   "execution_count": 14,
   "metadata": {
    "collapsed": false
   },
   "outputs": [
    {
     "data": {
      "text/plain": [
       "{'generations': 50,\n",
       " 'duration': 74,\n",
       " 'best_fitness': 102,\n",
       " 'best_fitness_percentage': 97.14285714285714,\n",
       " 'best_representation': [14, 3, 0, 4, 1, 12, 5, 2, 11, 10, 8, 13, 7, 9, 6],\n",
       " 'worst_fitness': 102,\n",
       " 'worst_representation': [14, 3, 0, 4, 1, 12, 5, 2, 11, 10, 8, 13, 7, 9, 6],\n",
       " 'mean_fitness': 102.0,\n",
       " 'selection_operator': 'fps',\n",
       " 'mutate_operator': 'random_position_mutation',\n",
       " 'crossover_operator': 'pmx'}"
      ]
     },
     "execution_count": 14,
     "metadata": {},
     "output_type": "execute_result"
    }
   ],
   "source": [
    "# testing function\n",
    "ga = genetic_algorithm(\n",
    "                                            n = 15,\n",
    "                                            pop = 100,\n",
    "                                            gen = 50,\n",
    "                                            mut_perc = .05,\n",
    "                                            cross_perc = .75,\n",
    "                                            mut = \"random_mutation\",\n",
    "                                            cross = \"pmx\",\n",
    "                                            select = \"fps\"\n",
    "                                            )\n",
    "ga"
   ]
  },
  {
   "attachments": {},
   "cell_type": "markdown",
   "metadata": {},
   "source": [
    "## __1. Operators & Paramaters Optimization__"
   ]
  },
  {
   "cell_type": "code",
   "execution_count": 4,
   "metadata": {},
   "outputs": [],
   "source": [
    "# dictionary with parameter names and default values \n",
    "defaults = genetic_algorithm.__defaults__\n",
    "parameters = genetic_algorithm.__code__.co_varnames\n",
    "params = {param: val for param, val in zip(parameters, defaults)}\n",
    "\n",
    "# color list for plots\n",
    "color_palette = ['gray', 'steelblue', 'purple', 'darkgray', 'lightgray', 'slategray', 'cornflowerblue', 'lavender', 'powderblue']"
   ]
  },
  {
   "cell_type": "code",
   "execution_count": 5,
   "metadata": {},
   "outputs": [],
   "source": [
    "def best_operators_search(parameter: str, values: list, previous_best_params: list = None):\n",
    "    \n",
    "    if previous_best_params:\n",
    "        params = previous_best_params\n",
    "    else:\n",
    "        # dictionary with parameter names and default values \n",
    "        defaults = genetic_algorithm.__defaults__\n",
    "        parameters = genetic_algorithm.__code__.co_varnames\n",
    "        params = {param: val for param, val in zip(parameters, defaults)}\n",
    "    \n",
    "    # initializing variables\n",
    "    best_fit = 0.0\n",
    "    time_fit = 9e99\n",
    "    fit_dict = {}\n",
    "    time_dict = {}\n",
    "    param_list = []\n",
    "\n",
    "    # Perform grid search\n",
    "    for i in values:\n",
    "        # 100 iterations to generate statistically relevant results\n",
    "        fit_list = []\n",
    "        time_list = []\n",
    "        for _ in range(100):\n",
    "            # changing parameter according to input\n",
    "            params[parameter] = i\n",
    "            # Define the model with current hyperparameters\n",
    "            ga = genetic_algorithm(**params)\n",
    "            # gets restults\n",
    "            fit = ga['best_fitness_percentage']\n",
    "            time_it = ga['duration']\n",
    "            # Check if current solution has better fitness than previous best \n",
    "            if fit > best_fit:\n",
    "                best_fit = fit\n",
    "                time_fit = time_it\n",
    "                best_param = {parameter: i}\n",
    "            # Check if the solution with fitness as good is faster than previous best\n",
    "            if fit == best_fit and time_it < time_fit:\n",
    "                time_fit = time_it\n",
    "                best_param = {parameter: i}\n",
    "            # Append results to get 100 iterations values\n",
    "            fit_list.append(fit)\n",
    "            time_list.append(time_it)\n",
    "        # saving results per parameter\n",
    "        param_list.append(best_param)\n",
    "        fit_dict['Fit_' + str(i)] = fit_list\n",
    "        time_dict['Time_' + str(i)] = time_list\n",
    "\n",
    "    unique_best_params =list({tuple(d.items()): d for d in param_list}.values())\n",
    "\n",
    "    # dataframe with results\n",
    "    fit_dict.update(time_dict)\n",
    "    df = pd.DataFrame(fit_dict)\n",
    "        \n",
    "    return unique_best_params, df"
   ]
  },
  {
   "cell_type": "code",
   "execution_count": 6,
   "metadata": {},
   "outputs": [],
   "source": [
    "def plot_values(data: pd.DataFrame, colors: list, layout: int, template:str, grid:  bool):\n",
    "    # Filter columns starting with \"Fit_\"\n",
    "    fit_columns = [col for col in data.columns if col.startswith('Fit_')]\n",
    "\n",
    "    # Filter columns starting with \"Time_\"\n",
    "    time_columns = [col for col in data.columns if col.startswith('Time_')]\n",
    "\n",
    "    template_map = {'white':'plotly_white', 'dark': 'plotly_dark'}\n",
    "\n",
    "    tick_font_map = {'white': webcolors.rgb_to_hex(webcolors.name_to_rgb('black')), 'dark': webcolors.rgb_to_hex(webcolors.name_to_rgb('white'))}\n",
    "\n",
    "    # Layout styles\n",
    "    layout_1 = {\n",
    "        'xaxis_title': 'Iterations',\n",
    "        'yaxis_title': 'Time (ms)',\n",
    "        'template': template_map[template],\n",
    "        'font': {'size': 14, 'family': 'Verdana'},\n",
    "        'title': {'text': 'Time Comparison', 'font': {'size': 19, 'family': 'Verdana'}},\n",
    "        'xaxis': {'showgrid': grid, 'ticks': 'outside', 'tickfont': {'color': tick_font_map[template]}},\n",
    "        'yaxis': {'showgrid': grid, 'tickfont': {'color': tick_font_map[template]}}\n",
    "        }\n",
    "    \n",
    "    layout_2 = {\n",
    "        'template': template_map[template],\n",
    "        'font': {'size': 14, 'family': 'Verdana'},\n",
    "        'xaxis': {\n",
    "            'showline': True,\n",
    "            'showgrid': grid,\n",
    "            'showticklabels': True,\n",
    "            'linewidth': 1.5,\n",
    "            'ticks': 'outside',\n",
    "            'tickfont': {\n",
    "                'family': 'Verdana',\n",
    "                'size': 11,\n",
    "                'color': tick_font_map[template]}},\n",
    "        'yaxis': {\n",
    "            'showgrid': grid,\n",
    "            'zeroline': False,\n",
    "            'showline': False,\n",
    "            'showticklabels': True,\n",
    "            'ticks': 'outside',\n",
    "            'tickfont': {\n",
    "                'family': 'Verdana',\n",
    "                'size': 11,\n",
    "                'color': tick_font_map[template]}}}\n",
    "    \n",
    "    layout_map = {1:layout_1, 2:layout_2}\n",
    "\n",
    "    # Convert color names to RGB values\n",
    "    rgb_colors = [webcolors.name_to_rgb(color) for color in colors]\n",
    "\n",
    "    mode_size = 8\n",
    "    line_size = 2\n",
    "\n",
    "    # Create a subplot with two line plots\n",
    "    fig = go.Figure()\n",
    "\n",
    "    # Add line plots for \"Fit_\" columns\n",
    "    i = 0\n",
    "    for col in fit_columns:\n",
    "        fig.add_trace(go.Scatter(x=data.index, y=data[col], name=col.replace('Fit_', ''),\n",
    "                                line=dict(color=colors[i], width=line_size),\n",
    "                                ))\n",
    "\n",
    "        fig.add_trace(go.Scatter(\n",
    "            x=[data.index[0], data.index[-1]],\n",
    "            y=[data[col][0], data[col].iloc[-1]],\n",
    "            mode='markers',\n",
    "            marker=dict(color=colors[i], size=mode_size),\n",
    "            name=''\n",
    "        ))\n",
    "        i += 1\n",
    "\n",
    "    layout_map[layout].update({\n",
    "                            'title': 'Fitness Comparison',\n",
    "                            'xaxis_title': 'Iterations',\n",
    "                            'yaxis_title': 'Fitness'})\n",
    "\n",
    "    fig.update_layout(layout_map[layout])\n",
    "\n",
    "    fig2 = go.Figure()\n",
    "\n",
    "    # Add line plots for \"Time_\" columns\n",
    "    i = 0\n",
    "    for col in time_columns:\n",
    "        fig2.add_trace(go.Scatter(x=data.index, y=data[col], name=col.replace('Time_', ''),\n",
    "                                line=dict(color=colors[i], width=line_size),\n",
    "                                ))\n",
    "\n",
    "        fig2.add_trace(go.Scatter(\n",
    "            x=[data.index[0], data.index[-1]],\n",
    "            y=[data[col][0], data[col].iloc[-1]],\n",
    "            mode='markers',\n",
    "            marker=dict(color=colors[i], size=mode_size),\n",
    "            name=''\n",
    "        ))\n",
    "        i += 1\n",
    "\n",
    "    layout_map[layout].update({\n",
    "                            'title': 'Time Comparison',\n",
    "                            'xaxis_title': 'Iterations',\n",
    "                            'yaxis_title': 'Time (ms)'})\n",
    "\n",
    "    fig2.update_layout(layout_map[layout])\n",
    "\n",
    "    # Show the plots\n",
    "    fig.show()\n",
    "    fig2.show()"
   ]
  },
  {
   "attachments": {},
   "cell_type": "markdown",
   "metadata": {},
   "source": [
    "### __1.1 Mutation Operator__"
   ]
  },
  {
   "cell_type": "code",
   "execution_count": 7,
   "metadata": {},
   "outputs": [
    {
     "name": "stdout",
     "output_type": "stream",
     "text": [
      "\u001b[1mParameters for GA:\u001b[0m\n",
      "\n",
      "{'n': 25, 'pop': 100, 'gen': 50, 'mut_perc': 0.05, 'cross_perc': 0.75, 'mut': 'random_mutation', 'cross': 'single_cross', 'select': 'tournament_selection'}\n",
      "\n",
      "\u001b[1mAverage results:\n"
     ]
    },
    {
     "data": {
      "text/html": [
       "<div>\n",
       "<style scoped>\n",
       "    .dataframe tbody tr th:only-of-type {\n",
       "        vertical-align: middle;\n",
       "    }\n",
       "\n",
       "    .dataframe tbody tr th {\n",
       "        vertical-align: top;\n",
       "    }\n",
       "\n",
       "    .dataframe thead th {\n",
       "        text-align: right;\n",
       "    }\n",
       "</style>\n",
       "<table border=\"1\" class=\"dataframe\">\n",
       "  <thead>\n",
       "    <tr style=\"text-align: right;\">\n",
       "      <th></th>\n",
       "      <th>Fit_swap_mutation</th>\n",
       "      <th>Fit_random_mutation</th>\n",
       "      <th>Fit_inversion_mutation</th>\n",
       "      <th>Time_swap_mutation</th>\n",
       "      <th>Time_random_mutation</th>\n",
       "      <th>Time_inversion_mutation</th>\n",
       "    </tr>\n",
       "  </thead>\n",
       "  <tbody>\n",
       "    <tr>\n",
       "      <th>0</th>\n",
       "      <td>97.317</td>\n",
       "      <td>97.363</td>\n",
       "      <td>97.273</td>\n",
       "      <td>9.87</td>\n",
       "      <td>11.11</td>\n",
       "      <td>9.92</td>\n",
       "    </tr>\n",
       "  </tbody>\n",
       "</table>\n",
       "</div>"
      ],
      "text/plain": [
       "   Fit_swap_mutation  Fit_random_mutation  Fit_inversion_mutation   \n",
       "0             97.317               97.363                  97.273  \\\n",
       "\n",
       "   Time_swap_mutation  Time_random_mutation  Time_inversion_mutation  \n",
       "0                9.87                 11.11                     9.92  "
      ]
     },
     "metadata": {},
     "output_type": "display_data"
    },
    {
     "name": "stdout",
     "output_type": "stream",
     "text": [
      "\n",
      "Best Fitness: \u001b[1mrandom_mutation\u001b[0m\n",
      "\n",
      "Best Time: \u001b[1mswap_mutation\u001b[0m\n",
      "\n"
     ]
    },
    {
     "data": {
      "application/vnd.plotly.v1+json": {
       "config": {
        "plotlyServerURL": "https://plot.ly"
       },
       "data": [
        {
         "line": {
          "color": "gray",
          "width": 2
         },
         "name": "swap_mutation",
         "type": "scatter",
         "x": [
          0,
          1,
          2,
          3,
          4,
          5,
          6,
          7,
          8,
          9,
          10,
          11,
          12,
          13,
          14,
          15,
          16,
          17,
          18,
          19,
          20,
          21,
          22,
          23,
          24,
          25,
          26,
          27,
          28,
          29,
          30,
          31,
          32,
          33,
          34,
          35,
          36,
          37,
          38,
          39,
          40,
          41,
          42,
          43,
          44,
          45,
          46,
          47,
          48,
          49,
          50,
          51,
          52,
          53,
          54,
          55,
          56,
          57,
          58,
          59,
          60,
          61,
          62,
          63,
          64,
          65,
          66,
          67,
          68,
          69,
          70,
          71,
          72,
          73,
          74,
          75,
          76,
          77,
          78,
          79,
          80,
          81,
          82,
          83,
          84,
          85,
          86,
          87,
          88,
          89,
          90,
          91,
          92,
          93,
          94,
          95,
          96,
          97,
          98,
          99
         ],
         "y": [
          97.33333333333333,
          97.66666666666667,
          97.33333333333333,
          97.66666666666667,
          97.33333333333333,
          97,
          98,
          97,
          97,
          96.66666666666667,
          97,
          97.66666666666667,
          97.66666666666667,
          97.33333333333333,
          97.33333333333333,
          97.33333333333333,
          97,
          98,
          97,
          97,
          97,
          97,
          97.33333333333333,
          97.33333333333333,
          97,
          98,
          97.33333333333333,
          97.33333333333333,
          97.33333333333333,
          97.33333333333333,
          97,
          97.33333333333333,
          97,
          97.33333333333333,
          97.66666666666667,
          97.33333333333333,
          97.33333333333333,
          98,
          97.66666666666667,
          97.66666666666667,
          97.66666666666667,
          97.33333333333333,
          97,
          97,
          97,
          97.33333333333333,
          97.33333333333333,
          97.33333333333333,
          97.66666666666667,
          97.66666666666667,
          97.33333333333333,
          97,
          97.66666666666667,
          97,
          98,
          97.33333333333333,
          98,
          96.66666666666667,
          97,
          97.33333333333333,
          97,
          97.33333333333333,
          96.66666666666667,
          97,
          97.33333333333333,
          97.66666666666667,
          96.66666666666667,
          97.33333333333333,
          97,
          98,
          97,
          97.33333333333333,
          97.33333333333333,
          97.66666666666667,
          97.33333333333333,
          97.66666666666667,
          97.33333333333333,
          97.66666666666667,
          97.33333333333333,
          97,
          97.33333333333333,
          97.66666666666667,
          97.33333333333333,
          97.66666666666667,
          97,
          97.33333333333333,
          97,
          97,
          97.33333333333333,
          97,
          97.33333333333333,
          98,
          97,
          97.33333333333333,
          97,
          97.66666666666667,
          97,
          97.66666666666667,
          97,
          97
         ]
        },
        {
         "marker": {
          "color": "gray",
          "size": 8
         },
         "mode": "markers",
         "name": "",
         "type": "scatter",
         "x": [
          0,
          99
         ],
         "y": [
          97.33333333333333,
          97
         ]
        },
        {
         "line": {
          "color": "steelblue",
          "width": 2
         },
         "name": "random_mutation",
         "type": "scatter",
         "x": [
          0,
          1,
          2,
          3,
          4,
          5,
          6,
          7,
          8,
          9,
          10,
          11,
          12,
          13,
          14,
          15,
          16,
          17,
          18,
          19,
          20,
          21,
          22,
          23,
          24,
          25,
          26,
          27,
          28,
          29,
          30,
          31,
          32,
          33,
          34,
          35,
          36,
          37,
          38,
          39,
          40,
          41,
          42,
          43,
          44,
          45,
          46,
          47,
          48,
          49,
          50,
          51,
          52,
          53,
          54,
          55,
          56,
          57,
          58,
          59,
          60,
          61,
          62,
          63,
          64,
          65,
          66,
          67,
          68,
          69,
          70,
          71,
          72,
          73,
          74,
          75,
          76,
          77,
          78,
          79,
          80,
          81,
          82,
          83,
          84,
          85,
          86,
          87,
          88,
          89,
          90,
          91,
          92,
          93,
          94,
          95,
          96,
          97,
          98,
          99
         ],
         "y": [
          97.66666666666667,
          98,
          97.33333333333333,
          97,
          97.33333333333333,
          98.33333333333333,
          96.33333333333333,
          97.33333333333333,
          97.33333333333333,
          97.33333333333333,
          97.33333333333333,
          98,
          96.66666666666667,
          97,
          97,
          98,
          97.33333333333333,
          97,
          97.33333333333333,
          97.66666666666667,
          97.33333333333333,
          98,
          97.33333333333333,
          97.66666666666667,
          97.33333333333333,
          97.66666666666667,
          97.33333333333333,
          97,
          97,
          97.33333333333333,
          97.33333333333333,
          97.66666666666667,
          97.33333333333333,
          97.33333333333333,
          97.66666666666667,
          97.33333333333333,
          98.33333333333333,
          98,
          97.33333333333333,
          97,
          97.66666666666667,
          98.33333333333333,
          97.33333333333333,
          98,
          97.33333333333333,
          97.33333333333333,
          97.66666666666667,
          97.33333333333333,
          96.66666666666667,
          97.66666666666667,
          97.33333333333333,
          97.33333333333333,
          97.33333333333333,
          98,
          97,
          97.33333333333333,
          97,
          97.33333333333333,
          96.66666666666667,
          97.33333333333333,
          97,
          97.66666666666667,
          97.33333333333333,
          97.66666666666667,
          97.66666666666667,
          97,
          97.66666666666667,
          98,
          96.66666666666667,
          97.66666666666667,
          97.33333333333333,
          97.33333333333333,
          97.33333333333333,
          97,
          97.66666666666667,
          97,
          97.33333333333333,
          97,
          97,
          97.33333333333333,
          97.66666666666667,
          97,
          97.66666666666667,
          97,
          97,
          96.66666666666667,
          97.33333333333333,
          97,
          98,
          97,
          97.66666666666667,
          97.33333333333333,
          97,
          97.33333333333333,
          97.33333333333333,
          97,
          97.33333333333333,
          97,
          97.33333333333333,
          97.33333333333333
         ]
        },
        {
         "marker": {
          "color": "steelblue",
          "size": 8
         },
         "mode": "markers",
         "name": "",
         "type": "scatter",
         "x": [
          0,
          99
         ],
         "y": [
          97.66666666666667,
          97.33333333333333
         ]
        },
        {
         "line": {
          "color": "purple",
          "width": 2
         },
         "name": "inversion_mutation",
         "type": "scatter",
         "x": [
          0,
          1,
          2,
          3,
          4,
          5,
          6,
          7,
          8,
          9,
          10,
          11,
          12,
          13,
          14,
          15,
          16,
          17,
          18,
          19,
          20,
          21,
          22,
          23,
          24,
          25,
          26,
          27,
          28,
          29,
          30,
          31,
          32,
          33,
          34,
          35,
          36,
          37,
          38,
          39,
          40,
          41,
          42,
          43,
          44,
          45,
          46,
          47,
          48,
          49,
          50,
          51,
          52,
          53,
          54,
          55,
          56,
          57,
          58,
          59,
          60,
          61,
          62,
          63,
          64,
          65,
          66,
          67,
          68,
          69,
          70,
          71,
          72,
          73,
          74,
          75,
          76,
          77,
          78,
          79,
          80,
          81,
          82,
          83,
          84,
          85,
          86,
          87,
          88,
          89,
          90,
          91,
          92,
          93,
          94,
          95,
          96,
          97,
          98,
          99
         ],
         "y": [
          96.66666666666667,
          97.66666666666667,
          97.33333333333333,
          97,
          97.33333333333333,
          97.33333333333333,
          98.33333333333333,
          97.33333333333333,
          98,
          97.33333333333333,
          97,
          97.33333333333333,
          97.66666666666667,
          97.33333333333333,
          97.66666666666667,
          97.33333333333333,
          97.66666666666667,
          97.33333333333333,
          97,
          97.66666666666667,
          97.33333333333333,
          96.66666666666667,
          97.66666666666667,
          96.66666666666667,
          97,
          97.33333333333333,
          97,
          97,
          98,
          98,
          97,
          96.66666666666667,
          97,
          97.66666666666667,
          97,
          97,
          97.66666666666667,
          97,
          97,
          97,
          97.33333333333333,
          97,
          97.66666666666667,
          96.66666666666667,
          97.33333333333333,
          97.33333333333333,
          98,
          97,
          97,
          97.66666666666667,
          97.33333333333333,
          96.66666666666667,
          97,
          97,
          97,
          96.66666666666667,
          98,
          97,
          97,
          97,
          97.66666666666667,
          97,
          97.33333333333333,
          97.33333333333333,
          97,
          97,
          97.33333333333333,
          97.33333333333333,
          97.33333333333333,
          97.33333333333333,
          97,
          97,
          97,
          97,
          96.66666666666667,
          98,
          97.33333333333333,
          97.33333333333333,
          98.33333333333333,
          97,
          97.33333333333333,
          97,
          97.66666666666667,
          97.33333333333333,
          97.33333333333333,
          97,
          96.66666666666667,
          97.33333333333333,
          97,
          97,
          97.33333333333333,
          97.33333333333333,
          97.33333333333333,
          97.66666666666667,
          97.33333333333333,
          97,
          97.66666666666667,
          97.33333333333333,
          97.66666666666667,
          98
         ]
        },
        {
         "marker": {
          "color": "purple",
          "size": 8
         },
         "mode": "markers",
         "name": "",
         "type": "scatter",
         "x": [
          0,
          99
         ],
         "y": [
          96.66666666666667,
          98
         ]
        }
       ],
       "layout": {
        "font": {
         "family": "Verdana",
         "size": 14
        },
        "template": {
         "data": {
          "bar": [
           {
            "error_x": {
             "color": "#2a3f5f"
            },
            "error_y": {
             "color": "#2a3f5f"
            },
            "marker": {
             "line": {
              "color": "white",
              "width": 0.5
             },
             "pattern": {
              "fillmode": "overlay",
              "size": 10,
              "solidity": 0.2
             }
            },
            "type": "bar"
           }
          ],
          "barpolar": [
           {
            "marker": {
             "line": {
              "color": "white",
              "width": 0.5
             },
             "pattern": {
              "fillmode": "overlay",
              "size": 10,
              "solidity": 0.2
             }
            },
            "type": "barpolar"
           }
          ],
          "carpet": [
           {
            "aaxis": {
             "endlinecolor": "#2a3f5f",
             "gridcolor": "#C8D4E3",
             "linecolor": "#C8D4E3",
             "minorgridcolor": "#C8D4E3",
             "startlinecolor": "#2a3f5f"
            },
            "baxis": {
             "endlinecolor": "#2a3f5f",
             "gridcolor": "#C8D4E3",
             "linecolor": "#C8D4E3",
             "minorgridcolor": "#C8D4E3",
             "startlinecolor": "#2a3f5f"
            },
            "type": "carpet"
           }
          ],
          "choropleth": [
           {
            "colorbar": {
             "outlinewidth": 0,
             "ticks": ""
            },
            "type": "choropleth"
           }
          ],
          "contour": [
           {
            "colorbar": {
             "outlinewidth": 0,
             "ticks": ""
            },
            "colorscale": [
             [
              0,
              "#0d0887"
             ],
             [
              0.1111111111111111,
              "#46039f"
             ],
             [
              0.2222222222222222,
              "#7201a8"
             ],
             [
              0.3333333333333333,
              "#9c179e"
             ],
             [
              0.4444444444444444,
              "#bd3786"
             ],
             [
              0.5555555555555556,
              "#d8576b"
             ],
             [
              0.6666666666666666,
              "#ed7953"
             ],
             [
              0.7777777777777778,
              "#fb9f3a"
             ],
             [
              0.8888888888888888,
              "#fdca26"
             ],
             [
              1,
              "#f0f921"
             ]
            ],
            "type": "contour"
           }
          ],
          "contourcarpet": [
           {
            "colorbar": {
             "outlinewidth": 0,
             "ticks": ""
            },
            "type": "contourcarpet"
           }
          ],
          "heatmap": [
           {
            "colorbar": {
             "outlinewidth": 0,
             "ticks": ""
            },
            "colorscale": [
             [
              0,
              "#0d0887"
             ],
             [
              0.1111111111111111,
              "#46039f"
             ],
             [
              0.2222222222222222,
              "#7201a8"
             ],
             [
              0.3333333333333333,
              "#9c179e"
             ],
             [
              0.4444444444444444,
              "#bd3786"
             ],
             [
              0.5555555555555556,
              "#d8576b"
             ],
             [
              0.6666666666666666,
              "#ed7953"
             ],
             [
              0.7777777777777778,
              "#fb9f3a"
             ],
             [
              0.8888888888888888,
              "#fdca26"
             ],
             [
              1,
              "#f0f921"
             ]
            ],
            "type": "heatmap"
           }
          ],
          "heatmapgl": [
           {
            "colorbar": {
             "outlinewidth": 0,
             "ticks": ""
            },
            "colorscale": [
             [
              0,
              "#0d0887"
             ],
             [
              0.1111111111111111,
              "#46039f"
             ],
             [
              0.2222222222222222,
              "#7201a8"
             ],
             [
              0.3333333333333333,
              "#9c179e"
             ],
             [
              0.4444444444444444,
              "#bd3786"
             ],
             [
              0.5555555555555556,
              "#d8576b"
             ],
             [
              0.6666666666666666,
              "#ed7953"
             ],
             [
              0.7777777777777778,
              "#fb9f3a"
             ],
             [
              0.8888888888888888,
              "#fdca26"
             ],
             [
              1,
              "#f0f921"
             ]
            ],
            "type": "heatmapgl"
           }
          ],
          "histogram": [
           {
            "marker": {
             "pattern": {
              "fillmode": "overlay",
              "size": 10,
              "solidity": 0.2
             }
            },
            "type": "histogram"
           }
          ],
          "histogram2d": [
           {
            "colorbar": {
             "outlinewidth": 0,
             "ticks": ""
            },
            "colorscale": [
             [
              0,
              "#0d0887"
             ],
             [
              0.1111111111111111,
              "#46039f"
             ],
             [
              0.2222222222222222,
              "#7201a8"
             ],
             [
              0.3333333333333333,
              "#9c179e"
             ],
             [
              0.4444444444444444,
              "#bd3786"
             ],
             [
              0.5555555555555556,
              "#d8576b"
             ],
             [
              0.6666666666666666,
              "#ed7953"
             ],
             [
              0.7777777777777778,
              "#fb9f3a"
             ],
             [
              0.8888888888888888,
              "#fdca26"
             ],
             [
              1,
              "#f0f921"
             ]
            ],
            "type": "histogram2d"
           }
          ],
          "histogram2dcontour": [
           {
            "colorbar": {
             "outlinewidth": 0,
             "ticks": ""
            },
            "colorscale": [
             [
              0,
              "#0d0887"
             ],
             [
              0.1111111111111111,
              "#46039f"
             ],
             [
              0.2222222222222222,
              "#7201a8"
             ],
             [
              0.3333333333333333,
              "#9c179e"
             ],
             [
              0.4444444444444444,
              "#bd3786"
             ],
             [
              0.5555555555555556,
              "#d8576b"
             ],
             [
              0.6666666666666666,
              "#ed7953"
             ],
             [
              0.7777777777777778,
              "#fb9f3a"
             ],
             [
              0.8888888888888888,
              "#fdca26"
             ],
             [
              1,
              "#f0f921"
             ]
            ],
            "type": "histogram2dcontour"
           }
          ],
          "mesh3d": [
           {
            "colorbar": {
             "outlinewidth": 0,
             "ticks": ""
            },
            "type": "mesh3d"
           }
          ],
          "parcoords": [
           {
            "line": {
             "colorbar": {
              "outlinewidth": 0,
              "ticks": ""
             }
            },
            "type": "parcoords"
           }
          ],
          "pie": [
           {
            "automargin": true,
            "type": "pie"
           }
          ],
          "scatter": [
           {
            "fillpattern": {
             "fillmode": "overlay",
             "size": 10,
             "solidity": 0.2
            },
            "type": "scatter"
           }
          ],
          "scatter3d": [
           {
            "line": {
             "colorbar": {
              "outlinewidth": 0,
              "ticks": ""
             }
            },
            "marker": {
             "colorbar": {
              "outlinewidth": 0,
              "ticks": ""
             }
            },
            "type": "scatter3d"
           }
          ],
          "scattercarpet": [
           {
            "marker": {
             "colorbar": {
              "outlinewidth": 0,
              "ticks": ""
             }
            },
            "type": "scattercarpet"
           }
          ],
          "scattergeo": [
           {
            "marker": {
             "colorbar": {
              "outlinewidth": 0,
              "ticks": ""
             }
            },
            "type": "scattergeo"
           }
          ],
          "scattergl": [
           {
            "marker": {
             "colorbar": {
              "outlinewidth": 0,
              "ticks": ""
             }
            },
            "type": "scattergl"
           }
          ],
          "scattermapbox": [
           {
            "marker": {
             "colorbar": {
              "outlinewidth": 0,
              "ticks": ""
             }
            },
            "type": "scattermapbox"
           }
          ],
          "scatterpolar": [
           {
            "marker": {
             "colorbar": {
              "outlinewidth": 0,
              "ticks": ""
             }
            },
            "type": "scatterpolar"
           }
          ],
          "scatterpolargl": [
           {
            "marker": {
             "colorbar": {
              "outlinewidth": 0,
              "ticks": ""
             }
            },
            "type": "scatterpolargl"
           }
          ],
          "scatterternary": [
           {
            "marker": {
             "colorbar": {
              "outlinewidth": 0,
              "ticks": ""
             }
            },
            "type": "scatterternary"
           }
          ],
          "surface": [
           {
            "colorbar": {
             "outlinewidth": 0,
             "ticks": ""
            },
            "colorscale": [
             [
              0,
              "#0d0887"
             ],
             [
              0.1111111111111111,
              "#46039f"
             ],
             [
              0.2222222222222222,
              "#7201a8"
             ],
             [
              0.3333333333333333,
              "#9c179e"
             ],
             [
              0.4444444444444444,
              "#bd3786"
             ],
             [
              0.5555555555555556,
              "#d8576b"
             ],
             [
              0.6666666666666666,
              "#ed7953"
             ],
             [
              0.7777777777777778,
              "#fb9f3a"
             ],
             [
              0.8888888888888888,
              "#fdca26"
             ],
             [
              1,
              "#f0f921"
             ]
            ],
            "type": "surface"
           }
          ],
          "table": [
           {
            "cells": {
             "fill": {
              "color": "#EBF0F8"
             },
             "line": {
              "color": "white"
             }
            },
            "header": {
             "fill": {
              "color": "#C8D4E3"
             },
             "line": {
              "color": "white"
             }
            },
            "type": "table"
           }
          ]
         },
         "layout": {
          "annotationdefaults": {
           "arrowcolor": "#2a3f5f",
           "arrowhead": 0,
           "arrowwidth": 1
          },
          "autotypenumbers": "strict",
          "coloraxis": {
           "colorbar": {
            "outlinewidth": 0,
            "ticks": ""
           }
          },
          "colorscale": {
           "diverging": [
            [
             0,
             "#8e0152"
            ],
            [
             0.1,
             "#c51b7d"
            ],
            [
             0.2,
             "#de77ae"
            ],
            [
             0.3,
             "#f1b6da"
            ],
            [
             0.4,
             "#fde0ef"
            ],
            [
             0.5,
             "#f7f7f7"
            ],
            [
             0.6,
             "#e6f5d0"
            ],
            [
             0.7,
             "#b8e186"
            ],
            [
             0.8,
             "#7fbc41"
            ],
            [
             0.9,
             "#4d9221"
            ],
            [
             1,
             "#276419"
            ]
           ],
           "sequential": [
            [
             0,
             "#0d0887"
            ],
            [
             0.1111111111111111,
             "#46039f"
            ],
            [
             0.2222222222222222,
             "#7201a8"
            ],
            [
             0.3333333333333333,
             "#9c179e"
            ],
            [
             0.4444444444444444,
             "#bd3786"
            ],
            [
             0.5555555555555556,
             "#d8576b"
            ],
            [
             0.6666666666666666,
             "#ed7953"
            ],
            [
             0.7777777777777778,
             "#fb9f3a"
            ],
            [
             0.8888888888888888,
             "#fdca26"
            ],
            [
             1,
             "#f0f921"
            ]
           ],
           "sequentialminus": [
            [
             0,
             "#0d0887"
            ],
            [
             0.1111111111111111,
             "#46039f"
            ],
            [
             0.2222222222222222,
             "#7201a8"
            ],
            [
             0.3333333333333333,
             "#9c179e"
            ],
            [
             0.4444444444444444,
             "#bd3786"
            ],
            [
             0.5555555555555556,
             "#d8576b"
            ],
            [
             0.6666666666666666,
             "#ed7953"
            ],
            [
             0.7777777777777778,
             "#fb9f3a"
            ],
            [
             0.8888888888888888,
             "#fdca26"
            ],
            [
             1,
             "#f0f921"
            ]
           ]
          },
          "colorway": [
           "#636efa",
           "#EF553B",
           "#00cc96",
           "#ab63fa",
           "#FFA15A",
           "#19d3f3",
           "#FF6692",
           "#B6E880",
           "#FF97FF",
           "#FECB52"
          ],
          "font": {
           "color": "#2a3f5f"
          },
          "geo": {
           "bgcolor": "white",
           "lakecolor": "white",
           "landcolor": "white",
           "showlakes": true,
           "showland": true,
           "subunitcolor": "#C8D4E3"
          },
          "hoverlabel": {
           "align": "left"
          },
          "hovermode": "closest",
          "mapbox": {
           "style": "light"
          },
          "paper_bgcolor": "white",
          "plot_bgcolor": "white",
          "polar": {
           "angularaxis": {
            "gridcolor": "#EBF0F8",
            "linecolor": "#EBF0F8",
            "ticks": ""
           },
           "bgcolor": "white",
           "radialaxis": {
            "gridcolor": "#EBF0F8",
            "linecolor": "#EBF0F8",
            "ticks": ""
           }
          },
          "scene": {
           "xaxis": {
            "backgroundcolor": "white",
            "gridcolor": "#DFE8F3",
            "gridwidth": 2,
            "linecolor": "#EBF0F8",
            "showbackground": true,
            "ticks": "",
            "zerolinecolor": "#EBF0F8"
           },
           "yaxis": {
            "backgroundcolor": "white",
            "gridcolor": "#DFE8F3",
            "gridwidth": 2,
            "linecolor": "#EBF0F8",
            "showbackground": true,
            "ticks": "",
            "zerolinecolor": "#EBF0F8"
           },
           "zaxis": {
            "backgroundcolor": "white",
            "gridcolor": "#DFE8F3",
            "gridwidth": 2,
            "linecolor": "#EBF0F8",
            "showbackground": true,
            "ticks": "",
            "zerolinecolor": "#EBF0F8"
           }
          },
          "shapedefaults": {
           "line": {
            "color": "#2a3f5f"
           }
          },
          "ternary": {
           "aaxis": {
            "gridcolor": "#DFE8F3",
            "linecolor": "#A2B1C6",
            "ticks": ""
           },
           "baxis": {
            "gridcolor": "#DFE8F3",
            "linecolor": "#A2B1C6",
            "ticks": ""
           },
           "bgcolor": "white",
           "caxis": {
            "gridcolor": "#DFE8F3",
            "linecolor": "#A2B1C6",
            "ticks": ""
           }
          },
          "title": {
           "x": 0.05
          },
          "xaxis": {
           "automargin": true,
           "gridcolor": "#EBF0F8",
           "linecolor": "#EBF0F8",
           "ticks": "",
           "title": {
            "standoff": 15
           },
           "zerolinecolor": "#EBF0F8",
           "zerolinewidth": 2
          },
          "yaxis": {
           "automargin": true,
           "gridcolor": "#EBF0F8",
           "linecolor": "#EBF0F8",
           "ticks": "",
           "title": {
            "standoff": 15
           },
           "zerolinecolor": "#EBF0F8",
           "zerolinewidth": 2
          }
         }
        },
        "title": {
         "text": "Fitness Comparison"
        },
        "xaxis": {
         "linewidth": 1.5,
         "showgrid": true,
         "showline": true,
         "showticklabels": true,
         "tickfont": {
          "color": "#000000",
          "family": "Verdana",
          "size": 11
         },
         "ticks": "outside",
         "title": {
          "text": "Iterations"
         }
        },
        "yaxis": {
         "showgrid": true,
         "showline": false,
         "showticklabels": true,
         "tickfont": {
          "color": "#000000",
          "family": "Verdana",
          "size": 11
         },
         "ticks": "outside",
         "title": {
          "text": "Fitness"
         },
         "zeroline": false
        }
       }
      }
     },
     "metadata": {},
     "output_type": "display_data"
    },
    {
     "data": {
      "application/vnd.plotly.v1+json": {
       "config": {
        "plotlyServerURL": "https://plot.ly"
       },
       "data": [
        {
         "line": {
          "color": "gray",
          "width": 2
         },
         "name": "swap_mutation",
         "type": "scatter",
         "x": [
          0,
          1,
          2,
          3,
          4,
          5,
          6,
          7,
          8,
          9,
          10,
          11,
          12,
          13,
          14,
          15,
          16,
          17,
          18,
          19,
          20,
          21,
          22,
          23,
          24,
          25,
          26,
          27,
          28,
          29,
          30,
          31,
          32,
          33,
          34,
          35,
          36,
          37,
          38,
          39,
          40,
          41,
          42,
          43,
          44,
          45,
          46,
          47,
          48,
          49,
          50,
          51,
          52,
          53,
          54,
          55,
          56,
          57,
          58,
          59,
          60,
          61,
          62,
          63,
          64,
          65,
          66,
          67,
          68,
          69,
          70,
          71,
          72,
          73,
          74,
          75,
          76,
          77,
          78,
          79,
          80,
          81,
          82,
          83,
          84,
          85,
          86,
          87,
          88,
          89,
          90,
          91,
          92,
          93,
          94,
          95,
          96,
          97,
          98,
          99
         ],
         "y": [
          12,
          11,
          10,
          10,
          9,
          10,
          10,
          10,
          9,
          10,
          10,
          10,
          10,
          10,
          10,
          10,
          10,
          11,
          10,
          10,
          10,
          10,
          9,
          10,
          10,
          10,
          10,
          9,
          10,
          10,
          9,
          10,
          10,
          10,
          10,
          10,
          10,
          10,
          10,
          10,
          9,
          10,
          10,
          10,
          9,
          10,
          9,
          10,
          10,
          10,
          10,
          10,
          10,
          10,
          9,
          10,
          10,
          10,
          9,
          10,
          10,
          10,
          10,
          10,
          10,
          9,
          9,
          9,
          10,
          10,
          9,
          10,
          9,
          10,
          10,
          10,
          10,
          10,
          10,
          10,
          9,
          9,
          10,
          10,
          9,
          10,
          10,
          10,
          10,
          10,
          10,
          10,
          10,
          9,
          10,
          10,
          10,
          10,
          11,
          11
         ]
        },
        {
         "marker": {
          "color": "gray",
          "size": 8
         },
         "mode": "markers",
         "name": "",
         "type": "scatter",
         "x": [
          0,
          99
         ],
         "y": [
          12,
          11
         ]
        },
        {
         "line": {
          "color": "steelblue",
          "width": 2
         },
         "name": "random_mutation",
         "type": "scatter",
         "x": [
          0,
          1,
          2,
          3,
          4,
          5,
          6,
          7,
          8,
          9,
          10,
          11,
          12,
          13,
          14,
          15,
          16,
          17,
          18,
          19,
          20,
          21,
          22,
          23,
          24,
          25,
          26,
          27,
          28,
          29,
          30,
          31,
          32,
          33,
          34,
          35,
          36,
          37,
          38,
          39,
          40,
          41,
          42,
          43,
          44,
          45,
          46,
          47,
          48,
          49,
          50,
          51,
          52,
          53,
          54,
          55,
          56,
          57,
          58,
          59,
          60,
          61,
          62,
          63,
          64,
          65,
          66,
          67,
          68,
          69,
          70,
          71,
          72,
          73,
          74,
          75,
          76,
          77,
          78,
          79,
          80,
          81,
          82,
          83,
          84,
          85,
          86,
          87,
          88,
          89,
          90,
          91,
          92,
          93,
          94,
          95,
          96,
          97,
          98,
          99
         ],
         "y": [
          11,
          11,
          11,
          11,
          12,
          12,
          11,
          11,
          11,
          12,
          11,
          11,
          11,
          11,
          12,
          12,
          11,
          11,
          11,
          12,
          11,
          11,
          11,
          11,
          11,
          11,
          11,
          11,
          11,
          11,
          11,
          11,
          11,
          11,
          11,
          11,
          11,
          11,
          11,
          11,
          11,
          11,
          11,
          11,
          11,
          11,
          11,
          11,
          11,
          11,
          11,
          12,
          11,
          11,
          11,
          11,
          11,
          11,
          11,
          11,
          11,
          11,
          11,
          11,
          11,
          11,
          11,
          11,
          11,
          11,
          11,
          11,
          11,
          11,
          11,
          12,
          11,
          11,
          11,
          11,
          11,
          11,
          11,
          12,
          11,
          11,
          11,
          11,
          12,
          11,
          11,
          11,
          11,
          11,
          12,
          11,
          11,
          11,
          11,
          11
         ]
        },
        {
         "marker": {
          "color": "steelblue",
          "size": 8
         },
         "mode": "markers",
         "name": "",
         "type": "scatter",
         "x": [
          0,
          99
         ],
         "y": [
          11,
          11
         ]
        },
        {
         "line": {
          "color": "purple",
          "width": 2
         },
         "name": "inversion_mutation",
         "type": "scatter",
         "x": [
          0,
          1,
          2,
          3,
          4,
          5,
          6,
          7,
          8,
          9,
          10,
          11,
          12,
          13,
          14,
          15,
          16,
          17,
          18,
          19,
          20,
          21,
          22,
          23,
          24,
          25,
          26,
          27,
          28,
          29,
          30,
          31,
          32,
          33,
          34,
          35,
          36,
          37,
          38,
          39,
          40,
          41,
          42,
          43,
          44,
          45,
          46,
          47,
          48,
          49,
          50,
          51,
          52,
          53,
          54,
          55,
          56,
          57,
          58,
          59,
          60,
          61,
          62,
          63,
          64,
          65,
          66,
          67,
          68,
          69,
          70,
          71,
          72,
          73,
          74,
          75,
          76,
          77,
          78,
          79,
          80,
          81,
          82,
          83,
          84,
          85,
          86,
          87,
          88,
          89,
          90,
          91,
          92,
          93,
          94,
          95,
          96,
          97,
          98,
          99
         ],
         "y": [
          9,
          10,
          10,
          10,
          10,
          9,
          10,
          10,
          10,
          10,
          10,
          10,
          10,
          10,
          10,
          10,
          10,
          10,
          10,
          10,
          10,
          10,
          10,
          10,
          10,
          10,
          10,
          10,
          10,
          10,
          10,
          10,
          9,
          10,
          10,
          10,
          10,
          10,
          10,
          10,
          10,
          10,
          10,
          10,
          10,
          10,
          10,
          9,
          10,
          10,
          10,
          10,
          10,
          10,
          10,
          10,
          10,
          10,
          10,
          10,
          10,
          10,
          10,
          10,
          10,
          10,
          10,
          10,
          10,
          10,
          9,
          10,
          10,
          10,
          10,
          10,
          9,
          10,
          10,
          10,
          10,
          10,
          10,
          9,
          10,
          10,
          10,
          10,
          10,
          10,
          10,
          10,
          10,
          10,
          9,
          10,
          10,
          10,
          10,
          10
         ]
        },
        {
         "marker": {
          "color": "purple",
          "size": 8
         },
         "mode": "markers",
         "name": "",
         "type": "scatter",
         "x": [
          0,
          99
         ],
         "y": [
          9,
          10
         ]
        }
       ],
       "layout": {
        "font": {
         "family": "Verdana",
         "size": 14
        },
        "template": {
         "data": {
          "bar": [
           {
            "error_x": {
             "color": "#2a3f5f"
            },
            "error_y": {
             "color": "#2a3f5f"
            },
            "marker": {
             "line": {
              "color": "white",
              "width": 0.5
             },
             "pattern": {
              "fillmode": "overlay",
              "size": 10,
              "solidity": 0.2
             }
            },
            "type": "bar"
           }
          ],
          "barpolar": [
           {
            "marker": {
             "line": {
              "color": "white",
              "width": 0.5
             },
             "pattern": {
              "fillmode": "overlay",
              "size": 10,
              "solidity": 0.2
             }
            },
            "type": "barpolar"
           }
          ],
          "carpet": [
           {
            "aaxis": {
             "endlinecolor": "#2a3f5f",
             "gridcolor": "#C8D4E3",
             "linecolor": "#C8D4E3",
             "minorgridcolor": "#C8D4E3",
             "startlinecolor": "#2a3f5f"
            },
            "baxis": {
             "endlinecolor": "#2a3f5f",
             "gridcolor": "#C8D4E3",
             "linecolor": "#C8D4E3",
             "minorgridcolor": "#C8D4E3",
             "startlinecolor": "#2a3f5f"
            },
            "type": "carpet"
           }
          ],
          "choropleth": [
           {
            "colorbar": {
             "outlinewidth": 0,
             "ticks": ""
            },
            "type": "choropleth"
           }
          ],
          "contour": [
           {
            "colorbar": {
             "outlinewidth": 0,
             "ticks": ""
            },
            "colorscale": [
             [
              0,
              "#0d0887"
             ],
             [
              0.1111111111111111,
              "#46039f"
             ],
             [
              0.2222222222222222,
              "#7201a8"
             ],
             [
              0.3333333333333333,
              "#9c179e"
             ],
             [
              0.4444444444444444,
              "#bd3786"
             ],
             [
              0.5555555555555556,
              "#d8576b"
             ],
             [
              0.6666666666666666,
              "#ed7953"
             ],
             [
              0.7777777777777778,
              "#fb9f3a"
             ],
             [
              0.8888888888888888,
              "#fdca26"
             ],
             [
              1,
              "#f0f921"
             ]
            ],
            "type": "contour"
           }
          ],
          "contourcarpet": [
           {
            "colorbar": {
             "outlinewidth": 0,
             "ticks": ""
            },
            "type": "contourcarpet"
           }
          ],
          "heatmap": [
           {
            "colorbar": {
             "outlinewidth": 0,
             "ticks": ""
            },
            "colorscale": [
             [
              0,
              "#0d0887"
             ],
             [
              0.1111111111111111,
              "#46039f"
             ],
             [
              0.2222222222222222,
              "#7201a8"
             ],
             [
              0.3333333333333333,
              "#9c179e"
             ],
             [
              0.4444444444444444,
              "#bd3786"
             ],
             [
              0.5555555555555556,
              "#d8576b"
             ],
             [
              0.6666666666666666,
              "#ed7953"
             ],
             [
              0.7777777777777778,
              "#fb9f3a"
             ],
             [
              0.8888888888888888,
              "#fdca26"
             ],
             [
              1,
              "#f0f921"
             ]
            ],
            "type": "heatmap"
           }
          ],
          "heatmapgl": [
           {
            "colorbar": {
             "outlinewidth": 0,
             "ticks": ""
            },
            "colorscale": [
             [
              0,
              "#0d0887"
             ],
             [
              0.1111111111111111,
              "#46039f"
             ],
             [
              0.2222222222222222,
              "#7201a8"
             ],
             [
              0.3333333333333333,
              "#9c179e"
             ],
             [
              0.4444444444444444,
              "#bd3786"
             ],
             [
              0.5555555555555556,
              "#d8576b"
             ],
             [
              0.6666666666666666,
              "#ed7953"
             ],
             [
              0.7777777777777778,
              "#fb9f3a"
             ],
             [
              0.8888888888888888,
              "#fdca26"
             ],
             [
              1,
              "#f0f921"
             ]
            ],
            "type": "heatmapgl"
           }
          ],
          "histogram": [
           {
            "marker": {
             "pattern": {
              "fillmode": "overlay",
              "size": 10,
              "solidity": 0.2
             }
            },
            "type": "histogram"
           }
          ],
          "histogram2d": [
           {
            "colorbar": {
             "outlinewidth": 0,
             "ticks": ""
            },
            "colorscale": [
             [
              0,
              "#0d0887"
             ],
             [
              0.1111111111111111,
              "#46039f"
             ],
             [
              0.2222222222222222,
              "#7201a8"
             ],
             [
              0.3333333333333333,
              "#9c179e"
             ],
             [
              0.4444444444444444,
              "#bd3786"
             ],
             [
              0.5555555555555556,
              "#d8576b"
             ],
             [
              0.6666666666666666,
              "#ed7953"
             ],
             [
              0.7777777777777778,
              "#fb9f3a"
             ],
             [
              0.8888888888888888,
              "#fdca26"
             ],
             [
              1,
              "#f0f921"
             ]
            ],
            "type": "histogram2d"
           }
          ],
          "histogram2dcontour": [
           {
            "colorbar": {
             "outlinewidth": 0,
             "ticks": ""
            },
            "colorscale": [
             [
              0,
              "#0d0887"
             ],
             [
              0.1111111111111111,
              "#46039f"
             ],
             [
              0.2222222222222222,
              "#7201a8"
             ],
             [
              0.3333333333333333,
              "#9c179e"
             ],
             [
              0.4444444444444444,
              "#bd3786"
             ],
             [
              0.5555555555555556,
              "#d8576b"
             ],
             [
              0.6666666666666666,
              "#ed7953"
             ],
             [
              0.7777777777777778,
              "#fb9f3a"
             ],
             [
              0.8888888888888888,
              "#fdca26"
             ],
             [
              1,
              "#f0f921"
             ]
            ],
            "type": "histogram2dcontour"
           }
          ],
          "mesh3d": [
           {
            "colorbar": {
             "outlinewidth": 0,
             "ticks": ""
            },
            "type": "mesh3d"
           }
          ],
          "parcoords": [
           {
            "line": {
             "colorbar": {
              "outlinewidth": 0,
              "ticks": ""
             }
            },
            "type": "parcoords"
           }
          ],
          "pie": [
           {
            "automargin": true,
            "type": "pie"
           }
          ],
          "scatter": [
           {
            "fillpattern": {
             "fillmode": "overlay",
             "size": 10,
             "solidity": 0.2
            },
            "type": "scatter"
           }
          ],
          "scatter3d": [
           {
            "line": {
             "colorbar": {
              "outlinewidth": 0,
              "ticks": ""
             }
            },
            "marker": {
             "colorbar": {
              "outlinewidth": 0,
              "ticks": ""
             }
            },
            "type": "scatter3d"
           }
          ],
          "scattercarpet": [
           {
            "marker": {
             "colorbar": {
              "outlinewidth": 0,
              "ticks": ""
             }
            },
            "type": "scattercarpet"
           }
          ],
          "scattergeo": [
           {
            "marker": {
             "colorbar": {
              "outlinewidth": 0,
              "ticks": ""
             }
            },
            "type": "scattergeo"
           }
          ],
          "scattergl": [
           {
            "marker": {
             "colorbar": {
              "outlinewidth": 0,
              "ticks": ""
             }
            },
            "type": "scattergl"
           }
          ],
          "scattermapbox": [
           {
            "marker": {
             "colorbar": {
              "outlinewidth": 0,
              "ticks": ""
             }
            },
            "type": "scattermapbox"
           }
          ],
          "scatterpolar": [
           {
            "marker": {
             "colorbar": {
              "outlinewidth": 0,
              "ticks": ""
             }
            },
            "type": "scatterpolar"
           }
          ],
          "scatterpolargl": [
           {
            "marker": {
             "colorbar": {
              "outlinewidth": 0,
              "ticks": ""
             }
            },
            "type": "scatterpolargl"
           }
          ],
          "scatterternary": [
           {
            "marker": {
             "colorbar": {
              "outlinewidth": 0,
              "ticks": ""
             }
            },
            "type": "scatterternary"
           }
          ],
          "surface": [
           {
            "colorbar": {
             "outlinewidth": 0,
             "ticks": ""
            },
            "colorscale": [
             [
              0,
              "#0d0887"
             ],
             [
              0.1111111111111111,
              "#46039f"
             ],
             [
              0.2222222222222222,
              "#7201a8"
             ],
             [
              0.3333333333333333,
              "#9c179e"
             ],
             [
              0.4444444444444444,
              "#bd3786"
             ],
             [
              0.5555555555555556,
              "#d8576b"
             ],
             [
              0.6666666666666666,
              "#ed7953"
             ],
             [
              0.7777777777777778,
              "#fb9f3a"
             ],
             [
              0.8888888888888888,
              "#fdca26"
             ],
             [
              1,
              "#f0f921"
             ]
            ],
            "type": "surface"
           }
          ],
          "table": [
           {
            "cells": {
             "fill": {
              "color": "#EBF0F8"
             },
             "line": {
              "color": "white"
             }
            },
            "header": {
             "fill": {
              "color": "#C8D4E3"
             },
             "line": {
              "color": "white"
             }
            },
            "type": "table"
           }
          ]
         },
         "layout": {
          "annotationdefaults": {
           "arrowcolor": "#2a3f5f",
           "arrowhead": 0,
           "arrowwidth": 1
          },
          "autotypenumbers": "strict",
          "coloraxis": {
           "colorbar": {
            "outlinewidth": 0,
            "ticks": ""
           }
          },
          "colorscale": {
           "diverging": [
            [
             0,
             "#8e0152"
            ],
            [
             0.1,
             "#c51b7d"
            ],
            [
             0.2,
             "#de77ae"
            ],
            [
             0.3,
             "#f1b6da"
            ],
            [
             0.4,
             "#fde0ef"
            ],
            [
             0.5,
             "#f7f7f7"
            ],
            [
             0.6,
             "#e6f5d0"
            ],
            [
             0.7,
             "#b8e186"
            ],
            [
             0.8,
             "#7fbc41"
            ],
            [
             0.9,
             "#4d9221"
            ],
            [
             1,
             "#276419"
            ]
           ],
           "sequential": [
            [
             0,
             "#0d0887"
            ],
            [
             0.1111111111111111,
             "#46039f"
            ],
            [
             0.2222222222222222,
             "#7201a8"
            ],
            [
             0.3333333333333333,
             "#9c179e"
            ],
            [
             0.4444444444444444,
             "#bd3786"
            ],
            [
             0.5555555555555556,
             "#d8576b"
            ],
            [
             0.6666666666666666,
             "#ed7953"
            ],
            [
             0.7777777777777778,
             "#fb9f3a"
            ],
            [
             0.8888888888888888,
             "#fdca26"
            ],
            [
             1,
             "#f0f921"
            ]
           ],
           "sequentialminus": [
            [
             0,
             "#0d0887"
            ],
            [
             0.1111111111111111,
             "#46039f"
            ],
            [
             0.2222222222222222,
             "#7201a8"
            ],
            [
             0.3333333333333333,
             "#9c179e"
            ],
            [
             0.4444444444444444,
             "#bd3786"
            ],
            [
             0.5555555555555556,
             "#d8576b"
            ],
            [
             0.6666666666666666,
             "#ed7953"
            ],
            [
             0.7777777777777778,
             "#fb9f3a"
            ],
            [
             0.8888888888888888,
             "#fdca26"
            ],
            [
             1,
             "#f0f921"
            ]
           ]
          },
          "colorway": [
           "#636efa",
           "#EF553B",
           "#00cc96",
           "#ab63fa",
           "#FFA15A",
           "#19d3f3",
           "#FF6692",
           "#B6E880",
           "#FF97FF",
           "#FECB52"
          ],
          "font": {
           "color": "#2a3f5f"
          },
          "geo": {
           "bgcolor": "white",
           "lakecolor": "white",
           "landcolor": "white",
           "showlakes": true,
           "showland": true,
           "subunitcolor": "#C8D4E3"
          },
          "hoverlabel": {
           "align": "left"
          },
          "hovermode": "closest",
          "mapbox": {
           "style": "light"
          },
          "paper_bgcolor": "white",
          "plot_bgcolor": "white",
          "polar": {
           "angularaxis": {
            "gridcolor": "#EBF0F8",
            "linecolor": "#EBF0F8",
            "ticks": ""
           },
           "bgcolor": "white",
           "radialaxis": {
            "gridcolor": "#EBF0F8",
            "linecolor": "#EBF0F8",
            "ticks": ""
           }
          },
          "scene": {
           "xaxis": {
            "backgroundcolor": "white",
            "gridcolor": "#DFE8F3",
            "gridwidth": 2,
            "linecolor": "#EBF0F8",
            "showbackground": true,
            "ticks": "",
            "zerolinecolor": "#EBF0F8"
           },
           "yaxis": {
            "backgroundcolor": "white",
            "gridcolor": "#DFE8F3",
            "gridwidth": 2,
            "linecolor": "#EBF0F8",
            "showbackground": true,
            "ticks": "",
            "zerolinecolor": "#EBF0F8"
           },
           "zaxis": {
            "backgroundcolor": "white",
            "gridcolor": "#DFE8F3",
            "gridwidth": 2,
            "linecolor": "#EBF0F8",
            "showbackground": true,
            "ticks": "",
            "zerolinecolor": "#EBF0F8"
           }
          },
          "shapedefaults": {
           "line": {
            "color": "#2a3f5f"
           }
          },
          "ternary": {
           "aaxis": {
            "gridcolor": "#DFE8F3",
            "linecolor": "#A2B1C6",
            "ticks": ""
           },
           "baxis": {
            "gridcolor": "#DFE8F3",
            "linecolor": "#A2B1C6",
            "ticks": ""
           },
           "bgcolor": "white",
           "caxis": {
            "gridcolor": "#DFE8F3",
            "linecolor": "#A2B1C6",
            "ticks": ""
           }
          },
          "title": {
           "x": 0.05
          },
          "xaxis": {
           "automargin": true,
           "gridcolor": "#EBF0F8",
           "linecolor": "#EBF0F8",
           "ticks": "",
           "title": {
            "standoff": 15
           },
           "zerolinecolor": "#EBF0F8",
           "zerolinewidth": 2
          },
          "yaxis": {
           "automargin": true,
           "gridcolor": "#EBF0F8",
           "linecolor": "#EBF0F8",
           "ticks": "",
           "title": {
            "standoff": 15
           },
           "zerolinecolor": "#EBF0F8",
           "zerolinewidth": 2
          }
         }
        },
        "title": {
         "text": "Time Comparison"
        },
        "xaxis": {
         "linewidth": 1.5,
         "showgrid": true,
         "showline": true,
         "showticklabels": true,
         "tickfont": {
          "color": "#000000",
          "family": "Verdana",
          "size": 11
         },
         "ticks": "outside",
         "title": {
          "text": "Iterations"
         }
        },
        "yaxis": {
         "showgrid": true,
         "showline": false,
         "showticklabels": true,
         "tickfont": {
          "color": "#000000",
          "family": "Verdana",
          "size": 11
         },
         "ticks": "outside",
         "title": {
          "text": "Time (ms)"
         },
         "zeroline": false
        }
       }
      }
     },
     "metadata": {},
     "output_type": "display_data"
    }
   ],
   "source": [
    "# seed for reproducibility\n",
    "np.random.seed(0)\n",
    "\n",
    "# Define the range of values\n",
    "#xo = ['single_cross', 'cycle_cross', 'pmx', 'arithmetic_cross']\n",
    "#select = ['tournament_selection', 'stochastic_universal_sampling']\n",
    "mutation = ['swap_mutation', 'random_mutation', 'inversion_mutation']\n",
    "#population = [100, 250, 500, 1000]\n",
    "#generations = [100, 250, 500]\n",
    "#cross_percentage = np.arange(0.8, 0.95, 0.05)\n",
    "#mut_percentage = np.arange(0.01, 0.06, 0.01)\n",
    "\n",
    "# Print current parameters to use in best_operators_search\n",
    "print('\\033[1mParameters for GA:\\033[0m', end='\\n\\n')\n",
    "print(params, end='\\n\\n')\n",
    "\n",
    "param_list, df = best_operators_search('mut', mutation, params)\n",
    "\n",
    "# Displaying average results of the 100 iterations\n",
    "print('\\033[1mAverage results:', end='\\n')\n",
    "df['const'] = 'const'\n",
    "df_avg = df.groupby('const').mean().reset_index(drop=True).round(3)\n",
    "display(df_avg)\n",
    "\n",
    "# Getting best parameter by fitness & time\n",
    "best_param_fit = df_avg[[col for col in df_avg.columns if col.startswith('Fit_')]].idxmax(axis=1)[0].replace('Fit_', '')\n",
    "best_param_time = df_avg[[col for col in df_avg.columns if col.startswith('Time_')]].idxmin(axis=1)[0].replace('Time_', '')\n",
    "print(f'\\nBest Fitness: \\033[1m{best_param_fit}\\033[0m\\n\\nBest Time: \\033[1m{best_param_time}\\033[0m', end='\\n\\n')\n",
    "\n",
    "# Setting the best parameter as new default value\n",
    "replace_param = {'mut': best_param_fit}\n",
    "\n",
    "# Plotting results\n",
    "plot_values(data = df, colors = color_palette[:len(mutation)], layout=2, template='white', grid=True)"
   ]
  },
  {
   "attachments": {},
   "cell_type": "markdown",
   "metadata": {},
   "source": [
    "### __1.2 Crossover Operator__"
   ]
  },
  {
   "cell_type": "code",
   "execution_count": 8,
   "metadata": {},
   "outputs": [
    {
     "name": "stdout",
     "output_type": "stream",
     "text": [
      "\u001b[1mParameters for GA:\u001b[0m\n",
      "\n",
      "{'n': 25, 'pop': 100, 'gen': 50, 'mut_perc': 0.05, 'cross_perc': 0.75, 'mut': 'random_mutation', 'cross': 'single_cross', 'select': 'tournament_selection'}\n",
      "\n",
      "\u001b[1mAverage results:\n"
     ]
    },
    {
     "data": {
      "text/html": [
       "<div>\n",
       "<style scoped>\n",
       "    .dataframe tbody tr th:only-of-type {\n",
       "        vertical-align: middle;\n",
       "    }\n",
       "\n",
       "    .dataframe tbody tr th {\n",
       "        vertical-align: top;\n",
       "    }\n",
       "\n",
       "    .dataframe thead th {\n",
       "        text-align: right;\n",
       "    }\n",
       "</style>\n",
       "<table border=\"1\" class=\"dataframe\">\n",
       "  <thead>\n",
       "    <tr style=\"text-align: right;\">\n",
       "      <th></th>\n",
       "      <th>Fit_single_cross</th>\n",
       "      <th>Fit_cycle_cross</th>\n",
       "      <th>Fit_pmx</th>\n",
       "      <th>Fit_arithmetic_cross</th>\n",
       "      <th>Time_single_cross</th>\n",
       "      <th>Time_cycle_cross</th>\n",
       "      <th>Time_pmx</th>\n",
       "      <th>Time_arithmetic_cross</th>\n",
       "    </tr>\n",
       "  </thead>\n",
       "  <tbody>\n",
       "    <tr>\n",
       "      <th>0</th>\n",
       "      <td>97.327</td>\n",
       "      <td>97.31</td>\n",
       "      <td>97.267</td>\n",
       "      <td>97.267</td>\n",
       "      <td>11.21</td>\n",
       "      <td>17.85</td>\n",
       "      <td>15.13</td>\n",
       "      <td>21.13</td>\n",
       "    </tr>\n",
       "  </tbody>\n",
       "</table>\n",
       "</div>"
      ],
      "text/plain": [
       "   Fit_single_cross  Fit_cycle_cross  Fit_pmx  Fit_arithmetic_cross   \n",
       "0            97.327            97.31   97.267                97.267  \\\n",
       "\n",
       "   Time_single_cross  Time_cycle_cross  Time_pmx  Time_arithmetic_cross  \n",
       "0              11.21             17.85     15.13                  21.13  "
      ]
     },
     "metadata": {},
     "output_type": "display_data"
    },
    {
     "name": "stdout",
     "output_type": "stream",
     "text": [
      "\n",
      "Best Fitness: \u001b[1msingle_cross\u001b[0m\n",
      "\n",
      "Best Time: \u001b[1msingle_cross\u001b[0m\n",
      "\n"
     ]
    },
    {
     "data": {
      "application/vnd.plotly.v1+json": {
       "config": {
        "plotlyServerURL": "https://plot.ly"
       },
       "data": [
        {
         "line": {
          "color": "gray",
          "width": 2
         },
         "name": "single_cross",
         "type": "scatter",
         "x": [
          0,
          1,
          2,
          3,
          4,
          5,
          6,
          7,
          8,
          9,
          10,
          11,
          12,
          13,
          14,
          15,
          16,
          17,
          18,
          19,
          20,
          21,
          22,
          23,
          24,
          25,
          26,
          27,
          28,
          29,
          30,
          31,
          32,
          33,
          34,
          35,
          36,
          37,
          38,
          39,
          40,
          41,
          42,
          43,
          44,
          45,
          46,
          47,
          48,
          49,
          50,
          51,
          52,
          53,
          54,
          55,
          56,
          57,
          58,
          59,
          60,
          61,
          62,
          63,
          64,
          65,
          66,
          67,
          68,
          69,
          70,
          71,
          72,
          73,
          74,
          75,
          76,
          77,
          78,
          79,
          80,
          81,
          82,
          83,
          84,
          85,
          86,
          87,
          88,
          89,
          90,
          91,
          92,
          93,
          94,
          95,
          96,
          97,
          98,
          99
         ],
         "y": [
          97.33333333333333,
          97,
          97.33333333333333,
          97,
          96.66666666666667,
          97,
          96.66666666666667,
          97,
          97.66666666666667,
          97.33333333333333,
          97,
          97.33333333333333,
          97,
          97.66666666666667,
          97.66666666666667,
          97,
          97.33333333333333,
          98,
          97,
          97.66666666666667,
          97,
          98,
          97,
          97.33333333333333,
          97.33333333333333,
          97.33333333333333,
          97.33333333333333,
          97.33333333333333,
          97.66666666666667,
          97.33333333333333,
          97.33333333333333,
          97,
          97.66666666666667,
          97.33333333333333,
          97.33333333333333,
          97.66666666666667,
          97.33333333333333,
          97,
          97.33333333333333,
          98,
          97,
          97,
          97,
          97,
          97.66666666666667,
          97.66666666666667,
          97,
          97.33333333333333,
          97.33333333333333,
          97.33333333333333,
          97.33333333333333,
          97.66666666666667,
          97.33333333333333,
          98,
          97,
          97.33333333333333,
          98,
          97,
          97.33333333333333,
          97.33333333333333,
          97.33333333333333,
          97,
          98,
          97,
          97.66666666666667,
          96.66666666666667,
          97.66666666666667,
          97.66666666666667,
          97,
          98,
          97.33333333333333,
          97.33333333333333,
          97.33333333333333,
          97.33333333333333,
          97.33333333333333,
          97.33333333333333,
          97.33333333333333,
          97.66666666666667,
          97.66666666666667,
          97,
          97.33333333333333,
          97.66666666666667,
          97,
          97.66666666666667,
          97.66666666666667,
          97.33333333333333,
          97.33333333333333,
          97,
          97,
          97.33333333333333,
          97,
          97.33333333333333,
          97.66666666666667,
          97.33333333333333,
          97.33333333333333,
          97.66666666666667,
          96.66666666666667,
          97.66666666666667,
          97,
          97
         ]
        },
        {
         "marker": {
          "color": "gray",
          "size": 8
         },
         "mode": "markers",
         "name": "",
         "type": "scatter",
         "x": [
          0,
          99
         ],
         "y": [
          97.33333333333333,
          97
         ]
        },
        {
         "line": {
          "color": "steelblue",
          "width": 2
         },
         "name": "cycle_cross",
         "type": "scatter",
         "x": [
          0,
          1,
          2,
          3,
          4,
          5,
          6,
          7,
          8,
          9,
          10,
          11,
          12,
          13,
          14,
          15,
          16,
          17,
          18,
          19,
          20,
          21,
          22,
          23,
          24,
          25,
          26,
          27,
          28,
          29,
          30,
          31,
          32,
          33,
          34,
          35,
          36,
          37,
          38,
          39,
          40,
          41,
          42,
          43,
          44,
          45,
          46,
          47,
          48,
          49,
          50,
          51,
          52,
          53,
          54,
          55,
          56,
          57,
          58,
          59,
          60,
          61,
          62,
          63,
          64,
          65,
          66,
          67,
          68,
          69,
          70,
          71,
          72,
          73,
          74,
          75,
          76,
          77,
          78,
          79,
          80,
          81,
          82,
          83,
          84,
          85,
          86,
          87,
          88,
          89,
          90,
          91,
          92,
          93,
          94,
          95,
          96,
          97,
          98,
          99
         ],
         "y": [
          97.33333333333333,
          97.66666666666667,
          97,
          97.66666666666667,
          97,
          97,
          97.66666666666667,
          97,
          97.66666666666667,
          97,
          97.33333333333333,
          97.33333333333333,
          97.33333333333333,
          97.33333333333333,
          97.66666666666667,
          97,
          97.33333333333333,
          97,
          98,
          98,
          97,
          97.33333333333333,
          97,
          97.33333333333333,
          97,
          97.66666666666667,
          97,
          97.66666666666667,
          97.33333333333333,
          97.33333333333333,
          96.66666666666667,
          97.66666666666667,
          97,
          97.33333333333333,
          97,
          97.66666666666667,
          97,
          98,
          97.33333333333333,
          97.33333333333333,
          97.33333333333333,
          97.33333333333333,
          97.33333333333333,
          97.33333333333333,
          97,
          97.66666666666667,
          97,
          97.66666666666667,
          97.33333333333333,
          97.33333333333333,
          97.33333333333333,
          97.33333333333333,
          97,
          97,
          97,
          96.66666666666667,
          97.33333333333333,
          97.66666666666667,
          97.33333333333333,
          98,
          97.33333333333333,
          97,
          97.33333333333333,
          97,
          98.33333333333333,
          97.66666666666667,
          98,
          97,
          96.66666666666667,
          97.66666666666667,
          97.33333333333333,
          97.66666666666667,
          97,
          97,
          97,
          97,
          97,
          97.66666666666667,
          97.33333333333333,
          97.33333333333333,
          97.33333333333333,
          97,
          97.33333333333333,
          97.33333333333333,
          97.33333333333333,
          97.33333333333333,
          96.66666666666667,
          97.66666666666667,
          96.66666666666667,
          97.66666666666667,
          97.33333333333333,
          97.66666666666667,
          97.33333333333333,
          97.33333333333333,
          98,
          97.33333333333333,
          97,
          97.33333333333333,
          97,
          97
         ]
        },
        {
         "marker": {
          "color": "steelblue",
          "size": 8
         },
         "mode": "markers",
         "name": "",
         "type": "scatter",
         "x": [
          0,
          99
         ],
         "y": [
          97.33333333333333,
          97
         ]
        },
        {
         "line": {
          "color": "purple",
          "width": 2
         },
         "name": "pmx",
         "type": "scatter",
         "x": [
          0,
          1,
          2,
          3,
          4,
          5,
          6,
          7,
          8,
          9,
          10,
          11,
          12,
          13,
          14,
          15,
          16,
          17,
          18,
          19,
          20,
          21,
          22,
          23,
          24,
          25,
          26,
          27,
          28,
          29,
          30,
          31,
          32,
          33,
          34,
          35,
          36,
          37,
          38,
          39,
          40,
          41,
          42,
          43,
          44,
          45,
          46,
          47,
          48,
          49,
          50,
          51,
          52,
          53,
          54,
          55,
          56,
          57,
          58,
          59,
          60,
          61,
          62,
          63,
          64,
          65,
          66,
          67,
          68,
          69,
          70,
          71,
          72,
          73,
          74,
          75,
          76,
          77,
          78,
          79,
          80,
          81,
          82,
          83,
          84,
          85,
          86,
          87,
          88,
          89,
          90,
          91,
          92,
          93,
          94,
          95,
          96,
          97,
          98,
          99
         ],
         "y": [
          96.66666666666667,
          97.33333333333333,
          96.66666666666667,
          97,
          97,
          96.33333333333333,
          97,
          97.33333333333333,
          96.66666666666667,
          96.66666666666667,
          97,
          97.66666666666667,
          97.66666666666667,
          98,
          97.33333333333333,
          97.66666666666667,
          96.66666666666667,
          97.66666666666667,
          97.33333333333333,
          97,
          97.33333333333333,
          97.33333333333333,
          97.33333333333333,
          97,
          97.33333333333333,
          97.33333333333333,
          97,
          97.66666666666667,
          97,
          97.33333333333333,
          97.33333333333333,
          97,
          98,
          97.33333333333333,
          97.66666666666667,
          96.66666666666667,
          96.66666666666667,
          97.66666666666667,
          96.66666666666667,
          97.33333333333333,
          97.66666666666667,
          97,
          97.33333333333333,
          97.33333333333333,
          97.66666666666667,
          97,
          97,
          97.66666666666667,
          98,
          97.33333333333333,
          97.66666666666667,
          96.66666666666667,
          97.33333333333333,
          97,
          97,
          98,
          97.66666666666667,
          98,
          97.66666666666667,
          97.33333333333333,
          97.33333333333333,
          97,
          97,
          97.66666666666667,
          97,
          96.66666666666667,
          97.33333333333333,
          96.66666666666667,
          96.66666666666667,
          97.33333333333333,
          97,
          97.33333333333333,
          97.33333333333333,
          97,
          97.33333333333333,
          98,
          97.33333333333333,
          97,
          97.33333333333333,
          97.33333333333333,
          97.66666666666667,
          97.66666666666667,
          97.33333333333333,
          96.66666666666667,
          97.33333333333333,
          97.33333333333333,
          97,
          97,
          97.66666666666667,
          97.33333333333333,
          97.66666666666667,
          97.33333333333333,
          97,
          97,
          97.66666666666667,
          97.33333333333333,
          97.33333333333333,
          97,
          98,
          97.66666666666667
         ]
        },
        {
         "marker": {
          "color": "purple",
          "size": 8
         },
         "mode": "markers",
         "name": "",
         "type": "scatter",
         "x": [
          0,
          99
         ],
         "y": [
          96.66666666666667,
          97.66666666666667
         ]
        },
        {
         "line": {
          "color": "darkgray",
          "width": 2
         },
         "name": "arithmetic_cross",
         "type": "scatter",
         "x": [
          0,
          1,
          2,
          3,
          4,
          5,
          6,
          7,
          8,
          9,
          10,
          11,
          12,
          13,
          14,
          15,
          16,
          17,
          18,
          19,
          20,
          21,
          22,
          23,
          24,
          25,
          26,
          27,
          28,
          29,
          30,
          31,
          32,
          33,
          34,
          35,
          36,
          37,
          38,
          39,
          40,
          41,
          42,
          43,
          44,
          45,
          46,
          47,
          48,
          49,
          50,
          51,
          52,
          53,
          54,
          55,
          56,
          57,
          58,
          59,
          60,
          61,
          62,
          63,
          64,
          65,
          66,
          67,
          68,
          69,
          70,
          71,
          72,
          73,
          74,
          75,
          76,
          77,
          78,
          79,
          80,
          81,
          82,
          83,
          84,
          85,
          86,
          87,
          88,
          89,
          90,
          91,
          92,
          93,
          94,
          95,
          96,
          97,
          98,
          99
         ],
         "y": [
          96.66666666666667,
          97.33333333333333,
          97.66666666666667,
          97,
          97,
          97.66666666666667,
          97,
          96.66666666666667,
          97.66666666666667,
          97.33333333333333,
          97.33333333333333,
          97,
          96.66666666666667,
          97.33333333333333,
          96.66666666666667,
          96.33333333333333,
          96.33333333333333,
          96.66666666666667,
          97.33333333333333,
          98.33333333333333,
          97.66666666666667,
          98,
          97.33333333333333,
          97.33333333333333,
          97.33333333333333,
          97.66666666666667,
          97.66666666666667,
          96.66666666666667,
          97,
          97.33333333333333,
          97.33333333333333,
          98,
          97.33333333333333,
          98,
          97,
          97,
          97,
          97.33333333333333,
          97.66666666666667,
          97.66666666666667,
          97.33333333333333,
          97,
          96.66666666666667,
          97.66666666666667,
          97.33333333333333,
          97.33333333333333,
          96.66666666666667,
          97,
          96.66666666666667,
          97.66666666666667,
          96.66666666666667,
          97.33333333333333,
          97.33333333333333,
          97,
          97,
          97,
          97.33333333333333,
          97.66666666666667,
          97.66666666666667,
          97,
          97.33333333333333,
          97.66666666666667,
          97.33333333333333,
          97.33333333333333,
          97.66666666666667,
          97,
          97.33333333333333,
          97,
          97.66666666666667,
          97.33333333333333,
          97.33333333333333,
          97.33333333333333,
          97.33333333333333,
          97,
          97.66666666666667,
          97.33333333333333,
          97.33333333333333,
          97.66666666666667,
          97.66666666666667,
          97.33333333333333,
          97,
          97,
          97,
          97.66666666666667,
          97.66666666666667,
          97.66666666666667,
          97.33333333333333,
          97,
          98,
          97,
          97,
          97,
          97,
          97,
          97.33333333333333,
          97.33333333333333,
          97.33333333333333,
          97.33333333333333,
          97.33333333333333,
          97.33333333333333
         ]
        },
        {
         "marker": {
          "color": "darkgray",
          "size": 8
         },
         "mode": "markers",
         "name": "",
         "type": "scatter",
         "x": [
          0,
          99
         ],
         "y": [
          96.66666666666667,
          97.33333333333333
         ]
        }
       ],
       "layout": {
        "font": {
         "family": "Verdana",
         "size": 14
        },
        "template": {
         "data": {
          "bar": [
           {
            "error_x": {
             "color": "#2a3f5f"
            },
            "error_y": {
             "color": "#2a3f5f"
            },
            "marker": {
             "line": {
              "color": "white",
              "width": 0.5
             },
             "pattern": {
              "fillmode": "overlay",
              "size": 10,
              "solidity": 0.2
             }
            },
            "type": "bar"
           }
          ],
          "barpolar": [
           {
            "marker": {
             "line": {
              "color": "white",
              "width": 0.5
             },
             "pattern": {
              "fillmode": "overlay",
              "size": 10,
              "solidity": 0.2
             }
            },
            "type": "barpolar"
           }
          ],
          "carpet": [
           {
            "aaxis": {
             "endlinecolor": "#2a3f5f",
             "gridcolor": "#C8D4E3",
             "linecolor": "#C8D4E3",
             "minorgridcolor": "#C8D4E3",
             "startlinecolor": "#2a3f5f"
            },
            "baxis": {
             "endlinecolor": "#2a3f5f",
             "gridcolor": "#C8D4E3",
             "linecolor": "#C8D4E3",
             "minorgridcolor": "#C8D4E3",
             "startlinecolor": "#2a3f5f"
            },
            "type": "carpet"
           }
          ],
          "choropleth": [
           {
            "colorbar": {
             "outlinewidth": 0,
             "ticks": ""
            },
            "type": "choropleth"
           }
          ],
          "contour": [
           {
            "colorbar": {
             "outlinewidth": 0,
             "ticks": ""
            },
            "colorscale": [
             [
              0,
              "#0d0887"
             ],
             [
              0.1111111111111111,
              "#46039f"
             ],
             [
              0.2222222222222222,
              "#7201a8"
             ],
             [
              0.3333333333333333,
              "#9c179e"
             ],
             [
              0.4444444444444444,
              "#bd3786"
             ],
             [
              0.5555555555555556,
              "#d8576b"
             ],
             [
              0.6666666666666666,
              "#ed7953"
             ],
             [
              0.7777777777777778,
              "#fb9f3a"
             ],
             [
              0.8888888888888888,
              "#fdca26"
             ],
             [
              1,
              "#f0f921"
             ]
            ],
            "type": "contour"
           }
          ],
          "contourcarpet": [
           {
            "colorbar": {
             "outlinewidth": 0,
             "ticks": ""
            },
            "type": "contourcarpet"
           }
          ],
          "heatmap": [
           {
            "colorbar": {
             "outlinewidth": 0,
             "ticks": ""
            },
            "colorscale": [
             [
              0,
              "#0d0887"
             ],
             [
              0.1111111111111111,
              "#46039f"
             ],
             [
              0.2222222222222222,
              "#7201a8"
             ],
             [
              0.3333333333333333,
              "#9c179e"
             ],
             [
              0.4444444444444444,
              "#bd3786"
             ],
             [
              0.5555555555555556,
              "#d8576b"
             ],
             [
              0.6666666666666666,
              "#ed7953"
             ],
             [
              0.7777777777777778,
              "#fb9f3a"
             ],
             [
              0.8888888888888888,
              "#fdca26"
             ],
             [
              1,
              "#f0f921"
             ]
            ],
            "type": "heatmap"
           }
          ],
          "heatmapgl": [
           {
            "colorbar": {
             "outlinewidth": 0,
             "ticks": ""
            },
            "colorscale": [
             [
              0,
              "#0d0887"
             ],
             [
              0.1111111111111111,
              "#46039f"
             ],
             [
              0.2222222222222222,
              "#7201a8"
             ],
             [
              0.3333333333333333,
              "#9c179e"
             ],
             [
              0.4444444444444444,
              "#bd3786"
             ],
             [
              0.5555555555555556,
              "#d8576b"
             ],
             [
              0.6666666666666666,
              "#ed7953"
             ],
             [
              0.7777777777777778,
              "#fb9f3a"
             ],
             [
              0.8888888888888888,
              "#fdca26"
             ],
             [
              1,
              "#f0f921"
             ]
            ],
            "type": "heatmapgl"
           }
          ],
          "histogram": [
           {
            "marker": {
             "pattern": {
              "fillmode": "overlay",
              "size": 10,
              "solidity": 0.2
             }
            },
            "type": "histogram"
           }
          ],
          "histogram2d": [
           {
            "colorbar": {
             "outlinewidth": 0,
             "ticks": ""
            },
            "colorscale": [
             [
              0,
              "#0d0887"
             ],
             [
              0.1111111111111111,
              "#46039f"
             ],
             [
              0.2222222222222222,
              "#7201a8"
             ],
             [
              0.3333333333333333,
              "#9c179e"
             ],
             [
              0.4444444444444444,
              "#bd3786"
             ],
             [
              0.5555555555555556,
              "#d8576b"
             ],
             [
              0.6666666666666666,
              "#ed7953"
             ],
             [
              0.7777777777777778,
              "#fb9f3a"
             ],
             [
              0.8888888888888888,
              "#fdca26"
             ],
             [
              1,
              "#f0f921"
             ]
            ],
            "type": "histogram2d"
           }
          ],
          "histogram2dcontour": [
           {
            "colorbar": {
             "outlinewidth": 0,
             "ticks": ""
            },
            "colorscale": [
             [
              0,
              "#0d0887"
             ],
             [
              0.1111111111111111,
              "#46039f"
             ],
             [
              0.2222222222222222,
              "#7201a8"
             ],
             [
              0.3333333333333333,
              "#9c179e"
             ],
             [
              0.4444444444444444,
              "#bd3786"
             ],
             [
              0.5555555555555556,
              "#d8576b"
             ],
             [
              0.6666666666666666,
              "#ed7953"
             ],
             [
              0.7777777777777778,
              "#fb9f3a"
             ],
             [
              0.8888888888888888,
              "#fdca26"
             ],
             [
              1,
              "#f0f921"
             ]
            ],
            "type": "histogram2dcontour"
           }
          ],
          "mesh3d": [
           {
            "colorbar": {
             "outlinewidth": 0,
             "ticks": ""
            },
            "type": "mesh3d"
           }
          ],
          "parcoords": [
           {
            "line": {
             "colorbar": {
              "outlinewidth": 0,
              "ticks": ""
             }
            },
            "type": "parcoords"
           }
          ],
          "pie": [
           {
            "automargin": true,
            "type": "pie"
           }
          ],
          "scatter": [
           {
            "fillpattern": {
             "fillmode": "overlay",
             "size": 10,
             "solidity": 0.2
            },
            "type": "scatter"
           }
          ],
          "scatter3d": [
           {
            "line": {
             "colorbar": {
              "outlinewidth": 0,
              "ticks": ""
             }
            },
            "marker": {
             "colorbar": {
              "outlinewidth": 0,
              "ticks": ""
             }
            },
            "type": "scatter3d"
           }
          ],
          "scattercarpet": [
           {
            "marker": {
             "colorbar": {
              "outlinewidth": 0,
              "ticks": ""
             }
            },
            "type": "scattercarpet"
           }
          ],
          "scattergeo": [
           {
            "marker": {
             "colorbar": {
              "outlinewidth": 0,
              "ticks": ""
             }
            },
            "type": "scattergeo"
           }
          ],
          "scattergl": [
           {
            "marker": {
             "colorbar": {
              "outlinewidth": 0,
              "ticks": ""
             }
            },
            "type": "scattergl"
           }
          ],
          "scattermapbox": [
           {
            "marker": {
             "colorbar": {
              "outlinewidth": 0,
              "ticks": ""
             }
            },
            "type": "scattermapbox"
           }
          ],
          "scatterpolar": [
           {
            "marker": {
             "colorbar": {
              "outlinewidth": 0,
              "ticks": ""
             }
            },
            "type": "scatterpolar"
           }
          ],
          "scatterpolargl": [
           {
            "marker": {
             "colorbar": {
              "outlinewidth": 0,
              "ticks": ""
             }
            },
            "type": "scatterpolargl"
           }
          ],
          "scatterternary": [
           {
            "marker": {
             "colorbar": {
              "outlinewidth": 0,
              "ticks": ""
             }
            },
            "type": "scatterternary"
           }
          ],
          "surface": [
           {
            "colorbar": {
             "outlinewidth": 0,
             "ticks": ""
            },
            "colorscale": [
             [
              0,
              "#0d0887"
             ],
             [
              0.1111111111111111,
              "#46039f"
             ],
             [
              0.2222222222222222,
              "#7201a8"
             ],
             [
              0.3333333333333333,
              "#9c179e"
             ],
             [
              0.4444444444444444,
              "#bd3786"
             ],
             [
              0.5555555555555556,
              "#d8576b"
             ],
             [
              0.6666666666666666,
              "#ed7953"
             ],
             [
              0.7777777777777778,
              "#fb9f3a"
             ],
             [
              0.8888888888888888,
              "#fdca26"
             ],
             [
              1,
              "#f0f921"
             ]
            ],
            "type": "surface"
           }
          ],
          "table": [
           {
            "cells": {
             "fill": {
              "color": "#EBF0F8"
             },
             "line": {
              "color": "white"
             }
            },
            "header": {
             "fill": {
              "color": "#C8D4E3"
             },
             "line": {
              "color": "white"
             }
            },
            "type": "table"
           }
          ]
         },
         "layout": {
          "annotationdefaults": {
           "arrowcolor": "#2a3f5f",
           "arrowhead": 0,
           "arrowwidth": 1
          },
          "autotypenumbers": "strict",
          "coloraxis": {
           "colorbar": {
            "outlinewidth": 0,
            "ticks": ""
           }
          },
          "colorscale": {
           "diverging": [
            [
             0,
             "#8e0152"
            ],
            [
             0.1,
             "#c51b7d"
            ],
            [
             0.2,
             "#de77ae"
            ],
            [
             0.3,
             "#f1b6da"
            ],
            [
             0.4,
             "#fde0ef"
            ],
            [
             0.5,
             "#f7f7f7"
            ],
            [
             0.6,
             "#e6f5d0"
            ],
            [
             0.7,
             "#b8e186"
            ],
            [
             0.8,
             "#7fbc41"
            ],
            [
             0.9,
             "#4d9221"
            ],
            [
             1,
             "#276419"
            ]
           ],
           "sequential": [
            [
             0,
             "#0d0887"
            ],
            [
             0.1111111111111111,
             "#46039f"
            ],
            [
             0.2222222222222222,
             "#7201a8"
            ],
            [
             0.3333333333333333,
             "#9c179e"
            ],
            [
             0.4444444444444444,
             "#bd3786"
            ],
            [
             0.5555555555555556,
             "#d8576b"
            ],
            [
             0.6666666666666666,
             "#ed7953"
            ],
            [
             0.7777777777777778,
             "#fb9f3a"
            ],
            [
             0.8888888888888888,
             "#fdca26"
            ],
            [
             1,
             "#f0f921"
            ]
           ],
           "sequentialminus": [
            [
             0,
             "#0d0887"
            ],
            [
             0.1111111111111111,
             "#46039f"
            ],
            [
             0.2222222222222222,
             "#7201a8"
            ],
            [
             0.3333333333333333,
             "#9c179e"
            ],
            [
             0.4444444444444444,
             "#bd3786"
            ],
            [
             0.5555555555555556,
             "#d8576b"
            ],
            [
             0.6666666666666666,
             "#ed7953"
            ],
            [
             0.7777777777777778,
             "#fb9f3a"
            ],
            [
             0.8888888888888888,
             "#fdca26"
            ],
            [
             1,
             "#f0f921"
            ]
           ]
          },
          "colorway": [
           "#636efa",
           "#EF553B",
           "#00cc96",
           "#ab63fa",
           "#FFA15A",
           "#19d3f3",
           "#FF6692",
           "#B6E880",
           "#FF97FF",
           "#FECB52"
          ],
          "font": {
           "color": "#2a3f5f"
          },
          "geo": {
           "bgcolor": "white",
           "lakecolor": "white",
           "landcolor": "white",
           "showlakes": true,
           "showland": true,
           "subunitcolor": "#C8D4E3"
          },
          "hoverlabel": {
           "align": "left"
          },
          "hovermode": "closest",
          "mapbox": {
           "style": "light"
          },
          "paper_bgcolor": "white",
          "plot_bgcolor": "white",
          "polar": {
           "angularaxis": {
            "gridcolor": "#EBF0F8",
            "linecolor": "#EBF0F8",
            "ticks": ""
           },
           "bgcolor": "white",
           "radialaxis": {
            "gridcolor": "#EBF0F8",
            "linecolor": "#EBF0F8",
            "ticks": ""
           }
          },
          "scene": {
           "xaxis": {
            "backgroundcolor": "white",
            "gridcolor": "#DFE8F3",
            "gridwidth": 2,
            "linecolor": "#EBF0F8",
            "showbackground": true,
            "ticks": "",
            "zerolinecolor": "#EBF0F8"
           },
           "yaxis": {
            "backgroundcolor": "white",
            "gridcolor": "#DFE8F3",
            "gridwidth": 2,
            "linecolor": "#EBF0F8",
            "showbackground": true,
            "ticks": "",
            "zerolinecolor": "#EBF0F8"
           },
           "zaxis": {
            "backgroundcolor": "white",
            "gridcolor": "#DFE8F3",
            "gridwidth": 2,
            "linecolor": "#EBF0F8",
            "showbackground": true,
            "ticks": "",
            "zerolinecolor": "#EBF0F8"
           }
          },
          "shapedefaults": {
           "line": {
            "color": "#2a3f5f"
           }
          },
          "ternary": {
           "aaxis": {
            "gridcolor": "#DFE8F3",
            "linecolor": "#A2B1C6",
            "ticks": ""
           },
           "baxis": {
            "gridcolor": "#DFE8F3",
            "linecolor": "#A2B1C6",
            "ticks": ""
           },
           "bgcolor": "white",
           "caxis": {
            "gridcolor": "#DFE8F3",
            "linecolor": "#A2B1C6",
            "ticks": ""
           }
          },
          "title": {
           "x": 0.05
          },
          "xaxis": {
           "automargin": true,
           "gridcolor": "#EBF0F8",
           "linecolor": "#EBF0F8",
           "ticks": "",
           "title": {
            "standoff": 15
           },
           "zerolinecolor": "#EBF0F8",
           "zerolinewidth": 2
          },
          "yaxis": {
           "automargin": true,
           "gridcolor": "#EBF0F8",
           "linecolor": "#EBF0F8",
           "ticks": "",
           "title": {
            "standoff": 15
           },
           "zerolinecolor": "#EBF0F8",
           "zerolinewidth": 2
          }
         }
        },
        "title": {
         "text": "Fitness Comparison"
        },
        "xaxis": {
         "linewidth": 1.5,
         "showgrid": true,
         "showline": true,
         "showticklabels": true,
         "tickfont": {
          "color": "#000000",
          "family": "Verdana",
          "size": 11
         },
         "ticks": "outside",
         "title": {
          "text": "Iterations"
         }
        },
        "yaxis": {
         "showgrid": true,
         "showline": false,
         "showticklabels": true,
         "tickfont": {
          "color": "#000000",
          "family": "Verdana",
          "size": 11
         },
         "ticks": "outside",
         "title": {
          "text": "Fitness"
         },
         "zeroline": false
        }
       }
      }
     },
     "metadata": {},
     "output_type": "display_data"
    },
    {
     "data": {
      "application/vnd.plotly.v1+json": {
       "config": {
        "plotlyServerURL": "https://plot.ly"
       },
       "data": [
        {
         "line": {
          "color": "gray",
          "width": 2
         },
         "name": "single_cross",
         "type": "scatter",
         "x": [
          0,
          1,
          2,
          3,
          4,
          5,
          6,
          7,
          8,
          9,
          10,
          11,
          12,
          13,
          14,
          15,
          16,
          17,
          18,
          19,
          20,
          21,
          22,
          23,
          24,
          25,
          26,
          27,
          28,
          29,
          30,
          31,
          32,
          33,
          34,
          35,
          36,
          37,
          38,
          39,
          40,
          41,
          42,
          43,
          44,
          45,
          46,
          47,
          48,
          49,
          50,
          51,
          52,
          53,
          54,
          55,
          56,
          57,
          58,
          59,
          60,
          61,
          62,
          63,
          64,
          65,
          66,
          67,
          68,
          69,
          70,
          71,
          72,
          73,
          74,
          75,
          76,
          77,
          78,
          79,
          80,
          81,
          82,
          83,
          84,
          85,
          86,
          87,
          88,
          89,
          90,
          91,
          92,
          93,
          94,
          95,
          96,
          97,
          98,
          99
         ],
         "y": [
          11,
          11,
          11,
          11,
          11,
          11,
          11,
          11,
          11,
          11,
          11,
          11,
          11,
          12,
          11,
          12,
          11,
          11,
          11,
          12,
          12,
          12,
          11,
          11,
          11,
          11,
          11,
          11,
          11,
          11,
          11,
          11,
          11,
          11,
          11,
          11,
          12,
          11,
          11,
          11,
          11,
          11,
          11,
          11,
          11,
          11,
          11,
          11,
          11,
          11,
          11,
          11,
          11,
          11,
          11,
          11,
          11,
          11,
          11,
          12,
          11,
          11,
          12,
          11,
          12,
          17,
          11,
          11,
          11,
          12,
          11,
          11,
          11,
          11,
          11,
          11,
          11,
          11,
          11,
          12,
          12,
          11,
          11,
          12,
          11,
          11,
          12,
          11,
          11,
          11,
          11,
          11,
          11,
          11,
          11,
          11,
          11,
          11,
          12,
          11
         ]
        },
        {
         "marker": {
          "color": "gray",
          "size": 8
         },
         "mode": "markers",
         "name": "",
         "type": "scatter",
         "x": [
          0,
          99
         ],
         "y": [
          11,
          11
         ]
        },
        {
         "line": {
          "color": "steelblue",
          "width": 2
         },
         "name": "cycle_cross",
         "type": "scatter",
         "x": [
          0,
          1,
          2,
          3,
          4,
          5,
          6,
          7,
          8,
          9,
          10,
          11,
          12,
          13,
          14,
          15,
          16,
          17,
          18,
          19,
          20,
          21,
          22,
          23,
          24,
          25,
          26,
          27,
          28,
          29,
          30,
          31,
          32,
          33,
          34,
          35,
          36,
          37,
          38,
          39,
          40,
          41,
          42,
          43,
          44,
          45,
          46,
          47,
          48,
          49,
          50,
          51,
          52,
          53,
          54,
          55,
          56,
          57,
          58,
          59,
          60,
          61,
          62,
          63,
          64,
          65,
          66,
          67,
          68,
          69,
          70,
          71,
          72,
          73,
          74,
          75,
          76,
          77,
          78,
          79,
          80,
          81,
          82,
          83,
          84,
          85,
          86,
          87,
          88,
          89,
          90,
          91,
          92,
          93,
          94,
          95,
          96,
          97,
          98,
          99
         ],
         "y": [
          18,
          18,
          18,
          18,
          18,
          18,
          18,
          18,
          17,
          18,
          17,
          17,
          18,
          18,
          18,
          18,
          19,
          18,
          17,
          17,
          17,
          18,
          17,
          17,
          18,
          18,
          18,
          17,
          18,
          18,
          18,
          17,
          18,
          18,
          18,
          18,
          17,
          18,
          18,
          18,
          17,
          18,
          17,
          18,
          18,
          18,
          18,
          18,
          17,
          18,
          18,
          18,
          18,
          18,
          18,
          18,
          17,
          18,
          18,
          18,
          18,
          17,
          18,
          18,
          18,
          18,
          18,
          18,
          18,
          17,
          18,
          18,
          18,
          18,
          18,
          18,
          18,
          18,
          18,
          18,
          18,
          18,
          18,
          18,
          18,
          18,
          18,
          19,
          19,
          18,
          18,
          18,
          18,
          18,
          17,
          18,
          18,
          18,
          18,
          18
         ]
        },
        {
         "marker": {
          "color": "steelblue",
          "size": 8
         },
         "mode": "markers",
         "name": "",
         "type": "scatter",
         "x": [
          0,
          99
         ],
         "y": [
          18,
          18
         ]
        },
        {
         "line": {
          "color": "purple",
          "width": 2
         },
         "name": "pmx",
         "type": "scatter",
         "x": [
          0,
          1,
          2,
          3,
          4,
          5,
          6,
          7,
          8,
          9,
          10,
          11,
          12,
          13,
          14,
          15,
          16,
          17,
          18,
          19,
          20,
          21,
          22,
          23,
          24,
          25,
          26,
          27,
          28,
          29,
          30,
          31,
          32,
          33,
          34,
          35,
          36,
          37,
          38,
          39,
          40,
          41,
          42,
          43,
          44,
          45,
          46,
          47,
          48,
          49,
          50,
          51,
          52,
          53,
          54,
          55,
          56,
          57,
          58,
          59,
          60,
          61,
          62,
          63,
          64,
          65,
          66,
          67,
          68,
          69,
          70,
          71,
          72,
          73,
          74,
          75,
          76,
          77,
          78,
          79,
          80,
          81,
          82,
          83,
          84,
          85,
          86,
          87,
          88,
          89,
          90,
          91,
          92,
          93,
          94,
          95,
          96,
          97,
          98,
          99
         ],
         "y": [
          14,
          15,
          16,
          15,
          15,
          15,
          15,
          15,
          15,
          15,
          15,
          15,
          15,
          15,
          15,
          15,
          15,
          15,
          15,
          15,
          15,
          15,
          15,
          15,
          14,
          15,
          14,
          15,
          14,
          15,
          14,
          15,
          15,
          15,
          15,
          15,
          15,
          15,
          15,
          15,
          15,
          15,
          15,
          15,
          15,
          15,
          15,
          16,
          15,
          15,
          15,
          15,
          15,
          15,
          16,
          15,
          15,
          14,
          16,
          15,
          15,
          15,
          15,
          15,
          15,
          15,
          15,
          15,
          15,
          15,
          15,
          16,
          15,
          15,
          15,
          15,
          16,
          15,
          16,
          16,
          16,
          15,
          16,
          15,
          15,
          16,
          15,
          15,
          16,
          16,
          17,
          16,
          16,
          15,
          16,
          15,
          16,
          15,
          15,
          15
         ]
        },
        {
         "marker": {
          "color": "purple",
          "size": 8
         },
         "mode": "markers",
         "name": "",
         "type": "scatter",
         "x": [
          0,
          99
         ],
         "y": [
          14,
          15
         ]
        },
        {
         "line": {
          "color": "darkgray",
          "width": 2
         },
         "name": "arithmetic_cross",
         "type": "scatter",
         "x": [
          0,
          1,
          2,
          3,
          4,
          5,
          6,
          7,
          8,
          9,
          10,
          11,
          12,
          13,
          14,
          15,
          16,
          17,
          18,
          19,
          20,
          21,
          22,
          23,
          24,
          25,
          26,
          27,
          28,
          29,
          30,
          31,
          32,
          33,
          34,
          35,
          36,
          37,
          38,
          39,
          40,
          41,
          42,
          43,
          44,
          45,
          46,
          47,
          48,
          49,
          50,
          51,
          52,
          53,
          54,
          55,
          56,
          57,
          58,
          59,
          60,
          61,
          62,
          63,
          64,
          65,
          66,
          67,
          68,
          69,
          70,
          71,
          72,
          73,
          74,
          75,
          76,
          77,
          78,
          79,
          80,
          81,
          82,
          83,
          84,
          85,
          86,
          87,
          88,
          89,
          90,
          91,
          92,
          93,
          94,
          95,
          96,
          97,
          98,
          99
         ],
         "y": [
          21,
          21,
          21,
          21,
          21,
          21,
          22,
          21,
          21,
          22,
          22,
          21,
          22,
          22,
          21,
          21,
          21,
          21,
          21,
          21,
          21,
          21,
          22,
          21,
          21,
          21,
          21,
          21,
          20,
          21,
          21,
          21,
          21,
          22,
          22,
          22,
          22,
          21,
          21,
          22,
          21,
          21,
          21,
          21,
          21,
          21,
          21,
          21,
          21,
          21,
          21,
          21,
          21,
          21,
          21,
          21,
          21,
          21,
          21,
          22,
          21,
          21,
          21,
          21,
          22,
          21,
          21,
          21,
          21,
          22,
          21,
          20,
          21,
          21,
          21,
          21,
          21,
          21,
          21,
          20,
          21,
          20,
          21,
          21,
          22,
          21,
          21,
          21,
          22,
          21,
          21,
          21,
          21,
          21,
          21,
          22,
          21,
          21,
          21,
          21
         ]
        },
        {
         "marker": {
          "color": "darkgray",
          "size": 8
         },
         "mode": "markers",
         "name": "",
         "type": "scatter",
         "x": [
          0,
          99
         ],
         "y": [
          21,
          21
         ]
        }
       ],
       "layout": {
        "font": {
         "family": "Verdana",
         "size": 14
        },
        "template": {
         "data": {
          "bar": [
           {
            "error_x": {
             "color": "#2a3f5f"
            },
            "error_y": {
             "color": "#2a3f5f"
            },
            "marker": {
             "line": {
              "color": "white",
              "width": 0.5
             },
             "pattern": {
              "fillmode": "overlay",
              "size": 10,
              "solidity": 0.2
             }
            },
            "type": "bar"
           }
          ],
          "barpolar": [
           {
            "marker": {
             "line": {
              "color": "white",
              "width": 0.5
             },
             "pattern": {
              "fillmode": "overlay",
              "size": 10,
              "solidity": 0.2
             }
            },
            "type": "barpolar"
           }
          ],
          "carpet": [
           {
            "aaxis": {
             "endlinecolor": "#2a3f5f",
             "gridcolor": "#C8D4E3",
             "linecolor": "#C8D4E3",
             "minorgridcolor": "#C8D4E3",
             "startlinecolor": "#2a3f5f"
            },
            "baxis": {
             "endlinecolor": "#2a3f5f",
             "gridcolor": "#C8D4E3",
             "linecolor": "#C8D4E3",
             "minorgridcolor": "#C8D4E3",
             "startlinecolor": "#2a3f5f"
            },
            "type": "carpet"
           }
          ],
          "choropleth": [
           {
            "colorbar": {
             "outlinewidth": 0,
             "ticks": ""
            },
            "type": "choropleth"
           }
          ],
          "contour": [
           {
            "colorbar": {
             "outlinewidth": 0,
             "ticks": ""
            },
            "colorscale": [
             [
              0,
              "#0d0887"
             ],
             [
              0.1111111111111111,
              "#46039f"
             ],
             [
              0.2222222222222222,
              "#7201a8"
             ],
             [
              0.3333333333333333,
              "#9c179e"
             ],
             [
              0.4444444444444444,
              "#bd3786"
             ],
             [
              0.5555555555555556,
              "#d8576b"
             ],
             [
              0.6666666666666666,
              "#ed7953"
             ],
             [
              0.7777777777777778,
              "#fb9f3a"
             ],
             [
              0.8888888888888888,
              "#fdca26"
             ],
             [
              1,
              "#f0f921"
             ]
            ],
            "type": "contour"
           }
          ],
          "contourcarpet": [
           {
            "colorbar": {
             "outlinewidth": 0,
             "ticks": ""
            },
            "type": "contourcarpet"
           }
          ],
          "heatmap": [
           {
            "colorbar": {
             "outlinewidth": 0,
             "ticks": ""
            },
            "colorscale": [
             [
              0,
              "#0d0887"
             ],
             [
              0.1111111111111111,
              "#46039f"
             ],
             [
              0.2222222222222222,
              "#7201a8"
             ],
             [
              0.3333333333333333,
              "#9c179e"
             ],
             [
              0.4444444444444444,
              "#bd3786"
             ],
             [
              0.5555555555555556,
              "#d8576b"
             ],
             [
              0.6666666666666666,
              "#ed7953"
             ],
             [
              0.7777777777777778,
              "#fb9f3a"
             ],
             [
              0.8888888888888888,
              "#fdca26"
             ],
             [
              1,
              "#f0f921"
             ]
            ],
            "type": "heatmap"
           }
          ],
          "heatmapgl": [
           {
            "colorbar": {
             "outlinewidth": 0,
             "ticks": ""
            },
            "colorscale": [
             [
              0,
              "#0d0887"
             ],
             [
              0.1111111111111111,
              "#46039f"
             ],
             [
              0.2222222222222222,
              "#7201a8"
             ],
             [
              0.3333333333333333,
              "#9c179e"
             ],
             [
              0.4444444444444444,
              "#bd3786"
             ],
             [
              0.5555555555555556,
              "#d8576b"
             ],
             [
              0.6666666666666666,
              "#ed7953"
             ],
             [
              0.7777777777777778,
              "#fb9f3a"
             ],
             [
              0.8888888888888888,
              "#fdca26"
             ],
             [
              1,
              "#f0f921"
             ]
            ],
            "type": "heatmapgl"
           }
          ],
          "histogram": [
           {
            "marker": {
             "pattern": {
              "fillmode": "overlay",
              "size": 10,
              "solidity": 0.2
             }
            },
            "type": "histogram"
           }
          ],
          "histogram2d": [
           {
            "colorbar": {
             "outlinewidth": 0,
             "ticks": ""
            },
            "colorscale": [
             [
              0,
              "#0d0887"
             ],
             [
              0.1111111111111111,
              "#46039f"
             ],
             [
              0.2222222222222222,
              "#7201a8"
             ],
             [
              0.3333333333333333,
              "#9c179e"
             ],
             [
              0.4444444444444444,
              "#bd3786"
             ],
             [
              0.5555555555555556,
              "#d8576b"
             ],
             [
              0.6666666666666666,
              "#ed7953"
             ],
             [
              0.7777777777777778,
              "#fb9f3a"
             ],
             [
              0.8888888888888888,
              "#fdca26"
             ],
             [
              1,
              "#f0f921"
             ]
            ],
            "type": "histogram2d"
           }
          ],
          "histogram2dcontour": [
           {
            "colorbar": {
             "outlinewidth": 0,
             "ticks": ""
            },
            "colorscale": [
             [
              0,
              "#0d0887"
             ],
             [
              0.1111111111111111,
              "#46039f"
             ],
             [
              0.2222222222222222,
              "#7201a8"
             ],
             [
              0.3333333333333333,
              "#9c179e"
             ],
             [
              0.4444444444444444,
              "#bd3786"
             ],
             [
              0.5555555555555556,
              "#d8576b"
             ],
             [
              0.6666666666666666,
              "#ed7953"
             ],
             [
              0.7777777777777778,
              "#fb9f3a"
             ],
             [
              0.8888888888888888,
              "#fdca26"
             ],
             [
              1,
              "#f0f921"
             ]
            ],
            "type": "histogram2dcontour"
           }
          ],
          "mesh3d": [
           {
            "colorbar": {
             "outlinewidth": 0,
             "ticks": ""
            },
            "type": "mesh3d"
           }
          ],
          "parcoords": [
           {
            "line": {
             "colorbar": {
              "outlinewidth": 0,
              "ticks": ""
             }
            },
            "type": "parcoords"
           }
          ],
          "pie": [
           {
            "automargin": true,
            "type": "pie"
           }
          ],
          "scatter": [
           {
            "fillpattern": {
             "fillmode": "overlay",
             "size": 10,
             "solidity": 0.2
            },
            "type": "scatter"
           }
          ],
          "scatter3d": [
           {
            "line": {
             "colorbar": {
              "outlinewidth": 0,
              "ticks": ""
             }
            },
            "marker": {
             "colorbar": {
              "outlinewidth": 0,
              "ticks": ""
             }
            },
            "type": "scatter3d"
           }
          ],
          "scattercarpet": [
           {
            "marker": {
             "colorbar": {
              "outlinewidth": 0,
              "ticks": ""
             }
            },
            "type": "scattercarpet"
           }
          ],
          "scattergeo": [
           {
            "marker": {
             "colorbar": {
              "outlinewidth": 0,
              "ticks": ""
             }
            },
            "type": "scattergeo"
           }
          ],
          "scattergl": [
           {
            "marker": {
             "colorbar": {
              "outlinewidth": 0,
              "ticks": ""
             }
            },
            "type": "scattergl"
           }
          ],
          "scattermapbox": [
           {
            "marker": {
             "colorbar": {
              "outlinewidth": 0,
              "ticks": ""
             }
            },
            "type": "scattermapbox"
           }
          ],
          "scatterpolar": [
           {
            "marker": {
             "colorbar": {
              "outlinewidth": 0,
              "ticks": ""
             }
            },
            "type": "scatterpolar"
           }
          ],
          "scatterpolargl": [
           {
            "marker": {
             "colorbar": {
              "outlinewidth": 0,
              "ticks": ""
             }
            },
            "type": "scatterpolargl"
           }
          ],
          "scatterternary": [
           {
            "marker": {
             "colorbar": {
              "outlinewidth": 0,
              "ticks": ""
             }
            },
            "type": "scatterternary"
           }
          ],
          "surface": [
           {
            "colorbar": {
             "outlinewidth": 0,
             "ticks": ""
            },
            "colorscale": [
             [
              0,
              "#0d0887"
             ],
             [
              0.1111111111111111,
              "#46039f"
             ],
             [
              0.2222222222222222,
              "#7201a8"
             ],
             [
              0.3333333333333333,
              "#9c179e"
             ],
             [
              0.4444444444444444,
              "#bd3786"
             ],
             [
              0.5555555555555556,
              "#d8576b"
             ],
             [
              0.6666666666666666,
              "#ed7953"
             ],
             [
              0.7777777777777778,
              "#fb9f3a"
             ],
             [
              0.8888888888888888,
              "#fdca26"
             ],
             [
              1,
              "#f0f921"
             ]
            ],
            "type": "surface"
           }
          ],
          "table": [
           {
            "cells": {
             "fill": {
              "color": "#EBF0F8"
             },
             "line": {
              "color": "white"
             }
            },
            "header": {
             "fill": {
              "color": "#C8D4E3"
             },
             "line": {
              "color": "white"
             }
            },
            "type": "table"
           }
          ]
         },
         "layout": {
          "annotationdefaults": {
           "arrowcolor": "#2a3f5f",
           "arrowhead": 0,
           "arrowwidth": 1
          },
          "autotypenumbers": "strict",
          "coloraxis": {
           "colorbar": {
            "outlinewidth": 0,
            "ticks": ""
           }
          },
          "colorscale": {
           "diverging": [
            [
             0,
             "#8e0152"
            ],
            [
             0.1,
             "#c51b7d"
            ],
            [
             0.2,
             "#de77ae"
            ],
            [
             0.3,
             "#f1b6da"
            ],
            [
             0.4,
             "#fde0ef"
            ],
            [
             0.5,
             "#f7f7f7"
            ],
            [
             0.6,
             "#e6f5d0"
            ],
            [
             0.7,
             "#b8e186"
            ],
            [
             0.8,
             "#7fbc41"
            ],
            [
             0.9,
             "#4d9221"
            ],
            [
             1,
             "#276419"
            ]
           ],
           "sequential": [
            [
             0,
             "#0d0887"
            ],
            [
             0.1111111111111111,
             "#46039f"
            ],
            [
             0.2222222222222222,
             "#7201a8"
            ],
            [
             0.3333333333333333,
             "#9c179e"
            ],
            [
             0.4444444444444444,
             "#bd3786"
            ],
            [
             0.5555555555555556,
             "#d8576b"
            ],
            [
             0.6666666666666666,
             "#ed7953"
            ],
            [
             0.7777777777777778,
             "#fb9f3a"
            ],
            [
             0.8888888888888888,
             "#fdca26"
            ],
            [
             1,
             "#f0f921"
            ]
           ],
           "sequentialminus": [
            [
             0,
             "#0d0887"
            ],
            [
             0.1111111111111111,
             "#46039f"
            ],
            [
             0.2222222222222222,
             "#7201a8"
            ],
            [
             0.3333333333333333,
             "#9c179e"
            ],
            [
             0.4444444444444444,
             "#bd3786"
            ],
            [
             0.5555555555555556,
             "#d8576b"
            ],
            [
             0.6666666666666666,
             "#ed7953"
            ],
            [
             0.7777777777777778,
             "#fb9f3a"
            ],
            [
             0.8888888888888888,
             "#fdca26"
            ],
            [
             1,
             "#f0f921"
            ]
           ]
          },
          "colorway": [
           "#636efa",
           "#EF553B",
           "#00cc96",
           "#ab63fa",
           "#FFA15A",
           "#19d3f3",
           "#FF6692",
           "#B6E880",
           "#FF97FF",
           "#FECB52"
          ],
          "font": {
           "color": "#2a3f5f"
          },
          "geo": {
           "bgcolor": "white",
           "lakecolor": "white",
           "landcolor": "white",
           "showlakes": true,
           "showland": true,
           "subunitcolor": "#C8D4E3"
          },
          "hoverlabel": {
           "align": "left"
          },
          "hovermode": "closest",
          "mapbox": {
           "style": "light"
          },
          "paper_bgcolor": "white",
          "plot_bgcolor": "white",
          "polar": {
           "angularaxis": {
            "gridcolor": "#EBF0F8",
            "linecolor": "#EBF0F8",
            "ticks": ""
           },
           "bgcolor": "white",
           "radialaxis": {
            "gridcolor": "#EBF0F8",
            "linecolor": "#EBF0F8",
            "ticks": ""
           }
          },
          "scene": {
           "xaxis": {
            "backgroundcolor": "white",
            "gridcolor": "#DFE8F3",
            "gridwidth": 2,
            "linecolor": "#EBF0F8",
            "showbackground": true,
            "ticks": "",
            "zerolinecolor": "#EBF0F8"
           },
           "yaxis": {
            "backgroundcolor": "white",
            "gridcolor": "#DFE8F3",
            "gridwidth": 2,
            "linecolor": "#EBF0F8",
            "showbackground": true,
            "ticks": "",
            "zerolinecolor": "#EBF0F8"
           },
           "zaxis": {
            "backgroundcolor": "white",
            "gridcolor": "#DFE8F3",
            "gridwidth": 2,
            "linecolor": "#EBF0F8",
            "showbackground": true,
            "ticks": "",
            "zerolinecolor": "#EBF0F8"
           }
          },
          "shapedefaults": {
           "line": {
            "color": "#2a3f5f"
           }
          },
          "ternary": {
           "aaxis": {
            "gridcolor": "#DFE8F3",
            "linecolor": "#A2B1C6",
            "ticks": ""
           },
           "baxis": {
            "gridcolor": "#DFE8F3",
            "linecolor": "#A2B1C6",
            "ticks": ""
           },
           "bgcolor": "white",
           "caxis": {
            "gridcolor": "#DFE8F3",
            "linecolor": "#A2B1C6",
            "ticks": ""
           }
          },
          "title": {
           "x": 0.05
          },
          "xaxis": {
           "automargin": true,
           "gridcolor": "#EBF0F8",
           "linecolor": "#EBF0F8",
           "ticks": "",
           "title": {
            "standoff": 15
           },
           "zerolinecolor": "#EBF0F8",
           "zerolinewidth": 2
          },
          "yaxis": {
           "automargin": true,
           "gridcolor": "#EBF0F8",
           "linecolor": "#EBF0F8",
           "ticks": "",
           "title": {
            "standoff": 15
           },
           "zerolinecolor": "#EBF0F8",
           "zerolinewidth": 2
          }
         }
        },
        "title": {
         "text": "Time Comparison"
        },
        "xaxis": {
         "linewidth": 1.5,
         "showgrid": true,
         "showline": true,
         "showticklabels": true,
         "tickfont": {
          "color": "#000000",
          "family": "Verdana",
          "size": 11
         },
         "ticks": "outside",
         "title": {
          "text": "Iterations"
         }
        },
        "yaxis": {
         "showgrid": true,
         "showline": false,
         "showticklabels": true,
         "tickfont": {
          "color": "#000000",
          "family": "Verdana",
          "size": 11
         },
         "ticks": "outside",
         "title": {
          "text": "Time (ms)"
         },
         "zeroline": false
        }
       }
      }
     },
     "metadata": {},
     "output_type": "display_data"
    }
   ],
   "source": [
    "# seed for reproducibility\n",
    "np.random.seed(0)\n",
    "\n",
    "# Define the range of values\n",
    "xo = ['single_cross', 'cycle_cross', 'pmx', 'arithmetic_cross']\n",
    "\n",
    "# Setting previous best parameter as new default value\n",
    "params.update(replace_param)\n",
    "\n",
    "# Print current parameters to use in best_operators_search\n",
    "print('\\033[1mParameters for GA:\\033[0m', end='\\n\\n')\n",
    "print(params, end='\\n\\n')\n",
    "\n",
    "param_list, df = best_operators_search('cross', xo, params)\n",
    "\n",
    "# Displaying average results of the 100 iterations\n",
    "print('\\033[1mAverage results:', end='\\n')\n",
    "df['const'] = 'const'\n",
    "df_avg = df.groupby('const').mean().reset_index(drop=True).round(3)\n",
    "display(df_avg)\n",
    "\n",
    "# Getting best parameter by fitness & time\n",
    "best_param_fit = df_avg[[col for col in df_avg.columns if col.startswith('Fit_')]].idxmax(axis=1)[0].replace('Fit_', '')\n",
    "best_param_time = df_avg[[col for col in df_avg.columns if col.startswith('Time_')]].idxmin(axis=1)[0].replace('Time_', '')\n",
    "replace_param = {'cross': best_param_fit}\n",
    "print(f'\\nBest Fitness: \\033[1m{best_param_fit}\\033[0m\\n\\nBest Time: \\033[1m{best_param_time}\\033[0m', end='\\n\\n')\n",
    "\n",
    "# Plotting results\n",
    "plot_values(data = df, colors = color_palette[:len(xo)], layout=2, template='white', grid=True)"
   ]
  },
  {
   "attachments": {},
   "cell_type": "markdown",
   "metadata": {},
   "source": [
    "### __1.3 Selection Operator__"
   ]
  },
  {
   "cell_type": "code",
   "execution_count": 9,
   "metadata": {},
   "outputs": [
    {
     "name": "stdout",
     "output_type": "stream",
     "text": [
      "\u001b[1mParameters for GA:\u001b[0m\n",
      "\n",
      "{'n': 25, 'pop': 100, 'gen': 50, 'mut_perc': 0.05, 'cross_perc': 0.75, 'mut': 'random_mutation', 'cross': 'single_cross', 'select': 'tournament_selection'}\n",
      "\n",
      "\u001b[1mAverage results:\n"
     ]
    },
    {
     "data": {
      "text/html": [
       "<div>\n",
       "<style scoped>\n",
       "    .dataframe tbody tr th:only-of-type {\n",
       "        vertical-align: middle;\n",
       "    }\n",
       "\n",
       "    .dataframe tbody tr th {\n",
       "        vertical-align: top;\n",
       "    }\n",
       "\n",
       "    .dataframe thead th {\n",
       "        text-align: right;\n",
       "    }\n",
       "</style>\n",
       "<table border=\"1\" class=\"dataframe\">\n",
       "  <thead>\n",
       "    <tr style=\"text-align: right;\">\n",
       "      <th></th>\n",
       "      <th>Fit_tournament_selection</th>\n",
       "      <th>Fit_fps</th>\n",
       "      <th>Fit_rank</th>\n",
       "      <th>Time_tournament_selection</th>\n",
       "      <th>Time_fps</th>\n",
       "      <th>Time_rank</th>\n",
       "    </tr>\n",
       "  </thead>\n",
       "  <tbody>\n",
       "    <tr>\n",
       "      <th>0</th>\n",
       "      <td>97.353</td>\n",
       "      <td>97.27</td>\n",
       "      <td>97.27</td>\n",
       "      <td>11.61</td>\n",
       "      <td>56.52</td>\n",
       "      <td>67.03</td>\n",
       "    </tr>\n",
       "  </tbody>\n",
       "</table>\n",
       "</div>"
      ],
      "text/plain": [
       "   Fit_tournament_selection  Fit_fps  Fit_rank  Time_tournament_selection   \n",
       "0                    97.353    97.27     97.27                      11.61  \\\n",
       "\n",
       "   Time_fps  Time_rank  \n",
       "0     56.52      67.03  "
      ]
     },
     "metadata": {},
     "output_type": "display_data"
    },
    {
     "name": "stdout",
     "output_type": "stream",
     "text": [
      "\n",
      "Best Fitness: \u001b[1mtournament_selection\u001b[0m\n",
      "\n",
      "Best Time: \u001b[1mtournament_selection\u001b[0m\n",
      "\n"
     ]
    },
    {
     "data": {
      "application/vnd.plotly.v1+json": {
       "config": {
        "plotlyServerURL": "https://plot.ly"
       },
       "data": [
        {
         "line": {
          "color": "gray",
          "width": 2
         },
         "name": "tournament_selection",
         "type": "scatter",
         "x": [
          0,
          1,
          2,
          3,
          4,
          5,
          6,
          7,
          8,
          9,
          10,
          11,
          12,
          13,
          14,
          15,
          16,
          17,
          18,
          19,
          20,
          21,
          22,
          23,
          24,
          25,
          26,
          27,
          28,
          29,
          30,
          31,
          32,
          33,
          34,
          35,
          36,
          37,
          38,
          39,
          40,
          41,
          42,
          43,
          44,
          45,
          46,
          47,
          48,
          49,
          50,
          51,
          52,
          53,
          54,
          55,
          56,
          57,
          58,
          59,
          60,
          61,
          62,
          63,
          64,
          65,
          66,
          67,
          68,
          69,
          70,
          71,
          72,
          73,
          74,
          75,
          76,
          77,
          78,
          79,
          80,
          81,
          82,
          83,
          84,
          85,
          86,
          87,
          88,
          89,
          90,
          91,
          92,
          93,
          94,
          95,
          96,
          97,
          98,
          99
         ],
         "y": [
          97.33333333333333,
          98.33333333333333,
          97.33333333333333,
          97.33333333333333,
          97.33333333333333,
          97.33333333333333,
          97.33333333333333,
          97.33333333333333,
          98,
          97.66666666666667,
          97,
          97.33333333333333,
          97,
          96.66666666666667,
          97.33333333333333,
          97,
          97,
          97,
          97.33333333333333,
          97.66666666666667,
          97.66666666666667,
          97.33333333333333,
          97,
          97.33333333333333,
          97.33333333333333,
          97,
          97,
          97,
          98,
          97.66666666666667,
          97.66666666666667,
          98.33333333333333,
          97.33333333333333,
          97.33333333333333,
          98,
          97,
          97.33333333333333,
          97.66666666666667,
          97.66666666666667,
          97.66666666666667,
          97.33333333333333,
          97.66666666666667,
          97.66666666666667,
          96.66666666666667,
          97.33333333333333,
          97.66666666666667,
          98,
          97.33333333333333,
          97.33333333333333,
          97.66666666666667,
          97.33333333333333,
          97.33333333333333,
          97,
          97.33333333333333,
          97.66666666666667,
          97,
          97.33333333333333,
          97.33333333333333,
          97,
          96.66666666666667,
          97,
          97,
          97.33333333333333,
          97,
          97.66666666666667,
          97,
          96.66666666666667,
          97.66666666666667,
          97.66666666666667,
          97,
          97.33333333333333,
          98,
          97.33333333333333,
          97,
          98,
          97.33333333333333,
          97.33333333333333,
          96.66666666666667,
          97.33333333333333,
          97.66666666666667,
          97.66666666666667,
          97.33333333333333,
          97,
          97.33333333333333,
          98,
          97.66666666666667,
          97.66666666666667,
          97,
          97,
          97,
          97,
          97.66666666666667,
          97.33333333333333,
          98,
          97.33333333333333,
          97,
          96.66666666666667,
          97.33333333333333,
          97.33333333333333,
          97.33333333333333
         ]
        },
        {
         "marker": {
          "color": "gray",
          "size": 8
         },
         "mode": "markers",
         "name": "",
         "type": "scatter",
         "x": [
          0,
          99
         ],
         "y": [
          97.33333333333333,
          97.33333333333333
         ]
        },
        {
         "line": {
          "color": "steelblue",
          "width": 2
         },
         "name": "fps",
         "type": "scatter",
         "x": [
          0,
          1,
          2,
          3,
          4,
          5,
          6,
          7,
          8,
          9,
          10,
          11,
          12,
          13,
          14,
          15,
          16,
          17,
          18,
          19,
          20,
          21,
          22,
          23,
          24,
          25,
          26,
          27,
          28,
          29,
          30,
          31,
          32,
          33,
          34,
          35,
          36,
          37,
          38,
          39,
          40,
          41,
          42,
          43,
          44,
          45,
          46,
          47,
          48,
          49,
          50,
          51,
          52,
          53,
          54,
          55,
          56,
          57,
          58,
          59,
          60,
          61,
          62,
          63,
          64,
          65,
          66,
          67,
          68,
          69,
          70,
          71,
          72,
          73,
          74,
          75,
          76,
          77,
          78,
          79,
          80,
          81,
          82,
          83,
          84,
          85,
          86,
          87,
          88,
          89,
          90,
          91,
          92,
          93,
          94,
          95,
          96,
          97,
          98,
          99
         ],
         "y": [
          97.66666666666667,
          97.33333333333333,
          97.33333333333333,
          97,
          96.66666666666667,
          97.33333333333333,
          98.33333333333333,
          97.33333333333333,
          97.33333333333333,
          97.33333333333333,
          96.66666666666667,
          97.66666666666667,
          97.33333333333333,
          97.33333333333333,
          97,
          97.33333333333333,
          96.33333333333333,
          97.33333333333333,
          97.33333333333333,
          97.66666666666667,
          97.66666666666667,
          96.66666666666667,
          97.66666666666667,
          97,
          97,
          97.33333333333333,
          97,
          98,
          97.33333333333333,
          97.33333333333333,
          97.33333333333333,
          96.66666666666667,
          96.66666666666667,
          97,
          97.66666666666667,
          97,
          97.33333333333333,
          97.66666666666667,
          97.33333333333333,
          98,
          97,
          96.66666666666667,
          97,
          98,
          97,
          97.33333333333333,
          98,
          96.66666666666667,
          97.33333333333333,
          97.66666666666667,
          97,
          97.66666666666667,
          98,
          98,
          97,
          97.33333333333333,
          97.33333333333333,
          97.33333333333333,
          97,
          97.66666666666667,
          97.66666666666667,
          97.33333333333333,
          97,
          97.33333333333333,
          97,
          97.33333333333333,
          97,
          96.66666666666667,
          97,
          97.66666666666667,
          96.66666666666667,
          97,
          97.33333333333333,
          96.66666666666667,
          97,
          97.33333333333333,
          97,
          97,
          97,
          96.66666666666667,
          97.66666666666667,
          97.66666666666667,
          97.33333333333333,
          97.33333333333333,
          97,
          97,
          97.66666666666667,
          97,
          98,
          97.66666666666667,
          97.33333333333333,
          97.66666666666667,
          97.33333333333333,
          97.33333333333333,
          97.66666666666667,
          97.33333333333333,
          97,
          97,
          97,
          97
         ]
        },
        {
         "marker": {
          "color": "steelblue",
          "size": 8
         },
         "mode": "markers",
         "name": "",
         "type": "scatter",
         "x": [
          0,
          99
         ],
         "y": [
          97.66666666666667,
          97
         ]
        },
        {
         "line": {
          "color": "purple",
          "width": 2
         },
         "name": "rank",
         "type": "scatter",
         "x": [
          0,
          1,
          2,
          3,
          4,
          5,
          6,
          7,
          8,
          9,
          10,
          11,
          12,
          13,
          14,
          15,
          16,
          17,
          18,
          19,
          20,
          21,
          22,
          23,
          24,
          25,
          26,
          27,
          28,
          29,
          30,
          31,
          32,
          33,
          34,
          35,
          36,
          37,
          38,
          39,
          40,
          41,
          42,
          43,
          44,
          45,
          46,
          47,
          48,
          49,
          50,
          51,
          52,
          53,
          54,
          55,
          56,
          57,
          58,
          59,
          60,
          61,
          62,
          63,
          64,
          65,
          66,
          67,
          68,
          69,
          70,
          71,
          72,
          73,
          74,
          75,
          76,
          77,
          78,
          79,
          80,
          81,
          82,
          83,
          84,
          85,
          86,
          87,
          88,
          89,
          90,
          91,
          92,
          93,
          94,
          95,
          96,
          97,
          98,
          99
         ],
         "y": [
          98,
          97.33333333333333,
          98,
          97.66666666666667,
          97.66666666666667,
          96.66666666666667,
          96.66666666666667,
          97.33333333333333,
          97,
          97.66666666666667,
          97,
          97.66666666666667,
          97,
          97,
          97,
          97.33333333333333,
          97,
          97,
          96.66666666666667,
          97.33333333333333,
          97,
          97,
          97,
          97.33333333333333,
          97,
          97.33333333333333,
          97.33333333333333,
          97.33333333333333,
          97.66666666666667,
          97.33333333333333,
          96.66666666666667,
          97.33333333333333,
          97.33333333333333,
          97.33333333333333,
          97.33333333333333,
          96.66666666666667,
          97,
          97.33333333333333,
          97,
          97,
          97,
          97.33333333333333,
          97,
          97.33333333333333,
          97.33333333333333,
          97,
          97.66666666666667,
          97.33333333333333,
          97.33333333333333,
          97,
          97,
          97.33333333333333,
          97,
          97.66666666666667,
          97.66666666666667,
          97,
          97.33333333333333,
          97.33333333333333,
          97,
          97,
          97.66666666666667,
          97.33333333333333,
          97.33333333333333,
          96.66666666666667,
          97.66666666666667,
          97.33333333333333,
          97.66666666666667,
          97.33333333333333,
          97.33333333333333,
          97,
          97.66666666666667,
          96.66666666666667,
          97.66666666666667,
          97.33333333333333,
          98,
          97.33333333333333,
          97,
          97.33333333333333,
          97.33333333333333,
          97.66666666666667,
          98,
          96.66666666666667,
          97.33333333333333,
          97.33333333333333,
          97.33333333333333,
          97.33333333333333,
          97,
          97,
          98,
          97.33333333333333,
          97.33333333333333,
          97.66666666666667,
          97.33333333333333,
          97.66666666666667,
          97.33333333333333,
          98,
          97,
          96.66666666666667,
          97.33333333333333,
          97
         ]
        },
        {
         "marker": {
          "color": "purple",
          "size": 8
         },
         "mode": "markers",
         "name": "",
         "type": "scatter",
         "x": [
          0,
          99
         ],
         "y": [
          98,
          97
         ]
        }
       ],
       "layout": {
        "font": {
         "family": "Verdana",
         "size": 14
        },
        "template": {
         "data": {
          "bar": [
           {
            "error_x": {
             "color": "#2a3f5f"
            },
            "error_y": {
             "color": "#2a3f5f"
            },
            "marker": {
             "line": {
              "color": "white",
              "width": 0.5
             },
             "pattern": {
              "fillmode": "overlay",
              "size": 10,
              "solidity": 0.2
             }
            },
            "type": "bar"
           }
          ],
          "barpolar": [
           {
            "marker": {
             "line": {
              "color": "white",
              "width": 0.5
             },
             "pattern": {
              "fillmode": "overlay",
              "size": 10,
              "solidity": 0.2
             }
            },
            "type": "barpolar"
           }
          ],
          "carpet": [
           {
            "aaxis": {
             "endlinecolor": "#2a3f5f",
             "gridcolor": "#C8D4E3",
             "linecolor": "#C8D4E3",
             "minorgridcolor": "#C8D4E3",
             "startlinecolor": "#2a3f5f"
            },
            "baxis": {
             "endlinecolor": "#2a3f5f",
             "gridcolor": "#C8D4E3",
             "linecolor": "#C8D4E3",
             "minorgridcolor": "#C8D4E3",
             "startlinecolor": "#2a3f5f"
            },
            "type": "carpet"
           }
          ],
          "choropleth": [
           {
            "colorbar": {
             "outlinewidth": 0,
             "ticks": ""
            },
            "type": "choropleth"
           }
          ],
          "contour": [
           {
            "colorbar": {
             "outlinewidth": 0,
             "ticks": ""
            },
            "colorscale": [
             [
              0,
              "#0d0887"
             ],
             [
              0.1111111111111111,
              "#46039f"
             ],
             [
              0.2222222222222222,
              "#7201a8"
             ],
             [
              0.3333333333333333,
              "#9c179e"
             ],
             [
              0.4444444444444444,
              "#bd3786"
             ],
             [
              0.5555555555555556,
              "#d8576b"
             ],
             [
              0.6666666666666666,
              "#ed7953"
             ],
             [
              0.7777777777777778,
              "#fb9f3a"
             ],
             [
              0.8888888888888888,
              "#fdca26"
             ],
             [
              1,
              "#f0f921"
             ]
            ],
            "type": "contour"
           }
          ],
          "contourcarpet": [
           {
            "colorbar": {
             "outlinewidth": 0,
             "ticks": ""
            },
            "type": "contourcarpet"
           }
          ],
          "heatmap": [
           {
            "colorbar": {
             "outlinewidth": 0,
             "ticks": ""
            },
            "colorscale": [
             [
              0,
              "#0d0887"
             ],
             [
              0.1111111111111111,
              "#46039f"
             ],
             [
              0.2222222222222222,
              "#7201a8"
             ],
             [
              0.3333333333333333,
              "#9c179e"
             ],
             [
              0.4444444444444444,
              "#bd3786"
             ],
             [
              0.5555555555555556,
              "#d8576b"
             ],
             [
              0.6666666666666666,
              "#ed7953"
             ],
             [
              0.7777777777777778,
              "#fb9f3a"
             ],
             [
              0.8888888888888888,
              "#fdca26"
             ],
             [
              1,
              "#f0f921"
             ]
            ],
            "type": "heatmap"
           }
          ],
          "heatmapgl": [
           {
            "colorbar": {
             "outlinewidth": 0,
             "ticks": ""
            },
            "colorscale": [
             [
              0,
              "#0d0887"
             ],
             [
              0.1111111111111111,
              "#46039f"
             ],
             [
              0.2222222222222222,
              "#7201a8"
             ],
             [
              0.3333333333333333,
              "#9c179e"
             ],
             [
              0.4444444444444444,
              "#bd3786"
             ],
             [
              0.5555555555555556,
              "#d8576b"
             ],
             [
              0.6666666666666666,
              "#ed7953"
             ],
             [
              0.7777777777777778,
              "#fb9f3a"
             ],
             [
              0.8888888888888888,
              "#fdca26"
             ],
             [
              1,
              "#f0f921"
             ]
            ],
            "type": "heatmapgl"
           }
          ],
          "histogram": [
           {
            "marker": {
             "pattern": {
              "fillmode": "overlay",
              "size": 10,
              "solidity": 0.2
             }
            },
            "type": "histogram"
           }
          ],
          "histogram2d": [
           {
            "colorbar": {
             "outlinewidth": 0,
             "ticks": ""
            },
            "colorscale": [
             [
              0,
              "#0d0887"
             ],
             [
              0.1111111111111111,
              "#46039f"
             ],
             [
              0.2222222222222222,
              "#7201a8"
             ],
             [
              0.3333333333333333,
              "#9c179e"
             ],
             [
              0.4444444444444444,
              "#bd3786"
             ],
             [
              0.5555555555555556,
              "#d8576b"
             ],
             [
              0.6666666666666666,
              "#ed7953"
             ],
             [
              0.7777777777777778,
              "#fb9f3a"
             ],
             [
              0.8888888888888888,
              "#fdca26"
             ],
             [
              1,
              "#f0f921"
             ]
            ],
            "type": "histogram2d"
           }
          ],
          "histogram2dcontour": [
           {
            "colorbar": {
             "outlinewidth": 0,
             "ticks": ""
            },
            "colorscale": [
             [
              0,
              "#0d0887"
             ],
             [
              0.1111111111111111,
              "#46039f"
             ],
             [
              0.2222222222222222,
              "#7201a8"
             ],
             [
              0.3333333333333333,
              "#9c179e"
             ],
             [
              0.4444444444444444,
              "#bd3786"
             ],
             [
              0.5555555555555556,
              "#d8576b"
             ],
             [
              0.6666666666666666,
              "#ed7953"
             ],
             [
              0.7777777777777778,
              "#fb9f3a"
             ],
             [
              0.8888888888888888,
              "#fdca26"
             ],
             [
              1,
              "#f0f921"
             ]
            ],
            "type": "histogram2dcontour"
           }
          ],
          "mesh3d": [
           {
            "colorbar": {
             "outlinewidth": 0,
             "ticks": ""
            },
            "type": "mesh3d"
           }
          ],
          "parcoords": [
           {
            "line": {
             "colorbar": {
              "outlinewidth": 0,
              "ticks": ""
             }
            },
            "type": "parcoords"
           }
          ],
          "pie": [
           {
            "automargin": true,
            "type": "pie"
           }
          ],
          "scatter": [
           {
            "fillpattern": {
             "fillmode": "overlay",
             "size": 10,
             "solidity": 0.2
            },
            "type": "scatter"
           }
          ],
          "scatter3d": [
           {
            "line": {
             "colorbar": {
              "outlinewidth": 0,
              "ticks": ""
             }
            },
            "marker": {
             "colorbar": {
              "outlinewidth": 0,
              "ticks": ""
             }
            },
            "type": "scatter3d"
           }
          ],
          "scattercarpet": [
           {
            "marker": {
             "colorbar": {
              "outlinewidth": 0,
              "ticks": ""
             }
            },
            "type": "scattercarpet"
           }
          ],
          "scattergeo": [
           {
            "marker": {
             "colorbar": {
              "outlinewidth": 0,
              "ticks": ""
             }
            },
            "type": "scattergeo"
           }
          ],
          "scattergl": [
           {
            "marker": {
             "colorbar": {
              "outlinewidth": 0,
              "ticks": ""
             }
            },
            "type": "scattergl"
           }
          ],
          "scattermapbox": [
           {
            "marker": {
             "colorbar": {
              "outlinewidth": 0,
              "ticks": ""
             }
            },
            "type": "scattermapbox"
           }
          ],
          "scatterpolar": [
           {
            "marker": {
             "colorbar": {
              "outlinewidth": 0,
              "ticks": ""
             }
            },
            "type": "scatterpolar"
           }
          ],
          "scatterpolargl": [
           {
            "marker": {
             "colorbar": {
              "outlinewidth": 0,
              "ticks": ""
             }
            },
            "type": "scatterpolargl"
           }
          ],
          "scatterternary": [
           {
            "marker": {
             "colorbar": {
              "outlinewidth": 0,
              "ticks": ""
             }
            },
            "type": "scatterternary"
           }
          ],
          "surface": [
           {
            "colorbar": {
             "outlinewidth": 0,
             "ticks": ""
            },
            "colorscale": [
             [
              0,
              "#0d0887"
             ],
             [
              0.1111111111111111,
              "#46039f"
             ],
             [
              0.2222222222222222,
              "#7201a8"
             ],
             [
              0.3333333333333333,
              "#9c179e"
             ],
             [
              0.4444444444444444,
              "#bd3786"
             ],
             [
              0.5555555555555556,
              "#d8576b"
             ],
             [
              0.6666666666666666,
              "#ed7953"
             ],
             [
              0.7777777777777778,
              "#fb9f3a"
             ],
             [
              0.8888888888888888,
              "#fdca26"
             ],
             [
              1,
              "#f0f921"
             ]
            ],
            "type": "surface"
           }
          ],
          "table": [
           {
            "cells": {
             "fill": {
              "color": "#EBF0F8"
             },
             "line": {
              "color": "white"
             }
            },
            "header": {
             "fill": {
              "color": "#C8D4E3"
             },
             "line": {
              "color": "white"
             }
            },
            "type": "table"
           }
          ]
         },
         "layout": {
          "annotationdefaults": {
           "arrowcolor": "#2a3f5f",
           "arrowhead": 0,
           "arrowwidth": 1
          },
          "autotypenumbers": "strict",
          "coloraxis": {
           "colorbar": {
            "outlinewidth": 0,
            "ticks": ""
           }
          },
          "colorscale": {
           "diverging": [
            [
             0,
             "#8e0152"
            ],
            [
             0.1,
             "#c51b7d"
            ],
            [
             0.2,
             "#de77ae"
            ],
            [
             0.3,
             "#f1b6da"
            ],
            [
             0.4,
             "#fde0ef"
            ],
            [
             0.5,
             "#f7f7f7"
            ],
            [
             0.6,
             "#e6f5d0"
            ],
            [
             0.7,
             "#b8e186"
            ],
            [
             0.8,
             "#7fbc41"
            ],
            [
             0.9,
             "#4d9221"
            ],
            [
             1,
             "#276419"
            ]
           ],
           "sequential": [
            [
             0,
             "#0d0887"
            ],
            [
             0.1111111111111111,
             "#46039f"
            ],
            [
             0.2222222222222222,
             "#7201a8"
            ],
            [
             0.3333333333333333,
             "#9c179e"
            ],
            [
             0.4444444444444444,
             "#bd3786"
            ],
            [
             0.5555555555555556,
             "#d8576b"
            ],
            [
             0.6666666666666666,
             "#ed7953"
            ],
            [
             0.7777777777777778,
             "#fb9f3a"
            ],
            [
             0.8888888888888888,
             "#fdca26"
            ],
            [
             1,
             "#f0f921"
            ]
           ],
           "sequentialminus": [
            [
             0,
             "#0d0887"
            ],
            [
             0.1111111111111111,
             "#46039f"
            ],
            [
             0.2222222222222222,
             "#7201a8"
            ],
            [
             0.3333333333333333,
             "#9c179e"
            ],
            [
             0.4444444444444444,
             "#bd3786"
            ],
            [
             0.5555555555555556,
             "#d8576b"
            ],
            [
             0.6666666666666666,
             "#ed7953"
            ],
            [
             0.7777777777777778,
             "#fb9f3a"
            ],
            [
             0.8888888888888888,
             "#fdca26"
            ],
            [
             1,
             "#f0f921"
            ]
           ]
          },
          "colorway": [
           "#636efa",
           "#EF553B",
           "#00cc96",
           "#ab63fa",
           "#FFA15A",
           "#19d3f3",
           "#FF6692",
           "#B6E880",
           "#FF97FF",
           "#FECB52"
          ],
          "font": {
           "color": "#2a3f5f"
          },
          "geo": {
           "bgcolor": "white",
           "lakecolor": "white",
           "landcolor": "white",
           "showlakes": true,
           "showland": true,
           "subunitcolor": "#C8D4E3"
          },
          "hoverlabel": {
           "align": "left"
          },
          "hovermode": "closest",
          "mapbox": {
           "style": "light"
          },
          "paper_bgcolor": "white",
          "plot_bgcolor": "white",
          "polar": {
           "angularaxis": {
            "gridcolor": "#EBF0F8",
            "linecolor": "#EBF0F8",
            "ticks": ""
           },
           "bgcolor": "white",
           "radialaxis": {
            "gridcolor": "#EBF0F8",
            "linecolor": "#EBF0F8",
            "ticks": ""
           }
          },
          "scene": {
           "xaxis": {
            "backgroundcolor": "white",
            "gridcolor": "#DFE8F3",
            "gridwidth": 2,
            "linecolor": "#EBF0F8",
            "showbackground": true,
            "ticks": "",
            "zerolinecolor": "#EBF0F8"
           },
           "yaxis": {
            "backgroundcolor": "white",
            "gridcolor": "#DFE8F3",
            "gridwidth": 2,
            "linecolor": "#EBF0F8",
            "showbackground": true,
            "ticks": "",
            "zerolinecolor": "#EBF0F8"
           },
           "zaxis": {
            "backgroundcolor": "white",
            "gridcolor": "#DFE8F3",
            "gridwidth": 2,
            "linecolor": "#EBF0F8",
            "showbackground": true,
            "ticks": "",
            "zerolinecolor": "#EBF0F8"
           }
          },
          "shapedefaults": {
           "line": {
            "color": "#2a3f5f"
           }
          },
          "ternary": {
           "aaxis": {
            "gridcolor": "#DFE8F3",
            "linecolor": "#A2B1C6",
            "ticks": ""
           },
           "baxis": {
            "gridcolor": "#DFE8F3",
            "linecolor": "#A2B1C6",
            "ticks": ""
           },
           "bgcolor": "white",
           "caxis": {
            "gridcolor": "#DFE8F3",
            "linecolor": "#A2B1C6",
            "ticks": ""
           }
          },
          "title": {
           "x": 0.05
          },
          "xaxis": {
           "automargin": true,
           "gridcolor": "#EBF0F8",
           "linecolor": "#EBF0F8",
           "ticks": "",
           "title": {
            "standoff": 15
           },
           "zerolinecolor": "#EBF0F8",
           "zerolinewidth": 2
          },
          "yaxis": {
           "automargin": true,
           "gridcolor": "#EBF0F8",
           "linecolor": "#EBF0F8",
           "ticks": "",
           "title": {
            "standoff": 15
           },
           "zerolinecolor": "#EBF0F8",
           "zerolinewidth": 2
          }
         }
        },
        "title": {
         "text": "Fitness Comparison"
        },
        "xaxis": {
         "linewidth": 1.5,
         "showgrid": true,
         "showline": true,
         "showticklabels": true,
         "tickfont": {
          "color": "#000000",
          "family": "Verdana",
          "size": 11
         },
         "ticks": "outside",
         "title": {
          "text": "Iterations"
         }
        },
        "yaxis": {
         "showgrid": true,
         "showline": false,
         "showticklabels": true,
         "tickfont": {
          "color": "#000000",
          "family": "Verdana",
          "size": 11
         },
         "ticks": "outside",
         "title": {
          "text": "Fitness"
         },
         "zeroline": false
        }
       }
      }
     },
     "metadata": {},
     "output_type": "display_data"
    },
    {
     "data": {
      "application/vnd.plotly.v1+json": {
       "config": {
        "plotlyServerURL": "https://plot.ly"
       },
       "data": [
        {
         "line": {
          "color": "gray",
          "width": 2
         },
         "name": "tournament_selection",
         "type": "scatter",
         "x": [
          0,
          1,
          2,
          3,
          4,
          5,
          6,
          7,
          8,
          9,
          10,
          11,
          12,
          13,
          14,
          15,
          16,
          17,
          18,
          19,
          20,
          21,
          22,
          23,
          24,
          25,
          26,
          27,
          28,
          29,
          30,
          31,
          32,
          33,
          34,
          35,
          36,
          37,
          38,
          39,
          40,
          41,
          42,
          43,
          44,
          45,
          46,
          47,
          48,
          49,
          50,
          51,
          52,
          53,
          54,
          55,
          56,
          57,
          58,
          59,
          60,
          61,
          62,
          63,
          64,
          65,
          66,
          67,
          68,
          69,
          70,
          71,
          72,
          73,
          74,
          75,
          76,
          77,
          78,
          79,
          80,
          81,
          82,
          83,
          84,
          85,
          86,
          87,
          88,
          89,
          90,
          91,
          92,
          93,
          94,
          95,
          96,
          97,
          98,
          99
         ],
         "y": [
          16,
          12,
          12,
          11,
          12,
          11,
          11,
          11,
          11,
          11,
          11,
          11,
          12,
          11,
          11,
          11,
          11,
          12,
          11,
          12,
          11,
          11,
          11,
          11,
          11,
          11,
          11,
          11,
          11,
          11,
          11,
          11,
          11,
          11,
          11,
          11,
          11,
          11,
          11,
          11,
          11,
          12,
          11,
          11,
          11,
          11,
          11,
          11,
          11,
          11,
          11,
          11,
          11,
          11,
          11,
          11,
          12,
          11,
          11,
          11,
          11,
          12,
          11,
          12,
          12,
          11,
          12,
          11,
          11,
          12,
          19,
          14,
          13,
          12,
          11,
          12,
          11,
          11,
          34,
          14,
          11,
          12,
          11,
          11,
          11,
          12,
          11,
          11,
          11,
          11,
          11,
          11,
          11,
          11,
          11,
          11,
          11,
          11,
          11,
          11
         ]
        },
        {
         "marker": {
          "color": "gray",
          "size": 8
         },
         "mode": "markers",
         "name": "",
         "type": "scatter",
         "x": [
          0,
          99
         ],
         "y": [
          16,
          11
         ]
        },
        {
         "line": {
          "color": "steelblue",
          "width": 2
         },
         "name": "fps",
         "type": "scatter",
         "x": [
          0,
          1,
          2,
          3,
          4,
          5,
          6,
          7,
          8,
          9,
          10,
          11,
          12,
          13,
          14,
          15,
          16,
          17,
          18,
          19,
          20,
          21,
          22,
          23,
          24,
          25,
          26,
          27,
          28,
          29,
          30,
          31,
          32,
          33,
          34,
          35,
          36,
          37,
          38,
          39,
          40,
          41,
          42,
          43,
          44,
          45,
          46,
          47,
          48,
          49,
          50,
          51,
          52,
          53,
          54,
          55,
          56,
          57,
          58,
          59,
          60,
          61,
          62,
          63,
          64,
          65,
          66,
          67,
          68,
          69,
          70,
          71,
          72,
          73,
          74,
          75,
          76,
          77,
          78,
          79,
          80,
          81,
          82,
          83,
          84,
          85,
          86,
          87,
          88,
          89,
          90,
          91,
          92,
          93,
          94,
          95,
          96,
          97,
          98,
          99
         ],
         "y": [
          75,
          58,
          58,
          60,
          56,
          56,
          55,
          55,
          55,
          56,
          58,
          59,
          59,
          55,
          59,
          57,
          58,
          57,
          56,
          57,
          61,
          58,
          57,
          56,
          55,
          54,
          54,
          59,
          57,
          58,
          60,
          56,
          58,
          55,
          54,
          73,
          55,
          57,
          55,
          55,
          57,
          59,
          56,
          55,
          56,
          54,
          55,
          56,
          57,
          55,
          55,
          56,
          55,
          55,
          54,
          55,
          58,
          56,
          55,
          56,
          55,
          57,
          54,
          58,
          55,
          56,
          55,
          56,
          55,
          55,
          54,
          56,
          54,
          57,
          56,
          56,
          59,
          57,
          57,
          56,
          56,
          55,
          55,
          58,
          57,
          56,
          55,
          56,
          56,
          57,
          53,
          57,
          55,
          53,
          57,
          54,
          54,
          56,
          56,
          57
         ]
        },
        {
         "marker": {
          "color": "steelblue",
          "size": 8
         },
         "mode": "markers",
         "name": "",
         "type": "scatter",
         "x": [
          0,
          99
         ],
         "y": [
          75,
          57
         ]
        },
        {
         "line": {
          "color": "purple",
          "width": 2
         },
         "name": "rank",
         "type": "scatter",
         "x": [
          0,
          1,
          2,
          3,
          4,
          5,
          6,
          7,
          8,
          9,
          10,
          11,
          12,
          13,
          14,
          15,
          16,
          17,
          18,
          19,
          20,
          21,
          22,
          23,
          24,
          25,
          26,
          27,
          28,
          29,
          30,
          31,
          32,
          33,
          34,
          35,
          36,
          37,
          38,
          39,
          40,
          41,
          42,
          43,
          44,
          45,
          46,
          47,
          48,
          49,
          50,
          51,
          52,
          53,
          54,
          55,
          56,
          57,
          58,
          59,
          60,
          61,
          62,
          63,
          64,
          65,
          66,
          67,
          68,
          69,
          70,
          71,
          72,
          73,
          74,
          75,
          76,
          77,
          78,
          79,
          80,
          81,
          82,
          83,
          84,
          85,
          86,
          87,
          88,
          89,
          90,
          91,
          92,
          93,
          94,
          95,
          96,
          97,
          98,
          99
         ],
         "y": [
          51,
          67,
          50,
          76,
          76,
          73,
          73,
          72,
          71,
          75,
          75,
          77,
          49,
          75,
          43,
          73,
          70,
          70,
          44,
          75,
          69,
          44,
          73,
          75,
          78,
          73,
          71,
          50,
          50,
          74,
          72,
          49,
          72,
          72,
          75,
          75,
          71,
          76,
          72,
          49,
          49,
          75,
          49,
          75,
          74,
          75,
          68,
          68,
          49,
          49,
          73,
          51,
          73,
          50,
          67,
          75,
          73,
          73,
          71,
          74,
          74,
          66,
          74,
          48,
          67,
          76,
          73,
          71,
          74,
          75,
          74,
          76,
          77,
          73,
          42,
          72,
          51,
          43,
          75,
          76,
          73,
          75,
          79,
          77,
          79,
          69,
          50,
          42,
          41,
          72,
          68,
          75,
          74,
          72,
          75,
          73,
          72,
          74,
          69,
          51
         ]
        },
        {
         "marker": {
          "color": "purple",
          "size": 8
         },
         "mode": "markers",
         "name": "",
         "type": "scatter",
         "x": [
          0,
          99
         ],
         "y": [
          51,
          51
         ]
        }
       ],
       "layout": {
        "font": {
         "family": "Verdana",
         "size": 14
        },
        "template": {
         "data": {
          "bar": [
           {
            "error_x": {
             "color": "#2a3f5f"
            },
            "error_y": {
             "color": "#2a3f5f"
            },
            "marker": {
             "line": {
              "color": "white",
              "width": 0.5
             },
             "pattern": {
              "fillmode": "overlay",
              "size": 10,
              "solidity": 0.2
             }
            },
            "type": "bar"
           }
          ],
          "barpolar": [
           {
            "marker": {
             "line": {
              "color": "white",
              "width": 0.5
             },
             "pattern": {
              "fillmode": "overlay",
              "size": 10,
              "solidity": 0.2
             }
            },
            "type": "barpolar"
           }
          ],
          "carpet": [
           {
            "aaxis": {
             "endlinecolor": "#2a3f5f",
             "gridcolor": "#C8D4E3",
             "linecolor": "#C8D4E3",
             "minorgridcolor": "#C8D4E3",
             "startlinecolor": "#2a3f5f"
            },
            "baxis": {
             "endlinecolor": "#2a3f5f",
             "gridcolor": "#C8D4E3",
             "linecolor": "#C8D4E3",
             "minorgridcolor": "#C8D4E3",
             "startlinecolor": "#2a3f5f"
            },
            "type": "carpet"
           }
          ],
          "choropleth": [
           {
            "colorbar": {
             "outlinewidth": 0,
             "ticks": ""
            },
            "type": "choropleth"
           }
          ],
          "contour": [
           {
            "colorbar": {
             "outlinewidth": 0,
             "ticks": ""
            },
            "colorscale": [
             [
              0,
              "#0d0887"
             ],
             [
              0.1111111111111111,
              "#46039f"
             ],
             [
              0.2222222222222222,
              "#7201a8"
             ],
             [
              0.3333333333333333,
              "#9c179e"
             ],
             [
              0.4444444444444444,
              "#bd3786"
             ],
             [
              0.5555555555555556,
              "#d8576b"
             ],
             [
              0.6666666666666666,
              "#ed7953"
             ],
             [
              0.7777777777777778,
              "#fb9f3a"
             ],
             [
              0.8888888888888888,
              "#fdca26"
             ],
             [
              1,
              "#f0f921"
             ]
            ],
            "type": "contour"
           }
          ],
          "contourcarpet": [
           {
            "colorbar": {
             "outlinewidth": 0,
             "ticks": ""
            },
            "type": "contourcarpet"
           }
          ],
          "heatmap": [
           {
            "colorbar": {
             "outlinewidth": 0,
             "ticks": ""
            },
            "colorscale": [
             [
              0,
              "#0d0887"
             ],
             [
              0.1111111111111111,
              "#46039f"
             ],
             [
              0.2222222222222222,
              "#7201a8"
             ],
             [
              0.3333333333333333,
              "#9c179e"
             ],
             [
              0.4444444444444444,
              "#bd3786"
             ],
             [
              0.5555555555555556,
              "#d8576b"
             ],
             [
              0.6666666666666666,
              "#ed7953"
             ],
             [
              0.7777777777777778,
              "#fb9f3a"
             ],
             [
              0.8888888888888888,
              "#fdca26"
             ],
             [
              1,
              "#f0f921"
             ]
            ],
            "type": "heatmap"
           }
          ],
          "heatmapgl": [
           {
            "colorbar": {
             "outlinewidth": 0,
             "ticks": ""
            },
            "colorscale": [
             [
              0,
              "#0d0887"
             ],
             [
              0.1111111111111111,
              "#46039f"
             ],
             [
              0.2222222222222222,
              "#7201a8"
             ],
             [
              0.3333333333333333,
              "#9c179e"
             ],
             [
              0.4444444444444444,
              "#bd3786"
             ],
             [
              0.5555555555555556,
              "#d8576b"
             ],
             [
              0.6666666666666666,
              "#ed7953"
             ],
             [
              0.7777777777777778,
              "#fb9f3a"
             ],
             [
              0.8888888888888888,
              "#fdca26"
             ],
             [
              1,
              "#f0f921"
             ]
            ],
            "type": "heatmapgl"
           }
          ],
          "histogram": [
           {
            "marker": {
             "pattern": {
              "fillmode": "overlay",
              "size": 10,
              "solidity": 0.2
             }
            },
            "type": "histogram"
           }
          ],
          "histogram2d": [
           {
            "colorbar": {
             "outlinewidth": 0,
             "ticks": ""
            },
            "colorscale": [
             [
              0,
              "#0d0887"
             ],
             [
              0.1111111111111111,
              "#46039f"
             ],
             [
              0.2222222222222222,
              "#7201a8"
             ],
             [
              0.3333333333333333,
              "#9c179e"
             ],
             [
              0.4444444444444444,
              "#bd3786"
             ],
             [
              0.5555555555555556,
              "#d8576b"
             ],
             [
              0.6666666666666666,
              "#ed7953"
             ],
             [
              0.7777777777777778,
              "#fb9f3a"
             ],
             [
              0.8888888888888888,
              "#fdca26"
             ],
             [
              1,
              "#f0f921"
             ]
            ],
            "type": "histogram2d"
           }
          ],
          "histogram2dcontour": [
           {
            "colorbar": {
             "outlinewidth": 0,
             "ticks": ""
            },
            "colorscale": [
             [
              0,
              "#0d0887"
             ],
             [
              0.1111111111111111,
              "#46039f"
             ],
             [
              0.2222222222222222,
              "#7201a8"
             ],
             [
              0.3333333333333333,
              "#9c179e"
             ],
             [
              0.4444444444444444,
              "#bd3786"
             ],
             [
              0.5555555555555556,
              "#d8576b"
             ],
             [
              0.6666666666666666,
              "#ed7953"
             ],
             [
              0.7777777777777778,
              "#fb9f3a"
             ],
             [
              0.8888888888888888,
              "#fdca26"
             ],
             [
              1,
              "#f0f921"
             ]
            ],
            "type": "histogram2dcontour"
           }
          ],
          "mesh3d": [
           {
            "colorbar": {
             "outlinewidth": 0,
             "ticks": ""
            },
            "type": "mesh3d"
           }
          ],
          "parcoords": [
           {
            "line": {
             "colorbar": {
              "outlinewidth": 0,
              "ticks": ""
             }
            },
            "type": "parcoords"
           }
          ],
          "pie": [
           {
            "automargin": true,
            "type": "pie"
           }
          ],
          "scatter": [
           {
            "fillpattern": {
             "fillmode": "overlay",
             "size": 10,
             "solidity": 0.2
            },
            "type": "scatter"
           }
          ],
          "scatter3d": [
           {
            "line": {
             "colorbar": {
              "outlinewidth": 0,
              "ticks": ""
             }
            },
            "marker": {
             "colorbar": {
              "outlinewidth": 0,
              "ticks": ""
             }
            },
            "type": "scatter3d"
           }
          ],
          "scattercarpet": [
           {
            "marker": {
             "colorbar": {
              "outlinewidth": 0,
              "ticks": ""
             }
            },
            "type": "scattercarpet"
           }
          ],
          "scattergeo": [
           {
            "marker": {
             "colorbar": {
              "outlinewidth": 0,
              "ticks": ""
             }
            },
            "type": "scattergeo"
           }
          ],
          "scattergl": [
           {
            "marker": {
             "colorbar": {
              "outlinewidth": 0,
              "ticks": ""
             }
            },
            "type": "scattergl"
           }
          ],
          "scattermapbox": [
           {
            "marker": {
             "colorbar": {
              "outlinewidth": 0,
              "ticks": ""
             }
            },
            "type": "scattermapbox"
           }
          ],
          "scatterpolar": [
           {
            "marker": {
             "colorbar": {
              "outlinewidth": 0,
              "ticks": ""
             }
            },
            "type": "scatterpolar"
           }
          ],
          "scatterpolargl": [
           {
            "marker": {
             "colorbar": {
              "outlinewidth": 0,
              "ticks": ""
             }
            },
            "type": "scatterpolargl"
           }
          ],
          "scatterternary": [
           {
            "marker": {
             "colorbar": {
              "outlinewidth": 0,
              "ticks": ""
             }
            },
            "type": "scatterternary"
           }
          ],
          "surface": [
           {
            "colorbar": {
             "outlinewidth": 0,
             "ticks": ""
            },
            "colorscale": [
             [
              0,
              "#0d0887"
             ],
             [
              0.1111111111111111,
              "#46039f"
             ],
             [
              0.2222222222222222,
              "#7201a8"
             ],
             [
              0.3333333333333333,
              "#9c179e"
             ],
             [
              0.4444444444444444,
              "#bd3786"
             ],
             [
              0.5555555555555556,
              "#d8576b"
             ],
             [
              0.6666666666666666,
              "#ed7953"
             ],
             [
              0.7777777777777778,
              "#fb9f3a"
             ],
             [
              0.8888888888888888,
              "#fdca26"
             ],
             [
              1,
              "#f0f921"
             ]
            ],
            "type": "surface"
           }
          ],
          "table": [
           {
            "cells": {
             "fill": {
              "color": "#EBF0F8"
             },
             "line": {
              "color": "white"
             }
            },
            "header": {
             "fill": {
              "color": "#C8D4E3"
             },
             "line": {
              "color": "white"
             }
            },
            "type": "table"
           }
          ]
         },
         "layout": {
          "annotationdefaults": {
           "arrowcolor": "#2a3f5f",
           "arrowhead": 0,
           "arrowwidth": 1
          },
          "autotypenumbers": "strict",
          "coloraxis": {
           "colorbar": {
            "outlinewidth": 0,
            "ticks": ""
           }
          },
          "colorscale": {
           "diverging": [
            [
             0,
             "#8e0152"
            ],
            [
             0.1,
             "#c51b7d"
            ],
            [
             0.2,
             "#de77ae"
            ],
            [
             0.3,
             "#f1b6da"
            ],
            [
             0.4,
             "#fde0ef"
            ],
            [
             0.5,
             "#f7f7f7"
            ],
            [
             0.6,
             "#e6f5d0"
            ],
            [
             0.7,
             "#b8e186"
            ],
            [
             0.8,
             "#7fbc41"
            ],
            [
             0.9,
             "#4d9221"
            ],
            [
             1,
             "#276419"
            ]
           ],
           "sequential": [
            [
             0,
             "#0d0887"
            ],
            [
             0.1111111111111111,
             "#46039f"
            ],
            [
             0.2222222222222222,
             "#7201a8"
            ],
            [
             0.3333333333333333,
             "#9c179e"
            ],
            [
             0.4444444444444444,
             "#bd3786"
            ],
            [
             0.5555555555555556,
             "#d8576b"
            ],
            [
             0.6666666666666666,
             "#ed7953"
            ],
            [
             0.7777777777777778,
             "#fb9f3a"
            ],
            [
             0.8888888888888888,
             "#fdca26"
            ],
            [
             1,
             "#f0f921"
            ]
           ],
           "sequentialminus": [
            [
             0,
             "#0d0887"
            ],
            [
             0.1111111111111111,
             "#46039f"
            ],
            [
             0.2222222222222222,
             "#7201a8"
            ],
            [
             0.3333333333333333,
             "#9c179e"
            ],
            [
             0.4444444444444444,
             "#bd3786"
            ],
            [
             0.5555555555555556,
             "#d8576b"
            ],
            [
             0.6666666666666666,
             "#ed7953"
            ],
            [
             0.7777777777777778,
             "#fb9f3a"
            ],
            [
             0.8888888888888888,
             "#fdca26"
            ],
            [
             1,
             "#f0f921"
            ]
           ]
          },
          "colorway": [
           "#636efa",
           "#EF553B",
           "#00cc96",
           "#ab63fa",
           "#FFA15A",
           "#19d3f3",
           "#FF6692",
           "#B6E880",
           "#FF97FF",
           "#FECB52"
          ],
          "font": {
           "color": "#2a3f5f"
          },
          "geo": {
           "bgcolor": "white",
           "lakecolor": "white",
           "landcolor": "white",
           "showlakes": true,
           "showland": true,
           "subunitcolor": "#C8D4E3"
          },
          "hoverlabel": {
           "align": "left"
          },
          "hovermode": "closest",
          "mapbox": {
           "style": "light"
          },
          "paper_bgcolor": "white",
          "plot_bgcolor": "white",
          "polar": {
           "angularaxis": {
            "gridcolor": "#EBF0F8",
            "linecolor": "#EBF0F8",
            "ticks": ""
           },
           "bgcolor": "white",
           "radialaxis": {
            "gridcolor": "#EBF0F8",
            "linecolor": "#EBF0F8",
            "ticks": ""
           }
          },
          "scene": {
           "xaxis": {
            "backgroundcolor": "white",
            "gridcolor": "#DFE8F3",
            "gridwidth": 2,
            "linecolor": "#EBF0F8",
            "showbackground": true,
            "ticks": "",
            "zerolinecolor": "#EBF0F8"
           },
           "yaxis": {
            "backgroundcolor": "white",
            "gridcolor": "#DFE8F3",
            "gridwidth": 2,
            "linecolor": "#EBF0F8",
            "showbackground": true,
            "ticks": "",
            "zerolinecolor": "#EBF0F8"
           },
           "zaxis": {
            "backgroundcolor": "white",
            "gridcolor": "#DFE8F3",
            "gridwidth": 2,
            "linecolor": "#EBF0F8",
            "showbackground": true,
            "ticks": "",
            "zerolinecolor": "#EBF0F8"
           }
          },
          "shapedefaults": {
           "line": {
            "color": "#2a3f5f"
           }
          },
          "ternary": {
           "aaxis": {
            "gridcolor": "#DFE8F3",
            "linecolor": "#A2B1C6",
            "ticks": ""
           },
           "baxis": {
            "gridcolor": "#DFE8F3",
            "linecolor": "#A2B1C6",
            "ticks": ""
           },
           "bgcolor": "white",
           "caxis": {
            "gridcolor": "#DFE8F3",
            "linecolor": "#A2B1C6",
            "ticks": ""
           }
          },
          "title": {
           "x": 0.05
          },
          "xaxis": {
           "automargin": true,
           "gridcolor": "#EBF0F8",
           "linecolor": "#EBF0F8",
           "ticks": "",
           "title": {
            "standoff": 15
           },
           "zerolinecolor": "#EBF0F8",
           "zerolinewidth": 2
          },
          "yaxis": {
           "automargin": true,
           "gridcolor": "#EBF0F8",
           "linecolor": "#EBF0F8",
           "ticks": "",
           "title": {
            "standoff": 15
           },
           "zerolinecolor": "#EBF0F8",
           "zerolinewidth": 2
          }
         }
        },
        "title": {
         "text": "Time Comparison"
        },
        "xaxis": {
         "linewidth": 1.5,
         "showgrid": true,
         "showline": true,
         "showticklabels": true,
         "tickfont": {
          "color": "#000000",
          "family": "Verdana",
          "size": 11
         },
         "ticks": "outside",
         "title": {
          "text": "Iterations"
         }
        },
        "yaxis": {
         "showgrid": true,
         "showline": false,
         "showticklabels": true,
         "tickfont": {
          "color": "#000000",
          "family": "Verdana",
          "size": 11
         },
         "ticks": "outside",
         "title": {
          "text": "Time (ms)"
         },
         "zeroline": false
        }
       }
      }
     },
     "metadata": {},
     "output_type": "display_data"
    }
   ],
   "source": [
    "# seed for reproducibility\n",
    "np.random.seed(0)\n",
    "\n",
    "# Define the range of values\n",
    "select = ['tournament_selection', 'fps', 'rank']\n",
    "\n",
    "# Setting previous best parameter as new default value\n",
    "params.update(replace_param)\n",
    "\n",
    "# Print current parameters to use in best_operators_search\n",
    "print('\\033[1mParameters for GA:\\033[0m', end='\\n\\n')\n",
    "print(params, end='\\n\\n')\n",
    "\n",
    "param_list, df = best_operators_search('select', select, params)\n",
    "\n",
    "# Displaying average results of the 100 iterations\n",
    "print('\\033[1mAverage results:', end='\\n')\n",
    "df['const'] = 'const'\n",
    "df_avg = df.groupby('const').mean().reset_index(drop=True).round(3)\n",
    "display(df_avg)\n",
    "\n",
    "# Getting best parameter by fitness & time\n",
    "best_param_fit = df_avg[[col for col in df_avg.columns if col.startswith('Fit_')]].idxmax(axis=1)[0].replace('Fit_', '')\n",
    "best_param_time = df_avg[[col for col in df_avg.columns if col.startswith('Time_')]].idxmin(axis=1)[0].replace('Time_', '')\n",
    "replace_param = {'select': best_param_fit}\n",
    "print(f'\\nBest Fitness: \\033[1m{best_param_fit}\\033[0m\\n\\nBest Time: \\033[1m{best_param_time}\\033[0m', end='\\n\\n')\n",
    "\n",
    "# Plotting results\n",
    "plot_values(data = df, colors = color_palette[:len(select)], layout=2, template='white', grid=True)"
   ]
  },
  {
   "attachments": {},
   "cell_type": "markdown",
   "metadata": {},
   "source": [
    "### __1.4 Population__"
   ]
  },
  {
   "cell_type": "code",
   "execution_count": 16,
   "metadata": {},
   "outputs": [
    {
     "name": "stdout",
     "output_type": "stream",
     "text": [
      "\u001b[1mParameters for GA:\u001b[0m\n",
      "\n",
      "{'n': 25, 'pop': 100, 'gen': 50, 'mut_perc': 0.05, 'cross_perc': 0.75, 'mut': 'random_mutation', 'cross': 'pmx', 'select': 'rank'}\n",
      "\n"
     ]
    },
    {
     "ename": "KeyboardInterrupt",
     "evalue": "",
     "output_type": "error",
     "traceback": [
      "\u001b[0;31m---------------------------------------------------------------------------\u001b[0m",
      "\u001b[0;31mKeyboardInterrupt\u001b[0m                         Traceback (most recent call last)",
      "Cell \u001b[0;32mIn[16], line 20\u001b[0m\n\u001b[1;32m     17\u001b[0m \u001b[39mprint\u001b[39m(\u001b[39m'\u001b[39m\u001b[39m\\033\u001b[39;00m\u001b[39m[1mParameters for GA:\u001b[39m\u001b[39m\\033\u001b[39;00m\u001b[39m[0m\u001b[39m\u001b[39m'\u001b[39m, end\u001b[39m=\u001b[39m\u001b[39m'\u001b[39m\u001b[39m\\n\u001b[39;00m\u001b[39m\\n\u001b[39;00m\u001b[39m'\u001b[39m)\n\u001b[1;32m     18\u001b[0m \u001b[39mprint\u001b[39m(params, end\u001b[39m=\u001b[39m\u001b[39m'\u001b[39m\u001b[39m\\n\u001b[39;00m\u001b[39m\\n\u001b[39;00m\u001b[39m'\u001b[39m)\n\u001b[0;32m---> 20\u001b[0m param_list, df \u001b[39m=\u001b[39m best_operators_search(\u001b[39m'\u001b[39;49m\u001b[39mpop\u001b[39;49m\u001b[39m'\u001b[39;49m, population, params)\n\u001b[1;32m     22\u001b[0m \u001b[39m# Displaying average results of the 100 iterations\u001b[39;00m\n\u001b[1;32m     23\u001b[0m \u001b[39mprint\u001b[39m(\u001b[39m'\u001b[39m\u001b[39m\\033\u001b[39;00m\u001b[39m[1mAverage results:\u001b[39m\u001b[39m'\u001b[39m, end\u001b[39m=\u001b[39m\u001b[39m'\u001b[39m\u001b[39m\\n\u001b[39;00m\u001b[39m'\u001b[39m)\n",
      "Cell \u001b[0;32mIn[8], line 27\u001b[0m, in \u001b[0;36mbest_operators_search\u001b[0;34m(parameter, values, previous_best_params)\u001b[0m\n\u001b[1;32m     25\u001b[0m params[parameter] \u001b[39m=\u001b[39m i\n\u001b[1;32m     26\u001b[0m \u001b[39m# Define the model with current hyperparameters\u001b[39;00m\n\u001b[0;32m---> 27\u001b[0m ga \u001b[39m=\u001b[39m genetic_algorithm(\u001b[39m*\u001b[39;49m\u001b[39m*\u001b[39;49mparams)\n\u001b[1;32m     28\u001b[0m \u001b[39m# gets restults\u001b[39;00m\n\u001b[1;32m     29\u001b[0m fit \u001b[39m=\u001b[39m ga[\u001b[39m'\u001b[39m\u001b[39mbest_fitness_percentage\u001b[39m\u001b[39m'\u001b[39m]\n",
      "Cell \u001b[0;32mIn[4], line 14\u001b[0m, in \u001b[0;36mgenetic_algorithm\u001b[0;34m(n, pop, gen, mut_perc, cross_perc, mut, cross, select)\u001b[0m\n\u001b[1;32m      1\u001b[0m \u001b[39mdef\u001b[39;00m \u001b[39mgenetic_algorithm\u001b[39m(\n\u001b[1;32m      2\u001b[0m                     n \u001b[39m=\u001b[39m \u001b[39m25\u001b[39m,\n\u001b[1;32m      3\u001b[0m                     pop \u001b[39m=\u001b[39m \u001b[39m100\u001b[39m,\n\u001b[0;32m   (...)\u001b[0m\n\u001b[1;32m      9\u001b[0m                     select\u001b[39m=\u001b[39m\u001b[39m'\u001b[39m\u001b[39mtournament_selection\u001b[39m\u001b[39m'\u001b[39m,\n\u001b[1;32m     10\u001b[0m                     ):\n\u001b[1;32m     12\u001b[0m     nQueensGA \u001b[39m=\u001b[39m NQueensGeneticAlgorithm(population_size\u001b[39m=\u001b[39mpop, dimension\u001b[39m=\u001b[39mn)\n\u001b[0;32m---> 14\u001b[0m     nQueensGA\u001b[39m.\u001b[39;49mrun(\n\u001b[1;32m     15\u001b[0m         generations\u001b[39m=\u001b[39;49mgen,\n\u001b[1;32m     16\u001b[0m         mutation_probability\u001b[39m=\u001b[39;49mmut_perc,\n\u001b[1;32m     17\u001b[0m         crossover_probability\u001b[39m=\u001b[39;49mcross_perc,\n\u001b[1;32m     18\u001b[0m         mutation_operator\u001b[39m=\u001b[39;49mmut,\n\u001b[1;32m     19\u001b[0m         crossover_operator\u001b[39m=\u001b[39;49mcross,\n\u001b[1;32m     20\u001b[0m         selection_operator\u001b[39m=\u001b[39;49mselect\n\u001b[1;32m     21\u001b[0m     )\n\u001b[1;32m     23\u001b[0m     \u001b[39mreturn\u001b[39;00m nQueensGA\u001b[39m.\u001b[39mreport()\n",
      "File \u001b[0;32m~/Desktop/NQueens-Optimization/app/nqueens/genetic_algorithm.py:61\u001b[0m, in \u001b[0;36mNQueensGeneticAlgorithm.run\u001b[0;34m(self, generations, crossover_probability, mutation_probability, mutation_operator, selection_operator, crossover_operator)\u001b[0m\n\u001b[1;32m     59\u001b[0m \u001b[39m# Evolve the population for the given number of generations\u001b[39;00m\n\u001b[1;32m     60\u001b[0m start_time \u001b[39m=\u001b[39m datetime\u001b[39m.\u001b[39mnow()\n\u001b[0;32m---> 61\u001b[0m \u001b[39mself\u001b[39;49m\u001b[39m.\u001b[39;49mpopulation\u001b[39m.\u001b[39;49mevolve(\n\u001b[1;32m     62\u001b[0m     gens\u001b[39m=\u001b[39;49mgenerations,\n\u001b[1;32m     63\u001b[0m     xo_prob\u001b[39m=\u001b[39;49mcrossover_probability,\n\u001b[1;32m     64\u001b[0m     mut_prob\u001b[39m=\u001b[39;49mmutation_probability,\n\u001b[1;32m     65\u001b[0m     select\u001b[39m=\u001b[39;49m\u001b[39mself\u001b[39;49m\u001b[39m.\u001b[39;49mselection_func,\n\u001b[1;32m     66\u001b[0m     mutate\u001b[39m=\u001b[39;49m\u001b[39mself\u001b[39;49m\u001b[39m.\u001b[39;49mmutate_func,\n\u001b[1;32m     67\u001b[0m     crossover\u001b[39m=\u001b[39;49m\u001b[39mself\u001b[39;49m\u001b[39m.\u001b[39;49mcrossover_func,\n\u001b[1;32m     68\u001b[0m     elitism\u001b[39m=\u001b[39;49m\u001b[39mTrue\u001b[39;49;00m\n\u001b[1;32m     69\u001b[0m )\n\u001b[1;32m     70\u001b[0m end_time \u001b[39m=\u001b[39m datetime\u001b[39m.\u001b[39mnow()\n\u001b[1;32m     71\u001b[0m duration \u001b[39m=\u001b[39m end_time \u001b[39m-\u001b[39m start_time\n",
      "File \u001b[0;32m~/Desktop/NQueens-Optimization/app/charles/charles.py:67\u001b[0m, in \u001b[0;36mPopulation.evolve\u001b[0;34m(self, gens, xo_prob, mut_prob, select, mutate, crossover, elitism)\u001b[0m\n\u001b[1;32m     65\u001b[0m parent1, parent2 \u001b[39m=\u001b[39m select(\u001b[39mself\u001b[39m), select(\u001b[39mself\u001b[39m)\n\u001b[1;32m     66\u001b[0m \u001b[39mwhile\u001b[39;00m parent2 \u001b[39m==\u001b[39m parent1:  \u001b[39m# Ensure distinct parents\u001b[39;00m\n\u001b[0;32m---> 67\u001b[0m     parent2 \u001b[39m=\u001b[39m select(\u001b[39mself\u001b[39;49m)\n\u001b[1;32m     69\u001b[0m \u001b[39m# Set the generation of the parents\u001b[39;00m\n\u001b[1;32m     70\u001b[0m parent1\u001b[39m.\u001b[39mgeneration \u001b[39m=\u001b[39m _ \u001b[39m+\u001b[39m \u001b[39m1\u001b[39m\n",
      "File \u001b[0;32m~/Desktop/NQueens-Optimization/app/charles/selection.py:96\u001b[0m, in \u001b[0;36mrank_selection\u001b[0;34m(population)\u001b[0m\n\u001b[1;32m     84\u001b[0m \u001b[39mdef\u001b[39;00m \u001b[39mrank_selection\u001b[39m(population) \u001b[39m-\u001b[39m\u001b[39m>\u001b[39m Individual:\n\u001b[1;32m     85\u001b[0m \u001b[39m    \u001b[39m\u001b[39m\"\"\"Rank-based selection implementation.\u001b[39;00m\n\u001b[1;32m     86\u001b[0m \n\u001b[1;32m     87\u001b[0m \u001b[39m    Rank-Based Selection assigns selection probabilities based on the rank of individuals in the population,\u001b[39;00m\n\u001b[0;32m   (...)\u001b[0m\n\u001b[1;32m     94\u001b[0m \u001b[39m        Individual: Selected individual.\u001b[39;00m\n\u001b[1;32m     95\u001b[0m \u001b[39m    \"\"\"\u001b[39;00m\n\u001b[0;32m---> 96\u001b[0m     sorted_population \u001b[39m=\u001b[39m \u001b[39msorted\u001b[39m(population\u001b[39m.\u001b[39mindividuals, key\u001b[39m=\u001b[39mattrgetter(\u001b[39m\"\u001b[39m\u001b[39mfitness\u001b[39m\u001b[39m\"\u001b[39m), reverse\u001b[39m=\u001b[39mpopulation\u001b[39m.\u001b[39moptim \u001b[39m==\u001b[39m \u001b[39m\"\u001b[39m\u001b[39mmax\u001b[39m\u001b[39m\"\u001b[39m)\n\u001b[1;32m     97\u001b[0m     total_rank \u001b[39m=\u001b[39m \u001b[39msum\u001b[39m(\u001b[39mrange\u001b[39m(\u001b[39m1\u001b[39m, \u001b[39mlen\u001b[39m(sorted_population) \u001b[39m+\u001b[39m \u001b[39m1\u001b[39m))\n\u001b[1;32m     98\u001b[0m     spin \u001b[39m=\u001b[39m uniform(\u001b[39m0\u001b[39m, total_rank)\n",
      "\u001b[0;31mKeyboardInterrupt\u001b[0m: "
     ]
    }
   ],
   "source": [
    "# seed for reproducibility\n",
    "np.random.seed(0)\n",
    "\n",
    "# Define the range of values\n",
    "population = [100, 250, 500]\n",
    "\n",
    "# Setting previous best parameter as new default value\n",
    "params.update(replace_param)\n",
    "\n",
    "# Print current parameters to use in best_operators_search\n",
    "print('\\033[1mParameters for GA:\\033[0m', end='\\n\\n')\n",
    "print(params, end='\\n\\n')\n",
    "\n",
    "param_list, df = best_operators_search('pop', population, params)\n",
    "\n",
    "# Displaying average results of the 100 iterations\n",
    "print('\\033[1mAverage results:', end='\\n')\n",
    "df['const'] = 'const'\n",
    "df_avg = df.groupby('const').mean().reset_index(drop=True).round(3)\n",
    "display(df_avg)\n",
    "\n",
    "# Getting best parameter by fitness & time\n",
    "best_param_fit = df_avg[[col for col in df_avg.columns if col.startswith('Fit_')]].idxmax(axis=1)[0].replace('Fit_', '')\n",
    "best_param_time = df_avg[[col for col in df_avg.columns if col.startswith('Time_')]].idxmin(axis=1)[0].replace('Time_', '')\n",
    "replace_param = {'pop': best_param_fit}\n",
    "print(f'\\nBest Fitness: \\033[1m{best_param_fit}\\033[0m\\n\\nBest Time: \\033[1m{best_param_time}\\033[0m', end='\\n\\n')\n",
    "\n",
    "# Plotting results\n",
    "plot_values(data = df, colors = color_palette[:len(population)], layout=2, template='white', grid=True)"
   ]
  },
  {
   "attachments": {},
   "cell_type": "markdown",
   "metadata": {},
   "source": [
    "### __1.5 Generations__"
   ]
  },
  {
   "cell_type": "code",
   "execution_count": 12,
   "metadata": {},
   "outputs": [
    {
     "name": "stdout",
     "output_type": "stream",
     "text": [
      "\u001b[1mParameters for GA:\u001b[0m\n",
      "\n",
      "{'n': 25, 'pop': 100, 'gen': '250', 'mut_perc': 0.05, 'cross_perc': 0.75, 'mut': 'random_mutation', 'cross': 'single_cross', 'select': 'tournament_selection'}\n",
      "\n",
      "\u001b[1mAverage results:\n"
     ]
    },
    {
     "data": {
      "text/html": [
       "<div>\n",
       "<style scoped>\n",
       "    .dataframe tbody tr th:only-of-type {\n",
       "        vertical-align: middle;\n",
       "    }\n",
       "\n",
       "    .dataframe tbody tr th {\n",
       "        vertical-align: top;\n",
       "    }\n",
       "\n",
       "    .dataframe thead th {\n",
       "        text-align: right;\n",
       "    }\n",
       "</style>\n",
       "<table border=\"1\" class=\"dataframe\">\n",
       "  <thead>\n",
       "    <tr style=\"text-align: right;\">\n",
       "      <th></th>\n",
       "      <th>Fit_50</th>\n",
       "      <th>Fit_100</th>\n",
       "      <th>Fit_250</th>\n",
       "      <th>Fit_500</th>\n",
       "      <th>Time_50</th>\n",
       "      <th>Time_100</th>\n",
       "      <th>Time_250</th>\n",
       "      <th>Time_500</th>\n",
       "    </tr>\n",
       "  </thead>\n",
       "  <tbody>\n",
       "    <tr>\n",
       "      <th>0</th>\n",
       "      <td>97.31</td>\n",
       "      <td>97.357</td>\n",
       "      <td>97.387</td>\n",
       "      <td>97.287</td>\n",
       "      <td>11.21</td>\n",
       "      <td>22.91</td>\n",
       "      <td>58.23</td>\n",
       "      <td>117.69</td>\n",
       "    </tr>\n",
       "  </tbody>\n",
       "</table>\n",
       "</div>"
      ],
      "text/plain": [
       "   Fit_50  Fit_100  Fit_250  Fit_500  Time_50  Time_100  Time_250  Time_500\n",
       "0   97.31   97.357   97.387   97.287    11.21     22.91     58.23    117.69"
      ]
     },
     "metadata": {},
     "output_type": "display_data"
    },
    {
     "name": "stdout",
     "output_type": "stream",
     "text": [
      "\n",
      "Best Fitness: \u001b[1m250\u001b[0m\n",
      "\n",
      "Best Time: \u001b[1m50\u001b[0m\n",
      "\n"
     ]
    },
    {
     "data": {
      "application/vnd.plotly.v1+json": {
       "config": {
        "plotlyServerURL": "https://plot.ly"
       },
       "data": [
        {
         "line": {
          "color": "gray",
          "width": 2
         },
         "name": "50",
         "type": "scatter",
         "x": [
          0,
          1,
          2,
          3,
          4,
          5,
          6,
          7,
          8,
          9,
          10,
          11,
          12,
          13,
          14,
          15,
          16,
          17,
          18,
          19,
          20,
          21,
          22,
          23,
          24,
          25,
          26,
          27,
          28,
          29,
          30,
          31,
          32,
          33,
          34,
          35,
          36,
          37,
          38,
          39,
          40,
          41,
          42,
          43,
          44,
          45,
          46,
          47,
          48,
          49,
          50,
          51,
          52,
          53,
          54,
          55,
          56,
          57,
          58,
          59,
          60,
          61,
          62,
          63,
          64,
          65,
          66,
          67,
          68,
          69,
          70,
          71,
          72,
          73,
          74,
          75,
          76,
          77,
          78,
          79,
          80,
          81,
          82,
          83,
          84,
          85,
          86,
          87,
          88,
          89,
          90,
          91,
          92,
          93,
          94,
          95,
          96,
          97,
          98,
          99
         ],
         "y": [
          97,
          96.66666666666667,
          97.33333333333333,
          96.66666666666667,
          97.33333333333333,
          97.33333333333333,
          96.66666666666667,
          97,
          97,
          97,
          98,
          97.33333333333333,
          98,
          98,
          97.33333333333333,
          97.66666666666667,
          97.66666666666667,
          97.33333333333333,
          97,
          97,
          97,
          98.33333333333333,
          97.33333333333333,
          96.66666666666667,
          97,
          97.66666666666667,
          97.33333333333333,
          97.66666666666667,
          97,
          97.66666666666667,
          97.33333333333333,
          97.33333333333333,
          97,
          97,
          97.33333333333333,
          97,
          97,
          97.66666666666667,
          97.66666666666667,
          97.33333333333333,
          97,
          97.33333333333333,
          97.33333333333333,
          97.33333333333333,
          97.33333333333333,
          97.66666666666667,
          97.66666666666667,
          98,
          97,
          97.33333333333333,
          97,
          97,
          97,
          97.33333333333333,
          97,
          97.33333333333333,
          97.66666666666667,
          97,
          97.66666666666667,
          97,
          97.33333333333333,
          97,
          97.66666666666667,
          97.66666666666667,
          97.66666666666667,
          97,
          98,
          97.33333333333333,
          97,
          97.66666666666667,
          97,
          97.33333333333333,
          97.33333333333333,
          97,
          96.66666666666667,
          97.33333333333333,
          97,
          97.66666666666667,
          97.33333333333333,
          97,
          97,
          97.33333333333333,
          98,
          97.33333333333333,
          97.66666666666667,
          97.66666666666667,
          97,
          96.66666666666667,
          97,
          97.66666666666667,
          97.33333333333333,
          97.33333333333333,
          97,
          97.66666666666667,
          98,
          97,
          97.33333333333333,
          97,
          97.33333333333333,
          98
         ]
        },
        {
         "marker": {
          "color": "gray",
          "size": 8
         },
         "mode": "markers",
         "name": "",
         "type": "scatter",
         "x": [
          0,
          99
         ],
         "y": [
          97,
          98
         ]
        },
        {
         "line": {
          "color": "steelblue",
          "width": 2
         },
         "name": "100",
         "type": "scatter",
         "x": [
          0,
          1,
          2,
          3,
          4,
          5,
          6,
          7,
          8,
          9,
          10,
          11,
          12,
          13,
          14,
          15,
          16,
          17,
          18,
          19,
          20,
          21,
          22,
          23,
          24,
          25,
          26,
          27,
          28,
          29,
          30,
          31,
          32,
          33,
          34,
          35,
          36,
          37,
          38,
          39,
          40,
          41,
          42,
          43,
          44,
          45,
          46,
          47,
          48,
          49,
          50,
          51,
          52,
          53,
          54,
          55,
          56,
          57,
          58,
          59,
          60,
          61,
          62,
          63,
          64,
          65,
          66,
          67,
          68,
          69,
          70,
          71,
          72,
          73,
          74,
          75,
          76,
          77,
          78,
          79,
          80,
          81,
          82,
          83,
          84,
          85,
          86,
          87,
          88,
          89,
          90,
          91,
          92,
          93,
          94,
          95,
          96,
          97,
          98,
          99
         ],
         "y": [
          97.33333333333333,
          97,
          97,
          96.66666666666667,
          98,
          97.66666666666667,
          97,
          97,
          98,
          97.33333333333333,
          97,
          97.66666666666667,
          97.33333333333333,
          97,
          97.66666666666667,
          97.33333333333333,
          98.66666666666667,
          97,
          97,
          97.66666666666667,
          97,
          97,
          97.66666666666667,
          97,
          96.33333333333333,
          97.33333333333333,
          97.33333333333333,
          97.66666666666667,
          97.33333333333333,
          97.33333333333333,
          97.33333333333333,
          96.66666666666667,
          97.33333333333333,
          97.66666666666667,
          97.66666666666667,
          97.66666666666667,
          97.33333333333333,
          97.33333333333333,
          96.66666666666667,
          97.33333333333333,
          97.66666666666667,
          97.66666666666667,
          97.66666666666667,
          97,
          97.33333333333333,
          98,
          97.66666666666667,
          97.33333333333333,
          97.33333333333333,
          97.33333333333333,
          97.33333333333333,
          97.33333333333333,
          97.66666666666667,
          97,
          97,
          97.66666666666667,
          97.33333333333333,
          97.66666666666667,
          97,
          97.33333333333333,
          97,
          97.33333333333333,
          97,
          97,
          97.66666666666667,
          98.66666666666667,
          97.33333333333333,
          97.66666666666667,
          97.66666666666667,
          97.33333333333333,
          97.66666666666667,
          97.66666666666667,
          97,
          97,
          96.66666666666667,
          97.66666666666667,
          97,
          97.33333333333333,
          97.33333333333333,
          97,
          97.66666666666667,
          97.33333333333333,
          97.66666666666667,
          97.33333333333333,
          97.66666666666667,
          97.33333333333333,
          97.33333333333333,
          97.33333333333333,
          97.33333333333333,
          97.66666666666667,
          97.33333333333333,
          96.66666666666667,
          97.66666666666667,
          97.66666666666667,
          97,
          97.66666666666667,
          97.33333333333333,
          97.66666666666667,
          96.66666666666667,
          97.66666666666667
         ]
        },
        {
         "marker": {
          "color": "steelblue",
          "size": 8
         },
         "mode": "markers",
         "name": "",
         "type": "scatter",
         "x": [
          0,
          99
         ],
         "y": [
          97.33333333333333,
          97.66666666666667
         ]
        },
        {
         "line": {
          "color": "purple",
          "width": 2
         },
         "name": "250",
         "type": "scatter",
         "x": [
          0,
          1,
          2,
          3,
          4,
          5,
          6,
          7,
          8,
          9,
          10,
          11,
          12,
          13,
          14,
          15,
          16,
          17,
          18,
          19,
          20,
          21,
          22,
          23,
          24,
          25,
          26,
          27,
          28,
          29,
          30,
          31,
          32,
          33,
          34,
          35,
          36,
          37,
          38,
          39,
          40,
          41,
          42,
          43,
          44,
          45,
          46,
          47,
          48,
          49,
          50,
          51,
          52,
          53,
          54,
          55,
          56,
          57,
          58,
          59,
          60,
          61,
          62,
          63,
          64,
          65,
          66,
          67,
          68,
          69,
          70,
          71,
          72,
          73,
          74,
          75,
          76,
          77,
          78,
          79,
          80,
          81,
          82,
          83,
          84,
          85,
          86,
          87,
          88,
          89,
          90,
          91,
          92,
          93,
          94,
          95,
          96,
          97,
          98,
          99
         ],
         "y": [
          97.66666666666667,
          97.33333333333333,
          97,
          97.66666666666667,
          97.66666666666667,
          97.66666666666667,
          97.33333333333333,
          96.66666666666667,
          97.66666666666667,
          97.66666666666667,
          97.33333333333333,
          98.33333333333333,
          97,
          97.33333333333333,
          97.33333333333333,
          97.33333333333333,
          97.33333333333333,
          97.66666666666667,
          98,
          97.66666666666667,
          97,
          97.66666666666667,
          97.33333333333333,
          98,
          97,
          97.33333333333333,
          97,
          97.33333333333333,
          97,
          97,
          97.33333333333333,
          97,
          97.66666666666667,
          97.66666666666667,
          97,
          97.33333333333333,
          98,
          97.66666666666667,
          98,
          97.33333333333333,
          97.66666666666667,
          98,
          97.33333333333333,
          98,
          97.33333333333333,
          97,
          97.33333333333333,
          97.66666666666667,
          97.33333333333333,
          97.33333333333333,
          97.66666666666667,
          97.33333333333333,
          97.66666666666667,
          96.66666666666667,
          97,
          98.33333333333333,
          97.66666666666667,
          97.66666666666667,
          97,
          97.33333333333333,
          97.66666666666667,
          97.33333333333333,
          98,
          97.33333333333333,
          97.33333333333333,
          98,
          97.33333333333333,
          98,
          97.33333333333333,
          97.33333333333333,
          97.33333333333333,
          97,
          97.66666666666667,
          97.33333333333333,
          97,
          97.66666666666667,
          97.66666666666667,
          97.33333333333333,
          96.66666666666667,
          97,
          96.66666666666667,
          97.33333333333333,
          97.66666666666667,
          97,
          97,
          97.33333333333333,
          97.33333333333333,
          97.33333333333333,
          97.33333333333333,
          97,
          97,
          97,
          97.33333333333333,
          97.33333333333333,
          97,
          97.33333333333333,
          96.66666666666667,
          97.33333333333333,
          97,
          97.66666666666667
         ]
        },
        {
         "marker": {
          "color": "purple",
          "size": 8
         },
         "mode": "markers",
         "name": "",
         "type": "scatter",
         "x": [
          0,
          99
         ],
         "y": [
          97.66666666666667,
          97.66666666666667
         ]
        },
        {
         "line": {
          "color": "darkgray",
          "width": 2
         },
         "name": "500",
         "type": "scatter",
         "x": [
          0,
          1,
          2,
          3,
          4,
          5,
          6,
          7,
          8,
          9,
          10,
          11,
          12,
          13,
          14,
          15,
          16,
          17,
          18,
          19,
          20,
          21,
          22,
          23,
          24,
          25,
          26,
          27,
          28,
          29,
          30,
          31,
          32,
          33,
          34,
          35,
          36,
          37,
          38,
          39,
          40,
          41,
          42,
          43,
          44,
          45,
          46,
          47,
          48,
          49,
          50,
          51,
          52,
          53,
          54,
          55,
          56,
          57,
          58,
          59,
          60,
          61,
          62,
          63,
          64,
          65,
          66,
          67,
          68,
          69,
          70,
          71,
          72,
          73,
          74,
          75,
          76,
          77,
          78,
          79,
          80,
          81,
          82,
          83,
          84,
          85,
          86,
          87,
          88,
          89,
          90,
          91,
          92,
          93,
          94,
          95,
          96,
          97,
          98,
          99
         ],
         "y": [
          97,
          97.33333333333333,
          98,
          96.66666666666667,
          97.33333333333333,
          97.33333333333333,
          97.33333333333333,
          97,
          97,
          96.66666666666667,
          97.33333333333333,
          97.66666666666667,
          97.33333333333333,
          97.66666666666667,
          98,
          97,
          96.66666666666667,
          97.66666666666667,
          97.33333333333333,
          97.33333333333333,
          97.33333333333333,
          97.33333333333333,
          98,
          97.66666666666667,
          97.33333333333333,
          97,
          96.66666666666667,
          97.33333333333333,
          96.66666666666667,
          98,
          98,
          97.33333333333333,
          97.33333333333333,
          97,
          97.33333333333333,
          97.33333333333333,
          97.66666666666667,
          97,
          97.66666666666667,
          97.33333333333333,
          96.66666666666667,
          98,
          97.33333333333333,
          97.33333333333333,
          97.66666666666667,
          97,
          96.66666666666667,
          96.66666666666667,
          97.33333333333333,
          97.33333333333333,
          97,
          97.33333333333333,
          97,
          97.66666666666667,
          97.33333333333333,
          97.33333333333333,
          97.66666666666667,
          97,
          98,
          97.66666666666667,
          98,
          97,
          97,
          97.33333333333333,
          97,
          97,
          97.33333333333333,
          97.33333333333333,
          97,
          97,
          97.33333333333333,
          97,
          97.66666666666667,
          97.33333333333333,
          97.66666666666667,
          96.66666666666667,
          97.66666666666667,
          97.33333333333333,
          97,
          97.33333333333333,
          98,
          97.66666666666667,
          97,
          97,
          97,
          97,
          96.33333333333333,
          97,
          97.33333333333333,
          97.33333333333333,
          97.33333333333333,
          97.66666666666667,
          97.33333333333333,
          97,
          97,
          97.33333333333333,
          97,
          98,
          97.33333333333333,
          97
         ]
        },
        {
         "marker": {
          "color": "darkgray",
          "size": 8
         },
         "mode": "markers",
         "name": "",
         "type": "scatter",
         "x": [
          0,
          99
         ],
         "y": [
          97,
          97
         ]
        }
       ],
       "layout": {
        "font": {
         "family": "Verdana",
         "size": 14
        },
        "template": {
         "data": {
          "bar": [
           {
            "error_x": {
             "color": "#2a3f5f"
            },
            "error_y": {
             "color": "#2a3f5f"
            },
            "marker": {
             "line": {
              "color": "white",
              "width": 0.5
             },
             "pattern": {
              "fillmode": "overlay",
              "size": 10,
              "solidity": 0.2
             }
            },
            "type": "bar"
           }
          ],
          "barpolar": [
           {
            "marker": {
             "line": {
              "color": "white",
              "width": 0.5
             },
             "pattern": {
              "fillmode": "overlay",
              "size": 10,
              "solidity": 0.2
             }
            },
            "type": "barpolar"
           }
          ],
          "carpet": [
           {
            "aaxis": {
             "endlinecolor": "#2a3f5f",
             "gridcolor": "#C8D4E3",
             "linecolor": "#C8D4E3",
             "minorgridcolor": "#C8D4E3",
             "startlinecolor": "#2a3f5f"
            },
            "baxis": {
             "endlinecolor": "#2a3f5f",
             "gridcolor": "#C8D4E3",
             "linecolor": "#C8D4E3",
             "minorgridcolor": "#C8D4E3",
             "startlinecolor": "#2a3f5f"
            },
            "type": "carpet"
           }
          ],
          "choropleth": [
           {
            "colorbar": {
             "outlinewidth": 0,
             "ticks": ""
            },
            "type": "choropleth"
           }
          ],
          "contour": [
           {
            "colorbar": {
             "outlinewidth": 0,
             "ticks": ""
            },
            "colorscale": [
             [
              0,
              "#0d0887"
             ],
             [
              0.1111111111111111,
              "#46039f"
             ],
             [
              0.2222222222222222,
              "#7201a8"
             ],
             [
              0.3333333333333333,
              "#9c179e"
             ],
             [
              0.4444444444444444,
              "#bd3786"
             ],
             [
              0.5555555555555556,
              "#d8576b"
             ],
             [
              0.6666666666666666,
              "#ed7953"
             ],
             [
              0.7777777777777778,
              "#fb9f3a"
             ],
             [
              0.8888888888888888,
              "#fdca26"
             ],
             [
              1,
              "#f0f921"
             ]
            ],
            "type": "contour"
           }
          ],
          "contourcarpet": [
           {
            "colorbar": {
             "outlinewidth": 0,
             "ticks": ""
            },
            "type": "contourcarpet"
           }
          ],
          "heatmap": [
           {
            "colorbar": {
             "outlinewidth": 0,
             "ticks": ""
            },
            "colorscale": [
             [
              0,
              "#0d0887"
             ],
             [
              0.1111111111111111,
              "#46039f"
             ],
             [
              0.2222222222222222,
              "#7201a8"
             ],
             [
              0.3333333333333333,
              "#9c179e"
             ],
             [
              0.4444444444444444,
              "#bd3786"
             ],
             [
              0.5555555555555556,
              "#d8576b"
             ],
             [
              0.6666666666666666,
              "#ed7953"
             ],
             [
              0.7777777777777778,
              "#fb9f3a"
             ],
             [
              0.8888888888888888,
              "#fdca26"
             ],
             [
              1,
              "#f0f921"
             ]
            ],
            "type": "heatmap"
           }
          ],
          "heatmapgl": [
           {
            "colorbar": {
             "outlinewidth": 0,
             "ticks": ""
            },
            "colorscale": [
             [
              0,
              "#0d0887"
             ],
             [
              0.1111111111111111,
              "#46039f"
             ],
             [
              0.2222222222222222,
              "#7201a8"
             ],
             [
              0.3333333333333333,
              "#9c179e"
             ],
             [
              0.4444444444444444,
              "#bd3786"
             ],
             [
              0.5555555555555556,
              "#d8576b"
             ],
             [
              0.6666666666666666,
              "#ed7953"
             ],
             [
              0.7777777777777778,
              "#fb9f3a"
             ],
             [
              0.8888888888888888,
              "#fdca26"
             ],
             [
              1,
              "#f0f921"
             ]
            ],
            "type": "heatmapgl"
           }
          ],
          "histogram": [
           {
            "marker": {
             "pattern": {
              "fillmode": "overlay",
              "size": 10,
              "solidity": 0.2
             }
            },
            "type": "histogram"
           }
          ],
          "histogram2d": [
           {
            "colorbar": {
             "outlinewidth": 0,
             "ticks": ""
            },
            "colorscale": [
             [
              0,
              "#0d0887"
             ],
             [
              0.1111111111111111,
              "#46039f"
             ],
             [
              0.2222222222222222,
              "#7201a8"
             ],
             [
              0.3333333333333333,
              "#9c179e"
             ],
             [
              0.4444444444444444,
              "#bd3786"
             ],
             [
              0.5555555555555556,
              "#d8576b"
             ],
             [
              0.6666666666666666,
              "#ed7953"
             ],
             [
              0.7777777777777778,
              "#fb9f3a"
             ],
             [
              0.8888888888888888,
              "#fdca26"
             ],
             [
              1,
              "#f0f921"
             ]
            ],
            "type": "histogram2d"
           }
          ],
          "histogram2dcontour": [
           {
            "colorbar": {
             "outlinewidth": 0,
             "ticks": ""
            },
            "colorscale": [
             [
              0,
              "#0d0887"
             ],
             [
              0.1111111111111111,
              "#46039f"
             ],
             [
              0.2222222222222222,
              "#7201a8"
             ],
             [
              0.3333333333333333,
              "#9c179e"
             ],
             [
              0.4444444444444444,
              "#bd3786"
             ],
             [
              0.5555555555555556,
              "#d8576b"
             ],
             [
              0.6666666666666666,
              "#ed7953"
             ],
             [
              0.7777777777777778,
              "#fb9f3a"
             ],
             [
              0.8888888888888888,
              "#fdca26"
             ],
             [
              1,
              "#f0f921"
             ]
            ],
            "type": "histogram2dcontour"
           }
          ],
          "mesh3d": [
           {
            "colorbar": {
             "outlinewidth": 0,
             "ticks": ""
            },
            "type": "mesh3d"
           }
          ],
          "parcoords": [
           {
            "line": {
             "colorbar": {
              "outlinewidth": 0,
              "ticks": ""
             }
            },
            "type": "parcoords"
           }
          ],
          "pie": [
           {
            "automargin": true,
            "type": "pie"
           }
          ],
          "scatter": [
           {
            "fillpattern": {
             "fillmode": "overlay",
             "size": 10,
             "solidity": 0.2
            },
            "type": "scatter"
           }
          ],
          "scatter3d": [
           {
            "line": {
             "colorbar": {
              "outlinewidth": 0,
              "ticks": ""
             }
            },
            "marker": {
             "colorbar": {
              "outlinewidth": 0,
              "ticks": ""
             }
            },
            "type": "scatter3d"
           }
          ],
          "scattercarpet": [
           {
            "marker": {
             "colorbar": {
              "outlinewidth": 0,
              "ticks": ""
             }
            },
            "type": "scattercarpet"
           }
          ],
          "scattergeo": [
           {
            "marker": {
             "colorbar": {
              "outlinewidth": 0,
              "ticks": ""
             }
            },
            "type": "scattergeo"
           }
          ],
          "scattergl": [
           {
            "marker": {
             "colorbar": {
              "outlinewidth": 0,
              "ticks": ""
             }
            },
            "type": "scattergl"
           }
          ],
          "scattermapbox": [
           {
            "marker": {
             "colorbar": {
              "outlinewidth": 0,
              "ticks": ""
             }
            },
            "type": "scattermapbox"
           }
          ],
          "scatterpolar": [
           {
            "marker": {
             "colorbar": {
              "outlinewidth": 0,
              "ticks": ""
             }
            },
            "type": "scatterpolar"
           }
          ],
          "scatterpolargl": [
           {
            "marker": {
             "colorbar": {
              "outlinewidth": 0,
              "ticks": ""
             }
            },
            "type": "scatterpolargl"
           }
          ],
          "scatterternary": [
           {
            "marker": {
             "colorbar": {
              "outlinewidth": 0,
              "ticks": ""
             }
            },
            "type": "scatterternary"
           }
          ],
          "surface": [
           {
            "colorbar": {
             "outlinewidth": 0,
             "ticks": ""
            },
            "colorscale": [
             [
              0,
              "#0d0887"
             ],
             [
              0.1111111111111111,
              "#46039f"
             ],
             [
              0.2222222222222222,
              "#7201a8"
             ],
             [
              0.3333333333333333,
              "#9c179e"
             ],
             [
              0.4444444444444444,
              "#bd3786"
             ],
             [
              0.5555555555555556,
              "#d8576b"
             ],
             [
              0.6666666666666666,
              "#ed7953"
             ],
             [
              0.7777777777777778,
              "#fb9f3a"
             ],
             [
              0.8888888888888888,
              "#fdca26"
             ],
             [
              1,
              "#f0f921"
             ]
            ],
            "type": "surface"
           }
          ],
          "table": [
           {
            "cells": {
             "fill": {
              "color": "#EBF0F8"
             },
             "line": {
              "color": "white"
             }
            },
            "header": {
             "fill": {
              "color": "#C8D4E3"
             },
             "line": {
              "color": "white"
             }
            },
            "type": "table"
           }
          ]
         },
         "layout": {
          "annotationdefaults": {
           "arrowcolor": "#2a3f5f",
           "arrowhead": 0,
           "arrowwidth": 1
          },
          "autotypenumbers": "strict",
          "coloraxis": {
           "colorbar": {
            "outlinewidth": 0,
            "ticks": ""
           }
          },
          "colorscale": {
           "diverging": [
            [
             0,
             "#8e0152"
            ],
            [
             0.1,
             "#c51b7d"
            ],
            [
             0.2,
             "#de77ae"
            ],
            [
             0.3,
             "#f1b6da"
            ],
            [
             0.4,
             "#fde0ef"
            ],
            [
             0.5,
             "#f7f7f7"
            ],
            [
             0.6,
             "#e6f5d0"
            ],
            [
             0.7,
             "#b8e186"
            ],
            [
             0.8,
             "#7fbc41"
            ],
            [
             0.9,
             "#4d9221"
            ],
            [
             1,
             "#276419"
            ]
           ],
           "sequential": [
            [
             0,
             "#0d0887"
            ],
            [
             0.1111111111111111,
             "#46039f"
            ],
            [
             0.2222222222222222,
             "#7201a8"
            ],
            [
             0.3333333333333333,
             "#9c179e"
            ],
            [
             0.4444444444444444,
             "#bd3786"
            ],
            [
             0.5555555555555556,
             "#d8576b"
            ],
            [
             0.6666666666666666,
             "#ed7953"
            ],
            [
             0.7777777777777778,
             "#fb9f3a"
            ],
            [
             0.8888888888888888,
             "#fdca26"
            ],
            [
             1,
             "#f0f921"
            ]
           ],
           "sequentialminus": [
            [
             0,
             "#0d0887"
            ],
            [
             0.1111111111111111,
             "#46039f"
            ],
            [
             0.2222222222222222,
             "#7201a8"
            ],
            [
             0.3333333333333333,
             "#9c179e"
            ],
            [
             0.4444444444444444,
             "#bd3786"
            ],
            [
             0.5555555555555556,
             "#d8576b"
            ],
            [
             0.6666666666666666,
             "#ed7953"
            ],
            [
             0.7777777777777778,
             "#fb9f3a"
            ],
            [
             0.8888888888888888,
             "#fdca26"
            ],
            [
             1,
             "#f0f921"
            ]
           ]
          },
          "colorway": [
           "#636efa",
           "#EF553B",
           "#00cc96",
           "#ab63fa",
           "#FFA15A",
           "#19d3f3",
           "#FF6692",
           "#B6E880",
           "#FF97FF",
           "#FECB52"
          ],
          "font": {
           "color": "#2a3f5f"
          },
          "geo": {
           "bgcolor": "white",
           "lakecolor": "white",
           "landcolor": "white",
           "showlakes": true,
           "showland": true,
           "subunitcolor": "#C8D4E3"
          },
          "hoverlabel": {
           "align": "left"
          },
          "hovermode": "closest",
          "mapbox": {
           "style": "light"
          },
          "paper_bgcolor": "white",
          "plot_bgcolor": "white",
          "polar": {
           "angularaxis": {
            "gridcolor": "#EBF0F8",
            "linecolor": "#EBF0F8",
            "ticks": ""
           },
           "bgcolor": "white",
           "radialaxis": {
            "gridcolor": "#EBF0F8",
            "linecolor": "#EBF0F8",
            "ticks": ""
           }
          },
          "scene": {
           "xaxis": {
            "backgroundcolor": "white",
            "gridcolor": "#DFE8F3",
            "gridwidth": 2,
            "linecolor": "#EBF0F8",
            "showbackground": true,
            "ticks": "",
            "zerolinecolor": "#EBF0F8"
           },
           "yaxis": {
            "backgroundcolor": "white",
            "gridcolor": "#DFE8F3",
            "gridwidth": 2,
            "linecolor": "#EBF0F8",
            "showbackground": true,
            "ticks": "",
            "zerolinecolor": "#EBF0F8"
           },
           "zaxis": {
            "backgroundcolor": "white",
            "gridcolor": "#DFE8F3",
            "gridwidth": 2,
            "linecolor": "#EBF0F8",
            "showbackground": true,
            "ticks": "",
            "zerolinecolor": "#EBF0F8"
           }
          },
          "shapedefaults": {
           "line": {
            "color": "#2a3f5f"
           }
          },
          "ternary": {
           "aaxis": {
            "gridcolor": "#DFE8F3",
            "linecolor": "#A2B1C6",
            "ticks": ""
           },
           "baxis": {
            "gridcolor": "#DFE8F3",
            "linecolor": "#A2B1C6",
            "ticks": ""
           },
           "bgcolor": "white",
           "caxis": {
            "gridcolor": "#DFE8F3",
            "linecolor": "#A2B1C6",
            "ticks": ""
           }
          },
          "title": {
           "x": 0.05
          },
          "xaxis": {
           "automargin": true,
           "gridcolor": "#EBF0F8",
           "linecolor": "#EBF0F8",
           "ticks": "",
           "title": {
            "standoff": 15
           },
           "zerolinecolor": "#EBF0F8",
           "zerolinewidth": 2
          },
          "yaxis": {
           "automargin": true,
           "gridcolor": "#EBF0F8",
           "linecolor": "#EBF0F8",
           "ticks": "",
           "title": {
            "standoff": 15
           },
           "zerolinecolor": "#EBF0F8",
           "zerolinewidth": 2
          }
         }
        },
        "title": {
         "text": "Fitness Comparison"
        },
        "xaxis": {
         "linewidth": 1.5,
         "showgrid": true,
         "showline": true,
         "showticklabels": true,
         "tickfont": {
          "color": "#000000",
          "family": "Verdana",
          "size": 11
         },
         "ticks": "outside",
         "title": {
          "text": "Iterations"
         }
        },
        "yaxis": {
         "showgrid": true,
         "showline": false,
         "showticklabels": true,
         "tickfont": {
          "color": "#000000",
          "family": "Verdana",
          "size": 11
         },
         "ticks": "outside",
         "title": {
          "text": "Fitness"
         },
         "zeroline": false
        }
       }
      }
     },
     "metadata": {},
     "output_type": "display_data"
    },
    {
     "data": {
      "application/vnd.plotly.v1+json": {
       "config": {
        "plotlyServerURL": "https://plot.ly"
       },
       "data": [
        {
         "line": {
          "color": "gray",
          "width": 2
         },
         "name": "50",
         "type": "scatter",
         "x": [
          0,
          1,
          2,
          3,
          4,
          5,
          6,
          7,
          8,
          9,
          10,
          11,
          12,
          13,
          14,
          15,
          16,
          17,
          18,
          19,
          20,
          21,
          22,
          23,
          24,
          25,
          26,
          27,
          28,
          29,
          30,
          31,
          32,
          33,
          34,
          35,
          36,
          37,
          38,
          39,
          40,
          41,
          42,
          43,
          44,
          45,
          46,
          47,
          48,
          49,
          50,
          51,
          52,
          53,
          54,
          55,
          56,
          57,
          58,
          59,
          60,
          61,
          62,
          63,
          64,
          65,
          66,
          67,
          68,
          69,
          70,
          71,
          72,
          73,
          74,
          75,
          76,
          77,
          78,
          79,
          80,
          81,
          82,
          83,
          84,
          85,
          86,
          87,
          88,
          89,
          90,
          91,
          92,
          93,
          94,
          95,
          96,
          97,
          98,
          99
         ],
         "y": [
          12,
          12,
          11,
          11,
          12,
          11,
          11,
          11,
          11,
          11,
          12,
          11,
          11,
          11,
          11,
          11,
          11,
          11,
          12,
          14,
          12,
          11,
          11,
          11,
          11,
          11,
          11,
          11,
          12,
          11,
          11,
          11,
          12,
          11,
          11,
          11,
          11,
          12,
          11,
          11,
          11,
          11,
          11,
          11,
          11,
          11,
          11,
          11,
          11,
          12,
          11,
          11,
          11,
          11,
          11,
          11,
          12,
          12,
          11,
          11,
          12,
          12,
          11,
          12,
          11,
          12,
          11,
          11,
          11,
          12,
          11,
          12,
          11,
          11,
          11,
          11,
          11,
          11,
          11,
          11,
          11,
          11,
          11,
          11,
          11,
          11,
          11,
          11,
          11,
          11,
          11,
          11,
          11,
          11,
          11,
          11,
          11,
          11,
          11,
          11
         ]
        },
        {
         "marker": {
          "color": "gray",
          "size": 8
         },
         "mode": "markers",
         "name": "",
         "type": "scatter",
         "x": [
          0,
          99
         ],
         "y": [
          12,
          11
         ]
        },
        {
         "line": {
          "color": "steelblue",
          "width": 2
         },
         "name": "100",
         "type": "scatter",
         "x": [
          0,
          1,
          2,
          3,
          4,
          5,
          6,
          7,
          8,
          9,
          10,
          11,
          12,
          13,
          14,
          15,
          16,
          17,
          18,
          19,
          20,
          21,
          22,
          23,
          24,
          25,
          26,
          27,
          28,
          29,
          30,
          31,
          32,
          33,
          34,
          35,
          36,
          37,
          38,
          39,
          40,
          41,
          42,
          43,
          44,
          45,
          46,
          47,
          48,
          49,
          50,
          51,
          52,
          53,
          54,
          55,
          56,
          57,
          58,
          59,
          60,
          61,
          62,
          63,
          64,
          65,
          66,
          67,
          68,
          69,
          70,
          71,
          72,
          73,
          74,
          75,
          76,
          77,
          78,
          79,
          80,
          81,
          82,
          83,
          84,
          85,
          86,
          87,
          88,
          89,
          90,
          91,
          92,
          93,
          94,
          95,
          96,
          97,
          98,
          99
         ],
         "y": [
          23,
          23,
          23,
          23,
          23,
          23,
          22,
          23,
          23,
          22,
          22,
          23,
          24,
          22,
          22,
          22,
          23,
          22,
          23,
          23,
          24,
          23,
          22,
          23,
          22,
          23,
          23,
          23,
          23,
          24,
          22,
          23,
          24,
          22,
          23,
          23,
          23,
          23,
          23,
          23,
          23,
          24,
          22,
          22,
          23,
          22,
          22,
          23,
          24,
          23,
          23,
          23,
          23,
          23,
          22,
          23,
          23,
          23,
          22,
          23,
          23,
          23,
          23,
          23,
          23,
          23,
          23,
          23,
          23,
          23,
          24,
          23,
          23,
          23,
          23,
          23,
          23,
          22,
          24,
          23,
          23,
          23,
          23,
          23,
          24,
          22,
          24,
          23,
          22,
          23,
          23,
          23,
          23,
          23,
          23,
          23,
          23,
          23,
          24,
          23
         ]
        },
        {
         "marker": {
          "color": "steelblue",
          "size": 8
         },
         "mode": "markers",
         "name": "",
         "type": "scatter",
         "x": [
          0,
          99
         ],
         "y": [
          23,
          23
         ]
        },
        {
         "line": {
          "color": "purple",
          "width": 2
         },
         "name": "250",
         "type": "scatter",
         "x": [
          0,
          1,
          2,
          3,
          4,
          5,
          6,
          7,
          8,
          9,
          10,
          11,
          12,
          13,
          14,
          15,
          16,
          17,
          18,
          19,
          20,
          21,
          22,
          23,
          24,
          25,
          26,
          27,
          28,
          29,
          30,
          31,
          32,
          33,
          34,
          35,
          36,
          37,
          38,
          39,
          40,
          41,
          42,
          43,
          44,
          45,
          46,
          47,
          48,
          49,
          50,
          51,
          52,
          53,
          54,
          55,
          56,
          57,
          58,
          59,
          60,
          61,
          62,
          63,
          64,
          65,
          66,
          67,
          68,
          69,
          70,
          71,
          72,
          73,
          74,
          75,
          76,
          77,
          78,
          79,
          80,
          81,
          82,
          83,
          84,
          85,
          86,
          87,
          88,
          89,
          90,
          91,
          92,
          93,
          94,
          95,
          96,
          97,
          98,
          99
         ],
         "y": [
          59,
          58,
          59,
          59,
          60,
          60,
          57,
          58,
          58,
          57,
          58,
          57,
          57,
          60,
          59,
          60,
          57,
          58,
          58,
          57,
          60,
          57,
          57,
          58,
          60,
          60,
          58,
          59,
          58,
          59,
          60,
          60,
          58,
          58,
          59,
          58,
          57,
          57,
          60,
          57,
          58,
          60,
          58,
          59,
          59,
          57,
          59,
          57,
          58,
          59,
          59,
          60,
          58,
          58,
          61,
          58,
          59,
          59,
          58,
          60,
          56,
          57,
          58,
          58,
          58,
          56,
          57,
          57,
          56,
          58,
          60,
          59,
          56,
          57,
          59,
          58,
          57,
          56,
          57,
          57,
          58,
          60,
          58,
          57,
          58,
          57,
          60,
          58,
          58,
          58,
          58,
          58,
          57,
          58,
          59,
          59,
          59,
          57,
          61,
          58
         ]
        },
        {
         "marker": {
          "color": "purple",
          "size": 8
         },
         "mode": "markers",
         "name": "",
         "type": "scatter",
         "x": [
          0,
          99
         ],
         "y": [
          59,
          58
         ]
        },
        {
         "line": {
          "color": "darkgray",
          "width": 2
         },
         "name": "500",
         "type": "scatter",
         "x": [
          0,
          1,
          2,
          3,
          4,
          5,
          6,
          7,
          8,
          9,
          10,
          11,
          12,
          13,
          14,
          15,
          16,
          17,
          18,
          19,
          20,
          21,
          22,
          23,
          24,
          25,
          26,
          27,
          28,
          29,
          30,
          31,
          32,
          33,
          34,
          35,
          36,
          37,
          38,
          39,
          40,
          41,
          42,
          43,
          44,
          45,
          46,
          47,
          48,
          49,
          50,
          51,
          52,
          53,
          54,
          55,
          56,
          57,
          58,
          59,
          60,
          61,
          62,
          63,
          64,
          65,
          66,
          67,
          68,
          69,
          70,
          71,
          72,
          73,
          74,
          75,
          76,
          77,
          78,
          79,
          80,
          81,
          82,
          83,
          84,
          85,
          86,
          87,
          88,
          89,
          90,
          91,
          92,
          93,
          94,
          95,
          96,
          97,
          98,
          99
         ],
         "y": [
          119,
          117,
          115,
          116,
          116,
          121,
          117,
          116,
          116,
          119,
          115,
          119,
          119,
          117,
          118,
          119,
          116,
          116,
          116,
          121,
          116,
          121,
          117,
          116,
          114,
          119,
          118,
          117,
          116,
          116,
          119,
          118,
          118,
          122,
          118,
          120,
          119,
          115,
          119,
          117,
          116,
          117,
          118,
          115,
          119,
          121,
          116,
          119,
          113,
          116,
          119,
          116,
          119,
          116,
          116,
          116,
          116,
          118,
          116,
          115,
          116,
          123,
          122,
          121,
          118,
          116,
          117,
          121,
          118,
          117,
          122,
          116,
          116,
          115,
          117,
          118,
          116,
          115,
          116,
          116,
          116,
          117,
          121,
          116,
          122,
          116,
          121,
          126,
          121,
          118,
          117,
          122,
          119,
          117,
          118,
          118,
          116,
          115,
          120,
          117
         ]
        },
        {
         "marker": {
          "color": "darkgray",
          "size": 8
         },
         "mode": "markers",
         "name": "",
         "type": "scatter",
         "x": [
          0,
          99
         ],
         "y": [
          119,
          117
         ]
        }
       ],
       "layout": {
        "font": {
         "family": "Verdana",
         "size": 14
        },
        "template": {
         "data": {
          "bar": [
           {
            "error_x": {
             "color": "#2a3f5f"
            },
            "error_y": {
             "color": "#2a3f5f"
            },
            "marker": {
             "line": {
              "color": "white",
              "width": 0.5
             },
             "pattern": {
              "fillmode": "overlay",
              "size": 10,
              "solidity": 0.2
             }
            },
            "type": "bar"
           }
          ],
          "barpolar": [
           {
            "marker": {
             "line": {
              "color": "white",
              "width": 0.5
             },
             "pattern": {
              "fillmode": "overlay",
              "size": 10,
              "solidity": 0.2
             }
            },
            "type": "barpolar"
           }
          ],
          "carpet": [
           {
            "aaxis": {
             "endlinecolor": "#2a3f5f",
             "gridcolor": "#C8D4E3",
             "linecolor": "#C8D4E3",
             "minorgridcolor": "#C8D4E3",
             "startlinecolor": "#2a3f5f"
            },
            "baxis": {
             "endlinecolor": "#2a3f5f",
             "gridcolor": "#C8D4E3",
             "linecolor": "#C8D4E3",
             "minorgridcolor": "#C8D4E3",
             "startlinecolor": "#2a3f5f"
            },
            "type": "carpet"
           }
          ],
          "choropleth": [
           {
            "colorbar": {
             "outlinewidth": 0,
             "ticks": ""
            },
            "type": "choropleth"
           }
          ],
          "contour": [
           {
            "colorbar": {
             "outlinewidth": 0,
             "ticks": ""
            },
            "colorscale": [
             [
              0,
              "#0d0887"
             ],
             [
              0.1111111111111111,
              "#46039f"
             ],
             [
              0.2222222222222222,
              "#7201a8"
             ],
             [
              0.3333333333333333,
              "#9c179e"
             ],
             [
              0.4444444444444444,
              "#bd3786"
             ],
             [
              0.5555555555555556,
              "#d8576b"
             ],
             [
              0.6666666666666666,
              "#ed7953"
             ],
             [
              0.7777777777777778,
              "#fb9f3a"
             ],
             [
              0.8888888888888888,
              "#fdca26"
             ],
             [
              1,
              "#f0f921"
             ]
            ],
            "type": "contour"
           }
          ],
          "contourcarpet": [
           {
            "colorbar": {
             "outlinewidth": 0,
             "ticks": ""
            },
            "type": "contourcarpet"
           }
          ],
          "heatmap": [
           {
            "colorbar": {
             "outlinewidth": 0,
             "ticks": ""
            },
            "colorscale": [
             [
              0,
              "#0d0887"
             ],
             [
              0.1111111111111111,
              "#46039f"
             ],
             [
              0.2222222222222222,
              "#7201a8"
             ],
             [
              0.3333333333333333,
              "#9c179e"
             ],
             [
              0.4444444444444444,
              "#bd3786"
             ],
             [
              0.5555555555555556,
              "#d8576b"
             ],
             [
              0.6666666666666666,
              "#ed7953"
             ],
             [
              0.7777777777777778,
              "#fb9f3a"
             ],
             [
              0.8888888888888888,
              "#fdca26"
             ],
             [
              1,
              "#f0f921"
             ]
            ],
            "type": "heatmap"
           }
          ],
          "heatmapgl": [
           {
            "colorbar": {
             "outlinewidth": 0,
             "ticks": ""
            },
            "colorscale": [
             [
              0,
              "#0d0887"
             ],
             [
              0.1111111111111111,
              "#46039f"
             ],
             [
              0.2222222222222222,
              "#7201a8"
             ],
             [
              0.3333333333333333,
              "#9c179e"
             ],
             [
              0.4444444444444444,
              "#bd3786"
             ],
             [
              0.5555555555555556,
              "#d8576b"
             ],
             [
              0.6666666666666666,
              "#ed7953"
             ],
             [
              0.7777777777777778,
              "#fb9f3a"
             ],
             [
              0.8888888888888888,
              "#fdca26"
             ],
             [
              1,
              "#f0f921"
             ]
            ],
            "type": "heatmapgl"
           }
          ],
          "histogram": [
           {
            "marker": {
             "pattern": {
              "fillmode": "overlay",
              "size": 10,
              "solidity": 0.2
             }
            },
            "type": "histogram"
           }
          ],
          "histogram2d": [
           {
            "colorbar": {
             "outlinewidth": 0,
             "ticks": ""
            },
            "colorscale": [
             [
              0,
              "#0d0887"
             ],
             [
              0.1111111111111111,
              "#46039f"
             ],
             [
              0.2222222222222222,
              "#7201a8"
             ],
             [
              0.3333333333333333,
              "#9c179e"
             ],
             [
              0.4444444444444444,
              "#bd3786"
             ],
             [
              0.5555555555555556,
              "#d8576b"
             ],
             [
              0.6666666666666666,
              "#ed7953"
             ],
             [
              0.7777777777777778,
              "#fb9f3a"
             ],
             [
              0.8888888888888888,
              "#fdca26"
             ],
             [
              1,
              "#f0f921"
             ]
            ],
            "type": "histogram2d"
           }
          ],
          "histogram2dcontour": [
           {
            "colorbar": {
             "outlinewidth": 0,
             "ticks": ""
            },
            "colorscale": [
             [
              0,
              "#0d0887"
             ],
             [
              0.1111111111111111,
              "#46039f"
             ],
             [
              0.2222222222222222,
              "#7201a8"
             ],
             [
              0.3333333333333333,
              "#9c179e"
             ],
             [
              0.4444444444444444,
              "#bd3786"
             ],
             [
              0.5555555555555556,
              "#d8576b"
             ],
             [
              0.6666666666666666,
              "#ed7953"
             ],
             [
              0.7777777777777778,
              "#fb9f3a"
             ],
             [
              0.8888888888888888,
              "#fdca26"
             ],
             [
              1,
              "#f0f921"
             ]
            ],
            "type": "histogram2dcontour"
           }
          ],
          "mesh3d": [
           {
            "colorbar": {
             "outlinewidth": 0,
             "ticks": ""
            },
            "type": "mesh3d"
           }
          ],
          "parcoords": [
           {
            "line": {
             "colorbar": {
              "outlinewidth": 0,
              "ticks": ""
             }
            },
            "type": "parcoords"
           }
          ],
          "pie": [
           {
            "automargin": true,
            "type": "pie"
           }
          ],
          "scatter": [
           {
            "fillpattern": {
             "fillmode": "overlay",
             "size": 10,
             "solidity": 0.2
            },
            "type": "scatter"
           }
          ],
          "scatter3d": [
           {
            "line": {
             "colorbar": {
              "outlinewidth": 0,
              "ticks": ""
             }
            },
            "marker": {
             "colorbar": {
              "outlinewidth": 0,
              "ticks": ""
             }
            },
            "type": "scatter3d"
           }
          ],
          "scattercarpet": [
           {
            "marker": {
             "colorbar": {
              "outlinewidth": 0,
              "ticks": ""
             }
            },
            "type": "scattercarpet"
           }
          ],
          "scattergeo": [
           {
            "marker": {
             "colorbar": {
              "outlinewidth": 0,
              "ticks": ""
             }
            },
            "type": "scattergeo"
           }
          ],
          "scattergl": [
           {
            "marker": {
             "colorbar": {
              "outlinewidth": 0,
              "ticks": ""
             }
            },
            "type": "scattergl"
           }
          ],
          "scattermapbox": [
           {
            "marker": {
             "colorbar": {
              "outlinewidth": 0,
              "ticks": ""
             }
            },
            "type": "scattermapbox"
           }
          ],
          "scatterpolar": [
           {
            "marker": {
             "colorbar": {
              "outlinewidth": 0,
              "ticks": ""
             }
            },
            "type": "scatterpolar"
           }
          ],
          "scatterpolargl": [
           {
            "marker": {
             "colorbar": {
              "outlinewidth": 0,
              "ticks": ""
             }
            },
            "type": "scatterpolargl"
           }
          ],
          "scatterternary": [
           {
            "marker": {
             "colorbar": {
              "outlinewidth": 0,
              "ticks": ""
             }
            },
            "type": "scatterternary"
           }
          ],
          "surface": [
           {
            "colorbar": {
             "outlinewidth": 0,
             "ticks": ""
            },
            "colorscale": [
             [
              0,
              "#0d0887"
             ],
             [
              0.1111111111111111,
              "#46039f"
             ],
             [
              0.2222222222222222,
              "#7201a8"
             ],
             [
              0.3333333333333333,
              "#9c179e"
             ],
             [
              0.4444444444444444,
              "#bd3786"
             ],
             [
              0.5555555555555556,
              "#d8576b"
             ],
             [
              0.6666666666666666,
              "#ed7953"
             ],
             [
              0.7777777777777778,
              "#fb9f3a"
             ],
             [
              0.8888888888888888,
              "#fdca26"
             ],
             [
              1,
              "#f0f921"
             ]
            ],
            "type": "surface"
           }
          ],
          "table": [
           {
            "cells": {
             "fill": {
              "color": "#EBF0F8"
             },
             "line": {
              "color": "white"
             }
            },
            "header": {
             "fill": {
              "color": "#C8D4E3"
             },
             "line": {
              "color": "white"
             }
            },
            "type": "table"
           }
          ]
         },
         "layout": {
          "annotationdefaults": {
           "arrowcolor": "#2a3f5f",
           "arrowhead": 0,
           "arrowwidth": 1
          },
          "autotypenumbers": "strict",
          "coloraxis": {
           "colorbar": {
            "outlinewidth": 0,
            "ticks": ""
           }
          },
          "colorscale": {
           "diverging": [
            [
             0,
             "#8e0152"
            ],
            [
             0.1,
             "#c51b7d"
            ],
            [
             0.2,
             "#de77ae"
            ],
            [
             0.3,
             "#f1b6da"
            ],
            [
             0.4,
             "#fde0ef"
            ],
            [
             0.5,
             "#f7f7f7"
            ],
            [
             0.6,
             "#e6f5d0"
            ],
            [
             0.7,
             "#b8e186"
            ],
            [
             0.8,
             "#7fbc41"
            ],
            [
             0.9,
             "#4d9221"
            ],
            [
             1,
             "#276419"
            ]
           ],
           "sequential": [
            [
             0,
             "#0d0887"
            ],
            [
             0.1111111111111111,
             "#46039f"
            ],
            [
             0.2222222222222222,
             "#7201a8"
            ],
            [
             0.3333333333333333,
             "#9c179e"
            ],
            [
             0.4444444444444444,
             "#bd3786"
            ],
            [
             0.5555555555555556,
             "#d8576b"
            ],
            [
             0.6666666666666666,
             "#ed7953"
            ],
            [
             0.7777777777777778,
             "#fb9f3a"
            ],
            [
             0.8888888888888888,
             "#fdca26"
            ],
            [
             1,
             "#f0f921"
            ]
           ],
           "sequentialminus": [
            [
             0,
             "#0d0887"
            ],
            [
             0.1111111111111111,
             "#46039f"
            ],
            [
             0.2222222222222222,
             "#7201a8"
            ],
            [
             0.3333333333333333,
             "#9c179e"
            ],
            [
             0.4444444444444444,
             "#bd3786"
            ],
            [
             0.5555555555555556,
             "#d8576b"
            ],
            [
             0.6666666666666666,
             "#ed7953"
            ],
            [
             0.7777777777777778,
             "#fb9f3a"
            ],
            [
             0.8888888888888888,
             "#fdca26"
            ],
            [
             1,
             "#f0f921"
            ]
           ]
          },
          "colorway": [
           "#636efa",
           "#EF553B",
           "#00cc96",
           "#ab63fa",
           "#FFA15A",
           "#19d3f3",
           "#FF6692",
           "#B6E880",
           "#FF97FF",
           "#FECB52"
          ],
          "font": {
           "color": "#2a3f5f"
          },
          "geo": {
           "bgcolor": "white",
           "lakecolor": "white",
           "landcolor": "white",
           "showlakes": true,
           "showland": true,
           "subunitcolor": "#C8D4E3"
          },
          "hoverlabel": {
           "align": "left"
          },
          "hovermode": "closest",
          "mapbox": {
           "style": "light"
          },
          "paper_bgcolor": "white",
          "plot_bgcolor": "white",
          "polar": {
           "angularaxis": {
            "gridcolor": "#EBF0F8",
            "linecolor": "#EBF0F8",
            "ticks": ""
           },
           "bgcolor": "white",
           "radialaxis": {
            "gridcolor": "#EBF0F8",
            "linecolor": "#EBF0F8",
            "ticks": ""
           }
          },
          "scene": {
           "xaxis": {
            "backgroundcolor": "white",
            "gridcolor": "#DFE8F3",
            "gridwidth": 2,
            "linecolor": "#EBF0F8",
            "showbackground": true,
            "ticks": "",
            "zerolinecolor": "#EBF0F8"
           },
           "yaxis": {
            "backgroundcolor": "white",
            "gridcolor": "#DFE8F3",
            "gridwidth": 2,
            "linecolor": "#EBF0F8",
            "showbackground": true,
            "ticks": "",
            "zerolinecolor": "#EBF0F8"
           },
           "zaxis": {
            "backgroundcolor": "white",
            "gridcolor": "#DFE8F3",
            "gridwidth": 2,
            "linecolor": "#EBF0F8",
            "showbackground": true,
            "ticks": "",
            "zerolinecolor": "#EBF0F8"
           }
          },
          "shapedefaults": {
           "line": {
            "color": "#2a3f5f"
           }
          },
          "ternary": {
           "aaxis": {
            "gridcolor": "#DFE8F3",
            "linecolor": "#A2B1C6",
            "ticks": ""
           },
           "baxis": {
            "gridcolor": "#DFE8F3",
            "linecolor": "#A2B1C6",
            "ticks": ""
           },
           "bgcolor": "white",
           "caxis": {
            "gridcolor": "#DFE8F3",
            "linecolor": "#A2B1C6",
            "ticks": ""
           }
          },
          "title": {
           "x": 0.05
          },
          "xaxis": {
           "automargin": true,
           "gridcolor": "#EBF0F8",
           "linecolor": "#EBF0F8",
           "ticks": "",
           "title": {
            "standoff": 15
           },
           "zerolinecolor": "#EBF0F8",
           "zerolinewidth": 2
          },
          "yaxis": {
           "automargin": true,
           "gridcolor": "#EBF0F8",
           "linecolor": "#EBF0F8",
           "ticks": "",
           "title": {
            "standoff": 15
           },
           "zerolinecolor": "#EBF0F8",
           "zerolinewidth": 2
          }
         }
        },
        "title": {
         "text": "Time Comparison"
        },
        "xaxis": {
         "linewidth": 1.5,
         "showgrid": true,
         "showline": true,
         "showticklabels": true,
         "tickfont": {
          "color": "#000000",
          "family": "Verdana",
          "size": 11
         },
         "ticks": "outside",
         "title": {
          "text": "Iterations"
         }
        },
        "yaxis": {
         "showgrid": true,
         "showline": false,
         "showticklabels": true,
         "tickfont": {
          "color": "#000000",
          "family": "Verdana",
          "size": 11
         },
         "ticks": "outside",
         "title": {
          "text": "Time (ms)"
         },
         "zeroline": false
        }
       }
      }
     },
     "metadata": {},
     "output_type": "display_data"
    }
   ],
   "source": [
    "# seed for reproducibility\n",
    "np.random.seed(0)\n",
    "\n",
    "generations = [50, 100, 250, 500]\n",
    "\n",
    "# Setting previous best parameter as new default value\n",
    "params.update(replace_param)\n",
    "\n",
    "# Print current parameters to use in best_operators_search\n",
    "print('\\033[1mParameters for GA:\\033[0m', end='\\n\\n')\n",
    "print(params, end='\\n\\n')\n",
    "\n",
    "param_list, df = best_operators_search('gen', generations, params)\n",
    "\n",
    "# Displaying average results of the 100 iterations\n",
    "print('\\033[1mAverage results:', end='\\n')\n",
    "df['const'] = 'const'\n",
    "df_avg = df.groupby('const').mean().reset_index(drop=True).round(3)\n",
    "display(df_avg)\n",
    "\n",
    "# Getting best parameter by fitness & time\n",
    "best_param_fit = df_avg[[col for col in df_avg.columns if col.startswith('Fit_')]].idxmax(axis=1)[0].replace('Fit_', '')\n",
    "best_param_time = df_avg[[col for col in df_avg.columns if col.startswith('Time_')]].idxmin(axis=1)[0].replace('Time_', '')\n",
    "replace_param = {'gen': best_param_fit}\n",
    "print(f'\\nBest Fitness: \\033[1m{best_param_fit}\\033[0m\\n\\nBest Time: \\033[1m{best_param_time}\\033[0m', end='\\n\\n')\n",
    "\n",
    "# Plotting results\n",
    "plot_values(data = df, colors = color_palette[:len(generations)], layout=2, template='white', grid=True)"
   ]
  },
  {
   "attachments": {},
   "cell_type": "markdown",
   "metadata": {},
   "source": [
    "## __2. Algortihms Comparison__"
   ]
  },
  {
   "cell_type": "code",
   "execution_count": null,
   "metadata": {},
   "outputs": [],
   "source": []
  },
  {
   "attachments": {},
   "cell_type": "markdown",
   "metadata": {},
   "source": [
    "## __3. Results and Discussion__"
   ]
  },
  {
   "cell_type": "code",
   "execution_count": null,
   "metadata": {},
   "outputs": [],
   "source": []
  }
 ],
 "metadata": {
  "kernelspec": {
   "display_name": "CIFO",
   "language": "python",
   "name": "python3"
  },
  "language_info": {
   "codemirror_mode": {
    "name": "ipython",
    "version": 3
   },
   "file_extension": ".py",
   "mimetype": "text/x-python",
   "name": "python",
   "nbconvert_exporter": "python",
   "pygments_lexer": "ipython3",
   "version": "3.11.3"
  },
  "orig_nbformat": 4
 },
 "nbformat": 4,
 "nbformat_minor": 2
}
