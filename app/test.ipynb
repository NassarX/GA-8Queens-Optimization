{
 "cells": [
  {
   "cell_type": "code",
   "execution_count": 9,
   "metadata": {
    "ExecuteTime": {
     "end_time": "2023-05-26T21:00:00.144067Z",
     "start_time": "2023-05-26T21:00:00.034932Z"
    }
   },
   "outputs": [],
   "source": [
    "# Magic comands\n",
    "%reload_ext autoreload\n",
    "%autoreload 2\n",
    "\n",
    "# Libraries\n",
    "import os, sys, webcolors\n",
    "import numpy as np\n",
    "import pandas as pd\n",
    "import plotly.graph_objects as go\n",
    "\n",
    "module_path = os.path.abspath(os.path.join('.'))\n",
    "if module_path not in sys.path:\n",
    "    sys.path.append(module_path)\n",
    "\n",
    "origin_path = os.getcwd()\n",
    "parent_dir = os.path.abspath(os.path.join(origin_path, os.pardir))\n",
    "os.chdir(parent_dir)\n",
    "\n",
    "from app.nqueens import NQueensGeneticAlgorithm"
   ]
  },
  {
   "cell_type": "code",
   "execution_count": 10,
   "metadata": {
    "ExecuteTime": {
     "end_time": "2023-05-26T21:07:48.633803Z",
     "start_time": "2023-05-26T21:07:48.277270Z"
    }
   },
   "outputs": [],
   "source": [
    "def genetic_algorithm(\n",
    "                    n = 8,\n",
    "                    pop = 100,\n",
    "                    gen = 50,\n",
    "                    mut_perc = .05, # .01 .1\n",
    "                    cross_perc = .75, # .6 to .9\n",
    "                    mut='random_mutation',\n",
    "                    cross='single_cross',\n",
    "                    select='tournament_selection',\n",
    "                    ):\n",
    "    \n",
    "    nQueensGA = NQueensGeneticAlgorithm(population_size=pop, dimension=n)\n",
    "\n",
    "    nQueensGA.run(\n",
    "        generations=gen,\n",
    "        mutation_probability=mut_perc,\n",
    "        crossover_probability=cross_perc,\n",
    "        mutation_operator=mut,\n",
    "        crossover_operator=cross,\n",
    "        selection_operator=select\n",
    "    )\n",
    "\n",
    "    return nQueensGA.report()"
   ]
  },
  {
   "cell_type": "code",
   "execution_count": 11,
   "metadata": {
    "collapsed": false
   },
   "outputs": [
    {
     "ename": "NotImplementedError",
     "evalue": "Fitness function not implemented.",
     "output_type": "error",
     "traceback": [
      "\u001b[0;31m---------------------------------------------------------------------------\u001b[0m",
      "\u001b[0;31mNotImplementedError\u001b[0m                       Traceback (most recent call last)",
      "Cell \u001b[0;32mIn[11], line 2\u001b[0m\n\u001b[1;32m      1\u001b[0m \u001b[39m# testing function\u001b[39;00m\n\u001b[0;32m----> 2\u001b[0m ga \u001b[39m=\u001b[39m genetic_algorithm(\n\u001b[1;32m      3\u001b[0m                                             n \u001b[39m=\u001b[39;49m \u001b[39m8\u001b[39;49m,\n\u001b[1;32m      4\u001b[0m                                             pop \u001b[39m=\u001b[39;49m \u001b[39m500\u001b[39;49m,\n\u001b[1;32m      5\u001b[0m                                             gen \u001b[39m=\u001b[39;49m \u001b[39m500\u001b[39;49m,\n\u001b[1;32m      6\u001b[0m                                             mut_perc \u001b[39m=\u001b[39;49m \u001b[39m.02\u001b[39;49m,\n\u001b[1;32m      7\u001b[0m                                             cross_perc \u001b[39m=\u001b[39;49m \u001b[39m.8\u001b[39;49m,\n\u001b[1;32m      8\u001b[0m                                             mut \u001b[39m=\u001b[39;49m \u001b[39m\"\u001b[39;49m\u001b[39mrandom_mutation\u001b[39;49m\u001b[39m\"\u001b[39;49m,\n\u001b[1;32m      9\u001b[0m                                             cross \u001b[39m=\u001b[39;49m \u001b[39m\"\u001b[39;49m\u001b[39msingle_cross\u001b[39;49m\u001b[39m\"\u001b[39;49m,\n\u001b[1;32m     10\u001b[0m                                             select \u001b[39m=\u001b[39;49m \u001b[39m\"\u001b[39;49m\u001b[39mtournament_selection\u001b[39;49m\u001b[39m\"\u001b[39;49m\n\u001b[1;32m     11\u001b[0m                                             )\n\u001b[1;32m     12\u001b[0m ga\n",
      "Cell \u001b[0;32mIn[10], line 12\u001b[0m, in \u001b[0;36mgenetic_algorithm\u001b[0;34m(n, pop, gen, mut_perc, cross_perc, mut, cross, select)\u001b[0m\n\u001b[1;32m      1\u001b[0m \u001b[39mdef\u001b[39;00m \u001b[39mgenetic_algorithm\u001b[39m(\n\u001b[1;32m      2\u001b[0m                     n \u001b[39m=\u001b[39m \u001b[39m8\u001b[39m,\n\u001b[1;32m      3\u001b[0m                     pop \u001b[39m=\u001b[39m \u001b[39m100\u001b[39m,\n\u001b[0;32m   (...)\u001b[0m\n\u001b[1;32m      9\u001b[0m                     select\u001b[39m=\u001b[39m\u001b[39m'\u001b[39m\u001b[39mtournament_selection\u001b[39m\u001b[39m'\u001b[39m,\n\u001b[1;32m     10\u001b[0m                     ):\n\u001b[0;32m---> 12\u001b[0m     nQueensGA \u001b[39m=\u001b[39m NQueensGeneticAlgorithm(population_size\u001b[39m=\u001b[39;49mpop, dimension\u001b[39m=\u001b[39;49mn)\n\u001b[1;32m     14\u001b[0m     nQueensGA\u001b[39m.\u001b[39mrun(\n\u001b[1;32m     15\u001b[0m         generations\u001b[39m=\u001b[39mgen,\n\u001b[1;32m     16\u001b[0m         mutation_probability\u001b[39m=\u001b[39mmut_perc,\n\u001b[0;32m   (...)\u001b[0m\n\u001b[1;32m     20\u001b[0m         selection_operator\u001b[39m=\u001b[39mselect\n\u001b[1;32m     21\u001b[0m     )\n\u001b[1;32m     23\u001b[0m     \u001b[39mreturn\u001b[39;00m nQueensGA\u001b[39m.\u001b[39mreport()\n",
      "File \u001b[0;32m~/Desktop/NQueens-Optimization/app/nqueens/genetic_algorithm.py:38\u001b[0m, in \u001b[0;36mNQueensGeneticAlgorithm.__init__\u001b[0;34m(self, population_size, dimension)\u001b[0m\n\u001b[1;32m     35\u001b[0m \u001b[39m# Add the fitness function to the Individual class as a method\u001b[39;00m\n\u001b[1;32m     36\u001b[0m \u001b[39m# using Monkey Patching (Duck Typing) technique.\u001b[39;00m\n\u001b[1;32m     37\u001b[0m Individual\u001b[39m.\u001b[39mget_fitness \u001b[39m=\u001b[39m calculate_fitness_score\n\u001b[0;32m---> 38\u001b[0m \u001b[39mself\u001b[39m\u001b[39m.\u001b[39mpopulation \u001b[39m=\u001b[39m Population(size\u001b[39m=\u001b[39;49mpopulation_size,\n\u001b[1;32m     39\u001b[0m                              optim\u001b[39m=\u001b[39;49m\u001b[39m\"\u001b[39;49m\u001b[39mmax\u001b[39;49m\u001b[39m\"\u001b[39;49m,\n\u001b[1;32m     40\u001b[0m                              sol_size\u001b[39m=\u001b[39;49mdimension,\n\u001b[1;32m     41\u001b[0m                              valid_set\u001b[39m=\u001b[39;49m\u001b[39mrange\u001b[39;49m(dimension),\n\u001b[1;32m     42\u001b[0m                              distinct\u001b[39m=\u001b[39;49m\u001b[39mTrue\u001b[39;49;00m)\n\u001b[1;32m     44\u001b[0m \u001b[39m# Calculate the best fitness score (the maximum number of non-attacking queen pairs)\u001b[39;00m\n\u001b[1;32m     45\u001b[0m \u001b[39mself\u001b[39m\u001b[39m.\u001b[39mbest_fitness \u001b[39m=\u001b[39m dimension \u001b[39m*\u001b[39m (dimension \u001b[39m-\u001b[39m \u001b[39m1\u001b[39m) \u001b[39m/\u001b[39m\u001b[39m/\u001b[39m \u001b[39m2\u001b[39m\n",
      "File \u001b[0;32m~/Desktop/NQueens-Optimization/app/charles/charles.py:17\u001b[0m, in \u001b[0;36mPopulation.__init__\u001b[0;34m(self, size, optim, **kwargs)\u001b[0m\n\u001b[1;32m     15\u001b[0m \u001b[39mdef\u001b[39;00m \u001b[39m__init__\u001b[39m(\u001b[39mself\u001b[39m, size: \u001b[39mint\u001b[39m, optim: \u001b[39mstr\u001b[39m, \u001b[39m*\u001b[39m\u001b[39m*\u001b[39mkwargs) \u001b[39m-\u001b[39m\u001b[39m>\u001b[39m \u001b[39mNone\u001b[39;00m:\n\u001b[1;32m     16\u001b[0m     \u001b[39m# Initialize the individuals in the population\u001b[39;00m\n\u001b[0;32m---> 17\u001b[0m     \u001b[39mself\u001b[39m\u001b[39m.\u001b[39mindividuals \u001b[39m=\u001b[39m [\n\u001b[1;32m     18\u001b[0m         Individual(\n\u001b[1;32m     19\u001b[0m             size\u001b[39m=\u001b[39;49mkwargs[\u001b[39m\"\u001b[39;49m\u001b[39msol_size\u001b[39;49m\u001b[39m\"\u001b[39;49m],\n\u001b[1;32m     20\u001b[0m             distinct\u001b[39m=\u001b[39;49m\u001b[39mbool\u001b[39;49m(kwargs[\u001b[39m\"\u001b[39;49m\u001b[39mdistinct\u001b[39;49m\u001b[39m\"\u001b[39;49m]),\n\u001b[1;32m     21\u001b[0m             valid_set\u001b[39m=\u001b[39;49mkwargs[\u001b[39m\"\u001b[39;49m\u001b[39mvalid_set\u001b[39;49m\u001b[39m\"\u001b[39;49m],\n\u001b[1;32m     22\u001b[0m         )\n\u001b[1;32m     23\u001b[0m         \u001b[39m# Create a list of Individual objects\u001b[39;49;00m\n\u001b[1;32m     24\u001b[0m         \u001b[39mfor\u001b[39;49;00m _ \u001b[39min\u001b[39;49;00m \u001b[39mrange\u001b[39;49m(size)\n\u001b[1;32m     25\u001b[0m     ]\n\u001b[1;32m     26\u001b[0m     \u001b[39mself\u001b[39m\u001b[39m.\u001b[39msize \u001b[39m=\u001b[39m size\n\u001b[1;32m     27\u001b[0m     \u001b[39mself\u001b[39m\u001b[39m.\u001b[39moptim \u001b[39m=\u001b[39m optim\n",
      "File \u001b[0;32m~/Desktop/NQueens-Optimization/app/charles/charles.py:18\u001b[0m, in \u001b[0;36m<listcomp>\u001b[0;34m(.0)\u001b[0m\n\u001b[1;32m     15\u001b[0m \u001b[39mdef\u001b[39;00m \u001b[39m__init__\u001b[39m(\u001b[39mself\u001b[39m, size: \u001b[39mint\u001b[39m, optim: \u001b[39mstr\u001b[39m, \u001b[39m*\u001b[39m\u001b[39m*\u001b[39mkwargs) \u001b[39m-\u001b[39m\u001b[39m>\u001b[39m \u001b[39mNone\u001b[39;00m:\n\u001b[1;32m     16\u001b[0m     \u001b[39m# Initialize the individuals in the population\u001b[39;00m\n\u001b[1;32m     17\u001b[0m     \u001b[39mself\u001b[39m\u001b[39m.\u001b[39mindividuals \u001b[39m=\u001b[39m [\n\u001b[0;32m---> 18\u001b[0m         Individual(\n\u001b[1;32m     19\u001b[0m             size\u001b[39m=\u001b[39;49mkwargs[\u001b[39m\"\u001b[39;49m\u001b[39msol_size\u001b[39;49m\u001b[39m\"\u001b[39;49m],\n\u001b[1;32m     20\u001b[0m             distinct\u001b[39m=\u001b[39;49m\u001b[39mbool\u001b[39;49m(kwargs[\u001b[39m\"\u001b[39;49m\u001b[39mdistinct\u001b[39;49m\u001b[39m\"\u001b[39;49m]),\n\u001b[1;32m     21\u001b[0m             valid_set\u001b[39m=\u001b[39;49mkwargs[\u001b[39m\"\u001b[39;49m\u001b[39mvalid_set\u001b[39;49m\u001b[39m\"\u001b[39;49m],\n\u001b[1;32m     22\u001b[0m         )\n\u001b[1;32m     23\u001b[0m         \u001b[39m# Create a list of Individual objects\u001b[39;00m\n\u001b[1;32m     24\u001b[0m         \u001b[39mfor\u001b[39;00m _ \u001b[39min\u001b[39;00m \u001b[39mrange\u001b[39m(size)\n\u001b[1;32m     25\u001b[0m     ]\n\u001b[1;32m     26\u001b[0m     \u001b[39mself\u001b[39m\u001b[39m.\u001b[39msize \u001b[39m=\u001b[39m size\n\u001b[1;32m     27\u001b[0m     \u001b[39mself\u001b[39m\u001b[39m.\u001b[39moptim \u001b[39m=\u001b[39m optim\n",
      "File \u001b[0;32m~/Desktop/NQueens-Optimization/app/charles/charles.py:169\u001b[0m, in \u001b[0;36mIndividual.__init__\u001b[0;34m(self, representation, size, distinct, valid_set, generation)\u001b[0m\n\u001b[1;32m    166\u001b[0m \u001b[39melse\u001b[39;00m:\n\u001b[1;32m    167\u001b[0m     \u001b[39mself\u001b[39m\u001b[39m.\u001b[39mrepresentation \u001b[39m=\u001b[39m representation\n\u001b[0;32m--> 169\u001b[0m \u001b[39mself\u001b[39m\u001b[39m.\u001b[39mfitness \u001b[39m=\u001b[39m \u001b[39mself\u001b[39;49m\u001b[39m.\u001b[39;49mget_fitness()\n\u001b[1;32m    170\u001b[0m \u001b[39mself\u001b[39m\u001b[39m.\u001b[39mgeneration \u001b[39m=\u001b[39m generation\n",
      "File \u001b[0;32m~/Desktop/NQueens-Optimization/app/charles/charles.py:174\u001b[0m, in \u001b[0;36mIndividual.get_fitness\u001b[0;34m(self)\u001b[0m\n\u001b[1;32m    172\u001b[0m \u001b[39mdef\u001b[39;00m \u001b[39mget_fitness\u001b[39m(\u001b[39mself\u001b[39m):\n\u001b[1;32m    173\u001b[0m \u001b[39m    \u001b[39m\u001b[39m\"\"\"Return the fitness of the Individual.\"\"\"\u001b[39;00m\n\u001b[0;32m--> 174\u001b[0m     \u001b[39mraise\u001b[39;00m \u001b[39mNotImplementedError\u001b[39;00m(\u001b[39m\"\u001b[39m\u001b[39mFitness function not implemented.\u001b[39m\u001b[39m\"\u001b[39m)\n",
      "\u001b[0;31mNotImplementedError\u001b[0m: Fitness function not implemented."
     ]
    }
   ],
   "source": [
    "# testing function\n",
    "ga = genetic_algorithm(\n",
    "                                            n = 8,\n",
    "                                            pop = 500,\n",
    "                                            gen = 500,\n",
    "                                            mut_perc = .02,\n",
    "                                            cross_perc = .8,\n",
    "                                            mut = \"random_mutation\",\n",
    "                                            cross = \"single_cross\",\n",
    "                                            select = \"tournament_selection\"\n",
    "                                            )\n",
    "ga"
   ]
  },
  {
   "attachments": {},
   "cell_type": "markdown",
   "metadata": {},
   "source": [
    "## __1. Operators & Paramaters Optimization__"
   ]
  },
  {
   "cell_type": "code",
   "execution_count": 4,
   "metadata": {},
   "outputs": [],
   "source": [
    "# dictionary with parameter names and default values \n",
    "defaults = genetic_algorithm.__defaults__\n",
    "parameters = genetic_algorithm.__code__.co_varnames\n",
    "params = {param: val for param, val in zip(parameters, defaults)}\n",
    "\n",
    "# color list for plots\n",
    "color_palette = ['gray', 'steelblue', 'purple', 'darkgray', 'lightgray', 'slategray', 'cornflowerblue', 'lavender', 'powderblue']"
   ]
  },
  {
   "cell_type": "code",
   "execution_count": 5,
   "metadata": {},
   "outputs": [],
   "source": [
    "def best_operators_search(parameter: str, values: list, previous_best_params: list = None):\n",
    "    \n",
    "    if previous_best_params:\n",
    "        params = previous_best_params\n",
    "    else:\n",
    "        # dictionary with parameter names and default values \n",
    "        defaults = genetic_algorithm.__defaults__\n",
    "        parameters = genetic_algorithm.__code__.co_varnames\n",
    "        params = {param: val for param, val in zip(parameters, defaults)}\n",
    "    \n",
    "    # initializing variables\n",
    "    best_fit = 0.0\n",
    "    time_fit = 9e99\n",
    "    fit_dict = {}\n",
    "    time_dict = {}\n",
    "    param_list = []\n",
    "\n",
    "    # Perform grid search\n",
    "    for i in values:\n",
    "        # 100 iterations to generate statistically relevant results\n",
    "        fit_list = []\n",
    "        time_list = []\n",
    "        for _ in range(100):\n",
    "            # changing parameter according to input\n",
    "            params[parameter] = i\n",
    "            # Define the model with current hyperparameters\n",
    "            ga = genetic_algorithm(**params)\n",
    "            # gets restults\n",
    "            fit = ga['best_fitness_percentage']\n",
    "            time_it = ga['duration']\n",
    "            # Check if current solution has better fitness than previous best \n",
    "            if fit > best_fit:\n",
    "                best_fit = fit\n",
    "                time_fit = time_it\n",
    "                best_param = {parameter: i}\n",
    "            # Check if the solution with fitness as good is faster than previous best\n",
    "            if fit == best_fit and time_it < time_fit:\n",
    "                time_fit = time_it\n",
    "                best_param = {parameter: i}\n",
    "            # Append results to get 100 iterations values\n",
    "            fit_list.append(fit)\n",
    "            time_list.append(time_it)\n",
    "        # saving results per parameter\n",
    "        param_list.append(best_param)\n",
    "        fit_dict['Fit_' + i] = fit_list\n",
    "        time_dict['Time_' + i] = time_list\n",
    "\n",
    "    unique_best_params =list({tuple(d.items()): d for d in param_list}.values())\n",
    "\n",
    "    # dataframe with results\n",
    "    fit_dict.update(time_dict)\n",
    "    df = pd.DataFrame(fit_dict)\n",
    "        \n",
    "    return unique_best_params, df"
   ]
  },
  {
   "cell_type": "code",
   "execution_count": 6,
   "metadata": {},
   "outputs": [],
   "source": [
    "def plot_values(data: pd.DataFrame, colors: list, layout: int, template:str, grid:  bool):\n",
    "    # Filter columns starting with \"Fit_\"\n",
    "    fit_columns = [col for col in data.columns if col.startswith('Fit_')]\n",
    "\n",
    "    # Filter columns starting with \"Time_\"\n",
    "    time_columns = [col for col in data.columns if col.startswith('Time_')]\n",
    "\n",
    "    template_map = {'white':'plotly_white', 'dark': 'plotly_dark'}\n",
    "\n",
    "    tick_font_map = {'white': webcolors.rgb_to_hex(webcolors.name_to_rgb('black')), 'dark': webcolors.rgb_to_hex(webcolors.name_to_rgb('white'))}\n",
    "\n",
    "    # Layout styles\n",
    "    layout_1 = {\n",
    "        'xaxis_title': 'Iterations',\n",
    "        'yaxis_title': 'Time (ms)',\n",
    "        'template': template_map[template],\n",
    "        'font': {'size': 14, 'family': 'Verdana'},\n",
    "        'title': {'text': 'Time Comparison', 'font': {'size': 19, 'family': 'Verdana'}},\n",
    "        'xaxis': {'showgrid': grid, 'ticks': 'outside', 'tickfont': {'color': tick_font_map[template]}},\n",
    "        'yaxis': {'showgrid': grid, 'tickfont': {'color': tick_font_map[template]}}\n",
    "        }\n",
    "    \n",
    "    layout_2 = {\n",
    "        'template': template_map[template],\n",
    "        'font': {'size': 14, 'family': 'Verdana'},\n",
    "        'xaxis': {\n",
    "            'showline': True,\n",
    "            'showgrid': grid,\n",
    "            'showticklabels': True,\n",
    "            'linewidth': 1.5,\n",
    "            'ticks': 'outside',\n",
    "            'tickfont': {\n",
    "                'family': 'Verdana',\n",
    "                'size': 11,\n",
    "                'color': tick_font_map[template]}},\n",
    "        'yaxis': {\n",
    "            'showgrid': grid,\n",
    "            'zeroline': False,\n",
    "            'showline': False,\n",
    "            'showticklabels': True,\n",
    "            'ticks': 'outside',\n",
    "            'tickfont': {\n",
    "                'family': 'Verdana',\n",
    "                'size': 11,\n",
    "                'color': tick_font_map[template]}}}\n",
    "    \n",
    "    layout_map = {1:layout_1, 2:layout_2}\n",
    "\n",
    "    # Convert color names to RGB values\n",
    "    rgb_colors = [webcolors.name_to_rgb(color) for color in colors]\n",
    "\n",
    "    mode_size = 8\n",
    "    line_size = 2\n",
    "\n",
    "    # Create a subplot with two line plots\n",
    "    fig = go.Figure()\n",
    "\n",
    "    # Add line plots for \"Fit_\" columns\n",
    "    i = 0\n",
    "    for col in fit_columns:\n",
    "        fig.add_trace(go.Scatter(x=data.index, y=data[col], name=col.replace('Fit_', ''),\n",
    "                                line=dict(color=colors[i], width=line_size),\n",
    "                                ))\n",
    "\n",
    "        fig.add_trace(go.Scatter(\n",
    "            x=[data.index[0], data.index[-1]],\n",
    "            y=[data[col][0], data[col].iloc[-1]],\n",
    "            mode='markers',\n",
    "            marker=dict(color=colors[i], size=mode_size),\n",
    "            name=''\n",
    "        ))\n",
    "        i += 1\n",
    "\n",
    "    layout_map[layout].update({\n",
    "                            'title': 'Fitness Comparison',\n",
    "                            'xaxis_title': 'Iterations',\n",
    "                            'yaxis_title': 'Fitness'})\n",
    "\n",
    "    fig.update_layout(layout_map[layout])\n",
    "\n",
    "    fig2 = go.Figure()\n",
    "\n",
    "    # Add line plots for \"Time_\" columns\n",
    "    i = 0\n",
    "    for col in time_columns:\n",
    "        fig2.add_trace(go.Scatter(x=data.index, y=data[col], name=col.replace('Time_', ''),\n",
    "                                line=dict(color=colors[i], width=line_size),\n",
    "                                ))\n",
    "\n",
    "        fig2.add_trace(go.Scatter(\n",
    "            x=[data.index[0], data.index[-1]],\n",
    "            y=[data[col][0], data[col].iloc[-1]],\n",
    "            mode='markers',\n",
    "            marker=dict(color=colors[i], size=mode_size),\n",
    "            name=''\n",
    "        ))\n",
    "        i += 1\n",
    "\n",
    "    layout_map[layout].update({\n",
    "                            'title': 'Time Comparison',\n",
    "                            'xaxis_title': 'Iterations',\n",
    "                            'yaxis_title': 'Time (ms)'})\n",
    "\n",
    "    fig2.update_layout(layout_map[layout])\n",
    "\n",
    "    # Show the plots\n",
    "    fig.show()\n",
    "    fig2.show()"
   ]
  },
  {
   "attachments": {},
   "cell_type": "markdown",
   "metadata": {},
   "source": [
    "### __1.1 Mutation Operator__"
   ]
  },
  {
   "cell_type": "code",
   "execution_count": 7,
   "metadata": {},
   "outputs": [
    {
     "name": "stdout",
     "output_type": "stream",
     "text": [
      "\u001b[1mAverage results:\n"
     ]
    },
    {
     "data": {
      "text/html": [
       "<div>\n",
       "<style scoped>\n",
       "    .dataframe tbody tr th:only-of-type {\n",
       "        vertical-align: middle;\n",
       "    }\n",
       "\n",
       "    .dataframe tbody tr th {\n",
       "        vertical-align: top;\n",
       "    }\n",
       "\n",
       "    .dataframe thead th {\n",
       "        text-align: right;\n",
       "    }\n",
       "</style>\n",
       "<table border=\"1\" class=\"dataframe\">\n",
       "  <thead>\n",
       "    <tr style=\"text-align: right;\">\n",
       "      <th></th>\n",
       "      <th>Fit_swap_mutation</th>\n",
       "      <th>Fit_random_mutation</th>\n",
       "      <th>Fit_inversion_mutation</th>\n",
       "      <th>Time_swap_mutation</th>\n",
       "      <th>Time_random_mutation</th>\n",
       "      <th>Time_inversion_mutation</th>\n",
       "    </tr>\n",
       "  </thead>\n",
       "  <tbody>\n",
       "    <tr>\n",
       "      <th>0</th>\n",
       "      <td>98.286</td>\n",
       "      <td>97.5</td>\n",
       "      <td>97.857</td>\n",
       "      <td>18.47</td>\n",
       "      <td>18.8</td>\n",
       "      <td>18.56</td>\n",
       "    </tr>\n",
       "  </tbody>\n",
       "</table>\n",
       "</div>"
      ],
      "text/plain": [
       "   Fit_swap_mutation  Fit_random_mutation  Fit_inversion_mutation   \n",
       "0             98.286                 97.5                  97.857  \\\n",
       "\n",
       "   Time_swap_mutation  Time_random_mutation  Time_inversion_mutation  \n",
       "0               18.47                  18.8                    18.56  "
      ]
     },
     "metadata": {},
     "output_type": "display_data"
    },
    {
     "name": "stdout",
     "output_type": "stream",
     "text": [
      "\n",
      "Best Fitness: \u001b[1mswap_mutation\u001b[0m\n",
      "\n",
      "Best Time: \u001b[1mswap_mutation\u001b[0m\n",
      "\n"
     ]
    },
    {
     "data": {
      "application/vnd.plotly.v1+json": {
       "config": {
        "plotlyServerURL": "https://plot.ly"
       },
       "data": [
        {
         "line": {
          "color": "gray",
          "width": 2
         },
         "name": "swap_mutation",
         "type": "scatter",
         "x": [
          0,
          1,
          2,
          3,
          4,
          5,
          6,
          7,
          8,
          9,
          10,
          11,
          12,
          13,
          14,
          15,
          16,
          17,
          18,
          19,
          20,
          21,
          22,
          23,
          24,
          25,
          26,
          27,
          28,
          29,
          30,
          31,
          32,
          33,
          34,
          35,
          36,
          37,
          38,
          39,
          40,
          41,
          42,
          43,
          44,
          45,
          46,
          47,
          48,
          49,
          50,
          51,
          52,
          53,
          54,
          55,
          56,
          57,
          58,
          59,
          60,
          61,
          62,
          63,
          64,
          65,
          66,
          67,
          68,
          69,
          70,
          71,
          72,
          73,
          74,
          75,
          76,
          77,
          78,
          79,
          80,
          81,
          82,
          83,
          84,
          85,
          86,
          87,
          88,
          89,
          90,
          91,
          92,
          93,
          94,
          95,
          96,
          97,
          98,
          99
         ],
         "y": [
          96.42857142857143,
          100,
          100,
          100,
          100,
          96.42857142857143,
          100,
          100,
          96.42857142857143,
          100,
          100,
          96.42857142857143,
          100,
          100,
          96.42857142857143,
          100,
          96.42857142857143,
          96.42857142857143,
          96.42857142857143,
          100,
          96.42857142857143,
          96.42857142857143,
          100,
          96.42857142857143,
          96.42857142857143,
          96.42857142857143,
          100,
          96.42857142857143,
          100,
          100,
          96.42857142857143,
          96.42857142857143,
          96.42857142857143,
          100,
          100,
          100,
          96.42857142857143,
          96.42857142857143,
          100,
          100,
          100,
          100,
          100,
          96.42857142857143,
          96.42857142857143,
          96.42857142857143,
          96.42857142857143,
          100,
          96.42857142857143,
          96.42857142857143,
          96.42857142857143,
          100,
          100,
          96.42857142857143,
          96.42857142857143,
          96.42857142857143,
          100,
          96.42857142857143,
          100,
          96.42857142857143,
          100,
          96.42857142857143,
          96.42857142857143,
          100,
          100,
          100,
          100,
          100,
          100,
          100,
          96.42857142857143,
          96.42857142857143,
          96.42857142857143,
          96.42857142857143,
          100,
          100,
          100,
          96.42857142857143,
          100,
          96.42857142857143,
          100,
          100,
          100,
          96.42857142857143,
          100,
          96.42857142857143,
          96.42857142857143,
          96.42857142857143,
          100,
          100,
          96.42857142857143,
          96.42857142857143,
          96.42857142857143,
          100,
          100,
          100,
          96.42857142857143,
          96.42857142857143,
          100,
          100
         ]
        },
        {
         "marker": {
          "color": "gray",
          "size": 8
         },
         "mode": "markers",
         "name": "",
         "type": "scatter",
         "x": [
          0,
          99
         ],
         "y": [
          96.42857142857143,
          100
         ]
        },
        {
         "line": {
          "color": "steelblue",
          "width": 2
         },
         "name": "random_mutation",
         "type": "scatter",
         "x": [
          0,
          1,
          2,
          3,
          4,
          5,
          6,
          7,
          8,
          9,
          10,
          11,
          12,
          13,
          14,
          15,
          16,
          17,
          18,
          19,
          20,
          21,
          22,
          23,
          24,
          25,
          26,
          27,
          28,
          29,
          30,
          31,
          32,
          33,
          34,
          35,
          36,
          37,
          38,
          39,
          40,
          41,
          42,
          43,
          44,
          45,
          46,
          47,
          48,
          49,
          50,
          51,
          52,
          53,
          54,
          55,
          56,
          57,
          58,
          59,
          60,
          61,
          62,
          63,
          64,
          65,
          66,
          67,
          68,
          69,
          70,
          71,
          72,
          73,
          74,
          75,
          76,
          77,
          78,
          79,
          80,
          81,
          82,
          83,
          84,
          85,
          86,
          87,
          88,
          89,
          90,
          91,
          92,
          93,
          94,
          95,
          96,
          97,
          98,
          99
         ],
         "y": [
          100,
          96.42857142857143,
          100,
          96.42857142857143,
          96.42857142857143,
          96.42857142857143,
          100,
          96.42857142857143,
          96.42857142857143,
          100,
          96.42857142857143,
          96.42857142857143,
          96.42857142857143,
          96.42857142857143,
          96.42857142857143,
          96.42857142857143,
          96.42857142857143,
          96.42857142857143,
          100,
          96.42857142857143,
          96.42857142857143,
          100,
          100,
          96.42857142857143,
          96.42857142857143,
          100,
          96.42857142857143,
          96.42857142857143,
          100,
          96.42857142857143,
          96.42857142857143,
          96.42857142857143,
          96.42857142857143,
          96.42857142857143,
          96.42857142857143,
          96.42857142857143,
          96.42857142857143,
          100,
          96.42857142857143,
          96.42857142857143,
          100,
          100,
          96.42857142857143,
          96.42857142857143,
          96.42857142857143,
          96.42857142857143,
          100,
          96.42857142857143,
          100,
          96.42857142857143,
          96.42857142857143,
          96.42857142857143,
          96.42857142857143,
          100,
          100,
          96.42857142857143,
          96.42857142857143,
          96.42857142857143,
          96.42857142857143,
          100,
          96.42857142857143,
          100,
          100,
          96.42857142857143,
          100,
          96.42857142857143,
          96.42857142857143,
          96.42857142857143,
          96.42857142857143,
          100,
          100,
          96.42857142857143,
          96.42857142857143,
          96.42857142857143,
          100,
          96.42857142857143,
          100,
          96.42857142857143,
          96.42857142857143,
          96.42857142857143,
          96.42857142857143,
          100,
          100,
          96.42857142857143,
          100,
          96.42857142857143,
          100,
          100,
          96.42857142857143,
          96.42857142857143,
          96.42857142857143,
          96.42857142857143,
          100,
          100,
          96.42857142857143,
          92.85714285714286,
          96.42857142857143,
          96.42857142857143,
          96.42857142857143,
          96.42857142857143
         ]
        },
        {
         "marker": {
          "color": "steelblue",
          "size": 8
         },
         "mode": "markers",
         "name": "",
         "type": "scatter",
         "x": [
          0,
          99
         ],
         "y": [
          100,
          96.42857142857143
         ]
        },
        {
         "line": {
          "color": "purple",
          "width": 2
         },
         "name": "inversion_mutation",
         "type": "scatter",
         "x": [
          0,
          1,
          2,
          3,
          4,
          5,
          6,
          7,
          8,
          9,
          10,
          11,
          12,
          13,
          14,
          15,
          16,
          17,
          18,
          19,
          20,
          21,
          22,
          23,
          24,
          25,
          26,
          27,
          28,
          29,
          30,
          31,
          32,
          33,
          34,
          35,
          36,
          37,
          38,
          39,
          40,
          41,
          42,
          43,
          44,
          45,
          46,
          47,
          48,
          49,
          50,
          51,
          52,
          53,
          54,
          55,
          56,
          57,
          58,
          59,
          60,
          61,
          62,
          63,
          64,
          65,
          66,
          67,
          68,
          69,
          70,
          71,
          72,
          73,
          74,
          75,
          76,
          77,
          78,
          79,
          80,
          81,
          82,
          83,
          84,
          85,
          86,
          87,
          88,
          89,
          90,
          91,
          92,
          93,
          94,
          95,
          96,
          97,
          98,
          99
         ],
         "y": [
          96.42857142857143,
          96.42857142857143,
          100,
          100,
          100,
          100,
          96.42857142857143,
          96.42857142857143,
          100,
          96.42857142857143,
          100,
          100,
          96.42857142857143,
          100,
          96.42857142857143,
          100,
          96.42857142857143,
          100,
          100,
          96.42857142857143,
          96.42857142857143,
          96.42857142857143,
          100,
          96.42857142857143,
          96.42857142857143,
          96.42857142857143,
          96.42857142857143,
          96.42857142857143,
          96.42857142857143,
          100,
          96.42857142857143,
          100,
          96.42857142857143,
          96.42857142857143,
          96.42857142857143,
          96.42857142857143,
          96.42857142857143,
          96.42857142857143,
          100,
          100,
          96.42857142857143,
          100,
          100,
          100,
          96.42857142857143,
          100,
          96.42857142857143,
          100,
          100,
          96.42857142857143,
          96.42857142857143,
          100,
          100,
          96.42857142857143,
          100,
          96.42857142857143,
          96.42857142857143,
          100,
          100,
          96.42857142857143,
          96.42857142857143,
          100,
          100,
          96.42857142857143,
          96.42857142857143,
          96.42857142857143,
          96.42857142857143,
          100,
          100,
          96.42857142857143,
          96.42857142857143,
          96.42857142857143,
          96.42857142857143,
          96.42857142857143,
          96.42857142857143,
          96.42857142857143,
          100,
          100,
          100,
          96.42857142857143,
          96.42857142857143,
          96.42857142857143,
          100,
          100,
          100,
          96.42857142857143,
          96.42857142857143,
          96.42857142857143,
          96.42857142857143,
          96.42857142857143,
          96.42857142857143,
          100,
          96.42857142857143,
          96.42857142857143,
          96.42857142857143,
          100,
          100,
          96.42857142857143,
          96.42857142857143,
          96.42857142857143
         ]
        },
        {
         "marker": {
          "color": "purple",
          "size": 8
         },
         "mode": "markers",
         "name": "",
         "type": "scatter",
         "x": [
          0,
          99
         ],
         "y": [
          96.42857142857143,
          96.42857142857143
         ]
        }
       ],
       "layout": {
        "font": {
         "family": "Verdana",
         "size": 14
        },
        "template": {
         "data": {
          "bar": [
           {
            "error_x": {
             "color": "#2a3f5f"
            },
            "error_y": {
             "color": "#2a3f5f"
            },
            "marker": {
             "line": {
              "color": "white",
              "width": 0.5
             },
             "pattern": {
              "fillmode": "overlay",
              "size": 10,
              "solidity": 0.2
             }
            },
            "type": "bar"
           }
          ],
          "barpolar": [
           {
            "marker": {
             "line": {
              "color": "white",
              "width": 0.5
             },
             "pattern": {
              "fillmode": "overlay",
              "size": 10,
              "solidity": 0.2
             }
            },
            "type": "barpolar"
           }
          ],
          "carpet": [
           {
            "aaxis": {
             "endlinecolor": "#2a3f5f",
             "gridcolor": "#C8D4E3",
             "linecolor": "#C8D4E3",
             "minorgridcolor": "#C8D4E3",
             "startlinecolor": "#2a3f5f"
            },
            "baxis": {
             "endlinecolor": "#2a3f5f",
             "gridcolor": "#C8D4E3",
             "linecolor": "#C8D4E3",
             "minorgridcolor": "#C8D4E3",
             "startlinecolor": "#2a3f5f"
            },
            "type": "carpet"
           }
          ],
          "choropleth": [
           {
            "colorbar": {
             "outlinewidth": 0,
             "ticks": ""
            },
            "type": "choropleth"
           }
          ],
          "contour": [
           {
            "colorbar": {
             "outlinewidth": 0,
             "ticks": ""
            },
            "colorscale": [
             [
              0,
              "#0d0887"
             ],
             [
              0.1111111111111111,
              "#46039f"
             ],
             [
              0.2222222222222222,
              "#7201a8"
             ],
             [
              0.3333333333333333,
              "#9c179e"
             ],
             [
              0.4444444444444444,
              "#bd3786"
             ],
             [
              0.5555555555555556,
              "#d8576b"
             ],
             [
              0.6666666666666666,
              "#ed7953"
             ],
             [
              0.7777777777777778,
              "#fb9f3a"
             ],
             [
              0.8888888888888888,
              "#fdca26"
             ],
             [
              1,
              "#f0f921"
             ]
            ],
            "type": "contour"
           }
          ],
          "contourcarpet": [
           {
            "colorbar": {
             "outlinewidth": 0,
             "ticks": ""
            },
            "type": "contourcarpet"
           }
          ],
          "heatmap": [
           {
            "colorbar": {
             "outlinewidth": 0,
             "ticks": ""
            },
            "colorscale": [
             [
              0,
              "#0d0887"
             ],
             [
              0.1111111111111111,
              "#46039f"
             ],
             [
              0.2222222222222222,
              "#7201a8"
             ],
             [
              0.3333333333333333,
              "#9c179e"
             ],
             [
              0.4444444444444444,
              "#bd3786"
             ],
             [
              0.5555555555555556,
              "#d8576b"
             ],
             [
              0.6666666666666666,
              "#ed7953"
             ],
             [
              0.7777777777777778,
              "#fb9f3a"
             ],
             [
              0.8888888888888888,
              "#fdca26"
             ],
             [
              1,
              "#f0f921"
             ]
            ],
            "type": "heatmap"
           }
          ],
          "heatmapgl": [
           {
            "colorbar": {
             "outlinewidth": 0,
             "ticks": ""
            },
            "colorscale": [
             [
              0,
              "#0d0887"
             ],
             [
              0.1111111111111111,
              "#46039f"
             ],
             [
              0.2222222222222222,
              "#7201a8"
             ],
             [
              0.3333333333333333,
              "#9c179e"
             ],
             [
              0.4444444444444444,
              "#bd3786"
             ],
             [
              0.5555555555555556,
              "#d8576b"
             ],
             [
              0.6666666666666666,
              "#ed7953"
             ],
             [
              0.7777777777777778,
              "#fb9f3a"
             ],
             [
              0.8888888888888888,
              "#fdca26"
             ],
             [
              1,
              "#f0f921"
             ]
            ],
            "type": "heatmapgl"
           }
          ],
          "histogram": [
           {
            "marker": {
             "pattern": {
              "fillmode": "overlay",
              "size": 10,
              "solidity": 0.2
             }
            },
            "type": "histogram"
           }
          ],
          "histogram2d": [
           {
            "colorbar": {
             "outlinewidth": 0,
             "ticks": ""
            },
            "colorscale": [
             [
              0,
              "#0d0887"
             ],
             [
              0.1111111111111111,
              "#46039f"
             ],
             [
              0.2222222222222222,
              "#7201a8"
             ],
             [
              0.3333333333333333,
              "#9c179e"
             ],
             [
              0.4444444444444444,
              "#bd3786"
             ],
             [
              0.5555555555555556,
              "#d8576b"
             ],
             [
              0.6666666666666666,
              "#ed7953"
             ],
             [
              0.7777777777777778,
              "#fb9f3a"
             ],
             [
              0.8888888888888888,
              "#fdca26"
             ],
             [
              1,
              "#f0f921"
             ]
            ],
            "type": "histogram2d"
           }
          ],
          "histogram2dcontour": [
           {
            "colorbar": {
             "outlinewidth": 0,
             "ticks": ""
            },
            "colorscale": [
             [
              0,
              "#0d0887"
             ],
             [
              0.1111111111111111,
              "#46039f"
             ],
             [
              0.2222222222222222,
              "#7201a8"
             ],
             [
              0.3333333333333333,
              "#9c179e"
             ],
             [
              0.4444444444444444,
              "#bd3786"
             ],
             [
              0.5555555555555556,
              "#d8576b"
             ],
             [
              0.6666666666666666,
              "#ed7953"
             ],
             [
              0.7777777777777778,
              "#fb9f3a"
             ],
             [
              0.8888888888888888,
              "#fdca26"
             ],
             [
              1,
              "#f0f921"
             ]
            ],
            "type": "histogram2dcontour"
           }
          ],
          "mesh3d": [
           {
            "colorbar": {
             "outlinewidth": 0,
             "ticks": ""
            },
            "type": "mesh3d"
           }
          ],
          "parcoords": [
           {
            "line": {
             "colorbar": {
              "outlinewidth": 0,
              "ticks": ""
             }
            },
            "type": "parcoords"
           }
          ],
          "pie": [
           {
            "automargin": true,
            "type": "pie"
           }
          ],
          "scatter": [
           {
            "fillpattern": {
             "fillmode": "overlay",
             "size": 10,
             "solidity": 0.2
            },
            "type": "scatter"
           }
          ],
          "scatter3d": [
           {
            "line": {
             "colorbar": {
              "outlinewidth": 0,
              "ticks": ""
             }
            },
            "marker": {
             "colorbar": {
              "outlinewidth": 0,
              "ticks": ""
             }
            },
            "type": "scatter3d"
           }
          ],
          "scattercarpet": [
           {
            "marker": {
             "colorbar": {
              "outlinewidth": 0,
              "ticks": ""
             }
            },
            "type": "scattercarpet"
           }
          ],
          "scattergeo": [
           {
            "marker": {
             "colorbar": {
              "outlinewidth": 0,
              "ticks": ""
             }
            },
            "type": "scattergeo"
           }
          ],
          "scattergl": [
           {
            "marker": {
             "colorbar": {
              "outlinewidth": 0,
              "ticks": ""
             }
            },
            "type": "scattergl"
           }
          ],
          "scattermapbox": [
           {
            "marker": {
             "colorbar": {
              "outlinewidth": 0,
              "ticks": ""
             }
            },
            "type": "scattermapbox"
           }
          ],
          "scatterpolar": [
           {
            "marker": {
             "colorbar": {
              "outlinewidth": 0,
              "ticks": ""
             }
            },
            "type": "scatterpolar"
           }
          ],
          "scatterpolargl": [
           {
            "marker": {
             "colorbar": {
              "outlinewidth": 0,
              "ticks": ""
             }
            },
            "type": "scatterpolargl"
           }
          ],
          "scatterternary": [
           {
            "marker": {
             "colorbar": {
              "outlinewidth": 0,
              "ticks": ""
             }
            },
            "type": "scatterternary"
           }
          ],
          "surface": [
           {
            "colorbar": {
             "outlinewidth": 0,
             "ticks": ""
            },
            "colorscale": [
             [
              0,
              "#0d0887"
             ],
             [
              0.1111111111111111,
              "#46039f"
             ],
             [
              0.2222222222222222,
              "#7201a8"
             ],
             [
              0.3333333333333333,
              "#9c179e"
             ],
             [
              0.4444444444444444,
              "#bd3786"
             ],
             [
              0.5555555555555556,
              "#d8576b"
             ],
             [
              0.6666666666666666,
              "#ed7953"
             ],
             [
              0.7777777777777778,
              "#fb9f3a"
             ],
             [
              0.8888888888888888,
              "#fdca26"
             ],
             [
              1,
              "#f0f921"
             ]
            ],
            "type": "surface"
           }
          ],
          "table": [
           {
            "cells": {
             "fill": {
              "color": "#EBF0F8"
             },
             "line": {
              "color": "white"
             }
            },
            "header": {
             "fill": {
              "color": "#C8D4E3"
             },
             "line": {
              "color": "white"
             }
            },
            "type": "table"
           }
          ]
         },
         "layout": {
          "annotationdefaults": {
           "arrowcolor": "#2a3f5f",
           "arrowhead": 0,
           "arrowwidth": 1
          },
          "autotypenumbers": "strict",
          "coloraxis": {
           "colorbar": {
            "outlinewidth": 0,
            "ticks": ""
           }
          },
          "colorscale": {
           "diverging": [
            [
             0,
             "#8e0152"
            ],
            [
             0.1,
             "#c51b7d"
            ],
            [
             0.2,
             "#de77ae"
            ],
            [
             0.3,
             "#f1b6da"
            ],
            [
             0.4,
             "#fde0ef"
            ],
            [
             0.5,
             "#f7f7f7"
            ],
            [
             0.6,
             "#e6f5d0"
            ],
            [
             0.7,
             "#b8e186"
            ],
            [
             0.8,
             "#7fbc41"
            ],
            [
             0.9,
             "#4d9221"
            ],
            [
             1,
             "#276419"
            ]
           ],
           "sequential": [
            [
             0,
             "#0d0887"
            ],
            [
             0.1111111111111111,
             "#46039f"
            ],
            [
             0.2222222222222222,
             "#7201a8"
            ],
            [
             0.3333333333333333,
             "#9c179e"
            ],
            [
             0.4444444444444444,
             "#bd3786"
            ],
            [
             0.5555555555555556,
             "#d8576b"
            ],
            [
             0.6666666666666666,
             "#ed7953"
            ],
            [
             0.7777777777777778,
             "#fb9f3a"
            ],
            [
             0.8888888888888888,
             "#fdca26"
            ],
            [
             1,
             "#f0f921"
            ]
           ],
           "sequentialminus": [
            [
             0,
             "#0d0887"
            ],
            [
             0.1111111111111111,
             "#46039f"
            ],
            [
             0.2222222222222222,
             "#7201a8"
            ],
            [
             0.3333333333333333,
             "#9c179e"
            ],
            [
             0.4444444444444444,
             "#bd3786"
            ],
            [
             0.5555555555555556,
             "#d8576b"
            ],
            [
             0.6666666666666666,
             "#ed7953"
            ],
            [
             0.7777777777777778,
             "#fb9f3a"
            ],
            [
             0.8888888888888888,
             "#fdca26"
            ],
            [
             1,
             "#f0f921"
            ]
           ]
          },
          "colorway": [
           "#636efa",
           "#EF553B",
           "#00cc96",
           "#ab63fa",
           "#FFA15A",
           "#19d3f3",
           "#FF6692",
           "#B6E880",
           "#FF97FF",
           "#FECB52"
          ],
          "font": {
           "color": "#2a3f5f"
          },
          "geo": {
           "bgcolor": "white",
           "lakecolor": "white",
           "landcolor": "white",
           "showlakes": true,
           "showland": true,
           "subunitcolor": "#C8D4E3"
          },
          "hoverlabel": {
           "align": "left"
          },
          "hovermode": "closest",
          "mapbox": {
           "style": "light"
          },
          "paper_bgcolor": "white",
          "plot_bgcolor": "white",
          "polar": {
           "angularaxis": {
            "gridcolor": "#EBF0F8",
            "linecolor": "#EBF0F8",
            "ticks": ""
           },
           "bgcolor": "white",
           "radialaxis": {
            "gridcolor": "#EBF0F8",
            "linecolor": "#EBF0F8",
            "ticks": ""
           }
          },
          "scene": {
           "xaxis": {
            "backgroundcolor": "white",
            "gridcolor": "#DFE8F3",
            "gridwidth": 2,
            "linecolor": "#EBF0F8",
            "showbackground": true,
            "ticks": "",
            "zerolinecolor": "#EBF0F8"
           },
           "yaxis": {
            "backgroundcolor": "white",
            "gridcolor": "#DFE8F3",
            "gridwidth": 2,
            "linecolor": "#EBF0F8",
            "showbackground": true,
            "ticks": "",
            "zerolinecolor": "#EBF0F8"
           },
           "zaxis": {
            "backgroundcolor": "white",
            "gridcolor": "#DFE8F3",
            "gridwidth": 2,
            "linecolor": "#EBF0F8",
            "showbackground": true,
            "ticks": "",
            "zerolinecolor": "#EBF0F8"
           }
          },
          "shapedefaults": {
           "line": {
            "color": "#2a3f5f"
           }
          },
          "ternary": {
           "aaxis": {
            "gridcolor": "#DFE8F3",
            "linecolor": "#A2B1C6",
            "ticks": ""
           },
           "baxis": {
            "gridcolor": "#DFE8F3",
            "linecolor": "#A2B1C6",
            "ticks": ""
           },
           "bgcolor": "white",
           "caxis": {
            "gridcolor": "#DFE8F3",
            "linecolor": "#A2B1C6",
            "ticks": ""
           }
          },
          "title": {
           "x": 0.05
          },
          "xaxis": {
           "automargin": true,
           "gridcolor": "#EBF0F8",
           "linecolor": "#EBF0F8",
           "ticks": "",
           "title": {
            "standoff": 15
           },
           "zerolinecolor": "#EBF0F8",
           "zerolinewidth": 2
          },
          "yaxis": {
           "automargin": true,
           "gridcolor": "#EBF0F8",
           "linecolor": "#EBF0F8",
           "ticks": "",
           "title": {
            "standoff": 15
           },
           "zerolinecolor": "#EBF0F8",
           "zerolinewidth": 2
          }
         }
        },
        "title": {
         "text": "Fitness Comparison"
        },
        "xaxis": {
         "linewidth": 1.5,
         "showgrid": true,
         "showline": true,
         "showticklabels": true,
         "tickfont": {
          "color": "#000000",
          "family": "Verdana",
          "size": 11
         },
         "ticks": "outside",
         "title": {
          "text": "Iterations"
         }
        },
        "yaxis": {
         "showgrid": true,
         "showline": false,
         "showticklabels": true,
         "tickfont": {
          "color": "#000000",
          "family": "Verdana",
          "size": 11
         },
         "ticks": "outside",
         "title": {
          "text": "Fitness"
         },
         "zeroline": false
        }
       }
      }
     },
     "metadata": {},
     "output_type": "display_data"
    },
    {
     "data": {
      "application/vnd.plotly.v1+json": {
       "config": {
        "plotlyServerURL": "https://plot.ly"
       },
       "data": [
        {
         "line": {
          "color": "gray",
          "width": 2
         },
         "name": "swap_mutation",
         "type": "scatter",
         "x": [
          0,
          1,
          2,
          3,
          4,
          5,
          6,
          7,
          8,
          9,
          10,
          11,
          12,
          13,
          14,
          15,
          16,
          17,
          18,
          19,
          20,
          21,
          22,
          23,
          24,
          25,
          26,
          27,
          28,
          29,
          30,
          31,
          32,
          33,
          34,
          35,
          36,
          37,
          38,
          39,
          40,
          41,
          42,
          43,
          44,
          45,
          46,
          47,
          48,
          49,
          50,
          51,
          52,
          53,
          54,
          55,
          56,
          57,
          58,
          59,
          60,
          61,
          62,
          63,
          64,
          65,
          66,
          67,
          68,
          69,
          70,
          71,
          72,
          73,
          74,
          75,
          76,
          77,
          78,
          79,
          80,
          81,
          82,
          83,
          84,
          85,
          86,
          87,
          88,
          89,
          90,
          91,
          92,
          93,
          94,
          95,
          96,
          97,
          98,
          99
         ],
         "y": [
          22,
          20,
          18,
          18,
          19,
          18,
          19,
          19,
          19,
          19,
          19,
          19,
          18,
          18,
          19,
          19,
          18,
          18,
          18,
          18,
          18,
          19,
          18,
          18,
          19,
          19,
          19,
          18,
          18,
          18,
          18,
          18,
          18,
          18,
          18,
          18,
          18,
          18,
          18,
          18,
          18,
          18,
          19,
          18,
          19,
          18,
          18,
          18,
          18,
          18,
          19,
          19,
          19,
          19,
          19,
          18,
          19,
          18,
          18,
          19,
          18,
          19,
          19,
          19,
          18,
          18,
          18,
          18,
          19,
          19,
          19,
          18,
          18,
          18,
          18,
          18,
          19,
          19,
          18,
          19,
          18,
          19,
          18,
          18,
          19,
          18,
          19,
          18,
          19,
          19,
          18,
          19,
          19,
          18,
          18,
          18,
          18,
          19,
          19,
          19
         ]
        },
        {
         "marker": {
          "color": "gray",
          "size": 8
         },
         "mode": "markers",
         "name": "",
         "type": "scatter",
         "x": [
          0,
          99
         ],
         "y": [
          22,
          19
         ]
        },
        {
         "line": {
          "color": "steelblue",
          "width": 2
         },
         "name": "random_mutation",
         "type": "scatter",
         "x": [
          0,
          1,
          2,
          3,
          4,
          5,
          6,
          7,
          8,
          9,
          10,
          11,
          12,
          13,
          14,
          15,
          16,
          17,
          18,
          19,
          20,
          21,
          22,
          23,
          24,
          25,
          26,
          27,
          28,
          29,
          30,
          31,
          32,
          33,
          34,
          35,
          36,
          37,
          38,
          39,
          40,
          41,
          42,
          43,
          44,
          45,
          46,
          47,
          48,
          49,
          50,
          51,
          52,
          53,
          54,
          55,
          56,
          57,
          58,
          59,
          60,
          61,
          62,
          63,
          64,
          65,
          66,
          67,
          68,
          69,
          70,
          71,
          72,
          73,
          74,
          75,
          76,
          77,
          78,
          79,
          80,
          81,
          82,
          83,
          84,
          85,
          86,
          87,
          88,
          89,
          90,
          91,
          92,
          93,
          94,
          95,
          96,
          97,
          98,
          99
         ],
         "y": [
          19,
          19,
          19,
          19,
          19,
          19,
          19,
          19,
          19,
          19,
          19,
          19,
          18,
          19,
          19,
          19,
          19,
          19,
          19,
          19,
          19,
          19,
          19,
          19,
          19,
          19,
          18,
          18,
          18,
          19,
          18,
          19,
          19,
          18,
          18,
          19,
          19,
          18,
          19,
          18,
          19,
          19,
          19,
          18,
          19,
          19,
          18,
          19,
          19,
          19,
          19,
          19,
          19,
          19,
          18,
          18,
          18,
          18,
          19,
          18,
          18,
          18,
          18,
          19,
          18,
          18,
          19,
          19,
          19,
          18,
          19,
          19,
          19,
          19,
          19,
          19,
          19,
          18,
          19,
          18,
          19,
          20,
          19,
          19,
          19,
          19,
          20,
          20,
          19,
          19,
          19,
          20,
          19,
          19,
          19,
          19,
          19,
          19,
          19,
          19
         ]
        },
        {
         "marker": {
          "color": "steelblue",
          "size": 8
         },
         "mode": "markers",
         "name": "",
         "type": "scatter",
         "x": [
          0,
          99
         ],
         "y": [
          19,
          19
         ]
        },
        {
         "line": {
          "color": "purple",
          "width": 2
         },
         "name": "inversion_mutation",
         "type": "scatter",
         "x": [
          0,
          1,
          2,
          3,
          4,
          5,
          6,
          7,
          8,
          9,
          10,
          11,
          12,
          13,
          14,
          15,
          16,
          17,
          18,
          19,
          20,
          21,
          22,
          23,
          24,
          25,
          26,
          27,
          28,
          29,
          30,
          31,
          32,
          33,
          34,
          35,
          36,
          37,
          38,
          39,
          40,
          41,
          42,
          43,
          44,
          45,
          46,
          47,
          48,
          49,
          50,
          51,
          52,
          53,
          54,
          55,
          56,
          57,
          58,
          59,
          60,
          61,
          62,
          63,
          64,
          65,
          66,
          67,
          68,
          69,
          70,
          71,
          72,
          73,
          74,
          75,
          76,
          77,
          78,
          79,
          80,
          81,
          82,
          83,
          84,
          85,
          86,
          87,
          88,
          89,
          90,
          91,
          92,
          93,
          94,
          95,
          96,
          97,
          98,
          99
         ],
         "y": [
          19,
          19,
          18,
          18,
          18,
          18,
          19,
          19,
          18,
          18,
          18,
          18,
          18,
          18,
          19,
          19,
          19,
          18,
          18,
          19,
          19,
          19,
          19,
          21,
          20,
          19,
          19,
          19,
          19,
          19,
          19,
          19,
          19,
          19,
          19,
          19,
          19,
          19,
          19,
          19,
          18,
          19,
          19,
          19,
          18,
          19,
          18,
          19,
          19,
          19,
          18,
          19,
          18,
          19,
          18,
          18,
          18,
          18,
          19,
          19,
          18,
          18,
          18,
          18,
          19,
          19,
          18,
          18,
          18,
          18,
          18,
          18,
          18,
          18,
          18,
          18,
          18,
          18,
          19,
          19,
          19,
          18,
          18,
          18,
          18,
          18,
          18,
          18,
          19,
          19,
          18,
          19,
          19,
          19,
          18,
          18,
          19,
          19,
          19,
          19
         ]
        },
        {
         "marker": {
          "color": "purple",
          "size": 8
         },
         "mode": "markers",
         "name": "",
         "type": "scatter",
         "x": [
          0,
          99
         ],
         "y": [
          19,
          19
         ]
        }
       ],
       "layout": {
        "font": {
         "family": "Verdana",
         "size": 14
        },
        "template": {
         "data": {
          "bar": [
           {
            "error_x": {
             "color": "#2a3f5f"
            },
            "error_y": {
             "color": "#2a3f5f"
            },
            "marker": {
             "line": {
              "color": "white",
              "width": 0.5
             },
             "pattern": {
              "fillmode": "overlay",
              "size": 10,
              "solidity": 0.2
             }
            },
            "type": "bar"
           }
          ],
          "barpolar": [
           {
            "marker": {
             "line": {
              "color": "white",
              "width": 0.5
             },
             "pattern": {
              "fillmode": "overlay",
              "size": 10,
              "solidity": 0.2
             }
            },
            "type": "barpolar"
           }
          ],
          "carpet": [
           {
            "aaxis": {
             "endlinecolor": "#2a3f5f",
             "gridcolor": "#C8D4E3",
             "linecolor": "#C8D4E3",
             "minorgridcolor": "#C8D4E3",
             "startlinecolor": "#2a3f5f"
            },
            "baxis": {
             "endlinecolor": "#2a3f5f",
             "gridcolor": "#C8D4E3",
             "linecolor": "#C8D4E3",
             "minorgridcolor": "#C8D4E3",
             "startlinecolor": "#2a3f5f"
            },
            "type": "carpet"
           }
          ],
          "choropleth": [
           {
            "colorbar": {
             "outlinewidth": 0,
             "ticks": ""
            },
            "type": "choropleth"
           }
          ],
          "contour": [
           {
            "colorbar": {
             "outlinewidth": 0,
             "ticks": ""
            },
            "colorscale": [
             [
              0,
              "#0d0887"
             ],
             [
              0.1111111111111111,
              "#46039f"
             ],
             [
              0.2222222222222222,
              "#7201a8"
             ],
             [
              0.3333333333333333,
              "#9c179e"
             ],
             [
              0.4444444444444444,
              "#bd3786"
             ],
             [
              0.5555555555555556,
              "#d8576b"
             ],
             [
              0.6666666666666666,
              "#ed7953"
             ],
             [
              0.7777777777777778,
              "#fb9f3a"
             ],
             [
              0.8888888888888888,
              "#fdca26"
             ],
             [
              1,
              "#f0f921"
             ]
            ],
            "type": "contour"
           }
          ],
          "contourcarpet": [
           {
            "colorbar": {
             "outlinewidth": 0,
             "ticks": ""
            },
            "type": "contourcarpet"
           }
          ],
          "heatmap": [
           {
            "colorbar": {
             "outlinewidth": 0,
             "ticks": ""
            },
            "colorscale": [
             [
              0,
              "#0d0887"
             ],
             [
              0.1111111111111111,
              "#46039f"
             ],
             [
              0.2222222222222222,
              "#7201a8"
             ],
             [
              0.3333333333333333,
              "#9c179e"
             ],
             [
              0.4444444444444444,
              "#bd3786"
             ],
             [
              0.5555555555555556,
              "#d8576b"
             ],
             [
              0.6666666666666666,
              "#ed7953"
             ],
             [
              0.7777777777777778,
              "#fb9f3a"
             ],
             [
              0.8888888888888888,
              "#fdca26"
             ],
             [
              1,
              "#f0f921"
             ]
            ],
            "type": "heatmap"
           }
          ],
          "heatmapgl": [
           {
            "colorbar": {
             "outlinewidth": 0,
             "ticks": ""
            },
            "colorscale": [
             [
              0,
              "#0d0887"
             ],
             [
              0.1111111111111111,
              "#46039f"
             ],
             [
              0.2222222222222222,
              "#7201a8"
             ],
             [
              0.3333333333333333,
              "#9c179e"
             ],
             [
              0.4444444444444444,
              "#bd3786"
             ],
             [
              0.5555555555555556,
              "#d8576b"
             ],
             [
              0.6666666666666666,
              "#ed7953"
             ],
             [
              0.7777777777777778,
              "#fb9f3a"
             ],
             [
              0.8888888888888888,
              "#fdca26"
             ],
             [
              1,
              "#f0f921"
             ]
            ],
            "type": "heatmapgl"
           }
          ],
          "histogram": [
           {
            "marker": {
             "pattern": {
              "fillmode": "overlay",
              "size": 10,
              "solidity": 0.2
             }
            },
            "type": "histogram"
           }
          ],
          "histogram2d": [
           {
            "colorbar": {
             "outlinewidth": 0,
             "ticks": ""
            },
            "colorscale": [
             [
              0,
              "#0d0887"
             ],
             [
              0.1111111111111111,
              "#46039f"
             ],
             [
              0.2222222222222222,
              "#7201a8"
             ],
             [
              0.3333333333333333,
              "#9c179e"
             ],
             [
              0.4444444444444444,
              "#bd3786"
             ],
             [
              0.5555555555555556,
              "#d8576b"
             ],
             [
              0.6666666666666666,
              "#ed7953"
             ],
             [
              0.7777777777777778,
              "#fb9f3a"
             ],
             [
              0.8888888888888888,
              "#fdca26"
             ],
             [
              1,
              "#f0f921"
             ]
            ],
            "type": "histogram2d"
           }
          ],
          "histogram2dcontour": [
           {
            "colorbar": {
             "outlinewidth": 0,
             "ticks": ""
            },
            "colorscale": [
             [
              0,
              "#0d0887"
             ],
             [
              0.1111111111111111,
              "#46039f"
             ],
             [
              0.2222222222222222,
              "#7201a8"
             ],
             [
              0.3333333333333333,
              "#9c179e"
             ],
             [
              0.4444444444444444,
              "#bd3786"
             ],
             [
              0.5555555555555556,
              "#d8576b"
             ],
             [
              0.6666666666666666,
              "#ed7953"
             ],
             [
              0.7777777777777778,
              "#fb9f3a"
             ],
             [
              0.8888888888888888,
              "#fdca26"
             ],
             [
              1,
              "#f0f921"
             ]
            ],
            "type": "histogram2dcontour"
           }
          ],
          "mesh3d": [
           {
            "colorbar": {
             "outlinewidth": 0,
             "ticks": ""
            },
            "type": "mesh3d"
           }
          ],
          "parcoords": [
           {
            "line": {
             "colorbar": {
              "outlinewidth": 0,
              "ticks": ""
             }
            },
            "type": "parcoords"
           }
          ],
          "pie": [
           {
            "automargin": true,
            "type": "pie"
           }
          ],
          "scatter": [
           {
            "fillpattern": {
             "fillmode": "overlay",
             "size": 10,
             "solidity": 0.2
            },
            "type": "scatter"
           }
          ],
          "scatter3d": [
           {
            "line": {
             "colorbar": {
              "outlinewidth": 0,
              "ticks": ""
             }
            },
            "marker": {
             "colorbar": {
              "outlinewidth": 0,
              "ticks": ""
             }
            },
            "type": "scatter3d"
           }
          ],
          "scattercarpet": [
           {
            "marker": {
             "colorbar": {
              "outlinewidth": 0,
              "ticks": ""
             }
            },
            "type": "scattercarpet"
           }
          ],
          "scattergeo": [
           {
            "marker": {
             "colorbar": {
              "outlinewidth": 0,
              "ticks": ""
             }
            },
            "type": "scattergeo"
           }
          ],
          "scattergl": [
           {
            "marker": {
             "colorbar": {
              "outlinewidth": 0,
              "ticks": ""
             }
            },
            "type": "scattergl"
           }
          ],
          "scattermapbox": [
           {
            "marker": {
             "colorbar": {
              "outlinewidth": 0,
              "ticks": ""
             }
            },
            "type": "scattermapbox"
           }
          ],
          "scatterpolar": [
           {
            "marker": {
             "colorbar": {
              "outlinewidth": 0,
              "ticks": ""
             }
            },
            "type": "scatterpolar"
           }
          ],
          "scatterpolargl": [
           {
            "marker": {
             "colorbar": {
              "outlinewidth": 0,
              "ticks": ""
             }
            },
            "type": "scatterpolargl"
           }
          ],
          "scatterternary": [
           {
            "marker": {
             "colorbar": {
              "outlinewidth": 0,
              "ticks": ""
             }
            },
            "type": "scatterternary"
           }
          ],
          "surface": [
           {
            "colorbar": {
             "outlinewidth": 0,
             "ticks": ""
            },
            "colorscale": [
             [
              0,
              "#0d0887"
             ],
             [
              0.1111111111111111,
              "#46039f"
             ],
             [
              0.2222222222222222,
              "#7201a8"
             ],
             [
              0.3333333333333333,
              "#9c179e"
             ],
             [
              0.4444444444444444,
              "#bd3786"
             ],
             [
              0.5555555555555556,
              "#d8576b"
             ],
             [
              0.6666666666666666,
              "#ed7953"
             ],
             [
              0.7777777777777778,
              "#fb9f3a"
             ],
             [
              0.8888888888888888,
              "#fdca26"
             ],
             [
              1,
              "#f0f921"
             ]
            ],
            "type": "surface"
           }
          ],
          "table": [
           {
            "cells": {
             "fill": {
              "color": "#EBF0F8"
             },
             "line": {
              "color": "white"
             }
            },
            "header": {
             "fill": {
              "color": "#C8D4E3"
             },
             "line": {
              "color": "white"
             }
            },
            "type": "table"
           }
          ]
         },
         "layout": {
          "annotationdefaults": {
           "arrowcolor": "#2a3f5f",
           "arrowhead": 0,
           "arrowwidth": 1
          },
          "autotypenumbers": "strict",
          "coloraxis": {
           "colorbar": {
            "outlinewidth": 0,
            "ticks": ""
           }
          },
          "colorscale": {
           "diverging": [
            [
             0,
             "#8e0152"
            ],
            [
             0.1,
             "#c51b7d"
            ],
            [
             0.2,
             "#de77ae"
            ],
            [
             0.3,
             "#f1b6da"
            ],
            [
             0.4,
             "#fde0ef"
            ],
            [
             0.5,
             "#f7f7f7"
            ],
            [
             0.6,
             "#e6f5d0"
            ],
            [
             0.7,
             "#b8e186"
            ],
            [
             0.8,
             "#7fbc41"
            ],
            [
             0.9,
             "#4d9221"
            ],
            [
             1,
             "#276419"
            ]
           ],
           "sequential": [
            [
             0,
             "#0d0887"
            ],
            [
             0.1111111111111111,
             "#46039f"
            ],
            [
             0.2222222222222222,
             "#7201a8"
            ],
            [
             0.3333333333333333,
             "#9c179e"
            ],
            [
             0.4444444444444444,
             "#bd3786"
            ],
            [
             0.5555555555555556,
             "#d8576b"
            ],
            [
             0.6666666666666666,
             "#ed7953"
            ],
            [
             0.7777777777777778,
             "#fb9f3a"
            ],
            [
             0.8888888888888888,
             "#fdca26"
            ],
            [
             1,
             "#f0f921"
            ]
           ],
           "sequentialminus": [
            [
             0,
             "#0d0887"
            ],
            [
             0.1111111111111111,
             "#46039f"
            ],
            [
             0.2222222222222222,
             "#7201a8"
            ],
            [
             0.3333333333333333,
             "#9c179e"
            ],
            [
             0.4444444444444444,
             "#bd3786"
            ],
            [
             0.5555555555555556,
             "#d8576b"
            ],
            [
             0.6666666666666666,
             "#ed7953"
            ],
            [
             0.7777777777777778,
             "#fb9f3a"
            ],
            [
             0.8888888888888888,
             "#fdca26"
            ],
            [
             1,
             "#f0f921"
            ]
           ]
          },
          "colorway": [
           "#636efa",
           "#EF553B",
           "#00cc96",
           "#ab63fa",
           "#FFA15A",
           "#19d3f3",
           "#FF6692",
           "#B6E880",
           "#FF97FF",
           "#FECB52"
          ],
          "font": {
           "color": "#2a3f5f"
          },
          "geo": {
           "bgcolor": "white",
           "lakecolor": "white",
           "landcolor": "white",
           "showlakes": true,
           "showland": true,
           "subunitcolor": "#C8D4E3"
          },
          "hoverlabel": {
           "align": "left"
          },
          "hovermode": "closest",
          "mapbox": {
           "style": "light"
          },
          "paper_bgcolor": "white",
          "plot_bgcolor": "white",
          "polar": {
           "angularaxis": {
            "gridcolor": "#EBF0F8",
            "linecolor": "#EBF0F8",
            "ticks": ""
           },
           "bgcolor": "white",
           "radialaxis": {
            "gridcolor": "#EBF0F8",
            "linecolor": "#EBF0F8",
            "ticks": ""
           }
          },
          "scene": {
           "xaxis": {
            "backgroundcolor": "white",
            "gridcolor": "#DFE8F3",
            "gridwidth": 2,
            "linecolor": "#EBF0F8",
            "showbackground": true,
            "ticks": "",
            "zerolinecolor": "#EBF0F8"
           },
           "yaxis": {
            "backgroundcolor": "white",
            "gridcolor": "#DFE8F3",
            "gridwidth": 2,
            "linecolor": "#EBF0F8",
            "showbackground": true,
            "ticks": "",
            "zerolinecolor": "#EBF0F8"
           },
           "zaxis": {
            "backgroundcolor": "white",
            "gridcolor": "#DFE8F3",
            "gridwidth": 2,
            "linecolor": "#EBF0F8",
            "showbackground": true,
            "ticks": "",
            "zerolinecolor": "#EBF0F8"
           }
          },
          "shapedefaults": {
           "line": {
            "color": "#2a3f5f"
           }
          },
          "ternary": {
           "aaxis": {
            "gridcolor": "#DFE8F3",
            "linecolor": "#A2B1C6",
            "ticks": ""
           },
           "baxis": {
            "gridcolor": "#DFE8F3",
            "linecolor": "#A2B1C6",
            "ticks": ""
           },
           "bgcolor": "white",
           "caxis": {
            "gridcolor": "#DFE8F3",
            "linecolor": "#A2B1C6",
            "ticks": ""
           }
          },
          "title": {
           "x": 0.05
          },
          "xaxis": {
           "automargin": true,
           "gridcolor": "#EBF0F8",
           "linecolor": "#EBF0F8",
           "ticks": "",
           "title": {
            "standoff": 15
           },
           "zerolinecolor": "#EBF0F8",
           "zerolinewidth": 2
          },
          "yaxis": {
           "automargin": true,
           "gridcolor": "#EBF0F8",
           "linecolor": "#EBF0F8",
           "ticks": "",
           "title": {
            "standoff": 15
           },
           "zerolinecolor": "#EBF0F8",
           "zerolinewidth": 2
          }
         }
        },
        "title": {
         "text": "Time Comparison"
        },
        "xaxis": {
         "linewidth": 1.5,
         "showgrid": true,
         "showline": true,
         "showticklabels": true,
         "tickfont": {
          "color": "#000000",
          "family": "Verdana",
          "size": 11
         },
         "ticks": "outside",
         "title": {
          "text": "Iterations"
         }
        },
        "yaxis": {
         "showgrid": true,
         "showline": false,
         "showticklabels": true,
         "tickfont": {
          "color": "#000000",
          "family": "Verdana",
          "size": 11
         },
         "ticks": "outside",
         "title": {
          "text": "Time (ms)"
         },
         "zeroline": false
        }
       }
      }
     },
     "metadata": {},
     "output_type": "display_data"
    }
   ],
   "source": [
    "# seed for reproducibility\n",
    "np.random.seed(0)\n",
    "\n",
    "# Define the range of values\n",
    "#xo = ['single_cross', 'cycle_cross', 'pmx', 'arithmetic_cross']\n",
    "#select = ['tournament_selection', 'stochastic_universal_sampling']\n",
    "mutation = ['swap_mutation', 'random_mutation', 'inversion_mutation']\n",
    "#population = [100, 250, 500, 1000]\n",
    "#generations = [100, 250, 500]\n",
    "#cross_percentage = np.arange(0.8, 0.95, 0.05)\n",
    "#mut_percentage = np.arange(0.01, 0.06, 0.01)\n",
    "\n",
    "param_list, df = best_operators_search('mut', mutation)\n",
    "\n",
    "# Displaying average results of the 100 iterations\n",
    "print('\\033[1mAverage results:', end='\\n')\n",
    "df['const'] = 'const'\n",
    "df_avg = df.groupby('const').mean().reset_index(drop=True).round(3)\n",
    "display(df_avg)\n",
    "\n",
    "# Getting best parameter by fitness & time\n",
    "best_param_fit = df_avg[[col for col in df_avg.columns if col.startswith('Fit_')]].idxmax(axis=1)[0].replace('Fit_', '')\n",
    "best_param_time = df_avg[[col for col in df_avg.columns if col.startswith('Time_')]].idxmin(axis=1)[0].replace('Time_', '')\n",
    "print(f'\\nBest Fitness: \\033[1m{best_param_fit}\\033[0m\\n\\nBest Time: \\033[1m{best_param_time}\\033[0m', end='\\n\\n')\n",
    "\n",
    "# Setting the best parameter as new default value\n",
    "replace_param = {'mut': best_param_fit}\n",
    "\n",
    "# Plotting results\n",
    "plot_values(data = df, colors = color_palette[:len(mutation)], layout=2, template='white', grid=True)"
   ]
  },
  {
   "attachments": {},
   "cell_type": "markdown",
   "metadata": {},
   "source": [
    "### __1.2 Crossover Operator__"
   ]
  },
  {
   "cell_type": "code",
   "execution_count": 8,
   "metadata": {},
   "outputs": [
    {
     "name": "stdout",
     "output_type": "stream",
     "text": [
      "\u001b[1mAverage results:\n"
     ]
    },
    {
     "data": {
      "text/html": [
       "<div>\n",
       "<style scoped>\n",
       "    .dataframe tbody tr th:only-of-type {\n",
       "        vertical-align: middle;\n",
       "    }\n",
       "\n",
       "    .dataframe tbody tr th {\n",
       "        vertical-align: top;\n",
       "    }\n",
       "\n",
       "    .dataframe thead th {\n",
       "        text-align: right;\n",
       "    }\n",
       "</style>\n",
       "<table border=\"1\" class=\"dataframe\">\n",
       "  <thead>\n",
       "    <tr style=\"text-align: right;\">\n",
       "      <th></th>\n",
       "      <th>Fit_single_cross</th>\n",
       "      <th>Fit_cycle_cross</th>\n",
       "      <th>Fit_pmx</th>\n",
       "      <th>Time_single_cross</th>\n",
       "      <th>Time_cycle_cross</th>\n",
       "      <th>Time_pmx</th>\n",
       "    </tr>\n",
       "  </thead>\n",
       "  <tbody>\n",
       "    <tr>\n",
       "      <th>0</th>\n",
       "      <td>98.0</td>\n",
       "      <td>99.571</td>\n",
       "      <td>99.857</td>\n",
       "      <td>18.53</td>\n",
       "      <td>20.91</td>\n",
       "      <td>20.96</td>\n",
       "    </tr>\n",
       "  </tbody>\n",
       "</table>\n",
       "</div>"
      ],
      "text/plain": [
       "   Fit_single_cross  Fit_cycle_cross  Fit_pmx  Time_single_cross   \n",
       "0              98.0           99.571   99.857              18.53  \\\n",
       "\n",
       "   Time_cycle_cross  Time_pmx  \n",
       "0             20.91     20.96  "
      ]
     },
     "metadata": {},
     "output_type": "display_data"
    },
    {
     "name": "stdout",
     "output_type": "stream",
     "text": [
      "\n",
      "Best Fitness: \u001b[1mpmx\u001b[0m\n",
      "\n",
      "Best Time: \u001b[1msingle_cross\u001b[0m\n",
      "\n"
     ]
    },
    {
     "data": {
      "application/vnd.plotly.v1+json": {
       "config": {
        "plotlyServerURL": "https://plot.ly"
       },
       "data": [
        {
         "line": {
          "color": "gray",
          "width": 2
         },
         "name": "single_cross",
         "type": "scatter",
         "x": [
          0,
          1,
          2,
          3,
          4,
          5,
          6,
          7,
          8,
          9,
          10,
          11,
          12,
          13,
          14,
          15,
          16,
          17,
          18,
          19,
          20,
          21,
          22,
          23,
          24,
          25,
          26,
          27,
          28,
          29,
          30,
          31,
          32,
          33,
          34,
          35,
          36,
          37,
          38,
          39,
          40,
          41,
          42,
          43,
          44,
          45,
          46,
          47,
          48,
          49,
          50,
          51,
          52,
          53,
          54,
          55,
          56,
          57,
          58,
          59,
          60,
          61,
          62,
          63,
          64,
          65,
          66,
          67,
          68,
          69,
          70,
          71,
          72,
          73,
          74,
          75,
          76,
          77,
          78,
          79,
          80,
          81,
          82,
          83,
          84,
          85,
          86,
          87,
          88,
          89,
          90,
          91,
          92,
          93,
          94,
          95,
          96,
          97,
          98,
          99
         ],
         "y": [
          96.42857142857143,
          100,
          96.42857142857143,
          100,
          96.42857142857143,
          100,
          100,
          96.42857142857143,
          100,
          100,
          96.42857142857143,
          96.42857142857143,
          96.42857142857143,
          100,
          96.42857142857143,
          100,
          96.42857142857143,
          100,
          96.42857142857143,
          96.42857142857143,
          96.42857142857143,
          100,
          100,
          96.42857142857143,
          96.42857142857143,
          96.42857142857143,
          100,
          96.42857142857143,
          100,
          96.42857142857143,
          100,
          100,
          100,
          96.42857142857143,
          100,
          96.42857142857143,
          96.42857142857143,
          100,
          96.42857142857143,
          96.42857142857143,
          96.42857142857143,
          96.42857142857143,
          96.42857142857143,
          96.42857142857143,
          96.42857142857143,
          96.42857142857143,
          96.42857142857143,
          96.42857142857143,
          100,
          100,
          96.42857142857143,
          96.42857142857143,
          96.42857142857143,
          100,
          96.42857142857143,
          100,
          100,
          100,
          96.42857142857143,
          100,
          96.42857142857143,
          96.42857142857143,
          96.42857142857143,
          100,
          100,
          100,
          96.42857142857143,
          96.42857142857143,
          100,
          96.42857142857143,
          100,
          100,
          96.42857142857143,
          96.42857142857143,
          100,
          96.42857142857143,
          96.42857142857143,
          100,
          100,
          96.42857142857143,
          100,
          100,
          96.42857142857143,
          100,
          96.42857142857143,
          96.42857142857143,
          96.42857142857143,
          96.42857142857143,
          100,
          96.42857142857143,
          100,
          100,
          96.42857142857143,
          96.42857142857143,
          96.42857142857143,
          100,
          100,
          100,
          96.42857142857143,
          100
         ]
        },
        {
         "marker": {
          "color": "gray",
          "size": 8
         },
         "mode": "markers",
         "name": "",
         "type": "scatter",
         "x": [
          0,
          99
         ],
         "y": [
          96.42857142857143,
          100
         ]
        },
        {
         "line": {
          "color": "steelblue",
          "width": 2
         },
         "name": "cycle_cross",
         "type": "scatter",
         "x": [
          0,
          1,
          2,
          3,
          4,
          5,
          6,
          7,
          8,
          9,
          10,
          11,
          12,
          13,
          14,
          15,
          16,
          17,
          18,
          19,
          20,
          21,
          22,
          23,
          24,
          25,
          26,
          27,
          28,
          29,
          30,
          31,
          32,
          33,
          34,
          35,
          36,
          37,
          38,
          39,
          40,
          41,
          42,
          43,
          44,
          45,
          46,
          47,
          48,
          49,
          50,
          51,
          52,
          53,
          54,
          55,
          56,
          57,
          58,
          59,
          60,
          61,
          62,
          63,
          64,
          65,
          66,
          67,
          68,
          69,
          70,
          71,
          72,
          73,
          74,
          75,
          76,
          77,
          78,
          79,
          80,
          81,
          82,
          83,
          84,
          85,
          86,
          87,
          88,
          89,
          90,
          91,
          92,
          93,
          94,
          95,
          96,
          97,
          98,
          99
         ],
         "y": [
          100,
          100,
          96.42857142857143,
          100,
          100,
          96.42857142857143,
          100,
          100,
          100,
          100,
          100,
          100,
          100,
          100,
          100,
          100,
          96.42857142857143,
          100,
          100,
          100,
          100,
          100,
          100,
          96.42857142857143,
          100,
          100,
          100,
          100,
          100,
          100,
          96.42857142857143,
          100,
          100,
          100,
          100,
          100,
          100,
          100,
          100,
          100,
          100,
          100,
          100,
          100,
          96.42857142857143,
          100,
          100,
          96.42857142857143,
          100,
          100,
          100,
          100,
          100,
          100,
          100,
          100,
          100,
          100,
          100,
          100,
          96.42857142857143,
          100,
          100,
          100,
          100,
          100,
          100,
          100,
          100,
          100,
          100,
          100,
          100,
          100,
          100,
          100,
          100,
          100,
          100,
          100,
          100,
          100,
          100,
          100,
          96.42857142857143,
          100,
          100,
          100,
          96.42857142857143,
          100,
          100,
          96.42857142857143,
          100,
          100,
          96.42857142857143,
          100,
          100,
          100,
          100,
          100
         ]
        },
        {
         "marker": {
          "color": "steelblue",
          "size": 8
         },
         "mode": "markers",
         "name": "",
         "type": "scatter",
         "x": [
          0,
          99
         ],
         "y": [
          100,
          100
         ]
        },
        {
         "line": {
          "color": "purple",
          "width": 2
         },
         "name": "pmx",
         "type": "scatter",
         "x": [
          0,
          1,
          2,
          3,
          4,
          5,
          6,
          7,
          8,
          9,
          10,
          11,
          12,
          13,
          14,
          15,
          16,
          17,
          18,
          19,
          20,
          21,
          22,
          23,
          24,
          25,
          26,
          27,
          28,
          29,
          30,
          31,
          32,
          33,
          34,
          35,
          36,
          37,
          38,
          39,
          40,
          41,
          42,
          43,
          44,
          45,
          46,
          47,
          48,
          49,
          50,
          51,
          52,
          53,
          54,
          55,
          56,
          57,
          58,
          59,
          60,
          61,
          62,
          63,
          64,
          65,
          66,
          67,
          68,
          69,
          70,
          71,
          72,
          73,
          74,
          75,
          76,
          77,
          78,
          79,
          80,
          81,
          82,
          83,
          84,
          85,
          86,
          87,
          88,
          89,
          90,
          91,
          92,
          93,
          94,
          95,
          96,
          97,
          98,
          99
         ],
         "y": [
          100,
          96.42857142857143,
          100,
          100,
          100,
          100,
          100,
          96.42857142857143,
          100,
          100,
          100,
          100,
          100,
          100,
          100,
          100,
          100,
          100,
          100,
          100,
          100,
          100,
          100,
          100,
          100,
          100,
          100,
          100,
          100,
          100,
          100,
          100,
          100,
          100,
          100,
          100,
          100,
          100,
          100,
          100,
          100,
          96.42857142857143,
          100,
          100,
          100,
          100,
          100,
          100,
          100,
          100,
          100,
          100,
          100,
          100,
          96.42857142857143,
          100,
          100,
          100,
          100,
          100,
          100,
          100,
          100,
          100,
          100,
          100,
          100,
          100,
          100,
          100,
          100,
          100,
          100,
          100,
          100,
          100,
          100,
          100,
          100,
          100,
          100,
          100,
          100,
          100,
          100,
          100,
          100,
          100,
          100,
          100,
          100,
          100,
          100,
          100,
          100,
          100,
          100,
          100,
          100,
          100
         ]
        },
        {
         "marker": {
          "color": "purple",
          "size": 8
         },
         "mode": "markers",
         "name": "",
         "type": "scatter",
         "x": [
          0,
          99
         ],
         "y": [
          100,
          100
         ]
        }
       ],
       "layout": {
        "font": {
         "family": "Verdana",
         "size": 14
        },
        "template": {
         "data": {
          "bar": [
           {
            "error_x": {
             "color": "#2a3f5f"
            },
            "error_y": {
             "color": "#2a3f5f"
            },
            "marker": {
             "line": {
              "color": "white",
              "width": 0.5
             },
             "pattern": {
              "fillmode": "overlay",
              "size": 10,
              "solidity": 0.2
             }
            },
            "type": "bar"
           }
          ],
          "barpolar": [
           {
            "marker": {
             "line": {
              "color": "white",
              "width": 0.5
             },
             "pattern": {
              "fillmode": "overlay",
              "size": 10,
              "solidity": 0.2
             }
            },
            "type": "barpolar"
           }
          ],
          "carpet": [
           {
            "aaxis": {
             "endlinecolor": "#2a3f5f",
             "gridcolor": "#C8D4E3",
             "linecolor": "#C8D4E3",
             "minorgridcolor": "#C8D4E3",
             "startlinecolor": "#2a3f5f"
            },
            "baxis": {
             "endlinecolor": "#2a3f5f",
             "gridcolor": "#C8D4E3",
             "linecolor": "#C8D4E3",
             "minorgridcolor": "#C8D4E3",
             "startlinecolor": "#2a3f5f"
            },
            "type": "carpet"
           }
          ],
          "choropleth": [
           {
            "colorbar": {
             "outlinewidth": 0,
             "ticks": ""
            },
            "type": "choropleth"
           }
          ],
          "contour": [
           {
            "colorbar": {
             "outlinewidth": 0,
             "ticks": ""
            },
            "colorscale": [
             [
              0,
              "#0d0887"
             ],
             [
              0.1111111111111111,
              "#46039f"
             ],
             [
              0.2222222222222222,
              "#7201a8"
             ],
             [
              0.3333333333333333,
              "#9c179e"
             ],
             [
              0.4444444444444444,
              "#bd3786"
             ],
             [
              0.5555555555555556,
              "#d8576b"
             ],
             [
              0.6666666666666666,
              "#ed7953"
             ],
             [
              0.7777777777777778,
              "#fb9f3a"
             ],
             [
              0.8888888888888888,
              "#fdca26"
             ],
             [
              1,
              "#f0f921"
             ]
            ],
            "type": "contour"
           }
          ],
          "contourcarpet": [
           {
            "colorbar": {
             "outlinewidth": 0,
             "ticks": ""
            },
            "type": "contourcarpet"
           }
          ],
          "heatmap": [
           {
            "colorbar": {
             "outlinewidth": 0,
             "ticks": ""
            },
            "colorscale": [
             [
              0,
              "#0d0887"
             ],
             [
              0.1111111111111111,
              "#46039f"
             ],
             [
              0.2222222222222222,
              "#7201a8"
             ],
             [
              0.3333333333333333,
              "#9c179e"
             ],
             [
              0.4444444444444444,
              "#bd3786"
             ],
             [
              0.5555555555555556,
              "#d8576b"
             ],
             [
              0.6666666666666666,
              "#ed7953"
             ],
             [
              0.7777777777777778,
              "#fb9f3a"
             ],
             [
              0.8888888888888888,
              "#fdca26"
             ],
             [
              1,
              "#f0f921"
             ]
            ],
            "type": "heatmap"
           }
          ],
          "heatmapgl": [
           {
            "colorbar": {
             "outlinewidth": 0,
             "ticks": ""
            },
            "colorscale": [
             [
              0,
              "#0d0887"
             ],
             [
              0.1111111111111111,
              "#46039f"
             ],
             [
              0.2222222222222222,
              "#7201a8"
             ],
             [
              0.3333333333333333,
              "#9c179e"
             ],
             [
              0.4444444444444444,
              "#bd3786"
             ],
             [
              0.5555555555555556,
              "#d8576b"
             ],
             [
              0.6666666666666666,
              "#ed7953"
             ],
             [
              0.7777777777777778,
              "#fb9f3a"
             ],
             [
              0.8888888888888888,
              "#fdca26"
             ],
             [
              1,
              "#f0f921"
             ]
            ],
            "type": "heatmapgl"
           }
          ],
          "histogram": [
           {
            "marker": {
             "pattern": {
              "fillmode": "overlay",
              "size": 10,
              "solidity": 0.2
             }
            },
            "type": "histogram"
           }
          ],
          "histogram2d": [
           {
            "colorbar": {
             "outlinewidth": 0,
             "ticks": ""
            },
            "colorscale": [
             [
              0,
              "#0d0887"
             ],
             [
              0.1111111111111111,
              "#46039f"
             ],
             [
              0.2222222222222222,
              "#7201a8"
             ],
             [
              0.3333333333333333,
              "#9c179e"
             ],
             [
              0.4444444444444444,
              "#bd3786"
             ],
             [
              0.5555555555555556,
              "#d8576b"
             ],
             [
              0.6666666666666666,
              "#ed7953"
             ],
             [
              0.7777777777777778,
              "#fb9f3a"
             ],
             [
              0.8888888888888888,
              "#fdca26"
             ],
             [
              1,
              "#f0f921"
             ]
            ],
            "type": "histogram2d"
           }
          ],
          "histogram2dcontour": [
           {
            "colorbar": {
             "outlinewidth": 0,
             "ticks": ""
            },
            "colorscale": [
             [
              0,
              "#0d0887"
             ],
             [
              0.1111111111111111,
              "#46039f"
             ],
             [
              0.2222222222222222,
              "#7201a8"
             ],
             [
              0.3333333333333333,
              "#9c179e"
             ],
             [
              0.4444444444444444,
              "#bd3786"
             ],
             [
              0.5555555555555556,
              "#d8576b"
             ],
             [
              0.6666666666666666,
              "#ed7953"
             ],
             [
              0.7777777777777778,
              "#fb9f3a"
             ],
             [
              0.8888888888888888,
              "#fdca26"
             ],
             [
              1,
              "#f0f921"
             ]
            ],
            "type": "histogram2dcontour"
           }
          ],
          "mesh3d": [
           {
            "colorbar": {
             "outlinewidth": 0,
             "ticks": ""
            },
            "type": "mesh3d"
           }
          ],
          "parcoords": [
           {
            "line": {
             "colorbar": {
              "outlinewidth": 0,
              "ticks": ""
             }
            },
            "type": "parcoords"
           }
          ],
          "pie": [
           {
            "automargin": true,
            "type": "pie"
           }
          ],
          "scatter": [
           {
            "fillpattern": {
             "fillmode": "overlay",
             "size": 10,
             "solidity": 0.2
            },
            "type": "scatter"
           }
          ],
          "scatter3d": [
           {
            "line": {
             "colorbar": {
              "outlinewidth": 0,
              "ticks": ""
             }
            },
            "marker": {
             "colorbar": {
              "outlinewidth": 0,
              "ticks": ""
             }
            },
            "type": "scatter3d"
           }
          ],
          "scattercarpet": [
           {
            "marker": {
             "colorbar": {
              "outlinewidth": 0,
              "ticks": ""
             }
            },
            "type": "scattercarpet"
           }
          ],
          "scattergeo": [
           {
            "marker": {
             "colorbar": {
              "outlinewidth": 0,
              "ticks": ""
             }
            },
            "type": "scattergeo"
           }
          ],
          "scattergl": [
           {
            "marker": {
             "colorbar": {
              "outlinewidth": 0,
              "ticks": ""
             }
            },
            "type": "scattergl"
           }
          ],
          "scattermapbox": [
           {
            "marker": {
             "colorbar": {
              "outlinewidth": 0,
              "ticks": ""
             }
            },
            "type": "scattermapbox"
           }
          ],
          "scatterpolar": [
           {
            "marker": {
             "colorbar": {
              "outlinewidth": 0,
              "ticks": ""
             }
            },
            "type": "scatterpolar"
           }
          ],
          "scatterpolargl": [
           {
            "marker": {
             "colorbar": {
              "outlinewidth": 0,
              "ticks": ""
             }
            },
            "type": "scatterpolargl"
           }
          ],
          "scatterternary": [
           {
            "marker": {
             "colorbar": {
              "outlinewidth": 0,
              "ticks": ""
             }
            },
            "type": "scatterternary"
           }
          ],
          "surface": [
           {
            "colorbar": {
             "outlinewidth": 0,
             "ticks": ""
            },
            "colorscale": [
             [
              0,
              "#0d0887"
             ],
             [
              0.1111111111111111,
              "#46039f"
             ],
             [
              0.2222222222222222,
              "#7201a8"
             ],
             [
              0.3333333333333333,
              "#9c179e"
             ],
             [
              0.4444444444444444,
              "#bd3786"
             ],
             [
              0.5555555555555556,
              "#d8576b"
             ],
             [
              0.6666666666666666,
              "#ed7953"
             ],
             [
              0.7777777777777778,
              "#fb9f3a"
             ],
             [
              0.8888888888888888,
              "#fdca26"
             ],
             [
              1,
              "#f0f921"
             ]
            ],
            "type": "surface"
           }
          ],
          "table": [
           {
            "cells": {
             "fill": {
              "color": "#EBF0F8"
             },
             "line": {
              "color": "white"
             }
            },
            "header": {
             "fill": {
              "color": "#C8D4E3"
             },
             "line": {
              "color": "white"
             }
            },
            "type": "table"
           }
          ]
         },
         "layout": {
          "annotationdefaults": {
           "arrowcolor": "#2a3f5f",
           "arrowhead": 0,
           "arrowwidth": 1
          },
          "autotypenumbers": "strict",
          "coloraxis": {
           "colorbar": {
            "outlinewidth": 0,
            "ticks": ""
           }
          },
          "colorscale": {
           "diverging": [
            [
             0,
             "#8e0152"
            ],
            [
             0.1,
             "#c51b7d"
            ],
            [
             0.2,
             "#de77ae"
            ],
            [
             0.3,
             "#f1b6da"
            ],
            [
             0.4,
             "#fde0ef"
            ],
            [
             0.5,
             "#f7f7f7"
            ],
            [
             0.6,
             "#e6f5d0"
            ],
            [
             0.7,
             "#b8e186"
            ],
            [
             0.8,
             "#7fbc41"
            ],
            [
             0.9,
             "#4d9221"
            ],
            [
             1,
             "#276419"
            ]
           ],
           "sequential": [
            [
             0,
             "#0d0887"
            ],
            [
             0.1111111111111111,
             "#46039f"
            ],
            [
             0.2222222222222222,
             "#7201a8"
            ],
            [
             0.3333333333333333,
             "#9c179e"
            ],
            [
             0.4444444444444444,
             "#bd3786"
            ],
            [
             0.5555555555555556,
             "#d8576b"
            ],
            [
             0.6666666666666666,
             "#ed7953"
            ],
            [
             0.7777777777777778,
             "#fb9f3a"
            ],
            [
             0.8888888888888888,
             "#fdca26"
            ],
            [
             1,
             "#f0f921"
            ]
           ],
           "sequentialminus": [
            [
             0,
             "#0d0887"
            ],
            [
             0.1111111111111111,
             "#46039f"
            ],
            [
             0.2222222222222222,
             "#7201a8"
            ],
            [
             0.3333333333333333,
             "#9c179e"
            ],
            [
             0.4444444444444444,
             "#bd3786"
            ],
            [
             0.5555555555555556,
             "#d8576b"
            ],
            [
             0.6666666666666666,
             "#ed7953"
            ],
            [
             0.7777777777777778,
             "#fb9f3a"
            ],
            [
             0.8888888888888888,
             "#fdca26"
            ],
            [
             1,
             "#f0f921"
            ]
           ]
          },
          "colorway": [
           "#636efa",
           "#EF553B",
           "#00cc96",
           "#ab63fa",
           "#FFA15A",
           "#19d3f3",
           "#FF6692",
           "#B6E880",
           "#FF97FF",
           "#FECB52"
          ],
          "font": {
           "color": "#2a3f5f"
          },
          "geo": {
           "bgcolor": "white",
           "lakecolor": "white",
           "landcolor": "white",
           "showlakes": true,
           "showland": true,
           "subunitcolor": "#C8D4E3"
          },
          "hoverlabel": {
           "align": "left"
          },
          "hovermode": "closest",
          "mapbox": {
           "style": "light"
          },
          "paper_bgcolor": "white",
          "plot_bgcolor": "white",
          "polar": {
           "angularaxis": {
            "gridcolor": "#EBF0F8",
            "linecolor": "#EBF0F8",
            "ticks": ""
           },
           "bgcolor": "white",
           "radialaxis": {
            "gridcolor": "#EBF0F8",
            "linecolor": "#EBF0F8",
            "ticks": ""
           }
          },
          "scene": {
           "xaxis": {
            "backgroundcolor": "white",
            "gridcolor": "#DFE8F3",
            "gridwidth": 2,
            "linecolor": "#EBF0F8",
            "showbackground": true,
            "ticks": "",
            "zerolinecolor": "#EBF0F8"
           },
           "yaxis": {
            "backgroundcolor": "white",
            "gridcolor": "#DFE8F3",
            "gridwidth": 2,
            "linecolor": "#EBF0F8",
            "showbackground": true,
            "ticks": "",
            "zerolinecolor": "#EBF0F8"
           },
           "zaxis": {
            "backgroundcolor": "white",
            "gridcolor": "#DFE8F3",
            "gridwidth": 2,
            "linecolor": "#EBF0F8",
            "showbackground": true,
            "ticks": "",
            "zerolinecolor": "#EBF0F8"
           }
          },
          "shapedefaults": {
           "line": {
            "color": "#2a3f5f"
           }
          },
          "ternary": {
           "aaxis": {
            "gridcolor": "#DFE8F3",
            "linecolor": "#A2B1C6",
            "ticks": ""
           },
           "baxis": {
            "gridcolor": "#DFE8F3",
            "linecolor": "#A2B1C6",
            "ticks": ""
           },
           "bgcolor": "white",
           "caxis": {
            "gridcolor": "#DFE8F3",
            "linecolor": "#A2B1C6",
            "ticks": ""
           }
          },
          "title": {
           "x": 0.05
          },
          "xaxis": {
           "automargin": true,
           "gridcolor": "#EBF0F8",
           "linecolor": "#EBF0F8",
           "ticks": "",
           "title": {
            "standoff": 15
           },
           "zerolinecolor": "#EBF0F8",
           "zerolinewidth": 2
          },
          "yaxis": {
           "automargin": true,
           "gridcolor": "#EBF0F8",
           "linecolor": "#EBF0F8",
           "ticks": "",
           "title": {
            "standoff": 15
           },
           "zerolinecolor": "#EBF0F8",
           "zerolinewidth": 2
          }
         }
        },
        "title": {
         "text": "Fitness Comparison"
        },
        "xaxis": {
         "linewidth": 1.5,
         "showgrid": true,
         "showline": true,
         "showticklabels": true,
         "tickfont": {
          "color": "#000000",
          "family": "Verdana",
          "size": 11
         },
         "ticks": "outside",
         "title": {
          "text": "Iterations"
         }
        },
        "yaxis": {
         "showgrid": true,
         "showline": false,
         "showticklabels": true,
         "tickfont": {
          "color": "#000000",
          "family": "Verdana",
          "size": 11
         },
         "ticks": "outside",
         "title": {
          "text": "Fitness"
         },
         "zeroline": false
        }
       }
      }
     },
     "metadata": {},
     "output_type": "display_data"
    },
    {
     "data": {
      "application/vnd.plotly.v1+json": {
       "config": {
        "plotlyServerURL": "https://plot.ly"
       },
       "data": [
        {
         "line": {
          "color": "gray",
          "width": 2
         },
         "name": "single_cross",
         "type": "scatter",
         "x": [
          0,
          1,
          2,
          3,
          4,
          5,
          6,
          7,
          8,
          9,
          10,
          11,
          12,
          13,
          14,
          15,
          16,
          17,
          18,
          19,
          20,
          21,
          22,
          23,
          24,
          25,
          26,
          27,
          28,
          29,
          30,
          31,
          32,
          33,
          34,
          35,
          36,
          37,
          38,
          39,
          40,
          41,
          42,
          43,
          44,
          45,
          46,
          47,
          48,
          49,
          50,
          51,
          52,
          53,
          54,
          55,
          56,
          57,
          58,
          59,
          60,
          61,
          62,
          63,
          64,
          65,
          66,
          67,
          68,
          69,
          70,
          71,
          72,
          73,
          74,
          75,
          76,
          77,
          78,
          79,
          80,
          81,
          82,
          83,
          84,
          85,
          86,
          87,
          88,
          89,
          90,
          91,
          92,
          93,
          94,
          95,
          96,
          97,
          98,
          99
         ],
         "y": [
          20,
          18,
          19,
          18,
          19,
          18,
          18,
          19,
          18,
          18,
          19,
          18,
          19,
          18,
          18,
          18,
          19,
          18,
          19,
          18,
          18,
          18,
          18,
          18,
          18,
          19,
          19,
          18,
          19,
          19,
          19,
          19,
          18,
          18,
          19,
          18,
          19,
          18,
          18,
          18,
          19,
          18,
          18,
          18,
          18,
          18,
          18,
          19,
          18,
          18,
          19,
          22,
          20,
          19,
          18,
          18,
          19,
          18,
          19,
          18,
          18,
          18,
          19,
          18,
          18,
          19,
          19,
          19,
          19,
          19,
          19,
          19,
          19,
          19,
          18,
          19,
          18,
          18,
          19,
          19,
          18,
          18,
          19,
          18,
          19,
          18,
          18,
          19,
          19,
          18,
          19,
          19,
          19,
          19,
          18,
          19,
          18,
          18,
          19,
          19
         ]
        },
        {
         "marker": {
          "color": "gray",
          "size": 8
         },
         "mode": "markers",
         "name": "",
         "type": "scatter",
         "x": [
          0,
          99
         ],
         "y": [
          20,
          19
         ]
        },
        {
         "line": {
          "color": "steelblue",
          "width": 2
         },
         "name": "cycle_cross",
         "type": "scatter",
         "x": [
          0,
          1,
          2,
          3,
          4,
          5,
          6,
          7,
          8,
          9,
          10,
          11,
          12,
          13,
          14,
          15,
          16,
          17,
          18,
          19,
          20,
          21,
          22,
          23,
          24,
          25,
          26,
          27,
          28,
          29,
          30,
          31,
          32,
          33,
          34,
          35,
          36,
          37,
          38,
          39,
          40,
          41,
          42,
          43,
          44,
          45,
          46,
          47,
          48,
          49,
          50,
          51,
          52,
          53,
          54,
          55,
          56,
          57,
          58,
          59,
          60,
          61,
          62,
          63,
          64,
          65,
          66,
          67,
          68,
          69,
          70,
          71,
          72,
          73,
          74,
          75,
          76,
          77,
          78,
          79,
          80,
          81,
          82,
          83,
          84,
          85,
          86,
          87,
          88,
          89,
          90,
          91,
          92,
          93,
          94,
          95,
          96,
          97,
          98,
          99
         ],
         "y": [
          21,
          21,
          21,
          21,
          21,
          21,
          21,
          21,
          21,
          21,
          21,
          20,
          20,
          21,
          21,
          21,
          20,
          20,
          21,
          20,
          20,
          20,
          21,
          21,
          21,
          22,
          21,
          21,
          21,
          21,
          22,
          21,
          22,
          23,
          21,
          22,
          21,
          20,
          22,
          21,
          22,
          22,
          21,
          20,
          21,
          21,
          21,
          21,
          21,
          21,
          21,
          22,
          21,
          21,
          21,
          21,
          21,
          21,
          21,
          21,
          21,
          21,
          21,
          21,
          21,
          21,
          20,
          20,
          21,
          21,
          21,
          21,
          21,
          21,
          21,
          21,
          21,
          21,
          21,
          21,
          21,
          21,
          21,
          20,
          21,
          21,
          21,
          20,
          21,
          21,
          20,
          21,
          20,
          20,
          20,
          20,
          21,
          21,
          20,
          21
         ]
        },
        {
         "marker": {
          "color": "steelblue",
          "size": 8
         },
         "mode": "markers",
         "name": "",
         "type": "scatter",
         "x": [
          0,
          99
         ],
         "y": [
          21,
          21
         ]
        },
        {
         "line": {
          "color": "purple",
          "width": 2
         },
         "name": "pmx",
         "type": "scatter",
         "x": [
          0,
          1,
          2,
          3,
          4,
          5,
          6,
          7,
          8,
          9,
          10,
          11,
          12,
          13,
          14,
          15,
          16,
          17,
          18,
          19,
          20,
          21,
          22,
          23,
          24,
          25,
          26,
          27,
          28,
          29,
          30,
          31,
          32,
          33,
          34,
          35,
          36,
          37,
          38,
          39,
          40,
          41,
          42,
          43,
          44,
          45,
          46,
          47,
          48,
          49,
          50,
          51,
          52,
          53,
          54,
          55,
          56,
          57,
          58,
          59,
          60,
          61,
          62,
          63,
          64,
          65,
          66,
          67,
          68,
          69,
          70,
          71,
          72,
          73,
          74,
          75,
          76,
          77,
          78,
          79,
          80,
          81,
          82,
          83,
          84,
          85,
          86,
          87,
          88,
          89,
          90,
          91,
          92,
          93,
          94,
          95,
          96,
          97,
          98,
          99
         ],
         "y": [
          20,
          21,
          21,
          21,
          21,
          20,
          20,
          21,
          21,
          21,
          21,
          21,
          21,
          21,
          21,
          21,
          21,
          21,
          21,
          21,
          21,
          21,
          21,
          21,
          21,
          21,
          21,
          21,
          21,
          21,
          21,
          21,
          21,
          21,
          21,
          21,
          21,
          21,
          21,
          21,
          21,
          20,
          21,
          21,
          21,
          21,
          20,
          20,
          21,
          21,
          21,
          21,
          21,
          21,
          21,
          21,
          21,
          21,
          21,
          21,
          21,
          21,
          21,
          21,
          22,
          21,
          21,
          21,
          21,
          21,
          21,
          21,
          21,
          22,
          21,
          21,
          22,
          21,
          21,
          21,
          21,
          20,
          21,
          21,
          21,
          21,
          21,
          21,
          21,
          21,
          21,
          21,
          21,
          21,
          21,
          21,
          21,
          21,
          21,
          21
         ]
        },
        {
         "marker": {
          "color": "purple",
          "size": 8
         },
         "mode": "markers",
         "name": "",
         "type": "scatter",
         "x": [
          0,
          99
         ],
         "y": [
          20,
          21
         ]
        }
       ],
       "layout": {
        "font": {
         "family": "Verdana",
         "size": 14
        },
        "template": {
         "data": {
          "bar": [
           {
            "error_x": {
             "color": "#2a3f5f"
            },
            "error_y": {
             "color": "#2a3f5f"
            },
            "marker": {
             "line": {
              "color": "white",
              "width": 0.5
             },
             "pattern": {
              "fillmode": "overlay",
              "size": 10,
              "solidity": 0.2
             }
            },
            "type": "bar"
           }
          ],
          "barpolar": [
           {
            "marker": {
             "line": {
              "color": "white",
              "width": 0.5
             },
             "pattern": {
              "fillmode": "overlay",
              "size": 10,
              "solidity": 0.2
             }
            },
            "type": "barpolar"
           }
          ],
          "carpet": [
           {
            "aaxis": {
             "endlinecolor": "#2a3f5f",
             "gridcolor": "#C8D4E3",
             "linecolor": "#C8D4E3",
             "minorgridcolor": "#C8D4E3",
             "startlinecolor": "#2a3f5f"
            },
            "baxis": {
             "endlinecolor": "#2a3f5f",
             "gridcolor": "#C8D4E3",
             "linecolor": "#C8D4E3",
             "minorgridcolor": "#C8D4E3",
             "startlinecolor": "#2a3f5f"
            },
            "type": "carpet"
           }
          ],
          "choropleth": [
           {
            "colorbar": {
             "outlinewidth": 0,
             "ticks": ""
            },
            "type": "choropleth"
           }
          ],
          "contour": [
           {
            "colorbar": {
             "outlinewidth": 0,
             "ticks": ""
            },
            "colorscale": [
             [
              0,
              "#0d0887"
             ],
             [
              0.1111111111111111,
              "#46039f"
             ],
             [
              0.2222222222222222,
              "#7201a8"
             ],
             [
              0.3333333333333333,
              "#9c179e"
             ],
             [
              0.4444444444444444,
              "#bd3786"
             ],
             [
              0.5555555555555556,
              "#d8576b"
             ],
             [
              0.6666666666666666,
              "#ed7953"
             ],
             [
              0.7777777777777778,
              "#fb9f3a"
             ],
             [
              0.8888888888888888,
              "#fdca26"
             ],
             [
              1,
              "#f0f921"
             ]
            ],
            "type": "contour"
           }
          ],
          "contourcarpet": [
           {
            "colorbar": {
             "outlinewidth": 0,
             "ticks": ""
            },
            "type": "contourcarpet"
           }
          ],
          "heatmap": [
           {
            "colorbar": {
             "outlinewidth": 0,
             "ticks": ""
            },
            "colorscale": [
             [
              0,
              "#0d0887"
             ],
             [
              0.1111111111111111,
              "#46039f"
             ],
             [
              0.2222222222222222,
              "#7201a8"
             ],
             [
              0.3333333333333333,
              "#9c179e"
             ],
             [
              0.4444444444444444,
              "#bd3786"
             ],
             [
              0.5555555555555556,
              "#d8576b"
             ],
             [
              0.6666666666666666,
              "#ed7953"
             ],
             [
              0.7777777777777778,
              "#fb9f3a"
             ],
             [
              0.8888888888888888,
              "#fdca26"
             ],
             [
              1,
              "#f0f921"
             ]
            ],
            "type": "heatmap"
           }
          ],
          "heatmapgl": [
           {
            "colorbar": {
             "outlinewidth": 0,
             "ticks": ""
            },
            "colorscale": [
             [
              0,
              "#0d0887"
             ],
             [
              0.1111111111111111,
              "#46039f"
             ],
             [
              0.2222222222222222,
              "#7201a8"
             ],
             [
              0.3333333333333333,
              "#9c179e"
             ],
             [
              0.4444444444444444,
              "#bd3786"
             ],
             [
              0.5555555555555556,
              "#d8576b"
             ],
             [
              0.6666666666666666,
              "#ed7953"
             ],
             [
              0.7777777777777778,
              "#fb9f3a"
             ],
             [
              0.8888888888888888,
              "#fdca26"
             ],
             [
              1,
              "#f0f921"
             ]
            ],
            "type": "heatmapgl"
           }
          ],
          "histogram": [
           {
            "marker": {
             "pattern": {
              "fillmode": "overlay",
              "size": 10,
              "solidity": 0.2
             }
            },
            "type": "histogram"
           }
          ],
          "histogram2d": [
           {
            "colorbar": {
             "outlinewidth": 0,
             "ticks": ""
            },
            "colorscale": [
             [
              0,
              "#0d0887"
             ],
             [
              0.1111111111111111,
              "#46039f"
             ],
             [
              0.2222222222222222,
              "#7201a8"
             ],
             [
              0.3333333333333333,
              "#9c179e"
             ],
             [
              0.4444444444444444,
              "#bd3786"
             ],
             [
              0.5555555555555556,
              "#d8576b"
             ],
             [
              0.6666666666666666,
              "#ed7953"
             ],
             [
              0.7777777777777778,
              "#fb9f3a"
             ],
             [
              0.8888888888888888,
              "#fdca26"
             ],
             [
              1,
              "#f0f921"
             ]
            ],
            "type": "histogram2d"
           }
          ],
          "histogram2dcontour": [
           {
            "colorbar": {
             "outlinewidth": 0,
             "ticks": ""
            },
            "colorscale": [
             [
              0,
              "#0d0887"
             ],
             [
              0.1111111111111111,
              "#46039f"
             ],
             [
              0.2222222222222222,
              "#7201a8"
             ],
             [
              0.3333333333333333,
              "#9c179e"
             ],
             [
              0.4444444444444444,
              "#bd3786"
             ],
             [
              0.5555555555555556,
              "#d8576b"
             ],
             [
              0.6666666666666666,
              "#ed7953"
             ],
             [
              0.7777777777777778,
              "#fb9f3a"
             ],
             [
              0.8888888888888888,
              "#fdca26"
             ],
             [
              1,
              "#f0f921"
             ]
            ],
            "type": "histogram2dcontour"
           }
          ],
          "mesh3d": [
           {
            "colorbar": {
             "outlinewidth": 0,
             "ticks": ""
            },
            "type": "mesh3d"
           }
          ],
          "parcoords": [
           {
            "line": {
             "colorbar": {
              "outlinewidth": 0,
              "ticks": ""
             }
            },
            "type": "parcoords"
           }
          ],
          "pie": [
           {
            "automargin": true,
            "type": "pie"
           }
          ],
          "scatter": [
           {
            "fillpattern": {
             "fillmode": "overlay",
             "size": 10,
             "solidity": 0.2
            },
            "type": "scatter"
           }
          ],
          "scatter3d": [
           {
            "line": {
             "colorbar": {
              "outlinewidth": 0,
              "ticks": ""
             }
            },
            "marker": {
             "colorbar": {
              "outlinewidth": 0,
              "ticks": ""
             }
            },
            "type": "scatter3d"
           }
          ],
          "scattercarpet": [
           {
            "marker": {
             "colorbar": {
              "outlinewidth": 0,
              "ticks": ""
             }
            },
            "type": "scattercarpet"
           }
          ],
          "scattergeo": [
           {
            "marker": {
             "colorbar": {
              "outlinewidth": 0,
              "ticks": ""
             }
            },
            "type": "scattergeo"
           }
          ],
          "scattergl": [
           {
            "marker": {
             "colorbar": {
              "outlinewidth": 0,
              "ticks": ""
             }
            },
            "type": "scattergl"
           }
          ],
          "scattermapbox": [
           {
            "marker": {
             "colorbar": {
              "outlinewidth": 0,
              "ticks": ""
             }
            },
            "type": "scattermapbox"
           }
          ],
          "scatterpolar": [
           {
            "marker": {
             "colorbar": {
              "outlinewidth": 0,
              "ticks": ""
             }
            },
            "type": "scatterpolar"
           }
          ],
          "scatterpolargl": [
           {
            "marker": {
             "colorbar": {
              "outlinewidth": 0,
              "ticks": ""
             }
            },
            "type": "scatterpolargl"
           }
          ],
          "scatterternary": [
           {
            "marker": {
             "colorbar": {
              "outlinewidth": 0,
              "ticks": ""
             }
            },
            "type": "scatterternary"
           }
          ],
          "surface": [
           {
            "colorbar": {
             "outlinewidth": 0,
             "ticks": ""
            },
            "colorscale": [
             [
              0,
              "#0d0887"
             ],
             [
              0.1111111111111111,
              "#46039f"
             ],
             [
              0.2222222222222222,
              "#7201a8"
             ],
             [
              0.3333333333333333,
              "#9c179e"
             ],
             [
              0.4444444444444444,
              "#bd3786"
             ],
             [
              0.5555555555555556,
              "#d8576b"
             ],
             [
              0.6666666666666666,
              "#ed7953"
             ],
             [
              0.7777777777777778,
              "#fb9f3a"
             ],
             [
              0.8888888888888888,
              "#fdca26"
             ],
             [
              1,
              "#f0f921"
             ]
            ],
            "type": "surface"
           }
          ],
          "table": [
           {
            "cells": {
             "fill": {
              "color": "#EBF0F8"
             },
             "line": {
              "color": "white"
             }
            },
            "header": {
             "fill": {
              "color": "#C8D4E3"
             },
             "line": {
              "color": "white"
             }
            },
            "type": "table"
           }
          ]
         },
         "layout": {
          "annotationdefaults": {
           "arrowcolor": "#2a3f5f",
           "arrowhead": 0,
           "arrowwidth": 1
          },
          "autotypenumbers": "strict",
          "coloraxis": {
           "colorbar": {
            "outlinewidth": 0,
            "ticks": ""
           }
          },
          "colorscale": {
           "diverging": [
            [
             0,
             "#8e0152"
            ],
            [
             0.1,
             "#c51b7d"
            ],
            [
             0.2,
             "#de77ae"
            ],
            [
             0.3,
             "#f1b6da"
            ],
            [
             0.4,
             "#fde0ef"
            ],
            [
             0.5,
             "#f7f7f7"
            ],
            [
             0.6,
             "#e6f5d0"
            ],
            [
             0.7,
             "#b8e186"
            ],
            [
             0.8,
             "#7fbc41"
            ],
            [
             0.9,
             "#4d9221"
            ],
            [
             1,
             "#276419"
            ]
           ],
           "sequential": [
            [
             0,
             "#0d0887"
            ],
            [
             0.1111111111111111,
             "#46039f"
            ],
            [
             0.2222222222222222,
             "#7201a8"
            ],
            [
             0.3333333333333333,
             "#9c179e"
            ],
            [
             0.4444444444444444,
             "#bd3786"
            ],
            [
             0.5555555555555556,
             "#d8576b"
            ],
            [
             0.6666666666666666,
             "#ed7953"
            ],
            [
             0.7777777777777778,
             "#fb9f3a"
            ],
            [
             0.8888888888888888,
             "#fdca26"
            ],
            [
             1,
             "#f0f921"
            ]
           ],
           "sequentialminus": [
            [
             0,
             "#0d0887"
            ],
            [
             0.1111111111111111,
             "#46039f"
            ],
            [
             0.2222222222222222,
             "#7201a8"
            ],
            [
             0.3333333333333333,
             "#9c179e"
            ],
            [
             0.4444444444444444,
             "#bd3786"
            ],
            [
             0.5555555555555556,
             "#d8576b"
            ],
            [
             0.6666666666666666,
             "#ed7953"
            ],
            [
             0.7777777777777778,
             "#fb9f3a"
            ],
            [
             0.8888888888888888,
             "#fdca26"
            ],
            [
             1,
             "#f0f921"
            ]
           ]
          },
          "colorway": [
           "#636efa",
           "#EF553B",
           "#00cc96",
           "#ab63fa",
           "#FFA15A",
           "#19d3f3",
           "#FF6692",
           "#B6E880",
           "#FF97FF",
           "#FECB52"
          ],
          "font": {
           "color": "#2a3f5f"
          },
          "geo": {
           "bgcolor": "white",
           "lakecolor": "white",
           "landcolor": "white",
           "showlakes": true,
           "showland": true,
           "subunitcolor": "#C8D4E3"
          },
          "hoverlabel": {
           "align": "left"
          },
          "hovermode": "closest",
          "mapbox": {
           "style": "light"
          },
          "paper_bgcolor": "white",
          "plot_bgcolor": "white",
          "polar": {
           "angularaxis": {
            "gridcolor": "#EBF0F8",
            "linecolor": "#EBF0F8",
            "ticks": ""
           },
           "bgcolor": "white",
           "radialaxis": {
            "gridcolor": "#EBF0F8",
            "linecolor": "#EBF0F8",
            "ticks": ""
           }
          },
          "scene": {
           "xaxis": {
            "backgroundcolor": "white",
            "gridcolor": "#DFE8F3",
            "gridwidth": 2,
            "linecolor": "#EBF0F8",
            "showbackground": true,
            "ticks": "",
            "zerolinecolor": "#EBF0F8"
           },
           "yaxis": {
            "backgroundcolor": "white",
            "gridcolor": "#DFE8F3",
            "gridwidth": 2,
            "linecolor": "#EBF0F8",
            "showbackground": true,
            "ticks": "",
            "zerolinecolor": "#EBF0F8"
           },
           "zaxis": {
            "backgroundcolor": "white",
            "gridcolor": "#DFE8F3",
            "gridwidth": 2,
            "linecolor": "#EBF0F8",
            "showbackground": true,
            "ticks": "",
            "zerolinecolor": "#EBF0F8"
           }
          },
          "shapedefaults": {
           "line": {
            "color": "#2a3f5f"
           }
          },
          "ternary": {
           "aaxis": {
            "gridcolor": "#DFE8F3",
            "linecolor": "#A2B1C6",
            "ticks": ""
           },
           "baxis": {
            "gridcolor": "#DFE8F3",
            "linecolor": "#A2B1C6",
            "ticks": ""
           },
           "bgcolor": "white",
           "caxis": {
            "gridcolor": "#DFE8F3",
            "linecolor": "#A2B1C6",
            "ticks": ""
           }
          },
          "title": {
           "x": 0.05
          },
          "xaxis": {
           "automargin": true,
           "gridcolor": "#EBF0F8",
           "linecolor": "#EBF0F8",
           "ticks": "",
           "title": {
            "standoff": 15
           },
           "zerolinecolor": "#EBF0F8",
           "zerolinewidth": 2
          },
          "yaxis": {
           "automargin": true,
           "gridcolor": "#EBF0F8",
           "linecolor": "#EBF0F8",
           "ticks": "",
           "title": {
            "standoff": 15
           },
           "zerolinecolor": "#EBF0F8",
           "zerolinewidth": 2
          }
         }
        },
        "title": {
         "text": "Time Comparison"
        },
        "xaxis": {
         "linewidth": 1.5,
         "showgrid": true,
         "showline": true,
         "showticklabels": true,
         "tickfont": {
          "color": "#000000",
          "family": "Verdana",
          "size": 11
         },
         "ticks": "outside",
         "title": {
          "text": "Iterations"
         }
        },
        "yaxis": {
         "showgrid": true,
         "showline": false,
         "showticklabels": true,
         "tickfont": {
          "color": "#000000",
          "family": "Verdana",
          "size": 11
         },
         "ticks": "outside",
         "title": {
          "text": "Time (ms)"
         },
         "zeroline": false
        }
       }
      }
     },
     "metadata": {},
     "output_type": "display_data"
    }
   ],
   "source": [
    "# seed for reproducibility\n",
    "np.random.seed(0)\n",
    "\n",
    "# Define the range of values\n",
    "xo = ['single_cross', 'cycle_cross', 'pmx', 'arithmetic_cross']\n",
    "\n",
    "# Setting previous best parameter as new default value\n",
    "params.update(replace_param)\n",
    "\n",
    "param_list, df = best_operators_search('cross', xo, params)\n",
    "\n",
    "# Displaying average results of the 100 iterations\n",
    "print('\\033[1mAverage results:', end='\\n')\n",
    "df['const'] = 'const'\n",
    "df_avg = df.groupby('const').mean().reset_index(drop=True).round(3)\n",
    "display(df_avg)\n",
    "\n",
    "# Getting best parameter by fitness & time\n",
    "best_param_fit = df_avg[[col for col in df_avg.columns if col.startswith('Fit_')]].idxmax(axis=1)[0].replace('Fit_', '')\n",
    "best_param_time = df_avg[[col for col in df_avg.columns if col.startswith('Time_')]].idxmin(axis=1)[0].replace('Time_', '')\n",
    "replace_param = {'mut': best_param_fit}\n",
    "print(f'\\nBest Fitness: \\033[1m{best_param_fit}\\033[0m\\n\\nBest Time: \\033[1m{best_param_time}\\033[0m', end='\\n\\n')\n",
    "\n",
    "# Plotting results\n",
    "plot_values(data = df, colors = color_palette[:len(xo)], layout=2, template='white', grid=True)"
   ]
  },
  {
   "attachments": {},
   "cell_type": "markdown",
   "metadata": {},
   "source": [
    "### __1.3 Selection Operator__"
   ]
  },
  {
   "cell_type": "code",
   "execution_count": 58,
   "metadata": {},
   "outputs": [
    {
     "ename": "KeyboardInterrupt",
     "evalue": "",
     "output_type": "error",
     "traceback": [
      "\u001b[0;31m---------------------------------------------------------------------------\u001b[0m",
      "\u001b[0;31mKeyboardInterrupt\u001b[0m                         Traceback (most recent call last)",
      "Cell \u001b[0;32mIn[58], line 7\u001b[0m\n\u001b[1;32m      4\u001b[0m \u001b[39m# Define the range of values\u001b[39;00m\n\u001b[1;32m      5\u001b[0m select \u001b[39m=\u001b[39m [\u001b[39m'\u001b[39m\u001b[39mtournament_selection\u001b[39m\u001b[39m'\u001b[39m, \u001b[39m'\u001b[39m\u001b[39mstochastic_universal_sampling\u001b[39m\u001b[39m'\u001b[39m]\n\u001b[0;32m----> 7\u001b[0m param_list, df \u001b[39m=\u001b[39m best_operators_search(\u001b[39m'\u001b[39;49m\u001b[39mselect\u001b[39;49m\u001b[39m'\u001b[39;49m, select)\n\u001b[1;32m      9\u001b[0m \u001b[39m# Displaying average results of the 100 iterations\u001b[39;00m\n\u001b[1;32m     10\u001b[0m \u001b[39mprint\u001b[39m(\u001b[39m'\u001b[39m\u001b[39m\\033\u001b[39;00m\u001b[39m[1mAverage results:\u001b[39m\u001b[39m'\u001b[39m, end\u001b[39m=\u001b[39m\u001b[39m'\u001b[39m\u001b[39m\\n\u001b[39;00m\u001b[39m'\u001b[39m)\n",
      "Cell \u001b[0;32mIn[8], line 22\u001b[0m, in \u001b[0;36mbest_operators_search\u001b[0;34m(parameter, values)\u001b[0m\n\u001b[1;32m     20\u001b[0m params[parameter] \u001b[39m=\u001b[39m i\n\u001b[1;32m     21\u001b[0m \u001b[39m# Define the model with current hyperparameters\u001b[39;00m\n\u001b[0;32m---> 22\u001b[0m ga \u001b[39m=\u001b[39m genetic_algorithm(\u001b[39m*\u001b[39;49m\u001b[39m*\u001b[39;49mparams)\n\u001b[1;32m     23\u001b[0m \u001b[39m# gets restults\u001b[39;00m\n\u001b[1;32m     24\u001b[0m fit \u001b[39m=\u001b[39m ga[\u001b[39m'\u001b[39m\u001b[39mbest_fitness_percentage\u001b[39m\u001b[39m'\u001b[39m]\n",
      "Cell \u001b[0;32mIn[6], line 14\u001b[0m, in \u001b[0;36mgenetic_algorithm\u001b[0;34m(n, pop, gen, mut_perc, cross_perc, mut, cross, select)\u001b[0m\n\u001b[1;32m      1\u001b[0m \u001b[39mdef\u001b[39;00m \u001b[39mgenetic_algorithm\u001b[39m(\n\u001b[1;32m      2\u001b[0m                     n \u001b[39m=\u001b[39m \u001b[39m8\u001b[39m,\n\u001b[1;32m      3\u001b[0m                     pop \u001b[39m=\u001b[39m \u001b[39m100\u001b[39m,\n\u001b[0;32m   (...)\u001b[0m\n\u001b[1;32m      9\u001b[0m                     select\u001b[39m=\u001b[39m\u001b[39m'\u001b[39m\u001b[39mtournament_selection\u001b[39m\u001b[39m'\u001b[39m,\n\u001b[1;32m     10\u001b[0m                     ):\n\u001b[1;32m     12\u001b[0m     nQueensGA \u001b[39m=\u001b[39m NQueensGeneticAlgorithm(population_size\u001b[39m=\u001b[39mpop, dimension\u001b[39m=\u001b[39mn)\n\u001b[0;32m---> 14\u001b[0m     nQueensGA\u001b[39m.\u001b[39;49mrun(\n\u001b[1;32m     15\u001b[0m         generations\u001b[39m=\u001b[39;49mgen,\n\u001b[1;32m     16\u001b[0m         mutation_probability\u001b[39m=\u001b[39;49mmut_perc,\n\u001b[1;32m     17\u001b[0m         crossover_probability\u001b[39m=\u001b[39;49mcross_perc,\n\u001b[1;32m     18\u001b[0m         mutation_operator\u001b[39m=\u001b[39;49mmut,\n\u001b[1;32m     19\u001b[0m         crossover_operator\u001b[39m=\u001b[39;49mcross,\n\u001b[1;32m     20\u001b[0m         selection_operator\u001b[39m=\u001b[39;49mselect\n\u001b[1;32m     21\u001b[0m     )\n\u001b[1;32m     23\u001b[0m     \u001b[39mreturn\u001b[39;00m nQueensGA\u001b[39m.\u001b[39mreport()\n",
      "File \u001b[0;32m~/Desktop/NQueens-Optimization/app/nqueens/genetic_algorithm.py:61\u001b[0m, in \u001b[0;36mNQueensGeneticAlgorithm.run\u001b[0;34m(self, generations, crossover_probability, mutation_probability, mutation_operator, selection_operator, crossover_operator)\u001b[0m\n\u001b[1;32m     59\u001b[0m \u001b[39m# Evolve the population for the given number of generations\u001b[39;00m\n\u001b[1;32m     60\u001b[0m start_time \u001b[39m=\u001b[39m datetime\u001b[39m.\u001b[39mnow()\n\u001b[0;32m---> 61\u001b[0m \u001b[39mself\u001b[39;49m\u001b[39m.\u001b[39;49mpopulation\u001b[39m.\u001b[39;49mevolve(\n\u001b[1;32m     62\u001b[0m     gens\u001b[39m=\u001b[39;49mgenerations,\n\u001b[1;32m     63\u001b[0m     xo_prob\u001b[39m=\u001b[39;49mcrossover_probability,\n\u001b[1;32m     64\u001b[0m     mut_prob\u001b[39m=\u001b[39;49mmutation_probability,\n\u001b[1;32m     65\u001b[0m     select\u001b[39m=\u001b[39;49m\u001b[39mself\u001b[39;49m\u001b[39m.\u001b[39;49mselection_func,\n\u001b[1;32m     66\u001b[0m     mutate\u001b[39m=\u001b[39;49m\u001b[39mself\u001b[39;49m\u001b[39m.\u001b[39;49mmutate_func,\n\u001b[1;32m     67\u001b[0m     crossover\u001b[39m=\u001b[39;49m\u001b[39mself\u001b[39;49m\u001b[39m.\u001b[39;49mcrossover_func,\n\u001b[1;32m     68\u001b[0m     elitism\u001b[39m=\u001b[39;49m\u001b[39mTrue\u001b[39;49;00m\n\u001b[1;32m     69\u001b[0m )\n\u001b[1;32m     70\u001b[0m end_time \u001b[39m=\u001b[39m datetime\u001b[39m.\u001b[39mnow()\n\u001b[1;32m     71\u001b[0m duration \u001b[39m=\u001b[39m end_time \u001b[39m-\u001b[39m start_time\n",
      "File \u001b[0;32m~/Desktop/NQueens-Optimization/app/charles/charles.py:65\u001b[0m, in \u001b[0;36mPopulation.evolve\u001b[0;34m(self, gens, xo_prob, mut_prob, select, mutate, crossover, elitism)\u001b[0m\n\u001b[1;32m     61\u001b[0m elite \u001b[39m=\u001b[39m deepcopy(\u001b[39mself\u001b[39m\u001b[39m.\u001b[39mbest_indv)\n\u001b[1;32m     63\u001b[0m \u001b[39mwhile\u001b[39;00m \u001b[39mlen\u001b[39m(new_population) \u001b[39m<\u001b[39m \u001b[39mself\u001b[39m\u001b[39m.\u001b[39msize:\n\u001b[1;32m     64\u001b[0m     \u001b[39m# Select parents from the current population\u001b[39;00m\n\u001b[0;32m---> 65\u001b[0m     parent1, parent2 \u001b[39m=\u001b[39m select(\u001b[39mself\u001b[39;49m), select(\u001b[39mself\u001b[39m)\n\u001b[1;32m     66\u001b[0m     \u001b[39mwhile\u001b[39;00m parent2 \u001b[39m==\u001b[39m parent1:  \u001b[39m# Ensure distinct parents\u001b[39;00m\n\u001b[1;32m     67\u001b[0m         parent2 \u001b[39m=\u001b[39m select(\u001b[39mself\u001b[39m)\n",
      "File \u001b[0;32m~/Desktop/NQueens-Optimization/app/charles/selection.py:148\u001b[0m, in \u001b[0;36mstochastic_universal_sampling\u001b[0;34m(population, num_parents)\u001b[0m\n\u001b[1;32m    145\u001b[0m index \u001b[39m=\u001b[39m \u001b[39m0\u001b[39m\n\u001b[1;32m    147\u001b[0m \u001b[39mwhile\u001b[39;00m \u001b[39mlen\u001b[39m(parents) \u001b[39m<\u001b[39m num_parents:\n\u001b[0;32m--> 148\u001b[0m     \u001b[39mwhile\u001b[39;00m current_position \u001b[39m>\u001b[39;49m cumulative_probabilities[index]:\n\u001b[1;32m    149\u001b[0m         index \u001b[39m=\u001b[39m (index \u001b[39m+\u001b[39m \u001b[39m1\u001b[39m) \u001b[39m%\u001b[39m \u001b[39mlen\u001b[39m(sorted_population)\n\u001b[1;32m    150\u001b[0m     parents\u001b[39m.\u001b[39mappend(sorted_population[index])\n",
      "\u001b[0;31mKeyboardInterrupt\u001b[0m: "
     ]
    }
   ],
   "source": [
    "# seed for reproducibility\n",
    "np.random.seed(0)\n",
    "\n",
    "# Define the range of values\n",
    "select = ['tournament_selection', 'stochastic_universal_sampling']\n",
    "\n",
    "# Setting previous best parameter as new default value\n",
    "params.update(replace_param)\n",
    "\n",
    "param_list, df = best_operators_search('select', select, params)\n",
    "\n",
    "# Displaying average results of the 100 iterations\n",
    "print('\\033[1mAverage results:', end='\\n')\n",
    "df['const'] = 'const'\n",
    "df_avg = df.groupby('const').mean().reset_index(drop=True).round(3)\n",
    "display(df_avg)\n",
    "\n",
    "# Getting best parameter by fitness & time\n",
    "best_param_fit = df_avg[[col for col in df_avg.columns if col.startswith('Fit_')]].idxmax(axis=1)[0].replace('Fit_', '')\n",
    "best_param_time = df_avg[[col for col in df_avg.columns if col.startswith('Time_')]].idxmin(axis=1)[0].replace('Time_', '')\n",
    "replace_param = {'mut': best_param_fit}\n",
    "print(f'\\nBest Fitness: \\033[1m{best_param_fit}\\033[0m\\n\\nBest Time: \\033[1m{best_param_time}\\033[0m', end='\\n\\n')\n",
    "\n",
    "# Plotting results\n",
    "plot_values(data = df, colors = color_palette[:len(select)], layout=2, template='white', grid=True)"
   ]
  },
  {
   "attachments": {},
   "cell_type": "markdown",
   "metadata": {},
   "source": [
    "### __1.4 Population__"
   ]
  },
  {
   "cell_type": "code",
   "execution_count": null,
   "metadata": {},
   "outputs": [],
   "source": [
    "# seed for reproducibility\n",
    "np.random.seed(0)\n",
    "\n",
    "# Define the range of values\n",
    "#xo = ['single_cross', 'cycle_cross', 'pmx', 'arithmetic_cross']\n",
    "#select = ['tournament_selection', 'stochastic_universal_sampling']\n",
    "#mutation = ['swap_mutation', 'random_mutation', 'inversion_mutation']\n",
    "population = [100, 250, 500, 1000]\n",
    "#generations = [100, 250, 500]\n",
    "#cross_percentage = np.arange(0.8, 0.95, 0.05)\n",
    "#mut_percentage = np.arange(0.01, 0.06, 0.01)\n",
    "\n",
    "# Setting previous best parameter as new default value\n",
    "params.update(replace_param)\n",
    "\n",
    "param_list, df = best_operators_search('pop', population, params)\n",
    "\n",
    "# Displaying average results of the 100 iterations\n",
    "print('\\033[1mAverage results:', end='\\n')\n",
    "df['const'] = 'const'\n",
    "df_avg = df.groupby('const').mean().reset_index(drop=True).round(3)\n",
    "display(df_avg)\n",
    "\n",
    "# Getting best parameter by fitness & time\n",
    "best_param_fit = df_avg[[col for col in df_avg.columns if col.startswith('Fit_')]].idxmax(axis=1)[0].replace('Fit_', '')\n",
    "best_param_time = df_avg[[col for col in df_avg.columns if col.startswith('Time_')]].idxmin(axis=1)[0].replace('Time_', '')\n",
    "replace_param = {'mut': best_param_fit}\n",
    "print(f'\\nBest Fitness: \\033[1m{best_param_fit}\\033[0m\\n\\nBest Time: \\033[1m{best_param_time}\\033[0m', end='\\n\\n')\n",
    "\n",
    "# Plotting results\n",
    "plot_values(data = df, colors = color_palette[:len(population)], layout=2, template='white', grid=True)"
   ]
  },
  {
   "attachments": {},
   "cell_type": "markdown",
   "metadata": {},
   "source": [
    "### __1.5 Generations__"
   ]
  },
  {
   "cell_type": "code",
   "execution_count": null,
   "metadata": {},
   "outputs": [],
   "source": [
    "# seed for reproducibility\n",
    "np.random.seed(0)\n",
    "\n",
    "generations = [100, 250, 500]\n",
    "\n",
    "# Setting previous best parameter as new default value\n",
    "params.update(replace_param)\n",
    "\n",
    "param_list, df = best_operators_search('gen', generations, params)\n",
    "\n",
    "# Displaying average results of the 100 iterations\n",
    "print('\\033[1mAverage results:', end='\\n')\n",
    "df['const'] = 'const'\n",
    "df_avg = df.groupby('const').mean().reset_index(drop=True).round(3)\n",
    "display(df_avg)\n",
    "\n",
    "# Getting best parameter by fitness & time\n",
    "best_param_fit = df_avg[[col for col in df_avg.columns if col.startswith('Fit_')]].idxmax(axis=1)[0].replace('Fit_', '')\n",
    "best_param_time = df_avg[[col for col in df_avg.columns if col.startswith('Time_')]].idxmin(axis=1)[0].replace('Time_', '')\n",
    "replace_param = {'mut': best_param_fit}\n",
    "print(f'\\nBest Fitness: \\033[1m{best_param_fit}\\033[0m\\n\\nBest Time: \\033[1m{best_param_time}\\033[0m', end='\\n\\n')\n",
    "\n",
    "# Plotting results\n",
    "plot_values(data = df, colors = color_palette[:len(population)], layout=2, template='white', grid=True)"
   ]
  },
  {
   "cell_type": "code",
   "execution_count": null,
   "metadata": {},
   "outputs": [],
   "source": []
  },
  {
   "attachments": {},
   "cell_type": "markdown",
   "metadata": {},
   "source": [
    "## __2. Algortihms Comparison__"
   ]
  },
  {
   "cell_type": "code",
   "execution_count": null,
   "metadata": {},
   "outputs": [],
   "source": []
  },
  {
   "attachments": {},
   "cell_type": "markdown",
   "metadata": {},
   "source": [
    "## __3. Results and Discussion__"
   ]
  },
  {
   "cell_type": "code",
   "execution_count": null,
   "metadata": {},
   "outputs": [],
   "source": []
  }
 ],
 "metadata": {
  "kernelspec": {
   "display_name": "CIFO",
   "language": "python",
   "name": "python3"
  },
  "language_info": {
   "codemirror_mode": {
    "name": "ipython",
    "version": 3
   },
   "file_extension": ".py",
   "mimetype": "text/x-python",
   "name": "python",
   "nbconvert_exporter": "python",
   "pygments_lexer": "ipython3",
   "version": "3.11.3"
  },
  "orig_nbformat": 4
 },
 "nbformat": 4,
 "nbformat_minor": 2
}
